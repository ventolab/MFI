{
 "cells": [
  {
   "cell_type": "markdown",
   "id": "pleased-dialogue",
   "metadata": {},
   "source": [
    "# Implementing Louis-Francois' approach to filtering noisy genes (high in ambient RNA)"
   ]
  },
  {
   "cell_type": "code",
   "execution_count": 1,
   "id": "tight-forestry",
   "metadata": {},
   "outputs": [],
   "source": [
    "import glob\n",
    "import numpy as np\n",
    "import scanpy as sc \n",
    "import pandas as pd\n",
    "import matplotlib.pyplot as plt\n",
    "import anndata\n",
    "import seaborn as sns\n",
    "sc.settings.set_figure_params(dpi=80)"
   ]
  },
  {
   "cell_type": "markdown",
   "id": "durable-oxide",
   "metadata": {},
   "source": [
    "### Separately for nuclei and cells, do the following:\n",
    "\n",
    "1. Read in all the `raw_feature_bc_matrix.h5` and `filtered_feature_bc_matrix.h5` files for each sample\n",
    "\n",
    "(currently not doing but consider filtering out droplets with < 5 UMIs)\n",
    "\n",
    "2. Take the dropplets that are in `raw` but are not in `filtered` as empty droplets\n",
    "3. Concatenate all `raw` objects with empty droplets into 1 joint raw object and same for `filtered`\n",
    "4. Add `Soup_probability`, `n_droplets` and `n_cells` into the `.var` of the joint objects\n",
    "5. Look at the scatterplot of `Soup_probability` vs `n_cells` for all genes (1 data point = 1 gene) and decide on a cutoff - 0.5 quantile?\n",
    "6. Save results\n",
    "\n",
    "#### And at the end compare the thresholds - for nuclei should be more, so use that to filter genes in the joint objects of cells and separately nuclei"
   ]
  },
  {
   "cell_type": "code",
   "execution_count": 2,
   "id": "according-riverside",
   "metadata": {},
   "outputs": [],
   "source": [
    "# the sample IDs are separated into groups according to their location\n",
    "\n",
    "samples_P13_sn = ['WSSS_PLA8764121','WSSS_PLA8764122'] # /nfs/team292/aa22/202007_snRNA-seq_MFI/202005_snRNA-seq_cellranger/snRNA_seq_data_MFI_blocks_from_prof_Moffett/\n",
    "\n",
    "samples_P13_sn_paired_Visium = ['WSSS_PLA8810750','WSSS_PLA8810751'] # /nfs/team292/aa22/202007_snRNA-seq_MFI/202006_snRNA-seq_MFI_paired_to_Visium_cellranger/ \n",
    "\n",
    "samples_P13_sn_new = ['Pla_Camb10691970','Pla_Camb10691971'] # /lustre/scratch117/cellgen/team292/aa22/data/sc_sn_RNA-seq_MFI_samples_202109/\n",
    "\n",
    "samples_P13_multiome = ['Pla_Camb10714919','Pla_Camb10714920'] # /lustre/scratch117/cellgen/team292/aa22/data/202107_multiome_MFI/\n",
    "\n",
    "\n",
    "samples_P14_sn_paired_Visium = ['WSSS_PLA8811068','WSSS_PLA8811069','WSSS_PLA8811070'] # /nfs/team292/aa22/202007_snRNA-seq_MFI/202006_snRNA-seq_MFI_paired_to_Visium_cellranger/\n",
    "\n",
    "samples_P14_sn_new = ['Pla_Camb10691972'] # /lustre/scratch117/cellgen/team292/aa22/data/sc_sn_RNA-seq_MFI_samples_202109/\n",
    "\n",
    "samples_P14_multiome = ['Pla_Camb10714918'] # /lustre/scratch117/cellgen/team292/aa22/data/202107_multiome_MFI/\n",
    "\n",
    "samples_Hrv43_sn = ['Pla_HDBR10701666'] # /lustre/scratch117/cellgen/team292/aa22/data/sc_sn_RNA-seq_MFI_samples_202109\n",
    "\n",
    "samples_Hrv43_multiome = ['Pla_HDBR10142863','Pla_HDBR10142864','Pla_HDBR10142865'] # /lustre/scratch117/cellgen/team292/aa22/data/202107_multiome_MFI/\n",
    "\n",
    "samples_P34_sn = ['Pla_Camb10691975'] # /lustre/scratch117/cellgen/team292/aa22/data/sc_sn_RNA-seq_MFI_samples_202109/\n",
    "\n",
    "samples_Vento_sc = ['FCA7167219', 'FCA7167221', 'FCA7167222', 'FCA7167223',\n",
    "       'FCA7167224', 'FCA7167226', 'FCA7167230', 'FCA7167231',\n",
    "       'FCA7167232', 'FCA7196218', 'FCA7196219', 'FCA7196220',\n",
    "       'FCA7196224', 'FCA7196225', 'FCA7196226', 'FCA7196229',\n",
    "       'FCA7196231', 'FCA7474062', 'FCA7474063', 'FCA7474064',\n",
    "       'FCA7474065', 'FCA7474066', 'FCA7474068', 'FCA7474069',\n",
    "       'FCA7511881', 'FCA7511882', 'FCA7511883', 'FCA7511884',\n",
    "       'FCA7511885', 'FCA7511886'] # /nfs/team292/aa22/202006_scRNA-seq_MFI_cellranger/scRNA_seq_Roser_cellranger\n",
    "\n",
    "# samples from Regina and Elias\n",
    "samples_MFI_new_sc_batch_1 = ['Pla_HDBR8624430', 'Pla_HDBR8624431',\n",
    "                      'Pla_HDBR8768477', 'Pla_HDBR8715512', 'Pla_HDBR8715514'] # \n",
    "samples_MFI_new_sc_batch_2 = ['Pla_HDBR10917730', 'Pla_HDBR10917731', 'Pla_HDBR10917733'] # \n",
    "\n",
    "\n",
    "samples_Hrv43_sc = ['Pla_HDBR10142767','Pla_HDBR10142768'] # /lustre/scratch117/cellgen/team292/aa22/data/scRNA-seq_MFI_new_samples_202105/\n",
    "# + 1 extra sample\n",
    "samples_Hrv43_sc_new = ['Pla_HDBR10701667'] # /lustre/scratch117/cellgen/team292/aa22/data/sc_sn_RNA-seq_MFI_samples_202109/\n",
    "\n",
    "samples_Hrv46_sc = ['Pla_HDBR10142769','Pla_HDBR10142770'] # /lustre/scratch117/cellgen/team292/aa22/data/scRNA-seq_MFI_new_samples_202105/\n",
    "# + 1 extra sample\n",
    "samples_Hrv46_sc_new = ['Pla_HDBR10701668'] # /lustre/scratch117/cellgen/team292/aa22/data/sc_sn_RNA-seq_MFI_samples_202109/\n"
   ]
  },
  {
   "cell_type": "code",
   "execution_count": 3,
   "id": "working-collective",
   "metadata": {},
   "outputs": [],
   "source": [
    "samples_sn = samples_P13_sn + samples_P13_sn_paired_Visium + samples_P13_sn_new + samples_P13_multiome + samples_P14_sn_paired_Visium + samples_P14_sn_new + samples_P14_multiome + samples_Hrv43_sn + samples_Hrv43_multiome + samples_P34_sn\n",
    "samples_sc = samples_Vento_sc + samples_MFI_new_sc_batch_1 + samples_MFI_new_sc_batch_2 + samples_Hrv43_sc + samples_Hrv46_sc + samples_Hrv43_sc_new + samples_Hrv46_sc_new\n"
   ]
  },
  {
   "cell_type": "code",
   "execution_count": 4,
   "id": "recent-discrimination",
   "metadata": {
    "collapsed": true,
    "jupyter": {
     "outputs_hidden": true
    },
    "tags": []
   },
   "outputs": [
    {
     "name": "stdout",
     "output_type": "stream",
     "text": [
      "FCA7167219\n"
     ]
    },
    {
     "name": "stderr",
     "output_type": "stream",
     "text": [
      "Variable names are not unique. To make them unique, call `.var_names_make_unique`.\n",
      "Variable names are not unique. To make them unique, call `.var_names_make_unique`.\n",
      "Variable names are not unique. To make them unique, call `.var_names_make_unique`.\n",
      "Variable names are not unique. To make them unique, call `.var_names_make_unique`.\n",
      "Variable names are not unique. To make them unique, call `.var_names_make_unique`.\n",
      "Variable names are not unique. To make them unique, call `.var_names_make_unique`.\n"
     ]
    },
    {
     "name": "stdout",
     "output_type": "stream",
     "text": [
      "/nfs/team292/aa22/202006_scRNA-seq_MFI_cellranger/scRNA_seq_Roser_cellranger/cellranger302_count_FCA7167219_GRCh38-3_0_0/filtered_feature_bc_matrix.h5\n",
      "FCA7167221\n",
      "/nfs/team292/aa22/202006_scRNA-seq_MFI_cellranger/scRNA_seq_Roser_cellranger/cellranger302_count_FCA7167221_GRCh38-3_0_0/filtered_feature_bc_matrix.h5\n"
     ]
    },
    {
     "name": "stderr",
     "output_type": "stream",
     "text": [
      "Variable names are not unique. To make them unique, call `.var_names_make_unique`.\n",
      "Variable names are not unique. To make them unique, call `.var_names_make_unique`.\n",
      "Variable names are not unique. To make them unique, call `.var_names_make_unique`.\n",
      "Variable names are not unique. To make them unique, call `.var_names_make_unique`.\n",
      "Variable names are not unique. To make them unique, call `.var_names_make_unique`.\n",
      "Variable names are not unique. To make them unique, call `.var_names_make_unique`.\n"
     ]
    },
    {
     "name": "stdout",
     "output_type": "stream",
     "text": [
      "FCA7167222\n",
      "/nfs/team292/aa22/202006_scRNA-seq_MFI_cellranger/scRNA_seq_Roser_cellranger/cellranger302_count_FCA7167222_GRCh38-3_0_0/filtered_feature_bc_matrix.h5\n"
     ]
    },
    {
     "name": "stderr",
     "output_type": "stream",
     "text": [
      "Variable names are not unique. To make them unique, call `.var_names_make_unique`.\n",
      "Variable names are not unique. To make them unique, call `.var_names_make_unique`.\n",
      "Variable names are not unique. To make them unique, call `.var_names_make_unique`.\n",
      "Variable names are not unique. To make them unique, call `.var_names_make_unique`.\n",
      "Variable names are not unique. To make them unique, call `.var_names_make_unique`.\n",
      "Variable names are not unique. To make them unique, call `.var_names_make_unique`.\n"
     ]
    },
    {
     "name": "stdout",
     "output_type": "stream",
     "text": [
      "FCA7167223\n",
      "/nfs/team292/aa22/202006_scRNA-seq_MFI_cellranger/scRNA_seq_Roser_cellranger/cellranger302_count_FCA7167223_GRCh38-3_0_0/filtered_feature_bc_matrix.h5\n"
     ]
    },
    {
     "name": "stderr",
     "output_type": "stream",
     "text": [
      "Variable names are not unique. To make them unique, call `.var_names_make_unique`.\n",
      "Variable names are not unique. To make them unique, call `.var_names_make_unique`.\n",
      "Variable names are not unique. To make them unique, call `.var_names_make_unique`.\n",
      "Variable names are not unique. To make them unique, call `.var_names_make_unique`.\n",
      "Variable names are not unique. To make them unique, call `.var_names_make_unique`.\n",
      "Variable names are not unique. To make them unique, call `.var_names_make_unique`.\n"
     ]
    },
    {
     "name": "stdout",
     "output_type": "stream",
     "text": [
      "FCA7167224\n",
      "/nfs/team292/aa22/202006_scRNA-seq_MFI_cellranger/scRNA_seq_Roser_cellranger/cellranger302_count_FCA7167224_GRCh38-3_0_0/filtered_feature_bc_matrix.h5\n"
     ]
    },
    {
     "name": "stderr",
     "output_type": "stream",
     "text": [
      "Variable names are not unique. To make them unique, call `.var_names_make_unique`.\n",
      "Variable names are not unique. To make them unique, call `.var_names_make_unique`.\n",
      "Variable names are not unique. To make them unique, call `.var_names_make_unique`.\n",
      "Variable names are not unique. To make them unique, call `.var_names_make_unique`.\n",
      "Variable names are not unique. To make them unique, call `.var_names_make_unique`.\n",
      "Variable names are not unique. To make them unique, call `.var_names_make_unique`.\n"
     ]
    },
    {
     "name": "stdout",
     "output_type": "stream",
     "text": [
      "FCA7167226\n",
      "/nfs/team292/aa22/202006_scRNA-seq_MFI_cellranger/scRNA_seq_Roser_cellranger/cellranger302_count_FCA7167226_GRCh38-3_0_0/filtered_feature_bc_matrix.h5\n"
     ]
    },
    {
     "name": "stderr",
     "output_type": "stream",
     "text": [
      "Variable names are not unique. To make them unique, call `.var_names_make_unique`.\n",
      "Variable names are not unique. To make them unique, call `.var_names_make_unique`.\n",
      "Variable names are not unique. To make them unique, call `.var_names_make_unique`.\n",
      "Variable names are not unique. To make them unique, call `.var_names_make_unique`.\n",
      "Variable names are not unique. To make them unique, call `.var_names_make_unique`.\n",
      "Variable names are not unique. To make them unique, call `.var_names_make_unique`.\n",
      "Variable names are not unique. To make them unique, call `.var_names_make_unique`.\n",
      "Variable names are not unique. To make them unique, call `.var_names_make_unique`.\n",
      "Variable names are not unique. To make them unique, call `.var_names_make_unique`.\n",
      "Variable names are not unique. To make them unique, call `.var_names_make_unique`.\n",
      "Variable names are not unique. To make them unique, call `.var_names_make_unique`.\n",
      "Variable names are not unique. To make them unique, call `.var_names_make_unique`.\n"
     ]
    },
    {
     "name": "stdout",
     "output_type": "stream",
     "text": [
      "FCA7167230\n",
      "/nfs/team292/aa22/202006_scRNA-seq_MFI_cellranger/scRNA_seq_Roser_cellranger/cellranger302_count_FCA7167230_GRCh38-3_0_0/filtered_feature_bc_matrix.h5\n",
      "FCA7167231\n",
      "/nfs/team292/aa22/202006_scRNA-seq_MFI_cellranger/scRNA_seq_Roser_cellranger/cellranger302_count_FCA7167231_GRCh38-3_0_0/filtered_feature_bc_matrix.h5\n"
     ]
    },
    {
     "name": "stderr",
     "output_type": "stream",
     "text": [
      "Variable names are not unique. To make them unique, call `.var_names_make_unique`.\n",
      "Variable names are not unique. To make them unique, call `.var_names_make_unique`.\n",
      "Variable names are not unique. To make them unique, call `.var_names_make_unique`.\n",
      "Variable names are not unique. To make them unique, call `.var_names_make_unique`.\n",
      "Variable names are not unique. To make them unique, call `.var_names_make_unique`.\n",
      "Variable names are not unique. To make them unique, call `.var_names_make_unique`.\n",
      "Variable names are not unique. To make them unique, call `.var_names_make_unique`.\n",
      "Variable names are not unique. To make them unique, call `.var_names_make_unique`.\n"
     ]
    },
    {
     "name": "stdout",
     "output_type": "stream",
     "text": [
      "FCA7167232\n",
      "/nfs/team292/aa22/202006_scRNA-seq_MFI_cellranger/scRNA_seq_Roser_cellranger/cellranger302_count_FCA7167232_GRCh38-3_0_0/filtered_feature_bc_matrix.h5\n"
     ]
    },
    {
     "name": "stderr",
     "output_type": "stream",
     "text": [
      "Variable names are not unique. To make them unique, call `.var_names_make_unique`.\n",
      "Variable names are not unique. To make them unique, call `.var_names_make_unique`.\n",
      "Variable names are not unique. To make them unique, call `.var_names_make_unique`.\n",
      "Variable names are not unique. To make them unique, call `.var_names_make_unique`.\n"
     ]
    },
    {
     "name": "stdout",
     "output_type": "stream",
     "text": [
      "FCA7196218\n",
      "/nfs/team292/aa22/202006_scRNA-seq_MFI_cellranger/scRNA_seq_Roser_cellranger/cellranger302_count_24614_FCA7196218_GRCh38-3_0_0/filtered_feature_bc_matrix.h5\n"
     ]
    },
    {
     "name": "stderr",
     "output_type": "stream",
     "text": [
      "Variable names are not unique. To make them unique, call `.var_names_make_unique`.\n",
      "Variable names are not unique. To make them unique, call `.var_names_make_unique`.\n",
      "Variable names are not unique. To make them unique, call `.var_names_make_unique`.\n",
      "Variable names are not unique. To make them unique, call `.var_names_make_unique`.\n",
      "Variable names are not unique. To make them unique, call `.var_names_make_unique`.\n",
      "Variable names are not unique. To make them unique, call `.var_names_make_unique`.\n"
     ]
    },
    {
     "name": "stdout",
     "output_type": "stream",
     "text": [
      "FCA7196219\n",
      "/nfs/team292/aa22/202006_scRNA-seq_MFI_cellranger/scRNA_seq_Roser_cellranger/cellranger302_count_24614_FCA7196219_GRCh38-3_0_0/filtered_feature_bc_matrix.h5\n"
     ]
    },
    {
     "name": "stderr",
     "output_type": "stream",
     "text": [
      "Variable names are not unique. To make them unique, call `.var_names_make_unique`.\n",
      "Variable names are not unique. To make them unique, call `.var_names_make_unique`.\n",
      "Variable names are not unique. To make them unique, call `.var_names_make_unique`.\n",
      "Variable names are not unique. To make them unique, call `.var_names_make_unique`.\n",
      "Variable names are not unique. To make them unique, call `.var_names_make_unique`.\n",
      "Variable names are not unique. To make them unique, call `.var_names_make_unique`.\n"
     ]
    },
    {
     "name": "stdout",
     "output_type": "stream",
     "text": [
      "FCA7196220\n",
      "/nfs/team292/aa22/202006_scRNA-seq_MFI_cellranger/scRNA_seq_Roser_cellranger/cellranger302_count_24614_FCA7196220_GRCh38-3_0_0/filtered_feature_bc_matrix.h5\n"
     ]
    },
    {
     "name": "stderr",
     "output_type": "stream",
     "text": [
      "Variable names are not unique. To make them unique, call `.var_names_make_unique`.\n",
      "Variable names are not unique. To make them unique, call `.var_names_make_unique`.\n",
      "Variable names are not unique. To make them unique, call `.var_names_make_unique`.\n",
      "Variable names are not unique. To make them unique, call `.var_names_make_unique`.\n",
      "Variable names are not unique. To make them unique, call `.var_names_make_unique`.\n",
      "Variable names are not unique. To make them unique, call `.var_names_make_unique`.\n"
     ]
    },
    {
     "name": "stdout",
     "output_type": "stream",
     "text": [
      "FCA7196224\n",
      "/nfs/team292/aa22/202006_scRNA-seq_MFI_cellranger/scRNA_seq_Roser_cellranger/cellranger302_count_24647_FCA7196224_GRCh38-3_0_0/filtered_feature_bc_matrix.h5\n"
     ]
    },
    {
     "name": "stderr",
     "output_type": "stream",
     "text": [
      "Variable names are not unique. To make them unique, call `.var_names_make_unique`.\n",
      "Variable names are not unique. To make them unique, call `.var_names_make_unique`.\n",
      "Variable names are not unique. To make them unique, call `.var_names_make_unique`.\n",
      "Variable names are not unique. To make them unique, call `.var_names_make_unique`.\n",
      "Variable names are not unique. To make them unique, call `.var_names_make_unique`.\n",
      "Variable names are not unique. To make them unique, call `.var_names_make_unique`.\n"
     ]
    },
    {
     "name": "stdout",
     "output_type": "stream",
     "text": [
      "FCA7196225\n",
      "/nfs/team292/aa22/202006_scRNA-seq_MFI_cellranger/scRNA_seq_Roser_cellranger/cellranger302_count_24647_FCA7196225_GRCh38-3_0_0/filtered_feature_bc_matrix.h5\n"
     ]
    },
    {
     "name": "stderr",
     "output_type": "stream",
     "text": [
      "Variable names are not unique. To make them unique, call `.var_names_make_unique`.\n",
      "Variable names are not unique. To make them unique, call `.var_names_make_unique`.\n",
      "Variable names are not unique. To make them unique, call `.var_names_make_unique`.\n",
      "Variable names are not unique. To make them unique, call `.var_names_make_unique`.\n",
      "Variable names are not unique. To make them unique, call `.var_names_make_unique`.\n",
      "Variable names are not unique. To make them unique, call `.var_names_make_unique`.\n"
     ]
    },
    {
     "name": "stdout",
     "output_type": "stream",
     "text": [
      "FCA7196226\n",
      "/nfs/team292/aa22/202006_scRNA-seq_MFI_cellranger/scRNA_seq_Roser_cellranger/cellranger302_count_24647_FCA7196226_GRCh38-3_0_0/filtered_feature_bc_matrix.h5\n"
     ]
    },
    {
     "name": "stderr",
     "output_type": "stream",
     "text": [
      "Variable names are not unique. To make them unique, call `.var_names_make_unique`.\n",
      "Variable names are not unique. To make them unique, call `.var_names_make_unique`.\n",
      "Variable names are not unique. To make them unique, call `.var_names_make_unique`.\n",
      "Variable names are not unique. To make them unique, call `.var_names_make_unique`.\n",
      "Variable names are not unique. To make them unique, call `.var_names_make_unique`.\n",
      "Variable names are not unique. To make them unique, call `.var_names_make_unique`.\n"
     ]
    },
    {
     "name": "stdout",
     "output_type": "stream",
     "text": [
      "FCA7196229\n",
      "/nfs/team292/aa22/202006_scRNA-seq_MFI_cellranger/scRNA_seq_Roser_cellranger/cellranger302_count_24647_FCA7196229_GRCh38-3_0_0/filtered_feature_bc_matrix.h5\n"
     ]
    },
    {
     "name": "stderr",
     "output_type": "stream",
     "text": [
      "Variable names are not unique. To make them unique, call `.var_names_make_unique`.\n",
      "Variable names are not unique. To make them unique, call `.var_names_make_unique`.\n",
      "Variable names are not unique. To make them unique, call `.var_names_make_unique`.\n",
      "Variable names are not unique. To make them unique, call `.var_names_make_unique`.\n",
      "Variable names are not unique. To make them unique, call `.var_names_make_unique`.\n",
      "Variable names are not unique. To make them unique, call `.var_names_make_unique`.\n"
     ]
    },
    {
     "name": "stdout",
     "output_type": "stream",
     "text": [
      "FCA7196231\n",
      "/nfs/team292/aa22/202006_scRNA-seq_MFI_cellranger/scRNA_seq_Roser_cellranger/cellranger302_count_24616_FCA7196231_GRCh38-3_0_0/filtered_feature_bc_matrix.h5\n"
     ]
    },
    {
     "name": "stderr",
     "output_type": "stream",
     "text": [
      "Variable names are not unique. To make them unique, call `.var_names_make_unique`.\n",
      "Variable names are not unique. To make them unique, call `.var_names_make_unique`.\n",
      "Variable names are not unique. To make them unique, call `.var_names_make_unique`.\n",
      "Variable names are not unique. To make them unique, call `.var_names_make_unique`.\n",
      "Variable names are not unique. To make them unique, call `.var_names_make_unique`.\n",
      "Variable names are not unique. To make them unique, call `.var_names_make_unique`.\n"
     ]
    },
    {
     "name": "stdout",
     "output_type": "stream",
     "text": [
      "FCA7474062\n",
      "/nfs/team292/aa22/202006_scRNA-seq_MFI_cellranger/scRNA_seq_Roser_cellranger/cellranger302_count_25892_FCA7474062_GRCh38-3_0_0/filtered_feature_bc_matrix.h5\n"
     ]
    },
    {
     "name": "stderr",
     "output_type": "stream",
     "text": [
      "Variable names are not unique. To make them unique, call `.var_names_make_unique`.\n",
      "Variable names are not unique. To make them unique, call `.var_names_make_unique`.\n",
      "Variable names are not unique. To make them unique, call `.var_names_make_unique`.\n",
      "Variable names are not unique. To make them unique, call `.var_names_make_unique`.\n",
      "Variable names are not unique. To make them unique, call `.var_names_make_unique`.\n",
      "Variable names are not unique. To make them unique, call `.var_names_make_unique`.\n"
     ]
    },
    {
     "name": "stdout",
     "output_type": "stream",
     "text": [
      "FCA7474063\n",
      "/nfs/team292/aa22/202006_scRNA-seq_MFI_cellranger/scRNA_seq_Roser_cellranger/cellranger302_count_25892_FCA7474063_GRCh38-3_0_0/filtered_feature_bc_matrix.h5\n"
     ]
    },
    {
     "name": "stderr",
     "output_type": "stream",
     "text": [
      "Variable names are not unique. To make them unique, call `.var_names_make_unique`.\n",
      "Variable names are not unique. To make them unique, call `.var_names_make_unique`.\n",
      "Variable names are not unique. To make them unique, call `.var_names_make_unique`.\n",
      "Variable names are not unique. To make them unique, call `.var_names_make_unique`.\n",
      "Variable names are not unique. To make them unique, call `.var_names_make_unique`.\n",
      "Variable names are not unique. To make them unique, call `.var_names_make_unique`.\n"
     ]
    },
    {
     "name": "stdout",
     "output_type": "stream",
     "text": [
      "FCA7474064\n",
      "/nfs/team292/aa22/202006_scRNA-seq_MFI_cellranger/scRNA_seq_Roser_cellranger/cellranger302_count_25892_FCA7474064_GRCh38-3_0_0/filtered_feature_bc_matrix.h5\n"
     ]
    },
    {
     "name": "stderr",
     "output_type": "stream",
     "text": [
      "Variable names are not unique. To make them unique, call `.var_names_make_unique`.\n",
      "Variable names are not unique. To make them unique, call `.var_names_make_unique`.\n",
      "Variable names are not unique. To make them unique, call `.var_names_make_unique`.\n",
      "Variable names are not unique. To make them unique, call `.var_names_make_unique`.\n",
      "Variable names are not unique. To make them unique, call `.var_names_make_unique`.\n",
      "Variable names are not unique. To make them unique, call `.var_names_make_unique`.\n"
     ]
    },
    {
     "name": "stdout",
     "output_type": "stream",
     "text": [
      "FCA7474065\n",
      "/nfs/team292/aa22/202006_scRNA-seq_MFI_cellranger/scRNA_seq_Roser_cellranger/cellranger302_count_25892_FCA7474065_GRCh38-3_0_0/filtered_feature_bc_matrix.h5\n"
     ]
    },
    {
     "name": "stderr",
     "output_type": "stream",
     "text": [
      "Variable names are not unique. To make them unique, call `.var_names_make_unique`.\n",
      "Variable names are not unique. To make them unique, call `.var_names_make_unique`.\n",
      "Variable names are not unique. To make them unique, call `.var_names_make_unique`.\n",
      "Variable names are not unique. To make them unique, call `.var_names_make_unique`.\n",
      "Variable names are not unique. To make them unique, call `.var_names_make_unique`.\n",
      "Variable names are not unique. To make them unique, call `.var_names_make_unique`.\n"
     ]
    },
    {
     "name": "stdout",
     "output_type": "stream",
     "text": [
      "FCA7474066\n",
      "/nfs/team292/aa22/202006_scRNA-seq_MFI_cellranger/scRNA_seq_Roser_cellranger/cellranger302_count_25891_FCA7474066_GRCh38-3_0_0/filtered_feature_bc_matrix.h5\n"
     ]
    },
    {
     "name": "stderr",
     "output_type": "stream",
     "text": [
      "Variable names are not unique. To make them unique, call `.var_names_make_unique`.\n",
      "Variable names are not unique. To make them unique, call `.var_names_make_unique`.\n",
      "Variable names are not unique. To make them unique, call `.var_names_make_unique`.\n",
      "Variable names are not unique. To make them unique, call `.var_names_make_unique`.\n",
      "Variable names are not unique. To make them unique, call `.var_names_make_unique`.\n",
      "Variable names are not unique. To make them unique, call `.var_names_make_unique`.\n"
     ]
    },
    {
     "name": "stdout",
     "output_type": "stream",
     "text": [
      "FCA7474068\n",
      "/nfs/team292/aa22/202006_scRNA-seq_MFI_cellranger/scRNA_seq_Roser_cellranger/cellranger302_count_25891_FCA7474068_GRCh38-3_0_0/filtered_feature_bc_matrix.h5\n"
     ]
    },
    {
     "name": "stderr",
     "output_type": "stream",
     "text": [
      "Variable names are not unique. To make them unique, call `.var_names_make_unique`.\n",
      "Variable names are not unique. To make them unique, call `.var_names_make_unique`.\n",
      "Variable names are not unique. To make them unique, call `.var_names_make_unique`.\n",
      "Variable names are not unique. To make them unique, call `.var_names_make_unique`.\n",
      "Variable names are not unique. To make them unique, call `.var_names_make_unique`.\n",
      "Variable names are not unique. To make them unique, call `.var_names_make_unique`.\n",
      "Variable names are not unique. To make them unique, call `.var_names_make_unique`.\n",
      "Variable names are not unique. To make them unique, call `.var_names_make_unique`.\n",
      "Variable names are not unique. To make them unique, call `.var_names_make_unique`.\n",
      "Variable names are not unique. To make them unique, call `.var_names_make_unique`.\n",
      "Variable names are not unique. To make them unique, call `.var_names_make_unique`.\n",
      "Variable names are not unique. To make them unique, call `.var_names_make_unique`.\n"
     ]
    },
    {
     "name": "stdout",
     "output_type": "stream",
     "text": [
      "FCA7474069\n",
      "/nfs/team292/aa22/202006_scRNA-seq_MFI_cellranger/scRNA_seq_Roser_cellranger/cellranger302_count_25891_FCA7474069_GRCh38-3_0_0/filtered_feature_bc_matrix.h5\n",
      "FCA7511881\n",
      "/nfs/team292/aa22/202006_scRNA-seq_MFI_cellranger/scRNA_seq_Roser_cellranger/cellranger302_count_25991_FCA7511881_GRCh38-3_0_0/filtered_feature_bc_matrix.h5\n"
     ]
    },
    {
     "name": "stderr",
     "output_type": "stream",
     "text": [
      "Variable names are not unique. To make them unique, call `.var_names_make_unique`.\n",
      "Variable names are not unique. To make them unique, call `.var_names_make_unique`.\n",
      "Variable names are not unique. To make them unique, call `.var_names_make_unique`.\n",
      "Variable names are not unique. To make them unique, call `.var_names_make_unique`.\n",
      "Variable names are not unique. To make them unique, call `.var_names_make_unique`.\n",
      "Variable names are not unique. To make them unique, call `.var_names_make_unique`.\n"
     ]
    },
    {
     "name": "stdout",
     "output_type": "stream",
     "text": [
      "FCA7511882\n",
      "/nfs/team292/aa22/202006_scRNA-seq_MFI_cellranger/scRNA_seq_Roser_cellranger/cellranger302_count_25991_FCA7511882_GRCh38-3_0_0/filtered_feature_bc_matrix.h5\n"
     ]
    },
    {
     "name": "stderr",
     "output_type": "stream",
     "text": [
      "Variable names are not unique. To make them unique, call `.var_names_make_unique`.\n",
      "Variable names are not unique. To make them unique, call `.var_names_make_unique`.\n",
      "Variable names are not unique. To make them unique, call `.var_names_make_unique`.\n",
      "Variable names are not unique. To make them unique, call `.var_names_make_unique`.\n",
      "Variable names are not unique. To make them unique, call `.var_names_make_unique`.\n",
      "Variable names are not unique. To make them unique, call `.var_names_make_unique`.\n",
      "Variable names are not unique. To make them unique, call `.var_names_make_unique`.\n",
      "Variable names are not unique. To make them unique, call `.var_names_make_unique`.\n",
      "Variable names are not unique. To make them unique, call `.var_names_make_unique`.\n",
      "Variable names are not unique. To make them unique, call `.var_names_make_unique`.\n",
      "Variable names are not unique. To make them unique, call `.var_names_make_unique`.\n",
      "Variable names are not unique. To make them unique, call `.var_names_make_unique`.\n"
     ]
    },
    {
     "name": "stdout",
     "output_type": "stream",
     "text": [
      "FCA7511883\n",
      "/nfs/team292/aa22/202006_scRNA-seq_MFI_cellranger/scRNA_seq_Roser_cellranger/cellranger302_count_25991_FCA7511883_GRCh38-3_0_0/filtered_feature_bc_matrix.h5\n",
      "FCA7511884\n",
      "/nfs/team292/aa22/202006_scRNA-seq_MFI_cellranger/scRNA_seq_Roser_cellranger/cellranger302_count_25991_FCA7511884_GRCh38-3_0_0/filtered_feature_bc_matrix.h5\n"
     ]
    },
    {
     "name": "stderr",
     "output_type": "stream",
     "text": [
      "Variable names are not unique. To make them unique, call `.var_names_make_unique`.\n",
      "Variable names are not unique. To make them unique, call `.var_names_make_unique`.\n",
      "Variable names are not unique. To make them unique, call `.var_names_make_unique`.\n",
      "Variable names are not unique. To make them unique, call `.var_names_make_unique`.\n",
      "Variable names are not unique. To make them unique, call `.var_names_make_unique`.\n",
      "Variable names are not unique. To make them unique, call `.var_names_make_unique`.\n"
     ]
    },
    {
     "name": "stdout",
     "output_type": "stream",
     "text": [
      "FCA7511885\n",
      "/nfs/team292/aa22/202006_scRNA-seq_MFI_cellranger/scRNA_seq_Roser_cellranger/cellranger302_count_25991_FCA7511885_GRCh38-3_0_0/filtered_feature_bc_matrix.h5\n"
     ]
    },
    {
     "name": "stderr",
     "output_type": "stream",
     "text": [
      "Variable names are not unique. To make them unique, call `.var_names_make_unique`.\n",
      "Variable names are not unique. To make them unique, call `.var_names_make_unique`.\n",
      "Variable names are not unique. To make them unique, call `.var_names_make_unique`.\n",
      "Variable names are not unique. To make them unique, call `.var_names_make_unique`.\n",
      "Variable names are not unique. To make them unique, call `.var_names_make_unique`.\n",
      "Variable names are not unique. To make them unique, call `.var_names_make_unique`.\n"
     ]
    },
    {
     "name": "stdout",
     "output_type": "stream",
     "text": [
      "FCA7511886\n",
      "/nfs/team292/aa22/202006_scRNA-seq_MFI_cellranger/scRNA_seq_Roser_cellranger/cellranger302_count_25991_FCA7511886_GRCh38-3_0_0/filtered_feature_bc_matrix.h5\n"
     ]
    },
    {
     "name": "stderr",
     "output_type": "stream",
     "text": [
      "Variable names are not unique. To make them unique, call `.var_names_make_unique`.\n",
      "Variable names are not unique. To make them unique, call `.var_names_make_unique`.\n",
      "Variable names are not unique. To make them unique, call `.var_names_make_unique`.\n",
      "Variable names are not unique. To make them unique, call `.var_names_make_unique`.\n",
      "Variable names are not unique. To make them unique, call `.var_names_make_unique`.\n",
      "Variable names are not unique. To make them unique, call `.var_names_make_unique`.\n"
     ]
    },
    {
     "name": "stdout",
     "output_type": "stream",
     "text": [
      "Pla_HDBR8624430\n",
      "/lustre/scratch117/cellgen/team292/aa22/data/scRNA-seq_MFI_from_Regina/cellranger302_count_32361_Pla_HDBR8624430_GRCh38-3_0_0/filtered_feature_bc_matrix.h5\n"
     ]
    },
    {
     "name": "stderr",
     "output_type": "stream",
     "text": [
      "Variable names are not unique. To make them unique, call `.var_names_make_unique`.\n",
      "Variable names are not unique. To make them unique, call `.var_names_make_unique`.\n",
      "Variable names are not unique. To make them unique, call `.var_names_make_unique`.\n",
      "Variable names are not unique. To make them unique, call `.var_names_make_unique`.\n",
      "Variable names are not unique. To make them unique, call `.var_names_make_unique`.\n",
      "Variable names are not unique. To make them unique, call `.var_names_make_unique`.\n"
     ]
    },
    {
     "name": "stdout",
     "output_type": "stream",
     "text": [
      "Pla_HDBR8624431\n",
      "/lustre/scratch117/cellgen/team292/aa22/data/scRNA-seq_MFI_from_Regina/cellranger302_count_32361_Pla_HDBR8624431_GRCh38-3_0_0/filtered_feature_bc_matrix.h5\n"
     ]
    },
    {
     "name": "stderr",
     "output_type": "stream",
     "text": [
      "Variable names are not unique. To make them unique, call `.var_names_make_unique`.\n",
      "Variable names are not unique. To make them unique, call `.var_names_make_unique`.\n",
      "Variable names are not unique. To make them unique, call `.var_names_make_unique`.\n",
      "Variable names are not unique. To make them unique, call `.var_names_make_unique`.\n",
      "Variable names are not unique. To make them unique, call `.var_names_make_unique`.\n",
      "Variable names are not unique. To make them unique, call `.var_names_make_unique`.\n",
      "Variable names are not unique. To make them unique, call `.var_names_make_unique`.\n"
     ]
    },
    {
     "name": "stdout",
     "output_type": "stream",
     "text": [
      "Pla_HDBR8768477\n",
      "/lustre/scratch117/cellgen/team292/aa22/data/scRNA-seq_MFI_from_Regina/cellranger302_count_33655_Pla_HDBR8768477_GRCh38-3_0_0/filtered_feature_bc_matrix.h5\n"
     ]
    },
    {
     "name": "stderr",
     "output_type": "stream",
     "text": [
      "Variable names are not unique. To make them unique, call `.var_names_make_unique`.\n",
      "Variable names are not unique. To make them unique, call `.var_names_make_unique`.\n",
      "Variable names are not unique. To make them unique, call `.var_names_make_unique`.\n",
      "Variable names are not unique. To make them unique, call `.var_names_make_unique`.\n",
      "Variable names are not unique. To make them unique, call `.var_names_make_unique`.\n",
      "Variable names are not unique. To make them unique, call `.var_names_make_unique`.\n",
      "Variable names are not unique. To make them unique, call `.var_names_make_unique`.\n",
      "Variable names are not unique. To make them unique, call `.var_names_make_unique`.\n",
      "Variable names are not unique. To make them unique, call `.var_names_make_unique`.\n",
      "Variable names are not unique. To make them unique, call `.var_names_make_unique`.\n",
      "Variable names are not unique. To make them unique, call `.var_names_make_unique`.\n"
     ]
    },
    {
     "name": "stdout",
     "output_type": "stream",
     "text": [
      "Pla_HDBR8715512\n",
      "/lustre/scratch117/cellgen/team292/aa22/data/scRNA-seq_MFI_from_Regina/cellranger302_count_33120_Pla_HDBR8715512_GRCh38-3_0_0/filtered_feature_bc_matrix.h5\n",
      "Pla_HDBR8715514\n",
      "/lustre/scratch117/cellgen/team292/aa22/data/scRNA-seq_MFI_from_Regina/cellranger302_count_33120_Pla_HDBR8715514_GRCh38-3_0_0/filtered_feature_bc_matrix.h5\n"
     ]
    },
    {
     "name": "stderr",
     "output_type": "stream",
     "text": [
      "Variable names are not unique. To make them unique, call `.var_names_make_unique`.\n",
      "Variable names are not unique. To make them unique, call `.var_names_make_unique`.\n",
      "Variable names are not unique. To make them unique, call `.var_names_make_unique`.\n",
      "Variable names are not unique. To make them unique, call `.var_names_make_unique`.\n",
      "Variable names are not unique. To make them unique, call `.var_names_make_unique`.\n",
      "Variable names are not unique. To make them unique, call `.var_names_make_unique`.\n"
     ]
    },
    {
     "name": "stdout",
     "output_type": "stream",
     "text": [
      "Pla_HDBR10917730\n",
      "/lustre/scratch117/cellgen/team292/aa22/data/scRNA-seq_MFI_from_Regina/cellranger302_count_40812_Pla_HDBR10917730_GRCh38-3_0_0/filtered_feature_bc_matrix.h5\n"
     ]
    },
    {
     "name": "stderr",
     "output_type": "stream",
     "text": [
      "Variable names are not unique. To make them unique, call `.var_names_make_unique`.\n",
      "Variable names are not unique. To make them unique, call `.var_names_make_unique`.\n",
      "Variable names are not unique. To make them unique, call `.var_names_make_unique`.\n",
      "Variable names are not unique. To make them unique, call `.var_names_make_unique`.\n",
      "Variable names are not unique. To make them unique, call `.var_names_make_unique`.\n",
      "Variable names are not unique. To make them unique, call `.var_names_make_unique`.\n"
     ]
    },
    {
     "name": "stdout",
     "output_type": "stream",
     "text": [
      "Pla_HDBR10917731\n",
      "/lustre/scratch117/cellgen/team292/aa22/data/scRNA-seq_MFI_from_Regina/cellranger302_count_40812_Pla_HDBR10917731_GRCh38-3_0_0/filtered_feature_bc_matrix.h5\n"
     ]
    },
    {
     "name": "stderr",
     "output_type": "stream",
     "text": [
      "Variable names are not unique. To make them unique, call `.var_names_make_unique`.\n",
      "Variable names are not unique. To make them unique, call `.var_names_make_unique`.\n",
      "Variable names are not unique. To make them unique, call `.var_names_make_unique`.\n",
      "Variable names are not unique. To make them unique, call `.var_names_make_unique`.\n",
      "Variable names are not unique. To make them unique, call `.var_names_make_unique`.\n",
      "Variable names are not unique. To make them unique, call `.var_names_make_unique`.\n"
     ]
    },
    {
     "name": "stdout",
     "output_type": "stream",
     "text": [
      "Pla_HDBR10917733\n",
      "/lustre/scratch117/cellgen/team292/aa22/data/scRNA-seq_MFI_from_Regina/cellranger302_count_40812_Pla_HDBR10917733_GRCh38-3_0_0/filtered_feature_bc_matrix.h5\n"
     ]
    },
    {
     "name": "stderr",
     "output_type": "stream",
     "text": [
      "Variable names are not unique. To make them unique, call `.var_names_make_unique`.\n",
      "Variable names are not unique. To make them unique, call `.var_names_make_unique`.\n",
      "Variable names are not unique. To make them unique, call `.var_names_make_unique`.\n",
      "Variable names are not unique. To make them unique, call `.var_names_make_unique`.\n",
      "Variable names are not unique. To make them unique, call `.var_names_make_unique`.\n",
      "Variable names are not unique. To make them unique, call `.var_names_make_unique`.\n"
     ]
    },
    {
     "name": "stdout",
     "output_type": "stream",
     "text": [
      "Pla_HDBR10142767\n",
      "/lustre/scratch117/cellgen/team292/aa22/data/scRNA-seq_MFI_new_samples_202105/cellranger302_count_37879_Pla_HDBR10142767_GRCh38-3_0_0/filtered_feature_bc_matrix.h5\n"
     ]
    },
    {
     "name": "stderr",
     "output_type": "stream",
     "text": [
      "Variable names are not unique. To make them unique, call `.var_names_make_unique`.\n",
      "Variable names are not unique. To make them unique, call `.var_names_make_unique`.\n",
      "Variable names are not unique. To make them unique, call `.var_names_make_unique`.\n",
      "Variable names are not unique. To make them unique, call `.var_names_make_unique`.\n",
      "Variable names are not unique. To make them unique, call `.var_names_make_unique`.\n",
      "Variable names are not unique. To make them unique, call `.var_names_make_unique`.\n"
     ]
    },
    {
     "name": "stdout",
     "output_type": "stream",
     "text": [
      "Pla_HDBR10142768\n",
      "/lustre/scratch117/cellgen/team292/aa22/data/scRNA-seq_MFI_new_samples_202105/cellranger302_count_37879_Pla_HDBR10142768_GRCh38-3_0_0/filtered_feature_bc_matrix.h5\n"
     ]
    },
    {
     "name": "stderr",
     "output_type": "stream",
     "text": [
      "Variable names are not unique. To make them unique, call `.var_names_make_unique`.\n",
      "Variable names are not unique. To make them unique, call `.var_names_make_unique`.\n",
      "Variable names are not unique. To make them unique, call `.var_names_make_unique`.\n",
      "Variable names are not unique. To make them unique, call `.var_names_make_unique`.\n",
      "Variable names are not unique. To make them unique, call `.var_names_make_unique`.\n",
      "Variable names are not unique. To make them unique, call `.var_names_make_unique`.\n"
     ]
    },
    {
     "name": "stdout",
     "output_type": "stream",
     "text": [
      "Pla_HDBR10142769\n",
      "/lustre/scratch117/cellgen/team292/aa22/data/scRNA-seq_MFI_new_samples_202105/cellranger302_count_37879_Pla_HDBR10142769_GRCh38-3_0_0/filtered_feature_bc_matrix.h5\n"
     ]
    },
    {
     "name": "stderr",
     "output_type": "stream",
     "text": [
      "Variable names are not unique. To make them unique, call `.var_names_make_unique`.\n",
      "Variable names are not unique. To make them unique, call `.var_names_make_unique`.\n",
      "Variable names are not unique. To make them unique, call `.var_names_make_unique`.\n",
      "Variable names are not unique. To make them unique, call `.var_names_make_unique`.\n",
      "Variable names are not unique. To make them unique, call `.var_names_make_unique`.\n",
      "Variable names are not unique. To make them unique, call `.var_names_make_unique`.\n"
     ]
    },
    {
     "name": "stdout",
     "output_type": "stream",
     "text": [
      "Pla_HDBR10142770\n",
      "/lustre/scratch117/cellgen/team292/aa22/data/scRNA-seq_MFI_new_samples_202105/cellranger302_count_37879_Pla_HDBR10142770_GRCh38-3_0_0/filtered_feature_bc_matrix.h5\n"
     ]
    },
    {
     "name": "stderr",
     "output_type": "stream",
     "text": [
      "Variable names are not unique. To make them unique, call `.var_names_make_unique`.\n",
      "Variable names are not unique. To make them unique, call `.var_names_make_unique`.\n",
      "Variable names are not unique. To make them unique, call `.var_names_make_unique`.\n",
      "Variable names are not unique. To make them unique, call `.var_names_make_unique`.\n",
      "Variable names are not unique. To make them unique, call `.var_names_make_unique`.\n",
      "Variable names are not unique. To make them unique, call `.var_names_make_unique`.\n"
     ]
    },
    {
     "name": "stdout",
     "output_type": "stream",
     "text": [
      "Pla_HDBR10701667\n",
      "/lustre/scratch117/cellgen/team292/aa22/data/sc_sn_RNA-seq_MFI_samples_202109/cellranger302_count_41013_Pla_HDBR10701667_GRCh38-3_0_0/filtered_feature_bc_matrix.h5\n"
     ]
    },
    {
     "name": "stderr",
     "output_type": "stream",
     "text": [
      "Variable names are not unique. To make them unique, call `.var_names_make_unique`.\n",
      "Variable names are not unique. To make them unique, call `.var_names_make_unique`.\n",
      "Variable names are not unique. To make them unique, call `.var_names_make_unique`.\n",
      "Variable names are not unique. To make them unique, call `.var_names_make_unique`.\n",
      "Variable names are not unique. To make them unique, call `.var_names_make_unique`.\n",
      "Variable names are not unique. To make them unique, call `.var_names_make_unique`.\n"
     ]
    },
    {
     "name": "stdout",
     "output_type": "stream",
     "text": [
      "Pla_HDBR10701668\n",
      "/lustre/scratch117/cellgen/team292/aa22/data/sc_sn_RNA-seq_MFI_samples_202109/cellranger302_count_41013_Pla_HDBR10701668_GRCh38-3_0_0/filtered_feature_bc_matrix.h5\n"
     ]
    },
    {
     "name": "stderr",
     "output_type": "stream",
     "text": [
      "Variable names are not unique. To make them unique, call `.var_names_make_unique`.\n",
      "Variable names are not unique. To make them unique, call `.var_names_make_unique`.\n",
      "Variable names are not unique. To make them unique, call `.var_names_make_unique`.\n",
      "Variable names are not unique. To make them unique, call `.var_names_make_unique`.\n",
      "Variable names are not unique. To make them unique, call `.var_names_make_unique`.\n",
      "Variable names are not unique. To make them unique, call `.var_names_make_unique`.\n"
     ]
    }
   ],
   "source": [
    "# get filtered feature barcode matrices for each sample to get a reference of what genes are detected in droplets that are called as cells by cellranger\n",
    "# CELLS\n",
    "filtered_feature_bc_matrices_sc = {}\n",
    "\n",
    "for sample in samples_sc:\n",
    "    print(sample)\n",
    "    \n",
    "    \n",
    "    if sample in samples_P13_sn:\n",
    "        path = '/nfs/team292/aa22/202007_snRNA-seq_MFI/202005_snRNA-seq_cellranger/snRNA_seq_data_MFI_blocks_from_prof_Moffett/'\n",
    "    if sample in samples_P13_sn_paired_Visium + samples_P14_sn_paired_Visium:\n",
    "        path = '/nfs/team292/aa22/202007_snRNA-seq_MFI/202006_snRNA-seq_MFI_paired_to_Visium_cellranger/'\n",
    "    if sample in samples_P13_sn_new + samples_P14_sn_new + samples_Hrv43_sn + samples_P34_sn + samples_Hrv43_sc_new + samples_Hrv46_sc_new:\n",
    "        path = '/lustre/scratch117/cellgen/team292/aa22/data/sc_sn_RNA-seq_MFI_samples_202109/'\n",
    "    if sample in samples_P13_multiome + samples_P14_multiome + samples_Hrv43_multiome:\n",
    "        path = '/lustre/scratch117/cellgen/team292/aa22/data/202107_multiome_MFI/'\n",
    "    if sample in samples_Vento_sc:\n",
    "        path = '/nfs/team292/aa22/202006_scRNA-seq_MFI_cellranger/scRNA_seq_Roser_cellranger/'\n",
    "    if sample in samples_MFI_new_sc_batch_1 + samples_MFI_new_sc_batch_2:\n",
    "        path = '/lustre/scratch117/cellgen/team292/aa22/data/scRNA-seq_MFI_from_Regina/'\n",
    "    if sample in samples_Hrv43_sc + samples_Hrv46_sc:\n",
    "        path = '/lustre/scratch117/cellgen/team292/aa22/data/scRNA-seq_MFI_new_samples_202105/'\n",
    "    \n",
    "    \n",
    "    path_full = glob.glob(path + 'cellranger*' + sample + '*/filtered_feature_bc_matrix.h5')[0]\n",
    "    \n",
    "    print(path_full)\n",
    "    filtered_feature_bc_matrices_sc[sample] = sc.read_10x_h5(path_full)\n",
    "    filtered_feature_bc_matrices_sc[sample].obs['barcode_sample'] = filtered_feature_bc_matrices_sc[sample].obs.index + '_' + sample\n",
    "        \n",
    "    # Filer cells with less than 200 genes expressed\n",
    "    sc.pp.filter_cells(filtered_feature_bc_matrices_sc[sample], min_genes=200)\n",
    "\n",
    "    # Filer genes expressed in less than 3 cells\n",
    "    sc.pp.filter_genes(filtered_feature_bc_matrices_sc[sample], min_cells=3)\n",
    "        \n",
    "    # add the total counts per cell as observations-annotation to adata\n",
    "    filtered_feature_bc_matrices_sc[sample].obs['n_counts'] = filtered_feature_bc_matrices_sc[sample].X.sum(axis=1).A1\n",
    "        \n",
    "    filtered_feature_bc_matrices_sc[sample].var_names_make_unique()\n",
    "        \n",
    "    # Extract mitochondial genes\n",
    "    mito_genes = [name for name in filtered_feature_bc_matrices_sc[sample].var_names if name.startswith('MT-')]\n",
    "    #for each cell compute fraction of counts in mito genes vs. all genes\n",
    "    #the `.A1` is only necessary, as X is sparse - it transform to a dense array after summing\n",
    "    filtered_feature_bc_matrices_sc[sample].obs['percent_mito'] = np.sum(filtered_feature_bc_matrices_sc[sample][:, mito_genes].X, axis=1).A1 / np.sum(filtered_feature_bc_matrices_sc[sample].X, axis=1).A1\n",
    "        \n"
   ]
  },
  {
   "cell_type": "code",
   "execution_count": 5,
   "id": "billion-programmer",
   "metadata": {
    "collapsed": true,
    "jupyter": {
     "outputs_hidden": true
    },
    "tags": []
   },
   "outputs": [
    {
     "name": "stdout",
     "output_type": "stream",
     "text": [
      "WSSS_PLA8764121\n",
      "/nfs/team292/aa22/202007_snRNA-seq_MFI/202005_snRNA-seq_cellranger/snRNA_seq_data_MFI_blocks_from_prof_Moffett/cellranger302_count_33883_WSSS_PLA8764121_GRCh38-3_0_0-premrna/filtered_feature_bc_matrix.h5\n"
     ]
    },
    {
     "name": "stderr",
     "output_type": "stream",
     "text": [
      "Variable names are not unique. To make them unique, call `.var_names_make_unique`.\n",
      "Variable names are not unique. To make them unique, call `.var_names_make_unique`.\n",
      "Variable names are not unique. To make them unique, call `.var_names_make_unique`.\n",
      "Variable names are not unique. To make them unique, call `.var_names_make_unique`.\n",
      "Variable names are not unique. To make them unique, call `.var_names_make_unique`.\n",
      "Variable names are not unique. To make them unique, call `.var_names_make_unique`.\n"
     ]
    },
    {
     "name": "stdout",
     "output_type": "stream",
     "text": [
      "WSSS_PLA8764122\n",
      "/nfs/team292/aa22/202007_snRNA-seq_MFI/202005_snRNA-seq_cellranger/snRNA_seq_data_MFI_blocks_from_prof_Moffett/cellranger302_count_33883_WSSS_PLA8764122_GRCh38-3_0_0-premrna/filtered_feature_bc_matrix.h5\n"
     ]
    },
    {
     "name": "stderr",
     "output_type": "stream",
     "text": [
      "Variable names are not unique. To make them unique, call `.var_names_make_unique`.\n",
      "Variable names are not unique. To make them unique, call `.var_names_make_unique`.\n",
      "Variable names are not unique. To make them unique, call `.var_names_make_unique`.\n",
      "Variable names are not unique. To make them unique, call `.var_names_make_unique`.\n",
      "Variable names are not unique. To make them unique, call `.var_names_make_unique`.\n",
      "Variable names are not unique. To make them unique, call `.var_names_make_unique`.\n"
     ]
    },
    {
     "name": "stdout",
     "output_type": "stream",
     "text": [
      "WSSS_PLA8810750\n",
      "/nfs/team292/aa22/202007_snRNA-seq_MFI/202006_snRNA-seq_MFI_paired_to_Visium_cellranger/cellranger302_count_34149_WSSS_PLA8810750_GRCh38-3_0_0_premrna/filtered_feature_bc_matrix.h5\n"
     ]
    },
    {
     "name": "stderr",
     "output_type": "stream",
     "text": [
      "Variable names are not unique. To make them unique, call `.var_names_make_unique`.\n",
      "Variable names are not unique. To make them unique, call `.var_names_make_unique`.\n",
      "Variable names are not unique. To make them unique, call `.var_names_make_unique`.\n",
      "Variable names are not unique. To make them unique, call `.var_names_make_unique`.\n",
      "Variable names are not unique. To make them unique, call `.var_names_make_unique`.\n",
      "Variable names are not unique. To make them unique, call `.var_names_make_unique`.\n"
     ]
    },
    {
     "name": "stdout",
     "output_type": "stream",
     "text": [
      "WSSS_PLA8810751\n",
      "/nfs/team292/aa22/202007_snRNA-seq_MFI/202006_snRNA-seq_MFI_paired_to_Visium_cellranger/cellranger302_count_34149_WSSS_PLA8810751_GRCh38-3_0_0_premrna/filtered_feature_bc_matrix.h5\n"
     ]
    },
    {
     "name": "stderr",
     "output_type": "stream",
     "text": [
      "Variable names are not unique. To make them unique, call `.var_names_make_unique`.\n",
      "Variable names are not unique. To make them unique, call `.var_names_make_unique`.\n",
      "Variable names are not unique. To make them unique, call `.var_names_make_unique`.\n",
      "Variable names are not unique. To make them unique, call `.var_names_make_unique`.\n",
      "Variable names are not unique. To make them unique, call `.var_names_make_unique`.\n",
      "Variable names are not unique. To make them unique, call `.var_names_make_unique`.\n"
     ]
    },
    {
     "name": "stdout",
     "output_type": "stream",
     "text": [
      "Pla_Camb10691970\n",
      "/lustre/scratch117/cellgen/team292/aa22/data/sc_sn_RNA-seq_MFI_samples_202109/cellranger302_count_41013_Pla_Camb10691970_GRCh38-3_0_0-premrna/filtered_feature_bc_matrix.h5\n"
     ]
    },
    {
     "name": "stderr",
     "output_type": "stream",
     "text": [
      "Variable names are not unique. To make them unique, call `.var_names_make_unique`.\n",
      "Variable names are not unique. To make them unique, call `.var_names_make_unique`.\n",
      "Variable names are not unique. To make them unique, call `.var_names_make_unique`.\n",
      "Variable names are not unique. To make them unique, call `.var_names_make_unique`.\n",
      "Variable names are not unique. To make them unique, call `.var_names_make_unique`.\n",
      "Variable names are not unique. To make them unique, call `.var_names_make_unique`.\n"
     ]
    },
    {
     "name": "stdout",
     "output_type": "stream",
     "text": [
      "Pla_Camb10691971\n",
      "/lustre/scratch117/cellgen/team292/aa22/data/sc_sn_RNA-seq_MFI_samples_202109/cellranger302_count_41013_Pla_Camb10691971_GRCh38-3_0_0-premrna/filtered_feature_bc_matrix.h5\n"
     ]
    },
    {
     "name": "stderr",
     "output_type": "stream",
     "text": [
      "Variable names are not unique. To make them unique, call `.var_names_make_unique`.\n",
      "Variable names are not unique. To make them unique, call `.var_names_make_unique`.\n",
      "Variable names are not unique. To make them unique, call `.var_names_make_unique`.\n",
      "Variable names are not unique. To make them unique, call `.var_names_make_unique`.\n",
      "Variable names are not unique. To make them unique, call `.var_names_make_unique`.\n",
      "Variable names are not unique. To make them unique, call `.var_names_make_unique`.\n"
     ]
    },
    {
     "name": "stdout",
     "output_type": "stream",
     "text": [
      "Pla_Camb10714919\n",
      "/lustre/scratch117/cellgen/team292/aa22/data/202107_multiome_MFI/cellranger-arc101_count_40427_Pla_Camb10714919_and_40110_Pla_Camb10687915_GRCh38-3.0.0_for_arc/filtered_feature_bc_matrix.h5\n"
     ]
    },
    {
     "name": "stderr",
     "output_type": "stream",
     "text": [
      "Variable names are not unique. To make them unique, call `.var_names_make_unique`.\n",
      "Variable names are not unique. To make them unique, call `.var_names_make_unique`.\n",
      "Variable names are not unique. To make them unique, call `.var_names_make_unique`.\n",
      "Variable names are not unique. To make them unique, call `.var_names_make_unique`.\n",
      "Variable names are not unique. To make them unique, call `.var_names_make_unique`.\n",
      "Variable names are not unique. To make them unique, call `.var_names_make_unique`.\n"
     ]
    },
    {
     "name": "stdout",
     "output_type": "stream",
     "text": [
      "Pla_Camb10714920\n",
      "/lustre/scratch117/cellgen/team292/aa22/data/202107_multiome_MFI/cellranger-arc101_count_40427_Pla_Camb10714920_and_40110_Pla_Camb10687916_GRCh38-3.0.0_for_arc/filtered_feature_bc_matrix.h5\n"
     ]
    },
    {
     "name": "stderr",
     "output_type": "stream",
     "text": [
      "Variable names are not unique. To make them unique, call `.var_names_make_unique`.\n",
      "Variable names are not unique. To make them unique, call `.var_names_make_unique`.\n",
      "Variable names are not unique. To make them unique, call `.var_names_make_unique`.\n",
      "Variable names are not unique. To make them unique, call `.var_names_make_unique`.\n",
      "Variable names are not unique. To make them unique, call `.var_names_make_unique`.\n",
      "Variable names are not unique. To make them unique, call `.var_names_make_unique`.\n"
     ]
    },
    {
     "name": "stdout",
     "output_type": "stream",
     "text": [
      "WSSS_PLA8811068\n",
      "/nfs/team292/aa22/202007_snRNA-seq_MFI/202006_snRNA-seq_MFI_paired_to_Visium_cellranger/cellranger302_count_34149_WSSS_PLA8811068_GRCh38-3_0_0_premrna/filtered_feature_bc_matrix.h5\n"
     ]
    },
    {
     "name": "stderr",
     "output_type": "stream",
     "text": [
      "Variable names are not unique. To make them unique, call `.var_names_make_unique`.\n",
      "Variable names are not unique. To make them unique, call `.var_names_make_unique`.\n",
      "Variable names are not unique. To make them unique, call `.var_names_make_unique`.\n",
      "Variable names are not unique. To make them unique, call `.var_names_make_unique`.\n",
      "Variable names are not unique. To make them unique, call `.var_names_make_unique`.\n",
      "Variable names are not unique. To make them unique, call `.var_names_make_unique`.\n"
     ]
    },
    {
     "name": "stdout",
     "output_type": "stream",
     "text": [
      "WSSS_PLA8811069\n",
      "/nfs/team292/aa22/202007_snRNA-seq_MFI/202006_snRNA-seq_MFI_paired_to_Visium_cellranger/cellranger302_count_34149_WSSS_PLA8811069_GRCh38-3_0_0_premrna/filtered_feature_bc_matrix.h5\n"
     ]
    },
    {
     "name": "stderr",
     "output_type": "stream",
     "text": [
      "Variable names are not unique. To make them unique, call `.var_names_make_unique`.\n",
      "Variable names are not unique. To make them unique, call `.var_names_make_unique`.\n",
      "Variable names are not unique. To make them unique, call `.var_names_make_unique`.\n",
      "Variable names are not unique. To make them unique, call `.var_names_make_unique`.\n",
      "Variable names are not unique. To make them unique, call `.var_names_make_unique`.\n",
      "Variable names are not unique. To make them unique, call `.var_names_make_unique`.\n"
     ]
    },
    {
     "name": "stdout",
     "output_type": "stream",
     "text": [
      "WSSS_PLA8811070\n",
      "/nfs/team292/aa22/202007_snRNA-seq_MFI/202006_snRNA-seq_MFI_paired_to_Visium_cellranger/cellranger302_count_34149_WSSS_PLA8811070_GRCh38-3_0_0_premrna/filtered_feature_bc_matrix.h5\n"
     ]
    },
    {
     "name": "stderr",
     "output_type": "stream",
     "text": [
      "Variable names are not unique. To make them unique, call `.var_names_make_unique`.\n",
      "Variable names are not unique. To make them unique, call `.var_names_make_unique`.\n",
      "Variable names are not unique. To make them unique, call `.var_names_make_unique`.\n",
      "Variable names are not unique. To make them unique, call `.var_names_make_unique`.\n",
      "Variable names are not unique. To make them unique, call `.var_names_make_unique`.\n",
      "Variable names are not unique. To make them unique, call `.var_names_make_unique`.\n"
     ]
    },
    {
     "name": "stdout",
     "output_type": "stream",
     "text": [
      "Pla_Camb10691972\n",
      "/lustre/scratch117/cellgen/team292/aa22/data/sc_sn_RNA-seq_MFI_samples_202109/cellranger302_count_41013_Pla_Camb10691972_GRCh38-3_0_0-premrna/filtered_feature_bc_matrix.h5\n"
     ]
    },
    {
     "name": "stderr",
     "output_type": "stream",
     "text": [
      "Variable names are not unique. To make them unique, call `.var_names_make_unique`.\n",
      "Variable names are not unique. To make them unique, call `.var_names_make_unique`.\n",
      "Variable names are not unique. To make them unique, call `.var_names_make_unique`.\n",
      "Variable names are not unique. To make them unique, call `.var_names_make_unique`.\n",
      "Variable names are not unique. To make them unique, call `.var_names_make_unique`.\n",
      "Variable names are not unique. To make them unique, call `.var_names_make_unique`.\n"
     ]
    },
    {
     "name": "stdout",
     "output_type": "stream",
     "text": [
      "Pla_Camb10714918\n",
      "/lustre/scratch117/cellgen/team292/aa22/data/202107_multiome_MFI/cellranger-arc101_count_40427_Pla_Camb10714918_and_40110_Pla_Camb10687914_GRCh38-3.0.0_for_arc/filtered_feature_bc_matrix.h5\n"
     ]
    },
    {
     "name": "stderr",
     "output_type": "stream",
     "text": [
      "Variable names are not unique. To make them unique, call `.var_names_make_unique`.\n",
      "Variable names are not unique. To make them unique, call `.var_names_make_unique`.\n",
      "Variable names are not unique. To make them unique, call `.var_names_make_unique`.\n",
      "Variable names are not unique. To make them unique, call `.var_names_make_unique`.\n",
      "Variable names are not unique. To make them unique, call `.var_names_make_unique`.\n",
      "Variable names are not unique. To make them unique, call `.var_names_make_unique`.\n"
     ]
    },
    {
     "name": "stdout",
     "output_type": "stream",
     "text": [
      "Pla_HDBR10701666\n",
      "/lustre/scratch117/cellgen/team292/aa22/data/sc_sn_RNA-seq_MFI_samples_202109/cellranger302_count_41013_Pla_HDBR10701666_GRCh38-3_0_0-premrna/filtered_feature_bc_matrix.h5\n"
     ]
    },
    {
     "name": "stderr",
     "output_type": "stream",
     "text": [
      "Variable names are not unique. To make them unique, call `.var_names_make_unique`.\n",
      "Variable names are not unique. To make them unique, call `.var_names_make_unique`.\n",
      "Variable names are not unique. To make them unique, call `.var_names_make_unique`.\n",
      "Variable names are not unique. To make them unique, call `.var_names_make_unique`.\n",
      "Variable names are not unique. To make them unique, call `.var_names_make_unique`.\n",
      "Variable names are not unique. To make them unique, call `.var_names_make_unique`.\n"
     ]
    },
    {
     "name": "stdout",
     "output_type": "stream",
     "text": [
      "Pla_HDBR10142863\n",
      "/lustre/scratch117/cellgen/team292/aa22/data/202107_multiome_MFI/cellranger-arc101_count_38690_Pla_HDBR10142863_and_37083_Pla_HDBR10084192_GRCh38-3.0.0_for_arc/filtered_feature_bc_matrix.h5\n"
     ]
    },
    {
     "name": "stderr",
     "output_type": "stream",
     "text": [
      "Variable names are not unique. To make them unique, call `.var_names_make_unique`.\n",
      "Variable names are not unique. To make them unique, call `.var_names_make_unique`.\n",
      "Variable names are not unique. To make them unique, call `.var_names_make_unique`.\n",
      "Variable names are not unique. To make them unique, call `.var_names_make_unique`.\n",
      "Variable names are not unique. To make them unique, call `.var_names_make_unique`.\n",
      "Variable names are not unique. To make them unique, call `.var_names_make_unique`.\n"
     ]
    },
    {
     "name": "stdout",
     "output_type": "stream",
     "text": [
      "Pla_HDBR10142864\n",
      "/lustre/scratch117/cellgen/team292/aa22/data/202107_multiome_MFI/cellranger-arc101_count_38690_Pla_HDBR10142864_and_37083_Pla_HDBR10084193_GRCh38-3.0.0_for_arc/filtered_feature_bc_matrix.h5\n"
     ]
    },
    {
     "name": "stderr",
     "output_type": "stream",
     "text": [
      "Variable names are not unique. To make them unique, call `.var_names_make_unique`.\n",
      "Variable names are not unique. To make them unique, call `.var_names_make_unique`.\n",
      "Variable names are not unique. To make them unique, call `.var_names_make_unique`.\n",
      "Variable names are not unique. To make them unique, call `.var_names_make_unique`.\n",
      "Variable names are not unique. To make them unique, call `.var_names_make_unique`.\n",
      "Variable names are not unique. To make them unique, call `.var_names_make_unique`.\n"
     ]
    },
    {
     "name": "stdout",
     "output_type": "stream",
     "text": [
      "Pla_HDBR10142865\n",
      "/lustre/scratch117/cellgen/team292/aa22/data/202107_multiome_MFI/cellranger-arc101_count_38690_Pla_HDBR10142865_and_37083_Pla_HDBR10084194_GRCh38-3.0.0_for_arc/filtered_feature_bc_matrix.h5\n"
     ]
    },
    {
     "name": "stderr",
     "output_type": "stream",
     "text": [
      "Variable names are not unique. To make them unique, call `.var_names_make_unique`.\n",
      "Variable names are not unique. To make them unique, call `.var_names_make_unique`.\n",
      "Variable names are not unique. To make them unique, call `.var_names_make_unique`.\n",
      "Variable names are not unique. To make them unique, call `.var_names_make_unique`.\n",
      "Variable names are not unique. To make them unique, call `.var_names_make_unique`.\n",
      "Variable names are not unique. To make them unique, call `.var_names_make_unique`.\n"
     ]
    },
    {
     "name": "stdout",
     "output_type": "stream",
     "text": [
      "Pla_Camb10691975\n",
      "/lustre/scratch117/cellgen/team292/aa22/data/sc_sn_RNA-seq_MFI_samples_202109/cellranger302_count_41013_Pla_Camb10691975_GRCh38-3_0_0-premrna/filtered_feature_bc_matrix.h5\n"
     ]
    },
    {
     "name": "stderr",
     "output_type": "stream",
     "text": [
      "Variable names are not unique. To make them unique, call `.var_names_make_unique`.\n",
      "Variable names are not unique. To make them unique, call `.var_names_make_unique`.\n",
      "Variable names are not unique. To make them unique, call `.var_names_make_unique`.\n",
      "Variable names are not unique. To make them unique, call `.var_names_make_unique`.\n",
      "Variable names are not unique. To make them unique, call `.var_names_make_unique`.\n",
      "Variable names are not unique. To make them unique, call `.var_names_make_unique`.\n"
     ]
    }
   ],
   "source": [
    "# get filtered feature barcode matrices for each sample to get a reference of what genes are detected in droplets that are called as cells by cellranger\n",
    "# NUCLEI\n",
    "filtered_feature_bc_matrices_sn = {}\n",
    "\n",
    "for sample in samples_sn:    \n",
    "    \n",
    "    if sample in samples_P13_sn:\n",
    "        path = '/nfs/team292/aa22/202007_snRNA-seq_MFI/202005_snRNA-seq_cellranger/snRNA_seq_data_MFI_blocks_from_prof_Moffett/'\n",
    "    if sample in samples_P13_sn_paired_Visium + samples_P14_sn_paired_Visium:\n",
    "        path = '/nfs/team292/aa22/202007_snRNA-seq_MFI/202006_snRNA-seq_MFI_paired_to_Visium_cellranger/'\n",
    "    if sample in samples_P13_sn_new + samples_P14_sn_new + samples_Hrv43_sn + samples_P34_sn + samples_Hrv43_sc_new + samples_Hrv46_sc_new:\n",
    "        path = '/lustre/scratch117/cellgen/team292/aa22/data/sc_sn_RNA-seq_MFI_samples_202109/'\n",
    "    if sample in samples_P13_multiome + samples_P14_multiome + samples_Hrv43_multiome:\n",
    "        path = '/lustre/scratch117/cellgen/team292/aa22/data/202107_multiome_MFI/'\n",
    "    if sample in samples_Vento_sc:\n",
    "        path = '/nfs/team292/aa22/202006_scRNA-seq_MFI_cellranger/scRNA_seq_Roser_cellranger/'\n",
    "    if sample in samples_MFI_new_sc_batch_1 + samples_MFI_new_sc_batch_2:\n",
    "        path = '/lustre/scratch117/cellgen/team292/aa22/data/scRNA-seq_MFI_from_Regina/'\n",
    "    if sample in samples_Hrv43_sc + samples_Hrv46_sc:\n",
    "        path = '/lustre/scratch117/cellgen/team292/aa22/data/scRNA-seq_MFI_new_samples_202105/'\n",
    "    \n",
    "    \n",
    "    path_full = glob.glob(path + 'cellranger*' + sample + '*/filtered_feature_bc_matrix.h5')[0]\n",
    "    \n",
    "    \n",
    "    print(sample)\n",
    "    print(path_full)\n",
    "    filtered_feature_bc_matrices_sn[sample] = sc.read_10x_h5(path_full)\n",
    "    filtered_feature_bc_matrices_sn[sample].obs['barcode_sample'] = filtered_feature_bc_matrices_sn[sample].obs.index + '_' + sample\n",
    "        \n",
    "    # Filer cells with less than 200 genes expressed\n",
    "    sc.pp.filter_cells(filtered_feature_bc_matrices_sn[sample], min_genes=200)\n",
    "\n",
    "    # Filer genes expressed in less than 3 cells\n",
    "    sc.pp.filter_genes(filtered_feature_bc_matrices_sn[sample], min_cells=3)\n",
    "        \n",
    "    # add the total counts per cell as observations-annotation to adata\n",
    "    filtered_feature_bc_matrices_sn[sample].obs['n_counts'] = filtered_feature_bc_matrices_sn[sample].X.sum(axis=1).A1\n",
    "        \n",
    "    filtered_feature_bc_matrices_sn[sample].var_names_make_unique()\n",
    "        \n",
    "    # Extract mitochondial genes\n",
    "    mito_genes = [name for name in filtered_feature_bc_matrices_sn[sample].var_names if name.startswith('MT-')]\n",
    "    #for each cell compute fraction of counts in mito genes vs. all genes\n",
    "    #the `.A1` is only necessary, as X is sparse - it transform to a dense array after summing\n",
    "    filtered_feature_bc_matrices_sn[sample].obs['percent_mito'] = np.sum(filtered_feature_bc_matrices_sn[sample][:, mito_genes].X, axis=1).A1 / np.sum(filtered_feature_bc_matrices_sn[sample].X, axis=1).A1\n",
    "        \n"
   ]
  },
  {
   "cell_type": "code",
   "execution_count": null,
   "id": "matched-demand",
   "metadata": {},
   "outputs": [],
   "source": []
  },
  {
   "cell_type": "code",
   "execution_count": 6,
   "id": "minor-marker",
   "metadata": {
    "collapsed": true,
    "jupyter": {
     "outputs_hidden": true
    },
    "tags": []
   },
   "outputs": [
    {
     "name": "stdout",
     "output_type": "stream",
     "text": [
      "FCA7167219\n",
      "/nfs/team292/aa22/202006_scRNA-seq_MFI_cellranger/scRNA_seq_Roser_cellranger/cellranger302_count_FCA7167219_GRCh38-3_0_0/raw_feature_bc_matrix.h5\n"
     ]
    },
    {
     "name": "stderr",
     "output_type": "stream",
     "text": [
      "Variable names are not unique. To make them unique, call `.var_names_make_unique`.\n",
      "Variable names are not unique. To make them unique, call `.var_names_make_unique`.\n"
     ]
    },
    {
     "name": "stdout",
     "output_type": "stream",
     "text": [
      "shape of raw_feature_bc_matrices_sc before filtering out cells (737280, 33538)\n",
      "shape of raw_feature_bc_matrices_sc after filtering out cells (736632, 33538)\n"
     ]
    },
    {
     "name": "stderr",
     "output_type": "stream",
     "text": [
      "Trying to set attribute `.obs` of view, copying.\n",
      "Variable names are not unique. To make them unique, call `.var_names_make_unique`.\n",
      "Variable names are not unique. To make them unique, call `.var_names_make_unique`.\n",
      "Variable names are not unique. To make them unique, call `.var_names_make_unique`.\n",
      "Variable names are not unique. To make them unique, call `.var_names_make_unique`.\n"
     ]
    },
    {
     "name": "stdout",
     "output_type": "stream",
     "text": [
      "FCA7167221\n",
      "/nfs/team292/aa22/202006_scRNA-seq_MFI_cellranger/scRNA_seq_Roser_cellranger/cellranger302_count_FCA7167221_GRCh38-3_0_0/raw_feature_bc_matrix.h5\n"
     ]
    },
    {
     "name": "stderr",
     "output_type": "stream",
     "text": [
      "Variable names are not unique. To make them unique, call `.var_names_make_unique`.\n",
      "Variable names are not unique. To make them unique, call `.var_names_make_unique`.\n"
     ]
    },
    {
     "name": "stdout",
     "output_type": "stream",
     "text": [
      "shape of raw_feature_bc_matrices_sc before filtering out cells (737280, 33538)\n",
      "shape of raw_feature_bc_matrices_sc after filtering out cells (736145, 33538)\n"
     ]
    },
    {
     "name": "stderr",
     "output_type": "stream",
     "text": [
      "Trying to set attribute `.obs` of view, copying.\n",
      "Variable names are not unique. To make them unique, call `.var_names_make_unique`.\n",
      "Variable names are not unique. To make them unique, call `.var_names_make_unique`.\n",
      "Variable names are not unique. To make them unique, call `.var_names_make_unique`.\n",
      "Variable names are not unique. To make them unique, call `.var_names_make_unique`.\n"
     ]
    },
    {
     "name": "stdout",
     "output_type": "stream",
     "text": [
      "FCA7167222\n",
      "/nfs/team292/aa22/202006_scRNA-seq_MFI_cellranger/scRNA_seq_Roser_cellranger/cellranger302_count_FCA7167222_GRCh38-3_0_0/raw_feature_bc_matrix.h5\n"
     ]
    },
    {
     "name": "stderr",
     "output_type": "stream",
     "text": [
      "Variable names are not unique. To make them unique, call `.var_names_make_unique`.\n",
      "Variable names are not unique. To make them unique, call `.var_names_make_unique`.\n"
     ]
    },
    {
     "name": "stdout",
     "output_type": "stream",
     "text": [
      "shape of raw_feature_bc_matrices_sc before filtering out cells (737280, 33538)\n",
      "shape of raw_feature_bc_matrices_sc after filtering out cells (735552, 33538)\n"
     ]
    },
    {
     "name": "stderr",
     "output_type": "stream",
     "text": [
      "Trying to set attribute `.obs` of view, copying.\n",
      "Variable names are not unique. To make them unique, call `.var_names_make_unique`.\n",
      "Variable names are not unique. To make them unique, call `.var_names_make_unique`.\n",
      "Variable names are not unique. To make them unique, call `.var_names_make_unique`.\n",
      "Variable names are not unique. To make them unique, call `.var_names_make_unique`.\n"
     ]
    },
    {
     "name": "stdout",
     "output_type": "stream",
     "text": [
      "FCA7167223\n",
      "/nfs/team292/aa22/202006_scRNA-seq_MFI_cellranger/scRNA_seq_Roser_cellranger/cellranger302_count_FCA7167223_GRCh38-3_0_0/raw_feature_bc_matrix.h5\n"
     ]
    },
    {
     "name": "stderr",
     "output_type": "stream",
     "text": [
      "Variable names are not unique. To make them unique, call `.var_names_make_unique`.\n",
      "Variable names are not unique. To make them unique, call `.var_names_make_unique`.\n"
     ]
    },
    {
     "name": "stdout",
     "output_type": "stream",
     "text": [
      "shape of raw_feature_bc_matrices_sc before filtering out cells (737280, 33538)\n",
      "shape of raw_feature_bc_matrices_sc after filtering out cells (729453, 33538)\n"
     ]
    },
    {
     "name": "stderr",
     "output_type": "stream",
     "text": [
      "Trying to set attribute `.obs` of view, copying.\n",
      "Variable names are not unique. To make them unique, call `.var_names_make_unique`.\n",
      "Variable names are not unique. To make them unique, call `.var_names_make_unique`.\n",
      "Variable names are not unique. To make them unique, call `.var_names_make_unique`.\n",
      "Variable names are not unique. To make them unique, call `.var_names_make_unique`.\n"
     ]
    },
    {
     "name": "stdout",
     "output_type": "stream",
     "text": [
      "FCA7167224\n",
      "/nfs/team292/aa22/202006_scRNA-seq_MFI_cellranger/scRNA_seq_Roser_cellranger/cellranger302_count_FCA7167224_GRCh38-3_0_0/raw_feature_bc_matrix.h5\n"
     ]
    },
    {
     "name": "stderr",
     "output_type": "stream",
     "text": [
      "Variable names are not unique. To make them unique, call `.var_names_make_unique`.\n",
      "Variable names are not unique. To make them unique, call `.var_names_make_unique`.\n"
     ]
    },
    {
     "name": "stdout",
     "output_type": "stream",
     "text": [
      "shape of raw_feature_bc_matrices_sc before filtering out cells (737280, 33538)\n",
      "shape of raw_feature_bc_matrices_sc after filtering out cells (734885, 33538)\n"
     ]
    },
    {
     "name": "stderr",
     "output_type": "stream",
     "text": [
      "Trying to set attribute `.obs` of view, copying.\n",
      "Variable names are not unique. To make them unique, call `.var_names_make_unique`.\n",
      "Variable names are not unique. To make them unique, call `.var_names_make_unique`.\n",
      "Variable names are not unique. To make them unique, call `.var_names_make_unique`.\n",
      "Variable names are not unique. To make them unique, call `.var_names_make_unique`.\n"
     ]
    },
    {
     "name": "stdout",
     "output_type": "stream",
     "text": [
      "FCA7167226\n",
      "/nfs/team292/aa22/202006_scRNA-seq_MFI_cellranger/scRNA_seq_Roser_cellranger/cellranger302_count_FCA7167226_GRCh38-3_0_0/raw_feature_bc_matrix.h5\n"
     ]
    },
    {
     "name": "stderr",
     "output_type": "stream",
     "text": [
      "Variable names are not unique. To make them unique, call `.var_names_make_unique`.\n",
      "Variable names are not unique. To make them unique, call `.var_names_make_unique`.\n"
     ]
    },
    {
     "name": "stdout",
     "output_type": "stream",
     "text": [
      "shape of raw_feature_bc_matrices_sc before filtering out cells (737280, 33538)\n",
      "shape of raw_feature_bc_matrices_sc after filtering out cells (730235, 33538)\n"
     ]
    },
    {
     "name": "stderr",
     "output_type": "stream",
     "text": [
      "Trying to set attribute `.obs` of view, copying.\n",
      "Variable names are not unique. To make them unique, call `.var_names_make_unique`.\n",
      "Variable names are not unique. To make them unique, call `.var_names_make_unique`.\n",
      "Variable names are not unique. To make them unique, call `.var_names_make_unique`.\n",
      "Variable names are not unique. To make them unique, call `.var_names_make_unique`.\n"
     ]
    },
    {
     "name": "stdout",
     "output_type": "stream",
     "text": [
      "FCA7167230\n",
      "/nfs/team292/aa22/202006_scRNA-seq_MFI_cellranger/scRNA_seq_Roser_cellranger/cellranger302_count_FCA7167230_GRCh38-3_0_0/raw_feature_bc_matrix.h5\n"
     ]
    },
    {
     "name": "stderr",
     "output_type": "stream",
     "text": [
      "Variable names are not unique. To make them unique, call `.var_names_make_unique`.\n",
      "Variable names are not unique. To make them unique, call `.var_names_make_unique`.\n"
     ]
    },
    {
     "name": "stdout",
     "output_type": "stream",
     "text": [
      "shape of raw_feature_bc_matrices_sc before filtering out cells (737280, 33538)\n",
      "shape of raw_feature_bc_matrices_sc after filtering out cells (736826, 33538)\n"
     ]
    },
    {
     "name": "stderr",
     "output_type": "stream",
     "text": [
      "Trying to set attribute `.obs` of view, copying.\n",
      "Variable names are not unique. To make them unique, call `.var_names_make_unique`.\n",
      "Variable names are not unique. To make them unique, call `.var_names_make_unique`.\n",
      "Variable names are not unique. To make them unique, call `.var_names_make_unique`.\n",
      "Variable names are not unique. To make them unique, call `.var_names_make_unique`.\n"
     ]
    },
    {
     "name": "stdout",
     "output_type": "stream",
     "text": [
      "FCA7167231\n",
      "/nfs/team292/aa22/202006_scRNA-seq_MFI_cellranger/scRNA_seq_Roser_cellranger/cellranger302_count_FCA7167231_GRCh38-3_0_0/raw_feature_bc_matrix.h5\n"
     ]
    },
    {
     "name": "stderr",
     "output_type": "stream",
     "text": [
      "Variable names are not unique. To make them unique, call `.var_names_make_unique`.\n",
      "Variable names are not unique. To make them unique, call `.var_names_make_unique`.\n"
     ]
    },
    {
     "name": "stdout",
     "output_type": "stream",
     "text": [
      "shape of raw_feature_bc_matrices_sc before filtering out cells (737280, 33538)\n",
      "shape of raw_feature_bc_matrices_sc after filtering out cells (735778, 33538)\n"
     ]
    },
    {
     "name": "stderr",
     "output_type": "stream",
     "text": [
      "Trying to set attribute `.obs` of view, copying.\n",
      "Variable names are not unique. To make them unique, call `.var_names_make_unique`.\n",
      "Variable names are not unique. To make them unique, call `.var_names_make_unique`.\n",
      "Variable names are not unique. To make them unique, call `.var_names_make_unique`.\n",
      "Variable names are not unique. To make them unique, call `.var_names_make_unique`.\n"
     ]
    },
    {
     "name": "stdout",
     "output_type": "stream",
     "text": [
      "FCA7167232\n",
      "/nfs/team292/aa22/202006_scRNA-seq_MFI_cellranger/scRNA_seq_Roser_cellranger/cellranger302_count_FCA7167232_GRCh38-3_0_0/raw_feature_bc_matrix.h5\n"
     ]
    },
    {
     "name": "stderr",
     "output_type": "stream",
     "text": [
      "Variable names are not unique. To make them unique, call `.var_names_make_unique`.\n",
      "Variable names are not unique. To make them unique, call `.var_names_make_unique`.\n"
     ]
    },
    {
     "name": "stdout",
     "output_type": "stream",
     "text": [
      "shape of raw_feature_bc_matrices_sc before filtering out cells (737280, 33538)\n",
      "shape of raw_feature_bc_matrices_sc after filtering out cells (735292, 33538)\n"
     ]
    },
    {
     "name": "stderr",
     "output_type": "stream",
     "text": [
      "Trying to set attribute `.obs` of view, copying.\n",
      "Variable names are not unique. To make them unique, call `.var_names_make_unique`.\n",
      "Variable names are not unique. To make them unique, call `.var_names_make_unique`.\n",
      "Variable names are not unique. To make them unique, call `.var_names_make_unique`.\n",
      "Variable names are not unique. To make them unique, call `.var_names_make_unique`.\n"
     ]
    },
    {
     "name": "stdout",
     "output_type": "stream",
     "text": [
      "FCA7196218\n",
      "/nfs/team292/aa22/202006_scRNA-seq_MFI_cellranger/scRNA_seq_Roser_cellranger/cellranger302_count_24614_FCA7196218_GRCh38-3_0_0/raw_feature_bc_matrix.h5\n"
     ]
    },
    {
     "name": "stderr",
     "output_type": "stream",
     "text": [
      "Variable names are not unique. To make them unique, call `.var_names_make_unique`.\n",
      "Variable names are not unique. To make them unique, call `.var_names_make_unique`.\n"
     ]
    },
    {
     "name": "stdout",
     "output_type": "stream",
     "text": [
      "shape of raw_feature_bc_matrices_sc before filtering out cells (737280, 33538)\n",
      "shape of raw_feature_bc_matrices_sc after filtering out cells (729697, 33538)\n"
     ]
    },
    {
     "name": "stderr",
     "output_type": "stream",
     "text": [
      "Trying to set attribute `.obs` of view, copying.\n",
      "Variable names are not unique. To make them unique, call `.var_names_make_unique`.\n",
      "Variable names are not unique. To make them unique, call `.var_names_make_unique`.\n",
      "Variable names are not unique. To make them unique, call `.var_names_make_unique`.\n",
      "Variable names are not unique. To make them unique, call `.var_names_make_unique`.\n"
     ]
    },
    {
     "name": "stdout",
     "output_type": "stream",
     "text": [
      "FCA7196219\n",
      "/nfs/team292/aa22/202006_scRNA-seq_MFI_cellranger/scRNA_seq_Roser_cellranger/cellranger302_count_24614_FCA7196219_GRCh38-3_0_0/raw_feature_bc_matrix.h5\n"
     ]
    },
    {
     "name": "stderr",
     "output_type": "stream",
     "text": [
      "Variable names are not unique. To make them unique, call `.var_names_make_unique`.\n",
      "Variable names are not unique. To make them unique, call `.var_names_make_unique`.\n"
     ]
    },
    {
     "name": "stdout",
     "output_type": "stream",
     "text": [
      "shape of raw_feature_bc_matrices_sc before filtering out cells (737280, 33538)\n",
      "shape of raw_feature_bc_matrices_sc after filtering out cells (733881, 33538)\n"
     ]
    },
    {
     "name": "stderr",
     "output_type": "stream",
     "text": [
      "Trying to set attribute `.obs` of view, copying.\n",
      "Variable names are not unique. To make them unique, call `.var_names_make_unique`.\n",
      "Variable names are not unique. To make them unique, call `.var_names_make_unique`.\n",
      "Variable names are not unique. To make them unique, call `.var_names_make_unique`.\n",
      "Variable names are not unique. To make them unique, call `.var_names_make_unique`.\n"
     ]
    },
    {
     "name": "stdout",
     "output_type": "stream",
     "text": [
      "FCA7196220\n",
      "/nfs/team292/aa22/202006_scRNA-seq_MFI_cellranger/scRNA_seq_Roser_cellranger/cellranger302_count_24614_FCA7196220_GRCh38-3_0_0/raw_feature_bc_matrix.h5\n"
     ]
    },
    {
     "name": "stderr",
     "output_type": "stream",
     "text": [
      "Variable names are not unique. To make them unique, call `.var_names_make_unique`.\n",
      "Variable names are not unique. To make them unique, call `.var_names_make_unique`.\n"
     ]
    },
    {
     "name": "stdout",
     "output_type": "stream",
     "text": [
      "shape of raw_feature_bc_matrices_sc before filtering out cells (737280, 33538)\n",
      "shape of raw_feature_bc_matrices_sc after filtering out cells (730226, 33538)\n"
     ]
    },
    {
     "name": "stderr",
     "output_type": "stream",
     "text": [
      "Trying to set attribute `.obs` of view, copying.\n",
      "Variable names are not unique. To make them unique, call `.var_names_make_unique`.\n",
      "Variable names are not unique. To make them unique, call `.var_names_make_unique`.\n",
      "Variable names are not unique. To make them unique, call `.var_names_make_unique`.\n",
      "Variable names are not unique. To make them unique, call `.var_names_make_unique`.\n"
     ]
    },
    {
     "name": "stdout",
     "output_type": "stream",
     "text": [
      "FCA7196224\n",
      "/nfs/team292/aa22/202006_scRNA-seq_MFI_cellranger/scRNA_seq_Roser_cellranger/cellranger302_count_24647_FCA7196224_GRCh38-3_0_0/raw_feature_bc_matrix.h5\n"
     ]
    },
    {
     "name": "stderr",
     "output_type": "stream",
     "text": [
      "Variable names are not unique. To make them unique, call `.var_names_make_unique`.\n",
      "Variable names are not unique. To make them unique, call `.var_names_make_unique`.\n"
     ]
    },
    {
     "name": "stdout",
     "output_type": "stream",
     "text": [
      "shape of raw_feature_bc_matrices_sc before filtering out cells (737280, 33538)\n",
      "shape of raw_feature_bc_matrices_sc after filtering out cells (729393, 33538)\n"
     ]
    },
    {
     "name": "stderr",
     "output_type": "stream",
     "text": [
      "Trying to set attribute `.obs` of view, copying.\n",
      "Variable names are not unique. To make them unique, call `.var_names_make_unique`.\n",
      "Variable names are not unique. To make them unique, call `.var_names_make_unique`.\n",
      "Variable names are not unique. To make them unique, call `.var_names_make_unique`.\n",
      "Variable names are not unique. To make them unique, call `.var_names_make_unique`.\n"
     ]
    },
    {
     "name": "stdout",
     "output_type": "stream",
     "text": [
      "FCA7196225\n",
      "/nfs/team292/aa22/202006_scRNA-seq_MFI_cellranger/scRNA_seq_Roser_cellranger/cellranger302_count_24647_FCA7196225_GRCh38-3_0_0/raw_feature_bc_matrix.h5\n"
     ]
    },
    {
     "name": "stderr",
     "output_type": "stream",
     "text": [
      "Variable names are not unique. To make them unique, call `.var_names_make_unique`.\n",
      "Variable names are not unique. To make them unique, call `.var_names_make_unique`.\n"
     ]
    },
    {
     "name": "stdout",
     "output_type": "stream",
     "text": [
      "shape of raw_feature_bc_matrices_sc before filtering out cells (737280, 33538)\n",
      "shape of raw_feature_bc_matrices_sc after filtering out cells (732993, 33538)\n"
     ]
    },
    {
     "name": "stderr",
     "output_type": "stream",
     "text": [
      "Trying to set attribute `.obs` of view, copying.\n",
      "Variable names are not unique. To make them unique, call `.var_names_make_unique`.\n",
      "Variable names are not unique. To make them unique, call `.var_names_make_unique`.\n",
      "Variable names are not unique. To make them unique, call `.var_names_make_unique`.\n",
      "Variable names are not unique. To make them unique, call `.var_names_make_unique`.\n"
     ]
    },
    {
     "name": "stdout",
     "output_type": "stream",
     "text": [
      "FCA7196226\n",
      "/nfs/team292/aa22/202006_scRNA-seq_MFI_cellranger/scRNA_seq_Roser_cellranger/cellranger302_count_24647_FCA7196226_GRCh38-3_0_0/raw_feature_bc_matrix.h5\n"
     ]
    },
    {
     "name": "stderr",
     "output_type": "stream",
     "text": [
      "Variable names are not unique. To make them unique, call `.var_names_make_unique`.\n",
      "Variable names are not unique. To make them unique, call `.var_names_make_unique`.\n"
     ]
    },
    {
     "name": "stdout",
     "output_type": "stream",
     "text": [
      "shape of raw_feature_bc_matrices_sc before filtering out cells (737280, 33538)\n",
      "shape of raw_feature_bc_matrices_sc after filtering out cells (733611, 33538)\n"
     ]
    },
    {
     "name": "stderr",
     "output_type": "stream",
     "text": [
      "Trying to set attribute `.obs` of view, copying.\n",
      "Variable names are not unique. To make them unique, call `.var_names_make_unique`.\n",
      "Variable names are not unique. To make them unique, call `.var_names_make_unique`.\n",
      "Variable names are not unique. To make them unique, call `.var_names_make_unique`.\n",
      "Variable names are not unique. To make them unique, call `.var_names_make_unique`.\n"
     ]
    },
    {
     "name": "stdout",
     "output_type": "stream",
     "text": [
      "FCA7196229\n",
      "/nfs/team292/aa22/202006_scRNA-seq_MFI_cellranger/scRNA_seq_Roser_cellranger/cellranger302_count_24647_FCA7196229_GRCh38-3_0_0/raw_feature_bc_matrix.h5\n"
     ]
    },
    {
     "name": "stderr",
     "output_type": "stream",
     "text": [
      "Variable names are not unique. To make them unique, call `.var_names_make_unique`.\n",
      "Variable names are not unique. To make them unique, call `.var_names_make_unique`.\n"
     ]
    },
    {
     "name": "stdout",
     "output_type": "stream",
     "text": [
      "shape of raw_feature_bc_matrices_sc before filtering out cells (737280, 33538)\n",
      "shape of raw_feature_bc_matrices_sc after filtering out cells (734209, 33538)\n"
     ]
    },
    {
     "name": "stderr",
     "output_type": "stream",
     "text": [
      "Trying to set attribute `.obs` of view, copying.\n",
      "Variable names are not unique. To make them unique, call `.var_names_make_unique`.\n",
      "Variable names are not unique. To make them unique, call `.var_names_make_unique`.\n",
      "Variable names are not unique. To make them unique, call `.var_names_make_unique`.\n",
      "Variable names are not unique. To make them unique, call `.var_names_make_unique`.\n"
     ]
    },
    {
     "name": "stdout",
     "output_type": "stream",
     "text": [
      "FCA7196231\n",
      "/nfs/team292/aa22/202006_scRNA-seq_MFI_cellranger/scRNA_seq_Roser_cellranger/cellranger302_count_24616_FCA7196231_GRCh38-3_0_0/raw_feature_bc_matrix.h5\n"
     ]
    },
    {
     "name": "stderr",
     "output_type": "stream",
     "text": [
      "Variable names are not unique. To make them unique, call `.var_names_make_unique`.\n",
      "Variable names are not unique. To make them unique, call `.var_names_make_unique`.\n"
     ]
    },
    {
     "name": "stdout",
     "output_type": "stream",
     "text": [
      "shape of raw_feature_bc_matrices_sc before filtering out cells (737280, 33538)\n",
      "shape of raw_feature_bc_matrices_sc after filtering out cells (732708, 33538)\n"
     ]
    },
    {
     "name": "stderr",
     "output_type": "stream",
     "text": [
      "Trying to set attribute `.obs` of view, copying.\n",
      "Variable names are not unique. To make them unique, call `.var_names_make_unique`.\n",
      "Variable names are not unique. To make them unique, call `.var_names_make_unique`.\n",
      "Variable names are not unique. To make them unique, call `.var_names_make_unique`.\n",
      "Variable names are not unique. To make them unique, call `.var_names_make_unique`.\n"
     ]
    },
    {
     "name": "stdout",
     "output_type": "stream",
     "text": [
      "FCA7474062\n",
      "/nfs/team292/aa22/202006_scRNA-seq_MFI_cellranger/scRNA_seq_Roser_cellranger/cellranger302_count_25892_FCA7474062_GRCh38-3_0_0/raw_feature_bc_matrix.h5\n"
     ]
    },
    {
     "name": "stderr",
     "output_type": "stream",
     "text": [
      "Variable names are not unique. To make them unique, call `.var_names_make_unique`.\n",
      "Variable names are not unique. To make them unique, call `.var_names_make_unique`.\n"
     ]
    },
    {
     "name": "stdout",
     "output_type": "stream",
     "text": [
      "shape of raw_feature_bc_matrices_sc before filtering out cells (737280, 33538)\n",
      "shape of raw_feature_bc_matrices_sc after filtering out cells (734060, 33538)\n"
     ]
    },
    {
     "name": "stderr",
     "output_type": "stream",
     "text": [
      "Trying to set attribute `.obs` of view, copying.\n",
      "Variable names are not unique. To make them unique, call `.var_names_make_unique`.\n",
      "Variable names are not unique. To make them unique, call `.var_names_make_unique`.\n",
      "Variable names are not unique. To make them unique, call `.var_names_make_unique`.\n",
      "Variable names are not unique. To make them unique, call `.var_names_make_unique`.\n"
     ]
    },
    {
     "name": "stdout",
     "output_type": "stream",
     "text": [
      "FCA7474063\n",
      "/nfs/team292/aa22/202006_scRNA-seq_MFI_cellranger/scRNA_seq_Roser_cellranger/cellranger302_count_25892_FCA7474063_GRCh38-3_0_0/raw_feature_bc_matrix.h5\n"
     ]
    },
    {
     "name": "stderr",
     "output_type": "stream",
     "text": [
      "Variable names are not unique. To make them unique, call `.var_names_make_unique`.\n",
      "Variable names are not unique. To make them unique, call `.var_names_make_unique`.\n"
     ]
    },
    {
     "name": "stdout",
     "output_type": "stream",
     "text": [
      "shape of raw_feature_bc_matrices_sc before filtering out cells (737280, 33538)\n",
      "shape of raw_feature_bc_matrices_sc after filtering out cells (734609, 33538)\n"
     ]
    },
    {
     "name": "stderr",
     "output_type": "stream",
     "text": [
      "Trying to set attribute `.obs` of view, copying.\n",
      "Variable names are not unique. To make them unique, call `.var_names_make_unique`.\n",
      "Variable names are not unique. To make them unique, call `.var_names_make_unique`.\n",
      "Variable names are not unique. To make them unique, call `.var_names_make_unique`.\n",
      "Variable names are not unique. To make them unique, call `.var_names_make_unique`.\n"
     ]
    },
    {
     "name": "stdout",
     "output_type": "stream",
     "text": [
      "FCA7474064\n",
      "/nfs/team292/aa22/202006_scRNA-seq_MFI_cellranger/scRNA_seq_Roser_cellranger/cellranger302_count_25892_FCA7474064_GRCh38-3_0_0/raw_feature_bc_matrix.h5\n"
     ]
    },
    {
     "name": "stderr",
     "output_type": "stream",
     "text": [
      "Variable names are not unique. To make them unique, call `.var_names_make_unique`.\n",
      "Variable names are not unique. To make them unique, call `.var_names_make_unique`.\n"
     ]
    },
    {
     "name": "stdout",
     "output_type": "stream",
     "text": [
      "shape of raw_feature_bc_matrices_sc before filtering out cells (737280, 33538)\n",
      "shape of raw_feature_bc_matrices_sc after filtering out cells (732591, 33538)\n"
     ]
    },
    {
     "name": "stderr",
     "output_type": "stream",
     "text": [
      "Trying to set attribute `.obs` of view, copying.\n",
      "Variable names are not unique. To make them unique, call `.var_names_make_unique`.\n",
      "Variable names are not unique. To make them unique, call `.var_names_make_unique`.\n",
      "Variable names are not unique. To make them unique, call `.var_names_make_unique`.\n",
      "Variable names are not unique. To make them unique, call `.var_names_make_unique`.\n"
     ]
    },
    {
     "name": "stdout",
     "output_type": "stream",
     "text": [
      "FCA7474065\n",
      "/nfs/team292/aa22/202006_scRNA-seq_MFI_cellranger/scRNA_seq_Roser_cellranger/cellranger302_count_25892_FCA7474065_GRCh38-3_0_0/raw_feature_bc_matrix.h5\n"
     ]
    },
    {
     "name": "stderr",
     "output_type": "stream",
     "text": [
      "Variable names are not unique. To make them unique, call `.var_names_make_unique`.\n",
      "Variable names are not unique. To make them unique, call `.var_names_make_unique`.\n"
     ]
    },
    {
     "name": "stdout",
     "output_type": "stream",
     "text": [
      "shape of raw_feature_bc_matrices_sc before filtering out cells (737280, 33538)\n",
      "shape of raw_feature_bc_matrices_sc after filtering out cells (732673, 33538)\n"
     ]
    },
    {
     "name": "stderr",
     "output_type": "stream",
     "text": [
      "Trying to set attribute `.obs` of view, copying.\n",
      "Variable names are not unique. To make them unique, call `.var_names_make_unique`.\n",
      "Variable names are not unique. To make them unique, call `.var_names_make_unique`.\n",
      "Variable names are not unique. To make them unique, call `.var_names_make_unique`.\n",
      "Variable names are not unique. To make them unique, call `.var_names_make_unique`.\n"
     ]
    },
    {
     "name": "stdout",
     "output_type": "stream",
     "text": [
      "FCA7474066\n",
      "/nfs/team292/aa22/202006_scRNA-seq_MFI_cellranger/scRNA_seq_Roser_cellranger/cellranger302_count_25891_FCA7474066_GRCh38-3_0_0/raw_feature_bc_matrix.h5\n"
     ]
    },
    {
     "name": "stderr",
     "output_type": "stream",
     "text": [
      "Variable names are not unique. To make them unique, call `.var_names_make_unique`.\n",
      "Variable names are not unique. To make them unique, call `.var_names_make_unique`.\n"
     ]
    },
    {
     "name": "stdout",
     "output_type": "stream",
     "text": [
      "shape of raw_feature_bc_matrices_sc before filtering out cells (737280, 33538)\n",
      "shape of raw_feature_bc_matrices_sc after filtering out cells (732441, 33538)\n"
     ]
    },
    {
     "name": "stderr",
     "output_type": "stream",
     "text": [
      "Trying to set attribute `.obs` of view, copying.\n",
      "Variable names are not unique. To make them unique, call `.var_names_make_unique`.\n",
      "Variable names are not unique. To make them unique, call `.var_names_make_unique`.\n",
      "Variable names are not unique. To make them unique, call `.var_names_make_unique`.\n",
      "Variable names are not unique. To make them unique, call `.var_names_make_unique`.\n"
     ]
    },
    {
     "name": "stdout",
     "output_type": "stream",
     "text": [
      "FCA7474068\n",
      "/nfs/team292/aa22/202006_scRNA-seq_MFI_cellranger/scRNA_seq_Roser_cellranger/cellranger302_count_25891_FCA7474068_GRCh38-3_0_0/raw_feature_bc_matrix.h5\n"
     ]
    },
    {
     "name": "stderr",
     "output_type": "stream",
     "text": [
      "Variable names are not unique. To make them unique, call `.var_names_make_unique`.\n",
      "Variable names are not unique. To make them unique, call `.var_names_make_unique`.\n"
     ]
    },
    {
     "name": "stdout",
     "output_type": "stream",
     "text": [
      "shape of raw_feature_bc_matrices_sc before filtering out cells (737280, 33538)\n",
      "shape of raw_feature_bc_matrices_sc after filtering out cells (733382, 33538)\n"
     ]
    },
    {
     "name": "stderr",
     "output_type": "stream",
     "text": [
      "Trying to set attribute `.obs` of view, copying.\n",
      "Variable names are not unique. To make them unique, call `.var_names_make_unique`.\n",
      "Variable names are not unique. To make them unique, call `.var_names_make_unique`.\n",
      "Variable names are not unique. To make them unique, call `.var_names_make_unique`.\n",
      "Variable names are not unique. To make them unique, call `.var_names_make_unique`.\n"
     ]
    },
    {
     "name": "stdout",
     "output_type": "stream",
     "text": [
      "FCA7474069\n",
      "/nfs/team292/aa22/202006_scRNA-seq_MFI_cellranger/scRNA_seq_Roser_cellranger/cellranger302_count_25891_FCA7474069_GRCh38-3_0_0/raw_feature_bc_matrix.h5\n"
     ]
    },
    {
     "name": "stderr",
     "output_type": "stream",
     "text": [
      "Variable names are not unique. To make them unique, call `.var_names_make_unique`.\n",
      "Variable names are not unique. To make them unique, call `.var_names_make_unique`.\n"
     ]
    },
    {
     "name": "stdout",
     "output_type": "stream",
     "text": [
      "shape of raw_feature_bc_matrices_sc before filtering out cells (737280, 33538)\n",
      "shape of raw_feature_bc_matrices_sc after filtering out cells (736648, 33538)\n"
     ]
    },
    {
     "name": "stderr",
     "output_type": "stream",
     "text": [
      "Trying to set attribute `.obs` of view, copying.\n",
      "Variable names are not unique. To make them unique, call `.var_names_make_unique`.\n",
      "Variable names are not unique. To make them unique, call `.var_names_make_unique`.\n",
      "Variable names are not unique. To make them unique, call `.var_names_make_unique`.\n",
      "Variable names are not unique. To make them unique, call `.var_names_make_unique`.\n"
     ]
    },
    {
     "name": "stdout",
     "output_type": "stream",
     "text": [
      "FCA7511881\n",
      "/nfs/team292/aa22/202006_scRNA-seq_MFI_cellranger/scRNA_seq_Roser_cellranger/cellranger302_count_25991_FCA7511881_GRCh38-3_0_0/raw_feature_bc_matrix.h5\n"
     ]
    },
    {
     "name": "stderr",
     "output_type": "stream",
     "text": [
      "Variable names are not unique. To make them unique, call `.var_names_make_unique`.\n",
      "Variable names are not unique. To make them unique, call `.var_names_make_unique`.\n"
     ]
    },
    {
     "name": "stdout",
     "output_type": "stream",
     "text": [
      "shape of raw_feature_bc_matrices_sc before filtering out cells (737280, 33538)\n",
      "shape of raw_feature_bc_matrices_sc after filtering out cells (735304, 33538)\n"
     ]
    },
    {
     "name": "stderr",
     "output_type": "stream",
     "text": [
      "Trying to set attribute `.obs` of view, copying.\n",
      "Variable names are not unique. To make them unique, call `.var_names_make_unique`.\n",
      "Variable names are not unique. To make them unique, call `.var_names_make_unique`.\n",
      "Variable names are not unique. To make them unique, call `.var_names_make_unique`.\n",
      "Variable names are not unique. To make them unique, call `.var_names_make_unique`.\n"
     ]
    },
    {
     "name": "stdout",
     "output_type": "stream",
     "text": [
      "FCA7511882\n",
      "/nfs/team292/aa22/202006_scRNA-seq_MFI_cellranger/scRNA_seq_Roser_cellranger/cellranger302_count_25991_FCA7511882_GRCh38-3_0_0/raw_feature_bc_matrix.h5\n"
     ]
    },
    {
     "name": "stderr",
     "output_type": "stream",
     "text": [
      "Variable names are not unique. To make them unique, call `.var_names_make_unique`.\n",
      "Variable names are not unique. To make them unique, call `.var_names_make_unique`.\n"
     ]
    },
    {
     "name": "stdout",
     "output_type": "stream",
     "text": [
      "shape of raw_feature_bc_matrices_sc before filtering out cells (737280, 33538)\n",
      "shape of raw_feature_bc_matrices_sc after filtering out cells (735013, 33538)\n"
     ]
    },
    {
     "name": "stderr",
     "output_type": "stream",
     "text": [
      "Trying to set attribute `.obs` of view, copying.\n",
      "Variable names are not unique. To make them unique, call `.var_names_make_unique`.\n",
      "Variable names are not unique. To make them unique, call `.var_names_make_unique`.\n",
      "Variable names are not unique. To make them unique, call `.var_names_make_unique`.\n",
      "Variable names are not unique. To make them unique, call `.var_names_make_unique`.\n"
     ]
    },
    {
     "name": "stdout",
     "output_type": "stream",
     "text": [
      "FCA7511883\n",
      "/nfs/team292/aa22/202006_scRNA-seq_MFI_cellranger/scRNA_seq_Roser_cellranger/cellranger302_count_25991_FCA7511883_GRCh38-3_0_0/raw_feature_bc_matrix.h5\n"
     ]
    },
    {
     "name": "stderr",
     "output_type": "stream",
     "text": [
      "Variable names are not unique. To make them unique, call `.var_names_make_unique`.\n",
      "Variable names are not unique. To make them unique, call `.var_names_make_unique`.\n"
     ]
    },
    {
     "name": "stdout",
     "output_type": "stream",
     "text": [
      "shape of raw_feature_bc_matrices_sc before filtering out cells (737280, 33538)\n",
      "shape of raw_feature_bc_matrices_sc after filtering out cells (736770, 33538)\n"
     ]
    },
    {
     "name": "stderr",
     "output_type": "stream",
     "text": [
      "Trying to set attribute `.obs` of view, copying.\n",
      "Variable names are not unique. To make them unique, call `.var_names_make_unique`.\n",
      "Variable names are not unique. To make them unique, call `.var_names_make_unique`.\n",
      "Variable names are not unique. To make them unique, call `.var_names_make_unique`.\n",
      "Variable names are not unique. To make them unique, call `.var_names_make_unique`.\n"
     ]
    },
    {
     "name": "stdout",
     "output_type": "stream",
     "text": [
      "FCA7511884\n",
      "/nfs/team292/aa22/202006_scRNA-seq_MFI_cellranger/scRNA_seq_Roser_cellranger/cellranger302_count_25991_FCA7511884_GRCh38-3_0_0/raw_feature_bc_matrix.h5\n"
     ]
    },
    {
     "name": "stderr",
     "output_type": "stream",
     "text": [
      "Variable names are not unique. To make them unique, call `.var_names_make_unique`.\n",
      "Variable names are not unique. To make them unique, call `.var_names_make_unique`.\n"
     ]
    },
    {
     "name": "stdout",
     "output_type": "stream",
     "text": [
      "shape of raw_feature_bc_matrices_sc before filtering out cells (737280, 33538)\n",
      "shape of raw_feature_bc_matrices_sc after filtering out cells (732969, 33538)\n"
     ]
    },
    {
     "name": "stderr",
     "output_type": "stream",
     "text": [
      "Trying to set attribute `.obs` of view, copying.\n",
      "Variable names are not unique. To make them unique, call `.var_names_make_unique`.\n",
      "Variable names are not unique. To make them unique, call `.var_names_make_unique`.\n",
      "Variable names are not unique. To make them unique, call `.var_names_make_unique`.\n",
      "Variable names are not unique. To make them unique, call `.var_names_make_unique`.\n"
     ]
    },
    {
     "name": "stdout",
     "output_type": "stream",
     "text": [
      "FCA7511885\n",
      "/nfs/team292/aa22/202006_scRNA-seq_MFI_cellranger/scRNA_seq_Roser_cellranger/cellranger302_count_25991_FCA7511885_GRCh38-3_0_0/raw_feature_bc_matrix.h5\n"
     ]
    },
    {
     "name": "stderr",
     "output_type": "stream",
     "text": [
      "Variable names are not unique. To make them unique, call `.var_names_make_unique`.\n",
      "Variable names are not unique. To make them unique, call `.var_names_make_unique`.\n"
     ]
    },
    {
     "name": "stdout",
     "output_type": "stream",
     "text": [
      "shape of raw_feature_bc_matrices_sc before filtering out cells (737280, 33538)\n",
      "shape of raw_feature_bc_matrices_sc after filtering out cells (733512, 33538)\n"
     ]
    },
    {
     "name": "stderr",
     "output_type": "stream",
     "text": [
      "Trying to set attribute `.obs` of view, copying.\n",
      "Variable names are not unique. To make them unique, call `.var_names_make_unique`.\n",
      "Variable names are not unique. To make them unique, call `.var_names_make_unique`.\n",
      "Variable names are not unique. To make them unique, call `.var_names_make_unique`.\n",
      "Variable names are not unique. To make them unique, call `.var_names_make_unique`.\n"
     ]
    },
    {
     "name": "stdout",
     "output_type": "stream",
     "text": [
      "FCA7511886\n",
      "/nfs/team292/aa22/202006_scRNA-seq_MFI_cellranger/scRNA_seq_Roser_cellranger/cellranger302_count_25991_FCA7511886_GRCh38-3_0_0/raw_feature_bc_matrix.h5\n"
     ]
    },
    {
     "name": "stderr",
     "output_type": "stream",
     "text": [
      "Variable names are not unique. To make them unique, call `.var_names_make_unique`.\n",
      "Variable names are not unique. To make them unique, call `.var_names_make_unique`.\n"
     ]
    },
    {
     "name": "stdout",
     "output_type": "stream",
     "text": [
      "shape of raw_feature_bc_matrices_sc before filtering out cells (737280, 33538)\n",
      "shape of raw_feature_bc_matrices_sc after filtering out cells (734342, 33538)\n"
     ]
    },
    {
     "name": "stderr",
     "output_type": "stream",
     "text": [
      "Trying to set attribute `.obs` of view, copying.\n",
      "Variable names are not unique. To make them unique, call `.var_names_make_unique`.\n",
      "Variable names are not unique. To make them unique, call `.var_names_make_unique`.\n",
      "Variable names are not unique. To make them unique, call `.var_names_make_unique`.\n",
      "Variable names are not unique. To make them unique, call `.var_names_make_unique`.\n"
     ]
    },
    {
     "name": "stdout",
     "output_type": "stream",
     "text": [
      "Pla_HDBR8624430\n",
      "/lustre/scratch117/cellgen/team292/aa22/data/scRNA-seq_MFI_from_Regina/cellranger302_count_32361_Pla_HDBR8624430_GRCh38-3_0_0/raw_feature_bc_matrix.h5\n"
     ]
    },
    {
     "name": "stderr",
     "output_type": "stream",
     "text": [
      "Variable names are not unique. To make them unique, call `.var_names_make_unique`.\n",
      "Variable names are not unique. To make them unique, call `.var_names_make_unique`.\n"
     ]
    },
    {
     "name": "stdout",
     "output_type": "stream",
     "text": [
      "shape of raw_feature_bc_matrices_sc before filtering out cells (737280, 33538)\n",
      "shape of raw_feature_bc_matrices_sc after filtering out cells (733977, 33538)\n"
     ]
    },
    {
     "name": "stderr",
     "output_type": "stream",
     "text": [
      "Trying to set attribute `.obs` of view, copying.\n",
      "Variable names are not unique. To make them unique, call `.var_names_make_unique`.\n",
      "Variable names are not unique. To make them unique, call `.var_names_make_unique`.\n",
      "Variable names are not unique. To make them unique, call `.var_names_make_unique`.\n",
      "Variable names are not unique. To make them unique, call `.var_names_make_unique`.\n"
     ]
    },
    {
     "name": "stdout",
     "output_type": "stream",
     "text": [
      "Pla_HDBR8624431\n",
      "/lustre/scratch117/cellgen/team292/aa22/data/scRNA-seq_MFI_from_Regina/cellranger302_count_32361_Pla_HDBR8624431_GRCh38-3_0_0/raw_feature_bc_matrix.h5\n"
     ]
    },
    {
     "name": "stderr",
     "output_type": "stream",
     "text": [
      "Variable names are not unique. To make them unique, call `.var_names_make_unique`.\n",
      "Variable names are not unique. To make them unique, call `.var_names_make_unique`.\n"
     ]
    },
    {
     "name": "stdout",
     "output_type": "stream",
     "text": [
      "shape of raw_feature_bc_matrices_sc before filtering out cells (737280, 33538)\n",
      "shape of raw_feature_bc_matrices_sc after filtering out cells (732365, 33538)\n"
     ]
    },
    {
     "name": "stderr",
     "output_type": "stream",
     "text": [
      "Trying to set attribute `.obs` of view, copying.\n",
      "Variable names are not unique. To make them unique, call `.var_names_make_unique`.\n",
      "Variable names are not unique. To make them unique, call `.var_names_make_unique`.\n",
      "Variable names are not unique. To make them unique, call `.var_names_make_unique`.\n",
      "Variable names are not unique. To make them unique, call `.var_names_make_unique`.\n"
     ]
    },
    {
     "name": "stdout",
     "output_type": "stream",
     "text": [
      "Pla_HDBR8768477\n",
      "/lustre/scratch117/cellgen/team292/aa22/data/scRNA-seq_MFI_from_Regina/cellranger302_count_33655_Pla_HDBR8768477_GRCh38-3_0_0/raw_feature_bc_matrix.h5\n"
     ]
    },
    {
     "name": "stderr",
     "output_type": "stream",
     "text": [
      "Variable names are not unique. To make them unique, call `.var_names_make_unique`.\n",
      "Variable names are not unique. To make them unique, call `.var_names_make_unique`.\n"
     ]
    },
    {
     "name": "stdout",
     "output_type": "stream",
     "text": [
      "shape of raw_feature_bc_matrices_sc before filtering out cells (737280, 33538)\n",
      "shape of raw_feature_bc_matrices_sc after filtering out cells (734892, 33538)\n"
     ]
    },
    {
     "name": "stderr",
     "output_type": "stream",
     "text": [
      "Trying to set attribute `.obs` of view, copying.\n",
      "Variable names are not unique. To make them unique, call `.var_names_make_unique`.\n",
      "Variable names are not unique. To make them unique, call `.var_names_make_unique`.\n",
      "Variable names are not unique. To make them unique, call `.var_names_make_unique`.\n",
      "Variable names are not unique. To make them unique, call `.var_names_make_unique`.\n"
     ]
    },
    {
     "name": "stdout",
     "output_type": "stream",
     "text": [
      "Pla_HDBR8715512\n",
      "/lustre/scratch117/cellgen/team292/aa22/data/scRNA-seq_MFI_from_Regina/cellranger302_count_33120_Pla_HDBR8715512_GRCh38-3_0_0/raw_feature_bc_matrix.h5\n"
     ]
    },
    {
     "name": "stderr",
     "output_type": "stream",
     "text": [
      "Variable names are not unique. To make them unique, call `.var_names_make_unique`.\n",
      "Variable names are not unique. To make them unique, call `.var_names_make_unique`.\n"
     ]
    },
    {
     "name": "stdout",
     "output_type": "stream",
     "text": [
      "shape of raw_feature_bc_matrices_sc before filtering out cells (737280, 33538)\n",
      "shape of raw_feature_bc_matrices_sc after filtering out cells (737102, 33538)\n"
     ]
    },
    {
     "name": "stderr",
     "output_type": "stream",
     "text": [
      "Trying to set attribute `.obs` of view, copying.\n",
      "Variable names are not unique. To make them unique, call `.var_names_make_unique`.\n",
      "Variable names are not unique. To make them unique, call `.var_names_make_unique`.\n",
      "Variable names are not unique. To make them unique, call `.var_names_make_unique`.\n",
      "Variable names are not unique. To make them unique, call `.var_names_make_unique`.\n"
     ]
    },
    {
     "name": "stdout",
     "output_type": "stream",
     "text": [
      "Pla_HDBR8715514\n",
      "/lustre/scratch117/cellgen/team292/aa22/data/scRNA-seq_MFI_from_Regina/cellranger302_count_33120_Pla_HDBR8715514_GRCh38-3_0_0/raw_feature_bc_matrix.h5\n"
     ]
    },
    {
     "name": "stderr",
     "output_type": "stream",
     "text": [
      "Variable names are not unique. To make them unique, call `.var_names_make_unique`.\n",
      "Variable names are not unique. To make them unique, call `.var_names_make_unique`.\n"
     ]
    },
    {
     "name": "stdout",
     "output_type": "stream",
     "text": [
      "shape of raw_feature_bc_matrices_sc before filtering out cells (737280, 33538)\n",
      "shape of raw_feature_bc_matrices_sc after filtering out cells (735420, 33538)\n"
     ]
    },
    {
     "name": "stderr",
     "output_type": "stream",
     "text": [
      "Trying to set attribute `.obs` of view, copying.\n",
      "Variable names are not unique. To make them unique, call `.var_names_make_unique`.\n",
      "Variable names are not unique. To make them unique, call `.var_names_make_unique`.\n",
      "Variable names are not unique. To make them unique, call `.var_names_make_unique`.\n",
      "Variable names are not unique. To make them unique, call `.var_names_make_unique`.\n"
     ]
    },
    {
     "name": "stdout",
     "output_type": "stream",
     "text": [
      "Pla_HDBR10917730\n",
      "/lustre/scratch117/cellgen/team292/aa22/data/scRNA-seq_MFI_from_Regina/cellranger302_count_40812_Pla_HDBR10917730_GRCh38-3_0_0/raw_feature_bc_matrix.h5\n"
     ]
    },
    {
     "name": "stderr",
     "output_type": "stream",
     "text": [
      "Variable names are not unique. To make them unique, call `.var_names_make_unique`.\n",
      "Variable names are not unique. To make them unique, call `.var_names_make_unique`.\n"
     ]
    },
    {
     "name": "stdout",
     "output_type": "stream",
     "text": [
      "shape of raw_feature_bc_matrices_sc before filtering out cells (6794880, 33538)\n",
      "shape of raw_feature_bc_matrices_sc after filtering out cells (6780212, 33538)\n"
     ]
    },
    {
     "name": "stderr",
     "output_type": "stream",
     "text": [
      "Trying to set attribute `.obs` of view, copying.\n",
      "Variable names are not unique. To make them unique, call `.var_names_make_unique`.\n",
      "Variable names are not unique. To make them unique, call `.var_names_make_unique`.\n",
      "Variable names are not unique. To make them unique, call `.var_names_make_unique`.\n",
      "Variable names are not unique. To make them unique, call `.var_names_make_unique`.\n"
     ]
    },
    {
     "name": "stdout",
     "output_type": "stream",
     "text": [
      "Pla_HDBR10917731\n",
      "/lustre/scratch117/cellgen/team292/aa22/data/scRNA-seq_MFI_from_Regina/cellranger302_count_40812_Pla_HDBR10917731_GRCh38-3_0_0/raw_feature_bc_matrix.h5\n"
     ]
    },
    {
     "name": "stderr",
     "output_type": "stream",
     "text": [
      "Variable names are not unique. To make them unique, call `.var_names_make_unique`.\n",
      "Variable names are not unique. To make them unique, call `.var_names_make_unique`.\n"
     ]
    },
    {
     "name": "stdout",
     "output_type": "stream",
     "text": [
      "shape of raw_feature_bc_matrices_sc before filtering out cells (6794880, 33538)\n",
      "shape of raw_feature_bc_matrices_sc after filtering out cells (6781360, 33538)\n"
     ]
    },
    {
     "name": "stderr",
     "output_type": "stream",
     "text": [
      "Trying to set attribute `.obs` of view, copying.\n",
      "Variable names are not unique. To make them unique, call `.var_names_make_unique`.\n",
      "Variable names are not unique. To make them unique, call `.var_names_make_unique`.\n",
      "Variable names are not unique. To make them unique, call `.var_names_make_unique`.\n",
      "Variable names are not unique. To make them unique, call `.var_names_make_unique`.\n"
     ]
    },
    {
     "name": "stdout",
     "output_type": "stream",
     "text": [
      "Pla_HDBR10917733\n",
      "/lustre/scratch117/cellgen/team292/aa22/data/scRNA-seq_MFI_from_Regina/cellranger302_count_40812_Pla_HDBR10917733_GRCh38-3_0_0/raw_feature_bc_matrix.h5\n"
     ]
    },
    {
     "name": "stderr",
     "output_type": "stream",
     "text": [
      "Variable names are not unique. To make them unique, call `.var_names_make_unique`.\n",
      "Variable names are not unique. To make them unique, call `.var_names_make_unique`.\n"
     ]
    },
    {
     "name": "stdout",
     "output_type": "stream",
     "text": [
      "shape of raw_feature_bc_matrices_sc before filtering out cells (6794880, 33538)\n",
      "shape of raw_feature_bc_matrices_sc after filtering out cells (6774558, 33538)\n"
     ]
    },
    {
     "name": "stderr",
     "output_type": "stream",
     "text": [
      "Trying to set attribute `.obs` of view, copying.\n",
      "Variable names are not unique. To make them unique, call `.var_names_make_unique`.\n",
      "Variable names are not unique. To make them unique, call `.var_names_make_unique`.\n",
      "Variable names are not unique. To make them unique, call `.var_names_make_unique`.\n",
      "Variable names are not unique. To make them unique, call `.var_names_make_unique`.\n"
     ]
    },
    {
     "name": "stdout",
     "output_type": "stream",
     "text": [
      "Pla_HDBR10142767\n",
      "/lustre/scratch117/cellgen/team292/aa22/data/scRNA-seq_MFI_new_samples_202105/cellranger302_count_37879_Pla_HDBR10142767_GRCh38-3_0_0/raw_feature_bc_matrix.h5\n"
     ]
    },
    {
     "name": "stderr",
     "output_type": "stream",
     "text": [
      "Variable names are not unique. To make them unique, call `.var_names_make_unique`.\n",
      "Variable names are not unique. To make them unique, call `.var_names_make_unique`.\n"
     ]
    },
    {
     "name": "stdout",
     "output_type": "stream",
     "text": [
      "shape of raw_feature_bc_matrices_sc before filtering out cells (6794880, 33538)\n",
      "shape of raw_feature_bc_matrices_sc after filtering out cells (6787318, 33538)\n"
     ]
    },
    {
     "name": "stderr",
     "output_type": "stream",
     "text": [
      "Trying to set attribute `.obs` of view, copying.\n",
      "Variable names are not unique. To make them unique, call `.var_names_make_unique`.\n",
      "Variable names are not unique. To make them unique, call `.var_names_make_unique`.\n",
      "Variable names are not unique. To make them unique, call `.var_names_make_unique`.\n",
      "Variable names are not unique. To make them unique, call `.var_names_make_unique`.\n"
     ]
    },
    {
     "name": "stdout",
     "output_type": "stream",
     "text": [
      "Pla_HDBR10142768\n",
      "/lustre/scratch117/cellgen/team292/aa22/data/scRNA-seq_MFI_new_samples_202105/cellranger302_count_37879_Pla_HDBR10142768_GRCh38-3_0_0/raw_feature_bc_matrix.h5\n"
     ]
    },
    {
     "name": "stderr",
     "output_type": "stream",
     "text": [
      "Variable names are not unique. To make them unique, call `.var_names_make_unique`.\n",
      "Variable names are not unique. To make them unique, call `.var_names_make_unique`.\n"
     ]
    },
    {
     "name": "stdout",
     "output_type": "stream",
     "text": [
      "shape of raw_feature_bc_matrices_sc before filtering out cells (6794880, 33538)\n",
      "shape of raw_feature_bc_matrices_sc after filtering out cells (6787264, 33538)\n"
     ]
    },
    {
     "name": "stderr",
     "output_type": "stream",
     "text": [
      "Trying to set attribute `.obs` of view, copying.\n",
      "Variable names are not unique. To make them unique, call `.var_names_make_unique`.\n",
      "Variable names are not unique. To make them unique, call `.var_names_make_unique`.\n",
      "Variable names are not unique. To make them unique, call `.var_names_make_unique`.\n",
      "Variable names are not unique. To make them unique, call `.var_names_make_unique`.\n"
     ]
    },
    {
     "name": "stdout",
     "output_type": "stream",
     "text": [
      "Pla_HDBR10142769\n",
      "/lustre/scratch117/cellgen/team292/aa22/data/scRNA-seq_MFI_new_samples_202105/cellranger302_count_37879_Pla_HDBR10142769_GRCh38-3_0_0/raw_feature_bc_matrix.h5\n"
     ]
    },
    {
     "name": "stderr",
     "output_type": "stream",
     "text": [
      "Variable names are not unique. To make them unique, call `.var_names_make_unique`.\n",
      "Variable names are not unique. To make them unique, call `.var_names_make_unique`.\n"
     ]
    },
    {
     "name": "stdout",
     "output_type": "stream",
     "text": [
      "shape of raw_feature_bc_matrices_sc before filtering out cells (6794880, 33538)\n",
      "shape of raw_feature_bc_matrices_sc after filtering out cells (6778452, 33538)\n"
     ]
    },
    {
     "name": "stderr",
     "output_type": "stream",
     "text": [
      "Trying to set attribute `.obs` of view, copying.\n",
      "Variable names are not unique. To make them unique, call `.var_names_make_unique`.\n",
      "Variable names are not unique. To make them unique, call `.var_names_make_unique`.\n",
      "Variable names are not unique. To make them unique, call `.var_names_make_unique`.\n",
      "Variable names are not unique. To make them unique, call `.var_names_make_unique`.\n"
     ]
    },
    {
     "name": "stdout",
     "output_type": "stream",
     "text": [
      "Pla_HDBR10142770\n",
      "/lustre/scratch117/cellgen/team292/aa22/data/scRNA-seq_MFI_new_samples_202105/cellranger302_count_37879_Pla_HDBR10142770_GRCh38-3_0_0/raw_feature_bc_matrix.h5\n"
     ]
    },
    {
     "name": "stderr",
     "output_type": "stream",
     "text": [
      "Variable names are not unique. To make them unique, call `.var_names_make_unique`.\n",
      "Variable names are not unique. To make them unique, call `.var_names_make_unique`.\n"
     ]
    },
    {
     "name": "stdout",
     "output_type": "stream",
     "text": [
      "shape of raw_feature_bc_matrices_sc before filtering out cells (6794880, 33538)\n",
      "shape of raw_feature_bc_matrices_sc after filtering out cells (6782108, 33538)\n"
     ]
    },
    {
     "name": "stderr",
     "output_type": "stream",
     "text": [
      "Trying to set attribute `.obs` of view, copying.\n",
      "Variable names are not unique. To make them unique, call `.var_names_make_unique`.\n",
      "Variable names are not unique. To make them unique, call `.var_names_make_unique`.\n",
      "Variable names are not unique. To make them unique, call `.var_names_make_unique`.\n",
      "Variable names are not unique. To make them unique, call `.var_names_make_unique`.\n"
     ]
    },
    {
     "name": "stdout",
     "output_type": "stream",
     "text": [
      "Pla_HDBR10701667\n",
      "/lustre/scratch117/cellgen/team292/aa22/data/sc_sn_RNA-seq_MFI_samples_202109/cellranger302_count_41013_Pla_HDBR10701667_GRCh38-3_0_0/raw_feature_bc_matrix.h5\n"
     ]
    },
    {
     "name": "stderr",
     "output_type": "stream",
     "text": [
      "Variable names are not unique. To make them unique, call `.var_names_make_unique`.\n",
      "Variable names are not unique. To make them unique, call `.var_names_make_unique`.\n"
     ]
    },
    {
     "name": "stdout",
     "output_type": "stream",
     "text": [
      "shape of raw_feature_bc_matrices_sc before filtering out cells (6794880, 33538)\n",
      "shape of raw_feature_bc_matrices_sc after filtering out cells (6778013, 33538)\n"
     ]
    },
    {
     "name": "stderr",
     "output_type": "stream",
     "text": [
      "Trying to set attribute `.obs` of view, copying.\n",
      "Variable names are not unique. To make them unique, call `.var_names_make_unique`.\n",
      "Variable names are not unique. To make them unique, call `.var_names_make_unique`.\n",
      "Variable names are not unique. To make them unique, call `.var_names_make_unique`.\n",
      "Variable names are not unique. To make them unique, call `.var_names_make_unique`.\n"
     ]
    },
    {
     "name": "stdout",
     "output_type": "stream",
     "text": [
      "Pla_HDBR10701668\n",
      "/lustre/scratch117/cellgen/team292/aa22/data/sc_sn_RNA-seq_MFI_samples_202109/cellranger302_count_41013_Pla_HDBR10701668_GRCh38-3_0_0/raw_feature_bc_matrix.h5\n"
     ]
    },
    {
     "name": "stderr",
     "output_type": "stream",
     "text": [
      "Variable names are not unique. To make them unique, call `.var_names_make_unique`.\n",
      "Variable names are not unique. To make them unique, call `.var_names_make_unique`.\n"
     ]
    },
    {
     "name": "stdout",
     "output_type": "stream",
     "text": [
      "shape of raw_feature_bc_matrices_sc before filtering out cells (6794880, 33538)\n",
      "shape of raw_feature_bc_matrices_sc after filtering out cells (6781419, 33538)\n"
     ]
    },
    {
     "name": "stderr",
     "output_type": "stream",
     "text": [
      "Trying to set attribute `.obs` of view, copying.\n",
      "Variable names are not unique. To make them unique, call `.var_names_make_unique`.\n",
      "Variable names are not unique. To make them unique, call `.var_names_make_unique`.\n",
      "Variable names are not unique. To make them unique, call `.var_names_make_unique`.\n",
      "Variable names are not unique. To make them unique, call `.var_names_make_unique`.\n"
     ]
    }
   ],
   "source": [
    "# get raw feature barcode matrices for each sample\n",
    "# CELLS\n",
    "raw_feature_bc_matrices_sc = {}\n",
    "\n",
    "for sample in samples_sc:\n",
    "    \n",
    "    if sample in samples_P13_sn:\n",
    "        path = '/nfs/team292/aa22/202007_snRNA-seq_MFI/202005_snRNA-seq_cellranger/snRNA_seq_data_MFI_blocks_from_prof_Moffett/'\n",
    "    if sample in samples_P13_sn_paired_Visium + samples_P14_sn_paired_Visium:\n",
    "        path = '/nfs/team292/aa22/202007_snRNA-seq_MFI/202006_snRNA-seq_MFI_paired_to_Visium_cellranger/'\n",
    "    if sample in samples_P13_sn_new + samples_P14_sn_new + samples_Hrv43_sn + samples_P34_sn + samples_Hrv43_sc_new + samples_Hrv46_sc_new:\n",
    "        path = '/lustre/scratch117/cellgen/team292/aa22/data/sc_sn_RNA-seq_MFI_samples_202109/'\n",
    "    if sample in samples_P13_multiome + samples_P14_multiome + samples_Hrv43_multiome:\n",
    "        path = '/lustre/scratch117/cellgen/team292/aa22/data/202107_multiome_MFI/'\n",
    "    if sample in samples_Vento_sc:\n",
    "        path = '/nfs/team292/aa22/202006_scRNA-seq_MFI_cellranger/scRNA_seq_Roser_cellranger/'\n",
    "    if sample in samples_MFI_new_sc_batch_1 + samples_MFI_new_sc_batch_2:\n",
    "        path = '/lustre/scratch117/cellgen/team292/aa22/data/scRNA-seq_MFI_from_Regina/'\n",
    "    if sample in samples_Hrv43_sc + samples_Hrv46_sc:\n",
    "        path = '/lustre/scratch117/cellgen/team292/aa22/data/scRNA-seq_MFI_new_samples_202105/'\n",
    "    \n",
    "    \n",
    "    path_full = glob.glob(path + 'cellranger*' + sample + '*/raw_feature_bc_matrix.h5')[0]\n",
    "    \n",
    "    print(sample)\n",
    "    print(path_full)\n",
    "    \n",
    "    raw_feature_bc_matrices_sc[sample] = sc.read_10x_h5(path_full)\n",
    "        \n",
    "    print('shape of raw_feature_bc_matrices_sc before filtering out cells', raw_feature_bc_matrices_sc[sample].X.shape)        \n",
    "        \n",
    "    # only take those droplets that are not in filtered_feature_bc_matrices\n",
    "    empty_droplets = list(set(raw_feature_bc_matrices_sc[sample].obs_names) - set(filtered_feature_bc_matrices_sc[sample].obs_names))\n",
    "    raw_feature_bc_matrices_sc[sample] = raw_feature_bc_matrices_sc[sample][empty_droplets,:]\n",
    "        \n",
    "    print('shape of raw_feature_bc_matrices_sc after filtering out cells', raw_feature_bc_matrices_sc[sample].X.shape)        \n",
    "\n",
    "    raw_feature_bc_matrices_sc[sample].obs['barcode_sample'] = raw_feature_bc_matrices_sc[sample].obs.index + '_' + sample\n",
    "        \n",
    "    # Filter droplets with total UMI count of 5-50 (filtering 1-4 since these might be fake droplets from sequencing errors)\n",
    "    sc.pp.filter_cells(raw_feature_bc_matrices_sc[sample], min_counts=5)\n",
    "    #sc.pp.filter_cells(raw_feature_bc_matrices[dataset][sample], max_counts=50)\n",
    "        \n",
    "    #add the total counts per cell as observations-annotation to adata\n",
    "    raw_feature_bc_matrices_sc[sample].obs['n_counts'] = raw_feature_bc_matrices_sc[sample].X.sum(axis=1).A1\n",
    "        \n",
    "    raw_feature_bc_matrices_sc[sample].var_names_make_unique()\n",
    "        \n",
    "    # Extract mitochondial genes\n",
    "    mito_genes = [name for name in raw_feature_bc_matrices_sc[sample].var_names if name.startswith('MT-')]\n",
    "    #for each cell compute fraction of counts in mito genes vs. all genes\n",
    "    #the `.A1` is only necessary, as X is sparse - it transform to a dense array after summing\n",
    "    raw_feature_bc_matrices_sc[sample].obs['percent_mito'] = np.sum(raw_feature_bc_matrices_sc[sample][:, mito_genes].X, axis=1).A1 / np.sum(raw_feature_bc_matrices_sc[sample].X, axis=1).A1\n",
    "        \n",
    "        \n",
    "    "
   ]
  },
  {
   "cell_type": "code",
   "execution_count": 7,
   "id": "earlier-findings",
   "metadata": {
    "tags": []
   },
   "outputs": [
    {
     "name": "stdout",
     "output_type": "stream",
     "text": [
      "WSSS_PLA8764121\n",
      "/nfs/team292/aa22/202007_snRNA-seq_MFI/202005_snRNA-seq_cellranger/snRNA_seq_data_MFI_blocks_from_prof_Moffett/cellranger302_count_33883_WSSS_PLA8764121_GRCh38-3_0_0-premrna/raw_feature_bc_matrix.h5\n"
     ]
    },
    {
     "name": "stderr",
     "output_type": "stream",
     "text": [
      "Variable names are not unique. To make them unique, call `.var_names_make_unique`.\n",
      "Variable names are not unique. To make them unique, call `.var_names_make_unique`.\n"
     ]
    },
    {
     "name": "stdout",
     "output_type": "stream",
     "text": [
      "shape of raw_feature_bc_matrices_sn before filtering out cells (6794880, 33538)\n",
      "shape of raw_feature_bc_matrices_sn after filtering out cells (6784248, 33538)\n"
     ]
    },
    {
     "name": "stderr",
     "output_type": "stream",
     "text": [
      "Trying to set attribute `.obs` of view, copying.\n",
      "Variable names are not unique. To make them unique, call `.var_names_make_unique`.\n",
      "Variable names are not unique. To make them unique, call `.var_names_make_unique`.\n",
      "Variable names are not unique. To make them unique, call `.var_names_make_unique`.\n",
      "Variable names are not unique. To make them unique, call `.var_names_make_unique`.\n"
     ]
    },
    {
     "name": "stdout",
     "output_type": "stream",
     "text": [
      "WSSS_PLA8764122\n",
      "/nfs/team292/aa22/202007_snRNA-seq_MFI/202005_snRNA-seq_cellranger/snRNA_seq_data_MFI_blocks_from_prof_Moffett/cellranger302_count_33883_WSSS_PLA8764122_GRCh38-3_0_0-premrna/raw_feature_bc_matrix.h5\n"
     ]
    },
    {
     "name": "stderr",
     "output_type": "stream",
     "text": [
      "Variable names are not unique. To make them unique, call `.var_names_make_unique`.\n",
      "Variable names are not unique. To make them unique, call `.var_names_make_unique`.\n"
     ]
    },
    {
     "name": "stdout",
     "output_type": "stream",
     "text": [
      "shape of raw_feature_bc_matrices_sn before filtering out cells (6794880, 33538)\n",
      "shape of raw_feature_bc_matrices_sn after filtering out cells (6784212, 33538)\n"
     ]
    },
    {
     "name": "stderr",
     "output_type": "stream",
     "text": [
      "Trying to set attribute `.obs` of view, copying.\n",
      "Variable names are not unique. To make them unique, call `.var_names_make_unique`.\n",
      "Variable names are not unique. To make them unique, call `.var_names_make_unique`.\n",
      "Variable names are not unique. To make them unique, call `.var_names_make_unique`.\n",
      "Variable names are not unique. To make them unique, call `.var_names_make_unique`.\n"
     ]
    },
    {
     "name": "stdout",
     "output_type": "stream",
     "text": [
      "WSSS_PLA8810750\n",
      "/nfs/team292/aa22/202007_snRNA-seq_MFI/202006_snRNA-seq_MFI_paired_to_Visium_cellranger/cellranger302_count_34149_WSSS_PLA8810750_GRCh38-3_0_0_premrna/raw_feature_bc_matrix.h5\n"
     ]
    },
    {
     "name": "stderr",
     "output_type": "stream",
     "text": [
      "Variable names are not unique. To make them unique, call `.var_names_make_unique`.\n",
      "Variable names are not unique. To make them unique, call `.var_names_make_unique`.\n"
     ]
    },
    {
     "name": "stdout",
     "output_type": "stream",
     "text": [
      "shape of raw_feature_bc_matrices_sn before filtering out cells (6794880, 33538)\n",
      "shape of raw_feature_bc_matrices_sn after filtering out cells (6776272, 33538)\n"
     ]
    },
    {
     "name": "stderr",
     "output_type": "stream",
     "text": [
      "Trying to set attribute `.obs` of view, copying.\n",
      "Variable names are not unique. To make them unique, call `.var_names_make_unique`.\n",
      "Variable names are not unique. To make them unique, call `.var_names_make_unique`.\n",
      "Variable names are not unique. To make them unique, call `.var_names_make_unique`.\n",
      "Variable names are not unique. To make them unique, call `.var_names_make_unique`.\n"
     ]
    },
    {
     "name": "stdout",
     "output_type": "stream",
     "text": [
      "WSSS_PLA8810751\n",
      "/nfs/team292/aa22/202007_snRNA-seq_MFI/202006_snRNA-seq_MFI_paired_to_Visium_cellranger/cellranger302_count_34149_WSSS_PLA8810751_GRCh38-3_0_0_premrna/raw_feature_bc_matrix.h5\n"
     ]
    },
    {
     "name": "stderr",
     "output_type": "stream",
     "text": [
      "Variable names are not unique. To make them unique, call `.var_names_make_unique`.\n",
      "Variable names are not unique. To make them unique, call `.var_names_make_unique`.\n"
     ]
    },
    {
     "name": "stdout",
     "output_type": "stream",
     "text": [
      "shape of raw_feature_bc_matrices_sn before filtering out cells (6794880, 33538)\n",
      "shape of raw_feature_bc_matrices_sn after filtering out cells (6778456, 33538)\n"
     ]
    },
    {
     "name": "stderr",
     "output_type": "stream",
     "text": [
      "Trying to set attribute `.obs` of view, copying.\n",
      "Variable names are not unique. To make them unique, call `.var_names_make_unique`.\n",
      "Variable names are not unique. To make them unique, call `.var_names_make_unique`.\n",
      "Variable names are not unique. To make them unique, call `.var_names_make_unique`.\n",
      "Variable names are not unique. To make them unique, call `.var_names_make_unique`.\n"
     ]
    },
    {
     "name": "stdout",
     "output_type": "stream",
     "text": [
      "Pla_Camb10691970\n",
      "/lustre/scratch117/cellgen/team292/aa22/data/sc_sn_RNA-seq_MFI_samples_202109/cellranger302_count_41013_Pla_Camb10691970_GRCh38-3_0_0-premrna/raw_feature_bc_matrix.h5\n"
     ]
    },
    {
     "name": "stderr",
     "output_type": "stream",
     "text": [
      "Variable names are not unique. To make them unique, call `.var_names_make_unique`.\n",
      "Variable names are not unique. To make them unique, call `.var_names_make_unique`.\n"
     ]
    },
    {
     "name": "stdout",
     "output_type": "stream",
     "text": [
      "shape of raw_feature_bc_matrices_sn before filtering out cells (6794880, 33538)\n",
      "shape of raw_feature_bc_matrices_sn after filtering out cells (6782566, 33538)\n"
     ]
    },
    {
     "name": "stderr",
     "output_type": "stream",
     "text": [
      "Trying to set attribute `.obs` of view, copying.\n",
      "Variable names are not unique. To make them unique, call `.var_names_make_unique`.\n",
      "Variable names are not unique. To make them unique, call `.var_names_make_unique`.\n",
      "Variable names are not unique. To make them unique, call `.var_names_make_unique`.\n",
      "Variable names are not unique. To make them unique, call `.var_names_make_unique`.\n"
     ]
    },
    {
     "name": "stdout",
     "output_type": "stream",
     "text": [
      "Pla_Camb10691971\n",
      "/lustre/scratch117/cellgen/team292/aa22/data/sc_sn_RNA-seq_MFI_samples_202109/cellranger302_count_41013_Pla_Camb10691971_GRCh38-3_0_0-premrna/raw_feature_bc_matrix.h5\n"
     ]
    },
    {
     "name": "stderr",
     "output_type": "stream",
     "text": [
      "Variable names are not unique. To make them unique, call `.var_names_make_unique`.\n",
      "Variable names are not unique. To make them unique, call `.var_names_make_unique`.\n"
     ]
    },
    {
     "name": "stdout",
     "output_type": "stream",
     "text": [
      "shape of raw_feature_bc_matrices_sn before filtering out cells (6794880, 33538)\n",
      "shape of raw_feature_bc_matrices_sn after filtering out cells (6782426, 33538)\n"
     ]
    },
    {
     "name": "stderr",
     "output_type": "stream",
     "text": [
      "Trying to set attribute `.obs` of view, copying.\n",
      "Variable names are not unique. To make them unique, call `.var_names_make_unique`.\n",
      "Variable names are not unique. To make them unique, call `.var_names_make_unique`.\n",
      "Variable names are not unique. To make them unique, call `.var_names_make_unique`.\n",
      "Variable names are not unique. To make them unique, call `.var_names_make_unique`.\n"
     ]
    },
    {
     "name": "stdout",
     "output_type": "stream",
     "text": [
      "Pla_Camb10714919\n",
      "/lustre/scratch117/cellgen/team292/aa22/data/202107_multiome_MFI/cellranger-arc101_count_40427_Pla_Camb10714919_and_40110_Pla_Camb10687915_GRCh38-3.0.0_for_arc/raw_feature_bc_matrix.h5\n"
     ]
    },
    {
     "name": "stderr",
     "output_type": "stream",
     "text": [
      "Variable names are not unique. To make them unique, call `.var_names_make_unique`.\n",
      "Variable names are not unique. To make them unique, call `.var_names_make_unique`.\n"
     ]
    },
    {
     "name": "stdout",
     "output_type": "stream",
     "text": [
      "shape of raw_feature_bc_matrices_sn before filtering out cells (736320, 33538)\n",
      "shape of raw_feature_bc_matrices_sn after filtering out cells (729991, 33538)\n"
     ]
    },
    {
     "name": "stderr",
     "output_type": "stream",
     "text": [
      "Trying to set attribute `.obs` of view, copying.\n",
      "Variable names are not unique. To make them unique, call `.var_names_make_unique`.\n",
      "Variable names are not unique. To make them unique, call `.var_names_make_unique`.\n",
      "Variable names are not unique. To make them unique, call `.var_names_make_unique`.\n",
      "Variable names are not unique. To make them unique, call `.var_names_make_unique`.\n"
     ]
    },
    {
     "name": "stdout",
     "output_type": "stream",
     "text": [
      "Pla_Camb10714920\n",
      "/lustre/scratch117/cellgen/team292/aa22/data/202107_multiome_MFI/cellranger-arc101_count_40427_Pla_Camb10714920_and_40110_Pla_Camb10687916_GRCh38-3.0.0_for_arc/raw_feature_bc_matrix.h5\n"
     ]
    },
    {
     "name": "stderr",
     "output_type": "stream",
     "text": [
      "Variable names are not unique. To make them unique, call `.var_names_make_unique`.\n",
      "Variable names are not unique. To make them unique, call `.var_names_make_unique`.\n"
     ]
    },
    {
     "name": "stdout",
     "output_type": "stream",
     "text": [
      "shape of raw_feature_bc_matrices_sn before filtering out cells (736320, 33538)\n",
      "shape of raw_feature_bc_matrices_sn after filtering out cells (729669, 33538)\n"
     ]
    },
    {
     "name": "stderr",
     "output_type": "stream",
     "text": [
      "Trying to set attribute `.obs` of view, copying.\n",
      "Variable names are not unique. To make them unique, call `.var_names_make_unique`.\n",
      "Variable names are not unique. To make them unique, call `.var_names_make_unique`.\n",
      "Variable names are not unique. To make them unique, call `.var_names_make_unique`.\n",
      "Variable names are not unique. To make them unique, call `.var_names_make_unique`.\n"
     ]
    },
    {
     "name": "stdout",
     "output_type": "stream",
     "text": [
      "WSSS_PLA8811068\n",
      "/nfs/team292/aa22/202007_snRNA-seq_MFI/202006_snRNA-seq_MFI_paired_to_Visium_cellranger/cellranger302_count_34149_WSSS_PLA8811068_GRCh38-3_0_0_premrna/raw_feature_bc_matrix.h5\n"
     ]
    },
    {
     "name": "stderr",
     "output_type": "stream",
     "text": [
      "Variable names are not unique. To make them unique, call `.var_names_make_unique`.\n",
      "Variable names are not unique. To make them unique, call `.var_names_make_unique`.\n"
     ]
    },
    {
     "name": "stdout",
     "output_type": "stream",
     "text": [
      "shape of raw_feature_bc_matrices_sn before filtering out cells (6794880, 33538)\n",
      "shape of raw_feature_bc_matrices_sn after filtering out cells (6779231, 33538)\n"
     ]
    },
    {
     "name": "stderr",
     "output_type": "stream",
     "text": [
      "Trying to set attribute `.obs` of view, copying.\n",
      "Variable names are not unique. To make them unique, call `.var_names_make_unique`.\n",
      "Variable names are not unique. To make them unique, call `.var_names_make_unique`.\n",
      "Variable names are not unique. To make them unique, call `.var_names_make_unique`.\n",
      "Variable names are not unique. To make them unique, call `.var_names_make_unique`.\n"
     ]
    },
    {
     "name": "stdout",
     "output_type": "stream",
     "text": [
      "WSSS_PLA8811069\n",
      "/nfs/team292/aa22/202007_snRNA-seq_MFI/202006_snRNA-seq_MFI_paired_to_Visium_cellranger/cellranger302_count_34149_WSSS_PLA8811069_GRCh38-3_0_0_premrna/raw_feature_bc_matrix.h5\n"
     ]
    },
    {
     "name": "stderr",
     "output_type": "stream",
     "text": [
      "Variable names are not unique. To make them unique, call `.var_names_make_unique`.\n",
      "Variable names are not unique. To make them unique, call `.var_names_make_unique`.\n"
     ]
    },
    {
     "name": "stdout",
     "output_type": "stream",
     "text": [
      "shape of raw_feature_bc_matrices_sn before filtering out cells (6794880, 33538)\n",
      "shape of raw_feature_bc_matrices_sn after filtering out cells (6777685, 33538)\n"
     ]
    },
    {
     "name": "stderr",
     "output_type": "stream",
     "text": [
      "Trying to set attribute `.obs` of view, copying.\n",
      "Variable names are not unique. To make them unique, call `.var_names_make_unique`.\n",
      "Variable names are not unique. To make them unique, call `.var_names_make_unique`.\n",
      "Variable names are not unique. To make them unique, call `.var_names_make_unique`.\n",
      "Variable names are not unique. To make them unique, call `.var_names_make_unique`.\n"
     ]
    },
    {
     "name": "stdout",
     "output_type": "stream",
     "text": [
      "WSSS_PLA8811070\n",
      "/nfs/team292/aa22/202007_snRNA-seq_MFI/202006_snRNA-seq_MFI_paired_to_Visium_cellranger/cellranger302_count_34149_WSSS_PLA8811070_GRCh38-3_0_0_premrna/raw_feature_bc_matrix.h5\n"
     ]
    },
    {
     "name": "stderr",
     "output_type": "stream",
     "text": [
      "Variable names are not unique. To make them unique, call `.var_names_make_unique`.\n",
      "Variable names are not unique. To make them unique, call `.var_names_make_unique`.\n"
     ]
    },
    {
     "name": "stdout",
     "output_type": "stream",
     "text": [
      "shape of raw_feature_bc_matrices_sn before filtering out cells (6794880, 33538)\n",
      "shape of raw_feature_bc_matrices_sn after filtering out cells (6785449, 33538)\n"
     ]
    },
    {
     "name": "stderr",
     "output_type": "stream",
     "text": [
      "Trying to set attribute `.obs` of view, copying.\n",
      "Variable names are not unique. To make them unique, call `.var_names_make_unique`.\n",
      "Variable names are not unique. To make them unique, call `.var_names_make_unique`.\n",
      "Variable names are not unique. To make them unique, call `.var_names_make_unique`.\n",
      "Variable names are not unique. To make them unique, call `.var_names_make_unique`.\n"
     ]
    },
    {
     "name": "stdout",
     "output_type": "stream",
     "text": [
      "Pla_Camb10691972\n",
      "/lustre/scratch117/cellgen/team292/aa22/data/sc_sn_RNA-seq_MFI_samples_202109/cellranger302_count_41013_Pla_Camb10691972_GRCh38-3_0_0-premrna/raw_feature_bc_matrix.h5\n"
     ]
    },
    {
     "name": "stderr",
     "output_type": "stream",
     "text": [
      "Variable names are not unique. To make them unique, call `.var_names_make_unique`.\n",
      "Variable names are not unique. To make them unique, call `.var_names_make_unique`.\n"
     ]
    },
    {
     "name": "stdout",
     "output_type": "stream",
     "text": [
      "shape of raw_feature_bc_matrices_sn before filtering out cells (6794880, 33538)\n",
      "shape of raw_feature_bc_matrices_sn after filtering out cells (6787156, 33538)\n"
     ]
    },
    {
     "name": "stderr",
     "output_type": "stream",
     "text": [
      "Trying to set attribute `.obs` of view, copying.\n",
      "Variable names are not unique. To make them unique, call `.var_names_make_unique`.\n",
      "Variable names are not unique. To make them unique, call `.var_names_make_unique`.\n",
      "Variable names are not unique. To make them unique, call `.var_names_make_unique`.\n",
      "Variable names are not unique. To make them unique, call `.var_names_make_unique`.\n"
     ]
    },
    {
     "name": "stdout",
     "output_type": "stream",
     "text": [
      "Pla_Camb10714918\n",
      "/lustre/scratch117/cellgen/team292/aa22/data/202107_multiome_MFI/cellranger-arc101_count_40427_Pla_Camb10714918_and_40110_Pla_Camb10687914_GRCh38-3.0.0_for_arc/raw_feature_bc_matrix.h5\n"
     ]
    },
    {
     "name": "stderr",
     "output_type": "stream",
     "text": [
      "Variable names are not unique. To make them unique, call `.var_names_make_unique`.\n",
      "Variable names are not unique. To make them unique, call `.var_names_make_unique`.\n"
     ]
    },
    {
     "name": "stdout",
     "output_type": "stream",
     "text": [
      "shape of raw_feature_bc_matrices_sn before filtering out cells (736320, 33538)\n",
      "shape of raw_feature_bc_matrices_sn after filtering out cells (731195, 33538)\n"
     ]
    },
    {
     "name": "stderr",
     "output_type": "stream",
     "text": [
      "Trying to set attribute `.obs` of view, copying.\n",
      "Variable names are not unique. To make them unique, call `.var_names_make_unique`.\n",
      "Variable names are not unique. To make them unique, call `.var_names_make_unique`.\n",
      "Variable names are not unique. To make them unique, call `.var_names_make_unique`.\n",
      "Variable names are not unique. To make them unique, call `.var_names_make_unique`.\n"
     ]
    },
    {
     "name": "stdout",
     "output_type": "stream",
     "text": [
      "Pla_HDBR10701666\n",
      "/lustre/scratch117/cellgen/team292/aa22/data/sc_sn_RNA-seq_MFI_samples_202109/cellranger302_count_41013_Pla_HDBR10701666_GRCh38-3_0_0-premrna/raw_feature_bc_matrix.h5\n"
     ]
    },
    {
     "name": "stderr",
     "output_type": "stream",
     "text": [
      "Variable names are not unique. To make them unique, call `.var_names_make_unique`.\n",
      "Variable names are not unique. To make them unique, call `.var_names_make_unique`.\n"
     ]
    },
    {
     "name": "stdout",
     "output_type": "stream",
     "text": [
      "shape of raw_feature_bc_matrices_sn before filtering out cells (6794880, 33538)\n",
      "shape of raw_feature_bc_matrices_sn after filtering out cells (6784157, 33538)\n"
     ]
    },
    {
     "name": "stderr",
     "output_type": "stream",
     "text": [
      "Trying to set attribute `.obs` of view, copying.\n",
      "Variable names are not unique. To make them unique, call `.var_names_make_unique`.\n",
      "Variable names are not unique. To make them unique, call `.var_names_make_unique`.\n",
      "Variable names are not unique. To make them unique, call `.var_names_make_unique`.\n",
      "Variable names are not unique. To make them unique, call `.var_names_make_unique`.\n"
     ]
    },
    {
     "name": "stdout",
     "output_type": "stream",
     "text": [
      "Pla_HDBR10142863\n",
      "/lustre/scratch117/cellgen/team292/aa22/data/202107_multiome_MFI/cellranger-arc101_count_38690_Pla_HDBR10142863_and_37083_Pla_HDBR10084192_GRCh38-3.0.0_for_arc/raw_feature_bc_matrix.h5\n"
     ]
    },
    {
     "name": "stderr",
     "output_type": "stream",
     "text": [
      "Variable names are not unique. To make them unique, call `.var_names_make_unique`.\n",
      "Variable names are not unique. To make them unique, call `.var_names_make_unique`.\n"
     ]
    },
    {
     "name": "stdout",
     "output_type": "stream",
     "text": [
      "shape of raw_feature_bc_matrices_sn before filtering out cells (736320, 33538)\n",
      "shape of raw_feature_bc_matrices_sn after filtering out cells (728721, 33538)\n"
     ]
    },
    {
     "name": "stderr",
     "output_type": "stream",
     "text": [
      "Trying to set attribute `.obs` of view, copying.\n",
      "Variable names are not unique. To make them unique, call `.var_names_make_unique`.\n",
      "Variable names are not unique. To make them unique, call `.var_names_make_unique`.\n",
      "Variable names are not unique. To make them unique, call `.var_names_make_unique`.\n",
      "Variable names are not unique. To make them unique, call `.var_names_make_unique`.\n"
     ]
    },
    {
     "name": "stdout",
     "output_type": "stream",
     "text": [
      "Pla_HDBR10142864\n",
      "/lustre/scratch117/cellgen/team292/aa22/data/202107_multiome_MFI/cellranger-arc101_count_38690_Pla_HDBR10142864_and_37083_Pla_HDBR10084193_GRCh38-3.0.0_for_arc/raw_feature_bc_matrix.h5\n"
     ]
    },
    {
     "name": "stderr",
     "output_type": "stream",
     "text": [
      "Variable names are not unique. To make them unique, call `.var_names_make_unique`.\n",
      "Variable names are not unique. To make them unique, call `.var_names_make_unique`.\n"
     ]
    },
    {
     "name": "stdout",
     "output_type": "stream",
     "text": [
      "shape of raw_feature_bc_matrices_sn before filtering out cells (736320, 33538)\n",
      "shape of raw_feature_bc_matrices_sn after filtering out cells (716323, 33538)\n"
     ]
    },
    {
     "name": "stderr",
     "output_type": "stream",
     "text": [
      "Trying to set attribute `.obs` of view, copying.\n",
      "Variable names are not unique. To make them unique, call `.var_names_make_unique`.\n",
      "Variable names are not unique. To make them unique, call `.var_names_make_unique`.\n",
      "Variable names are not unique. To make them unique, call `.var_names_make_unique`.\n",
      "Variable names are not unique. To make them unique, call `.var_names_make_unique`.\n"
     ]
    },
    {
     "name": "stdout",
     "output_type": "stream",
     "text": [
      "Pla_HDBR10142865\n",
      "/lustre/scratch117/cellgen/team292/aa22/data/202107_multiome_MFI/cellranger-arc101_count_38690_Pla_HDBR10142865_and_37083_Pla_HDBR10084194_GRCh38-3.0.0_for_arc/raw_feature_bc_matrix.h5\n"
     ]
    },
    {
     "name": "stderr",
     "output_type": "stream",
     "text": [
      "Variable names are not unique. To make them unique, call `.var_names_make_unique`.\n",
      "Variable names are not unique. To make them unique, call `.var_names_make_unique`.\n"
     ]
    },
    {
     "name": "stdout",
     "output_type": "stream",
     "text": [
      "shape of raw_feature_bc_matrices_sn before filtering out cells (736320, 33538)\n",
      "shape of raw_feature_bc_matrices_sn after filtering out cells (727543, 33538)\n"
     ]
    },
    {
     "name": "stderr",
     "output_type": "stream",
     "text": [
      "Trying to set attribute `.obs` of view, copying.\n",
      "Variable names are not unique. To make them unique, call `.var_names_make_unique`.\n",
      "Variable names are not unique. To make them unique, call `.var_names_make_unique`.\n",
      "Variable names are not unique. To make them unique, call `.var_names_make_unique`.\n",
      "Variable names are not unique. To make them unique, call `.var_names_make_unique`.\n"
     ]
    },
    {
     "name": "stdout",
     "output_type": "stream",
     "text": [
      "Pla_Camb10691975\n",
      "/lustre/scratch117/cellgen/team292/aa22/data/sc_sn_RNA-seq_MFI_samples_202109/cellranger302_count_41013_Pla_Camb10691975_GRCh38-3_0_0-premrna/raw_feature_bc_matrix.h5\n"
     ]
    },
    {
     "name": "stderr",
     "output_type": "stream",
     "text": [
      "Variable names are not unique. To make them unique, call `.var_names_make_unique`.\n",
      "Variable names are not unique. To make them unique, call `.var_names_make_unique`.\n"
     ]
    },
    {
     "name": "stdout",
     "output_type": "stream",
     "text": [
      "shape of raw_feature_bc_matrices_sn before filtering out cells (6794880, 33538)\n",
      "shape of raw_feature_bc_matrices_sn after filtering out cells (6775482, 33538)\n"
     ]
    },
    {
     "name": "stderr",
     "output_type": "stream",
     "text": [
      "Trying to set attribute `.obs` of view, copying.\n",
      "Variable names are not unique. To make them unique, call `.var_names_make_unique`.\n",
      "Variable names are not unique. To make them unique, call `.var_names_make_unique`.\n",
      "Variable names are not unique. To make them unique, call `.var_names_make_unique`.\n",
      "Variable names are not unique. To make them unique, call `.var_names_make_unique`.\n"
     ]
    }
   ],
   "source": [
    "# get raw feature barcode matrices for each sample\n",
    "# NUCLEI\n",
    "raw_feature_bc_matrices_sn = {}\n",
    "\n",
    "for sample in samples_sn:\n",
    "    \n",
    "    if sample in samples_P13_sn:\n",
    "        path = '/nfs/team292/aa22/202007_snRNA-seq_MFI/202005_snRNA-seq_cellranger/snRNA_seq_data_MFI_blocks_from_prof_Moffett/'\n",
    "    if sample in samples_P13_sn_paired_Visium + samples_P14_sn_paired_Visium:\n",
    "        path = '/nfs/team292/aa22/202007_snRNA-seq_MFI/202006_snRNA-seq_MFI_paired_to_Visium_cellranger/'\n",
    "    if sample in samples_P13_sn_new + samples_P14_sn_new + samples_Hrv43_sn + samples_P34_sn + samples_Hrv43_sc_new + samples_Hrv46_sc_new:\n",
    "        path = '/lustre/scratch117/cellgen/team292/aa22/data/sc_sn_RNA-seq_MFI_samples_202109/'\n",
    "    if sample in samples_P13_multiome + samples_P14_multiome + samples_Hrv43_multiome:\n",
    "        path = '/lustre/scratch117/cellgen/team292/aa22/data/202107_multiome_MFI/'\n",
    "    if sample in samples_Vento_sc:\n",
    "        path = '/nfs/team292/aa22/202006_scRNA-seq_MFI_cellranger/scRNA_seq_Roser_cellranger/'\n",
    "    if sample in samples_MFI_new_sc_batch_1 + samples_MFI_new_sc_batch_2:\n",
    "        path = '/lustre/scratch117/cellgen/team292/aa22/data/scRNA-seq_MFI_from_Regina/'\n",
    "    if sample in samples_Hrv43_sc + samples_Hrv46_sc:\n",
    "        path = '/lustre/scratch117/cellgen/team292/aa22/data/scRNA-seq_MFI_new_samples_202105/'\n",
    "    \n",
    "    \n",
    "    path_full = glob.glob(path + 'cellranger*' + sample + '*/raw_feature_bc_matrix.h5')[0]\n",
    "    \n",
    "    print(sample)\n",
    "    print(path_full)\n",
    "    raw_feature_bc_matrices_sn[sample] = sc.read_10x_h5(path_full)\n",
    "        \n",
    "    print('shape of raw_feature_bc_matrices_sn before filtering out cells', raw_feature_bc_matrices_sn[sample].X.shape)        \n",
    "        \n",
    "    # only take those droplets that are not in filtered_feature_bc_matrices\n",
    "    empty_droplets = list(set(raw_feature_bc_matrices_sn[sample].obs_names) - set(filtered_feature_bc_matrices_sn[sample].obs_names))\n",
    "    raw_feature_bc_matrices_sn[sample] = raw_feature_bc_matrices_sn[sample][empty_droplets,:]\n",
    "        \n",
    "    print('shape of raw_feature_bc_matrices_sn after filtering out cells', raw_feature_bc_matrices_sn[sample].X.shape)        \n",
    "\n",
    "    raw_feature_bc_matrices_sn[sample].obs['barcode_sample'] = raw_feature_bc_matrices_sn[sample].obs.index + '_' + sample\n",
    "        \n",
    "    # Filter droplets with total UMI count of 5-50 (filtering 1-4 since these might be fake droplets from sequencing errors)\n",
    "    sc.pp.filter_cells(raw_feature_bc_matrices_sn[sample], min_counts=5)\n",
    "    #sc.pp.filter_cells(raw_feature_bc_matrices[dataset][sample], max_counts=50)\n",
    "        \n",
    "    #add the total counts per cell as observations-annotation to adata\n",
    "    raw_feature_bc_matrices_sn[sample].obs['n_counts'] = raw_feature_bc_matrices_sn[sample].X.sum(axis=1).A1\n",
    "        \n",
    "    raw_feature_bc_matrices_sn[sample].var_names_make_unique()\n",
    "        \n",
    "    # Extract mitochondial genes\n",
    "    mito_genes = [name for name in raw_feature_bc_matrices_sn[sample].var_names if name.startswith('MT-')]\n",
    "    #for each cell compute fraction of counts in mito genes vs. all genes\n",
    "    #the `.A1` is only necessary, as X is sparse - it transform to a dense array after summing\n",
    "    raw_feature_bc_matrices_sn[sample].obs['percent_mito'] = np.sum(raw_feature_bc_matrices_sn[sample][:, mito_genes].X, axis=1).A1 / np.sum(raw_feature_bc_matrices_sn[sample].X, axis=1).A1\n",
    "        \n",
    "    "
   ]
  },
  {
   "cell_type": "markdown",
   "id": "verbal-essay",
   "metadata": {},
   "source": [
    "## Important step: to not over-filter genes from stats of good samples, let's only consider those samples where the `Fraction reads in cells` is less than 70% (for more guidance, see [this](https://assets.ctfassets.net/an68im79xiti/163qWiQBTVi2YLbskJphQX/e90bb82151b1cdab6d7e9b6c845e6130/CG000329_TechnicalNote_InterpretingCellRangerWebSummaryFiles_RevA.pdf))"
   ]
  },
  {
   "cell_type": "code",
   "execution_count": 8,
   "id": "designing-mining",
   "metadata": {},
   "outputs": [
    {
     "data": {
      "text/plain": [
       "8.2"
      ]
     },
     "execution_count": 8,
     "metadata": {},
     "output_type": "execute_result"
    }
   ],
   "source": [
    "np.float64('8.2%'[:-1])"
   ]
  },
  {
   "cell_type": "code",
   "execution_count": 9,
   "id": "center-settlement",
   "metadata": {},
   "outputs": [],
   "source": [
    "samples = samples_sc + samples_sn"
   ]
  },
  {
   "cell_type": "code",
   "execution_count": 24,
   "id": "extraordinary-castle",
   "metadata": {
    "collapsed": true,
    "jupyter": {
     "outputs_hidden": true
    },
    "tags": []
   },
   "outputs": [
    {
     "name": "stdout",
     "output_type": "stream",
     "text": [
      "sample FCA7167219 from samples 1 out of 62\n",
      "68.3\n",
      "sample FCA7167221 from samples 2 out of 62\n",
      "70.5\n",
      "sample FCA7167222 from samples 3 out of 62\n",
      "65.6\n",
      "sample FCA7167223 from samples 4 out of 62\n",
      "65.3\n",
      "sample FCA7167224 from samples 5 out of 62\n",
      "63.8\n",
      "sample FCA7167226 from samples 6 out of 62\n",
      "62.3\n",
      "sample FCA7167230 from samples 7 out of 62\n",
      "49.5\n",
      "sample FCA7167231 from samples 8 out of 62\n",
      "71.6\n",
      "sample FCA7167232 from samples 9 out of 62\n",
      "49.7\n",
      "sample FCA7196218 from samples 10 out of 62\n",
      "90.4\n",
      "sample FCA7196219 from samples 11 out of 62\n",
      "97.2\n",
      "sample FCA7196220 from samples 12 out of 62\n",
      "96.0\n",
      "sample FCA7196224 from samples 13 out of 62\n",
      "94.1\n",
      "sample FCA7196225 from samples 14 out of 62\n",
      "95.7\n",
      "sample FCA7196226 from samples 15 out of 62\n",
      "96.6\n",
      "sample FCA7196229 from samples 16 out of 62\n",
      "97.2\n",
      "sample FCA7196231 from samples 17 out of 62\n",
      "98.0\n",
      "sample FCA7474062 from samples 18 out of 62\n",
      "94.4\n",
      "sample FCA7474063 from samples 19 out of 62\n",
      "96.1\n",
      "sample FCA7474064 from samples 20 out of 62\n",
      "96.3\n",
      "sample FCA7474065 from samples 21 out of 62\n",
      "96.2\n",
      "sample FCA7474066 from samples 22 out of 62\n",
      "97.0\n",
      "sample FCA7474068 from samples 23 out of 62\n",
      "95.4\n",
      "sample FCA7474069 from samples 24 out of 62\n",
      "34.0\n",
      "sample FCA7511881 from samples 25 out of 62\n",
      "93.6\n",
      "sample FCA7511882 from samples 26 out of 62\n",
      "96.6\n",
      "sample FCA7511883 from samples 27 out of 62\n",
      "96.0\n",
      "sample FCA7511884 from samples 28 out of 62\n",
      "95.8\n",
      "sample FCA7511885 from samples 29 out of 62\n",
      "96.4\n",
      "sample FCA7511886 from samples 30 out of 62\n",
      "95.8\n",
      "sample Pla_HDBR8624430 from samples 31 out of 62\n",
      "88.2\n",
      "sample Pla_HDBR8624431 from samples 32 out of 62\n",
      "91.4\n",
      "sample Pla_HDBR8768477 from samples 33 out of 62\n",
      "92.5\n",
      "sample Pla_HDBR8715512 from samples 34 out of 62\n",
      "82.1\n",
      "sample Pla_HDBR8715514 from samples 35 out of 62\n",
      "82.3\n",
      "sample Pla_HDBR10917730 from samples 36 out of 62\n",
      "88.3\n",
      "sample Pla_HDBR10917731 from samples 37 out of 62\n",
      "85.7\n",
      "sample Pla_HDBR10917733 from samples 38 out of 62\n",
      "86.5\n",
      "sample Pla_HDBR10142767 from samples 39 out of 62\n",
      "80.0\n",
      "sample Pla_HDBR10142768 from samples 40 out of 62\n",
      "86.1\n",
      "sample Pla_HDBR10142769 from samples 41 out of 62\n",
      "81.9\n",
      "sample Pla_HDBR10142770 from samples 42 out of 62\n",
      "84.8\n",
      "sample Pla_HDBR10701667 from samples 43 out of 62\n",
      "80.1\n",
      "sample Pla_HDBR10701668 from samples 44 out of 62\n",
      "79.8\n",
      "sample WSSS_PLA8764121 from samples 45 out of 62\n",
      "56.4\n",
      "sample WSSS_PLA8764122 from samples 46 out of 62\n",
      "56.5\n",
      "sample WSSS_PLA8810750 from samples 47 out of 62\n",
      "71.3\n",
      "sample WSSS_PLA8810751 from samples 48 out of 62\n",
      "72.5\n",
      "sample Pla_Camb10691970 from samples 49 out of 62\n",
      "50.7\n",
      "sample Pla_Camb10691971 from samples 50 out of 62\n",
      "48.5\n",
      "sample Pla_Camb10714919 from samples 51 out of 62\n",
      "65.094\n",
      "sample Pla_Camb10714920 from samples 52 out of 62\n",
      "66.755\n",
      "sample WSSS_PLA8811068 from samples 53 out of 62\n",
      "54.9\n",
      "sample WSSS_PLA8811069 from samples 54 out of 62\n",
      "54.9\n",
      "sample WSSS_PLA8811070 from samples 55 out of 62\n",
      "37.8\n",
      "sample Pla_Camb10691972 from samples 56 out of 62\n",
      "37.2\n",
      "sample Pla_Camb10714918 from samples 57 out of 62\n",
      "75.548\n",
      "sample Pla_HDBR10701666 from samples 58 out of 62\n",
      "50.5\n",
      "sample Pla_HDBR10142863 from samples 59 out of 62\n",
      "73.598\n",
      "sample Pla_HDBR10142864 from samples 60 out of 62\n",
      "50.824999999999996\n",
      "sample Pla_HDBR10142865 from samples 61 out of 62\n",
      "70.684\n",
      "sample Pla_Camb10691975 from samples 62 out of 62\n",
      "61.8\n"
     ]
    }
   ],
   "source": [
    "# reading QC metrics of cellranger runs\n",
    "\n",
    "QC_metrics = {}\n",
    "\n",
    "noisy_samples_sc = []\n",
    "noisy_samples_sn = []\n",
    "\n",
    "for sample in samples:\n",
    "    print('sample', sample,\n",
    "          \"from samples\", list(samples).index(sample)+1,\n",
    "          'out of', len(samples))\n",
    "    \n",
    "    if sample in samples_P13_sn:\n",
    "        path = '/nfs/team292/aa22/202007_snRNA-seq_MFI/202005_snRNA-seq_cellranger/snRNA_seq_data_MFI_blocks_from_prof_Moffett/'\n",
    "    if sample in samples_P13_sn_paired_Visium + samples_P14_sn_paired_Visium:\n",
    "        path = '/nfs/team292/aa22/202007_snRNA-seq_MFI/202006_snRNA-seq_MFI_paired_to_Visium_cellranger/'\n",
    "    if sample in samples_P13_sn_new + samples_P14_sn_new + samples_Hrv43_sn + samples_P34_sn + samples_Hrv43_sc_new + samples_Hrv46_sc_new:\n",
    "        path = '/lustre/scratch117/cellgen/team292/aa22/data/sc_sn_RNA-seq_MFI_samples_202109/'\n",
    "    if sample in samples_P13_multiome + samples_P14_multiome + samples_Hrv43_multiome:\n",
    "        path = '/lustre/scratch117/cellgen/team292/aa22/data/202107_multiome_MFI/'\n",
    "    if sample in samples_Vento_sc:\n",
    "        path = '/nfs/team292/aa22/202006_scRNA-seq_MFI_cellranger/scRNA_seq_Roser_cellranger/'\n",
    "    if sample in samples_MFI_new_sc_batch_1 + samples_MFI_new_sc_batch_2:\n",
    "        path = '/lustre/scratch117/cellgen/team292/aa22/data/scRNA-seq_MFI_from_Regina/'\n",
    "    if sample in samples_Hrv43_sc + samples_Hrv46_sc:\n",
    "        path = '/lustre/scratch117/cellgen/team292/aa22/data/scRNA-seq_MFI_new_samples_202105/'\n",
    "   \n",
    "    #print(path)\n",
    "    \n",
    "    path_full = glob.glob(path + 'cellranger*' + sample + '*/*summary.csv')[0]\n",
    "        \n",
    "    QC_metrics[sample] = pd.read_csv(path_full)\n",
    "    \n",
    "    fractions_reads_in_cells_col = ['GEX Fraction of transcriptomic reads in cells' if sample in samples_P13_multiome + samples_P14_multiome + samples_Hrv43_multiome else 'Fraction Reads in Cells'][0]\n",
    "    \n",
    "    #print(fractions_reads_in_cells_col)\n",
    "    \n",
    "    metric = list(QC_metrics[sample].loc[:,fractions_reads_in_cells_col])[0]\n",
    "        \n",
    "    if sample in samples_P13_multiome + samples_P14_multiome + samples_Hrv43_multiome:\n",
    "        metric_num = metric*100\n",
    "    else: # if it's a normal sc/sn sample\n",
    "        metric_num = np.float64(metric[:-1])\n",
    "        \n",
    "    print(metric_num)\n",
    "\n",
    "    \n",
    "    if metric_num < 70:\n",
    "        if sample in samples_sc:\n",
    "            noisy_samples_sc.append(sample)\n",
    "        elif sample in samples_sn:\n",
    "            noisy_samples_sn.append(sample)\n",
    "        else:\n",
    "            print(\"sample is noisy but is not in samples_sc or in samples_sn, don't know where to add\")"
   ]
  },
  {
   "cell_type": "code",
   "execution_count": 25,
   "id": "proud-destruction",
   "metadata": {},
   "outputs": [
    {
     "data": {
      "text/plain": [
       "['FCA7167219',\n",
       " 'FCA7167222',\n",
       " 'FCA7167223',\n",
       " 'FCA7167224',\n",
       " 'FCA7167226',\n",
       " 'FCA7167230',\n",
       " 'FCA7167232',\n",
       " 'FCA7474069']"
      ]
     },
     "execution_count": 25,
     "metadata": {},
     "output_type": "execute_result"
    }
   ],
   "source": [
    "noisy_samples_sc"
   ]
  },
  {
   "cell_type": "code",
   "execution_count": 26,
   "id": "latter-purple",
   "metadata": {},
   "outputs": [
    {
     "data": {
      "text/plain": [
       "['WSSS_PLA8764121',\n",
       " 'WSSS_PLA8764122',\n",
       " 'Pla_Camb10691970',\n",
       " 'Pla_Camb10691971',\n",
       " 'Pla_Camb10714919',\n",
       " 'Pla_Camb10714920',\n",
       " 'WSSS_PLA8811068',\n",
       " 'WSSS_PLA8811069',\n",
       " 'WSSS_PLA8811070',\n",
       " 'Pla_Camb10691972',\n",
       " 'Pla_HDBR10701666',\n",
       " 'Pla_HDBR10142864',\n",
       " 'Pla_Camb10691975']"
      ]
     },
     "execution_count": 26,
     "metadata": {},
     "output_type": "execute_result"
    }
   ],
   "source": [
    "noisy_samples_sn"
   ]
  },
  {
   "cell_type": "markdown",
   "id": "difficult-major",
   "metadata": {},
   "source": [
    "### So here there are some sc and sn samples that are 'soupy' --> let's work with only these ones"
   ]
  },
  {
   "cell_type": "code",
   "execution_count": 27,
   "id": "overhead-stroke",
   "metadata": {
    "tags": []
   },
   "outputs": [
    {
     "name": "stdout",
     "output_type": "stream",
     "text": [
      "FCA7167219\n",
      "FCA7167222\n",
      "FCA7167223\n",
      "FCA7167224\n",
      "FCA7167226\n",
      "FCA7167230\n",
      "FCA7167232\n",
      "FCA7474069\n"
     ]
    },
    {
     "name": "stderr",
     "output_type": "stream",
     "text": [
      "Observation names are not unique. To make them unique, call `.obs_names_make_unique`.\n",
      "Observation names are not unique. To make them unique, call `.obs_names_make_unique`.\n",
      "Observation names are not unique. To make them unique, call `.obs_names_make_unique`.\n",
      "Observation names are not unique. To make them unique, call `.obs_names_make_unique`.\n"
     ]
    }
   ],
   "source": [
    "# concatenating into joint object of empty droplets and filtered droplets\n",
    "# CELLS\n",
    "\n",
    "holder_empty_droplets_sc = []\n",
    "holder_filtered_sc = []\n",
    "\n",
    "for sample in noisy_samples_sc:\n",
    "    print(sample)\n",
    "        \n",
    "    holder_empty_droplets_sc.append(raw_feature_bc_matrices_sc[sample])\n",
    "    holder_filtered_sc.append(filtered_feature_bc_matrices_sc[sample])\n",
    "\n",
    "empty_droplets_joint_sc = holder_empty_droplets_sc[0].concatenate(holder_empty_droplets_sc[1:],join='outer',index_unique=None)\n",
    "filtered_droplets_joint_sc = holder_filtered_sc[0].concatenate(holder_filtered_sc[1:],join='outer',index_unique=None)\n",
    "\n",
    "empty_droplets_joint_sc.obs_names_make_unique()\n",
    "filtered_droplets_joint_sc.obs_names_make_unique()"
   ]
  },
  {
   "cell_type": "code",
   "execution_count": 28,
   "id": "amateur-denial",
   "metadata": {
    "tags": []
   },
   "outputs": [
    {
     "name": "stdout",
     "output_type": "stream",
     "text": [
      "WSSS_PLA8764121\n",
      "WSSS_PLA8764122\n",
      "Pla_Camb10691970\n",
      "Pla_Camb10691971\n",
      "Pla_Camb10714919\n",
      "Pla_Camb10714920\n",
      "WSSS_PLA8811068\n",
      "WSSS_PLA8811069\n",
      "WSSS_PLA8811070\n",
      "Pla_Camb10691972\n",
      "Pla_HDBR10701666\n",
      "Pla_HDBR10142864\n",
      "Pla_Camb10691975\n"
     ]
    },
    {
     "name": "stderr",
     "output_type": "stream",
     "text": [
      "Observation names are not unique. To make them unique, call `.obs_names_make_unique`.\n",
      "Observation names are not unique. To make them unique, call `.obs_names_make_unique`.\n",
      "Observation names are not unique. To make them unique, call `.obs_names_make_unique`.\n",
      "Observation names are not unique. To make them unique, call `.obs_names_make_unique`.\n"
     ]
    }
   ],
   "source": [
    "# concatenating into joint object of empty droplets and filtered droplets\n",
    "# NUCLEI\n",
    "\n",
    "holder_empty_droplets_sn = []\n",
    "holder_filtered_sn = []\n",
    "\n",
    "for sample in noisy_samples_sn:\n",
    "    print(sample)\n",
    "        \n",
    "    holder_empty_droplets_sn.append(raw_feature_bc_matrices_sn[sample])\n",
    "    holder_filtered_sn.append(filtered_feature_bc_matrices_sn[sample])\n",
    "\n",
    "empty_droplets_joint_sn = holder_empty_droplets_sn[0].concatenate(holder_empty_droplets_sn[1:],join='outer',index_unique=None)\n",
    "filtered_droplets_joint_sn = holder_filtered_sn[0].concatenate(holder_filtered_sn[1:],join='outer',index_unique=None)\n",
    "\n",
    "empty_droplets_joint_sn.obs_names_make_unique()\n",
    "filtered_droplets_joint_sn.obs_names_make_unique()"
   ]
  },
  {
   "cell_type": "code",
   "execution_count": 29,
   "id": "pending-navigator",
   "metadata": {},
   "outputs": [
    {
     "name": "stderr",
     "output_type": "stream",
     "text": [
      "/opt/conda/lib/python3.8/site-packages/pandas/core/arrays/categorical.py:2487: FutureWarning: The `inplace` parameter in pandas.Categorical.remove_unused_categories is deprecated and will be removed in a future version.\n",
      "  res = method(*args, **kwargs)\n"
     ]
    },
    {
     "data": {
      "text/plain": [
       "4692"
      ]
     },
     "execution_count": 29,
     "metadata": {},
     "output_type": "execute_result"
    }
   ],
   "source": [
    "empty_droplets_joint_sc[:,'HLA-G'].X.count_nonzero()"
   ]
  },
  {
   "cell_type": "code",
   "execution_count": 30,
   "id": "experienced-failure",
   "metadata": {},
   "outputs": [
    {
     "data": {
      "text/plain": [
       "907006"
      ]
     },
     "execution_count": 30,
     "metadata": {},
     "output_type": "execute_result"
    }
   ],
   "source": [
    "len(empty_droplets_joint_sc[:,'HLA-G'].X.todense())"
   ]
  },
  {
   "cell_type": "code",
   "execution_count": 31,
   "id": "level-rally",
   "metadata": {},
   "outputs": [
    {
     "data": {
      "text/plain": [
       "AnnData object with n_obs × n_vars = 907006 × 33538\n",
       "    obs: 'barcode_sample', 'n_counts', 'percent_mito', 'batch'\n",
       "    var: 'gene_ids', 'feature_types', 'genome'"
      ]
     },
     "execution_count": 31,
     "metadata": {},
     "output_type": "execute_result"
    }
   ],
   "source": [
    "empty_droplets_joint_sc"
   ]
  },
  {
   "cell_type": "code",
   "execution_count": 32,
   "id": "regulation-newcastle",
   "metadata": {},
   "outputs": [
    {
     "data": {
      "text/plain": [
       "AnnData object with n_obs × n_vars = 22717 × 21073\n",
       "    obs: 'barcode_sample', 'n_genes', 'n_counts', 'percent_mito', 'batch'\n",
       "    var: 'gene_ids-0', 'feature_types-0', 'genome-0', 'n_cells-0', 'gene_ids-1', 'feature_types-1', 'genome-1', 'n_cells-1', 'gene_ids-2', 'feature_types-2', 'genome-2', 'n_cells-2', 'gene_ids-3', 'feature_types-3', 'genome-3', 'n_cells-3', 'gene_ids-4', 'feature_types-4', 'genome-4', 'n_cells-4', 'gene_ids-5', 'feature_types-5', 'genome-5', 'n_cells-5', 'gene_ids-6', 'feature_types-6', 'genome-6', 'n_cells-6', 'gene_ids-7', 'feature_types-7', 'genome-7', 'n_cells-7'"
      ]
     },
     "execution_count": 32,
     "metadata": {},
     "output_type": "execute_result"
    }
   ],
   "source": [
    "filtered_droplets_joint_sc"
   ]
  },
  {
   "cell_type": "code",
   "execution_count": 33,
   "id": "sitting-minimum",
   "metadata": {},
   "outputs": [
    {
     "data": {
      "text/plain": [
       "AnnData object with n_obs × n_vars = 2860438 × 33538\n",
       "    obs: 'barcode_sample', 'n_counts', 'percent_mito', 'batch'\n",
       "    var: 'gene_ids', 'feature_types', 'genome-0', 'genome-1', 'genome-10', 'genome-11', 'genome-12', 'genome-2', 'genome-3', 'genome-4', 'genome-5', 'genome-6', 'genome-7', 'genome-8', 'genome-9'"
      ]
     },
     "execution_count": 33,
     "metadata": {},
     "output_type": "execute_result"
    }
   ],
   "source": [
    "empty_droplets_joint_sn"
   ]
  },
  {
   "cell_type": "code",
   "execution_count": 34,
   "id": "marine-portrait",
   "metadata": {},
   "outputs": [
    {
     "data": {
      "text/plain": [
       "AnnData object with n_obs × n_vars = 159165 × 29904\n",
       "    obs: 'barcode_sample', 'n_genes', 'n_counts', 'percent_mito', 'batch'\n",
       "    var: 'gene_ids-0', 'feature_types-0', 'genome-0', 'n_cells-0', 'gene_ids-1', 'feature_types-1', 'genome-1', 'n_cells-1', 'gene_ids-10', 'feature_types-10', 'genome-10', 'n_cells-10', 'gene_ids-11', 'feature_types-11', 'genome-11', 'n_cells-11', 'gene_ids-12', 'feature_types-12', 'genome-12', 'n_cells-12', 'gene_ids-2', 'feature_types-2', 'genome-2', 'n_cells-2', 'gene_ids-3', 'feature_types-3', 'genome-3', 'n_cells-3', 'gene_ids-4', 'feature_types-4', 'genome-4', 'n_cells-4', 'gene_ids-5', 'feature_types-5', 'genome-5', 'n_cells-5', 'gene_ids-6', 'feature_types-6', 'genome-6', 'n_cells-6', 'gene_ids-7', 'feature_types-7', 'genome-7', 'n_cells-7', 'gene_ids-8', 'feature_types-8', 'genome-8', 'n_cells-8', 'gene_ids-9', 'feature_types-9', 'genome-9', 'n_cells-9'"
      ]
     },
     "execution_count": 34,
     "metadata": {},
     "output_type": "execute_result"
    }
   ],
   "source": [
    "filtered_droplets_joint_sn"
   ]
  },
  {
   "cell_type": "code",
   "execution_count": 35,
   "id": "speaking-judge",
   "metadata": {},
   "outputs": [],
   "source": [
    "# add n_counts to gene tables in .var as counts of a gene in total in all droplets \n",
    "empty_droplets_joint_sc.var['n_counts'] = empty_droplets_joint_sc.X.sum(axis=0).A1\n",
    "empty_droplets_joint_sn.var['n_counts'] = empty_droplets_joint_sn.X.sum(axis=0).A1\n",
    "\n",
    "filtered_droplets_joint_sn.var['n_counts'] = filtered_droplets_joint_sn.X.sum(axis=0).A1\n",
    "filtered_droplets_joint_sc.var['n_counts'] = filtered_droplets_joint_sc.X.sum(axis=0).A1\n"
   ]
  },
  {
   "cell_type": "code",
   "execution_count": 36,
   "id": "positive-parish",
   "metadata": {},
   "outputs": [
    {
     "name": "stdout",
     "output_type": "stream",
     "text": [
      "CPU times: user 124 ms, sys: 11 ms, total: 135 ms\n",
      "Wall time: 129 ms\n"
     ]
    }
   ],
   "source": [
    "%%time\n",
    "\n",
    "# get soup stats: total expression counts sum for each gene for joint objects in droplets and in cells/nuclei + soup probabilities\n",
    "\n",
    "soup_stats_table_joint_sc = pd.DataFrame(index = list(empty_droplets_joint_sc.var_names),\n",
    "                                                         columns = ['Empty_droplet_sum','Cell_sum','Soup_probability'])\n",
    "soup_stats_table_joint_sn = pd.DataFrame(index = list(empty_droplets_joint_sn.var_names),\n",
    "                                                         columns = ['Empty_droplet_sum','Nuclei_sum','Soup_probability'])\n",
    "\n",
    "soup_stats_table_joint_sc['Empty_droplet_sum'] = empty_droplets_joint_sc.var.loc[list(soup_stats_table_joint_sc.index),'n_counts']\n",
    "soup_stats_table_joint_sn['Empty_droplet_sum'] = empty_droplets_joint_sn.var.loc[list(soup_stats_table_joint_sn.index),'n_counts']\n",
    "\n",
    "soup_stats_table_joint_sc['Cell_sum'] = [0 for i in range(len(soup_stats_table_joint_sc.index))]\n",
    "soup_stats_table_joint_sn['Nuclei_sum'] = [0 for i in range(len(soup_stats_table_joint_sn.index))]\n",
    "\n",
    "soup_stats_table_joint_sc.loc[filtered_droplets_joint_sc.var_names, 'Cell_sum'] = filtered_droplets_joint_sc.var['n_counts']\n",
    "soup_stats_table_joint_sn.loc[filtered_droplets_joint_sn.var_names, 'Nuclei_sum'] = filtered_droplets_joint_sn.var['n_counts']\n",
    "\n",
    "soup_stats_table_joint_sc['Soup_probability'] = soup_stats_table_joint_sc['Empty_droplet_sum'] / (soup_stats_table_joint_sc['Empty_droplet_sum'] + soup_stats_table_joint_sc['Cell_sum'])\n",
    "soup_stats_table_joint_sn['Soup_probability'] = soup_stats_table_joint_sn['Empty_droplet_sum'] / (soup_stats_table_joint_sn['Empty_droplet_sum'] + soup_stats_table_joint_sn['Nuclei_sum'])        \n",
    "\n",
    "\n",
    "# droppling stats for genes not detected anywhere (empty droplets or cells/nuclei)\n",
    "soup_stats_table_joint_sc = soup_stats_table_joint_sc.dropna()\n",
    "soup_stats_table_joint_sn = soup_stats_table_joint_sn.dropna()"
   ]
  },
  {
   "cell_type": "code",
   "execution_count": 37,
   "id": "distinct-commander",
   "metadata": {},
   "outputs": [
    {
     "data": {
      "text/html": [
       "<div>\n",
       "<style scoped>\n",
       "    .dataframe tbody tr th:only-of-type {\n",
       "        vertical-align: middle;\n",
       "    }\n",
       "\n",
       "    .dataframe tbody tr th {\n",
       "        vertical-align: top;\n",
       "    }\n",
       "\n",
       "    .dataframe thead th {\n",
       "        text-align: right;\n",
       "    }\n",
       "</style>\n",
       "<table border=\"1\" class=\"dataframe\">\n",
       "  <thead>\n",
       "    <tr style=\"text-align: right;\">\n",
       "      <th></th>\n",
       "      <th>Empty_droplet_sum</th>\n",
       "      <th>Cell_sum</th>\n",
       "      <th>Soup_probability</th>\n",
       "    </tr>\n",
       "  </thead>\n",
       "  <tbody>\n",
       "    <tr>\n",
       "      <th>MIR1302-2HG</th>\n",
       "      <td>1.0</td>\n",
       "      <td>0.0</td>\n",
       "      <td>1.000000</td>\n",
       "    </tr>\n",
       "    <tr>\n",
       "      <th>AL627309.1</th>\n",
       "      <td>14.0</td>\n",
       "      <td>29.0</td>\n",
       "      <td>0.325581</td>\n",
       "    </tr>\n",
       "    <tr>\n",
       "      <th>AL732372.1</th>\n",
       "      <td>6.0</td>\n",
       "      <td>0.0</td>\n",
       "      <td>1.000000</td>\n",
       "    </tr>\n",
       "    <tr>\n",
       "      <th>AL669831.5</th>\n",
       "      <td>180.0</td>\n",
       "      <td>352.0</td>\n",
       "      <td>0.338346</td>\n",
       "    </tr>\n",
       "    <tr>\n",
       "      <th>FAM87B</th>\n",
       "      <td>16.0</td>\n",
       "      <td>45.0</td>\n",
       "      <td>0.262295</td>\n",
       "    </tr>\n",
       "    <tr>\n",
       "      <th>...</th>\n",
       "      <td>...</td>\n",
       "      <td>...</td>\n",
       "      <td>...</td>\n",
       "    </tr>\n",
       "    <tr>\n",
       "      <th>AC007325.4</th>\n",
       "      <td>402.0</td>\n",
       "      <td>583.0</td>\n",
       "      <td>0.408122</td>\n",
       "    </tr>\n",
       "    <tr>\n",
       "      <th>AC007325.2</th>\n",
       "      <td>13.0</td>\n",
       "      <td>38.0</td>\n",
       "      <td>0.254902</td>\n",
       "    </tr>\n",
       "    <tr>\n",
       "      <th>AL354822.1</th>\n",
       "      <td>60.0</td>\n",
       "      <td>272.0</td>\n",
       "      <td>0.180723</td>\n",
       "    </tr>\n",
       "    <tr>\n",
       "      <th>AC004556.1</th>\n",
       "      <td>25.0</td>\n",
       "      <td>35.0</td>\n",
       "      <td>0.416667</td>\n",
       "    </tr>\n",
       "    <tr>\n",
       "      <th>AC240274.1</th>\n",
       "      <td>72.0</td>\n",
       "      <td>500.0</td>\n",
       "      <td>0.125874</td>\n",
       "    </tr>\n",
       "  </tbody>\n",
       "</table>\n",
       "<p>24164 rows × 3 columns</p>\n",
       "</div>"
      ],
      "text/plain": [
       "             Empty_droplet_sum  Cell_sum  Soup_probability\n",
       "MIR1302-2HG                1.0       0.0          1.000000\n",
       "AL627309.1                14.0      29.0          0.325581\n",
       "AL732372.1                 6.0       0.0          1.000000\n",
       "AL669831.5               180.0     352.0          0.338346\n",
       "FAM87B                    16.0      45.0          0.262295\n",
       "...                        ...       ...               ...\n",
       "AC007325.4               402.0     583.0          0.408122\n",
       "AC007325.2                13.0      38.0          0.254902\n",
       "AL354822.1                60.0     272.0          0.180723\n",
       "AC004556.1                25.0      35.0          0.416667\n",
       "AC240274.1                72.0     500.0          0.125874\n",
       "\n",
       "[24164 rows x 3 columns]"
      ]
     },
     "execution_count": 37,
     "metadata": {},
     "output_type": "execute_result"
    }
   ],
   "source": [
    "soup_stats_table_joint_sc"
   ]
  },
  {
   "cell_type": "code",
   "execution_count": 38,
   "id": "defined-sponsorship",
   "metadata": {},
   "outputs": [
    {
     "data": {
      "text/html": [
       "<div>\n",
       "<style scoped>\n",
       "    .dataframe tbody tr th:only-of-type {\n",
       "        vertical-align: middle;\n",
       "    }\n",
       "\n",
       "    .dataframe tbody tr th {\n",
       "        vertical-align: top;\n",
       "    }\n",
       "\n",
       "    .dataframe thead th {\n",
       "        text-align: right;\n",
       "    }\n",
       "</style>\n",
       "<table border=\"1\" class=\"dataframe\">\n",
       "  <thead>\n",
       "    <tr style=\"text-align: right;\">\n",
       "      <th></th>\n",
       "      <th>Empty_droplet_sum</th>\n",
       "      <th>Nuclei_sum</th>\n",
       "      <th>Soup_probability</th>\n",
       "    </tr>\n",
       "  </thead>\n",
       "  <tbody>\n",
       "    <tr>\n",
       "      <th>MIR1302-2HG</th>\n",
       "      <td>7.0</td>\n",
       "      <td>0.0</td>\n",
       "      <td>1.000000</td>\n",
       "    </tr>\n",
       "    <tr>\n",
       "      <th>AL627309.1</th>\n",
       "      <td>1927.0</td>\n",
       "      <td>2652.0</td>\n",
       "      <td>0.420834</td>\n",
       "    </tr>\n",
       "    <tr>\n",
       "      <th>AL627309.3</th>\n",
       "      <td>6.0</td>\n",
       "      <td>6.0</td>\n",
       "      <td>0.500000</td>\n",
       "    </tr>\n",
       "    <tr>\n",
       "      <th>AL627309.2</th>\n",
       "      <td>11.0</td>\n",
       "      <td>27.0</td>\n",
       "      <td>0.289474</td>\n",
       "    </tr>\n",
       "    <tr>\n",
       "      <th>AL627309.4</th>\n",
       "      <td>20.0</td>\n",
       "      <td>24.0</td>\n",
       "      <td>0.454545</td>\n",
       "    </tr>\n",
       "    <tr>\n",
       "      <th>...</th>\n",
       "      <td>...</td>\n",
       "      <td>...</td>\n",
       "      <td>...</td>\n",
       "    </tr>\n",
       "    <tr>\n",
       "      <th>AC023491.2</th>\n",
       "      <td>33.0</td>\n",
       "      <td>69.0</td>\n",
       "      <td>0.323529</td>\n",
       "    </tr>\n",
       "    <tr>\n",
       "      <th>AC004556.1</th>\n",
       "      <td>131.0</td>\n",
       "      <td>111.0</td>\n",
       "      <td>0.541322</td>\n",
       "    </tr>\n",
       "    <tr>\n",
       "      <th>AC233755.1</th>\n",
       "      <td>5.0</td>\n",
       "      <td>0.0</td>\n",
       "      <td>1.000000</td>\n",
       "    </tr>\n",
       "    <tr>\n",
       "      <th>AC240274.1</th>\n",
       "      <td>2535.0</td>\n",
       "      <td>4501.0</td>\n",
       "      <td>0.360290</td>\n",
       "    </tr>\n",
       "    <tr>\n",
       "      <th>FAM231C</th>\n",
       "      <td>1.0</td>\n",
       "      <td>0.0</td>\n",
       "      <td>1.000000</td>\n",
       "    </tr>\n",
       "  </tbody>\n",
       "</table>\n",
       "<p>32010 rows × 3 columns</p>\n",
       "</div>"
      ],
      "text/plain": [
       "             Empty_droplet_sum  Nuclei_sum  Soup_probability\n",
       "MIR1302-2HG                7.0         0.0          1.000000\n",
       "AL627309.1              1927.0      2652.0          0.420834\n",
       "AL627309.3                 6.0         6.0          0.500000\n",
       "AL627309.2                11.0        27.0          0.289474\n",
       "AL627309.4                20.0        24.0          0.454545\n",
       "...                        ...         ...               ...\n",
       "AC023491.2                33.0        69.0          0.323529\n",
       "AC004556.1               131.0       111.0          0.541322\n",
       "AC233755.1                 5.0         0.0          1.000000\n",
       "AC240274.1              2535.0      4501.0          0.360290\n",
       "FAM231C                    1.0         0.0          1.000000\n",
       "\n",
       "[32010 rows x 3 columns]"
      ]
     },
     "execution_count": 38,
     "metadata": {},
     "output_type": "execute_result"
    }
   ],
   "source": [
    "soup_stats_table_joint_sn"
   ]
  },
  {
   "cell_type": "code",
   "execution_count": 39,
   "id": "statutory-campaign",
   "metadata": {},
   "outputs": [
    {
     "name": "stderr",
     "output_type": "stream",
     "text": [
      "/opt/conda/lib/python3.8/site-packages/seaborn/distributions.py:2557: FutureWarning: `distplot` is a deprecated function and will be removed in a future version. Please adapt your code to use either `displot` (a figure-level function with similar flexibility) or `histplot` (an axes-level function for histograms).\n",
      "  warnings.warn(msg, FutureWarning)\n"
     ]
    },
    {
     "data": {
      "text/plain": [
       "<AxesSubplot:xlabel='Soup_probability', ylabel='Density'>"
      ]
     },
     "execution_count": 39,
     "metadata": {},
     "output_type": "execute_result"
    },
    {
     "data": {
      "image/png": "[encoded data removed]",
      "text/plain": [
       "<Figure size 320x320 with 1 Axes>"
      ]
     },
     "metadata": {
      "needs_background": "light"
     },
     "output_type": "display_data"
    }
   ],
   "source": [
    "sns.distplot(soup_stats_table_joint_sc['Soup_probability'])"
   ]
  },
  {
   "cell_type": "code",
   "execution_count": 40,
   "id": "colored-office",
   "metadata": {},
   "outputs": [
    {
     "name": "stderr",
     "output_type": "stream",
     "text": [
      "/opt/conda/lib/python3.8/site-packages/seaborn/distributions.py:2557: FutureWarning: `distplot` is a deprecated function and will be removed in a future version. Please adapt your code to use either `displot` (a figure-level function with similar flexibility) or `histplot` (an axes-level function for histograms).\n",
      "  warnings.warn(msg, FutureWarning)\n"
     ]
    },
    {
     "data": {
      "text/plain": [
       "<AxesSubplot:xlabel='Soup_probability', ylabel='Density'>"
      ]
     },
     "execution_count": 40,
     "metadata": {},
     "output_type": "execute_result"
    },
    {
     "data": {
      "image/png": "[encoded data removed]",
      "text/plain": [
       "<Figure size 320x320 with 1 Axes>"
      ]
     },
     "metadata": {
      "needs_background": "light"
     },
     "output_type": "display_data"
    }
   ],
   "source": [
    "sns.distplot(soup_stats_table_joint_sn['Soup_probability'])"
   ]
  },
  {
   "cell_type": "code",
   "execution_count": 41,
   "id": "sunset-atlanta",
   "metadata": {},
   "outputs": [],
   "source": [
    "save_path = '/lustre/scratch117/cellgen/team292/aa22/adata_objects/202111_MFI_sc_sn_new_scVI_analysis/'"
   ]
  },
  {
   "cell_type": "code",
   "execution_count": 42,
   "id": "responsible-mistress",
   "metadata": {},
   "outputs": [],
   "source": [
    "# save soup stats\n",
    "# already done\n",
    "soup_stats_table_joint_sc.to_csv(save_path + 'soup_stats_table_joint_sc_upd_20211111.csv')\n",
    "soup_stats_table_joint_sn.to_csv(save_path + 'soup_stats_table_joint_sn_upd_20211111.csv')"
   ]
  },
  {
   "cell_type": "code",
   "execution_count": null,
   "id": "instructional-burst",
   "metadata": {},
   "outputs": [],
   "source": []
  },
  {
   "cell_type": "code",
   "execution_count": null,
   "id": "informal-scout",
   "metadata": {},
   "outputs": [],
   "source": []
  },
  {
   "cell_type": "code",
   "execution_count": null,
   "id": "gorgeous-marketplace",
   "metadata": {},
   "outputs": [],
   "source": []
  },
  {
   "cell_type": "code",
   "execution_count": 43,
   "id": "exclusive-delicious",
   "metadata": {},
   "outputs": [],
   "source": [
    "empty_droplets_joint_sc.var['gene_name'] = empty_droplets_joint_sc.var.index\n",
    "empty_droplets_joint_sn.var['gene_name'] = empty_droplets_joint_sn.var.index\n",
    "\n",
    "filtered_droplets_joint_sc.var['gene_name'] = filtered_droplets_joint_sc.var.index\n",
    "filtered_droplets_joint_sn.var['gene_name'] = filtered_droplets_joint_sn.var.index"
   ]
  },
  {
   "cell_type": "code",
   "execution_count": 44,
   "id": "becoming-peace",
   "metadata": {},
   "outputs": [
    {
     "data": {
      "text/html": [
       "<div>\n",
       "<style scoped>\n",
       "    .dataframe tbody tr th:only-of-type {\n",
       "        vertical-align: middle;\n",
       "    }\n",
       "\n",
       "    .dataframe tbody tr th {\n",
       "        vertical-align: top;\n",
       "    }\n",
       "\n",
       "    .dataframe thead th {\n",
       "        text-align: right;\n",
       "    }\n",
       "</style>\n",
       "<table border=\"1\" class=\"dataframe\">\n",
       "  <thead>\n",
       "    <tr style=\"text-align: right;\">\n",
       "      <th></th>\n",
       "      <th>Empty_droplet_sum</th>\n",
       "      <th>Nuclei_sum</th>\n",
       "      <th>Soup_probability</th>\n",
       "    </tr>\n",
       "  </thead>\n",
       "  <tbody>\n",
       "    <tr>\n",
       "      <th>MIR1302-2HG</th>\n",
       "      <td>7.0</td>\n",
       "      <td>0.0</td>\n",
       "      <td>1.000000</td>\n",
       "    </tr>\n",
       "    <tr>\n",
       "      <th>AL627309.1</th>\n",
       "      <td>1927.0</td>\n",
       "      <td>2652.0</td>\n",
       "      <td>0.420834</td>\n",
       "    </tr>\n",
       "    <tr>\n",
       "      <th>AL627309.3</th>\n",
       "      <td>6.0</td>\n",
       "      <td>6.0</td>\n",
       "      <td>0.500000</td>\n",
       "    </tr>\n",
       "    <tr>\n",
       "      <th>AL627309.2</th>\n",
       "      <td>11.0</td>\n",
       "      <td>27.0</td>\n",
       "      <td>0.289474</td>\n",
       "    </tr>\n",
       "    <tr>\n",
       "      <th>AL627309.4</th>\n",
       "      <td>20.0</td>\n",
       "      <td>24.0</td>\n",
       "      <td>0.454545</td>\n",
       "    </tr>\n",
       "    <tr>\n",
       "      <th>...</th>\n",
       "      <td>...</td>\n",
       "      <td>...</td>\n",
       "      <td>...</td>\n",
       "    </tr>\n",
       "    <tr>\n",
       "      <th>AC023491.2</th>\n",
       "      <td>33.0</td>\n",
       "      <td>69.0</td>\n",
       "      <td>0.323529</td>\n",
       "    </tr>\n",
       "    <tr>\n",
       "      <th>AC004556.1</th>\n",
       "      <td>131.0</td>\n",
       "      <td>111.0</td>\n",
       "      <td>0.541322</td>\n",
       "    </tr>\n",
       "    <tr>\n",
       "      <th>AC233755.1</th>\n",
       "      <td>5.0</td>\n",
       "      <td>0.0</td>\n",
       "      <td>1.000000</td>\n",
       "    </tr>\n",
       "    <tr>\n",
       "      <th>AC240274.1</th>\n",
       "      <td>2535.0</td>\n",
       "      <td>4501.0</td>\n",
       "      <td>0.360290</td>\n",
       "    </tr>\n",
       "    <tr>\n",
       "      <th>FAM231C</th>\n",
       "      <td>1.0</td>\n",
       "      <td>0.0</td>\n",
       "      <td>1.000000</td>\n",
       "    </tr>\n",
       "  </tbody>\n",
       "</table>\n",
       "<p>32010 rows × 3 columns</p>\n",
       "</div>"
      ],
      "text/plain": [
       "             Empty_droplet_sum  Nuclei_sum  Soup_probability\n",
       "MIR1302-2HG                7.0         0.0          1.000000\n",
       "AL627309.1              1927.0      2652.0          0.420834\n",
       "AL627309.3                 6.0         6.0          0.500000\n",
       "AL627309.2                11.0        27.0          0.289474\n",
       "AL627309.4                20.0        24.0          0.454545\n",
       "...                        ...         ...               ...\n",
       "AC023491.2                33.0        69.0          0.323529\n",
       "AC004556.1               131.0       111.0          0.541322\n",
       "AC233755.1                 5.0         0.0          1.000000\n",
       "AC240274.1              2535.0      4501.0          0.360290\n",
       "FAM231C                    1.0         0.0          1.000000\n",
       "\n",
       "[32010 rows x 3 columns]"
      ]
     },
     "execution_count": 44,
     "metadata": {},
     "output_type": "execute_result"
    }
   ],
   "source": [
    "soup_stats_table_joint_sn"
   ]
  },
  {
   "cell_type": "code",
   "execution_count": 45,
   "id": "danish-astronomy",
   "metadata": {},
   "outputs": [
    {
     "name": "stderr",
     "output_type": "stream",
     "text": [
      "/opt/conda/lib/python3.8/site-packages/pandas/core/arrays/categorical.py:2487: FutureWarning: The `inplace` parameter in pandas.Categorical.remove_unused_categories is deprecated and will be removed in a future version.\n",
      "  res = method(*args, **kwargs)\n"
     ]
    }
   ],
   "source": [
    "# subsetting object to only genes that are detected at least somewhere\n",
    "\n",
    "empty_droplets_joint_sc = empty_droplets_joint_sc[:,list(set(soup_stats_table_joint_sc.index) & set(empty_droplets_joint_sc.var_names))]\n",
    "empty_droplets_joint_sn = empty_droplets_joint_sn[:,list(set(soup_stats_table_joint_sn.index) & set(empty_droplets_joint_sn.var_names))]\n",
    "\n",
    "filtered_droplets_joint_sc = filtered_droplets_joint_sc[:,list(set(soup_stats_table_joint_sc.index) & set(filtered_droplets_joint_sc.var_names))]\n",
    "filtered_droplets_joint_sn = filtered_droplets_joint_sn[:,list(set(soup_stats_table_joint_sn.index) & set(filtered_droplets_joint_sn.var_names))]"
   ]
  },
  {
   "cell_type": "code",
   "execution_count": 46,
   "id": "received-century",
   "metadata": {},
   "outputs": [],
   "source": [
    "def count_nonzero_gene(adata_object, gene):\n",
    "    \n",
    "    gene_number = list(adata_object.var_names).index(gene)\n",
    "    \n",
    "    if gene_number%1000 == 0:\n",
    "        print(gene_number)\n",
    "    \n",
    "    return(adata_object[:,gene].X.count_nonzero())\n",
    "    "
   ]
  },
  {
   "cell_type": "code",
   "execution_count": 47,
   "id": "democratic-dispatch",
   "metadata": {},
   "outputs": [
    {
     "data": {
      "text/plain": [
       "View of AnnData object with n_obs × n_vars = 907006 × 24164\n",
       "    obs: 'barcode_sample', 'n_counts', 'percent_mito', 'batch'\n",
       "    var: 'gene_ids', 'feature_types', 'genome', 'n_counts', 'gene_name'"
      ]
     },
     "execution_count": 47,
     "metadata": {},
     "output_type": "execute_result"
    }
   ],
   "source": [
    "empty_droplets_joint_sc"
   ]
  },
  {
   "cell_type": "code",
   "execution_count": 48,
   "id": "dying-baker",
   "metadata": {},
   "outputs": [
    {
     "data": {
      "text/plain": [
       "View of AnnData object with n_obs × n_vars = 2860438 × 32010\n",
       "    obs: 'barcode_sample', 'n_counts', 'percent_mito', 'batch'\n",
       "    var: 'gene_ids', 'feature_types', 'genome-0', 'genome-1', 'genome-10', 'genome-11', 'genome-12', 'genome-2', 'genome-3', 'genome-4', 'genome-5', 'genome-6', 'genome-7', 'genome-8', 'genome-9', 'n_counts', 'gene_name'"
      ]
     },
     "execution_count": 48,
     "metadata": {},
     "output_type": "execute_result"
    }
   ],
   "source": [
    "empty_droplets_joint_sn"
   ]
  },
  {
   "cell_type": "code",
   "execution_count": 49,
   "id": "fossil-validation",
   "metadata": {},
   "outputs": [
    {
     "data": {
      "text/plain": [
       "View of AnnData object with n_obs × n_vars = 22717 × 21073\n",
       "    obs: 'barcode_sample', 'n_genes', 'n_counts', 'percent_mito', 'batch'\n",
       "    var: 'gene_ids-0', 'feature_types-0', 'genome-0', 'n_cells-0', 'gene_ids-1', 'feature_types-1', 'genome-1', 'n_cells-1', 'gene_ids-2', 'feature_types-2', 'genome-2', 'n_cells-2', 'gene_ids-3', 'feature_types-3', 'genome-3', 'n_cells-3', 'gene_ids-4', 'feature_types-4', 'genome-4', 'n_cells-4', 'gene_ids-5', 'feature_types-5', 'genome-5', 'n_cells-5', 'gene_ids-6', 'feature_types-6', 'genome-6', 'n_cells-6', 'gene_ids-7', 'feature_types-7', 'genome-7', 'n_cells-7', 'n_counts', 'gene_name'"
      ]
     },
     "execution_count": 49,
     "metadata": {},
     "output_type": "execute_result"
    }
   ],
   "source": [
    "filtered_droplets_joint_sc"
   ]
  },
  {
   "cell_type": "code",
   "execution_count": 50,
   "id": "magnetic-blame",
   "metadata": {},
   "outputs": [
    {
     "data": {
      "text/plain": [
       "View of AnnData object with n_obs × n_vars = 159165 × 29904\n",
       "    obs: 'barcode_sample', 'n_genes', 'n_counts', 'percent_mito', 'batch'\n",
       "    var: 'gene_ids-0', 'feature_types-0', 'genome-0', 'n_cells-0', 'gene_ids-1', 'feature_types-1', 'genome-1', 'n_cells-1', 'gene_ids-10', 'feature_types-10', 'genome-10', 'n_cells-10', 'gene_ids-11', 'feature_types-11', 'genome-11', 'n_cells-11', 'gene_ids-12', 'feature_types-12', 'genome-12', 'n_cells-12', 'gene_ids-2', 'feature_types-2', 'genome-2', 'n_cells-2', 'gene_ids-3', 'feature_types-3', 'genome-3', 'n_cells-3', 'gene_ids-4', 'feature_types-4', 'genome-4', 'n_cells-4', 'gene_ids-5', 'feature_types-5', 'genome-5', 'n_cells-5', 'gene_ids-6', 'feature_types-6', 'genome-6', 'n_cells-6', 'gene_ids-7', 'feature_types-7', 'genome-7', 'n_cells-7', 'gene_ids-8', 'feature_types-8', 'genome-8', 'n_cells-8', 'gene_ids-9', 'feature_types-9', 'genome-9', 'n_cells-9', 'n_counts', 'gene_name'"
      ]
     },
     "execution_count": 50,
     "metadata": {},
     "output_type": "execute_result"
    }
   ],
   "source": [
    "filtered_droplets_joint_sn"
   ]
  },
  {
   "cell_type": "code",
   "execution_count": 51,
   "id": "thick-clear",
   "metadata": {},
   "outputs": [
    {
     "name": "stdout",
     "output_type": "stream",
     "text": [
      "CPU times: user 125 ms, sys: 0 ns, total: 125 ms\n",
      "Wall time: 124 ms\n"
     ]
    },
    {
     "data": {
      "text/plain": [
       "4692"
      ]
     },
     "execution_count": 51,
     "metadata": {},
     "output_type": "execute_result"
    }
   ],
   "source": [
    "%%time\n",
    "empty_droplets_joint_sc[:,'HLA-G'].X.count_nonzero()"
   ]
  },
  {
   "cell_type": "markdown",
   "id": "corporate-burden",
   "metadata": {},
   "source": [
    "## produce and write tables for empty droplets later?"
   ]
  },
  {
   "cell_type": "raw",
   "id": "induced-commons",
   "metadata": {
    "jupyter": {
     "outputs_hidden": true
    },
    "tags": []
   },
   "source": [
    "%%time\n",
    "# started at 09:27\n",
    "empty_droplets_joint_sc.var['n_droplets'] = empty_droplets_joint_sc.var['gene_name'].apply(lambda x: count_nonzero_gene(empty_droplets_joint_sc, x))"
   ]
  },
  {
   "cell_type": "raw",
   "id": "cardiac-roommate",
   "metadata": {},
   "source": [
    "# already done\n",
    "empty_droplets_joint_sc.var.to_csv(save_path + 'var_with_stats_empty_droplets_joint_sc_upd_20211111.csv')"
   ]
  },
  {
   "cell_type": "raw",
   "id": "ultimate-observation",
   "metadata": {
    "jupyter": {
     "outputs_hidden": true
    },
    "tags": []
   },
   "source": [
    "sns.displot(empty_droplets_joint_sc.var['n_droplets'])"
   ]
  },
  {
   "cell_type": "raw",
   "id": "moved-vaccine",
   "metadata": {},
   "source": [
    "%%time\n",
    "empty_droplets_joint_sn[:,'HLA-G'].X.count_nonzero()"
   ]
  },
  {
   "cell_type": "raw",
   "id": "developing-dominican",
   "metadata": {
    "tags": []
   },
   "source": [
    "%%time\n",
    "# started at ?\n",
    "empty_droplets_joint_sn.var['n_droplets'] = empty_droplets_joint_sn.var['gene_name'].apply(lambda x: count_nonzero_gene(empty_droplets_joint_sn, x))"
   ]
  },
  {
   "cell_type": "raw",
   "id": "postal-algeria",
   "metadata": {},
   "source": [
    "# already done\n",
    "empty_droplets_joint_sn.var.to_csv(save_path + 'var_with_stats_empty_droplets_joint_sn_upd_20211111.csv')"
   ]
  },
  {
   "cell_type": "code",
   "execution_count": 55,
   "id": "tired-engagement",
   "metadata": {},
   "outputs": [
    {
     "name": "stdout",
     "output_type": "stream",
     "text": [
      "CPU times: user 63.6 ms, sys: 0 ns, total: 63.6 ms\n",
      "Wall time: 63.3 ms\n"
     ]
    },
    {
     "data": {
      "text/plain": [
       "678"
      ]
     },
     "execution_count": 55,
     "metadata": {},
     "output_type": "execute_result"
    }
   ],
   "source": [
    "%%time\n",
    "filtered_droplets_joint_sc[:,'HLA-G'].X.count_nonzero()"
   ]
  },
  {
   "cell_type": "code",
   "execution_count": 56,
   "id": "handled-pressure",
   "metadata": {
    "tags": []
   },
   "outputs": [
    {
     "name": "stdout",
     "output_type": "stream",
     "text": [
      "0\n",
      "1000\n",
      "2000\n",
      "3000\n",
      "4000\n",
      "5000\n",
      "6000\n",
      "7000\n",
      "8000\n",
      "9000\n",
      "10000\n",
      "11000\n",
      "12000\n",
      "13000\n",
      "14000\n",
      "15000\n",
      "16000\n",
      "17000\n",
      "18000\n",
      "19000\n",
      "20000\n",
      "21000\n"
     ]
    },
    {
     "name": "stderr",
     "output_type": "stream",
     "text": [
      "Trying to set attribute `.var` of view, copying.\n"
     ]
    },
    {
     "name": "stdout",
     "output_type": "stream",
     "text": [
      "CPU times: user 19min 13s, sys: 1.88 s, total: 19min 14s\n",
      "Wall time: 19min 18s\n"
     ]
    }
   ],
   "source": [
    "%%time\n",
    "filtered_droplets_joint_sc.var['n_droplets'] = filtered_droplets_joint_sc.var['gene_name'].apply(lambda x: count_nonzero_gene(filtered_droplets_joint_sc, x))"
   ]
  },
  {
   "cell_type": "code",
   "execution_count": 57,
   "id": "tired-infrastructure",
   "metadata": {},
   "outputs": [],
   "source": [
    "# already done\n",
    "filtered_droplets_joint_sc.var.to_csv(save_path + 'var_with_stats_filtered_droplets_joint_sc_upd_20211111.csv')"
   ]
  },
  {
   "cell_type": "code",
   "execution_count": 58,
   "id": "broken-generation",
   "metadata": {},
   "outputs": [
    {
     "name": "stdout",
     "output_type": "stream",
     "text": [
      "CPU times: user 512 ms, sys: 4.01 ms, total: 516 ms\n",
      "Wall time: 516 ms\n"
     ]
    },
    {
     "data": {
      "text/plain": [
       "47624"
      ]
     },
     "execution_count": 58,
     "metadata": {},
     "output_type": "execute_result"
    }
   ],
   "source": [
    "%%time\n",
    "filtered_droplets_joint_sn[:,'HLA-G'].X.count_nonzero()"
   ]
  },
  {
   "cell_type": "code",
   "execution_count": 59,
   "id": "broke-navigation",
   "metadata": {
    "tags": []
   },
   "outputs": [
    {
     "name": "stdout",
     "output_type": "stream",
     "text": [
      "0\n",
      "1000\n",
      "2000\n",
      "3000\n",
      "4000\n",
      "5000\n",
      "6000\n",
      "7000\n",
      "8000\n",
      "9000\n",
      "10000\n",
      "11000\n",
      "12000\n",
      "13000\n",
      "14000\n",
      "15000\n",
      "16000\n",
      "17000\n",
      "18000\n",
      "19000\n",
      "20000\n",
      "21000\n",
      "22000\n",
      "23000\n",
      "24000\n",
      "25000\n",
      "26000\n",
      "27000\n",
      "28000\n",
      "29000\n"
     ]
    },
    {
     "name": "stderr",
     "output_type": "stream",
     "text": [
      "Trying to set attribute `.var` of view, copying.\n"
     ]
    },
    {
     "name": "stdout",
     "output_type": "stream",
     "text": [
      "CPU times: user 4h 11min 23s, sys: 37.7 s, total: 4h 12min 1s\n",
      "Wall time: 4h 12min 6s\n"
     ]
    }
   ],
   "source": [
    "%%time\n",
    "filtered_droplets_joint_sn.var['n_droplets'] = filtered_droplets_joint_sn.var['gene_name'].apply(lambda x: count_nonzero_gene(filtered_droplets_joint_sn, x))"
   ]
  },
  {
   "cell_type": "code",
   "execution_count": 60,
   "id": "clear-minister",
   "metadata": {},
   "outputs": [],
   "source": [
    "# already done\n",
    "filtered_droplets_joint_sn.var.to_csv(save_path + 'var_with_stats_filtered_droplets_joint_sn_upd_20211111.csv')"
   ]
  },
  {
   "cell_type": "code",
   "execution_count": null,
   "id": "bizarre-airport",
   "metadata": {},
   "outputs": [],
   "source": []
  },
  {
   "cell_type": "markdown",
   "id": "departmental-nerve",
   "metadata": {},
   "source": [
    "#### Reading pre-saved files and defining thresholds"
   ]
  },
  {
   "cell_type": "code",
   "execution_count": 62,
   "id": "immune-honey",
   "metadata": {},
   "outputs": [],
   "source": [
    "#empty_droplets_joint_sc_stats = pd.read_csv('./var_with_stats_empty_droplets_joint_sc_upd_202109.csv', index_col=0)\n",
    "# this file just didn't write unfortunately but for SN no new samples were added for now so nothing changed and old file is the same\n",
    "#empty_droplets_joint_sn_stats = pd.read_csv('./var_with_stats_empty_droplets_joint_sn.csv', index_col=0)\n",
    "\n",
    "filtered_droplets_joint_sc_stats = pd.read_csv(save_path + 'var_with_stats_filtered_droplets_joint_sc_upd_20211111.csv', index_col=0)\n",
    "filtered_droplets_joint_sn_stats = pd.read_csv(save_path + 'var_with_stats_filtered_droplets_joint_sn_upd_20211111.csv', index_col=0)"
   ]
  },
  {
   "cell_type": "code",
   "execution_count": 63,
   "id": "hundred-boxing",
   "metadata": {},
   "outputs": [],
   "source": [
    "soup_stats_table_joint_sc = pd.read_csv(save_path + 'soup_stats_table_joint_sc_upd_20211111.csv', index_col=0)\n",
    "soup_stats_table_joint_sn = pd.read_csv(save_path + 'soup_stats_table_joint_sn_upd_20211111.csv', index_col=0)"
   ]
  },
  {
   "cell_type": "code",
   "execution_count": 64,
   "id": "warming-object",
   "metadata": {},
   "outputs": [
    {
     "name": "stderr",
     "output_type": "stream",
     "text": [
      "/opt/conda/lib/python3.8/site-packages/seaborn/distributions.py:2557: FutureWarning: `distplot` is a deprecated function and will be removed in a future version. Please adapt your code to use either `displot` (a figure-level function with similar flexibility) or `histplot` (an axes-level function for histograms).\n",
      "  warnings.warn(msg, FutureWarning)\n"
     ]
    },
    {
     "data": {
      "text/plain": [
       "<AxesSubplot:xlabel='n_droplets', ylabel='Density'>"
      ]
     },
     "execution_count": 64,
     "metadata": {},
     "output_type": "execute_result"
    },
    {
     "data": {
      "image/png": "[encoded data removed]",
      "text/plain": [
       "<Figure size 320x320 with 1 Axes>"
      ]
     },
     "metadata": {
      "needs_background": "light"
     },
     "output_type": "display_data"
    }
   ],
   "source": [
    "sns.distplot(filtered_droplets_joint_sc_stats['n_droplets'])"
   ]
  },
  {
   "cell_type": "code",
   "execution_count": 65,
   "id": "extensive-think",
   "metadata": {},
   "outputs": [
    {
     "data": {
      "text/plain": [
       "(21073, 35)"
      ]
     },
     "execution_count": 65,
     "metadata": {},
     "output_type": "execute_result"
    }
   ],
   "source": [
    "filtered_droplets_joint_sc_stats.shape"
   ]
  },
  {
   "cell_type": "code",
   "execution_count": 66,
   "id": "incorporate-following",
   "metadata": {},
   "outputs": [
    {
     "data": {
      "text/plain": [
       "(24164, 3)"
      ]
     },
     "execution_count": 66,
     "metadata": {},
     "output_type": "execute_result"
    }
   ],
   "source": [
    "soup_stats_table_joint_sc.shape"
   ]
  },
  {
   "cell_type": "code",
   "execution_count": 67,
   "id": "broke-paintball",
   "metadata": {},
   "outputs": [
    {
     "data": {
      "text/plain": [
       "<matplotlib.collections.LineCollection at 0x7f6a14d69520>"
      ]
     },
     "execution_count": 67,
     "metadata": {},
     "output_type": "execute_result"
    },
    {
     "data": {
      "image/png": "[encoded data removed]",
      "text/plain": [
       "<Figure size 320x320 with 1 Axes>"
      ]
     },
     "metadata": {
      "needs_background": "light"
     },
     "output_type": "display_data"
    }
   ],
   "source": [
    "# scatterplot Soup_prob vs n_cells for cells\n",
    "\n",
    "plt.scatter(filtered_droplets_joint_sc_stats['n_droplets'], soup_stats_table_joint_sc.loc[filtered_droplets_joint_sc_stats.index, 'Soup_probability'],\n",
    "           s=8)\n",
    "plt.title('Cells')\n",
    "plt.xlabel('n_cells')\n",
    "plt.ylabel('Soup_probability')\n",
    "\n",
    "plt.hlines(np.quantile(soup_stats_table_joint_sc.loc[filtered_droplets_joint_sc_stats.index, 'Soup_probability'],0.5), \n",
    "            min(filtered_droplets_joint_sc_stats['n_droplets']), max(filtered_droplets_joint_sc_stats['n_droplets']), colors='red')"
   ]
  },
  {
   "cell_type": "code",
   "execution_count": 69,
   "id": "accessory-facility",
   "metadata": {},
   "outputs": [
    {
     "data": {
      "text/plain": [
       "0.3632850241545893"
      ]
     },
     "execution_count": 69,
     "metadata": {},
     "output_type": "execute_result"
    }
   ],
   "source": [
    "np.quantile(soup_stats_table_joint_sc.loc[filtered_droplets_joint_sc_stats.index, 'Soup_probability'],0.5)"
   ]
  },
  {
   "cell_type": "code",
   "execution_count": null,
   "id": "given-nylon",
   "metadata": {},
   "outputs": [],
   "source": []
  },
  {
   "cell_type": "code",
   "execution_count": 68,
   "id": "constant-japan",
   "metadata": {},
   "outputs": [
    {
     "data": {
      "text/plain": [
       "<matplotlib.collections.LineCollection at 0x7f6df85e94c0>"
      ]
     },
     "execution_count": 68,
     "metadata": {},
     "output_type": "execute_result"
    },
    {
     "data": {
      "image/png": "[encoded data removed]",
      "text/plain": [
       "<Figure size 320x320 with 1 Axes>"
      ]
     },
     "metadata": {
      "needs_background": "light"
     },
     "output_type": "display_data"
    }
   ],
   "source": [
    "# scatterplot Soup_prob vs n_nuclei for cells\n",
    "\n",
    "plt.scatter(filtered_droplets_joint_sn_stats['n_droplets'], soup_stats_table_joint_sn.loc[filtered_droplets_joint_sn_stats.index, 'Soup_probability'],\n",
    "           s=8)\n",
    "plt.title('Nuclei')\n",
    "plt.xlabel('n_nuclei')\n",
    "plt.ylabel('Soup_probability')\n",
    "\n",
    "plt.hlines(np.quantile(soup_stats_table_joint_sn.loc[filtered_droplets_joint_sn_stats.index, 'Soup_probability'],\n",
    "                       0.5), \n",
    "            min(filtered_droplets_joint_sn_stats['n_droplets']), max(filtered_droplets_joint_sn_stats['n_droplets']), colors='red')"
   ]
  },
  {
   "cell_type": "code",
   "execution_count": 70,
   "id": "frozen-empire",
   "metadata": {},
   "outputs": [
    {
     "data": {
      "text/plain": [
       "0.4454410900571018"
      ]
     },
     "execution_count": 70,
     "metadata": {},
     "output_type": "execute_result"
    }
   ],
   "source": [
    "np.quantile(soup_stats_table_joint_sn.loc[filtered_droplets_joint_sn_stats.index, 'Soup_probability'],0.5)"
   ]
  },
  {
   "cell_type": "markdown",
   "id": "beneficial-surface",
   "metadata": {},
   "source": [
    "### I am going to use nuclei-derived threshold to filter out genes in the whole object\n",
    "\n",
    "To be less harsh on the cells part of the object which are generally higher quality\n",
    "\n",
    "#### This is further used when recalculating manifolds for donors P13, P14 and Hrv43 (just for visualisation in supplementary figures)"
   ]
  },
  {
   "cell_type": "code",
   "execution_count": 89,
   "id": "every-browser",
   "metadata": {},
   "outputs": [
    {
     "data": {
      "text/plain": [
       "0.4454410900571018"
      ]
     },
     "execution_count": 89,
     "metadata": {},
     "output_type": "execute_result"
    }
   ],
   "source": [
    "cutoff_soup_prob_sn = np.quantile(soup_stats_table_joint_sn.loc[filtered_droplets_joint_sn_stats.index, 'Soup_probability'],0.5)\n",
    "cutoff_soup_prob_sn"
   ]
  },
  {
   "cell_type": "code",
   "execution_count": 90,
   "id": "right-azerbaijan",
   "metadata": {},
   "outputs": [
    {
     "data": {
      "text/plain": [
       "0.3632850241545893"
      ]
     },
     "execution_count": 90,
     "metadata": {},
     "output_type": "execute_result"
    }
   ],
   "source": [
    "cutoff_soup_prob_sc = np.quantile(soup_stats_table_joint_sc.loc[filtered_droplets_joint_sc_stats.index, 'Soup_probability'],0.5)\n",
    "cutoff_soup_prob_sc"
   ]
  },
  {
   "cell_type": "code",
   "execution_count": 91,
   "id": "activated-hepatitis",
   "metadata": {},
   "outputs": [],
   "source": [
    "soup_stats_table_joint_sc['Selected'] = [True if prob < cutoff_soup_prob_sn else False for prob in soup_stats_table_joint_sc['Soup_probability']]"
   ]
  },
  {
   "cell_type": "code",
   "execution_count": 92,
   "id": "featured-ebony",
   "metadata": {},
   "outputs": [],
   "source": [
    "soup_stats_table_joint_sn['Selected'] = [True if prob < cutoff_soup_prob_sn else False for prob in soup_stats_table_joint_sn['Soup_probability']]"
   ]
  },
  {
   "cell_type": "code",
   "execution_count": 82,
   "id": "bigger-stevens",
   "metadata": {},
   "outputs": [
    {
     "data": {
      "text/plain": [
       "(array([False,  True]), array([13628, 10536]))"
      ]
     },
     "execution_count": 82,
     "metadata": {},
     "output_type": "execute_result"
    }
   ],
   "source": [
    "# with sc specific cutoff\n",
    "np.unique(soup_stats_table_joint_sc['Selected'], return_counts=True)"
   ]
  },
  {
   "cell_type": "code",
   "execution_count": 93,
   "id": "worldwide-chicago",
   "metadata": {},
   "outputs": [
    {
     "data": {
      "text/plain": [
       "(array([False,  True]), array([ 7317, 16847]))"
      ]
     },
     "execution_count": 93,
     "metadata": {},
     "output_type": "execute_result"
    }
   ],
   "source": [
    "# with sn cutoff\n",
    "np.unique(soup_stats_table_joint_sc['Selected'], return_counts=True)"
   ]
  },
  {
   "cell_type": "code",
   "execution_count": 94,
   "id": "directed-split",
   "metadata": {},
   "outputs": [
    {
     "data": {
      "text/plain": [
       "(array([False,  True]), array([17058, 14952]))"
      ]
     },
     "execution_count": 94,
     "metadata": {},
     "output_type": "execute_result"
    }
   ],
   "source": [
    "np.unique(soup_stats_table_joint_sn['Selected'], return_counts=True)"
   ]
  },
  {
   "cell_type": "code",
   "execution_count": 86,
   "id": "laden-buddy",
   "metadata": {},
   "outputs": [
    {
     "data": {
      "text/plain": [
       "5655"
      ]
     },
     "execution_count": 86,
     "metadata": {},
     "output_type": "execute_result"
    }
   ],
   "source": [
    "# overlap? sc is with sc specific cutoff, sn - with sn\n",
    "\n",
    "len(set(soup_stats_table_joint_sc[soup_stats_table_joint_sc['Selected'] == True].index) & set(soup_stats_table_joint_sn[soup_stats_table_joint_sn['Selected'] == True].index))"
   ]
  },
  {
   "cell_type": "code",
   "execution_count": 95,
   "id": "strategic-support",
   "metadata": {},
   "outputs": [
    {
     "data": {
      "text/plain": [
       "7849"
      ]
     },
     "execution_count": 95,
     "metadata": {},
     "output_type": "execute_result"
    }
   ],
   "source": [
    "# overlap? both sc and sn are with sn specific cutoff\n",
    "\n",
    "len(set(soup_stats_table_joint_sc[soup_stats_table_joint_sc['Selected'] == True].index) & set(soup_stats_table_joint_sn[soup_stats_table_joint_sn['Selected'] == True].index))"
   ]
  },
  {
   "cell_type": "code",
   "execution_count": 98,
   "id": "focal-mercury",
   "metadata": {},
   "outputs": [],
   "source": [
    "soup_stats_table_joint_sc.to_csv(save_path + 'gene_filter_cells_upd_20211111.csv')"
   ]
  },
  {
   "cell_type": "code",
   "execution_count": 99,
   "id": "complex-fluid",
   "metadata": {},
   "outputs": [],
   "source": [
    "soup_stats_table_joint_sn.to_csv(save_path + 'gene_filter_nuclei_upd_20211111.csv')"
   ]
  },
  {
   "cell_type": "code",
   "execution_count": null,
   "id": "mathematical-craft",
   "metadata": {},
   "outputs": [],
   "source": []
  },
  {
   "cell_type": "code",
   "execution_count": null,
   "id": "restricted-nashville",
   "metadata": {},
   "outputs": [],
   "source": []
  },
  {
   "cell_type": "code",
   "execution_count": null,
   "id": "anonymous-separation",
   "metadata": {},
   "outputs": [],
   "source": []
  }
 ],
 "metadata": {
  "kernelspec": {
   "display_name": "Python 3",
   "language": "python",
   "name": "python3"
  },
  "language_info": {
   "codemirror_mode": {
    "name": "ipython",
    "version": 3
   },
   "file_extension": ".py",
   "mimetype": "text/x-python",
   "name": "python",
   "nbconvert_exporter": "python",
   "pygments_lexer": "ipython3",
   "version": "3.8.8"
  }
 },
 "nbformat": 4,
 "nbformat_minor": 5
}
