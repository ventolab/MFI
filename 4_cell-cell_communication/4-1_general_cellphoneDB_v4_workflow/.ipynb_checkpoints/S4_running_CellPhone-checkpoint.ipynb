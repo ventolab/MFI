{
 "cells": [
  {
   "cell_type": "markdown",
   "id": "stock-snapshot",
   "metadata": {},
   "source": [
    "# Extract database - run cellphone without statistical analysis to get all the L/R interactions"
   ]
  },
  {
   "cell_type": "markdown",
   "id": "opened-arrest",
   "metadata": {},
   "source": [
    "### This is using latest cellphone v3 with method degs_analysis, for now without microenvironments file - will filter that out later "
   ]
  },
  {
   "cell_type": "markdown",
   "id": "sonic-silicon",
   "metadata": {},
   "source": [
    "To create an appropirate conda environment, please do:\n",
    "\n",
    "- cd\n",
    "- conda create -n cpdb_v3 python=3.7\n",
    "- pip install git+https://github.com/ventolab/CellphoneDB.git --no-cache"
   ]
  },
  {
   "cell_type": "code",
   "execution_count": 1,
   "id": "faced-qatar",
   "metadata": {},
   "outputs": [],
   "source": [
    "# if running with 0 threshold don't forget to filter by expression percentage later\n",
    "# running also with standard 0.1 threshold"
   ]
  },
  {
   "cell_type": "code",
   "execution_count": 2,
   "id": "younger-wright",
   "metadata": {},
   "outputs": [],
   "source": [
    "# I now have about 350K droplets (cells + nulcei), trying to run with 150Gb RAM\n",
    "# started at 14:15 24.11.2021\n",
    "# took a minute of time and about 74 Gb of RAM... but results look legit\n",
    "\n",
    "\n",
    "# rerunning on 02.12.2021 with cleaned up DEG list (taking only genes expr in > 10% of cells in cluster, to be consistent with cellphone)"
   ]
  },
  {
   "cell_type": "code",
   "execution_count": 3,
   "id": "important-arrest",
   "metadata": {},
   "outputs": [
    {
     "name": "stdout",
     "output_type": "stream",
     "text": [
      "[ ][APP][03/12/21-15:56:05][WARNING] User selected database `/lustre/scratch117/cellgen/team292/aa22/with_Luz/202111_MFI_CellPhone/database_20210925_with_Jarrods_interactions/cellphonedb_user_2021-09-25-21_07.db` is available, using it\n",
      "[ ][CORE][03/12/21-15:56:05][INFO] Initializing SqlAlchemy CellPhoneDB Core\n",
      "[ ][CORE][03/12/21-15:56:05][INFO] Using custom database at /lustre/scratch117/cellgen/team292/aa22/with_Luz/202111_MFI_CellPhone/database_20210925_with_Jarrods_interactions/cellphonedb_user_2021-09-25-21_07.db\n",
      "[ ][APP][03/12/21-15:56:05][INFO] Launching Method cpdb_degs_analysis_local_method_launcher\n",
      "[ ][APP][03/12/21-15:56:05][INFO] Launching Method _set_paths\n",
      "[ ][APP][03/12/21-15:56:05][INFO] Launching Method _load_meta_counts\n",
      "[ ][APP][03/12/21-15:59:22][INFO] Launching Method _check_counts_data\n",
      "[ ][APP][03/12/21-15:59:22][INFO] Launching Method _load_degs\n",
      "[ ][CORE][03/12/21-15:59:22][INFO] Launching Method cpdb_degs_analysis_launcher\n",
      "[ ][CORE][03/12/21-15:59:22][INFO] Launching Method _counts_validations\n",
      "[ ][CORE][03/12/21-15:59:23][INFO] Launching Method get_interactions_genes_complex\n",
      "[ ][CORE][03/12/21-15:59:23][INFO] [Cluster DEGs Analysis] Threshold:0.1 Iterations:1000 Debug-seed:-1 Threads:4 Precision:3\n",
      "[ ][CORE][03/12/21-15:59:23][WARNING] \n",
      "***********************************\n",
      "DEGs ANALYSIS IS AN EXPERIMENTAL METHOD STILL UNDER DEVELOPMENT!\n",
      "***********************************\n",
      "[ ][CORE][03/12/21-16:00:11][INFO] Running Real Analysis\n",
      "[ ][CORE][03/12/21-16:00:12][INFO] Running DEGs-based Analysis\n",
      "[ ][CORE][03/12/21-16:00:12][INFO] Building results\n"
     ]
    }
   ],
   "source": [
    "%%bash\n",
    "\n",
    "source activate cpdb_v3\n",
    "\n",
    "cellphonedb method degs_analysis \\\n",
    "    /lustre/scratch117/cellgen/team292/aa22/with_Luz/202111_MFI_CellPhone/meta_updated_20211123.tsv \\\n",
    "    /lustre/scratch117/cellgen/team292/aa22/with_Luz/202111_MFI_CellPhone/20211123_adata_MFI_normalised_counts.h5ad \\\n",
    "    /lustre/scratch117/cellgen/team292/aa22/with_Luz/202111_MFI_CellPhone/DEGs_list_inv_trophoblast_for_cellphone_20211202.tsv \\\n",
    "    --database /lustre/scratch117/cellgen/team292/aa22/with_Luz/202111_MFI_CellPhone/database_20210925_with_Jarrods_interactions/cellphonedb_user_2021-09-25-21_07.db \\\n",
    "    --counts-data hgnc_symbol \\\n",
    "    --output-path out_20211202_threshold_0.1/ \\\n",
    "    --threshold 0.1\n"
   ]
  },
  {
   "cell_type": "code",
   "execution_count": null,
   "id": "becoming-methodology",
   "metadata": {},
   "outputs": [],
   "source": []
  },
  {
   "cell_type": "code",
   "execution_count": null,
   "id": "psychological-reserve",
   "metadata": {},
   "outputs": [],
   "source": []
  },
  {
   "cell_type": "code",
   "execution_count": null,
   "id": "dirty-falls",
   "metadata": {},
   "outputs": [],
   "source": []
  },
  {
   "cell_type": "code",
   "execution_count": null,
   "id": "arbitrary-rehabilitation",
   "metadata": {},
   "outputs": [],
   "source": []
  }
 ],
 "metadata": {
  "kernelspec": {
   "display_name": "Python 3",
   "language": "python",
   "name": "python3"
  },
  "language_info": {
   "codemirror_mode": {
    "name": "ipython",
    "version": 3
   },
   "file_extension": ".py",
   "mimetype": "text/x-python",
   "name": "python",
   "nbconvert_exporter": "python",
   "pygments_lexer": "ipython3",
   "version": "3.8.8"
  }
 },
 "nbformat": 4,
 "nbformat_minor": 5
}
