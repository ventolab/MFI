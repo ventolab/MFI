{
 "cells": [
  {
   "cell_type": "markdown",
   "metadata": {},
   "source": [
    "# Generating CellPhone database"
   ]
  },
  {
   "cell_type": "markdown",
   "metadata": {},
   "source": [
    "## Activate cellphoneDB conda environment"
   ]
  },
  {
   "cell_type": "markdown",
   "metadata": {},
   "source": [
    "Prior to doing this, please see https://github.com/Teichlab/cellphonedb for instructions on how to create a cellphonedb conda environment"
   ]
  },
  {
   "cell_type": "code",
   "execution_count": 1,
   "metadata": {},
   "outputs": [],
   "source": [
    "%%bash \n",
    "\n",
    "source ~/notebooks/Vento_Lab/CVID/202009_new_analysis_revision/CITE_all_samples_analysis/CVID/scTranscriptomics_CITE/cellphonedb_analysis/cpdb-venv/bin/activate"
   ]
  },
  {
   "cell_type": "code",
   "execution_count": 2,
   "metadata": {},
   "outputs": [
    {
     "name": "stdout",
     "output_type": "stream",
     "text": [
      "/home/jovyan/notebooks/Vento_Lab/MFI_spatial/MFI_sc_sn_Integrated_analysis/CellPhone_analysis\n"
     ]
    }
   ],
   "source": [
    "%%bash\n",
    "\n",
    "pwd"
   ]
  },
  {
   "cell_type": "code",
   "execution_count": 3,
   "metadata": {},
   "outputs": [
    {
     "name": "stdout",
     "output_type": "stream",
     "text": [
      "read local uniprot file\n",
      "[ ][APP][25/09/21-21:05:58][WARNING] Output directory (database_20210925_with_Jarrods_interactions) exist and is not empty. Result can overwrite old results\n",
      "read local ensembl file\n",
      "read local uniprot file\n",
      "[ ][APP][25/09/21-21:06:16][WARNING] Output directory (database_20210925_with_Jarrods_interactions) exist and is not empty. Result can overwrite old results\n",
      "[ ][APP][25/09/21-21:06:16][WARNING] There are differences between merged files: logged to database_20210925_with_Jarrods_interactions/log.txt\n",
      "[ ][APP][25/09/21-21:06:16][WARNING] Output directory (database_20210925_with_Jarrods_interactions) exist and is not empty. Result can overwrite old results\n",
      "[ ][APP][25/09/21-21:06:16][WARNING] Output directory (database_20210925_with_Jarrods_interactions) exist and is not empty. Result can overwrite old results\n",
      "[ ][APP][25/09/21-21:06:16][WARNING] Output directory (database_20210925_with_Jarrods_interactions) exist and is not empty. Result can overwrite old results\n",
      "Using local version for source InnateDB\n",
      "Using local version for source InnateDB-All\n",
      "Using local version for source IMEx\n",
      "Using local version for source IntAct\n",
      "Using local version for source bhf-ucl\n",
      "Using local version for source MatrixDB\n",
      "Using local version for source MINT\n",
      "Using local version for source I2D\n",
      "Using local version for source UniProt\n",
      "Using local version for source MBInfo\n",
      "\n",
      "Parsing IMEX file\n",
      "Getting iuphar data\n",
      "[ ][APP][25/09/21-21:07:21][WARNING] Using local version for iuphar\n",
      "Generating iuphar interactions\n",
      "WARNING: 1 GENE NAMES IN GUIDETOPHARMACOLOGY DATABASE DIDNT EXIST IN CELLPHONEDB DATABASE\n",
      "['MT-RNR2']\n",
      "Merging iuphar/imex\n",
      "Removing complex interactions\n",
      "Removing selected interactions\n",
      "Adding curated interaction\n",
      "[ ][APP][25/09/21-21:07:25][WARNING] Output directory (database_20210925_with_Jarrods_interactions) exist and is not empty. Result can overwrite old results\n",
      "[ ][APP][25/09/21-21:07:25][WARNING] There are some proteins or complexes not interacting properly: `5S_HpETE_byALOX5, 5_alpha_Dihydroprogesterone_byDHRS9, Aldosterone_Corticosterone_byCYP11B2, B4E1C2, DHEAsulfate_bySULT1E1, DHEAsulfate_bySULT2A1, DHEAsulfate_bySULT2B, Dehydroepiandrosterone_bySTS, Desmosterol_byDHCR7, Desoxycorticosterone_byCYP21A2, Dihydrotestosterone_bySRD5A1, Dihydrotestosterone_bySRD5A2, Dihydrotestosterone_bySRD5A3, LipoxinA4_ALOX12, PTCH2_BOC_transmembrane_receptor, PTCH2_CDON_transmembrane_receptor, PTCH2_GAS1_transmembrane_receptor, PTCH_BOC_transmembrane_receptor, PTCH_CDON_transmembrane_receptor, PTCH_GAS1_transmembrane_receptor, RAreceptor_RARG_RXRG, reactome, Q6ZN94`\n",
      "[ ][CORE][25/09/21-21:07:25][INFO] Initializing SqlAlchemy CellPhoneDB Core\n",
      "[ ][CORE][25/09/21-21:07:25][INFO] Using custom database at /home/jovyan/notebooks/Vento_Lab/MFI_spatial/MFI_sc_sn_Integrated_analysis/CellPhone_analysis/database_20210925_with_Jarrods_interactions/cellphonedb_user_2021-09-25-21_07.db\n",
      "[ ][APP][25/09/21-21:07:25][INFO] Collecting protein\n",
      "[ ][CORE][25/09/21-21:07:25][INFO] Initializing SqlAlchemy CellPhoneDB Core\n",
      "[ ][CORE][25/09/21-21:07:25][INFO] Using custom database at /home/jovyan/notebooks/Vento_Lab/MFI_spatial/MFI_sc_sn_Integrated_analysis/CellPhone_analysis/database_20210925_with_Jarrods_interactions/cellphonedb_user_2021-09-25-21_07.db\n",
      "[ ][CORE][25/09/21-21:07:25][INFO] Collecting protein\n",
      "[ ][APP][25/09/21-21:07:25][INFO] Collecting gene\n",
      "[ ][CORE][25/09/21-21:07:25][INFO] Initializing SqlAlchemy CellPhoneDB Core\n",
      "[ ][CORE][25/09/21-21:07:25][INFO] Using custom database at /home/jovyan/notebooks/Vento_Lab/MFI_spatial/MFI_sc_sn_Integrated_analysis/CellPhone_analysis/database_20210925_with_Jarrods_interactions/cellphonedb_user_2021-09-25-21_07.db\n",
      "[ ][CORE][25/09/21-21:07:25][INFO] Collecting gene\n",
      "[ ][APP][25/09/21-21:07:25][INFO] Collecting complex\n",
      "[ ][CORE][25/09/21-21:07:25][INFO] Initializing SqlAlchemy CellPhoneDB Core\n",
      "[ ][CORE][25/09/21-21:07:25][INFO] Using custom database at /home/jovyan/notebooks/Vento_Lab/MFI_spatial/MFI_sc_sn_Integrated_analysis/CellPhone_analysis/database_20210925_with_Jarrods_interactions/cellphonedb_user_2021-09-25-21_07.db\n",
      "[ ][CORE][25/09/21-21:07:25][INFO] Collecting complex\n",
      "[ ][APP][25/09/21-21:07:26][INFO] Collecting interaction\n",
      "[ ][CORE][25/09/21-21:07:26][INFO] Initializing SqlAlchemy CellPhoneDB Core\n",
      "[ ][CORE][25/09/21-21:07:26][INFO] Using custom database at /home/jovyan/notebooks/Vento_Lab/MFI_spatial/MFI_sc_sn_Integrated_analysis/CellPhone_analysis/database_20210925_with_Jarrods_interactions/cellphonedb_user_2021-09-25-21_07.db\n",
      "[ ][CORE][25/09/21-21:07:26][INFO] Collecting interaction\n"
     ]
    },
    {
     "name": "stderr",
     "output_type": "stream",
     "text": [
      "/opt/conda/lib/python3.8/site-packages/sklearn/utils/deprecation.py:144: FutureWarning: The sklearn.cluster.k_means_ module is  deprecated in version 0.22 and will be removed in version 0.24. The corresponding classes / functions should instead be imported from sklearn.cluster. Anything that cannot be imported from sklearn.cluster is now part of the private API.\n",
      "  warnings.warn(message, FutureWarning)\n",
      "/opt/conda/lib/python3.8/site-packages/cellphonedb/src/api_endpoints/terminal_api/tools_terminal_api_endpoints/tools_terminal_commands.py:243: FutureWarning: The pandas.np module is deprecated and will be removed from pandas in a future version. Import numpy directly instead\n",
      "  'secreted_desc': pd.np.nan,\n",
      "/opt/conda/lib/python3.8/site-packages/cellphonedb/src/api_endpoints/terminal_api/tools_terminal_api_endpoints/tools_terminal_commands.py:246: FutureWarning: The pandas.np module is deprecated and will be removed from pandas in a future version. Import numpy directly instead\n",
      "  'receptor_desc': pd.np.nan,\n",
      "/opt/conda/lib/python3.8/site-packages/cellphonedb/src/api_endpoints/terminal_api/tools_terminal_api_endpoints/tools_terminal_commands.py:249: FutureWarning: The pandas.np module is deprecated and will be removed from pandas in a future version. Import numpy directly instead\n",
      "  'other_desc': pd.np.nan,\n",
      "/opt/conda/lib/python3.8/site-packages/cellphonedb/src/api_endpoints/terminal_api/tools_terminal_api_endpoints/tools_terminal_commands.py:251: FutureWarning: The pandas.np module is deprecated and will be removed from pandas in a future version. Import numpy directly instead\n",
      "  'tags_reason': pd.np.nan,\n",
      "/opt/conda/lib/python3.8/site-packages/cellphonedb/src/api_endpoints/terminal_api/tools_terminal_api_endpoints/tools_terminal_commands.py:252: FutureWarning: The pandas.np module is deprecated and will be removed from pandas in a future version. Import numpy directly instead\n",
      "  'tags_description': pd.np.nan,\n",
      "/opt/conda/lib/python3.8/site-packages/cellphonedb/src/api_endpoints/terminal_api/tools_terminal_api_endpoints/tools_terminal_commands.py:253: FutureWarning: The pandas.np module is deprecated and will be removed from pandas in a future version. Import numpy directly instead\n",
      "  'pfam': pd.np.nan,\n",
      "/opt/conda/lib/python3.8/site-packages/cellphonedb/src/core/generators/gene_generator.py:31: SettingWithCopyWarning: \n",
      "A value is trying to be set on a copy of a slice from a DataFrame\n",
      "\n",
      "See the caveats in the documentation: https://pandas.pydata.org/pandas-docs/stable/user_guide/indexing.html#returning-a-view-versus-a-copy\n",
      "  ensembl_db_filtered.dropna(inplace=True)\n",
      "Fetching sources    : 100%|██████████| 10/10 [00:04<00:00,  3.51it/s]\n",
      "/opt/conda/lib/python3.8/site-packages/pandas/core/frame.py:4300: SettingWithCopyWarning: \n",
      "A value is trying to be set on a copy of a slice from a DataFrame\n",
      "\n",
      "See the caveats in the documentation: https://pandas.pydata.org/pandas-docs/stable/user_guide/indexing.html#returning-a-view-versus-a-copy\n",
      "  return super().rename(\n"
     ]
    }
   ],
   "source": [
    "%%bash\n",
    "\n",
    "cd /home/jovyan/notebooks/Vento_Lab/MFI_spatial/MFI_sc_sn_Integrated_analysis/CellPhone_analysis/\n",
    "\n",
    "cellphonedb database generate \\\n",
    "    --result-path database_20210925_with_Jarrods_interactions \\\n",
    "    --user-gene ./from_Jarrod_20210925/gene_input.csv \\\n",
    "    --user-complex ./from_Jarrod_20210925/complex_curated.tsv \\\n",
    "    --user-interactions ./from_Jarrod_20210925/interactions_curated.tsv"
   ]
  },
  {
   "cell_type": "code",
   "execution_count": null,
   "metadata": {},
   "outputs": [],
   "source": []
  },
  {
   "cell_type": "code",
   "execution_count": null,
   "metadata": {},
   "outputs": [],
   "source": []
  },
  {
   "cell_type": "code",
   "execution_count": null,
   "metadata": {},
   "outputs": [],
   "source": []
  }
 ],
 "metadata": {
  "kernelspec": {
   "display_name": "Python 3",
   "language": "python",
   "name": "python3"
  },
  "language_info": {
   "codemirror_mode": {
    "name": "ipython",
    "version": 3
   },
   "file_extension": ".py",
   "mimetype": "text/x-python",
   "name": "python",
   "nbconvert_exporter": "python",
   "pygments_lexer": "ipython3",
   "version": "3.8.8"
  }
 },
 "nbformat": 4,
 "nbformat_minor": 4
}
