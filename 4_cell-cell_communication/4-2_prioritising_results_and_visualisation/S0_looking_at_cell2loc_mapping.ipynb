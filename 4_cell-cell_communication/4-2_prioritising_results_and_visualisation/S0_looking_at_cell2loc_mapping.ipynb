{
 "cells": [
  {
   "cell_type": "markdown",
   "id": "toxic-advertiser",
   "metadata": {},
   "source": [
    "# Looking at cell2location mapping of newly annotated cell states from SN + multiome atlas of donor P13 states\n",
    "\n",
    "Onto all (8) relevant chips\n",
    "\n",
    "11.2021"
   ]
  },
  {
   "cell_type": "code",
   "execution_count": 1,
   "id": "dimensional-clock",
   "metadata": {
    "tags": []
   },
   "outputs": [],
   "source": [
    "%matplotlib inline\n",
    "\n",
    "import numpy as np\n",
    "import pandas as pd\n",
    "import seaborn as sns\n",
    "import scanpy as sc\n",
    "import anndata\n",
    "import matplotlib.pyplot as plt"
   ]
  },
  {
   "cell_type": "code",
   "execution_count": 2,
   "id": "refined-astronomy",
   "metadata": {},
   "outputs": [],
   "source": [
    "np.random.seed(0)"
   ]
  },
  {
   "cell_type": "code",
   "execution_count": 3,
   "id": "suited-third",
   "metadata": {
    "collapsed": true,
    "jupyter": {
     "outputs_hidden": true
    },
    "tags": []
   },
   "outputs": [
    {
     "name": "stderr",
     "output_type": "stream",
     "text": [
      "WARNING: If you miss a compact list, please try `print_header`!\n"
     ]
    },
    {
     "name": "stdout",
     "output_type": "stream",
     "text": [
      "-----\n",
      "anndata     0.7.5\n",
      "scanpy      1.7.1\n",
      "sinfo       0.3.1\n",
      "-----\n",
      "PIL                 8.1.2\n",
      "anndata             0.7.5\n",
      "anyio               NA\n",
      "attr                20.3.0\n",
      "babel               2.9.0\n",
      "backcall            0.2.0\n",
      "brotli              NA\n",
      "cairo               1.20.0\n",
      "certifi             2020.12.05\n",
      "cffi                1.14.5\n",
      "chardet             4.0.0\n",
      "cloudpickle         1.6.0\n",
      "colorama            0.4.4\n",
      "cycler              0.10.0\n",
      "cython_runtime      NA\n",
      "cytoolz             0.11.0\n",
      "dask                2021.03.1\n",
      "dateutil            2.8.1\n",
      "decorator           4.4.2\n",
      "fsspec              0.8.7\n",
      "get_version         2.1\n",
      "google              NA\n",
      "h5py                3.1.0\n",
      "idna                2.10\n",
      "igraph              0.8.3\n",
      "ipykernel           5.5.0\n",
      "ipython_genutils    0.2.0\n",
      "ipywidgets          7.6.3\n",
      "jedi                0.18.0\n",
      "jinja2              2.11.3\n",
      "joblib              1.0.1\n",
      "json5               NA\n",
      "jsonschema          3.2.0\n",
      "jupyter_server      1.4.1\n",
      "jupyterlab_server   2.3.0\n",
      "kiwisolver          1.3.1\n",
      "legacy_api_wrap     0.0.0\n",
      "leidenalg           0.8.3\n",
      "llvmlite            0.34.0\n",
      "louvain             0.7.0\n",
      "markupsafe          1.1.1\n",
      "matplotlib          3.3.4\n",
      "mpl_toolkits        NA\n",
      "natsort             7.1.1\n",
      "nbclassic           NA\n",
      "nbformat            5.1.2\n",
      "numba               0.51.2\n",
      "numexpr             2.7.3\n",
      "numpy               1.20.1\n",
      "packaging           20.9\n",
      "pandas              1.2.3\n",
      "parso               0.8.1\n",
      "pexpect             4.8.0\n",
      "pickleshare         0.7.5\n",
      "pkg_resources       NA\n",
      "prometheus_client   NA\n",
      "prompt_toolkit      3.0.16\n",
      "psutil              5.8.0\n",
      "ptyprocess          0.7.0\n",
      "pvectorc            NA\n",
      "pyarrow             0.16.0\n",
      "pygments            2.8.0\n",
      "pyparsing           2.4.7\n",
      "pyrsistent          NA\n",
      "pytoml              NA\n",
      "pytz                2021.1\n",
      "requests            2.25.1\n",
      "ruamel              NA\n",
      "scanpy              1.7.1\n",
      "scipy               1.6.1\n",
      "seaborn             0.11.1\n",
      "send2trash          NA\n",
      "setuptools_scm      NA\n",
      "sinfo               0.3.1\n",
      "six                 1.15.0\n",
      "sklearn             0.24.1\n",
      "sniffio             1.2.0\n",
      "socks               1.7.1\n",
      "sphinxcontrib       NA\n",
      "statsmodels         0.12.2\n",
      "storemagic          NA\n",
      "tables              3.6.1\n",
      "tblib               1.7.0\n",
      "texttable           1.6.3\n",
      "tlz                 0.11.0\n",
      "toolz               0.11.1\n",
      "tornado             6.1\n",
      "traitlets           5.0.5\n",
      "typing_extensions   NA\n",
      "urllib3             1.26.3\n",
      "wcwidth             0.2.5\n",
      "yaml                5.3.1\n",
      "zmq                 22.0.3\n",
      "-----\n",
      "IPython             7.21.0\n",
      "jupyter_client      6.1.11\n",
      "jupyter_core        4.7.1\n",
      "jupyterlab          3.0.9\n",
      "notebook            6.2.0\n",
      "-----\n",
      "Python 3.8.8 | packaged by conda-forge | (default, Feb 20 2021, 16:22:27) [GCC 9.3.0]\n",
      "Linux-4.15.0-158-generic-x86_64-with-glibc2.10\n",
      "60 logical CPU cores, x86_64\n",
      "-----\n",
      "Session information updated at 2021-12-13 23:41\n",
      "\n"
     ]
    }
   ],
   "source": [
    "sc.settings.verbosity = 3  # verbosity: errors (0), warnings (1), info (2), hints (3)\n",
    "sc.logging.print_versions()\n",
    "sc.settings.set_figure_params(dpi=80)  # low dpi (dots per inch) yields small inline figures"
   ]
  },
  {
   "cell_type": "code",
   "execution_count": 4,
   "id": "right-airline",
   "metadata": {
    "collapsed": true,
    "jupyter": {
     "outputs_hidden": true
    },
    "tags": []
   },
   "outputs": [
    {
     "name": "stdout",
     "output_type": "stream",
     "text": [
      "absl-py==0.12.0\n",
      "aiohttp==3.7.4.post0\n",
      "airr==1.3.1\n",
      "alabaster==0.7.12\n",
      "alembic @ file:///home/conda/feedstock_root/build_artifacts/alembic_1613901514078/work\n",
      "anndata @ file:///home/conda/feedstock_root/build_artifacts/anndata_1605539061264/work\n",
      "annoy @ file:///home/conda/feedstock_root/build_artifacts/python-annoy_1610271511811/work\n",
      "anyio @ file:///home/conda/feedstock_root/build_artifacts/anyio_1614388751160/work/dist\n",
      "arboreto==0.1.6\n",
      "argon2-cffi @ file:///home/conda/feedstock_root/build_artifacts/argon2-cffi_1610522574055/work\n",
      "async-generator==1.10\n",
      "async-timeout==3.0.1\n",
      "attrs @ file:///home/conda/feedstock_root/build_artifacts/attrs_1605083924122/work\n",
      "Babel @ file:///home/conda/feedstock_root/build_artifacts/babel_1605182336601/work\n",
      "backcall @ file:///home/conda/feedstock_root/build_artifacts/backcall_1592338393461/work\n",
      "backports.functools-lru-cache==1.6.1\n",
      "bbknn @ file:///opt/conda/conda-bld/bbknn_1616434096000/work\n",
      "bleach @ file:///home/conda/feedstock_root/build_artifacts/bleach_1612213472466/work\n",
      "blinker==1.4\n",
      "bokeh==2.3.0\n",
      "boltons==20.2.1\n",
      "brotlipy==0.7.0\n",
      "cached-property @ file:///home/conda/feedstock_root/build_artifacts/cached_property_1615209429212/work\n",
      "cachetools==4.2.1\n",
      "certifi==2020.12.5\n",
      "certipy==0.1.3\n",
      "cffi @ file:///home/conda/feedstock_root/build_artifacts/cffi_1613413861439/work\n",
      "chardet @ file:///home/conda/feedstock_root/build_artifacts/chardet_1610093490430/work\n",
      "click==7.1.2\n",
      "cloudpickle==1.6.0\n",
      "colorama @ file:///home/conda/feedstock_root/build_artifacts/colorama_1602866480661/work\n",
      "commonmark==0.9.1\n",
      "conda==4.9.2\n",
      "conda-package-handling @ file:///home/conda/feedstock_root/build_artifacts/conda-package-handling_1602876795040/work\n",
      "cryptography @ file:///home/conda/feedstock_root/build_artifacts/cryptography_1612993729974/work\n",
      "cycler==0.10.0\n",
      "Cython @ file:///home/conda/feedstock_root/build_artifacts/cython_1613867105642/work\n",
      "cytoolz==0.11.0\n",
      "dask==2021.3.1\n",
      "decorator==4.4.2\n",
      "defusedxml==0.6.0\n",
      "dill==0.3.3\n",
      "distributed==2021.3.1\n",
      "docutils @ file:///home/conda/feedstock_root/build_artifacts/docutils_1610127755164/work\n",
      "entrypoints @ file:///home/conda/feedstock_root/build_artifacts/entrypoints_1605121927639/work/dist/entrypoints-0.3-py2.py3-none-any.whl\n",
      "et-xmlfile==1.0.1\n",
      "fbpca==1.0\n",
      "frozendict==1.2\n",
      "fsspec==0.8.7\n",
      "future==0.18.2\n",
      "geosketch==1.2\n",
      "get-version==2.1\n",
      "google-auth==1.28.0\n",
      "google-auth-oauthlib==0.4.3\n",
      "grpcio==1.36.1\n",
      "h5py @ file:///home/conda/feedstock_root/build_artifacts/h5py_1604753633781/work\n",
      "HeapDict==1.0.1\n",
      "idna @ file:///home/conda/feedstock_root/build_artifacts/idna_1593328102638/work\n",
      "imageio==2.9.0\n",
      "imagesize==1.2.0\n",
      "importlib-metadata @ file:///home/conda/feedstock_root/build_artifacts/importlib-metadata_1614193722981/work\n",
      "interlap==0.2.7\n",
      "intervaltree==2.1.0\n",
      "ipykernel @ file:///home/conda/feedstock_root/build_artifacts/ipykernel_1613852938555/work/dist/ipykernel-5.5.0-py3-none-any.whl\n",
      "ipython @ file:///home/conda/feedstock_root/build_artifacts/ipython_1614393573755/work\n",
      "ipython-genutils==0.2.0\n",
      "ipywidgets @ file:///home/conda/feedstock_root/build_artifacts/ipywidgets_1609995587151/work\n",
      "jedi @ file:///home/conda/feedstock_root/build_artifacts/jedi_1610146791023/work\n",
      "Jinja2 @ file:///home/conda/feedstock_root/build_artifacts/jinja2_1612119311452/work\n",
      "joblib @ file:///home/conda/feedstock_root/build_artifacts/joblib_1612898609989/work\n",
      "json5 @ file:///home/conda/feedstock_root/build_artifacts/json5_1600692310011/work\n",
      "jsonschema @ file:///home/conda/feedstock_root/build_artifacts/jsonschema_1602551949684/work\n",
      "jupyter-client @ file:///home/conda/feedstock_root/build_artifacts/jupyter_client_1610375432619/work\n",
      "jupyter-core @ file:///home/conda/feedstock_root/build_artifacts/jupyter_core_1612125275706/work\n",
      "jupyter-packaging @ file:///home/conda/feedstock_root/build_artifacts/jupyter-packaging_1613054948399/work\n",
      "jupyter-resource-usage @ file:///home/conda/feedstock_root/build_artifacts/jupyter-resource-usage_1608550684149/work\n",
      "jupyter-rsession-proxy==1.2\n",
      "jupyter-server @ file:///home/conda/feedstock_root/build_artifacts/jupyter_server_1614028749313/work\n",
      "jupyter-server-proxy==3.0.2\n",
      "jupyter-telemetry @ file:///home/conda/feedstock_root/build_artifacts/jupyter_telemetry_1605173804246/work\n",
      "jupyterhub @ file:///home/conda/feedstock_root/build_artifacts/jupyterhub-feedstock_1614255305026/work\n",
      "jupyterlab @ file:///home/conda/feedstock_root/build_artifacts/jupyterlab_1614041538214/work\n",
      "jupyterlab-pygments @ file:///home/conda/feedstock_root/build_artifacts/jupyterlab_pygments_1601375948261/work\n",
      "jupyterlab-server @ file:///home/conda/feedstock_root/build_artifacts/jupyterlab_server_1613760084674/work\n",
      "jupyterlab-widgets @ file:///home/conda/feedstock_root/build_artifacts/jupyterlab_widgets_1609173350931/work\n",
      "kiwisolver @ file:///home/conda/feedstock_root/build_artifacts/kiwisolver_1610099769230/work\n",
      "legacy-api-wrap==0.0.0\n",
      "leidenalg @ file:///home/conda/feedstock_root/build_artifacts/leidenalg_1605889147051/work\n",
      "llvmlite==0.34.0\n",
      "locket==0.2.1\n",
      "loompy==3.0.6\n",
      "louvain @ file:///home/conda/feedstock_root/build_artifacts/louvain_1609939902418/work\n",
      "Mako @ file:///home/conda/feedstock_root/build_artifacts/mako_1610659158978/work\n",
      "mamba @ file:///home/conda/feedstock_root/build_artifacts/mamba_1613160772800/work\n",
      "Markdown==3.3.4\n",
      "MarkupSafe @ file:///home/conda/feedstock_root/build_artifacts/markupsafe_1610127565888/work\n",
      "matplotlib @ file:///home/conda/feedstock_root/build_artifacts/matplotlib-suite_1611858708474/work\n",
      "mistune @ file:///home/conda/feedstock_root/build_artifacts/mistune_1610112875388/work\n",
      "mock @ file:///home/conda/feedstock_root/build_artifacts/mock_1610094566888/work\n",
      "msgpack==1.0.2\n",
      "multidict==5.1.0\n",
      "multiprocessing-on-dill==3.5.0a4\n",
      "natsort @ file:///home/conda/feedstock_root/build_artifacts/natsort_1611580267114/work\n",
      "nbclassic @ file:///home/conda/feedstock_root/build_artifacts/nbclassic_1610352513187/work\n",
      "nbclient @ file:///home/conda/feedstock_root/build_artifacts/nbclient_1614336084111/work\n",
      "nbconvert @ file:///home/conda/feedstock_root/build_artifacts/nbconvert_1605401836768/work\n",
      "nbformat @ file:///home/conda/feedstock_root/build_artifacts/nbformat_1611005694671/work\n",
      "nbresuse==0.3.6\n",
      "nest-asyncio @ file:///home/conda/feedstock_root/build_artifacts/nest-asyncio_1605195931949/work\n",
      "networkx @ file:///home/conda/feedstock_root/build_artifacts/networkx_1598210780226/work\n",
      "notebook @ file:///home/conda/feedstock_root/build_artifacts/notebook_1610575313697/work\n",
      "numba @ file:///home/conda/feedstock_root/build_artifacts/numba_1599084802945/work\n",
      "numexpr @ file:///home/conda/feedstock_root/build_artifacts/numexpr_1614971340455/work\n",
      "numpy @ file:///home/conda/feedstock_root/build_artifacts/numpy_1612953005674/work\n",
      "numpy-groupies==0.9.13\n",
      "oauthlib==3.0.1\n",
      "olefile @ file:///home/conda/feedstock_root/build_artifacts/olefile_1602866521163/work\n",
      "openpyxl==3.0.7\n",
      "opt-einsum==3.3.0\n",
      "packaging @ file:///home/conda/feedstock_root/build_artifacts/packaging_1612459636436/work\n",
      "pamela==1.0.0\n",
      "pandas==1.2.3\n",
      "pandocfilters==1.4.2\n",
      "parasail==1.2.4\n",
      "parso @ file:///home/conda/feedstock_root/build_artifacts/parso_1607618318316/work\n",
      "partd==1.1.0\n",
      "patsy==0.5.1\n",
      "pexpect @ file:///home/conda/feedstock_root/build_artifacts/pexpect_1602535608087/work\n",
      "pickleshare @ file:///home/conda/feedstock_root/build_artifacts/pickleshare_1602536217715/work\n",
      "Pillow @ file:///home/conda/feedstock_root/build_artifacts/pillow_1615243974661/work\n",
      "plotly==4.14.3\n",
      "prometheus-client @ file:///home/conda/feedstock_root/build_artifacts/prometheus_client_1605543085815/work\n",
      "prompt-toolkit @ file:///home/conda/feedstock_root/build_artifacts/prompt-toolkit_1613068548426/work\n",
      "protobuf==3.15.6\n",
      "psutil @ file:///home/conda/feedstock_root/build_artifacts/psutil_1610127095720/work\n",
      "ptyprocess @ file:///home/conda/feedstock_root/build_artifacts/ptyprocess_1609419310487/work/dist/ptyprocess-0.7.0-py2.py3-none-any.whl\n",
      "pyarrow==0.16.0\n",
      "pyasn1==0.4.8\n",
      "pyasn1-modules==0.2.8\n",
      "pycairo==1.20.0\n",
      "pycosat @ file:///home/conda/feedstock_root/build_artifacts/pycosat_1610094800877/work\n",
      "pycparser @ file:///home/conda/feedstock_root/build_artifacts/pycparser_1593275161868/work\n",
      "pycurl==7.43.0.6\n",
      "Pygments @ file:///home/conda/feedstock_root/build_artifacts/pygments_1613412098605/work\n",
      "PyJWT @ file:///home/conda/feedstock_root/build_artifacts/pyjwt_1610910308735/work\n",
      "pynndescent @ file:///home/conda/feedstock_root/build_artifacts/pynndescent_1612844832048/work\n",
      "pyOpenSSL @ file:///home/conda/feedstock_root/build_artifacts/pyopenssl_1608055815057/work\n",
      "pyparsing==2.4.7\n",
      "PyQt5==5.12.3\n",
      "PyQt5-sip==4.19.18\n",
      "PyQtChart==5.12\n",
      "PyQtWebEngine==5.12.1\n",
      "pyro-api==0.1.2\n",
      "pyro-ppl==1.6.0\n",
      "pyrsistent @ file:///home/conda/feedstock_root/build_artifacts/pyrsistent_1610146798212/work\n",
      "pysam==0.16.0.1\n",
      "pyscenic==0.11.0\n",
      "PySocks @ file:///home/conda/feedstock_root/build_artifacts/pysocks_1610291447907/work\n",
      "python-dateutil==2.8.1\n",
      "python-editor==1.0.4\n",
      "python-igraph @ file:///home/conda/feedstock_root/build_artifacts/python-igraph_1609945946184/work\n",
      "python-json-logger @ file:///home/conda/feedstock_root/build_artifacts/python-json-logger_1602545356084/work\n",
      "python-Levenshtein==0.12.2\n",
      "pytoml==0.1.21\n",
      "pytorch-lightning==1.2.5\n",
      "pytz @ file:///home/conda/feedstock_root/build_artifacts/pytz_1612179539967/work\n",
      "PyWavelets==1.1.1\n",
      "PyYAML==5.3.1\n",
      "pyzmq @ file:///home/conda/feedstock_root/build_artifacts/pyzmq_1613478739884/work\n",
      "requests @ file:///home/conda/feedstock_root/build_artifacts/requests_1608156231189/work\n",
      "requests-oauthlib==1.3.0\n",
      "retrying==1.3.3\n",
      "rich==10.0.0\n",
      "rpy2==3.4.3\n",
      "rsa==4.7.2\n",
      "ruamel-yaml-conda @ file:///home/conda/feedstock_root/build_artifacts/ruamel_yaml_1611943339799/work\n",
      "ruamel.yaml @ file:///home/conda/feedstock_root/build_artifacts/ruamel.yaml_1610291375472/work\n",
      "ruamel.yaml.clib @ file:///home/conda/feedstock_root/build_artifacts/ruamel.yaml.clib_1610146840614/work\n",
      "scanorama==1.7.1\n",
      "scanpy @ file:///opt/conda/conda-bld/scanpy_1614155786839/work\n",
      "scikit-image==0.18.1\n",
      "scikit-learn @ file:///home/conda/feedstock_root/build_artifacts/scikit-learn_1611079738450/work\n",
      "scipy @ file:///home/conda/feedstock_root/build_artifacts/scipy_1615955928702/work\n",
      "scirpy==0.6.1\n",
      "scrublet==0.2.3\n",
      "scvelo==0.2.3\n",
      "scvi-tools==0.9.1\n",
      "seaborn @ file:///home/conda/feedstock_root/build_artifacts/seaborn-split_1611834504644/work\n",
      "Send2Trash==1.5.0\n",
      "setuptools-scm @ file:///home/conda/feedstock_root/build_artifacts/setuptools_scm_1615996969755/work\n",
      "simpervisor==0.4\n",
      "sinfo @ file:///home/conda/feedstock_root/build_artifacts/sinfo_1597764960136/work\n",
      "six @ file:///home/conda/feedstock_root/build_artifacts/six_1590081179328/work\n",
      "sniffio @ file:///home/conda/feedstock_root/build_artifacts/sniffio_1610318319305/work\n",
      "snowballstemmer @ file:///home/conda/feedstock_root/build_artifacts/snowballstemmer_1611270869511/work\n",
      "sortedcontainers==2.3.0\n",
      "Sphinx @ file:///home/conda/feedstock_root/build_artifacts/sphinx_1616256380770/work\n",
      "sphinxcontrib-applehelp==1.0.2\n",
      "sphinxcontrib-devhelp==1.0.2\n",
      "sphinxcontrib-htmlhelp==1.0.3\n",
      "sphinxcontrib-jsmath==1.0.1\n",
      "sphinxcontrib-qthelp==1.0.3\n",
      "sphinxcontrib-serializinghtml==1.1.4\n",
      "SQLAlchemy @ file:///home/conda/feedstock_root/build_artifacts/sqlalchemy_1612225077951/work\n",
      "squarify==0.4.3\n",
      "statsmodels @ file:///home/conda/feedstock_root/build_artifacts/statsmodels_1612273599609/work\n",
      "stdlib-list @ file:///home/conda/feedstock_root/build_artifacts/stdlib-list_1602130019264/work\n",
      "tables @ file:///home/conda/feedstock_root/build_artifacts/pytables_1603317058579/work\n",
      "tblib==1.7.0\n",
      "tensorboard==2.4.1\n",
      "tensorboard-plugin-wit==1.8.0\n",
      "terminado @ file:///home/conda/feedstock_root/build_artifacts/terminado_1609794172745/work\n",
      "testpath==0.4.4\n",
      "texttable @ file:///home/conda/feedstock_root/build_artifacts/texttable_1599404337529/work\n",
      "threadpoolctl @ file:///tmp/tmp79xdzxkt/threadpoolctl-2.1.0-py3-none-any.whl\n",
      "tifffile==2021.3.17\n",
      "toml @ file:///home/conda/feedstock_root/build_artifacts/toml_1604308577558/work\n",
      "toolz==0.11.1\n",
      "torch==1.8.1\n",
      "torchmetrics==0.2.0\n",
      "tornado @ file:///home/conda/feedstock_root/build_artifacts/tornado_1610094706440/work\n",
      "tqdm @ file:///home/conda/feedstock_root/build_artifacts/tqdm_1614279180094/work\n",
      "traitlets @ file:///home/conda/feedstock_root/build_artifacts/traitlets_1602771532708/work\n",
      "typing-extensions==3.7.4.3\n",
      "tzlocal==2.1\n",
      "umap-learn==0.4.6\n",
      "urllib3 @ file:///home/conda/feedstock_root/build_artifacts/urllib3_1611695416663/work\n",
      "velocyto==0.17.17\n",
      "wcwidth @ file:///home/conda/feedstock_root/build_artifacts/wcwidth_1600965781394/work\n",
      "webencodings==0.5.1\n",
      "Werkzeug==1.0.1\n",
      "widgetsnbextension @ file:///home/conda/feedstock_root/build_artifacts/widgetsnbextension_1605475534911/work\n",
      "yamlordereddictloader==0.4.0\n",
      "yarl==1.6.3\n",
      "zict==2.0.0\n",
      "zipp @ file:///home/conda/feedstock_root/build_artifacts/zipp_1603668650351/work\n"
     ]
    }
   ],
   "source": [
    "%%bash\n",
    "\n",
    "pip freeze"
   ]
  },
  {
   "cell_type": "markdown",
   "id": "engaging-press",
   "metadata": {},
   "source": [
    "# Reading in Visium data for donors P13, P14 and Hrv43"
   ]
  },
  {
   "cell_type": "code",
   "execution_count": 5,
   "id": "average-building",
   "metadata": {
    "tags": []
   },
   "outputs": [
    {
     "name": "stderr",
     "output_type": "stream",
     "text": [
      "reading /lustre/scratch117/cellgen/team292/aa22/data/202008_MFI_Visium/20200901_new_data_spaceranger110/spaceranger110_count_34914_WS_PLA_S9101764_GRCh38-3_0_0-premrna/filtered_feature_bc_matrix.h5\n"
     ]
    },
    {
     "name": "stdout",
     "output_type": "stream",
     "text": [
      "34914_WS_PLA_S9101764\n"
     ]
    },
    {
     "name": "stderr",
     "output_type": "stream",
     "text": [
      "Variable names are not unique. To make them unique, call `.var_names_make_unique`.\n",
      " (0:00:01)\n",
      "Variable names are not unique. To make them unique, call `.var_names_make_unique`.\n",
      "reading /lustre/scratch117/cellgen/team292/aa22/data/202008_MFI_Visium/20200901_new_data_spaceranger110/spaceranger110_count_34914_WS_PLA_S9101765_GRCh38-3_0_0-premrna/filtered_feature_bc_matrix.h5\n"
     ]
    },
    {
     "name": "stdout",
     "output_type": "stream",
     "text": [
      "34914_WS_PLA_S9101765\n"
     ]
    },
    {
     "name": "stderr",
     "output_type": "stream",
     "text": [
      "Variable names are not unique. To make them unique, call `.var_names_make_unique`.\n",
      " (0:00:01)\n",
      "Variable names are not unique. To make them unique, call `.var_names_make_unique`.\n",
      "reading /lustre/scratch117/cellgen/team292/aa22/data/202008_MFI_Visium/20200901_new_data_spaceranger110/spaceranger110_count_34914_WS_PLA_S9101766_GRCh38-3_0_0-premrna/filtered_feature_bc_matrix.h5\n"
     ]
    },
    {
     "name": "stdout",
     "output_type": "stream",
     "text": [
      "34914_WS_PLA_S9101766\n"
     ]
    },
    {
     "name": "stderr",
     "output_type": "stream",
     "text": [
      "Variable names are not unique. To make them unique, call `.var_names_make_unique`.\n",
      " (0:00:00)\n",
      "Variable names are not unique. To make them unique, call `.var_names_make_unique`.\n",
      "reading /lustre/scratch117/cellgen/team292/aa22/data/202008_MFI_Visium/20200901_new_data_spaceranger110/spaceranger110_count_34914_WS_PLA_S9101767_GRCh38-3_0_0-premrna/filtered_feature_bc_matrix.h5\n"
     ]
    },
    {
     "name": "stdout",
     "output_type": "stream",
     "text": [
      "34914_WS_PLA_S9101767\n"
     ]
    },
    {
     "name": "stderr",
     "output_type": "stream",
     "text": [
      "Variable names are not unique. To make them unique, call `.var_names_make_unique`.\n",
      " (0:00:01)\n",
      "Variable names are not unique. To make them unique, call `.var_names_make_unique`.\n",
      "reading /lustre/scratch117/cellgen/team292/aa22/data/202008_MFI_Visium/20200901_new_data_spaceranger110/spaceranger110_count_34882_WS_PLA_S9101769_GRCh38-3_0_0-premrna/filtered_feature_bc_matrix.h5\n"
     ]
    },
    {
     "name": "stdout",
     "output_type": "stream",
     "text": [
      "34882_WS_PLA_S9101769\n"
     ]
    },
    {
     "name": "stderr",
     "output_type": "stream",
     "text": [
      "Variable names are not unique. To make them unique, call `.var_names_make_unique`.\n",
      " (0:00:00)\n",
      "Variable names are not unique. To make them unique, call `.var_names_make_unique`.\n",
      "reading /lustre/scratch117/cellgen/team292/aa22/data/202008_MFI_Visium/20200901_new_data_spaceranger110/spaceranger110_count_34882_WS_PLA_S9101770_GRCh38-3_0_0-premrna/filtered_feature_bc_matrix.h5\n"
     ]
    },
    {
     "name": "stdout",
     "output_type": "stream",
     "text": [
      "34882_WS_PLA_S9101770\n"
     ]
    },
    {
     "name": "stderr",
     "output_type": "stream",
     "text": [
      "Variable names are not unique. To make them unique, call `.var_names_make_unique`.\n",
      " (0:00:01)\n",
      "Variable names are not unique. To make them unique, call `.var_names_make_unique`.\n",
      "reading /lustre/scratch117/cellgen/team292/aa22/data/202103_MFI_Visium_batch_2/spaceranger110_count_36173_Pla_HDBR9518710_GRCh38-3_0_0_premrna/filtered_feature_bc_matrix.h5\n"
     ]
    },
    {
     "name": "stdout",
     "output_type": "stream",
     "text": [
      "36173_Pla_HDBR9518710\n"
     ]
    },
    {
     "name": "stderr",
     "output_type": "stream",
     "text": [
      "Variable names are not unique. To make them unique, call `.var_names_make_unique`.\n",
      " (0:00:00)\n",
      "Variable names are not unique. To make them unique, call `.var_names_make_unique`.\n",
      "reading /lustre/scratch117/cellgen/team292/aa22/data/202103_MFI_Visium_batch_2/spaceranger110_count_36173_Pla_Camb9518737_GRCh38-3_0_0_premrna/filtered_feature_bc_matrix.h5\n"
     ]
    },
    {
     "name": "stdout",
     "output_type": "stream",
     "text": [
      "36173_Pla_Camb9518737\n"
     ]
    },
    {
     "name": "stderr",
     "output_type": "stream",
     "text": [
      "Variable names are not unique. To make them unique, call `.var_names_make_unique`.\n",
      " (0:00:01)\n",
      "Variable names are not unique. To make them unique, call `.var_names_make_unique`.\n"
     ]
    }
   ],
   "source": [
    "# reading adatas \n",
    "# trying all at once, this may break\n",
    "IDs = ['34914_WS_PLA_S9101764', # P13 main 4 chips\n",
    "           '34914_WS_PLA_S9101765',\n",
    "           '34914_WS_PLA_S9101766',\n",
    "           '34914_WS_PLA_S9101767',\n",
    "           '34882_WS_PLA_S9101769', # P!4 2 chips\n",
    "           '34882_WS_PLA_S9101770',\n",
    "           \n",
    "           # from batch 2\n",
    "           '36173_Pla_HDBR9518710', # Hrv43\n",
    "           '36173_Pla_Camb9518737', # P13 extra chip\n",
    "           \n",
    "          ]\n",
    "\n",
    "adatas_visium = {}\n",
    "\n",
    "for ID in IDs:\n",
    "    print(ID)\n",
    "    \n",
    "    if ID in ['34914_WS_PLA_S9101764', # P13 main 4 chips\n",
    "           '34914_WS_PLA_S9101765',\n",
    "           '34914_WS_PLA_S9101766',\n",
    "           '34914_WS_PLA_S9101767',\n",
    "           '34882_WS_PLA_S9101769', # P!4 2 chips\n",
    "           '34882_WS_PLA_S9101770',]:\n",
    "        path = '/lustre/scratch117/cellgen/team292/aa22/data/202008_MFI_Visium/20200901_new_data_spaceranger110/spaceranger110_count_' + ID + '_GRCh38-3_0_0-premrna/'\n",
    "    if ID in ['36173_Pla_HDBR9518710', # Hrv43\n",
    "           '36173_Pla_Camb9518737', # P13 extra chip\n",
    "             ]:\n",
    "        path = '/lustre/scratch117/cellgen/team292/aa22/data/202103_MFI_Visium_batch_2/spaceranger110_count_' + ID + '_GRCh38-3_0_0_premrna/'\n",
    "           \n",
    "    \n",
    "    adatas_visium[ID] = sc.read_visium(path)\n",
    "    adatas_visium[ID].obs['sample'] = ID\n",
    "    adatas_visium[ID].obs['barcode_sample'] = [idx + '_' + ID for idx in adatas_visium[ID].obs_names]\n",
    "    adatas_visium[ID].obs.set_index('barcode_sample', inplace=True)\n",
    "    adatas_visium[ID].var_names_make_unique()\n",
    "    "
   ]
  },
  {
   "cell_type": "code",
   "execution_count": 6,
   "id": "religious-vietnam",
   "metadata": {},
   "outputs": [],
   "source": [
    "# adding QC metrics to the visium objects\n",
    "for ID in IDs:\n",
    "    adatas_visium[ID].obs['n_counts'] = adatas_visium[ID].X.sum(1)\n",
    "    adatas_visium[ID].obs['log_counts'] = np.log(adatas_visium[ID].obs['n_counts'])\n",
    "    adatas_visium[ID].obs['n_genes'] = (adatas_visium[ID].X > 0).sum(1)\n",
    "    \n",
    "    mito_genes = [name for name in adatas_visium[ID].var_names if name.startswith('MT-')]\n",
    "    #for each cell compute fraction of counts in mito genes vs. all genes\n",
    "    #the `.A1` is only necessary, as X is sparse - it transform to a dense array after summing\n",
    "    adatas_visium[ID].obs['percent_mito'] = np.sum(\n",
    "        adatas_visium[ID][:, mito_genes].X, axis=1).A1 / np.sum(adatas_visium[ID].X, axis=1).A1\n",
    "    # saving raw counts in .raw for now\n",
    "    adatas_visium[ID].raw = adatas_visium[ID].copy()"
   ]
  },
  {
   "cell_type": "code",
   "execution_count": 7,
   "id": "surrounded-episode",
   "metadata": {},
   "outputs": [],
   "source": [
    "# log transform the data - OPTIONAL, doing here for visualisation\n",
    "for ID in IDs:\n",
    "    sc.pp.log1p(adatas_visium[ID])"
   ]
  },
  {
   "cell_type": "code",
   "execution_count": 8,
   "id": "sorted-algorithm",
   "metadata": {},
   "outputs": [],
   "source": [
    "# plotting selected L/Rto see if there is an interesting pattern in space\n",
    "\n",
    "MEs = ['ME_1_early_inv_column', 'ME_2_inv_front', 'ME_3_artery_remodelling', 'ME_4_fusion']\n",
    "\n",
    "relevant_LR_simple_per_ME = {}\n",
    "\n",
    "for ME in MEs:\n",
    "    relevant_LR_simple_per_ME[ME] = list(pd.read_csv('./20211212_LR_to_vis_in_space_simple_' + ME + '.csv', index_col=0)['0'])\n",
    "\n",
    "relevant_LR_complex = list(pd.read_csv('./20211212_LR_to_vis_in_space_complex_all_MEs.csv', index_col=0)['0'])"
   ]
  },
  {
   "cell_type": "code",
   "execution_count": 9,
   "id": "descending-catalog",
   "metadata": {},
   "outputs": [
    {
     "data": {
      "text/plain": [
       "['BST1',\n",
       " 'LRPAP1',\n",
       " 'NGF',\n",
       " 'DPP4',\n",
       " 'PLAU',\n",
       " 'SLC3A2',\n",
       " 'CD24',\n",
       " 'TMED2',\n",
       " 'NOTCH1',\n",
       " 'PDGFA',\n",
       " 'CD47',\n",
       " 'WNT6',\n",
       " 'CXCL2',\n",
       " 'TNFRSF12A']"
      ]
     },
     "execution_count": 9,
     "metadata": {},
     "output_type": "execute_result"
    }
   ],
   "source": [
    "relevant_LR_simple_per_ME['ME_1_early_inv_column']"
   ]
  },
  {
   "cell_type": "code",
   "execution_count": null,
   "id": "desperate-spirituality",
   "metadata": {},
   "outputs": [],
   "source": [
    "sc.pl.spatial(adatas_visium['34914_WS_PLA_S9101767'], \n",
    "                  color=['JAM2', 'JAM3',\n",
    "                        'PGR','HSD3B1'], ncols=2,\n",
    "              cmap='YlGnBu')"
   ]
  },
  {
   "cell_type": "code",
   "execution_count": null,
   "id": "alert-sleeve",
   "metadata": {
    "tags": []
   },
   "outputs": [],
   "source": [
    "for ME in MEs:\n",
    "    for ID in IDs:\n",
    "        sc.pl.spatial(adatas_visium[ID], \n",
    "                  color=relevant_LR_simple_per_ME[ME], cmap='YlGnBu', save='_relevant_LR_in_space_simple_' + ME + '_ID_' + ID + '.pdf')"
   ]
  },
  {
   "cell_type": "code",
   "execution_count": null,
   "id": "controversial-september",
   "metadata": {
    "tags": []
   },
   "outputs": [],
   "source": [
    "# should be in order of MEs\n",
    "for ID in IDs:\n",
    "    sc.pl.spatial(adatas_visium[ID], \n",
    "                  color=relevant_LR_complex, cmap='YlGnBu', save='_relevant_LR_in_space_complex_ID_' + ID + '.pdf')"
   ]
  },
  {
   "cell_type": "code",
   "execution_count": null,
   "id": "descending-shopping",
   "metadata": {},
   "outputs": [],
   "source": []
  },
  {
   "cell_type": "raw",
   "id": "greater-proof",
   "metadata": {},
   "source": [
    "sc.set_figure_params(figsize=(10,10))"
   ]
  },
  {
   "cell_type": "code",
   "execution_count": 7,
   "id": "combined-connectivity",
   "metadata": {},
   "outputs": [
    {
     "data": {
      "text/plain": [
       "AnnData object with n_obs × n_vars = 4071 × 33538\n",
       "    obs: 'in_tissue', 'array_row', 'array_col', 'sample', 'n_counts', 'log_counts', 'n_genes', 'percent_mito'\n",
       "    var: 'gene_ids', 'feature_types', 'genome'\n",
       "    uns: 'spatial'\n",
       "    obsm: 'spatial'"
      ]
     },
     "execution_count": 7,
     "metadata": {},
     "output_type": "execute_result"
    }
   ],
   "source": [
    "adatas_visium['36173_Pla_Camb9518737']"
   ]
  },
  {
   "cell_type": "code",
   "execution_count": 8,
   "id": "false-contact",
   "metadata": {
    "tags": []
   },
   "outputs": [],
   "source": [
    "# 23.11.2021 mapping where inv troph annotations are corrected\n",
    "# mapping full atlas of donor P13 with inv troph states from P13-only SN + multiome analysis and all other states from P13 within all-donors analysis onto all 8 relevant Visium chips\n",
    "# this run I'm going to refer to as 'hybrid' here\n",
    "\n",
    "path_hybrid = '/lustre/scratch117/cellgen/team292/aa22/cell2loc_files/results/20211123_P13_new_full_atlas_SN_and_multiome_updated_onto_all_relevant_Visium_chips_with_LF_gene_filter/cell2location_map/'\n",
    "\n",
    "# object with all used Visium chips concatenated (in this case all 8 relevant Visium chips)\n",
    "sp_mapping_hybrid = sc.read(path_hybrid + 'sp.h5ad')\n",
    "\n"
   ]
  },
  {
   "cell_type": "code",
   "execution_count": 9,
   "id": "collectible-corner",
   "metadata": {},
   "outputs": [
    {
     "name": "stdout",
     "output_type": "stream",
     "text": [
      "34914_WS_PLA_S9101764\n",
      "34914_WS_PLA_S9101765\n",
      "34914_WS_PLA_S9101766\n",
      "34914_WS_PLA_S9101767\n",
      "34882_WS_PLA_S9101769\n",
      "34882_WS_PLA_S9101770\n",
      "36173_Pla_HDBR9518710\n",
      "36173_Pla_Camb9518737\n"
     ]
    }
   ],
   "source": [
    "for ID in IDs:\n",
    "    print(ID)\n",
    "    #print(col)\n",
    "    for col in sp_mapping_hybrid.obsm['q05_cell_abundance_w_sf']:\n",
    "        col_chopped = col[18:] + '_hybrid'\n",
    "        #print(col_chopped)\n",
    "        adatas_visium[ID].obs[col_chopped] = sp_mapping_hybrid.obsm['q05_cell_abundance_w_sf'].loc[adatas_visium[ID].obs_names, col]\n",
    "        \n",
    "        "
   ]
  },
  {
   "cell_type": "code",
   "execution_count": 10,
   "id": "cathedral-request",
   "metadata": {
    "tags": []
   },
   "outputs": [
    {
     "data": {
      "text/plain": [
       "['w_sf_B_cells_hybrid',\n",
       " 'w_sf_DC_hybrid',\n",
       " 'w_sf_EVT_1_hybrid',\n",
       " 'w_sf_EVT_2_hybrid',\n",
       " 'w_sf_Endo_F_hybrid',\n",
       " 'w_sf_Endo_L_hybrid',\n",
       " 'w_sf_Endo_M_hybrid',\n",
       " 'w_sf_GC_hybrid',\n",
       " 'w_sf_Granulocytes_hybrid',\n",
       " 'w_sf_HOFB_hybrid',\n",
       " 'w_sf_ILC3_hybrid',\n",
       " 'w_sf_M3_hybrid',\n",
       " 'w_sf_MO_hybrid',\n",
       " 'w_sf_NK_hybrid',\n",
       " 'w_sf_PV_hybrid',\n",
       " 'w_sf_Plasma_hybrid',\n",
       " 'w_sf_SCT_hybrid',\n",
       " 'w_sf_T_cells_hybrid',\n",
       " 'w_sf_VCT_hybrid',\n",
       " 'w_sf_VCT_CCC_hybrid',\n",
       " 'w_sf_VCT_fusing_hybrid',\n",
       " 'w_sf_VCT_p_hybrid',\n",
       " 'w_sf_dDC_hybrid',\n",
       " 'w_sf_dEpi_lumenal_hybrid',\n",
       " 'w_sf_dEpi_secretory_hybrid',\n",
       " 'w_sf_dM1_hybrid',\n",
       " 'w_sf_dM2_hybrid',\n",
       " 'w_sf_dNK1_hybrid',\n",
       " 'w_sf_dNK2_hybrid',\n",
       " 'w_sf_dNK3_hybrid',\n",
       " 'w_sf_dS1_hybrid',\n",
       " 'w_sf_dS2_hybrid',\n",
       " 'w_sf_dS3_hybrid',\n",
       " 'w_sf_dT_cells_hybrid',\n",
       " 'w_sf_dT_regs_hybrid',\n",
       " 'w_sf_eEVT_hybrid',\n",
       " 'w_sf_fF1_hybrid',\n",
       " 'w_sf_fF2_hybrid',\n",
       " 'w_sf_iEVT_hybrid',\n",
       " 'w_sf_uSMC_hybrid']"
      ]
     },
     "execution_count": 10,
     "metadata": {},
     "output_type": "execute_result"
    }
   ],
   "source": [
    "c2l_tags_hybrid = [elem for elem in adatas_visium['34914_WS_PLA_S9101764'].obs.columns if '_hybrid' in elem]\n",
    "c2l_tags_hybrid"
   ]
  },
  {
   "cell_type": "code",
   "execution_count": 11,
   "id": "fixed-robertson",
   "metadata": {},
   "outputs": [
    {
     "data": {
      "text/plain": [
       "['w_sf_VCT_CCC_hybrid',\n",
       " 'w_sf_EVT_1_hybrid',\n",
       " 'w_sf_EVT_2_hybrid',\n",
       " 'w_sf_eEVT_hybrid',\n",
       " 'w_sf_iEVT_hybrid',\n",
       " 'w_sf_GC_hybrid']"
      ]
     },
     "execution_count": 11,
     "metadata": {},
     "output_type": "execute_result"
    }
   ],
   "source": [
    "# here hybrid_old is SN + multiome mapping, and hybrid - SN only\n",
    "troph_tags = ['w_sf_' + ct + '_hybrid' for ct in ['VCT_CCC','EVT_1','EVT_2','eEVT','iEVT','GC']]\n",
    "#troph_tags = [item for sublist in troph_tags for item in sublist]\n",
    "troph_tags"
   ]
  },
  {
   "cell_type": "code",
   "execution_count": null,
   "id": "sacred-claim",
   "metadata": {
    "collapsed": true,
    "jupyter": {
     "outputs_hidden": true
    },
    "tags": []
   },
   "outputs": [],
   "source": [
    "# looking at only invading trophoblast\n",
    "\n",
    "for ID in IDs:\n",
    "    print(ID)\n",
    "    sc.pl.spatial(adatas_visium[ID],\n",
    "                 color = troph_tags, cmap='YlGnBu', ncols=4)"
   ]
  },
  {
   "cell_type": "code",
   "execution_count": null,
   "id": "indie-distance",
   "metadata": {
    "collapsed": true,
    "jupyter": {
     "outputs_hidden": true
    },
    "tags": []
   },
   "outputs": [],
   "source": [
    "# plot all cell states\n",
    "\n",
    "for ID in IDs:\n",
    "    print(ID)\n",
    "    sc.pl.spatial(adatas_visium[ID],\n",
    "                 color = c2l_tags_hybrid, cmap='YlGnBu')"
   ]
  },
  {
   "cell_type": "markdown",
   "id": "supreme-charity",
   "metadata": {},
   "source": [
    "# 23.11.2021\n",
    "# this run looks great - carrying on to define regions based on this (with SpatialDE2) in notebook S1 and run spatial colocation model for troph trajectories"
   ]
  },
  {
   "cell_type": "code",
   "execution_count": null,
   "id": "complimentary-german",
   "metadata": {},
   "outputs": [],
   "source": []
  },
  {
   "cell_type": "code",
   "execution_count": null,
   "id": "guilty-shower",
   "metadata": {},
   "outputs": [],
   "source": []
  }
 ],
 "metadata": {
  "kernelspec": {
   "display_name": "Python 3",
   "language": "python",
   "name": "python3"
  },
  "language_info": {
   "codemirror_mode": {
    "name": "ipython",
    "version": 3
   },
   "file_extension": ".py",
   "mimetype": "text/x-python",
   "name": "python",
   "nbconvert_exporter": "python",
   "pygments_lexer": "ipython3",
   "version": "3.8.8"
  }
 },
 "nbformat": 4,
 "nbformat_minor": 5
}
