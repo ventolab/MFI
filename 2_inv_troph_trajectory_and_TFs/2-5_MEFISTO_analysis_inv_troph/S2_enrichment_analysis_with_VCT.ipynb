{
 "cells": [
  {
   "cell_type": "markdown",
   "id": "invalid-fifth",
   "metadata": {},
   "source": [
    "# Interpreting MEFISTO factors in more detail using `runEnrichmentAnalysis`\n",
    "\n",
    "in terms of gene groups for RNA view and TF motif presence/enhancer/othe genomic annotations for ATAC view\n",
    "\n",
    "here looking at the model where we include all invading trophoblast **and** VCT population (united VCT and VCT_p)\n",
    "\n",
    "02.2022"
   ]
  },
  {
   "cell_type": "code",
   "execution_count": 1,
   "id": "specified-booking",
   "metadata": {},
   "outputs": [],
   "source": [
    "import mofapy2 # needs 'pip install mofapy2'\n",
    "import muon as mu # needs 'pip install muon'\n",
    "import mudata as md\n",
    "import os\n",
    "import scanpy as sc\n",
    "import numpy as np\n",
    "import scipy\n",
    "import matplotlib.pyplot as plt\n",
    "import pandas as pd\n",
    "import seaborn as sns\n",
    "import anndata"
   ]
  },
  {
   "cell_type": "code",
   "execution_count": 2,
   "id": "increasing-viewer",
   "metadata": {},
   "outputs": [],
   "source": [
    "sc.settings.set_figure_params(dpi=80)  # low dpi (dots per inch) yields small inline figures"
   ]
  },
  {
   "cell_type": "code",
   "execution_count": 3,
   "id": "intimate-albania",
   "metadata": {
    "tags": []
   },
   "outputs": [
    {
     "name": "stdout",
     "output_type": "stream",
     "text": [
      "absl-py==0.12.0\n",
      "aiohttp==3.7.4.post0\n",
      "airr==1.3.1\n",
      "alabaster==0.7.12\n",
      "alembic @ file:///home/conda/feedstock_root/build_artifacts/alembic_1613901514078/work\n",
      "anndata @ file:///home/conda/feedstock_root/build_artifacts/anndata_1605539061264/work\n",
      "anndata2ri==1.0.6\n",
      "annoy @ file:///home/conda/feedstock_root/build_artifacts/python-annoy_1610271511811/work\n",
      "anyio @ file:///home/conda/feedstock_root/build_artifacts/anyio_1614388751160/work/dist\n",
      "arboreto==0.1.6\n",
      "argon2-cffi @ file:///home/conda/feedstock_root/build_artifacts/argon2-cffi_1610522574055/work\n",
      "astunparse==1.6.3\n",
      "async-generator==1.10\n",
      "async-timeout==3.0.1\n",
      "attrs @ file:///home/conda/feedstock_root/build_artifacts/attrs_1605083924122/work\n",
      "Babel @ file:///home/conda/feedstock_root/build_artifacts/babel_1605182336601/work\n",
      "backcall @ file:///home/conda/feedstock_root/build_artifacts/backcall_1592338393461/work\n",
      "backports.functools-lru-cache==1.6.1\n",
      "bbknn @ file:///opt/conda/conda-bld/bbknn_1616434096000/work\n",
      "bleach @ file:///home/conda/feedstock_root/build_artifacts/bleach_1612213472466/work\n",
      "blinker==1.4\n",
      "bokeh==2.3.0\n",
      "boltons==20.2.1\n",
      "brent-search==2.0.1\n",
      "brotlipy==0.7.0\n",
      "cached-property @ file:///home/conda/feedstock_root/build_artifacts/cached_property_1615209429212/work\n",
      "cachetools==4.2.1\n",
      "certifi==2020.12.5\n",
      "certipy==0.1.3\n",
      "cffi @ file:///home/conda/feedstock_root/build_artifacts/cffi_1613413861439/work\n",
      "chardet @ file:///home/conda/feedstock_root/build_artifacts/chardet_1610093490430/work\n",
      "click==7.1.2\n",
      "cloudpickle==1.6.0\n",
      "colorama @ file:///home/conda/feedstock_root/build_artifacts/colorama_1602866480661/work\n",
      "commonmark==0.9.1\n",
      "conda==4.9.2\n",
      "conda-package-handling @ file:///home/conda/feedstock_root/build_artifacts/conda-package-handling_1602876795040/work\n",
      "cryptography @ file:///home/conda/feedstock_root/build_artifacts/cryptography_1612993729974/work\n",
      "cycler==0.10.0\n",
      "Cython @ file:///home/conda/feedstock_root/build_artifacts/cython_1613867105642/work\n",
      "cytoolz==0.11.0\n",
      "dask==2021.3.1\n",
      "dataclasses==0.6\n",
      "decorator==4.4.2\n",
      "defusedxml==0.6.0\n",
      "Deprecated==1.2.13\n",
      "dill==0.3.3\n",
      "distributed==2021.3.1\n",
      "dm-tree==0.1.6\n",
      "docutils @ file:///home/conda/feedstock_root/build_artifacts/docutils_1610127755164/work\n",
      "entrypoints @ file:///home/conda/feedstock_root/build_artifacts/entrypoints_1605121927639/work/dist/entrypoints-0.3-py2.py3-none-any.whl\n",
      "et-xmlfile==1.0.1\n",
      "fbpca==1.0\n",
      "flatbuffers==2.0\n",
      "frozendict==1.2\n",
      "fsspec==0.8.7\n",
      "future==0.18.2\n",
      "gast==0.5.3\n",
      "geosketch==1.2\n",
      "get-version==2.1\n",
      "glimix-core==3.1.12\n",
      "google-auth==1.28.0\n",
      "google-auth-oauthlib==0.4.3\n",
      "google-pasta==0.2.0\n",
      "gpflow==2.3.1\n",
      "grpcio==1.36.1\n",
      "h5py @ file:///home/conda/feedstock_root/build_artifacts/h5py_1604753633781/work\n",
      "HeapDict==1.0.1\n",
      "idna @ file:///home/conda/feedstock_root/build_artifacts/idna_1593328102638/work\n",
      "imageio==2.9.0\n",
      "imagesize==1.2.0\n",
      "importlib-metadata @ file:///home/conda/feedstock_root/build_artifacts/importlib-metadata_1614193722981/work\n",
      "iniconfig==1.1.1\n",
      "interlap==0.2.7\n",
      "intervaltree==2.1.0\n",
      "ipykernel @ file:///home/conda/feedstock_root/build_artifacts/ipykernel_1613852938555/work/dist/ipykernel-5.5.0-py3-none-any.whl\n",
      "ipython @ file:///home/conda/feedstock_root/build_artifacts/ipython_1614393573755/work\n",
      "ipython-genutils==0.2.0\n",
      "ipywidgets @ file:///home/conda/feedstock_root/build_artifacts/ipywidgets_1609995587151/work\n",
      "jedi @ file:///home/conda/feedstock_root/build_artifacts/jedi_1610146791023/work\n",
      "Jinja2 @ file:///home/conda/feedstock_root/build_artifacts/jinja2_1612119311452/work\n",
      "joblib @ file:///home/conda/feedstock_root/build_artifacts/joblib_1612898609989/work\n",
      "json5 @ file:///home/conda/feedstock_root/build_artifacts/json5_1600692310011/work\n",
      "jsonschema @ file:///home/conda/feedstock_root/build_artifacts/jsonschema_1602551949684/work\n",
      "jupyter-client @ file:///home/conda/feedstock_root/build_artifacts/jupyter_client_1610375432619/work\n",
      "jupyter-core @ file:///home/conda/feedstock_root/build_artifacts/jupyter_core_1612125275706/work\n",
      "jupyter-packaging @ file:///home/conda/feedstock_root/build_artifacts/jupyter-packaging_1613054948399/work\n",
      "jupyter-resource-usage @ file:///home/conda/feedstock_root/build_artifacts/jupyter-resource-usage_1608550684149/work\n",
      "jupyter-rsession-proxy==1.2\n",
      "jupyter-server @ file:///home/conda/feedstock_root/build_artifacts/jupyter_server_1614028749313/work\n",
      "jupyter-server-proxy==3.0.2\n",
      "jupyter-telemetry @ file:///home/conda/feedstock_root/build_artifacts/jupyter_telemetry_1605173804246/work\n",
      "jupyterhub @ file:///home/conda/feedstock_root/build_artifacts/jupyterhub-feedstock_1614255305026/work\n",
      "jupyterlab @ file:///home/conda/feedstock_root/build_artifacts/jupyterlab_1614041538214/work\n",
      "jupyterlab-pygments @ file:///home/conda/feedstock_root/build_artifacts/jupyterlab_pygments_1601375948261/work\n",
      "jupyterlab-server @ file:///home/conda/feedstock_root/build_artifacts/jupyterlab_server_1613760084674/work\n",
      "jupyterlab-widgets @ file:///home/conda/feedstock_root/build_artifacts/jupyterlab_widgets_1609173350931/work\n",
      "keras==2.8.0\n",
      "Keras-Preprocessing==1.1.2\n",
      "kiwisolver @ file:///home/conda/feedstock_root/build_artifacts/kiwisolver_1610099769230/work\n",
      "legacy-api-wrap==0.0.0\n",
      "leidenalg @ file:///home/conda/feedstock_root/build_artifacts/leidenalg_1605889147051/work\n",
      "libclang==13.0.0\n",
      "liknorm==1.2.6\n",
      "llvmlite==0.34.0\n",
      "locket==0.2.1\n",
      "loompy==3.0.6\n",
      "louvain @ file:///home/conda/feedstock_root/build_artifacts/louvain_1609939902418/work\n",
      "Mako @ file:///home/conda/feedstock_root/build_artifacts/mako_1610659158978/work\n",
      "mamba @ file:///home/conda/feedstock_root/build_artifacts/mamba_1613160772800/work\n",
      "Markdown==3.3.4\n",
      "MarkupSafe @ file:///home/conda/feedstock_root/build_artifacts/markupsafe_1610127565888/work\n",
      "matplotlib @ file:///home/conda/feedstock_root/build_artifacts/matplotlib-suite_1611858708474/work\n",
      "mistune @ file:///home/conda/feedstock_root/build_artifacts/mistune_1610112875388/work\n",
      "mock @ file:///home/conda/feedstock_root/build_artifacts/mock_1610094566888/work\n",
      "mofapy2==0.6.4\n",
      "mofax==0.3.6\n",
      "msgpack==1.0.2\n",
      "mudata==0.1.1\n",
      "multidict==5.1.0\n",
      "multipledispatch==0.6.0\n",
      "multiprocessing-on-dill==3.5.0a4\n",
      "muon==0.1.2\n",
      "natsort @ file:///home/conda/feedstock_root/build_artifacts/natsort_1611580267114/work\n",
      "nbclassic @ file:///home/conda/feedstock_root/build_artifacts/nbclassic_1610352513187/work\n",
      "nbclient @ file:///home/conda/feedstock_root/build_artifacts/nbclient_1614336084111/work\n",
      "nbconvert @ file:///home/conda/feedstock_root/build_artifacts/nbconvert_1605401836768/work\n",
      "nbformat @ file:///home/conda/feedstock_root/build_artifacts/nbformat_1611005694671/work\n",
      "nbresuse==0.3.6\n",
      "ndarray-listener==2.0.1\n",
      "nest-asyncio @ file:///home/conda/feedstock_root/build_artifacts/nest-asyncio_1605195931949/work\n",
      "networkx @ file:///home/conda/feedstock_root/build_artifacts/networkx_1598210780226/work\n",
      "notebook @ file:///home/conda/feedstock_root/build_artifacts/notebook_1610575313697/work\n",
      "numba @ file:///home/conda/feedstock_root/build_artifacts/numba_1599084802945/work\n",
      "numexpr @ file:///home/conda/feedstock_root/build_artifacts/numexpr_1614971340455/work\n",
      "numpy==1.19.2\n",
      "numpy-groupies==0.9.13\n",
      "numpy-sugar==1.5.3\n",
      "oauthlib==3.0.1\n",
      "olefile @ file:///home/conda/feedstock_root/build_artifacts/olefile_1602866521163/work\n",
      "openpyxl==3.0.7\n",
      "opt-einsum==3.3.0\n",
      "optimix==3.0.4\n",
      "packaging @ file:///home/conda/feedstock_root/build_artifacts/packaging_1612459636436/work\n",
      "pamela==1.0.0\n",
      "pandas==1.2.3\n",
      "pandocfilters==1.4.2\n",
      "parasail==1.2.4\n",
      "parso @ file:///home/conda/feedstock_root/build_artifacts/parso_1607618318316/work\n",
      "partd==1.1.0\n",
      "patsy==0.5.1\n",
      "pexpect @ file:///home/conda/feedstock_root/build_artifacts/pexpect_1602535608087/work\n",
      "pickleshare @ file:///home/conda/feedstock_root/build_artifacts/pickleshare_1602536217715/work\n",
      "Pillow @ file:///home/conda/feedstock_root/build_artifacts/pillow_1615243974661/work\n",
      "plotly==4.14.3\n",
      "pluggy==1.0.0\n",
      "prometheus-client @ file:///home/conda/feedstock_root/build_artifacts/prometheus_client_1605543085815/work\n",
      "prompt-toolkit @ file:///home/conda/feedstock_root/build_artifacts/prompt-toolkit_1613068548426/work\n",
      "protobuf==3.15.6\n",
      "psutil @ file:///home/conda/feedstock_root/build_artifacts/psutil_1610127095720/work\n",
      "ptyprocess @ file:///home/conda/feedstock_root/build_artifacts/ptyprocess_1609419310487/work/dist/ptyprocess-0.7.0-py2.py3-none-any.whl\n",
      "py==1.11.0\n",
      "pyarrow==0.16.0\n",
      "pyasn1==0.4.8\n",
      "pyasn1-modules==0.2.8\n",
      "pycairo==1.20.0\n",
      "pycosat @ file:///home/conda/feedstock_root/build_artifacts/pycosat_1610094800877/work\n",
      "pycparser @ file:///home/conda/feedstock_root/build_artifacts/pycparser_1593275161868/work\n",
      "pycurl==7.43.0.6\n",
      "Pygments @ file:///home/conda/feedstock_root/build_artifacts/pygments_1613412098605/work\n",
      "PyJWT @ file:///home/conda/feedstock_root/build_artifacts/pyjwt_1610910308735/work\n",
      "pynndescent @ file:///home/conda/feedstock_root/build_artifacts/pynndescent_1612844832048/work\n",
      "pyOpenSSL @ file:///home/conda/feedstock_root/build_artifacts/pyopenssl_1608055815057/work\n",
      "pyparsing==2.4.7\n",
      "PyQt5==5.12.3\n",
      "PyQt5-sip==4.19.18\n",
      "PyQtChart==5.12\n",
      "PyQtWebEngine==5.12.1\n",
      "pyro-api==0.1.2\n",
      "pyro-ppl==1.6.0\n",
      "pyrsistent @ file:///home/conda/feedstock_root/build_artifacts/pyrsistent_1610146798212/work\n",
      "pysam==0.16.0.1\n",
      "pyscenic==0.11.0\n",
      "PySocks @ file:///home/conda/feedstock_root/build_artifacts/pysocks_1610291447907/work\n",
      "pytest==7.0.1\n",
      "pytest-doctestplus==0.11.2\n",
      "python-dateutil==2.8.1\n",
      "python-editor==1.0.4\n",
      "python-igraph @ file:///home/conda/feedstock_root/build_artifacts/python-igraph_1609945946184/work\n",
      "python-json-logger @ file:///home/conda/feedstock_root/build_artifacts/python-json-logger_1602545356084/work\n",
      "python-Levenshtein==0.12.2\n",
      "pytoml==0.1.21\n",
      "pytorch-lightning==1.2.5\n",
      "pytz @ file:///home/conda/feedstock_root/build_artifacts/pytz_1612179539967/work\n",
      "PyWavelets==1.1.1\n",
      "PyYAML==5.3.1\n",
      "pyzmq @ file:///home/conda/feedstock_root/build_artifacts/pyzmq_1613478739884/work\n",
      "requests @ file:///home/conda/feedstock_root/build_artifacts/requests_1608156231189/work\n",
      "requests-oauthlib==1.3.0\n",
      "retrying==1.3.3\n",
      "rich==10.0.0\n",
      "rpy2==3.4.3\n",
      "rsa==4.7.2\n",
      "ruamel-yaml-conda @ file:///home/conda/feedstock_root/build_artifacts/ruamel_yaml_1611943339799/work\n",
      "ruamel.yaml @ file:///home/conda/feedstock_root/build_artifacts/ruamel.yaml_1610291375472/work\n",
      "ruamel.yaml.clib @ file:///home/conda/feedstock_root/build_artifacts/ruamel.yaml.clib_1610146840614/work\n",
      "scanorama==1.7.1\n",
      "scanpy @ file:///opt/conda/conda-bld/scanpy_1614155786839/work\n",
      "scikit-image==0.18.1\n",
      "scikit-learn @ file:///home/conda/feedstock_root/build_artifacts/scikit-learn_1611079738450/work\n",
      "scipy @ file:///home/conda/feedstock_root/build_artifacts/scipy_1615955928702/work\n",
      "scirpy==0.6.1\n",
      "scrublet==0.2.3\n",
      "scvelo==0.2.3\n",
      "scvi-tools==0.9.1\n",
      "seaborn @ file:///home/conda/feedstock_root/build_artifacts/seaborn-split_1611834504644/work\n",
      "Send2Trash==1.5.0\n",
      "setuptools-scm @ file:///home/conda/feedstock_root/build_artifacts/setuptools_scm_1615996969755/work\n",
      "simpervisor==0.4\n",
      "sinfo @ file:///home/conda/feedstock_root/build_artifacts/sinfo_1597764960136/work\n",
      "six @ file:///home/conda/feedstock_root/build_artifacts/six_1590081179328/work\n",
      "sklearn==0.0\n",
      "sniffio @ file:///home/conda/feedstock_root/build_artifacts/sniffio_1610318319305/work\n",
      "snowballstemmer @ file:///home/conda/feedstock_root/build_artifacts/snowballstemmer_1611270869511/work\n",
      "sortedcontainers==2.3.0\n",
      "Sphinx @ file:///home/conda/feedstock_root/build_artifacts/sphinx_1616256380770/work\n",
      "sphinxcontrib-applehelp==1.0.2\n",
      "sphinxcontrib-devhelp==1.0.2\n",
      "sphinxcontrib-htmlhelp==1.0.3\n",
      "sphinxcontrib-jsmath==1.0.1\n",
      "sphinxcontrib-qthelp==1.0.3\n",
      "sphinxcontrib-serializinghtml==1.1.4\n",
      "SQLAlchemy @ file:///home/conda/feedstock_root/build_artifacts/sqlalchemy_1612225077951/work\n",
      "squarify==0.4.3\n",
      "statsmodels @ file:///home/conda/feedstock_root/build_artifacts/statsmodels_1612273599609/work\n",
      "stdlib-list @ file:///home/conda/feedstock_root/build_artifacts/stdlib-list_1602130019264/work\n",
      "tables @ file:///home/conda/feedstock_root/build_artifacts/pytables_1603317058579/work\n",
      "tabulate==0.8.9\n",
      "tblib==1.7.0\n",
      "tensorboard==2.8.0\n",
      "tensorboard-data-server==0.6.1\n",
      "tensorboard-plugin-wit==1.8.0\n",
      "tensorflow==2.8.0\n",
      "tensorflow-io-gcs-filesystem==0.24.0\n",
      "tensorflow-probability==0.15.0\n",
      "termcolor==1.1.0\n",
      "terminado @ file:///home/conda/feedstock_root/build_artifacts/terminado_1609794172745/work\n",
      "testpath==0.4.4\n",
      "texttable @ file:///home/conda/feedstock_root/build_artifacts/texttable_1599404337529/work\n",
      "tf-estimator-nightly==2.8.0.dev2021122109\n",
      "threadpoolctl @ file:///tmp/tmp79xdzxkt/threadpoolctl-2.1.0-py3-none-any.whl\n",
      "tifffile==2021.3.17\n",
      "toml @ file:///home/conda/feedstock_root/build_artifacts/toml_1604308577558/work\n",
      "tomli==2.0.1\n",
      "toolz==0.11.1\n",
      "torch==1.8.1\n",
      "torchmetrics==0.2.0\n",
      "tornado @ file:///home/conda/feedstock_root/build_artifacts/tornado_1610094706440/work\n",
      "tqdm @ file:///home/conda/feedstock_root/build_artifacts/tqdm_1614279180094/work\n",
      "traitlets @ file:///home/conda/feedstock_root/build_artifacts/traitlets_1602771532708/work\n",
      "typing-extensions==3.7.4.3\n",
      "tzlocal==2.1\n",
      "umap-learn==0.4.6\n",
      "urllib3 @ file:///home/conda/feedstock_root/build_artifacts/urllib3_1611695416663/work\n",
      "velocyto==0.17.17\n",
      "wcwidth @ file:///home/conda/feedstock_root/build_artifacts/wcwidth_1600965781394/work\n",
      "webencodings==0.5.1\n",
      "Werkzeug==1.0.1\n",
      "widgetsnbextension @ file:///home/conda/feedstock_root/build_artifacts/widgetsnbextension_1605475534911/work\n",
      "wrapt==1.13.3\n",
      "yamlordereddictloader==0.4.0\n",
      "yarl==1.6.3\n",
      "zict==2.0.0\n",
      "zipp @ file:///home/conda/feedstock_root/build_artifacts/zipp_1603668650351/work\n"
     ]
    }
   ],
   "source": [
    "%%bash\n",
    "\n",
    "pip freeze"
   ]
  },
  {
   "cell_type": "code",
   "execution_count": 4,
   "id": "varying-egyptian",
   "metadata": {},
   "outputs": [],
   "source": [
    "# did 'pip install rpy2==3.4.2' to avoid errors in R later to do with matrices\n",
    "import rpy2.rinterface_lib.callbacks\n",
    "import logging"
   ]
  },
  {
   "cell_type": "code",
   "execution_count": 5,
   "id": "secret-forwarding",
   "metadata": {},
   "outputs": [],
   "source": [
    "# Ignore R warning messages\n",
    "#Note: this can be commented out to get more verbose R output\n",
    "#rpy2.rinterface_lib.callbacks.logger.setLevel(logging.ERROR)"
   ]
  },
  {
   "cell_type": "code",
   "execution_count": 6,
   "id": "considered-champagne",
   "metadata": {},
   "outputs": [],
   "source": [
    "import anndata2ri # needs 'pip install anndata2ri'\n",
    "anndata2ri.activate()"
   ]
  },
  {
   "cell_type": "code",
   "execution_count": 7,
   "id": "harmful-disney",
   "metadata": {},
   "outputs": [],
   "source": [
    "%load_ext rpy2.ipython"
   ]
  },
  {
   "cell_type": "code",
   "execution_count": null,
   "id": "quiet-private",
   "metadata": {},
   "outputs": [],
   "source": []
  },
  {
   "cell_type": "code",
   "execution_count": 8,
   "id": "united-message",
   "metadata": {},
   "outputs": [
    {
     "name": "stdout",
     "output_type": "stream",
     "text": [
      "[1] \"/home/jovyan/R/x86_64-pc-linux-gnu-library/4.0\"\n",
      "[2] \"/usr/local/lib/R/site-library\"                 \n",
      "[3] \"/usr/lib/R/site-library\"                       \n",
      "[4] \"/usr/lib/R/library\"                            \n"
     ]
    }
   ],
   "source": [
    "%%R\n",
    "\n",
    ".libPaths()"
   ]
  },
  {
   "cell_type": "code",
   "execution_count": 9,
   "id": "tutorial-marriage",
   "metadata": {
    "tags": []
   },
   "outputs": [
    {
     "name": "stdout",
     "output_type": "stream",
     "text": [
      "\n",
      "* sessionInfo()\n",
      "\n",
      "R version 4.0.4 (2021-02-15)\n",
      "Platform: x86_64-pc-linux-gnu (64-bit)\n",
      "Running under: Ubuntu 20.04.1 LTS\n",
      "\n",
      "Matrix products: default\n",
      "BLAS/LAPACK: /opt/conda/lib/libopenblasp-r0.3.12.so\n",
      "\n",
      "locale:\n",
      " [1] LC_CTYPE=en_US.UTF-8       LC_NUMERIC=C              \n",
      " [3] LC_TIME=en_US.UTF-8        LC_COLLATE=en_US.UTF-8    \n",
      " [5] LC_MONETARY=en_US.UTF-8    LC_MESSAGES=en_US.UTF-8   \n",
      " [7] LC_PAPER=en_US.UTF-8       LC_NAME=C                 \n",
      " [9] LC_ADDRESS=C               LC_TELEPHONE=C            \n",
      "[11] LC_MEASUREMENT=en_US.UTF-8 LC_IDENTIFICATION=C       \n",
      "\n",
      "attached base packages:\n",
      "[1] tools     stats     graphics  grDevices utils     datasets  methods  \n",
      "[8] base     \n",
      "\n",
      "loaded via a namespace (and not attached):\n",
      "[1] BiocManager_1.30.10 compiler_4.0.4     \n",
      "\n",
      "Bioconductor version '3.12'\n",
      "\n",
      "  * 240 packages out-of-date\n",
      "  * 5 packages too new\n",
      "\n",
      "create a valid installation with\n",
      "\n",
      "  BiocManager::install(c(\n",
      "    \"ape\", \"backports\", \"batchelor\", \"bbmle\", \"beeswarm\", \"BH\", \"BiocGenerics\",\n",
      "    \"BiocManager\", \"bitops\", \"blob\", \"brew\", \"brio\", \"broom\", \"bslib\",\n",
      "    \"cachem\", \"callr\", \"car\", \"carData\", \"caTools\", \"circlize\", \"cli\",\n",
      "    \"colorspace\", \"conquer\", \"cpp11\", \"crayon\", \"credentials\", \"crosstalk\",\n",
      "    \"curl\", \"data.table\", \"DBI\", \"dbplyr\", \"deldir\", \"DEoptimR\", \"desc\",\n",
      "    \"devtools\", \"diffobj\", \"digest\", \"doParallel\", \"doSNOW\", \"downlit\",\n",
      "    \"dplyr\", \"dqrng\", \"DT\", \"e1071\", \"ellipsis\", \"fansi\", \"fastICA\",\n",
      "    \"fitdistrplus\", \"foghorn\", \"foreach\", \"forecast\", \"formatR\", \"fs\", \"furrr\",\n",
      "    \"future\", \"future.apply\", \"gargle\", \"gdtools\", \"generics\", \"GenomeInfoDb\",\n",
      "    \"GenomicFeatures\", \"gert\", \"ggfortify\", \"ggplot2\", \"gh\", \"glmnet\", \"glue\",\n",
      "    \"gmailr\", \"goftest\", \"gss\", \"gtools\", \"harmony\", \"haven\", \"hdf5r\", \"highr\",\n",
      "    \"Hmisc\", \"hms\", \"htmlTable\", \"htmltools\", \"htmlwidgets\", \"httpuv\",\n",
      "    \"igraph\", \"IRdisplay\", \"IRkernel\", \"irlba\", \"isoband\", \"iterators\", \"jpeg\",\n",
      "    \"jquerylib\", \"jsonlite\", \"KFAS\", \"knitr\", \"laeken\", \"later\", \"leiden\",\n",
      "    \"lifecycle\", \"lme4\", \"lmtest\", \"lubridate\", \"magrittr\", \"manipulateWidget\",\n",
      "    \"mapproj\", \"maps\", \"maptools\", \"matrixStats\", \"memoise\", \"mime\", \"MOFA2\",\n",
      "    \"MSwM\", \"multcomp\", \"mvtnorm\", \"nloptr\", \"openssl\", \"openxlsx\", \"optparse\",\n",
      "    \"parallelly\", \"parsedate\", \"pbapply\", \"pbdZMQ\", \"pcaPP\", \"pillar\",\n",
      "    \"pkgbuild\", \"pkgdown\", \"pkgload\", \"plotly\", \"plotrix\", \"processx\", \"proxy\",\n",
      "    \"quantreg\", \"R.utils\", \"R6\", \"ragg\", \"ranger\", \"raster\", \"rbibutils\",\n",
      "    \"rcmdcheck\", \"Rcpp\", \"RcppAnnoy\", \"RcppArmadillo\", \"RcppGSL\", \"RcppThread\",\n",
      "    \"RCurl\", \"Rdpack\", \"readr\", \"reldist\", \"remotes\", \"repr\", \"reprex\",\n",
      "    \"reticulate\", \"rex\", \"Rfast\", \"Rfast2\", \"rgeos\", \"rgl\", \"rhdf5filters\",\n",
      "    \"RhpcBLASctl\", \"rio\", \"rjson\", \"rlang\", \"rmarkdown\", \"rngtools\",\n",
      "    \"robustbase\", \"roxygen2\", \"rrcov\", \"rsample\", \"RSQLite\", \"rsvd\",\n",
      "    \"rversions\", \"rvest\", \"sandwich\", \"sass\", \"scattermore\", \"scran\",\n",
      "    \"sctransform\", \"segmented\", \"sessioninfo\", \"Seurat\", \"SeuratObject\", \"sf\",\n",
      "    \"shape\", \"shiny\", \"sitmo\", \"slam\", \"slider\", \"sn\", \"snow\", \"softImpute\",\n",
      "    \"sp\", \"spatstat.core\", \"spatstat.data\", \"spatstat.geom\", \"spatstat.sparse\",\n",
      "    \"spatstat.utils\", \"spData\", \"spdep\", \"statmod\", \"stringi\", \"svglite\",\n",
      "    \"systemfonts\", \"testthat\", \"textshaping\", \"TH.data\", \"tibble\", \"tidyr\",\n",
      "    \"tidyselect\", \"tidyverse\", \"tinytex\", \"tseries\", \"TTR\", \"units\", \"usethis\",\n",
      "    \"utf8\", \"uuid\", \"uwot\", \"vars\", \"vcd\", \"vctrs\", \"vdiffr\", \"VGAM\", \"VIM\",\n",
      "    \"viridis\", \"viridisLite\", \"waldo\", \"withr\", \"WriteXLS\", \"xfun\", \"XML\",\n",
      "    \"xml2\", \"yaml\", \"zellkonverter\", \"zip\"\n",
      "  ), update = TRUE, ask = FALSE)\n",
      "\n",
      "more details: BiocManager::valid()$too_new, BiocManager::valid()$out_of_date\n",
      "\n"
     ]
    }
   ],
   "source": [
    "%%R\n",
    "\n",
    "BiocManager::valid()"
   ]
  },
  {
   "cell_type": "raw",
   "id": "important-juvenile",
   "metadata": {
    "jupyter": {
     "outputs_hidden": true
    },
    "tags": []
   },
   "source": [
    "%%R\n",
    "\n",
    "# need to install the latest MOFA2 version\n",
    "\n",
    "devtools::install_github(\"bioFAM/MOFA2\", build_opts = c(\"--no-resave-data --no-build-vignettes\"))"
   ]
  },
  {
   "cell_type": "raw",
   "id": "minimal-nothing",
   "metadata": {
    "jupyter": {
     "outputs_hidden": true
    },
    "tags": []
   },
   "source": [
    "%%R\n",
    "\n",
    "install.packages(\"msigdbr\")"
   ]
  },
  {
   "cell_type": "raw",
   "id": "architectural-annual",
   "metadata": {
    "jupyter": {
     "outputs_hidden": true
    },
    "tags": []
   },
   "source": [
    "%%R\n",
    "\n",
    "BiocManager::install(\"JASPAR2020\") # and updating all the packages - this took a couple of hours.."
   ]
  },
  {
   "cell_type": "raw",
   "id": "center-industry",
   "metadata": {
    "tags": []
   },
   "source": [
    "%%R\n",
    "# older installation - ignore!\n",
    "BiocManager::install(\"MOFA2\") # and updating all the packages - this installs MOFA2 version 1.0.1 which is quite old so instead of this now installing through github"
   ]
  },
  {
   "cell_type": "raw",
   "id": "falling-climate",
   "metadata": {
    "jupyter": {
     "outputs_hidden": true
    },
    "tags": []
   },
   "source": [
    "%%R\n",
    "\n",
    "devtools::install_github(\"cellgeni/sceasy\") # and updating all the packages\n"
   ]
  },
  {
   "cell_type": "raw",
   "id": "confirmed-dallas",
   "metadata": {
    "jupyter": {
     "outputs_hidden": true
    },
    "tags": []
   },
   "source": [
    "%%R\n",
    "\n",
    "install.packages('reticulate')"
   ]
  },
  {
   "cell_type": "code",
   "execution_count": 10,
   "id": "likely-battle",
   "metadata": {
    "tags": []
   },
   "outputs": [
    {
     "name": "stderr",
     "output_type": "stream",
     "text": [
      "R[write to console]: data.table 1.14.2 using 30 threads (see ?getDTthreads).  Latest news: r-datatable.com\n",
      "\n",
      "R[write to console]: Registered S3 method overwritten by 'spatstat.geom':\n",
      "  method     from\n",
      "  print.boxx cli \n",
      "\n",
      "R[write to console]: Attaching SeuratObject\n",
      "\n",
      "R[write to console]: \n",
      "\n",
      "R[write to console]: Loading required package: BSgenome\n",
      "\n",
      "R[write to console]: Loading required package: BiocGenerics\n",
      "\n",
      "R[write to console]: \n",
      "Attaching package: ‘BiocGenerics’\n",
      "\n",
      "\n",
      "R[write to console]: The following objects are masked from ‘package:stats’:\n",
      "\n",
      "    IQR, mad, sd, var, xtabs\n",
      "\n",
      "\n",
      "R[write to console]: The following objects are masked from ‘package:base’:\n",
      "\n",
      "    anyDuplicated, append, as.data.frame, basename, cbind, colnames,\n",
      "    dirname, do.call, duplicated, eval, evalq, Filter, Find, get, grep,\n",
      "    grepl, intersect, is.unsorted, lapply, Map, mapply, match, mget,\n",
      "    order, paste, pmax, pmax.int, pmin, pmin.int, Position, rank,\n",
      "    rbind, Reduce, rownames, sapply, setdiff, sort, table, tapply,\n",
      "    union, unique, unsplit, which.max, which.min\n",
      "\n",
      "\n",
      "R[write to console]: Loading required package: S4Vectors\n",
      "\n",
      "R[write to console]: Loading required package: stats4\n",
      "\n",
      "R[write to console]: \n",
      "Attaching package: ‘S4Vectors’\n",
      "\n",
      "\n",
      "R[write to console]: The following objects are masked from ‘package:data.table’:\n",
      "\n",
      "    first, second\n",
      "\n",
      "\n",
      "R[write to console]: The following object is masked from ‘package:base’:\n",
      "\n",
      "    expand.grid\n",
      "\n",
      "\n",
      "R[write to console]: Loading required package: IRanges\n",
      "\n",
      "R[write to console]: \n",
      "Attaching package: ‘IRanges’\n",
      "\n",
      "\n",
      "R[write to console]: The following object is masked from ‘package:data.table’:\n",
      "\n",
      "    shift\n",
      "\n",
      "\n",
      "R[write to console]: Loading required package: GenomeInfoDb\n",
      "\n",
      "R[write to console]: Loading required package: GenomicRanges\n",
      "\n",
      "R[write to console]: Loading required package: Biostrings\n",
      "\n",
      "R[write to console]: Loading required package: XVector\n",
      "\n",
      "R[write to console]: \n",
      "Attaching package: ‘Biostrings’\n",
      "\n",
      "\n",
      "R[write to console]: The following object is masked from ‘package:base’:\n",
      "\n",
      "    strsplit\n",
      "\n",
      "\n",
      "R[write to console]: Loading required package: rtracklayer\n",
      "\n",
      "R[write to console]: \n",
      "Attaching package: ‘MOFA2’\n",
      "\n",
      "\n",
      "R[write to console]: The following object is masked from ‘package:stats’:\n",
      "\n",
      "    predict\n",
      "\n",
      "\n"
     ]
    }
   ],
   "source": [
    "%%R\n",
    "\n",
    "library(data.table)\n",
    "library(ggplot2)\n",
    "library(Seurat)\n",
    "library(Signac)\n",
    "\n",
    "# for GSEA analysis\n",
    "library(msigdbr)\n",
    "\n",
    "# For motif enrichment analysis\n",
    "library(JASPAR2020)\n",
    "library(TFBSTools)\n",
    "library(BSgenome.Hsapiens.UCSC.hg38)\n",
    "\n",
    "# MOFA\n",
    "library(MOFA2)\n",
    "\n",
    "#library(sceasy)\n",
    "#library(reticulate)\n",
    "#loompy <- reticulate::import('loompy')"
   ]
  },
  {
   "cell_type": "raw",
   "id": "prescribed-probability",
   "metadata": {},
   "source": [
    "%%R\n",
    "\n",
    "library(sceasy) # in the end don't need this"
   ]
  },
  {
   "cell_type": "code",
   "execution_count": 11,
   "id": "loaded-consolidation",
   "metadata": {},
   "outputs": [
    {
     "name": "stderr",
     "output_type": "stream",
     "text": [
      "R[write to console]: Loading required package: SummarizedExperiment\n",
      "\n",
      "R[write to console]: Loading required package: MatrixGenerics\n",
      "\n",
      "R[write to console]: Loading required package: matrixStats\n",
      "\n",
      "R[write to console]: \n",
      "Attaching package: ‘MatrixGenerics’\n",
      "\n",
      "\n",
      "R[write to console]: The following objects are masked from ‘package:matrixStats’:\n",
      "\n",
      "    colAlls, colAnyNAs, colAnys, colAvgsPerRowSet, colCollapse,\n",
      "    colCounts, colCummaxs, colCummins, colCumprods, colCumsums,\n",
      "    colDiffs, colIQRDiffs, colIQRs, colLogSumExps, colMadDiffs,\n",
      "    colMads, colMaxs, colMeans2, colMedians, colMins, colOrderStats,\n",
      "    colProds, colQuantiles, colRanges, colRanks, colSdDiffs, colSds,\n",
      "    colSums2, colTabulates, colVarDiffs, colVars, colWeightedMads,\n",
      "    colWeightedMeans, colWeightedMedians, colWeightedSds,\n",
      "    colWeightedVars, rowAlls, rowAnyNAs, rowAnys, rowAvgsPerColSet,\n",
      "    rowCollapse, rowCounts, rowCummaxs, rowCummins, rowCumprods,\n",
      "    rowCumsums, rowDiffs, rowIQRDiffs, rowIQRs, rowLogSumExps,\n",
      "    rowMadDiffs, rowMads, rowMaxs, rowMeans2, rowMedians, rowMins,\n",
      "    rowOrderStats, rowProds, rowQuantiles, rowRanges, rowRanks,\n",
      "    rowSdDiffs, rowSds, rowSums2, rowTabulates, rowVarDiffs, rowVars,\n",
      "    rowWeightedMads, rowWeightedMeans, rowWeightedMedians,\n",
      "    rowWeightedSds, rowWeightedVars\n",
      "\n",
      "\n",
      "R[write to console]: Loading required package: Biobase\n",
      "\n",
      "R[write to console]: Welcome to Bioconductor\n",
      "\n",
      "    Vignettes contain introductory material; view with\n",
      "    'browseVignettes()'. To cite Bioconductor, see\n",
      "    'citation(\"Biobase\")', and for packages 'citation(\"pkgname\")'.\n",
      "\n",
      "\n",
      "R[write to console]: \n",
      "Attaching package: ‘Biobase’\n",
      "\n",
      "\n",
      "R[write to console]: The following object is masked from ‘package:MatrixGenerics’:\n",
      "\n",
      "    rowMedians\n",
      "\n",
      "\n",
      "R[write to console]: The following objects are masked from ‘package:matrixStats’:\n",
      "\n",
      "    anyMissing, rowMedians\n",
      "\n",
      "\n",
      "R[write to console]: \n",
      "Attaching package: ‘SummarizedExperiment’\n",
      "\n",
      "\n",
      "R[write to console]: The following object is masked from ‘package:SeuratObject’:\n",
      "\n",
      "    Assays\n",
      "\n",
      "\n",
      "R[write to console]: The following object is masked from ‘package:Seurat’:\n",
      "\n",
      "    Assays\n",
      "\n",
      "\n",
      "R[write to console]: ── Attaching packages ─────────────────────────────────────── tidyverse 1.3.0 ──\n",
      "\n",
      "R[write to console]: ✔ tibble  3.1.6     ✔ dplyr   1.0.7\n",
      "✔ tidyr   1.1.4     ✔ stringr 1.4.0\n",
      "✔ readr   2.1.1     ✔ forcats 0.5.1\n",
      "✔ purrr   0.3.4     \n",
      "\n",
      "R[write to console]: ── Conflicts ────────────────────────────────────────── tidyverse_conflicts() ──\n",
      "✖ dplyr::between()         masks data.table::between()\n",
      "✖ dplyr::collapse()        masks Biostrings::collapse(), IRanges::collapse()\n",
      "✖ dplyr::combine()         masks Biobase::combine(), BiocGenerics::combine()\n",
      "✖ purrr::compact()         masks XVector::compact()\n",
      "✖ dplyr::count()           masks matrixStats::count()\n",
      "✖ dplyr::desc()            masks IRanges::desc()\n",
      "✖ tidyr::expand()          masks S4Vectors::expand()\n",
      "✖ dplyr::filter()          masks stats::filter()\n",
      "✖ dplyr::first()           masks S4Vectors::first(), data.table::first()\n",
      "✖ dplyr::lag()             masks stats::lag()\n",
      "✖ dplyr::last()            masks data.table::last()\n",
      "✖ BiocGenerics::Position() masks ggplot2::Position(), base::Position()\n",
      "✖ purrr::reduce()          masks GenomicRanges::reduce(), IRanges::reduce(), Signac::reduce()\n",
      "✖ dplyr::rename()          masks S4Vectors::rename()\n",
      "✖ dplyr::slice()           masks XVector::slice(), IRanges::slice()\n",
      "✖ purrr::transpose()       masks data.table::transpose()\n",
      "\n"
     ]
    }
   ],
   "source": [
    "%%R\n",
    "\n",
    "library(SingleCellExperiment)\n",
    "library(tidyverse)"
   ]
  },
  {
   "cell_type": "code",
   "execution_count": 12,
   "id": "descending-benjamin",
   "metadata": {
    "tags": []
   },
   "outputs": [
    {
     "name": "stdout",
     "output_type": "stream",
     "text": [
      "R version 4.0.4 (2021-02-15)\n",
      "Platform: x86_64-pc-linux-gnu (64-bit)\n",
      "Running under: Ubuntu 20.04.1 LTS\n",
      "\n",
      "Matrix products: default\n",
      "BLAS/LAPACK: /opt/conda/lib/libopenblasp-r0.3.12.so\n",
      "\n",
      "locale:\n",
      " [1] LC_CTYPE=en_US.UTF-8       LC_NUMERIC=C              \n",
      " [3] LC_TIME=en_US.UTF-8        LC_COLLATE=en_US.UTF-8    \n",
      " [5] LC_MONETARY=en_US.UTF-8    LC_MESSAGES=en_US.UTF-8   \n",
      " [7] LC_PAPER=en_US.UTF-8       LC_NAME=C                 \n",
      " [9] LC_ADDRESS=C               LC_TELEPHONE=C            \n",
      "[11] LC_MEASUREMENT=en_US.UTF-8 LC_IDENTIFICATION=C       \n",
      "\n",
      "attached base packages:\n",
      "[1] stats4    tools     stats     graphics  grDevices utils     datasets \n",
      "[8] methods   base     \n",
      "\n",
      "other attached packages:\n",
      " [1] forcats_0.5.1                     stringr_1.4.0                    \n",
      " [3] dplyr_1.0.7                       purrr_0.3.4                      \n",
      " [5] readr_2.1.1                       tidyr_1.1.4                      \n",
      " [7] tibble_3.1.6                      tidyverse_1.3.0                  \n",
      " [9] SingleCellExperiment_1.12.0       SummarizedExperiment_1.20.0      \n",
      "[11] Biobase_2.50.0                    MatrixGenerics_1.2.1             \n",
      "[13] matrixStats_0.61.0                MOFA2_1.3.5                      \n",
      "[15] BSgenome.Hsapiens.UCSC.hg38_1.4.3 BSgenome_1.58.0                  \n",
      "[17] rtracklayer_1.50.0                Biostrings_2.58.0                \n",
      "[19] XVector_0.30.0                    GenomicRanges_1.42.0             \n",
      "[21] GenomeInfoDb_1.31.1               IRanges_2.24.1                   \n",
      "[23] S4Vectors_0.28.1                  BiocGenerics_0.41.2              \n",
      "[25] TFBSTools_1.28.0                  JASPAR2020_0.99.10               \n",
      "[27] msigdbr_7.4.1                     Signac_1.5.0                     \n",
      "[29] SeuratObject_4.0.4                Seurat_4.1.0                     \n",
      "[31] ggplot2_3.3.5                     data.table_1.14.2                \n",
      "\n",
      "loaded via a namespace (and not attached):\n",
      "  [1] utf8_1.2.2                  reticulate_1.24            \n",
      "  [3] R.utils_2.11.0              tidyselect_1.1.1           \n",
      "  [5] poweRlaw_0.70.6             RSQLite_2.2.9              \n",
      "  [7] AnnotationDbi_1.52.0        htmlwidgets_1.5.4          \n",
      "  [9] grid_4.0.4                  docopt_0.7.1               \n",
      " [11] BiocParallel_1.24.1         Rtsne_0.15                 \n",
      " [13] munsell_0.5.0               codetools_0.2-18           \n",
      " [15] ica_1.0-2                   future_1.21.0              \n",
      " [17] miniUI_0.1.1.1              withr_2.4.3                \n",
      " [19] colorspace_2.0-2            filelock_1.0.2             \n",
      " [21] rstudioapi_0.13             ROCR_1.0-11                \n",
      " [23] tensor_1.5                  listenv_0.8.0              \n",
      " [25] slam_0.1-48                 GenomeInfoDbData_1.2.4     \n",
      " [27] polyclip_1.10-0             pheatmap_1.0.12            \n",
      " [29] bit64_4.0.5                 farver_2.1.0               \n",
      " [31] rhdf5_2.34.0                basilisk_1.2.1             \n",
      " [33] parallelly_1.30.0           vctrs_0.3.8                \n",
      " [35] generics_0.1.2              lsa_0.73.2                 \n",
      " [37] ggseqlogo_0.1               R6_2.5.1                   \n",
      " [39] rhdf5filters_1.2.1          bitops_1.0-7               \n",
      " [41] spatstat.utils_2.1-0        cachem_1.0.6               \n",
      " [43] DelayedArray_0.16.3         assertthat_0.2.1           \n",
      " [45] promises_1.2.0.1            scales_1.1.1               \n",
      " [47] gtable_0.3.0                globals_0.14.0             \n",
      " [49] goftest_1.2-2               seqLogo_1.56.0             \n",
      " [51] rlang_1.0.0                 RcppRoll_0.3.0             \n",
      " [53] splines_4.0.4               lazyeval_0.2.2             \n",
      " [55] broom_0.7.5                 spatstat.geom_2.0-1        \n",
      " [57] modelr_0.1.8                BiocManager_1.30.10        \n",
      " [59] reshape2_1.4.4              abind_1.4-5                \n",
      " [61] backports_1.2.1             httpuv_1.6.5               \n",
      " [63] ellipsis_0.3.2              spatstat.core_2.0-0        \n",
      " [65] RColorBrewer_1.1-2          ggridges_0.5.3             \n",
      " [67] Rcpp_1.0.8                  plyr_1.8.6                 \n",
      " [69] zlibbioc_1.36.0             RCurl_1.98-1.5             \n",
      " [71] basilisk.utils_1.2.2        rpart_4.1-15               \n",
      " [73] deldir_0.2-10               pbapply_1.4-3              \n",
      " [75] cowplot_1.1.1               zoo_1.8-9                  \n",
      " [77] haven_2.3.1                 ggrepel_0.9.1              \n",
      " [79] cluster_2.1.1               fs_1.5.2                   \n",
      " [81] magrittr_2.0.2              scattermore_0.7            \n",
      " [83] reprex_1.0.0                lmtest_0.9-38              \n",
      " [85] RANN_2.6.1                  SnowballC_0.7.0            \n",
      " [87] fitdistrplus_1.1-6          hms_1.1.1                  \n",
      " [89] patchwork_1.1.1             mime_0.12                  \n",
      " [91] xtable_1.8-4                XML_3.99-0.8               \n",
      " [93] readxl_1.3.1                sparsesvd_0.2              \n",
      " [95] gridExtra_2.3               compiler_4.0.4             \n",
      " [97] KernSmooth_2.23-18          crayon_1.4.2               \n",
      " [99] R.oo_1.24.0                 htmltools_0.5.2            \n",
      "[101] mgcv_1.8-34                 later_1.3.0                \n",
      "[103] tzdb_0.2.0                  lubridate_1.7.10           \n",
      "[105] DBI_1.1.2                   corrplot_0.92              \n",
      "[107] tweenr_1.0.2                dbplyr_2.1.0               \n",
      "[109] rappdirs_0.3.3              MASS_7.3-53.1              \n",
      "[111] babelgene_21.4              Matrix_1.4-0               \n",
      "[113] cli_3.1.1                   R.methodsS3_1.8.1          \n",
      "[115] parallel_4.0.4              igraph_1.2.8               \n",
      "[117] pkgconfig_2.0.3             GenomicAlignments_1.26.0   \n",
      "[119] TFMPvalue_0.0.8             plotly_4.10.0              \n",
      "[121] spatstat.sparse_2.1-0       xml2_1.3.2                 \n",
      "[123] annotate_1.68.0             DirichletMultinomial_1.32.0\n",
      "[125] rvest_1.0.0                 digest_0.6.29              \n",
      "[127] sctransform_0.3.3           RcppAnnoy_0.0.19           \n",
      "[129] pracma_2.3.6                CNEr_1.26.0                \n",
      "[131] spatstat.data_2.1-2         cellranger_1.1.0           \n",
      "[133] leiden_0.3.9                fastmatch_1.1-3            \n",
      "[135] uwot_0.1.11                 shiny_1.7.1                \n",
      "[137] Rsamtools_2.6.0             gtools_3.9.2               \n",
      "[139] lifecycle_1.0.1             nlme_3.1-152               \n",
      "[141] jsonlite_1.7.3              Rhdf5lib_1.12.1            \n",
      "[143] viridisLite_0.4.0           fansi_1.0.2                \n",
      "[145] pillar_1.6.5                lattice_0.20-41            \n",
      "[147] KEGGREST_1.30.1             fastmap_1.1.0              \n",
      "[149] httr_1.4.2                  survival_3.2-10            \n",
      "[151] GO.db_3.12.1                glue_1.6.1                 \n",
      "[153] qlcMatrix_0.9.7             png_0.1-7                  \n",
      "[155] bit_4.0.4                   HDF5Array_1.18.1           \n",
      "[157] ggforce_0.3.3               stringi_1.7.6              \n",
      "[159] blob_1.2.2                  caTools_1.18.2             \n",
      "[161] memoise_2.0.1               irlba_2.3.5                \n",
      "[163] future.apply_1.7.0         \n"
     ]
    }
   ],
   "source": [
    "%%R\n",
    "\n",
    "sessionInfo()"
   ]
  },
  {
   "cell_type": "raw",
   "id": "ceramic-mouth",
   "metadata": {},
   "source": [
    "%%R \n",
    "\n",
    "# already done\n",
    "\n",
    "writeLines(capture.output(sessionInfo()), \"./sessionInfo_troph_only_multiome_only.txt\")"
   ]
  },
  {
   "cell_type": "code",
   "execution_count": null,
   "id": "further-suggestion",
   "metadata": {},
   "outputs": [],
   "source": []
  },
  {
   "cell_type": "markdown",
   "id": "local-tradition",
   "metadata": {},
   "source": [
    "### Here I am going to recreate interesting parts re factor interpretation from this tutorial: https://raw.githack.com/bioFAM/MOFA2_tutorials/master/R_tutorials/10x_scRNA_scATAC.html"
   ]
  },
  {
   "cell_type": "code",
   "execution_count": 13,
   "id": "smooth-success",
   "metadata": {},
   "outputs": [],
   "source": [
    "# read in muon object with which we trained MOFA/MEFISTO model\n",
    "outdir = '/lustre/scratch117/cellgen/team292/aa22/with_Stijn/202111_snATAC-seq_data_MFI/multiome_ATAC_samples_analysis/trophoblast_only_analysis/downstream_analysis_custom_clust/out_MOFA_analysis/'\n",
    "\n",
    "# 20220209, here atac is only 1 view subsetted to HV features with pseudobulk-based approach ON RAW values and binarised + TF-IDF normalised values are in atac.X view; both RNA and ATAC are scaled (per view)\n",
    "mdata = mu.read(outdir + \"20220209_data4mofa_only_multiome_with_1_atac_view_HV_features_calc_on_raw_and_bin_tfidf_atac_values_all_views_scaled_only_common_barcodes_with_RNA_based_annotations.h5mu\")\n"
   ]
  },
  {
   "cell_type": "code",
   "execution_count": 14,
   "id": "celtic-dietary",
   "metadata": {},
   "outputs": [
    {
     "data": {
      "text/html": [
       "<pre>MuData object with n_obs × n_vars = 1605 × 15565\n",
       "  var:\t&#x27;highly_variable&#x27;\n",
       "  2 modalities\n",
       "    ATAC_all:\t1605 x 10640\n",
       "      obs:\t&#x27;cellatac_code&#x27;, &#x27;sample&#x27;, &#x27;barcode&#x27;, &#x27;donor&#x27;, &#x27;annot_multiome_combined&#x27;, &#x27;n_genes_by_counts&#x27;, &#x27;log1p_n_genes_by_counts&#x27;, &#x27;total_counts&#x27;, &#x27;log1p_total_counts&#x27;, &#x27;pct_counts_in_top_50_genes&#x27;, &#x27;pct_counts_in_top_100_genes&#x27;, &#x27;pct_counts_in_top_200_genes&#x27;, &#x27;pct_counts_in_top_500_genes&#x27;, &#x27;age&#x27;, &#x27;tissue&#x27;, &#x27;technology&#x27;, &#x27;celltype&#x27;\n",
       "      var:\t&#x27;peak_width&#x27;, &#x27;exon&#x27;, &#x27;gene&#x27;, &#x27;promoter&#x27;, &#x27;annotation&#x27;, &#x27;gene_name&#x27;, &#x27;gene_id&#x27;, &#x27;tss_distance&#x27;, &#x27;ENCODE_blacklist&#x27;, &#x27;n_cells_by_counts&#x27;, &#x27;mean_counts&#x27;, &#x27;log1p_mean_counts&#x27;, &#x27;pct_dropout_by_counts&#x27;, &#x27;total_counts&#x27;, &#x27;log1p_total_counts&#x27;, &#x27;contains_primed_enhancers&#x27;, &#x27;contains_active_enhancers&#x27;, &#x27;contains_repressed_enhancers&#x27;, &#x27;highly_variable&#x27;\n",
       "      uns:\t&#x27;age_colors&#x27;, &#x27;annot_multiome_combined_colors&#x27;, &#x27;celltype_colors&#x27;, &#x27;donor_colors&#x27;, &#x27;neighbors&#x27;, &#x27;sample_colors&#x27;, &#x27;technology_colors&#x27;, &#x27;tissue_colors&#x27;, &#x27;umap&#x27;\n",
       "      obsm:\t&#x27;X_cistopic_50&#x27;, &#x27;X_umap&#x27;\n",
       "      varm:\t&#x27;peak2gene&#x27;\n",
       "      layers:\t&#x27;binary_raw&#x27;\n",
       "      obsp:\t&#x27;connectivities&#x27;, &#x27;distances&#x27;\n",
       "    RNA:\t1605 x 4925\n",
       "      obs:\t&#x27;n_genes&#x27;, &#x27;donor&#x27;, &#x27;tissue_block&#x27;, &#x27;age&#x27;, &#x27;sample&#x27;, &#x27;percent_mito&#x27;, &#x27;n_counts&#x27;, &#x27;dataset&#x27;, &#x27;technique&#x27;, &#x27;scrublet_score&#x27;, &#x27;scrublet_cluster_score&#x27;, &#x27;bh_pval&#x27;, &#x27;batch&#x27;, &#x27;is_doublet&#x27;, &#x27;barcode_sample_copy&#x27;, &#x27;barcode&#x27;, &#x27;souporcell_assignment&#x27;, &#x27;inter_ind_doublet&#x27;, &#x27;S_score&#x27;, &#x27;G2M_score&#x27;, &#x27;phase&#x27;, &#x27;annotation_prev&#x27;, &#x27;louvain&#x27;, &#x27;is_doublet_propagate&#x27;, &#x27;origin_M_F&#x27;, &#x27;annotation_prev_or_removed&#x27;, &#x27;inv_troph_labels_initial&#x27;, &#x27;louvain_scvi_n_latent_8&#x27;, &#x27;final_annot_inv_troph&#x27;, &#x27;louvain_scvi_troph_rest&#x27;, &#x27;final_annot_all_troph&#x27;, &#x27;final_annot_inv_troph_corrected&#x27;, &#x27;final_annot_all_troph_corrected&#x27;, &#x27;technology&#x27;, &#x27;celltype&#x27;\n",
       "      var:\t&#x27;gene_ids-0&#x27;, &#x27;feature_types-0&#x27;, &#x27;genome-0&#x27;, &#x27;n_cells-0&#x27;, &#x27;gene_ids-1&#x27;, &#x27;feature_types-1&#x27;, &#x27;genome-1&#x27;, &#x27;n_cells-1&#x27;, &#x27;gene_ids-2&#x27;, &#x27;feature_types-2&#x27;, &#x27;genome-2&#x27;, &#x27;n_cells-2&#x27;, &#x27;gene_ids-3&#x27;, &#x27;feature_types-3&#x27;, &#x27;genome-3&#x27;, &#x27;n_cells-3&#x27;, &#x27;gene_ids-4&#x27;, &#x27;feature_types-4&#x27;, &#x27;genome-4&#x27;, &#x27;n_cells-4&#x27;, &#x27;gene_ids-5&#x27;, &#x27;feature_types-5&#x27;, &#x27;genome-5&#x27;, &#x27;n_cells-5&#x27;, &#x27;gene_ids-6&#x27;, &#x27;feature_types-6&#x27;, &#x27;genome-6&#x27;, &#x27;n_cells-6&#x27;, &#x27;gene_ids-7&#x27;, &#x27;feature_types-7&#x27;, &#x27;genome-7&#x27;, &#x27;n_cells-7&#x27;, &#x27;highly_variable&#x27;, &#x27;means&#x27;, &#x27;dispersions&#x27;, &#x27;dispersions_norm&#x27;, &#x27;mean&#x27;, &#x27;std&#x27;\n",
       "      uns:\t&#x27;celltype_colors&#x27;, &#x27;donor_colors&#x27;, &#x27;final_annot_all_troph_corrected_colors&#x27;, &#x27;hvg&#x27;, &#x27;technology_colors&#x27;\n",
       "      obsm:\t&#x27;X_umap_scVI_n_latent_8_sample&#x27;</pre>"
      ],
      "text/plain": [
       "MuData object with n_obs × n_vars = 1605 × 15565\n",
       "  var:\t'highly_variable'\n",
       "  2 modalities\n",
       "    ATAC_all:\t1605 x 10640\n",
       "      obs:\t'cellatac_code', 'sample', 'barcode', 'donor', 'annot_multiome_combined', 'n_genes_by_counts', 'log1p_n_genes_by_counts', 'total_counts', 'log1p_total_counts', 'pct_counts_in_top_50_genes', 'pct_counts_in_top_100_genes', 'pct_counts_in_top_200_genes', 'pct_counts_in_top_500_genes', 'age', 'tissue', 'technology', 'celltype'\n",
       "      var:\t'peak_width', 'exon', 'gene', 'promoter', 'annotation', 'gene_name', 'gene_id', 'tss_distance', 'ENCODE_blacklist', 'n_cells_by_counts', 'mean_counts', 'log1p_mean_counts', 'pct_dropout_by_counts', 'total_counts', 'log1p_total_counts', 'contains_primed_enhancers', 'contains_active_enhancers', 'contains_repressed_enhancers', 'highly_variable'\n",
       "      uns:\t'age_colors', 'annot_multiome_combined_colors', 'celltype_colors', 'donor_colors', 'neighbors', 'sample_colors', 'technology_colors', 'tissue_colors', 'umap'\n",
       "      obsm:\t'X_cistopic_50', 'X_umap'\n",
       "      varm:\t'peak2gene'\n",
       "      layers:\t'binary_raw'\n",
       "      obsp:\t'connectivities', 'distances'\n",
       "    RNA:\t1605 x 4925\n",
       "      obs:\t'n_genes', 'donor', 'tissue_block', 'age', 'sample', 'percent_mito', 'n_counts', 'dataset', 'technique', 'scrublet_score', 'scrublet_cluster_score', 'bh_pval', 'batch', 'is_doublet', 'barcode_sample_copy', 'barcode', 'souporcell_assignment', 'inter_ind_doublet', 'S_score', 'G2M_score', 'phase', 'annotation_prev', 'louvain', 'is_doublet_propagate', 'origin_M_F', 'annotation_prev_or_removed', 'inv_troph_labels_initial', 'louvain_scvi_n_latent_8', 'final_annot_inv_troph', 'louvain_scvi_troph_rest', 'final_annot_all_troph', 'final_annot_inv_troph_corrected', 'final_annot_all_troph_corrected', 'technology', 'celltype'\n",
       "      var:\t'gene_ids-0', 'feature_types-0', 'genome-0', 'n_cells-0', 'gene_ids-1', 'feature_types-1', 'genome-1', 'n_cells-1', 'gene_ids-2', 'feature_types-2', 'genome-2', 'n_cells-2', 'gene_ids-3', 'feature_types-3', 'genome-3', 'n_cells-3', 'gene_ids-4', 'feature_types-4', 'genome-4', 'n_cells-4', 'gene_ids-5', 'feature_types-5', 'genome-5', 'n_cells-5', 'gene_ids-6', 'feature_types-6', 'genome-6', 'n_cells-6', 'gene_ids-7', 'feature_types-7', 'genome-7', 'n_cells-7', 'highly_variable', 'means', 'dispersions', 'dispersions_norm', 'mean', 'std'\n",
       "      uns:\t'celltype_colors', 'donor_colors', 'final_annot_all_troph_corrected_colors', 'hvg', 'technology_colors'\n",
       "      obsm:\t'X_umap_scVI_n_latent_8_sample'"
      ]
     },
     "execution_count": 14,
     "metadata": {},
     "output_type": "execute_result"
    }
   ],
   "source": [
    "mdata"
   ]
  },
  {
   "cell_type": "code",
   "execution_count": 15,
   "id": "academic-notion",
   "metadata": {},
   "outputs": [
    {
     "data": {
      "text/plain": [
       "AnnData object with n_obs × n_vars = 1605 × 4925\n",
       "    obs: 'n_genes', 'donor', 'tissue_block', 'age', 'sample', 'percent_mito', 'n_counts', 'dataset', 'technique', 'scrublet_score', 'scrublet_cluster_score', 'bh_pval', 'batch', 'is_doublet', 'barcode_sample_copy', 'barcode', 'souporcell_assignment', 'inter_ind_doublet', 'S_score', 'G2M_score', 'phase', 'annotation_prev', 'louvain', 'is_doublet_propagate', 'origin_M_F', 'annotation_prev_or_removed', 'inv_troph_labels_initial', 'louvain_scvi_n_latent_8', 'final_annot_inv_troph', 'louvain_scvi_troph_rest', 'final_annot_all_troph', 'final_annot_inv_troph_corrected', 'final_annot_all_troph_corrected', 'technology', 'celltype'\n",
       "    var: 'gene_ids-0', 'feature_types-0', 'genome-0', 'n_cells-0', 'gene_ids-1', 'feature_types-1', 'genome-1', 'n_cells-1', 'gene_ids-2', 'feature_types-2', 'genome-2', 'n_cells-2', 'gene_ids-3', 'feature_types-3', 'genome-3', 'n_cells-3', 'gene_ids-4', 'feature_types-4', 'genome-4', 'n_cells-4', 'gene_ids-5', 'feature_types-5', 'genome-5', 'n_cells-5', 'gene_ids-6', 'feature_types-6', 'genome-6', 'n_cells-6', 'gene_ids-7', 'feature_types-7', 'genome-7', 'n_cells-7', 'highly_variable', 'means', 'dispersions', 'dispersions_norm', 'mean', 'std'\n",
       "    uns: 'celltype_colors', 'donor_colors', 'final_annot_all_troph_corrected_colors', 'hvg', 'technology_colors'\n",
       "    obsm: 'X_umap_scVI_n_latent_8_sample'"
      ]
     },
     "execution_count": 15,
     "metadata": {},
     "output_type": "execute_result"
    }
   ],
   "source": [
    "RNA_part = mdata['RNA']\n",
    "RNA_part"
   ]
  },
  {
   "cell_type": "code",
   "execution_count": 16,
   "id": "loving-witch",
   "metadata": {},
   "outputs": [
    {
     "data": {
      "text/plain": [
       "array([[-0.29736206, 10.        , -0.43604034, ..., -0.2570238 ,\n",
       "        -0.39097264, -0.32425636],\n",
       "       [-0.29736206, -0.14327154, -0.43604034, ..., -0.2570238 ,\n",
       "        -0.39097264, -0.32425636],\n",
       "       [-0.29736206, -0.14327154, -0.43604034, ..., -0.2570238 ,\n",
       "        -0.39097264, -0.32425636],\n",
       "       ...,\n",
       "       [-0.29736206, -0.14327154, -0.43604034, ..., -0.2570238 ,\n",
       "         2.9086204 , -0.32425636],\n",
       "       [-0.29736206, -0.14327154,  2.5403268 , ..., -0.2570238 ,\n",
       "        -0.39097264, -0.32425636],\n",
       "       [-0.29736206, -0.14327154, -0.43604034, ...,  3.4270782 ,\n",
       "        -0.39097264, -0.32425636]], dtype=float32)"
      ]
     },
     "execution_count": 16,
     "metadata": {},
     "output_type": "execute_result"
    }
   ],
   "source": [
    "RNA_part.X"
   ]
  },
  {
   "cell_type": "code",
   "execution_count": 17,
   "id": "quiet-embassy",
   "metadata": {},
   "outputs": [
    {
     "data": {
      "text/plain": [
       "AnnData object with n_obs × n_vars = 1605 × 10640\n",
       "    obs: 'cellatac_code', 'sample', 'barcode', 'donor', 'annot_multiome_combined', 'n_genes_by_counts', 'log1p_n_genes_by_counts', 'total_counts', 'log1p_total_counts', 'pct_counts_in_top_50_genes', 'pct_counts_in_top_100_genes', 'pct_counts_in_top_200_genes', 'pct_counts_in_top_500_genes', 'age', 'tissue', 'technology', 'celltype'\n",
       "    var: 'peak_width', 'exon', 'gene', 'promoter', 'annotation', 'gene_name', 'gene_id', 'tss_distance', 'ENCODE_blacklist', 'n_cells_by_counts', 'mean_counts', 'log1p_mean_counts', 'pct_dropout_by_counts', 'total_counts', 'log1p_total_counts', 'contains_primed_enhancers', 'contains_active_enhancers', 'contains_repressed_enhancers', 'highly_variable'\n",
       "    uns: 'age_colors', 'annot_multiome_combined_colors', 'celltype_colors', 'donor_colors', 'neighbors', 'sample_colors', 'technology_colors', 'tissue_colors', 'umap'\n",
       "    obsm: 'X_cistopic_50', 'X_umap'\n",
       "    varm: 'peak2gene'\n",
       "    layers: 'binary_raw'\n",
       "    obsp: 'connectivities', 'distances'"
      ]
     },
     "execution_count": 17,
     "metadata": {},
     "output_type": "execute_result"
    }
   ],
   "source": [
    "ATAC_part = mdata['ATAC_all']\n",
    "ATAC_part"
   ]
  },
  {
   "cell_type": "code",
   "execution_count": 18,
   "id": "diagnostic-particular",
   "metadata": {},
   "outputs": [],
   "source": [
    "# to convert this to an RDS file for R, let's use sceasy"
   ]
  },
  {
   "cell_type": "code",
   "execution_count": 19,
   "id": "minus-cinema",
   "metadata": {},
   "outputs": [
    {
     "name": "stdout",
     "output_type": "stream",
     "text": [
      "class: SingleCellExperiment \n",
      "dim: 4925 1605 \n",
      "metadata(5): celltype_colors donor_colors\n",
      "  final_annot_all_troph_corrected_colors hvg technology_colors\n",
      "assays(1): X\n",
      "rownames(4925): A2M A2ML1 ... ZWINT ZYG11A\n",
      "rowData names(38): gene_ids.0 feature_types.0 ... mean std\n",
      "colnames(1605):\n",
      "  TGTGGCTCAAGGGTTG-1_Pla_Camb10714920_and_40110_Pla_Camb10687916\n",
      "  TCAAGGAAGGAACACA-1_Pla_Camb10714919_and_40110_Pla_Camb10687915 ...\n",
      "  TCTGGCTTCCTCCTAA-1_Pla_Camb10714920_and_40110_Pla_Camb10687916\n",
      "  TGGGCCTAGCATGTCG-1_Pla_Camb10714920_and_40110_Pla_Camb10687916\n",
      "colData names(35): n_genes donor ... technology celltype\n",
      "reducedDimNames(1): X_umap_scVI_n_latent_8_sample\n",
      "altExpNames(0):\n"
     ]
    }
   ],
   "source": [
    "%%R -i RNA_part\n",
    "\n",
    "RNA_part"
   ]
  },
  {
   "cell_type": "code",
   "execution_count": 20,
   "id": "scenic-version",
   "metadata": {},
   "outputs": [],
   "source": [
    "RNA_part_obs = RNA_part.obs"
   ]
  },
  {
   "cell_type": "code",
   "execution_count": 21,
   "id": "japanese-messaging",
   "metadata": {},
   "outputs": [
    {
     "data": {
      "text/plain": [
       "array([[-0.29736206, 10.        , -0.43604034, ..., -0.2570238 ,\n",
       "        -0.39097264, -0.32425636],\n",
       "       [-0.29736206, -0.14327154, -0.43604034, ..., -0.2570238 ,\n",
       "        -0.39097264, -0.32425636],\n",
       "       [-0.29736206, -0.14327154, -0.43604034, ..., -0.2570238 ,\n",
       "        -0.39097264, -0.32425636],\n",
       "       ...,\n",
       "       [-0.29736206, -0.14327154, -0.43604034, ..., -0.2570238 ,\n",
       "         2.9086204 , -0.32425636],\n",
       "       [-0.29736206, -0.14327154,  2.5403268 , ..., -0.2570238 ,\n",
       "        -0.39097264, -0.32425636],\n",
       "       [-0.29736206, -0.14327154, -0.43604034, ...,  3.4270782 ,\n",
       "        -0.39097264, -0.32425636]], dtype=float32)"
      ]
     },
     "execution_count": 21,
     "metadata": {},
     "output_type": "execute_result"
    }
   ],
   "source": [
    "RNA_part.X"
   ]
  },
  {
   "cell_type": "code",
   "execution_count": 22,
   "id": "tamil-thread",
   "metadata": {},
   "outputs": [],
   "source": [
    "RNA_part_counts = pd.DataFrame(RNA_part.X, index = RNA_part.obs_names, columns = RNA_part.var_names)\n",
    "RNA_part_counts = RNA_part_counts.T"
   ]
  },
  {
   "cell_type": "code",
   "execution_count": 23,
   "id": "naval-return",
   "metadata": {},
   "outputs": [
    {
     "name": "stdout",
     "output_type": "stream",
     "text": [
      "An object of class Seurat \n",
      "4925 features across 1605 samples within 1 assay \n",
      "Active assay: RNA (4925 features, 0 variable features)\n"
     ]
    }
   ],
   "source": [
    "%%R -i RNA_part_counts -i RNA_part_obs\n",
    "\n",
    "multiome_Seurat <- CreateSeuratObject(\n",
    "    counts = RNA_part_counts,\n",
    "    assay = \"RNA\",\n",
    "    meta.data = RNA_part_obs,\n",
    "  )\n",
    "multiome_Seurat"
   ]
  },
  {
   "cell_type": "code",
   "execution_count": 24,
   "id": "satisfied-greece",
   "metadata": {},
   "outputs": [],
   "source": [
    "ATAC_part_obs = ATAC_part.obs\n",
    "ATAC_part_counts = pd.DataFrame(ATAC_part.X, index = ATAC_part.obs_names, columns = ATAC_part.var_names)\n",
    "ATAC_part_counts = ATAC_part_counts.T"
   ]
  },
  {
   "cell_type": "code",
   "execution_count": 25,
   "id": "likely-alloy",
   "metadata": {},
   "outputs": [
    {
     "name": "stderr",
     "output_type": "stream",
     "text": [
      "R[write to console]: Warning:\n",
      "R[write to console]:  The following arguments are not used: assay, meta.data\n",
      "\n"
     ]
    },
    {
     "name": "stdout",
     "output_type": "stream",
     "text": [
      "Assay data with 10640 features for 1605 cells\n",
      "First 10 features:\n",
      " chr1:999901-1000393, chr1:1019192-1019792, chr1:1073233-1074498,\n",
      "chr1:1079363-1080404, chr1:1115778-1116666, chr1:1122924-1123361,\n",
      "chr1:1125389-1125691, chr1:1128503-1129061, chr1:1231453-1232614,\n",
      "chr1:1281879-1282442 \n"
     ]
    }
   ],
   "source": [
    "%%R -i ATAC_part_counts -i ATAC_part_obs\n",
    "\n",
    "# create a new assay to store ATAC information\n",
    "atac_Seurat <- CreateAssayObject(\n",
    "    counts = ATAC_part_counts,\n",
    "    assay = \"ATAC\",\n",
    "    meta.data = ATAC_part_obs,\n",
    "  )\n",
    "atac_Seurat"
   ]
  },
  {
   "cell_type": "code",
   "execution_count": 26,
   "id": "earned-entity",
   "metadata": {},
   "outputs": [],
   "source": [
    "%%R\n",
    "\n",
    "# add this assay to the previously created Seurat object\n",
    "multiome_Seurat[[\"ATAC\"]] <- atac_Seurat"
   ]
  },
  {
   "cell_type": "code",
   "execution_count": 27,
   "id": "burning-nerve",
   "metadata": {},
   "outputs": [
    {
     "name": "stdout",
     "output_type": "stream",
     "text": [
      "An object of class Seurat \n",
      "15565 features across 1605 samples within 2 assays \n",
      "Active assay: RNA (4925 features, 0 variable features)\n",
      " 1 other assay present: ATAC\n"
     ]
    }
   ],
   "source": [
    "%%R\n",
    "\n",
    "multiome_Seurat"
   ]
  },
  {
   "cell_type": "code",
   "execution_count": 28,
   "id": "broadband-marijuana",
   "metadata": {},
   "outputs": [
    {
     "data": {
      "text/plain": [
       "'/lustre/scratch117/cellgen/team292/aa22/with_Stijn/202111_snATAC-seq_data_MFI/multiome_ATAC_samples_analysis/trophoblast_only_analysis/downstream_analysis_custom_clust/out_MOFA_analysis/'"
      ]
     },
     "execution_count": 28,
     "metadata": {},
     "output_type": "execute_result"
    }
   ],
   "source": [
    "outdir"
   ]
  },
  {
   "cell_type": "code",
   "execution_count": 29,
   "id": "plastic-tampa",
   "metadata": {},
   "outputs": [],
   "source": [
    "%%R -i outdir\n",
    "\n",
    "# save as RDS for future use\n",
    "\n",
    "saveRDS(multiome_Seurat, file = paste0(outdir, \"20220210_data4mofa_only_multiome_with_VCT_with_1_atac_view_and_bin_tfidf_atac_values_all_views_scaled_only_common_barcodes_with_RNA_based_annotations.rds\"))\n"
   ]
  },
  {
   "cell_type": "markdown",
   "id": "mobile-season",
   "metadata": {},
   "source": [
    "## Continue from here"
   ]
  },
  {
   "cell_type": "code",
   "execution_count": 13,
   "id": "loved-pharmacology",
   "metadata": {},
   "outputs": [],
   "source": [
    "outdir = '/lustre/scratch117/cellgen/team292/aa22/with_Stijn/202111_snATAC-seq_data_MFI/multiome_ATAC_samples_analysis/trophoblast_only_analysis/downstream_analysis_custom_clust/out_MOFA_analysis/'\n"
   ]
  },
  {
   "cell_type": "code",
   "execution_count": 14,
   "id": "facial-cursor",
   "metadata": {},
   "outputs": [],
   "source": [
    "%%R -i outdir\n",
    "\n",
    "# read in RDS file\n",
    "\n",
    "multiome_Seurat <- readRDS(file = paste0(outdir, \"20220210_data4mofa_only_multiome_with_VCT_with_1_atac_view_and_bin_tfidf_atac_values_all_views_scaled_only_common_barcodes_with_RNA_based_annotations.rds\"))\n"
   ]
  },
  {
   "cell_type": "code",
   "execution_count": 15,
   "id": "administrative-confusion",
   "metadata": {},
   "outputs": [
    {
     "name": "stdout",
     "output_type": "stream",
     "text": [
      "An object of class Seurat \n",
      "15565 features across 1605 samples within 2 assays \n",
      "Active assay: RNA (4925 features, 0 variable features)\n",
      " 1 other assay present: ATAC\n"
     ]
    }
   ],
   "source": [
    "%%R\n",
    "\n",
    "multiome_Seurat"
   ]
  },
  {
   "cell_type": "code",
   "execution_count": 16,
   "id": "sunrise-harrison",
   "metadata": {
    "tags": []
   },
   "outputs": [
    {
     "name": "stdout",
     "output_type": "stream",
     "text": [
      "                                                                  orig.ident\n",
      "TGTGGCTCAAGGGTTG-1_Pla_Camb10714920_and_40110_Pla_Camb10687916 SeuratProject\n",
      "TCAAGGAAGGAACACA-1_Pla_Camb10714919_and_40110_Pla_Camb10687915 SeuratProject\n",
      "GTCAGGCTCATTACGA-1_Pla_Camb10714919_and_40110_Pla_Camb10687915 SeuratProject\n",
      "TTTGTCTAGTCAGTAC-1_Pla_Camb10714920_and_40110_Pla_Camb10687916 SeuratProject\n",
      "AGTACGCGTTACTTGC-1_Pla_Camb10714919_and_40110_Pla_Camb10687915 SeuratProject\n",
      "TCCGGAATCTTGGACG-1_Pla_Camb10714920_and_40110_Pla_Camb10687916 SeuratProject\n",
      "                                                               nCount_RNA\n",
      "TGTGGCTCAAGGGTTG-1_Pla_Camb10714920_and_40110_Pla_Camb10687916 -473.79759\n",
      "TCAAGGAAGGAACACA-1_Pla_Camb10714919_and_40110_Pla_Camb10687915 -168.24420\n",
      "GTCAGGCTCATTACGA-1_Pla_Camb10714919_and_40110_Pla_Camb10687915  206.02797\n",
      "TTTGTCTAGTCAGTAC-1_Pla_Camb10714920_and_40110_Pla_Camb10687916  309.41027\n",
      "AGTACGCGTTACTTGC-1_Pla_Camb10714919_and_40110_Pla_Camb10687915  107.32436\n",
      "TCCGGAATCTTGGACG-1_Pla_Camb10714920_and_40110_Pla_Camb10687916  -41.36087\n",
      "                                                               nFeature_RNA\n",
      "TGTGGCTCAAGGGTTG-1_Pla_Camb10714920_and_40110_Pla_Camb10687916          466\n",
      "TCAAGGAAGGAACACA-1_Pla_Camb10714919_and_40110_Pla_Camb10687915          698\n",
      "GTCAGGCTCATTACGA-1_Pla_Camb10714919_and_40110_Pla_Camb10687915          838\n",
      "TTTGTCTAGTCAGTAC-1_Pla_Camb10714920_and_40110_Pla_Camb10687916          974\n",
      "AGTACGCGTTACTTGC-1_Pla_Camb10714919_and_40110_Pla_Camb10687915          771\n",
      "TCCGGAATCTTGGACG-1_Pla_Camb10714920_and_40110_Pla_Camb10687916          928\n",
      "                                                               n_genes donor\n",
      "TGTGGCTCAAGGGTTG-1_Pla_Camb10714920_and_40110_Pla_Camb10687916    2285   P13\n",
      "TCAAGGAAGGAACACA-1_Pla_Camb10714919_and_40110_Pla_Camb10687915    3780   P13\n",
      "GTCAGGCTCATTACGA-1_Pla_Camb10714919_and_40110_Pla_Camb10687915    3887   P13\n",
      "TTTGTCTAGTCAGTAC-1_Pla_Camb10714920_and_40110_Pla_Camb10687916    4439   P13\n",
      "AGTACGCGTTACTTGC-1_Pla_Camb10714919_and_40110_Pla_Camb10687915    3302   P13\n",
      "TCCGGAATCTTGGACG-1_Pla_Camb10714920_and_40110_Pla_Camb10687916    5013   P13\n",
      "                                                               tissue_block\n",
      "TGTGGCTCAAGGGTTG-1_Pla_Camb10714920_and_40110_Pla_Camb10687916      unknown\n",
      "TCAAGGAAGGAACACA-1_Pla_Camb10714919_and_40110_Pla_Camb10687915      unknown\n",
      "GTCAGGCTCATTACGA-1_Pla_Camb10714919_and_40110_Pla_Camb10687915      unknown\n",
      "TTTGTCTAGTCAGTAC-1_Pla_Camb10714920_and_40110_Pla_Camb10687916      unknown\n",
      "AGTACGCGTTACTTGC-1_Pla_Camb10714919_and_40110_Pla_Camb10687915      unknown\n",
      "TCCGGAATCTTGGACG-1_Pla_Camb10714920_and_40110_Pla_Camb10687916      unknown\n",
      "                                                                   age\n",
      "TGTGGCTCAAGGGTTG-1_Pla_Camb10714920_and_40110_Pla_Camb10687916 8-9_PCW\n",
      "TCAAGGAAGGAACACA-1_Pla_Camb10714919_and_40110_Pla_Camb10687915 8-9_PCW\n",
      "GTCAGGCTCATTACGA-1_Pla_Camb10714919_and_40110_Pla_Camb10687915 8-9_PCW\n",
      "TTTGTCTAGTCAGTAC-1_Pla_Camb10714920_and_40110_Pla_Camb10687916 8-9_PCW\n",
      "AGTACGCGTTACTTGC-1_Pla_Camb10714919_and_40110_Pla_Camb10687915 8-9_PCW\n",
      "TCCGGAATCTTGGACG-1_Pla_Camb10714920_and_40110_Pla_Camb10687916 8-9_PCW\n",
      "                                                                                                    sample\n",
      "TGTGGCTCAAGGGTTG-1_Pla_Camb10714920_and_40110_Pla_Camb10687916 Pla_Camb10714920_and_40110_Pla_Camb10687916\n",
      "TCAAGGAAGGAACACA-1_Pla_Camb10714919_and_40110_Pla_Camb10687915 Pla_Camb10714919_and_40110_Pla_Camb10687915\n",
      "GTCAGGCTCATTACGA-1_Pla_Camb10714919_and_40110_Pla_Camb10687915 Pla_Camb10714919_and_40110_Pla_Camb10687915\n",
      "TTTGTCTAGTCAGTAC-1_Pla_Camb10714920_and_40110_Pla_Camb10687916 Pla_Camb10714920_and_40110_Pla_Camb10687916\n",
      "AGTACGCGTTACTTGC-1_Pla_Camb10714919_and_40110_Pla_Camb10687915 Pla_Camb10714919_and_40110_Pla_Camb10687915\n",
      "TCCGGAATCTTGGACG-1_Pla_Camb10714920_and_40110_Pla_Camb10687916 Pla_Camb10714920_and_40110_Pla_Camb10687916\n",
      "                                                               percent_mito\n",
      "TGTGGCTCAAGGGTTG-1_Pla_Camb10714920_and_40110_Pla_Camb10687916  0.003243744\n",
      "TCAAGGAAGGAACACA-1_Pla_Camb10714919_and_40110_Pla_Camb10687915  0.017299864\n",
      "GTCAGGCTCATTACGA-1_Pla_Camb10714919_and_40110_Pla_Camb10687915  0.001567071\n",
      "TTTGTCTAGTCAGTAC-1_Pla_Camb10714920_and_40110_Pla_Camb10687916  0.004995421\n",
      "AGTACGCGTTACTTGC-1_Pla_Camb10714919_and_40110_Pla_Camb10687915  0.001191422\n",
      "TCCGGAATCTTGGACG-1_Pla_Camb10714920_and_40110_Pla_Camb10687916  0.006093402\n",
      "                                                               n_counts\n",
      "TGTGGCTCAAGGGTTG-1_Pla_Camb10714920_and_40110_Pla_Camb10687916     4316\n",
      "TCAAGGAAGGAACACA-1_Pla_Camb10714919_and_40110_Pla_Camb10687915     8844\n",
      "GTCAGGCTCATTACGA-1_Pla_Camb10714919_and_40110_Pla_Camb10687915     9572\n",
      "TTTGTCTAGTCAGTAC-1_Pla_Camb10714920_and_40110_Pla_Camb10687916    12011\n",
      "AGTACGCGTTACTTGC-1_Pla_Camb10714919_and_40110_Pla_Camb10687915     7554\n",
      "TCCGGAATCTTGGACG-1_Pla_Camb10714920_and_40110_Pla_Camb10687916    21991\n",
      "                                                                 dataset\n",
      "TGTGGCTCAAGGGTTG-1_Pla_Camb10714920_and_40110_Pla_Camb10687916 snRNA-seq\n",
      "TCAAGGAAGGAACACA-1_Pla_Camb10714919_and_40110_Pla_Camb10687915 snRNA-seq\n",
      "GTCAGGCTCATTACGA-1_Pla_Camb10714919_and_40110_Pla_Camb10687915 snRNA-seq\n",
      "TTTGTCTAGTCAGTAC-1_Pla_Camb10714920_and_40110_Pla_Camb10687916 snRNA-seq\n",
      "AGTACGCGTTACTTGC-1_Pla_Camb10714919_and_40110_Pla_Camb10687915 snRNA-seq\n",
      "TCCGGAATCTTGGACG-1_Pla_Camb10714920_and_40110_Pla_Camb10687916 snRNA-seq\n",
      "                                                               technique\n",
      "TGTGGCTCAAGGGTTG-1_Pla_Camb10714920_and_40110_Pla_Camb10687916       10X\n",
      "TCAAGGAAGGAACACA-1_Pla_Camb10714919_and_40110_Pla_Camb10687915       10X\n",
      "GTCAGGCTCATTACGA-1_Pla_Camb10714919_and_40110_Pla_Camb10687915       10X\n",
      "TTTGTCTAGTCAGTAC-1_Pla_Camb10714920_and_40110_Pla_Camb10687916       10X\n",
      "AGTACGCGTTACTTGC-1_Pla_Camb10714919_and_40110_Pla_Camb10687915       10X\n",
      "TCCGGAATCTTGGACG-1_Pla_Camb10714920_and_40110_Pla_Camb10687916       10X\n",
      "                                                               scrublet_score\n",
      "TGTGGCTCAAGGGTTG-1_Pla_Camb10714920_and_40110_Pla_Camb10687916     0.01369863\n",
      "TCAAGGAAGGAACACA-1_Pla_Camb10714919_and_40110_Pla_Camb10687915     0.25547445\n",
      "GTCAGGCTCATTACGA-1_Pla_Camb10714919_and_40110_Pla_Camb10687915     0.01207464\n",
      "TTTGTCTAGTCAGTAC-1_Pla_Camb10714920_and_40110_Pla_Camb10687916     0.03806735\n",
      "AGTACGCGTTACTTGC-1_Pla_Camb10714919_and_40110_Pla_Camb10687915     0.03963415\n",
      "TCCGGAATCTTGGACG-1_Pla_Camb10714920_and_40110_Pla_Camb10687916     0.04878049\n",
      "                                                               scrublet_cluster_score\n",
      "TGTGGCTCAAGGGTTG-1_Pla_Camb10714920_and_40110_Pla_Camb10687916             0.03629532\n",
      "TCAAGGAAGGAACACA-1_Pla_Camb10714919_and_40110_Pla_Camb10687915             0.07178969\n",
      "GTCAGGCTCATTACGA-1_Pla_Camb10714919_and_40110_Pla_Camb10687915             0.01482326\n",
      "TTTGTCTAGTCAGTAC-1_Pla_Camb10714920_and_40110_Pla_Camb10687916             0.04731355\n",
      "AGTACGCGTTACTTGC-1_Pla_Camb10714919_and_40110_Pla_Camb10687915             0.03595011\n",
      "TCCGGAATCTTGGACG-1_Pla_Camb10714920_and_40110_Pla_Camb10687916             0.04385559\n",
      "                                                                 bh_pval batch\n",
      "TGTGGCTCAAGGGTTG-1_Pla_Camb10714920_and_40110_Pla_Camb10687916 0.9996314     7\n",
      "TCAAGGAAGGAACACA-1_Pla_Camb10714919_and_40110_Pla_Camb10687915 0.9923960     6\n",
      "GTCAGGCTCATTACGA-1_Pla_Camb10714919_and_40110_Pla_Camb10687915 0.9923960     6\n",
      "TTTGTCTAGTCAGTAC-1_Pla_Camb10714920_and_40110_Pla_Camb10687916 0.9996314     7\n",
      "AGTACGCGTTACTTGC-1_Pla_Camb10714919_and_40110_Pla_Camb10687915 0.9923960     6\n",
      "TCCGGAATCTTGGACG-1_Pla_Camb10714920_and_40110_Pla_Camb10687916 0.9996314     7\n",
      "                                                               is_doublet\n",
      "TGTGGCTCAAGGGTTG-1_Pla_Camb10714920_and_40110_Pla_Camb10687916          0\n",
      "TCAAGGAAGGAACACA-1_Pla_Camb10714919_and_40110_Pla_Camb10687915          0\n",
      "GTCAGGCTCATTACGA-1_Pla_Camb10714919_and_40110_Pla_Camb10687915          0\n",
      "TTTGTCTAGTCAGTAC-1_Pla_Camb10714920_and_40110_Pla_Camb10687916          0\n",
      "AGTACGCGTTACTTGC-1_Pla_Camb10714919_and_40110_Pla_Camb10687915          0\n",
      "TCCGGAATCTTGGACG-1_Pla_Camb10714920_and_40110_Pla_Camb10687916          0\n",
      "                                                                                                          barcode_sample_copy\n",
      "TGTGGCTCAAGGGTTG-1_Pla_Camb10714920_and_40110_Pla_Camb10687916 TGTGGCTCAAGGGTTG-1_Pla_Camb10714920_and_40110_Pla_Camb10687916\n",
      "TCAAGGAAGGAACACA-1_Pla_Camb10714919_and_40110_Pla_Camb10687915 TCAAGGAAGGAACACA-1_Pla_Camb10714919_and_40110_Pla_Camb10687915\n",
      "GTCAGGCTCATTACGA-1_Pla_Camb10714919_and_40110_Pla_Camb10687915 GTCAGGCTCATTACGA-1_Pla_Camb10714919_and_40110_Pla_Camb10687915\n",
      "TTTGTCTAGTCAGTAC-1_Pla_Camb10714920_and_40110_Pla_Camb10687916 TTTGTCTAGTCAGTAC-1_Pla_Camb10714920_and_40110_Pla_Camb10687916\n",
      "AGTACGCGTTACTTGC-1_Pla_Camb10714919_and_40110_Pla_Camb10687915 AGTACGCGTTACTTGC-1_Pla_Camb10714919_and_40110_Pla_Camb10687915\n",
      "TCCGGAATCTTGGACG-1_Pla_Camb10714920_and_40110_Pla_Camb10687916 TCCGGAATCTTGGACG-1_Pla_Camb10714920_and_40110_Pla_Camb10687916\n",
      "                                                                                                                      barcode\n",
      "TGTGGCTCAAGGGTTG-1_Pla_Camb10714920_and_40110_Pla_Camb10687916 TGTGGCTCAAGGGTTG-1_Pla_Camb10714920_and_40110_Pla_Camb10687916\n",
      "TCAAGGAAGGAACACA-1_Pla_Camb10714919_and_40110_Pla_Camb10687915 TCAAGGAAGGAACACA-1_Pla_Camb10714919_and_40110_Pla_Camb10687915\n",
      "GTCAGGCTCATTACGA-1_Pla_Camb10714919_and_40110_Pla_Camb10687915 GTCAGGCTCATTACGA-1_Pla_Camb10714919_and_40110_Pla_Camb10687915\n",
      "TTTGTCTAGTCAGTAC-1_Pla_Camb10714920_and_40110_Pla_Camb10687916 TTTGTCTAGTCAGTAC-1_Pla_Camb10714920_and_40110_Pla_Camb10687916\n",
      "AGTACGCGTTACTTGC-1_Pla_Camb10714919_and_40110_Pla_Camb10687915 AGTACGCGTTACTTGC-1_Pla_Camb10714919_and_40110_Pla_Camb10687915\n",
      "TCCGGAATCTTGGACG-1_Pla_Camb10714920_and_40110_Pla_Camb10687916 TCCGGAATCTTGGACG-1_Pla_Camb10714920_and_40110_Pla_Camb10687916\n",
      "                                                                                       souporcell_assignment\n",
      "TGTGGCTCAAGGGTTG-1_Pla_Camb10714920_and_40110_Pla_Camb10687916 Pla_Camb10714920_and_40110_Pla_Camb10687916_1\n",
      "TCAAGGAAGGAACACA-1_Pla_Camb10714919_and_40110_Pla_Camb10687915 Pla_Camb10714919_and_40110_Pla_Camb10687915_0\n",
      "GTCAGGCTCATTACGA-1_Pla_Camb10714919_and_40110_Pla_Camb10687915 Pla_Camb10714919_and_40110_Pla_Camb10687915_0\n",
      "TTTGTCTAGTCAGTAC-1_Pla_Camb10714920_and_40110_Pla_Camb10687916 Pla_Camb10714920_and_40110_Pla_Camb10687916_1\n",
      "AGTACGCGTTACTTGC-1_Pla_Camb10714919_and_40110_Pla_Camb10687915 Pla_Camb10714919_and_40110_Pla_Camb10687915_0\n",
      "TCCGGAATCTTGGACG-1_Pla_Camb10714920_and_40110_Pla_Camb10687916 Pla_Camb10714920_and_40110_Pla_Camb10687916_1\n",
      "                                                               inter_ind_doublet\n",
      "TGTGGCTCAAGGGTTG-1_Pla_Camb10714920_and_40110_Pla_Camb10687916                 0\n",
      "TCAAGGAAGGAACACA-1_Pla_Camb10714919_and_40110_Pla_Camb10687915                 0\n",
      "GTCAGGCTCATTACGA-1_Pla_Camb10714919_and_40110_Pla_Camb10687915                 0\n",
      "TTTGTCTAGTCAGTAC-1_Pla_Camb10714920_and_40110_Pla_Camb10687916                 0\n",
      "AGTACGCGTTACTTGC-1_Pla_Camb10714919_and_40110_Pla_Camb10687915                 0\n",
      "TCCGGAATCTTGGACG-1_Pla_Camb10714920_and_40110_Pla_Camb10687916                 0\n",
      "                                                                   S_score\n",
      "TGTGGCTCAAGGGTTG-1_Pla_Camb10714920_and_40110_Pla_Camb10687916 -0.10302982\n",
      "TCAAGGAAGGAACACA-1_Pla_Camb10714919_and_40110_Pla_Camb10687915 -0.04447502\n",
      "GTCAGGCTCATTACGA-1_Pla_Camb10714919_and_40110_Pla_Camb10687915 -0.08943993\n",
      "TTTGTCTAGTCAGTAC-1_Pla_Camb10714920_and_40110_Pla_Camb10687916  0.52038169\n",
      "AGTACGCGTTACTTGC-1_Pla_Camb10714919_and_40110_Pla_Camb10687915  0.29520759\n",
      "TCCGGAATCTTGGACG-1_Pla_Camb10714920_and_40110_Pla_Camb10687916 -0.06948107\n",
      "                                                                 G2M_score\n",
      "TGTGGCTCAAGGGTTG-1_Pla_Camb10714920_and_40110_Pla_Camb10687916 -0.01159920\n",
      "TCAAGGAAGGAACACA-1_Pla_Camb10714919_and_40110_Pla_Camb10687915 -0.06958938\n",
      "GTCAGGCTCATTACGA-1_Pla_Camb10714919_and_40110_Pla_Camb10687915 -0.07836571\n",
      "TTTGTCTAGTCAGTAC-1_Pla_Camb10714920_and_40110_Pla_Camb10687916  0.01139423\n",
      "AGTACGCGTTACTTGC-1_Pla_Camb10714919_and_40110_Pla_Camb10687915  0.66292274\n",
      "TCCGGAATCTTGGACG-1_Pla_Camb10714920_and_40110_Pla_Camb10687916 -0.13489796\n",
      "                                                               phase\n",
      "TGTGGCTCAAGGGTTG-1_Pla_Camb10714920_and_40110_Pla_Camb10687916    G1\n",
      "TCAAGGAAGGAACACA-1_Pla_Camb10714919_and_40110_Pla_Camb10687915    G1\n",
      "GTCAGGCTCATTACGA-1_Pla_Camb10714919_and_40110_Pla_Camb10687915    G1\n",
      "TTTGTCTAGTCAGTAC-1_Pla_Camb10714920_and_40110_Pla_Camb10687916     S\n",
      "AGTACGCGTTACTTGC-1_Pla_Camb10714919_and_40110_Pla_Camb10687915   G2M\n",
      "TCCGGAATCTTGGACG-1_Pla_Camb10714920_and_40110_Pla_Camb10687916    G1\n",
      "                                                               annotation_prev\n",
      "TGTGGCTCAAGGGTTG-1_Pla_Camb10714920_and_40110_Pla_Camb10687916          0_none\n",
      "TCAAGGAAGGAACACA-1_Pla_Camb10714919_and_40110_Pla_Camb10687915          0_none\n",
      "GTCAGGCTCATTACGA-1_Pla_Camb10714919_and_40110_Pla_Camb10687915          0_none\n",
      "TTTGTCTAGTCAGTAC-1_Pla_Camb10714920_and_40110_Pla_Camb10687916          0_none\n",
      "AGTACGCGTTACTTGC-1_Pla_Camb10714919_and_40110_Pla_Camb10687915          0_none\n",
      "TCCGGAATCTTGGACG-1_Pla_Camb10714920_and_40110_Pla_Camb10687916          0_none\n",
      "                                                               louvain\n",
      "TGTGGCTCAAGGGTTG-1_Pla_Camb10714920_and_40110_Pla_Camb10687916      21\n",
      "TCAAGGAAGGAACACA-1_Pla_Camb10714919_and_40110_Pla_Camb10687915      23\n",
      "GTCAGGCTCATTACGA-1_Pla_Camb10714919_and_40110_Pla_Camb10687915      21\n",
      "TTTGTCTAGTCAGTAC-1_Pla_Camb10714920_and_40110_Pla_Camb10687916      21\n",
      "AGTACGCGTTACTTGC-1_Pla_Camb10714919_and_40110_Pla_Camb10687915      15\n",
      "TCCGGAATCTTGGACG-1_Pla_Camb10714920_and_40110_Pla_Camb10687916       4\n",
      "                                                               is_doublet_propagate\n",
      "TGTGGCTCAAGGGTTG-1_Pla_Camb10714920_and_40110_Pla_Camb10687916                    0\n",
      "TCAAGGAAGGAACACA-1_Pla_Camb10714919_and_40110_Pla_Camb10687915                    0\n",
      "GTCAGGCTCATTACGA-1_Pla_Camb10714919_and_40110_Pla_Camb10687915                    0\n",
      "TTTGTCTAGTCAGTAC-1_Pla_Camb10714920_and_40110_Pla_Camb10687916                    0\n",
      "AGTACGCGTTACTTGC-1_Pla_Camb10714919_and_40110_Pla_Camb10687915                    0\n",
      "TCCGGAATCTTGGACG-1_Pla_Camb10714920_and_40110_Pla_Camb10687916                    0\n",
      "                                                               origin_M_F\n",
      "TGTGGCTCAAGGGTTG-1_Pla_Camb10714920_and_40110_Pla_Camb10687916          F\n",
      "TCAAGGAAGGAACACA-1_Pla_Camb10714919_and_40110_Pla_Camb10687915          F\n",
      "GTCAGGCTCATTACGA-1_Pla_Camb10714919_and_40110_Pla_Camb10687915          F\n",
      "TTTGTCTAGTCAGTAC-1_Pla_Camb10714920_and_40110_Pla_Camb10687916          F\n",
      "AGTACGCGTTACTTGC-1_Pla_Camb10714919_and_40110_Pla_Camb10687915          F\n",
      "TCCGGAATCTTGGACG-1_Pla_Camb10714920_and_40110_Pla_Camb10687916          F\n",
      "                                                               annotation_prev_or_removed\n",
      "TGTGGCTCAAGGGTTG-1_Pla_Camb10714920_and_40110_Pla_Camb10687916                     0_none\n",
      "TCAAGGAAGGAACACA-1_Pla_Camb10714919_and_40110_Pla_Camb10687915                     0_none\n",
      "GTCAGGCTCATTACGA-1_Pla_Camb10714919_and_40110_Pla_Camb10687915                     0_none\n",
      "TTTGTCTAGTCAGTAC-1_Pla_Camb10714920_and_40110_Pla_Camb10687916                     0_none\n",
      "AGTACGCGTTACTTGC-1_Pla_Camb10714919_and_40110_Pla_Camb10687915                     0_none\n",
      "TCCGGAATCTTGGACG-1_Pla_Camb10714920_and_40110_Pla_Camb10687916                     0_none\n",
      "                                                               inv_troph_labels_initial\n",
      "TGTGGCTCAAGGGTTG-1_Pla_Camb10714920_and_40110_Pla_Camb10687916                   others\n",
      "TCAAGGAAGGAACACA-1_Pla_Camb10714919_and_40110_Pla_Camb10687915                inv_troph\n",
      "GTCAGGCTCATTACGA-1_Pla_Camb10714919_and_40110_Pla_Camb10687915                   others\n",
      "TTTGTCTAGTCAGTAC-1_Pla_Camb10714920_and_40110_Pla_Camb10687916                   others\n",
      "AGTACGCGTTACTTGC-1_Pla_Camb10714919_and_40110_Pla_Camb10687915                   others\n",
      "TCCGGAATCTTGGACG-1_Pla_Camb10714920_and_40110_Pla_Camb10687916                inv_troph\n",
      "                                                               louvain_scvi_n_latent_8\n",
      "TGTGGCTCAAGGGTTG-1_Pla_Camb10714920_and_40110_Pla_Camb10687916                       7\n",
      "TCAAGGAAGGAACACA-1_Pla_Camb10714919_and_40110_Pla_Camb10687915                       9\n",
      "GTCAGGCTCATTACGA-1_Pla_Camb10714919_and_40110_Pla_Camb10687915                       2\n",
      "TTTGTCTAGTCAGTAC-1_Pla_Camb10714920_and_40110_Pla_Camb10687916                      10\n",
      "AGTACGCGTTACTTGC-1_Pla_Camb10714919_and_40110_Pla_Camb10687915                      10\n",
      "TCCGGAATCTTGGACG-1_Pla_Camb10714920_and_40110_Pla_Camb10687916                      12\n",
      "                                                               final_annot_inv_troph\n",
      "TGTGGCTCAAGGGTTG-1_Pla_Camb10714920_and_40110_Pla_Camb10687916            troph_rest\n",
      "TCAAGGAAGGAACACA-1_Pla_Camb10714919_and_40110_Pla_Camb10687915                 EVT_2\n",
      "GTCAGGCTCATTACGA-1_Pla_Camb10714919_and_40110_Pla_Camb10687915            troph_rest\n",
      "TTTGTCTAGTCAGTAC-1_Pla_Camb10714920_and_40110_Pla_Camb10687916            troph_rest\n",
      "AGTACGCGTTACTTGC-1_Pla_Camb10714919_and_40110_Pla_Camb10687915            troph_rest\n",
      "TCCGGAATCTTGGACG-1_Pla_Camb10714920_and_40110_Pla_Camb10687916                 EVT_2\n",
      "                                                               louvain_scvi_troph_rest\n",
      "TGTGGCTCAAGGGTTG-1_Pla_Camb10714920_and_40110_Pla_Camb10687916            troph_rest,1\n",
      "TCAAGGAAGGAACACA-1_Pla_Camb10714919_and_40110_Pla_Camb10687915                   EVT_2\n",
      "GTCAGGCTCATTACGA-1_Pla_Camb10714919_and_40110_Pla_Camb10687915            troph_rest,1\n",
      "TTTGTCTAGTCAGTAC-1_Pla_Camb10714920_and_40110_Pla_Camb10687916            troph_rest,2\n",
      "AGTACGCGTTACTTGC-1_Pla_Camb10714919_and_40110_Pla_Camb10687915            troph_rest,2\n",
      "TCCGGAATCTTGGACG-1_Pla_Camb10714920_and_40110_Pla_Camb10687916                   EVT_2\n",
      "                                                               final_annot_all_troph\n",
      "TGTGGCTCAAGGGTTG-1_Pla_Camb10714920_and_40110_Pla_Camb10687916                   VCT\n",
      "TCAAGGAAGGAACACA-1_Pla_Camb10714919_and_40110_Pla_Camb10687915                 EVT_2\n",
      "GTCAGGCTCATTACGA-1_Pla_Camb10714919_and_40110_Pla_Camb10687915                   VCT\n",
      "TTTGTCTAGTCAGTAC-1_Pla_Camb10714920_and_40110_Pla_Camb10687916                 VCT_p\n",
      "AGTACGCGTTACTTGC-1_Pla_Camb10714919_and_40110_Pla_Camb10687915                 VCT_p\n",
      "TCCGGAATCTTGGACG-1_Pla_Camb10714920_and_40110_Pla_Camb10687916                 EVT_2\n",
      "                                                               final_annot_inv_troph_corrected\n",
      "TGTGGCTCAAGGGTTG-1_Pla_Camb10714920_and_40110_Pla_Camb10687916                      troph_rest\n",
      "TCAAGGAAGGAACACA-1_Pla_Camb10714919_and_40110_Pla_Camb10687915                           EVT_2\n",
      "GTCAGGCTCATTACGA-1_Pla_Camb10714919_and_40110_Pla_Camb10687915                      troph_rest\n",
      "TTTGTCTAGTCAGTAC-1_Pla_Camb10714920_and_40110_Pla_Camb10687916                      troph_rest\n",
      "AGTACGCGTTACTTGC-1_Pla_Camb10714919_and_40110_Pla_Camb10687915                      troph_rest\n",
      "TCCGGAATCTTGGACG-1_Pla_Camb10714920_and_40110_Pla_Camb10687916                           EVT_2\n",
      "                                                               final_annot_all_troph_corrected\n",
      "TGTGGCTCAAGGGTTG-1_Pla_Camb10714920_and_40110_Pla_Camb10687916                             VCT\n",
      "TCAAGGAAGGAACACA-1_Pla_Camb10714919_and_40110_Pla_Camb10687915                           EVT_2\n",
      "GTCAGGCTCATTACGA-1_Pla_Camb10714919_and_40110_Pla_Camb10687915                             VCT\n",
      "TTTGTCTAGTCAGTAC-1_Pla_Camb10714920_and_40110_Pla_Camb10687916                           VCT_p\n",
      "AGTACGCGTTACTTGC-1_Pla_Camb10714919_and_40110_Pla_Camb10687915                           VCT_p\n",
      "TCCGGAATCTTGGACG-1_Pla_Camb10714920_and_40110_Pla_Camb10687916                           EVT_2\n",
      "                                                                 technology\n",
      "TGTGGCTCAAGGGTTG-1_Pla_Camb10714920_and_40110_Pla_Camb10687916 10X_multiome\n",
      "TCAAGGAAGGAACACA-1_Pla_Camb10714919_and_40110_Pla_Camb10687915 10X_multiome\n",
      "GTCAGGCTCATTACGA-1_Pla_Camb10714919_and_40110_Pla_Camb10687915 10X_multiome\n",
      "TTTGTCTAGTCAGTAC-1_Pla_Camb10714920_and_40110_Pla_Camb10687916 10X_multiome\n",
      "AGTACGCGTTACTTGC-1_Pla_Camb10714919_and_40110_Pla_Camb10687915 10X_multiome\n",
      "TCCGGAATCTTGGACG-1_Pla_Camb10714920_and_40110_Pla_Camb10687916 10X_multiome\n",
      "                                                               celltype\n",
      "TGTGGCTCAAGGGTTG-1_Pla_Camb10714920_and_40110_Pla_Camb10687916      VCT\n",
      "TCAAGGAAGGAACACA-1_Pla_Camb10714919_and_40110_Pla_Camb10687915    EVT_2\n",
      "GTCAGGCTCATTACGA-1_Pla_Camb10714919_and_40110_Pla_Camb10687915      VCT\n",
      "TTTGTCTAGTCAGTAC-1_Pla_Camb10714920_and_40110_Pla_Camb10687916      VCT\n",
      "AGTACGCGTTACTTGC-1_Pla_Camb10714919_and_40110_Pla_Camb10687915      VCT\n",
      "TCCGGAATCTTGGACG-1_Pla_Camb10714920_and_40110_Pla_Camb10687916    EVT_2\n",
      "                                                               nCount_ATAC\n",
      "TGTGGCTCAAGGGTTG-1_Pla_Camb10714920_and_40110_Pla_Camb10687916    1542.497\n",
      "TCAAGGAAGGAACACA-1_Pla_Camb10714919_and_40110_Pla_Camb10687915    4258.645\n",
      "GTCAGGCTCATTACGA-1_Pla_Camb10714919_and_40110_Pla_Camb10687915    2394.634\n",
      "TTTGTCTAGTCAGTAC-1_Pla_Camb10714920_and_40110_Pla_Camb10687916    3644.358\n",
      "AGTACGCGTTACTTGC-1_Pla_Camb10714919_and_40110_Pla_Camb10687915    1988.248\n",
      "TCCGGAATCTTGGACG-1_Pla_Camb10714920_and_40110_Pla_Camb10687916    5072.407\n",
      "                                                               nFeature_ATAC\n",
      "TGTGGCTCAAGGGTTG-1_Pla_Camb10714920_and_40110_Pla_Camb10687916           183\n",
      "TCAAGGAAGGAACACA-1_Pla_Camb10714919_and_40110_Pla_Camb10687915           813\n",
      "GTCAGGCTCATTACGA-1_Pla_Camb10714919_and_40110_Pla_Camb10687915           338\n",
      "TTTGTCTAGTCAGTAC-1_Pla_Camb10714920_and_40110_Pla_Camb10687916           700\n",
      "AGTACGCGTTACTTGC-1_Pla_Camb10714919_and_40110_Pla_Camb10687915           246\n",
      "TCCGGAATCTTGGACG-1_Pla_Camb10714920_and_40110_Pla_Camb10687916          1166\n"
     ]
    }
   ],
   "source": [
    "%%R\n",
    "\n",
    "head(multiome_Seurat@meta.data) # annotation in 'celltype'"
   ]
  },
  {
   "cell_type": "code",
   "execution_count": 17,
   "id": "expensive-locator",
   "metadata": {},
   "outputs": [],
   "source": [
    "%%R\n",
    "\n",
    "#Collect a list of position-specific weight matrices (PWM) from the JASPAR database, we’ll use this in the downstream analysis.\n",
    "\n",
    "pfm <- getMatrixSet(JASPAR2020,\n",
    "  opts = list(species = \"Homo sapiens\")\n",
    ")"
   ]
  },
  {
   "cell_type": "code",
   "execution_count": null,
   "id": "everyday-peter",
   "metadata": {},
   "outputs": [],
   "source": []
  },
  {
   "cell_type": "code",
   "execution_count": 18,
   "id": "motivated-happening",
   "metadata": {},
   "outputs": [],
   "source": [
    "# read in muon object with which we trained MOFA/MEFISTO model\n",
    "outdir = '/lustre/scratch117/cellgen/team292/aa22/with_Stijn/202111_snATAC-seq_data_MFI/multiome_ATAC_samples_analysis/trophoblast_only_analysis/downstream_analysis_custom_clust/out_MOFA_analysis/'\n",
    "\n",
    "# 20220119, here atac is only 1 view subsetted to HV features with pseudobulk-based approach and binarised + TF-IDF normalised values are in atac.X views with no normalisation; both RNA and ATAC are scaled (per view)\n",
    "mdata = mu.read(outdir + \"20220209_data4mofa_only_multiome_with_1_atac_view_HV_features_calc_on_raw_and_bin_tfidf_atac_values_all_views_scaled_only_common_barcodes_with_RNA_based_annotations.h5mu\")\n"
   ]
  },
  {
   "cell_type": "code",
   "execution_count": 19,
   "id": "revised-reservoir",
   "metadata": {},
   "outputs": [
    {
     "data": {
      "text/html": [
       "<div>\n",
       "<style scoped>\n",
       "    .dataframe tbody tr th:only-of-type {\n",
       "        vertical-align: middle;\n",
       "    }\n",
       "\n",
       "    .dataframe tbody tr th {\n",
       "        vertical-align: top;\n",
       "    }\n",
       "\n",
       "    .dataframe thead th {\n",
       "        text-align: right;\n",
       "    }\n",
       "</style>\n",
       "<table border=\"1\" class=\"dataframe\">\n",
       "  <thead>\n",
       "    <tr style=\"text-align: right;\">\n",
       "      <th></th>\n",
       "      <th>peak_width</th>\n",
       "      <th>exon</th>\n",
       "      <th>gene</th>\n",
       "      <th>promoter</th>\n",
       "      <th>annotation</th>\n",
       "      <th>gene_name</th>\n",
       "      <th>gene_id</th>\n",
       "      <th>tss_distance</th>\n",
       "      <th>ENCODE_blacklist</th>\n",
       "      <th>n_cells_by_counts</th>\n",
       "      <th>...</th>\n",
       "      <th>log1p_mean_counts</th>\n",
       "      <th>pct_dropout_by_counts</th>\n",
       "      <th>total_counts</th>\n",
       "      <th>log1p_total_counts</th>\n",
       "      <th>contains_primed_enhancers</th>\n",
       "      <th>contains_active_enhancers</th>\n",
       "      <th>contains_repressed_enhancers</th>\n",
       "      <th>highly_variable</th>\n",
       "      <th>mean</th>\n",
       "      <th>std</th>\n",
       "    </tr>\n",
       "    <tr>\n",
       "      <th>peak_id</th>\n",
       "      <th></th>\n",
       "      <th></th>\n",
       "      <th></th>\n",
       "      <th></th>\n",
       "      <th></th>\n",
       "      <th></th>\n",
       "      <th></th>\n",
       "      <th></th>\n",
       "      <th></th>\n",
       "      <th></th>\n",
       "      <th></th>\n",
       "      <th></th>\n",
       "      <th></th>\n",
       "      <th></th>\n",
       "      <th></th>\n",
       "      <th></th>\n",
       "      <th></th>\n",
       "      <th></th>\n",
       "      <th></th>\n",
       "      <th></th>\n",
       "      <th></th>\n",
       "    </tr>\n",
       "  </thead>\n",
       "  <tbody>\n",
       "    <tr>\n",
       "      <th>chr1:999901-1000393</th>\n",
       "      <td>493</td>\n",
       "      <td>1</td>\n",
       "      <td>1</td>\n",
       "      <td>1</td>\n",
       "      <td>exon</td>\n",
       "      <td>ISG15</td>\n",
       "      <td>ENSG00000187608</td>\n",
       "      <td>0</td>\n",
       "      <td>0</td>\n",
       "      <td>246</td>\n",
       "      <td>...</td>\n",
       "      <td>0.032354</td>\n",
       "      <td>96.711670</td>\n",
       "      <td>246.0</td>\n",
       "      <td>5.509388</td>\n",
       "      <td>0</td>\n",
       "      <td>0</td>\n",
       "      <td>0</td>\n",
       "      <td>True</td>\n",
       "      <td>0.289558</td>\n",
       "      <td>1.293578</td>\n",
       "    </tr>\n",
       "    <tr>\n",
       "      <th>chr1:1019192-1019792</th>\n",
       "      <td>601</td>\n",
       "      <td>0</td>\n",
       "      <td>0</td>\n",
       "      <td>1</td>\n",
       "      <td>promoter</td>\n",
       "      <td>AGRN</td>\n",
       "      <td>ENSG00000188157</td>\n",
       "      <td>330</td>\n",
       "      <td>0</td>\n",
       "      <td>300</td>\n",
       "      <td>...</td>\n",
       "      <td>0.039318</td>\n",
       "      <td>95.989841</td>\n",
       "      <td>300.0</td>\n",
       "      <td>5.707110</td>\n",
       "      <td>1</td>\n",
       "      <td>0</td>\n",
       "      <td>1</td>\n",
       "      <td>True</td>\n",
       "      <td>0.370739</td>\n",
       "      <td>1.364634</td>\n",
       "    </tr>\n",
       "    <tr>\n",
       "      <th>chr1:1073233-1074498</th>\n",
       "      <td>1266</td>\n",
       "      <td>1</td>\n",
       "      <td>1</td>\n",
       "      <td>1</td>\n",
       "      <td>exon</td>\n",
       "      <td>RNF223</td>\n",
       "      <td>ENSG00000237330</td>\n",
       "      <td>0</td>\n",
       "      <td>0</td>\n",
       "      <td>692</td>\n",
       "      <td>...</td>\n",
       "      <td>0.088470</td>\n",
       "      <td>90.749900</td>\n",
       "      <td>692.0</td>\n",
       "      <td>6.541030</td>\n",
       "      <td>0</td>\n",
       "      <td>1</td>\n",
       "      <td>0</td>\n",
       "      <td>True</td>\n",
       "      <td>0.401673</td>\n",
       "      <td>1.315951</td>\n",
       "    </tr>\n",
       "    <tr>\n",
       "      <th>chr1:1079363-1080404</th>\n",
       "      <td>1042</td>\n",
       "      <td>0</td>\n",
       "      <td>0</td>\n",
       "      <td>0</td>\n",
       "      <td>intergenic</td>\n",
       "      <td>nan</td>\n",
       "      <td>nan</td>\n",
       "      <td>3667</td>\n",
       "      <td>0</td>\n",
       "      <td>537</td>\n",
       "      <td>...</td>\n",
       "      <td>0.069323</td>\n",
       "      <td>92.821815</td>\n",
       "      <td>537.0</td>\n",
       "      <td>6.287858</td>\n",
       "      <td>0</td>\n",
       "      <td>1</td>\n",
       "      <td>0</td>\n",
       "      <td>True</td>\n",
       "      <td>0.379248</td>\n",
       "      <td>1.281137</td>\n",
       "    </tr>\n",
       "    <tr>\n",
       "      <th>chr1:1115778-1116666</th>\n",
       "      <td>889</td>\n",
       "      <td>1</td>\n",
       "      <td>1</td>\n",
       "      <td>1</td>\n",
       "      <td>exon</td>\n",
       "      <td>C1orf159</td>\n",
       "      <td>ENSG00000131591</td>\n",
       "      <td>0</td>\n",
       "      <td>0</td>\n",
       "      <td>481</td>\n",
       "      <td>...</td>\n",
       "      <td>0.062314</td>\n",
       "      <td>93.570378</td>\n",
       "      <td>481.0</td>\n",
       "      <td>6.177944</td>\n",
       "      <td>0</td>\n",
       "      <td>0</td>\n",
       "      <td>1</td>\n",
       "      <td>True</td>\n",
       "      <td>0.393738</td>\n",
       "      <td>1.367118</td>\n",
       "    </tr>\n",
       "    <tr>\n",
       "      <th>...</th>\n",
       "      <td>...</td>\n",
       "      <td>...</td>\n",
       "      <td>...</td>\n",
       "      <td>...</td>\n",
       "      <td>...</td>\n",
       "      <td>...</td>\n",
       "      <td>...</td>\n",
       "      <td>...</td>\n",
       "      <td>...</td>\n",
       "      <td>...</td>\n",
       "      <td>...</td>\n",
       "      <td>...</td>\n",
       "      <td>...</td>\n",
       "      <td>...</td>\n",
       "      <td>...</td>\n",
       "      <td>...</td>\n",
       "      <td>...</td>\n",
       "      <td>...</td>\n",
       "      <td>...</td>\n",
       "      <td>...</td>\n",
       "      <td>...</td>\n",
       "    </tr>\n",
       "    <tr>\n",
       "      <th>chrX:154719165-154719708</th>\n",
       "      <td>544</td>\n",
       "      <td>0</td>\n",
       "      <td>1</td>\n",
       "      <td>0</td>\n",
       "      <td>intron</td>\n",
       "      <td>GAB3</td>\n",
       "      <td>ENSG00000160219</td>\n",
       "      <td>23072</td>\n",
       "      <td>0</td>\n",
       "      <td>140</td>\n",
       "      <td>...</td>\n",
       "      <td>0.018541</td>\n",
       "      <td>98.128592</td>\n",
       "      <td>140.0</td>\n",
       "      <td>4.948760</td>\n",
       "      <td>0</td>\n",
       "      <td>0</td>\n",
       "      <td>0</td>\n",
       "      <td>True</td>\n",
       "      <td>0.139326</td>\n",
       "      <td>1.002724</td>\n",
       "    </tr>\n",
       "    <tr>\n",
       "      <th>chrX:154805075-154805684</th>\n",
       "      <td>610</td>\n",
       "      <td>1</td>\n",
       "      <td>1</td>\n",
       "      <td>1</td>\n",
       "      <td>exon</td>\n",
       "      <td>MPP1</td>\n",
       "      <td>ENSG00000130830</td>\n",
       "      <td>0</td>\n",
       "      <td>0</td>\n",
       "      <td>220</td>\n",
       "      <td>...</td>\n",
       "      <td>0.028984</td>\n",
       "      <td>97.059217</td>\n",
       "      <td>220.0</td>\n",
       "      <td>5.398163</td>\n",
       "      <td>0</td>\n",
       "      <td>0</td>\n",
       "      <td>0</td>\n",
       "      <td>True</td>\n",
       "      <td>0.246467</td>\n",
       "      <td>1.428516</td>\n",
       "    </tr>\n",
       "    <tr>\n",
       "      <th>chrX:154805785-154806070</th>\n",
       "      <td>286</td>\n",
       "      <td>0</td>\n",
       "      <td>1</td>\n",
       "      <td>1</td>\n",
       "      <td>promoter</td>\n",
       "      <td>MPP1</td>\n",
       "      <td>ENSG00000130830</td>\n",
       "      <td>257</td>\n",
       "      <td>0</td>\n",
       "      <td>120</td>\n",
       "      <td>...</td>\n",
       "      <td>0.015913</td>\n",
       "      <td>98.395936</td>\n",
       "      <td>120.0</td>\n",
       "      <td>4.795791</td>\n",
       "      <td>0</td>\n",
       "      <td>0</td>\n",
       "      <td>0</td>\n",
       "      <td>True</td>\n",
       "      <td>0.187194</td>\n",
       "      <td>1.206861</td>\n",
       "    </tr>\n",
       "    <tr>\n",
       "      <th>chrX:155026470-155027451</th>\n",
       "      <td>982</td>\n",
       "      <td>1</td>\n",
       "      <td>1</td>\n",
       "      <td>1</td>\n",
       "      <td>exon</td>\n",
       "      <td>FUNDC2</td>\n",
       "      <td>ENSG00000165775</td>\n",
       "      <td>0</td>\n",
       "      <td>0</td>\n",
       "      <td>431</td>\n",
       "      <td>...</td>\n",
       "      <td>0.056014</td>\n",
       "      <td>94.238738</td>\n",
       "      <td>431.0</td>\n",
       "      <td>6.068426</td>\n",
       "      <td>0</td>\n",
       "      <td>0</td>\n",
       "      <td>0</td>\n",
       "      <td>True</td>\n",
       "      <td>0.380076</td>\n",
       "      <td>1.348233</td>\n",
       "    </tr>\n",
       "    <tr>\n",
       "      <th>chrX:155070780-155071828</th>\n",
       "      <td>1049</td>\n",
       "      <td>1</td>\n",
       "      <td>1</td>\n",
       "      <td>1</td>\n",
       "      <td>exon</td>\n",
       "      <td>BRCC3</td>\n",
       "      <td>ENSG00000185515</td>\n",
       "      <td>0</td>\n",
       "      <td>0</td>\n",
       "      <td>483</td>\n",
       "      <td>...</td>\n",
       "      <td>0.062565</td>\n",
       "      <td>93.543644</td>\n",
       "      <td>483.0</td>\n",
       "      <td>6.182085</td>\n",
       "      <td>0</td>\n",
       "      <td>0</td>\n",
       "      <td>0</td>\n",
       "      <td>True</td>\n",
       "      <td>0.422783</td>\n",
       "      <td>1.442024</td>\n",
       "    </tr>\n",
       "  </tbody>\n",
       "</table>\n",
       "<p>10640 rows × 21 columns</p>\n",
       "</div>"
      ],
      "text/plain": [
       "                          peak_width  exon  gene  promoter  annotation  \\\n",
       "peak_id                                                                  \n",
       "chr1:999901-1000393              493     1     1         1        exon   \n",
       "chr1:1019192-1019792             601     0     0         1    promoter   \n",
       "chr1:1073233-1074498            1266     1     1         1        exon   \n",
       "chr1:1079363-1080404            1042     0     0         0  intergenic   \n",
       "chr1:1115778-1116666             889     1     1         1        exon   \n",
       "...                              ...   ...   ...       ...         ...   \n",
       "chrX:154719165-154719708         544     0     1         0      intron   \n",
       "chrX:154805075-154805684         610     1     1         1        exon   \n",
       "chrX:154805785-154806070         286     0     1         1    promoter   \n",
       "chrX:155026470-155027451         982     1     1         1        exon   \n",
       "chrX:155070780-155071828        1049     1     1         1        exon   \n",
       "\n",
       "                         gene_name          gene_id  tss_distance  \\\n",
       "peak_id                                                             \n",
       "chr1:999901-1000393          ISG15  ENSG00000187608             0   \n",
       "chr1:1019192-1019792          AGRN  ENSG00000188157           330   \n",
       "chr1:1073233-1074498        RNF223  ENSG00000237330             0   \n",
       "chr1:1079363-1080404           nan              nan          3667   \n",
       "chr1:1115778-1116666      C1orf159  ENSG00000131591             0   \n",
       "...                            ...              ...           ...   \n",
       "chrX:154719165-154719708      GAB3  ENSG00000160219         23072   \n",
       "chrX:154805075-154805684      MPP1  ENSG00000130830             0   \n",
       "chrX:154805785-154806070      MPP1  ENSG00000130830           257   \n",
       "chrX:155026470-155027451    FUNDC2  ENSG00000165775             0   \n",
       "chrX:155070780-155071828     BRCC3  ENSG00000185515             0   \n",
       "\n",
       "                          ENCODE_blacklist  n_cells_by_counts  ...  \\\n",
       "peak_id                                                        ...   \n",
       "chr1:999901-1000393                      0                246  ...   \n",
       "chr1:1019192-1019792                     0                300  ...   \n",
       "chr1:1073233-1074498                     0                692  ...   \n",
       "chr1:1079363-1080404                     0                537  ...   \n",
       "chr1:1115778-1116666                     0                481  ...   \n",
       "...                                    ...                ...  ...   \n",
       "chrX:154719165-154719708                 0                140  ...   \n",
       "chrX:154805075-154805684                 0                220  ...   \n",
       "chrX:154805785-154806070                 0                120  ...   \n",
       "chrX:155026470-155027451                 0                431  ...   \n",
       "chrX:155070780-155071828                 0                483  ...   \n",
       "\n",
       "                          log1p_mean_counts  pct_dropout_by_counts  \\\n",
       "peak_id                                                              \n",
       "chr1:999901-1000393                0.032354              96.711670   \n",
       "chr1:1019192-1019792               0.039318              95.989841   \n",
       "chr1:1073233-1074498               0.088470              90.749900   \n",
       "chr1:1079363-1080404               0.069323              92.821815   \n",
       "chr1:1115778-1116666               0.062314              93.570378   \n",
       "...                                     ...                    ...   \n",
       "chrX:154719165-154719708           0.018541              98.128592   \n",
       "chrX:154805075-154805684           0.028984              97.059217   \n",
       "chrX:154805785-154806070           0.015913              98.395936   \n",
       "chrX:155026470-155027451           0.056014              94.238738   \n",
       "chrX:155070780-155071828           0.062565              93.543644   \n",
       "\n",
       "                          total_counts  log1p_total_counts  \\\n",
       "peak_id                                                      \n",
       "chr1:999901-1000393              246.0            5.509388   \n",
       "chr1:1019192-1019792             300.0            5.707110   \n",
       "chr1:1073233-1074498             692.0            6.541030   \n",
       "chr1:1079363-1080404             537.0            6.287858   \n",
       "chr1:1115778-1116666             481.0            6.177944   \n",
       "...                                ...                 ...   \n",
       "chrX:154719165-154719708         140.0            4.948760   \n",
       "chrX:154805075-154805684         220.0            5.398163   \n",
       "chrX:154805785-154806070         120.0            4.795791   \n",
       "chrX:155026470-155027451         431.0            6.068426   \n",
       "chrX:155070780-155071828         483.0            6.182085   \n",
       "\n",
       "                          contains_primed_enhancers  \\\n",
       "peak_id                                               \n",
       "chr1:999901-1000393                               0   \n",
       "chr1:1019192-1019792                              1   \n",
       "chr1:1073233-1074498                              0   \n",
       "chr1:1079363-1080404                              0   \n",
       "chr1:1115778-1116666                              0   \n",
       "...                                             ...   \n",
       "chrX:154719165-154719708                          0   \n",
       "chrX:154805075-154805684                          0   \n",
       "chrX:154805785-154806070                          0   \n",
       "chrX:155026470-155027451                          0   \n",
       "chrX:155070780-155071828                          0   \n",
       "\n",
       "                          contains_active_enhancers  \\\n",
       "peak_id                                               \n",
       "chr1:999901-1000393                               0   \n",
       "chr1:1019192-1019792                              0   \n",
       "chr1:1073233-1074498                              1   \n",
       "chr1:1079363-1080404                              1   \n",
       "chr1:1115778-1116666                              0   \n",
       "...                                             ...   \n",
       "chrX:154719165-154719708                          0   \n",
       "chrX:154805075-154805684                          0   \n",
       "chrX:154805785-154806070                          0   \n",
       "chrX:155026470-155027451                          0   \n",
       "chrX:155070780-155071828                          0   \n",
       "\n",
       "                          contains_repressed_enhancers  highly_variable  \\\n",
       "peak_id                                                                   \n",
       "chr1:999901-1000393                                  0             True   \n",
       "chr1:1019192-1019792                                 1             True   \n",
       "chr1:1073233-1074498                                 0             True   \n",
       "chr1:1079363-1080404                                 0             True   \n",
       "chr1:1115778-1116666                                 1             True   \n",
       "...                                                ...              ...   \n",
       "chrX:154719165-154719708                             0             True   \n",
       "chrX:154805075-154805684                             0             True   \n",
       "chrX:154805785-154806070                             0             True   \n",
       "chrX:155026470-155027451                             0             True   \n",
       "chrX:155070780-155071828                             0             True   \n",
       "\n",
       "                              mean       std  \n",
       "peak_id                                       \n",
       "chr1:999901-1000393       0.289558  1.293578  \n",
       "chr1:1019192-1019792      0.370739  1.364634  \n",
       "chr1:1073233-1074498      0.401673  1.315951  \n",
       "chr1:1079363-1080404      0.379248  1.281137  \n",
       "chr1:1115778-1116666      0.393738  1.367118  \n",
       "...                            ...       ...  \n",
       "chrX:154719165-154719708  0.139326  1.002724  \n",
       "chrX:154805075-154805684  0.246467  1.428516  \n",
       "chrX:154805785-154806070  0.187194  1.206861  \n",
       "chrX:155026470-155027451  0.380076  1.348233  \n",
       "chrX:155070780-155071828  0.422783  1.442024  \n",
       "\n",
       "[10640 rows x 21 columns]"
      ]
     },
     "execution_count": 19,
     "metadata": {},
     "output_type": "execute_result"
    }
   ],
   "source": [
    "mdata['ATAC_all'].var"
   ]
  },
  {
   "cell_type": "code",
   "execution_count": 20,
   "id": "wicked-change",
   "metadata": {},
   "outputs": [
    {
     "data": {
      "text/html": [
       "<div>\n",
       "<style scoped>\n",
       "    .dataframe tbody tr th:only-of-type {\n",
       "        vertical-align: middle;\n",
       "    }\n",
       "\n",
       "    .dataframe tbody tr th {\n",
       "        vertical-align: top;\n",
       "    }\n",
       "\n",
       "    .dataframe thead th {\n",
       "        text-align: right;\n",
       "    }\n",
       "</style>\n",
       "<table border=\"1\" class=\"dataframe\">\n",
       "  <thead>\n",
       "    <tr style=\"text-align: right;\">\n",
       "      <th></th>\n",
       "      <th>peak_width</th>\n",
       "      <th>exon</th>\n",
       "      <th>gene</th>\n",
       "      <th>promoter</th>\n",
       "      <th>annotation</th>\n",
       "      <th>gene_name</th>\n",
       "      <th>gene_id</th>\n",
       "      <th>tss_distance</th>\n",
       "      <th>ENCODE_blacklist</th>\n",
       "      <th>n_cells_by_counts</th>\n",
       "      <th>...</th>\n",
       "      <th>log1p_mean_counts</th>\n",
       "      <th>pct_dropout_by_counts</th>\n",
       "      <th>total_counts</th>\n",
       "      <th>log1p_total_counts</th>\n",
       "      <th>contains_primed_enhancers</th>\n",
       "      <th>contains_active_enhancers</th>\n",
       "      <th>contains_repressed_enhancers</th>\n",
       "      <th>highly_variable</th>\n",
       "      <th>mean</th>\n",
       "      <th>std</th>\n",
       "    </tr>\n",
       "    <tr>\n",
       "      <th>peak_id</th>\n",
       "      <th></th>\n",
       "      <th></th>\n",
       "      <th></th>\n",
       "      <th></th>\n",
       "      <th></th>\n",
       "      <th></th>\n",
       "      <th></th>\n",
       "      <th></th>\n",
       "      <th></th>\n",
       "      <th></th>\n",
       "      <th></th>\n",
       "      <th></th>\n",
       "      <th></th>\n",
       "      <th></th>\n",
       "      <th></th>\n",
       "      <th></th>\n",
       "      <th></th>\n",
       "      <th></th>\n",
       "      <th></th>\n",
       "      <th></th>\n",
       "      <th></th>\n",
       "    </tr>\n",
       "  </thead>\n",
       "  <tbody>\n",
       "    <tr>\n",
       "      <th>chr1:1019192-1019792</th>\n",
       "      <td>601</td>\n",
       "      <td>0</td>\n",
       "      <td>0</td>\n",
       "      <td>1</td>\n",
       "      <td>promoter</td>\n",
       "      <td>AGRN</td>\n",
       "      <td>ENSG00000188157</td>\n",
       "      <td>330</td>\n",
       "      <td>0</td>\n",
       "      <td>300</td>\n",
       "      <td>...</td>\n",
       "      <td>0.039318</td>\n",
       "      <td>95.989841</td>\n",
       "      <td>300.0</td>\n",
       "      <td>5.707110</td>\n",
       "      <td>1</td>\n",
       "      <td>0</td>\n",
       "      <td>1</td>\n",
       "      <td>True</td>\n",
       "      <td>0.370739</td>\n",
       "      <td>1.364634</td>\n",
       "    </tr>\n",
       "    <tr>\n",
       "      <th>chr1:1307589-1308732</th>\n",
       "      <td>1144</td>\n",
       "      <td>1</td>\n",
       "      <td>1</td>\n",
       "      <td>1</td>\n",
       "      <td>exon</td>\n",
       "      <td>PUSL1</td>\n",
       "      <td>ENSG00000169972</td>\n",
       "      <td>0</td>\n",
       "      <td>0</td>\n",
       "      <td>759</td>\n",
       "      <td>...</td>\n",
       "      <td>0.096634</td>\n",
       "      <td>89.854298</td>\n",
       "      <td>759.0</td>\n",
       "      <td>6.633318</td>\n",
       "      <td>1</td>\n",
       "      <td>0</td>\n",
       "      <td>0</td>\n",
       "      <td>True</td>\n",
       "      <td>0.478781</td>\n",
       "      <td>1.436571</td>\n",
       "    </tr>\n",
       "    <tr>\n",
       "      <th>chr1:1358508-1359016</th>\n",
       "      <td>509</td>\n",
       "      <td>1</td>\n",
       "      <td>1</td>\n",
       "      <td>1</td>\n",
       "      <td>exon</td>\n",
       "      <td>MXRA8</td>\n",
       "      <td>ENSG00000162576</td>\n",
       "      <td>0</td>\n",
       "      <td>0</td>\n",
       "      <td>232</td>\n",
       "      <td>...</td>\n",
       "      <td>0.030541</td>\n",
       "      <td>96.898810</td>\n",
       "      <td>232.0</td>\n",
       "      <td>5.451038</td>\n",
       "      <td>1</td>\n",
       "      <td>1</td>\n",
       "      <td>1</td>\n",
       "      <td>True</td>\n",
       "      <td>0.256409</td>\n",
       "      <td>1.236916</td>\n",
       "    </tr>\n",
       "    <tr>\n",
       "      <th>chr1:1470741-1471872</th>\n",
       "      <td>1132</td>\n",
       "      <td>1</td>\n",
       "      <td>1</td>\n",
       "      <td>1</td>\n",
       "      <td>exon</td>\n",
       "      <td>ATAD3B</td>\n",
       "      <td>ENSG00000160072</td>\n",
       "      <td>0</td>\n",
       "      <td>0</td>\n",
       "      <td>345</td>\n",
       "      <td>...</td>\n",
       "      <td>0.045085</td>\n",
       "      <td>95.388317</td>\n",
       "      <td>345.0</td>\n",
       "      <td>5.846439</td>\n",
       "      <td>1</td>\n",
       "      <td>1</td>\n",
       "      <td>1</td>\n",
       "      <td>True</td>\n",
       "      <td>0.312025</td>\n",
       "      <td>1.394894</td>\n",
       "    </tr>\n",
       "    <tr>\n",
       "      <th>chr1:1918916-1919893</th>\n",
       "      <td>978</td>\n",
       "      <td>1</td>\n",
       "      <td>1</td>\n",
       "      <td>1</td>\n",
       "      <td>exon</td>\n",
       "      <td>TMEM52</td>\n",
       "      <td>ENSG00000178821</td>\n",
       "      <td>0</td>\n",
       "      <td>0</td>\n",
       "      <td>587</td>\n",
       "      <td>...</td>\n",
       "      <td>0.075539</td>\n",
       "      <td>92.153455</td>\n",
       "      <td>587.0</td>\n",
       "      <td>6.376727</td>\n",
       "      <td>1</td>\n",
       "      <td>0</td>\n",
       "      <td>1</td>\n",
       "      <td>True</td>\n",
       "      <td>0.406118</td>\n",
       "      <td>1.409859</td>\n",
       "    </tr>\n",
       "    <tr>\n",
       "      <th>...</th>\n",
       "      <td>...</td>\n",
       "      <td>...</td>\n",
       "      <td>...</td>\n",
       "      <td>...</td>\n",
       "      <td>...</td>\n",
       "      <td>...</td>\n",
       "      <td>...</td>\n",
       "      <td>...</td>\n",
       "      <td>...</td>\n",
       "      <td>...</td>\n",
       "      <td>...</td>\n",
       "      <td>...</td>\n",
       "      <td>...</td>\n",
       "      <td>...</td>\n",
       "      <td>...</td>\n",
       "      <td>...</td>\n",
       "      <td>...</td>\n",
       "      <td>...</td>\n",
       "      <td>...</td>\n",
       "      <td>...</td>\n",
       "      <td>...</td>\n",
       "    </tr>\n",
       "    <tr>\n",
       "      <th>chrX:100994133-100994820</th>\n",
       "      <td>688</td>\n",
       "      <td>0</td>\n",
       "      <td>0</td>\n",
       "      <td>0</td>\n",
       "      <td>intergenic</td>\n",
       "      <td>nan</td>\n",
       "      <td>nan</td>\n",
       "      <td>6728</td>\n",
       "      <td>0</td>\n",
       "      <td>133</td>\n",
       "      <td>...</td>\n",
       "      <td>0.017622</td>\n",
       "      <td>98.222163</td>\n",
       "      <td>133.0</td>\n",
       "      <td>4.897840</td>\n",
       "      <td>1</td>\n",
       "      <td>0</td>\n",
       "      <td>1</td>\n",
       "      <td>True</td>\n",
       "      <td>0.089699</td>\n",
       "      <td>0.938747</td>\n",
       "    </tr>\n",
       "    <tr>\n",
       "      <th>chrX:131728272-131729011</th>\n",
       "      <td>740</td>\n",
       "      <td>0</td>\n",
       "      <td>0</td>\n",
       "      <td>0</td>\n",
       "      <td>intergenic</td>\n",
       "      <td>nan</td>\n",
       "      <td>nan</td>\n",
       "      <td>149372</td>\n",
       "      <td>0</td>\n",
       "      <td>140</td>\n",
       "      <td>...</td>\n",
       "      <td>0.018541</td>\n",
       "      <td>98.128592</td>\n",
       "      <td>140.0</td>\n",
       "      <td>4.948760</td>\n",
       "      <td>1</td>\n",
       "      <td>0</td>\n",
       "      <td>1</td>\n",
       "      <td>True</td>\n",
       "      <td>0.186327</td>\n",
       "      <td>1.206277</td>\n",
       "    </tr>\n",
       "    <tr>\n",
       "      <th>chrX:131752974-131753810</th>\n",
       "      <td>837</td>\n",
       "      <td>0</td>\n",
       "      <td>0</td>\n",
       "      <td>0</td>\n",
       "      <td>intergenic</td>\n",
       "      <td>nan</td>\n",
       "      <td>nan</td>\n",
       "      <td>174074</td>\n",
       "      <td>0</td>\n",
       "      <td>178</td>\n",
       "      <td>...</td>\n",
       "      <td>0.023515</td>\n",
       "      <td>97.620639</td>\n",
       "      <td>178.0</td>\n",
       "      <td>5.187386</td>\n",
       "      <td>1</td>\n",
       "      <td>0</td>\n",
       "      <td>1</td>\n",
       "      <td>True</td>\n",
       "      <td>0.184526</td>\n",
       "      <td>1.205195</td>\n",
       "    </tr>\n",
       "    <tr>\n",
       "      <th>chrX:131792306-131792711</th>\n",
       "      <td>406</td>\n",
       "      <td>0</td>\n",
       "      <td>0</td>\n",
       "      <td>0</td>\n",
       "      <td>intergenic</td>\n",
       "      <td>nan</td>\n",
       "      <td>nan</td>\n",
       "      <td>213406</td>\n",
       "      <td>0</td>\n",
       "      <td>192</td>\n",
       "      <td>...</td>\n",
       "      <td>0.025341</td>\n",
       "      <td>97.433498</td>\n",
       "      <td>192.0</td>\n",
       "      <td>5.262690</td>\n",
       "      <td>1</td>\n",
       "      <td>1</td>\n",
       "      <td>1</td>\n",
       "      <td>True</td>\n",
       "      <td>0.197067</td>\n",
       "      <td>1.126156</td>\n",
       "    </tr>\n",
       "    <tr>\n",
       "      <th>chrX:153927861-153928690</th>\n",
       "      <td>830</td>\n",
       "      <td>1</td>\n",
       "      <td>1</td>\n",
       "      <td>1</td>\n",
       "      <td>exon</td>\n",
       "      <td>ARHGAP4</td>\n",
       "      <td>ENSG00000089820</td>\n",
       "      <td>0</td>\n",
       "      <td>0</td>\n",
       "      <td>666</td>\n",
       "      <td>...</td>\n",
       "      <td>0.085283</td>\n",
       "      <td>91.097447</td>\n",
       "      <td>666.0</td>\n",
       "      <td>6.502790</td>\n",
       "      <td>1</td>\n",
       "      <td>0</td>\n",
       "      <td>1</td>\n",
       "      <td>True</td>\n",
       "      <td>0.460803</td>\n",
       "      <td>1.393305</td>\n",
       "    </tr>\n",
       "  </tbody>\n",
       "</table>\n",
       "<p>2037 rows × 21 columns</p>\n",
       "</div>"
      ],
      "text/plain": [
       "                          peak_width  exon  gene  promoter  annotation  \\\n",
       "peak_id                                                                  \n",
       "chr1:1019192-1019792             601     0     0         1    promoter   \n",
       "chr1:1307589-1308732            1144     1     1         1        exon   \n",
       "chr1:1358508-1359016             509     1     1         1        exon   \n",
       "chr1:1470741-1471872            1132     1     1         1        exon   \n",
       "chr1:1918916-1919893             978     1     1         1        exon   \n",
       "...                              ...   ...   ...       ...         ...   \n",
       "chrX:100994133-100994820         688     0     0         0  intergenic   \n",
       "chrX:131728272-131729011         740     0     0         0  intergenic   \n",
       "chrX:131752974-131753810         837     0     0         0  intergenic   \n",
       "chrX:131792306-131792711         406     0     0         0  intergenic   \n",
       "chrX:153927861-153928690         830     1     1         1        exon   \n",
       "\n",
       "                         gene_name          gene_id  tss_distance  \\\n",
       "peak_id                                                             \n",
       "chr1:1019192-1019792          AGRN  ENSG00000188157           330   \n",
       "chr1:1307589-1308732         PUSL1  ENSG00000169972             0   \n",
       "chr1:1358508-1359016         MXRA8  ENSG00000162576             0   \n",
       "chr1:1470741-1471872        ATAD3B  ENSG00000160072             0   \n",
       "chr1:1918916-1919893        TMEM52  ENSG00000178821             0   \n",
       "...                            ...              ...           ...   \n",
       "chrX:100994133-100994820       nan              nan          6728   \n",
       "chrX:131728272-131729011       nan              nan        149372   \n",
       "chrX:131752974-131753810       nan              nan        174074   \n",
       "chrX:131792306-131792711       nan              nan        213406   \n",
       "chrX:153927861-153928690   ARHGAP4  ENSG00000089820             0   \n",
       "\n",
       "                          ENCODE_blacklist  n_cells_by_counts  ...  \\\n",
       "peak_id                                                        ...   \n",
       "chr1:1019192-1019792                     0                300  ...   \n",
       "chr1:1307589-1308732                     0                759  ...   \n",
       "chr1:1358508-1359016                     0                232  ...   \n",
       "chr1:1470741-1471872                     0                345  ...   \n",
       "chr1:1918916-1919893                     0                587  ...   \n",
       "...                                    ...                ...  ...   \n",
       "chrX:100994133-100994820                 0                133  ...   \n",
       "chrX:131728272-131729011                 0                140  ...   \n",
       "chrX:131752974-131753810                 0                178  ...   \n",
       "chrX:131792306-131792711                 0                192  ...   \n",
       "chrX:153927861-153928690                 0                666  ...   \n",
       "\n",
       "                          log1p_mean_counts  pct_dropout_by_counts  \\\n",
       "peak_id                                                              \n",
       "chr1:1019192-1019792               0.039318              95.989841   \n",
       "chr1:1307589-1308732               0.096634              89.854298   \n",
       "chr1:1358508-1359016               0.030541              96.898810   \n",
       "chr1:1470741-1471872               0.045085              95.388317   \n",
       "chr1:1918916-1919893               0.075539              92.153455   \n",
       "...                                     ...                    ...   \n",
       "chrX:100994133-100994820           0.017622              98.222163   \n",
       "chrX:131728272-131729011           0.018541              98.128592   \n",
       "chrX:131752974-131753810           0.023515              97.620639   \n",
       "chrX:131792306-131792711           0.025341              97.433498   \n",
       "chrX:153927861-153928690           0.085283              91.097447   \n",
       "\n",
       "                          total_counts  log1p_total_counts  \\\n",
       "peak_id                                                      \n",
       "chr1:1019192-1019792             300.0            5.707110   \n",
       "chr1:1307589-1308732             759.0            6.633318   \n",
       "chr1:1358508-1359016             232.0            5.451038   \n",
       "chr1:1470741-1471872             345.0            5.846439   \n",
       "chr1:1918916-1919893             587.0            6.376727   \n",
       "...                                ...                 ...   \n",
       "chrX:100994133-100994820         133.0            4.897840   \n",
       "chrX:131728272-131729011         140.0            4.948760   \n",
       "chrX:131752974-131753810         178.0            5.187386   \n",
       "chrX:131792306-131792711         192.0            5.262690   \n",
       "chrX:153927861-153928690         666.0            6.502790   \n",
       "\n",
       "                          contains_primed_enhancers  \\\n",
       "peak_id                                               \n",
       "chr1:1019192-1019792                              1   \n",
       "chr1:1307589-1308732                              1   \n",
       "chr1:1358508-1359016                              1   \n",
       "chr1:1470741-1471872                              1   \n",
       "chr1:1918916-1919893                              1   \n",
       "...                                             ...   \n",
       "chrX:100994133-100994820                          1   \n",
       "chrX:131728272-131729011                          1   \n",
       "chrX:131752974-131753810                          1   \n",
       "chrX:131792306-131792711                          1   \n",
       "chrX:153927861-153928690                          1   \n",
       "\n",
       "                          contains_active_enhancers  \\\n",
       "peak_id                                               \n",
       "chr1:1019192-1019792                              0   \n",
       "chr1:1307589-1308732                              0   \n",
       "chr1:1358508-1359016                              1   \n",
       "chr1:1470741-1471872                              1   \n",
       "chr1:1918916-1919893                              0   \n",
       "...                                             ...   \n",
       "chrX:100994133-100994820                          0   \n",
       "chrX:131728272-131729011                          0   \n",
       "chrX:131752974-131753810                          0   \n",
       "chrX:131792306-131792711                          1   \n",
       "chrX:153927861-153928690                          0   \n",
       "\n",
       "                          contains_repressed_enhancers  highly_variable  \\\n",
       "peak_id                                                                   \n",
       "chr1:1019192-1019792                                 1             True   \n",
       "chr1:1307589-1308732                                 0             True   \n",
       "chr1:1358508-1359016                                 1             True   \n",
       "chr1:1470741-1471872                                 1             True   \n",
       "chr1:1918916-1919893                                 1             True   \n",
       "...                                                ...              ...   \n",
       "chrX:100994133-100994820                             1             True   \n",
       "chrX:131728272-131729011                             1             True   \n",
       "chrX:131752974-131753810                             1             True   \n",
       "chrX:131792306-131792711                             1             True   \n",
       "chrX:153927861-153928690                             1             True   \n",
       "\n",
       "                              mean       std  \n",
       "peak_id                                       \n",
       "chr1:1019192-1019792      0.370739  1.364634  \n",
       "chr1:1307589-1308732      0.478781  1.436571  \n",
       "chr1:1358508-1359016      0.256409  1.236916  \n",
       "chr1:1470741-1471872      0.312025  1.394894  \n",
       "chr1:1918916-1919893      0.406118  1.409859  \n",
       "...                            ...       ...  \n",
       "chrX:100994133-100994820  0.089699  0.938747  \n",
       "chrX:131728272-131729011  0.186327  1.206277  \n",
       "chrX:131752974-131753810  0.184526  1.205195  \n",
       "chrX:131792306-131792711  0.197067  1.126156  \n",
       "chrX:153927861-153928690  0.460803  1.393305  \n",
       "\n",
       "[2037 rows x 21 columns]"
      ]
     },
     "execution_count": 20,
     "metadata": {},
     "output_type": "execute_result"
    }
   ],
   "source": [
    "# there are peaks here that may contain >1 type of enhancer region and that's OK\n",
    "mdata['ATAC_all'].var[mdata['ATAC_all'].var['contains_primed_enhancers'] == 1]"
   ]
  },
  {
   "cell_type": "code",
   "execution_count": 21,
   "id": "optical-temperature",
   "metadata": {},
   "outputs": [
    {
     "data": {
      "text/plain": [
       "2037"
      ]
     },
     "execution_count": 21,
     "metadata": {},
     "output_type": "execute_result"
    }
   ],
   "source": [
    "len(mdata['ATAC_all'].var[mdata['ATAC_all'].var['contains_primed_enhancers'] == 1])"
   ]
  },
  {
   "cell_type": "code",
   "execution_count": 22,
   "id": "valuable-portal",
   "metadata": {},
   "outputs": [
    {
     "data": {
      "text/plain": [
       "6821"
      ]
     },
     "execution_count": 22,
     "metadata": {},
     "output_type": "execute_result"
    }
   ],
   "source": [
    "len(mdata['ATAC_all'].var[mdata['ATAC_all'].var['contains_active_enhancers'] == 1])"
   ]
  },
  {
   "cell_type": "code",
   "execution_count": 23,
   "id": "reliable-feedback",
   "metadata": {},
   "outputs": [
    {
     "data": {
      "text/plain": [
       "2084"
      ]
     },
     "execution_count": 23,
     "metadata": {},
     "output_type": "execute_result"
    }
   ],
   "source": [
    "len(mdata['ATAC_all'].var[mdata['ATAC_all'].var['contains_repressed_enhancers'] == 1])"
   ]
  },
  {
   "cell_type": "markdown",
   "id": "static-fetish",
   "metadata": {},
   "source": [
    "## Additionally: getting annotation of peaks that contain enhancer elements conserved in both 2nd and 3rd timester samples\n",
    "\n",
    "# this showed roughly that ehnancer regions behave similarly (enrichment wise) in factor 10 which is the top most interesting factor with ATAC contributions, so later we can just ignore them in the enrichment results"
   ]
  },
  {
   "cell_type": "raw",
   "id": "editorial-creature",
   "metadata": {
    "tags": []
   },
   "source": [
    "# read in bed files with peaks overlapping certain enhancer regions\n",
    "peaks_enhancer_overlaps_path = '/lustre/scratch117/cellgen/team292/aa22/with_Stijn/202111_snATAC-seq_data_MFI/multiome_ATAC_samples_analysis/trophoblast_only_analysis/downstream_analysis_custom_clust/enhancer_related/union_final2use/2nd_and_3rd_trimester/'\n",
    "\n",
    "peaks_enhancers = {}\n",
    "\n",
    "peaks_enhancers['primed'] = pd.read_csv(peaks_enhancer_overlaps_path + 'peaks_containing_primed_enhancer_regions_2nd_and_3rd_trimester.csv', sep='\\t', header=None)\n",
    "peaks_enhancers['active'] = pd.read_csv(peaks_enhancer_overlaps_path + 'peaks_containing_active_enhancer_regions_2nd_and_3rd_trimester.csv', sep='\\t', header=None)\n",
    "peaks_enhancers['repressed'] = pd.read_csv(peaks_enhancer_overlaps_path + 'peaks_containing_repressed_enhancer_regions_2nd_and_3rd_trimester.csv', sep='\\t', header=None)\n",
    "\n",
    "for key in list(peaks_enhancers.keys()):\n",
    "    print(key)\n",
    "    peaks_enhancers[key]['peak_id'] = [peaks_enhancers[key].loc[idx,0] + ':' + str(peaks_enhancers[key].loc[idx,1]) + '-' + str(peaks_enhancers[key].loc[idx,2]) for idx in peaks_enhancers[key].index]\n",
    "    peaks_enhancers[key].set_index('peak_id', inplace=True)\n",
    "    \n",
    "    # overlap with features of adata_atac_sub\n",
    "    print('number of peaks overlapping with', key, 'enhancers:', len(peaks_enhancers[key]))\n",
    "    print('of those in adata_atac_sub:', len(set(peaks_enhancers[key].index) & set(mdata['ATAC_all'].var.index)))\n",
    "    print('\\n')\n",
    "\n"
   ]
  },
  {
   "cell_type": "raw",
   "id": "fossil-finland",
   "metadata": {},
   "source": [
    "peaks_enhancers['primed']"
   ]
  },
  {
   "cell_type": "raw",
   "id": "coordinated-coral",
   "metadata": {
    "tags": []
   },
   "source": [
    "%%time\n",
    "\n",
    "# adding this information to adata_atac_sub.var\n",
    "# takes about a minute\n",
    "\n",
    "for key in list(peaks_enhancers.keys()):\n",
    "    print(key)\n",
    "    mdata['ATAC_all'].var['contains_' + key + '_enhancers_2nd_and_3rd_trimester'] = [1 if peak_id in list(peaks_enhancers[key].index) else 0 for peak_id in list(mdata['ATAC_all'].var.index)]"
   ]
  },
  {
   "cell_type": "raw",
   "id": "persistent-symphony",
   "metadata": {},
   "source": [
    "mdata['ATAC_all']"
   ]
  },
  {
   "cell_type": "raw",
   "id": "explicit-window",
   "metadata": {},
   "source": [
    "# write this table for later not to rerun lengthy cell above\n",
    "# already done\n",
    "mdata['ATAC_all'].var.to_csv('./tables/20220210_var_table.csv')"
   ]
  },
  {
   "cell_type": "code",
   "execution_count": 27,
   "id": "early-research",
   "metadata": {},
   "outputs": [],
   "source": [
    "mdata['ATAC_all'].var = pd.read_csv('./tables/20220210_var_table.csv', index_col=0)"
   ]
  },
  {
   "cell_type": "code",
   "execution_count": 28,
   "id": "protected-jefferson",
   "metadata": {},
   "outputs": [
    {
     "data": {
      "text/plain": [
       "0    9597\n",
       "1    1043\n",
       "Name: contains_primed_enhancers_2nd_and_3rd_trimester, dtype: int64"
      ]
     },
     "execution_count": 28,
     "metadata": {},
     "output_type": "execute_result"
    }
   ],
   "source": [
    "mdata['ATAC_all'].var['contains_primed_enhancers_2nd_and_3rd_trimester'].value_counts()"
   ]
  },
  {
   "cell_type": "code",
   "execution_count": 29,
   "id": "seeing-turtle",
   "metadata": {},
   "outputs": [
    {
     "data": {
      "text/plain": [
       "1    5494\n",
       "0    5146\n",
       "Name: contains_active_enhancers_2nd_and_3rd_trimester, dtype: int64"
      ]
     },
     "execution_count": 29,
     "metadata": {},
     "output_type": "execute_result"
    }
   ],
   "source": [
    "mdata['ATAC_all'].var['contains_active_enhancers_2nd_and_3rd_trimester'].value_counts()"
   ]
  },
  {
   "cell_type": "code",
   "execution_count": 30,
   "id": "smaller-oakland",
   "metadata": {},
   "outputs": [
    {
     "data": {
      "text/plain": [
       "0    9259\n",
       "1    1381\n",
       "Name: contains_repressed_enhancers_2nd_and_3rd_trimester, dtype: int64"
      ]
     },
     "execution_count": 30,
     "metadata": {},
     "output_type": "execute_result"
    }
   ],
   "source": [
    "mdata['ATAC_all'].var['contains_repressed_enhancers_2nd_and_3rd_trimester'].value_counts()"
   ]
  },
  {
   "cell_type": "raw",
   "id": "advance-socket",
   "metadata": {
    "jupyter": {
     "outputs_hidden": true
    },
    "tags": []
   },
   "source": [
    "# make a feature table for MOFA out of mdata['ATAC_all'].var\n",
    "pd.DataFrame(mdata['ATAC_all'].var.loc[:,['annotation',\n",
    "                                          \n",
    "                                          # defined using only 2nd trimester samples\n",
    "                                          'contains_primed_enhancers','contains_active_enhancers','contains_repressed_enhancers', \n",
    "                                         \n",
    "                                          # defined using regions that are in both 2nd and 3rd trimester samples\n",
    "                                          'contains_primed_enhancers_2nd_and_3rd_trimester','contains_active_enhancers_2nd_and_3rd_trimester','contains_repressed_enhancers_2nd_and_3rd_trimester']\n",
    "                                        ]\n",
    "            \n",
    "            )"
   ]
  },
  {
   "cell_type": "code",
   "execution_count": 31,
   "id": "extended-customer",
   "metadata": {},
   "outputs": [],
   "source": [
    "atac_feature_annot_table = mdata['ATAC_all'].var"
   ]
  },
  {
   "cell_type": "code",
   "execution_count": 32,
   "id": "political-agent",
   "metadata": {},
   "outputs": [],
   "source": [
    "# also add chr, start and end\n",
    "atac_feature_annot_table['chr'] = [idx.split(':')[0] for idx in atac_feature_annot_table.index]\n",
    "atac_feature_annot_table['start'] = [idx.split(':')[1].split('-')[0] for idx in atac_feature_annot_table.index]\n",
    "atac_feature_annot_table['end'] = [idx.split(':')[1].split('-')[1] for idx in atac_feature_annot_table.index]\n",
    "atac_feature_annot_table['peak'] = atac_feature_annot_table.index"
   ]
  },
  {
   "cell_type": "code",
   "execution_count": 33,
   "id": "corporate-destiny",
   "metadata": {},
   "outputs": [
    {
     "data": {
      "text/html": [
       "<div>\n",
       "<style scoped>\n",
       "    .dataframe tbody tr th:only-of-type {\n",
       "        vertical-align: middle;\n",
       "    }\n",
       "\n",
       "    .dataframe tbody tr th {\n",
       "        vertical-align: top;\n",
       "    }\n",
       "\n",
       "    .dataframe thead th {\n",
       "        text-align: right;\n",
       "    }\n",
       "</style>\n",
       "<table border=\"1\" class=\"dataframe\">\n",
       "  <thead>\n",
       "    <tr style=\"text-align: right;\">\n",
       "      <th></th>\n",
       "      <th>peak_width</th>\n",
       "      <th>exon</th>\n",
       "      <th>gene</th>\n",
       "      <th>promoter</th>\n",
       "      <th>annotation</th>\n",
       "      <th>gene_name</th>\n",
       "      <th>gene_id</th>\n",
       "      <th>tss_distance</th>\n",
       "      <th>ENCODE_blacklist</th>\n",
       "      <th>n_cells_by_counts</th>\n",
       "      <th>...</th>\n",
       "      <th>contains_active_enhancers</th>\n",
       "      <th>contains_repressed_enhancers</th>\n",
       "      <th>highly_variable</th>\n",
       "      <th>contains_primed_enhancers_2nd_and_3rd_trimester</th>\n",
       "      <th>contains_active_enhancers_2nd_and_3rd_trimester</th>\n",
       "      <th>contains_repressed_enhancers_2nd_and_3rd_trimester</th>\n",
       "      <th>chr</th>\n",
       "      <th>start</th>\n",
       "      <th>end</th>\n",
       "      <th>peak</th>\n",
       "    </tr>\n",
       "    <tr>\n",
       "      <th>peak_id</th>\n",
       "      <th></th>\n",
       "      <th></th>\n",
       "      <th></th>\n",
       "      <th></th>\n",
       "      <th></th>\n",
       "      <th></th>\n",
       "      <th></th>\n",
       "      <th></th>\n",
       "      <th></th>\n",
       "      <th></th>\n",
       "      <th></th>\n",
       "      <th></th>\n",
       "      <th></th>\n",
       "      <th></th>\n",
       "      <th></th>\n",
       "      <th></th>\n",
       "      <th></th>\n",
       "      <th></th>\n",
       "      <th></th>\n",
       "      <th></th>\n",
       "      <th></th>\n",
       "    </tr>\n",
       "  </thead>\n",
       "  <tbody>\n",
       "    <tr>\n",
       "      <th>chr1:999901-1000393</th>\n",
       "      <td>493</td>\n",
       "      <td>1</td>\n",
       "      <td>1</td>\n",
       "      <td>1</td>\n",
       "      <td>exon</td>\n",
       "      <td>ISG15</td>\n",
       "      <td>ENSG00000187608</td>\n",
       "      <td>0</td>\n",
       "      <td>0</td>\n",
       "      <td>246</td>\n",
       "      <td>...</td>\n",
       "      <td>0</td>\n",
       "      <td>0</td>\n",
       "      <td>True</td>\n",
       "      <td>0</td>\n",
       "      <td>0</td>\n",
       "      <td>0</td>\n",
       "      <td>chr1</td>\n",
       "      <td>999901</td>\n",
       "      <td>1000393</td>\n",
       "      <td>chr1:999901-1000393</td>\n",
       "    </tr>\n",
       "    <tr>\n",
       "      <th>chr1:1019192-1019792</th>\n",
       "      <td>601</td>\n",
       "      <td>0</td>\n",
       "      <td>0</td>\n",
       "      <td>1</td>\n",
       "      <td>promoter</td>\n",
       "      <td>AGRN</td>\n",
       "      <td>ENSG00000188157</td>\n",
       "      <td>330</td>\n",
       "      <td>0</td>\n",
       "      <td>300</td>\n",
       "      <td>...</td>\n",
       "      <td>0</td>\n",
       "      <td>1</td>\n",
       "      <td>True</td>\n",
       "      <td>1</td>\n",
       "      <td>0</td>\n",
       "      <td>1</td>\n",
       "      <td>chr1</td>\n",
       "      <td>1019192</td>\n",
       "      <td>1019792</td>\n",
       "      <td>chr1:1019192-1019792</td>\n",
       "    </tr>\n",
       "    <tr>\n",
       "      <th>chr1:1073233-1074498</th>\n",
       "      <td>1266</td>\n",
       "      <td>1</td>\n",
       "      <td>1</td>\n",
       "      <td>1</td>\n",
       "      <td>exon</td>\n",
       "      <td>RNF223</td>\n",
       "      <td>ENSG00000237330</td>\n",
       "      <td>0</td>\n",
       "      <td>0</td>\n",
       "      <td>692</td>\n",
       "      <td>...</td>\n",
       "      <td>1</td>\n",
       "      <td>0</td>\n",
       "      <td>True</td>\n",
       "      <td>0</td>\n",
       "      <td>1</td>\n",
       "      <td>0</td>\n",
       "      <td>chr1</td>\n",
       "      <td>1073233</td>\n",
       "      <td>1074498</td>\n",
       "      <td>chr1:1073233-1074498</td>\n",
       "    </tr>\n",
       "    <tr>\n",
       "      <th>chr1:1079363-1080404</th>\n",
       "      <td>1042</td>\n",
       "      <td>0</td>\n",
       "      <td>0</td>\n",
       "      <td>0</td>\n",
       "      <td>intergenic</td>\n",
       "      <td>NaN</td>\n",
       "      <td>NaN</td>\n",
       "      <td>3667</td>\n",
       "      <td>0</td>\n",
       "      <td>537</td>\n",
       "      <td>...</td>\n",
       "      <td>1</td>\n",
       "      <td>0</td>\n",
       "      <td>True</td>\n",
       "      <td>0</td>\n",
       "      <td>1</td>\n",
       "      <td>0</td>\n",
       "      <td>chr1</td>\n",
       "      <td>1079363</td>\n",
       "      <td>1080404</td>\n",
       "      <td>chr1:1079363-1080404</td>\n",
       "    </tr>\n",
       "    <tr>\n",
       "      <th>chr1:1115778-1116666</th>\n",
       "      <td>889</td>\n",
       "      <td>1</td>\n",
       "      <td>1</td>\n",
       "      <td>1</td>\n",
       "      <td>exon</td>\n",
       "      <td>C1orf159</td>\n",
       "      <td>ENSG00000131591</td>\n",
       "      <td>0</td>\n",
       "      <td>0</td>\n",
       "      <td>481</td>\n",
       "      <td>...</td>\n",
       "      <td>0</td>\n",
       "      <td>1</td>\n",
       "      <td>True</td>\n",
       "      <td>0</td>\n",
       "      <td>0</td>\n",
       "      <td>1</td>\n",
       "      <td>chr1</td>\n",
       "      <td>1115778</td>\n",
       "      <td>1116666</td>\n",
       "      <td>chr1:1115778-1116666</td>\n",
       "    </tr>\n",
       "    <tr>\n",
       "      <th>...</th>\n",
       "      <td>...</td>\n",
       "      <td>...</td>\n",
       "      <td>...</td>\n",
       "      <td>...</td>\n",
       "      <td>...</td>\n",
       "      <td>...</td>\n",
       "      <td>...</td>\n",
       "      <td>...</td>\n",
       "      <td>...</td>\n",
       "      <td>...</td>\n",
       "      <td>...</td>\n",
       "      <td>...</td>\n",
       "      <td>...</td>\n",
       "      <td>...</td>\n",
       "      <td>...</td>\n",
       "      <td>...</td>\n",
       "      <td>...</td>\n",
       "      <td>...</td>\n",
       "      <td>...</td>\n",
       "      <td>...</td>\n",
       "      <td>...</td>\n",
       "    </tr>\n",
       "    <tr>\n",
       "      <th>chrX:154719165-154719708</th>\n",
       "      <td>544</td>\n",
       "      <td>0</td>\n",
       "      <td>1</td>\n",
       "      <td>0</td>\n",
       "      <td>intron</td>\n",
       "      <td>GAB3</td>\n",
       "      <td>ENSG00000160219</td>\n",
       "      <td>23072</td>\n",
       "      <td>0</td>\n",
       "      <td>140</td>\n",
       "      <td>...</td>\n",
       "      <td>0</td>\n",
       "      <td>0</td>\n",
       "      <td>True</td>\n",
       "      <td>0</td>\n",
       "      <td>0</td>\n",
       "      <td>0</td>\n",
       "      <td>chrX</td>\n",
       "      <td>154719165</td>\n",
       "      <td>154719708</td>\n",
       "      <td>chrX:154719165-154719708</td>\n",
       "    </tr>\n",
       "    <tr>\n",
       "      <th>chrX:154805075-154805684</th>\n",
       "      <td>610</td>\n",
       "      <td>1</td>\n",
       "      <td>1</td>\n",
       "      <td>1</td>\n",
       "      <td>exon</td>\n",
       "      <td>MPP1</td>\n",
       "      <td>ENSG00000130830</td>\n",
       "      <td>0</td>\n",
       "      <td>0</td>\n",
       "      <td>220</td>\n",
       "      <td>...</td>\n",
       "      <td>0</td>\n",
       "      <td>0</td>\n",
       "      <td>True</td>\n",
       "      <td>0</td>\n",
       "      <td>0</td>\n",
       "      <td>0</td>\n",
       "      <td>chrX</td>\n",
       "      <td>154805075</td>\n",
       "      <td>154805684</td>\n",
       "      <td>chrX:154805075-154805684</td>\n",
       "    </tr>\n",
       "    <tr>\n",
       "      <th>chrX:154805785-154806070</th>\n",
       "      <td>286</td>\n",
       "      <td>0</td>\n",
       "      <td>1</td>\n",
       "      <td>1</td>\n",
       "      <td>promoter</td>\n",
       "      <td>MPP1</td>\n",
       "      <td>ENSG00000130830</td>\n",
       "      <td>257</td>\n",
       "      <td>0</td>\n",
       "      <td>120</td>\n",
       "      <td>...</td>\n",
       "      <td>0</td>\n",
       "      <td>0</td>\n",
       "      <td>True</td>\n",
       "      <td>0</td>\n",
       "      <td>0</td>\n",
       "      <td>0</td>\n",
       "      <td>chrX</td>\n",
       "      <td>154805785</td>\n",
       "      <td>154806070</td>\n",
       "      <td>chrX:154805785-154806070</td>\n",
       "    </tr>\n",
       "    <tr>\n",
       "      <th>chrX:155026470-155027451</th>\n",
       "      <td>982</td>\n",
       "      <td>1</td>\n",
       "      <td>1</td>\n",
       "      <td>1</td>\n",
       "      <td>exon</td>\n",
       "      <td>FUNDC2</td>\n",
       "      <td>ENSG00000165775</td>\n",
       "      <td>0</td>\n",
       "      <td>0</td>\n",
       "      <td>431</td>\n",
       "      <td>...</td>\n",
       "      <td>0</td>\n",
       "      <td>0</td>\n",
       "      <td>True</td>\n",
       "      <td>0</td>\n",
       "      <td>0</td>\n",
       "      <td>0</td>\n",
       "      <td>chrX</td>\n",
       "      <td>155026470</td>\n",
       "      <td>155027451</td>\n",
       "      <td>chrX:155026470-155027451</td>\n",
       "    </tr>\n",
       "    <tr>\n",
       "      <th>chrX:155070780-155071828</th>\n",
       "      <td>1049</td>\n",
       "      <td>1</td>\n",
       "      <td>1</td>\n",
       "      <td>1</td>\n",
       "      <td>exon</td>\n",
       "      <td>BRCC3</td>\n",
       "      <td>ENSG00000185515</td>\n",
       "      <td>0</td>\n",
       "      <td>0</td>\n",
       "      <td>483</td>\n",
       "      <td>...</td>\n",
       "      <td>0</td>\n",
       "      <td>0</td>\n",
       "      <td>True</td>\n",
       "      <td>0</td>\n",
       "      <td>0</td>\n",
       "      <td>0</td>\n",
       "      <td>chrX</td>\n",
       "      <td>155070780</td>\n",
       "      <td>155071828</td>\n",
       "      <td>chrX:155070780-155071828</td>\n",
       "    </tr>\n",
       "  </tbody>\n",
       "</table>\n",
       "<p>10640 rows × 26 columns</p>\n",
       "</div>"
      ],
      "text/plain": [
       "                          peak_width  exon  gene  promoter  annotation  \\\n",
       "peak_id                                                                  \n",
       "chr1:999901-1000393              493     1     1         1        exon   \n",
       "chr1:1019192-1019792             601     0     0         1    promoter   \n",
       "chr1:1073233-1074498            1266     1     1         1        exon   \n",
       "chr1:1079363-1080404            1042     0     0         0  intergenic   \n",
       "chr1:1115778-1116666             889     1     1         1        exon   \n",
       "...                              ...   ...   ...       ...         ...   \n",
       "chrX:154719165-154719708         544     0     1         0      intron   \n",
       "chrX:154805075-154805684         610     1     1         1        exon   \n",
       "chrX:154805785-154806070         286     0     1         1    promoter   \n",
       "chrX:155026470-155027451         982     1     1         1        exon   \n",
       "chrX:155070780-155071828        1049     1     1         1        exon   \n",
       "\n",
       "                         gene_name          gene_id  tss_distance  \\\n",
       "peak_id                                                             \n",
       "chr1:999901-1000393          ISG15  ENSG00000187608             0   \n",
       "chr1:1019192-1019792          AGRN  ENSG00000188157           330   \n",
       "chr1:1073233-1074498        RNF223  ENSG00000237330             0   \n",
       "chr1:1079363-1080404           NaN              NaN          3667   \n",
       "chr1:1115778-1116666      C1orf159  ENSG00000131591             0   \n",
       "...                            ...              ...           ...   \n",
       "chrX:154719165-154719708      GAB3  ENSG00000160219         23072   \n",
       "chrX:154805075-154805684      MPP1  ENSG00000130830             0   \n",
       "chrX:154805785-154806070      MPP1  ENSG00000130830           257   \n",
       "chrX:155026470-155027451    FUNDC2  ENSG00000165775             0   \n",
       "chrX:155070780-155071828     BRCC3  ENSG00000185515             0   \n",
       "\n",
       "                          ENCODE_blacklist  n_cells_by_counts  ...  \\\n",
       "peak_id                                                        ...   \n",
       "chr1:999901-1000393                      0                246  ...   \n",
       "chr1:1019192-1019792                     0                300  ...   \n",
       "chr1:1073233-1074498                     0                692  ...   \n",
       "chr1:1079363-1080404                     0                537  ...   \n",
       "chr1:1115778-1116666                     0                481  ...   \n",
       "...                                    ...                ...  ...   \n",
       "chrX:154719165-154719708                 0                140  ...   \n",
       "chrX:154805075-154805684                 0                220  ...   \n",
       "chrX:154805785-154806070                 0                120  ...   \n",
       "chrX:155026470-155027451                 0                431  ...   \n",
       "chrX:155070780-155071828                 0                483  ...   \n",
       "\n",
       "                          contains_active_enhancers  \\\n",
       "peak_id                                               \n",
       "chr1:999901-1000393                               0   \n",
       "chr1:1019192-1019792                              0   \n",
       "chr1:1073233-1074498                              1   \n",
       "chr1:1079363-1080404                              1   \n",
       "chr1:1115778-1116666                              0   \n",
       "...                                             ...   \n",
       "chrX:154719165-154719708                          0   \n",
       "chrX:154805075-154805684                          0   \n",
       "chrX:154805785-154806070                          0   \n",
       "chrX:155026470-155027451                          0   \n",
       "chrX:155070780-155071828                          0   \n",
       "\n",
       "                          contains_repressed_enhancers  highly_variable  \\\n",
       "peak_id                                                                   \n",
       "chr1:999901-1000393                                  0             True   \n",
       "chr1:1019192-1019792                                 1             True   \n",
       "chr1:1073233-1074498                                 0             True   \n",
       "chr1:1079363-1080404                                 0             True   \n",
       "chr1:1115778-1116666                                 1             True   \n",
       "...                                                ...              ...   \n",
       "chrX:154719165-154719708                             0             True   \n",
       "chrX:154805075-154805684                             0             True   \n",
       "chrX:154805785-154806070                             0             True   \n",
       "chrX:155026470-155027451                             0             True   \n",
       "chrX:155070780-155071828                             0             True   \n",
       "\n",
       "                          contains_primed_enhancers_2nd_and_3rd_trimester  \\\n",
       "peak_id                                                                     \n",
       "chr1:999901-1000393                                                     0   \n",
       "chr1:1019192-1019792                                                    1   \n",
       "chr1:1073233-1074498                                                    0   \n",
       "chr1:1079363-1080404                                                    0   \n",
       "chr1:1115778-1116666                                                    0   \n",
       "...                                                                   ...   \n",
       "chrX:154719165-154719708                                                0   \n",
       "chrX:154805075-154805684                                                0   \n",
       "chrX:154805785-154806070                                                0   \n",
       "chrX:155026470-155027451                                                0   \n",
       "chrX:155070780-155071828                                                0   \n",
       "\n",
       "                          contains_active_enhancers_2nd_and_3rd_trimester  \\\n",
       "peak_id                                                                     \n",
       "chr1:999901-1000393                                                     0   \n",
       "chr1:1019192-1019792                                                    0   \n",
       "chr1:1073233-1074498                                                    1   \n",
       "chr1:1079363-1080404                                                    1   \n",
       "chr1:1115778-1116666                                                    0   \n",
       "...                                                                   ...   \n",
       "chrX:154719165-154719708                                                0   \n",
       "chrX:154805075-154805684                                                0   \n",
       "chrX:154805785-154806070                                                0   \n",
       "chrX:155026470-155027451                                                0   \n",
       "chrX:155070780-155071828                                                0   \n",
       "\n",
       "                          contains_repressed_enhancers_2nd_and_3rd_trimester  \\\n",
       "peak_id                                                                        \n",
       "chr1:999901-1000393                                                       0    \n",
       "chr1:1019192-1019792                                                      1    \n",
       "chr1:1073233-1074498                                                      0    \n",
       "chr1:1079363-1080404                                                      0    \n",
       "chr1:1115778-1116666                                                      1    \n",
       "...                                                                     ...    \n",
       "chrX:154719165-154719708                                                  0    \n",
       "chrX:154805075-154805684                                                  0    \n",
       "chrX:154805785-154806070                                                  0    \n",
       "chrX:155026470-155027451                                                  0    \n",
       "chrX:155070780-155071828                                                  0    \n",
       "\n",
       "                           chr      start        end                      peak  \n",
       "peak_id                                                                         \n",
       "chr1:999901-1000393       chr1     999901    1000393       chr1:999901-1000393  \n",
       "chr1:1019192-1019792      chr1    1019192    1019792      chr1:1019192-1019792  \n",
       "chr1:1073233-1074498      chr1    1073233    1074498      chr1:1073233-1074498  \n",
       "chr1:1079363-1080404      chr1    1079363    1080404      chr1:1079363-1080404  \n",
       "chr1:1115778-1116666      chr1    1115778    1116666      chr1:1115778-1116666  \n",
       "...                        ...        ...        ...                       ...  \n",
       "chrX:154719165-154719708  chrX  154719165  154719708  chrX:154719165-154719708  \n",
       "chrX:154805075-154805684  chrX  154805075  154805684  chrX:154805075-154805684  \n",
       "chrX:154805785-154806070  chrX  154805785  154806070  chrX:154805785-154806070  \n",
       "chrX:155026470-155027451  chrX  155026470  155027451  chrX:155026470-155027451  \n",
       "chrX:155070780-155071828  chrX  155070780  155071828  chrX:155070780-155071828  \n",
       "\n",
       "[10640 rows x 26 columns]"
      ]
     },
     "execution_count": 33,
     "metadata": {},
     "output_type": "execute_result"
    }
   ],
   "source": [
    "atac_feature_annot_table"
   ]
  },
  {
   "cell_type": "code",
   "execution_count": 34,
   "id": "funny-delaware",
   "metadata": {},
   "outputs": [
    {
     "data": {
      "text/plain": [
       "AnnData object with n_obs × n_vars = 1605 × 4925\n",
       "    obs: 'n_genes', 'donor', 'tissue_block', 'age', 'sample', 'percent_mito', 'n_counts', 'dataset', 'technique', 'scrublet_score', 'scrublet_cluster_score', 'bh_pval', 'batch', 'is_doublet', 'barcode_sample_copy', 'barcode', 'souporcell_assignment', 'inter_ind_doublet', 'S_score', 'G2M_score', 'phase', 'annotation_prev', 'louvain', 'is_doublet_propagate', 'origin_M_F', 'annotation_prev_or_removed', 'inv_troph_labels_initial', 'louvain_scvi_n_latent_8', 'final_annot_inv_troph', 'louvain_scvi_troph_rest', 'final_annot_all_troph', 'final_annot_inv_troph_corrected', 'final_annot_all_troph_corrected', 'technology', 'celltype', 'celltype_from_mdata'\n",
       "    var: 'gene_ids-0', 'feature_types-0', 'genome-0', 'n_cells-0', 'gene_ids-1', 'feature_types-1', 'genome-1', 'n_cells-1', 'gene_ids-2', 'feature_types-2', 'genome-2', 'n_cells-2', 'gene_ids-3', 'feature_types-3', 'genome-3', 'n_cells-3', 'gene_ids-4', 'feature_types-4', 'genome-4', 'n_cells-4', 'gene_ids-5', 'feature_types-5', 'genome-5', 'n_cells-5', 'gene_ids-6', 'feature_types-6', 'genome-6', 'n_cells-6', 'gene_ids-7', 'feature_types-7', 'genome-7', 'n_cells-7', 'highly_variable', 'means', 'dispersions', 'dispersions_norm', 'mean', 'std'\n",
       "    uns: 'celltype_colors', 'donor_colors', 'final_annot_all_troph_corrected_colors', 'hvg', 'technology_colors'\n",
       "    obsm: 'X_umap_scVI_n_latent_8_sample'"
      ]
     },
     "execution_count": 34,
     "metadata": {},
     "output_type": "execute_result"
    }
   ],
   "source": [
    "# also add gene groups as done in S1 notebook\n",
    "mdata['RNA']"
   ]
  },
  {
   "cell_type": "code",
   "execution_count": 35,
   "id": "spanish-rates",
   "metadata": {},
   "outputs": [],
   "source": [
    "genes = {}"
   ]
  },
  {
   "cell_type": "code",
   "execution_count": 36,
   "id": "clear-aggregate",
   "metadata": {},
   "outputs": [],
   "source": [
    "DEG_comparisons = ['VCT_CCC_vs_VCT','EVT_1_vs_VCT_CCC','EVT_2_vs_EVT_1',\n",
    "                   'eEVT_vs_EVT_2','iEVT_vs_EVT_2','GC_vs_iEVT']\n",
    "\n",
    "for comparison in DEG_comparisons:\n",
    "    ct = comparison.split('_vs_')[0]\n",
    "    genes[ct + '_markers'] = pd.read_csv('/home/jovyan/notebooks/Vento_Lab/MFI_spatial/MFI_sc_sn_Integrated_analysis/new_scVI_analysis/CellPhone_analysis/limma_DEGs/20211123/20211123_' + comparison + '_limma_DEGs.csv',\n",
    "                                   index_col=0)\n",
    "    genes[ct + '_markers'] = genes[ct + '_markers'][(genes[ct + '_markers']['adj.P.Val'] < 0.05) & (genes[ct + '_markers']['logFC'] > 0)]\n",
    "    genes[ct + '_markers'] = list(genes[ct + '_markers'].index)\n",
    "\n",
    "    "
   ]
  },
  {
   "cell_type": "code",
   "execution_count": 37,
   "id": "exempt-highway",
   "metadata": {},
   "outputs": [
    {
     "data": {
      "text/plain": [
       "dict_keys(['VCT_CCC_markers', 'EVT_1_markers', 'EVT_2_markers', 'eEVT_markers', 'iEVT_markers', 'GC_markers'])"
      ]
     },
     "execution_count": 37,
     "metadata": {},
     "output_type": "execute_result"
    }
   ],
   "source": [
    "genes.keys()"
   ]
  },
  {
   "cell_type": "code",
   "execution_count": 38,
   "id": "exterior-constitution",
   "metadata": {},
   "outputs": [],
   "source": [
    "# downloaded from: http://dbemt.bioinfo-minzhao.org/download.cgi, All the 1184 human Epithelial-Mesenchymal Transition genes in dbEMT 2.0.\n",
    "genes['EMT_genes'] = pd.read_csv('./dbemt2.txt', sep='\\t', index_col=1)"
   ]
  },
  {
   "cell_type": "code",
   "execution_count": 39,
   "id": "ancient-today",
   "metadata": {},
   "outputs": [
    {
     "data": {
      "text/html": [
       "<div>\n",
       "<style scoped>\n",
       "    .dataframe tbody tr th:only-of-type {\n",
       "        vertical-align: middle;\n",
       "    }\n",
       "\n",
       "    .dataframe tbody tr th {\n",
       "        vertical-align: top;\n",
       "    }\n",
       "\n",
       "    .dataframe thead th {\n",
       "        text-align: right;\n",
       "    }\n",
       "</style>\n",
       "<table border=\"1\" class=\"dataframe\">\n",
       "  <thead>\n",
       "    <tr style=\"text-align: right;\">\n",
       "      <th></th>\n",
       "      <th>GeneID</th>\n",
       "      <th>Alias</th>\n",
       "      <th>Links</th>\n",
       "      <th>Cytoband</th>\n",
       "      <th>FullName</th>\n",
       "      <th>GeneType</th>\n",
       "    </tr>\n",
       "    <tr>\n",
       "      <th>GeneSymbol</th>\n",
       "      <th></th>\n",
       "      <th></th>\n",
       "      <th></th>\n",
       "      <th></th>\n",
       "      <th></th>\n",
       "      <th></th>\n",
       "    </tr>\n",
       "  </thead>\n",
       "  <tbody>\n",
       "    <tr>\n",
       "      <th>TGFB1</th>\n",
       "      <td>7040</td>\n",
       "      <td>CED|DPD1|LAP|TGFB|TGFbeta</td>\n",
       "      <td>MIM:190180|HGNC:HGNC:11766|Ensembl:ENSG0000010...</td>\n",
       "      <td>19q13.2</td>\n",
       "      <td>transforming growth factor beta 1</td>\n",
       "      <td>protein-coding</td>\n",
       "    </tr>\n",
       "    <tr>\n",
       "      <th>SNAI1</th>\n",
       "      <td>6615</td>\n",
       "      <td>SLUGH2|SNA|SNAH|SNAIL|SNAIL1|dJ710H13.1</td>\n",
       "      <td>MIM:604238|HGNC:HGNC:11128|Ensembl:ENSG0000012...</td>\n",
       "      <td>20q13.13</td>\n",
       "      <td>snail family transcriptional repressor 1</td>\n",
       "      <td>protein-coding</td>\n",
       "    </tr>\n",
       "    <tr>\n",
       "      <th>ZEB1</th>\n",
       "      <td>6935</td>\n",
       "      <td>AREB6|BZP|DELTAEF1|FECD6|NIL2A|PPCD3|TCF8|ZFHE...</td>\n",
       "      <td>MIM:189909|HGNC:HGNC:11642|Ensembl:ENSG0000014...</td>\n",
       "      <td>10p11.22</td>\n",
       "      <td>zinc finger E-box binding homeobox 1</td>\n",
       "      <td>protein-coding</td>\n",
       "    </tr>\n",
       "    <tr>\n",
       "      <th>CDH1</th>\n",
       "      <td>999</td>\n",
       "      <td>Arc-1|CD324|CDHE|ECAD|LCAM|UVO</td>\n",
       "      <td>MIM:192090|HGNC:HGNC:1748|Ensembl:ENSG00000039...</td>\n",
       "      <td>16q22.1</td>\n",
       "      <td>cadherin 1</td>\n",
       "      <td>protein-coding</td>\n",
       "    </tr>\n",
       "    <tr>\n",
       "      <th>TWIST1</th>\n",
       "      <td>7291</td>\n",
       "      <td>ACS3|BPES2|BPES3|CRS|CRS1|CSO|SCS|TWIST|bHLHa38</td>\n",
       "      <td>MIM:601622|HGNC:HGNC:12428|Ensembl:ENSG0000012...</td>\n",
       "      <td>7p21.1</td>\n",
       "      <td>twist family bHLH transcription factor 1</td>\n",
       "      <td>protein-coding</td>\n",
       "    </tr>\n",
       "    <tr>\n",
       "      <th>...</th>\n",
       "      <td>...</td>\n",
       "      <td>...</td>\n",
       "      <td>...</td>\n",
       "      <td>...</td>\n",
       "      <td>...</td>\n",
       "      <td>...</td>\n",
       "    </tr>\n",
       "    <tr>\n",
       "      <th>PDCD6IP</th>\n",
       "      <td>10015</td>\n",
       "      <td>AIP1|ALIX|DRIP4|HP95</td>\n",
       "      <td>MIM:608074|HGNC:HGNC:8766|Ensembl:ENSG00000170...</td>\n",
       "      <td>3p22.3</td>\n",
       "      <td>programmed cell death 6 interacting protein</td>\n",
       "      <td>protein-coding</td>\n",
       "    </tr>\n",
       "    <tr>\n",
       "      <th>HDAC5</th>\n",
       "      <td>10014</td>\n",
       "      <td>HD5|NY-CO-9</td>\n",
       "      <td>MIM:605315|HGNC:HGNC:14068|Ensembl:ENSG0000010...</td>\n",
       "      <td>17q21.31</td>\n",
       "      <td>histone deacetylase 5</td>\n",
       "      <td>protein-coding</td>\n",
       "    </tr>\n",
       "    <tr>\n",
       "      <th>MIR124-2HG</th>\n",
       "      <td>100130155</td>\n",
       "      <td>LINC00966</td>\n",
       "      <td>HGNC:HGNC:48723|Ensembl:ENSG00000254377</td>\n",
       "      <td>8q12.3</td>\n",
       "      <td>MIR124-2 host gene</td>\n",
       "      <td>ncRNA</td>\n",
       "    </tr>\n",
       "    <tr>\n",
       "      <th>MIR875</th>\n",
       "      <td>100126309</td>\n",
       "      <td>MIRN875|hsa-mir-875</td>\n",
       "      <td>HGNC:HGNC:33652|Ensembl:ENSG00000216069|miRBas...</td>\n",
       "      <td>8q22.2</td>\n",
       "      <td>microRNA 875</td>\n",
       "      <td>ncRNA</td>\n",
       "    </tr>\n",
       "    <tr>\n",
       "      <th>MIR888</th>\n",
       "      <td>100126306</td>\n",
       "      <td>MIRN888|hsa-mir-888</td>\n",
       "      <td>HGNC:HGNC:33648|Ensembl:ENSG00000216005|miRBas...</td>\n",
       "      <td>Xq27.3</td>\n",
       "      <td>microRNA 888</td>\n",
       "      <td>ncRNA</td>\n",
       "    </tr>\n",
       "  </tbody>\n",
       "</table>\n",
       "<p>1184 rows × 6 columns</p>\n",
       "</div>"
      ],
      "text/plain": [
       "               GeneID                                              Alias  \\\n",
       "GeneSymbol                                                                 \n",
       "TGFB1            7040                          CED|DPD1|LAP|TGFB|TGFbeta   \n",
       "SNAI1            6615            SLUGH2|SNA|SNAH|SNAIL|SNAIL1|dJ710H13.1   \n",
       "ZEB1             6935  AREB6|BZP|DELTAEF1|FECD6|NIL2A|PPCD3|TCF8|ZFHE...   \n",
       "CDH1              999                     Arc-1|CD324|CDHE|ECAD|LCAM|UVO   \n",
       "TWIST1           7291    ACS3|BPES2|BPES3|CRS|CRS1|CSO|SCS|TWIST|bHLHa38   \n",
       "...               ...                                                ...   \n",
       "PDCD6IP         10015                               AIP1|ALIX|DRIP4|HP95   \n",
       "HDAC5           10014                                        HD5|NY-CO-9   \n",
       "MIR124-2HG  100130155                                          LINC00966   \n",
       "MIR875      100126309                                MIRN875|hsa-mir-875   \n",
       "MIR888      100126306                                MIRN888|hsa-mir-888   \n",
       "\n",
       "                                                        Links  Cytoband  \\\n",
       "GeneSymbol                                                                \n",
       "TGFB1       MIM:190180|HGNC:HGNC:11766|Ensembl:ENSG0000010...   19q13.2   \n",
       "SNAI1       MIM:604238|HGNC:HGNC:11128|Ensembl:ENSG0000012...  20q13.13   \n",
       "ZEB1        MIM:189909|HGNC:HGNC:11642|Ensembl:ENSG0000014...  10p11.22   \n",
       "CDH1        MIM:192090|HGNC:HGNC:1748|Ensembl:ENSG00000039...   16q22.1   \n",
       "TWIST1      MIM:601622|HGNC:HGNC:12428|Ensembl:ENSG0000012...    7p21.1   \n",
       "...                                                       ...       ...   \n",
       "PDCD6IP     MIM:608074|HGNC:HGNC:8766|Ensembl:ENSG00000170...    3p22.3   \n",
       "HDAC5       MIM:605315|HGNC:HGNC:14068|Ensembl:ENSG0000010...  17q21.31   \n",
       "MIR124-2HG            HGNC:HGNC:48723|Ensembl:ENSG00000254377    8q12.3   \n",
       "MIR875      HGNC:HGNC:33652|Ensembl:ENSG00000216069|miRBas...    8q22.2   \n",
       "MIR888      HGNC:HGNC:33648|Ensembl:ENSG00000216005|miRBas...    Xq27.3   \n",
       "\n",
       "                                               FullName        GeneType  \n",
       "GeneSymbol                                                               \n",
       "TGFB1                 transforming growth factor beta 1  protein-coding  \n",
       "SNAI1          snail family transcriptional repressor 1  protein-coding  \n",
       "ZEB1               zinc finger E-box binding homeobox 1  protein-coding  \n",
       "CDH1                                         cadherin 1  protein-coding  \n",
       "TWIST1         twist family bHLH transcription factor 1  protein-coding  \n",
       "...                                                 ...             ...  \n",
       "PDCD6IP     programmed cell death 6 interacting protein  protein-coding  \n",
       "HDAC5                             histone deacetylase 5  protein-coding  \n",
       "MIR124-2HG                           MIR124-2 host gene           ncRNA  \n",
       "MIR875                                     microRNA 875           ncRNA  \n",
       "MIR888                                     microRNA 888           ncRNA  \n",
       "\n",
       "[1184 rows x 6 columns]"
      ]
     },
     "execution_count": 39,
     "metadata": {},
     "output_type": "execute_result"
    }
   ],
   "source": [
    "genes['EMT_genes']"
   ]
  },
  {
   "cell_type": "code",
   "execution_count": 40,
   "id": "knowing-console",
   "metadata": {},
   "outputs": [
    {
     "data": {
      "text/plain": [
       "protein-coding    1011\n",
       "ncRNA              169\n",
       "pseudo               4\n",
       "Name: GeneType, dtype: int64"
      ]
     },
     "execution_count": 40,
     "metadata": {},
     "output_type": "execute_result"
    }
   ],
   "source": [
    "genes['EMT_genes']['GeneType'].value_counts()"
   ]
  },
  {
   "cell_type": "code",
   "execution_count": 40,
   "id": "furnished-region",
   "metadata": {},
   "outputs": [],
   "source": [
    "genes['EMT_genes'] = list(genes['EMT_genes'].index)"
   ]
  },
  {
   "cell_type": "code",
   "execution_count": 41,
   "id": "dominant-guatemala",
   "metadata": {},
   "outputs": [
    {
     "data": {
      "text/plain": [
       "dict_keys(['VCT_CCC_markers', 'EVT_1_markers', 'EVT_2_markers', 'eEVT_markers', 'iEVT_markers', 'GC_markers', 'EMT_genes'])"
      ]
     },
     "execution_count": 41,
     "metadata": {},
     "output_type": "execute_result"
    }
   ],
   "source": [
    "genes.keys()"
   ]
  },
  {
   "cell_type": "code",
   "execution_count": 42,
   "id": "opponent-merchandise",
   "metadata": {},
   "outputs": [
    {
     "name": "stdout",
     "output_type": "stream",
     "text": [
      "VCT_CCC_markers\n",
      "number of genes present in RNA features for MOFA/MEFISTO: 1103\n",
      "EVT_1_markers\n",
      "number of genes present in RNA features for MOFA/MEFISTO: 1194\n",
      "EVT_2_markers\n",
      "number of genes present in RNA features for MOFA/MEFISTO: 775\n",
      "eEVT_markers\n",
      "number of genes present in RNA features for MOFA/MEFISTO: 526\n",
      "iEVT_markers\n",
      "number of genes present in RNA features for MOFA/MEFISTO: 1099\n",
      "GC_markers\n",
      "number of genes present in RNA features for MOFA/MEFISTO: 150\n",
      "EMT_genes\n",
      "number of genes present in RNA features for MOFA/MEFISTO: 325\n"
     ]
    }
   ],
   "source": [
    "for group in list(genes.keys()):\n",
    "    print(group)\n",
    "    print('number of genes present in RNA features for MOFA/MEFISTO:', len(set(genes[group]) & set(mdata['RNA'].var_names)))\n"
   ]
  },
  {
   "cell_type": "code",
   "execution_count": 43,
   "id": "sustainable-brake",
   "metadata": {},
   "outputs": [
    {
     "name": "stdout",
     "output_type": "stream",
     "text": [
      "VCT_CCC_markers\n",
      "EVT_1_markers\n",
      "EVT_2_markers\n",
      "eEVT_markers\n",
      "iEVT_markers\n",
      "GC_markers\n",
      "EMT_genes\n"
     ]
    }
   ],
   "source": [
    "for group in list(genes.keys()):\n",
    "    print(group)\n",
    "    mdata['RNA'].var['is_in_' + group + '_gene_group'] = [1 if gene in list(genes[group]) else 0 for gene in mdata['RNA'].var_names]"
   ]
  },
  {
   "cell_type": "code",
   "execution_count": 44,
   "id": "played-hazard",
   "metadata": {},
   "outputs": [],
   "source": [
    "rna_feature_annot_table = mdata['RNA'].var"
   ]
  },
  {
   "cell_type": "code",
   "execution_count": 45,
   "id": "small-yield",
   "metadata": {},
   "outputs": [],
   "source": [
    "%%R -i rna_feature_annot_table\n",
    "\n",
    "feature_metadata.rna <- rna_feature_annot_table\n"
   ]
  },
  {
   "cell_type": "code",
   "execution_count": 46,
   "id": "worthy-death",
   "metadata": {
    "collapsed": true,
    "jupyter": {
     "outputs_hidden": true
    },
    "tags": []
   },
   "outputs": [
    {
     "name": "stdout",
     "output_type": "stream",
     "text": [
      "peak_width\n",
      "<class 'numpy.int64'>\n",
      "\n",
      "\n",
      "exon\n",
      "<class 'numpy.int64'>\n",
      "\n",
      "\n",
      "gene\n",
      "<class 'numpy.int64'>\n",
      "\n",
      "\n",
      "promoter\n",
      "<class 'numpy.int64'>\n",
      "\n",
      "\n",
      "annotation\n",
      "<class 'str'>\n",
      "\n",
      "\n",
      "gene_name\n",
      "<class 'str'>\n",
      "\n",
      "\n",
      "gene_id\n",
      "<class 'str'>\n",
      "\n",
      "\n",
      "tss_distance\n",
      "<class 'numpy.int64'>\n",
      "\n",
      "\n",
      "ENCODE_blacklist\n",
      "<class 'numpy.int64'>\n",
      "\n",
      "\n",
      "n_cells_by_counts\n",
      "<class 'numpy.int64'>\n",
      "\n",
      "\n",
      "mean_counts\n",
      "<class 'numpy.float64'>\n",
      "\n",
      "\n",
      "log1p_mean_counts\n",
      "<class 'numpy.float64'>\n",
      "\n",
      "\n",
      "pct_dropout_by_counts\n",
      "<class 'numpy.float64'>\n",
      "\n",
      "\n",
      "total_counts\n",
      "<class 'numpy.float64'>\n",
      "\n",
      "\n",
      "log1p_total_counts\n",
      "<class 'numpy.float64'>\n",
      "\n",
      "\n",
      "contains_primed_enhancers\n",
      "<class 'numpy.int64'>\n",
      "\n",
      "\n",
      "contains_active_enhancers\n",
      "<class 'numpy.int64'>\n",
      "\n",
      "\n",
      "contains_repressed_enhancers\n",
      "<class 'numpy.int64'>\n",
      "\n",
      "\n",
      "highly_variable\n",
      "<class 'numpy.bool_'>\n",
      "\n",
      "\n",
      "contains_primed_enhancers_2nd_and_3rd_trimester\n",
      "<class 'numpy.int64'>\n",
      "\n",
      "\n",
      "contains_active_enhancers_2nd_and_3rd_trimester\n",
      "<class 'numpy.int64'>\n",
      "\n",
      "\n",
      "contains_repressed_enhancers_2nd_and_3rd_trimester\n",
      "<class 'numpy.int64'>\n",
      "\n",
      "\n",
      "chr\n",
      "<class 'str'>\n",
      "\n",
      "\n",
      "start\n",
      "<class 'str'>\n",
      "\n",
      "\n",
      "end\n",
      "<class 'str'>\n",
      "\n",
      "\n",
      "peak\n",
      "<class 'str'>\n",
      "\n",
      "\n"
     ]
    }
   ],
   "source": [
    "for col in list(atac_feature_annot_table.columns):\n",
    "    print(col)\n",
    "    print(type(atac_feature_annot_table.loc[:,col][0]))\n",
    "    print('\\n')"
   ]
  },
  {
   "cell_type": "code",
   "execution_count": 47,
   "id": "meaningful-marketing",
   "metadata": {},
   "outputs": [],
   "source": [
    "atac_feature_annot_table['gene_name'] = atac_feature_annot_table['gene_name'].astype(str)\n",
    "atac_feature_annot_table['gene_id'] = atac_feature_annot_table['gene_id'].astype(str)"
   ]
  },
  {
   "cell_type": "code",
   "execution_count": 48,
   "id": "interior-schedule",
   "metadata": {},
   "outputs": [],
   "source": [
    "%%R -i atac_feature_annot_table\n",
    "\n",
    "feature_metadata.atac <- atac_feature_annot_table\n"
   ]
  },
  {
   "cell_type": "raw",
   "id": "greatest-climb",
   "metadata": {},
   "source": [
    "# saving\n",
    "# already done\n",
    "rna_feature_annot_table.to_csv(outdir + '20220210_rna_feature_annot_table.csv')\n",
    "atac_feature_annot_table.to_csv(outdir + '20220210_atac_feature_annot_table.csv')"
   ]
  },
  {
   "cell_type": "code",
   "execution_count": 49,
   "id": "thorough-pixel",
   "metadata": {},
   "outputs": [
    {
     "data": {
      "text/plain": [
       "'/lustre/scratch117/cellgen/team292/aa22/with_Stijn/202111_snATAC-seq_data_MFI/multiome_ATAC_samples_analysis/trophoblast_only_analysis/downstream_analysis_custom_clust/out_MOFA_analysis/'"
      ]
     },
     "execution_count": 49,
     "metadata": {},
     "output_type": "execute_result"
    }
   ],
   "source": [
    "outdir"
   ]
  },
  {
   "cell_type": "code",
   "execution_count": 50,
   "id": "accepted-catholic",
   "metadata": {},
   "outputs": [
    {
     "data": {
      "text/html": [
       "<div>\n",
       "<style scoped>\n",
       "    .dataframe tbody tr th:only-of-type {\n",
       "        vertical-align: middle;\n",
       "    }\n",
       "\n",
       "    .dataframe tbody tr th {\n",
       "        vertical-align: top;\n",
       "    }\n",
       "\n",
       "    .dataframe thead th {\n",
       "        text-align: right;\n",
       "    }\n",
       "</style>\n",
       "<table border=\"1\" class=\"dataframe\">\n",
       "  <thead>\n",
       "    <tr style=\"text-align: right;\">\n",
       "      <th></th>\n",
       "      <th>peak_width</th>\n",
       "      <th>exon</th>\n",
       "      <th>gene</th>\n",
       "      <th>promoter</th>\n",
       "      <th>annotation</th>\n",
       "      <th>gene_name</th>\n",
       "      <th>gene_id</th>\n",
       "      <th>tss_distance</th>\n",
       "      <th>ENCODE_blacklist</th>\n",
       "      <th>n_cells_by_counts</th>\n",
       "      <th>...</th>\n",
       "      <th>contains_active_enhancers</th>\n",
       "      <th>contains_repressed_enhancers</th>\n",
       "      <th>highly_variable</th>\n",
       "      <th>contains_primed_enhancers_2nd_and_3rd_trimester</th>\n",
       "      <th>contains_active_enhancers_2nd_and_3rd_trimester</th>\n",
       "      <th>contains_repressed_enhancers_2nd_and_3rd_trimester</th>\n",
       "      <th>chr</th>\n",
       "      <th>start</th>\n",
       "      <th>end</th>\n",
       "      <th>peak</th>\n",
       "    </tr>\n",
       "    <tr>\n",
       "      <th>peak_id</th>\n",
       "      <th></th>\n",
       "      <th></th>\n",
       "      <th></th>\n",
       "      <th></th>\n",
       "      <th></th>\n",
       "      <th></th>\n",
       "      <th></th>\n",
       "      <th></th>\n",
       "      <th></th>\n",
       "      <th></th>\n",
       "      <th></th>\n",
       "      <th></th>\n",
       "      <th></th>\n",
       "      <th></th>\n",
       "      <th></th>\n",
       "      <th></th>\n",
       "      <th></th>\n",
       "      <th></th>\n",
       "      <th></th>\n",
       "      <th></th>\n",
       "      <th></th>\n",
       "    </tr>\n",
       "  </thead>\n",
       "  <tbody>\n",
       "    <tr>\n",
       "      <th>chr1:999901-1000393</th>\n",
       "      <td>493</td>\n",
       "      <td>1</td>\n",
       "      <td>1</td>\n",
       "      <td>1</td>\n",
       "      <td>exon</td>\n",
       "      <td>ISG15</td>\n",
       "      <td>ENSG00000187608</td>\n",
       "      <td>0</td>\n",
       "      <td>0</td>\n",
       "      <td>246</td>\n",
       "      <td>...</td>\n",
       "      <td>0</td>\n",
       "      <td>0</td>\n",
       "      <td>True</td>\n",
       "      <td>0</td>\n",
       "      <td>0</td>\n",
       "      <td>0</td>\n",
       "      <td>chr1</td>\n",
       "      <td>999901</td>\n",
       "      <td>1000393</td>\n",
       "      <td>chr1:999901-1000393</td>\n",
       "    </tr>\n",
       "    <tr>\n",
       "      <th>chr1:1019192-1019792</th>\n",
       "      <td>601</td>\n",
       "      <td>0</td>\n",
       "      <td>0</td>\n",
       "      <td>1</td>\n",
       "      <td>promoter</td>\n",
       "      <td>AGRN</td>\n",
       "      <td>ENSG00000188157</td>\n",
       "      <td>330</td>\n",
       "      <td>0</td>\n",
       "      <td>300</td>\n",
       "      <td>...</td>\n",
       "      <td>0</td>\n",
       "      <td>1</td>\n",
       "      <td>True</td>\n",
       "      <td>1</td>\n",
       "      <td>0</td>\n",
       "      <td>1</td>\n",
       "      <td>chr1</td>\n",
       "      <td>1019192</td>\n",
       "      <td>1019792</td>\n",
       "      <td>chr1:1019192-1019792</td>\n",
       "    </tr>\n",
       "    <tr>\n",
       "      <th>chr1:1073233-1074498</th>\n",
       "      <td>1266</td>\n",
       "      <td>1</td>\n",
       "      <td>1</td>\n",
       "      <td>1</td>\n",
       "      <td>exon</td>\n",
       "      <td>RNF223</td>\n",
       "      <td>ENSG00000237330</td>\n",
       "      <td>0</td>\n",
       "      <td>0</td>\n",
       "      <td>692</td>\n",
       "      <td>...</td>\n",
       "      <td>1</td>\n",
       "      <td>0</td>\n",
       "      <td>True</td>\n",
       "      <td>0</td>\n",
       "      <td>1</td>\n",
       "      <td>0</td>\n",
       "      <td>chr1</td>\n",
       "      <td>1073233</td>\n",
       "      <td>1074498</td>\n",
       "      <td>chr1:1073233-1074498</td>\n",
       "    </tr>\n",
       "    <tr>\n",
       "      <th>chr1:1079363-1080404</th>\n",
       "      <td>1042</td>\n",
       "      <td>0</td>\n",
       "      <td>0</td>\n",
       "      <td>0</td>\n",
       "      <td>intergenic</td>\n",
       "      <td>nan</td>\n",
       "      <td>nan</td>\n",
       "      <td>3667</td>\n",
       "      <td>0</td>\n",
       "      <td>537</td>\n",
       "      <td>...</td>\n",
       "      <td>1</td>\n",
       "      <td>0</td>\n",
       "      <td>True</td>\n",
       "      <td>0</td>\n",
       "      <td>1</td>\n",
       "      <td>0</td>\n",
       "      <td>chr1</td>\n",
       "      <td>1079363</td>\n",
       "      <td>1080404</td>\n",
       "      <td>chr1:1079363-1080404</td>\n",
       "    </tr>\n",
       "    <tr>\n",
       "      <th>chr1:1115778-1116666</th>\n",
       "      <td>889</td>\n",
       "      <td>1</td>\n",
       "      <td>1</td>\n",
       "      <td>1</td>\n",
       "      <td>exon</td>\n",
       "      <td>C1orf159</td>\n",
       "      <td>ENSG00000131591</td>\n",
       "      <td>0</td>\n",
       "      <td>0</td>\n",
       "      <td>481</td>\n",
       "      <td>...</td>\n",
       "      <td>0</td>\n",
       "      <td>1</td>\n",
       "      <td>True</td>\n",
       "      <td>0</td>\n",
       "      <td>0</td>\n",
       "      <td>1</td>\n",
       "      <td>chr1</td>\n",
       "      <td>1115778</td>\n",
       "      <td>1116666</td>\n",
       "      <td>chr1:1115778-1116666</td>\n",
       "    </tr>\n",
       "    <tr>\n",
       "      <th>...</th>\n",
       "      <td>...</td>\n",
       "      <td>...</td>\n",
       "      <td>...</td>\n",
       "      <td>...</td>\n",
       "      <td>...</td>\n",
       "      <td>...</td>\n",
       "      <td>...</td>\n",
       "      <td>...</td>\n",
       "      <td>...</td>\n",
       "      <td>...</td>\n",
       "      <td>...</td>\n",
       "      <td>...</td>\n",
       "      <td>...</td>\n",
       "      <td>...</td>\n",
       "      <td>...</td>\n",
       "      <td>...</td>\n",
       "      <td>...</td>\n",
       "      <td>...</td>\n",
       "      <td>...</td>\n",
       "      <td>...</td>\n",
       "      <td>...</td>\n",
       "    </tr>\n",
       "    <tr>\n",
       "      <th>chrX:154719165-154719708</th>\n",
       "      <td>544</td>\n",
       "      <td>0</td>\n",
       "      <td>1</td>\n",
       "      <td>0</td>\n",
       "      <td>intron</td>\n",
       "      <td>GAB3</td>\n",
       "      <td>ENSG00000160219</td>\n",
       "      <td>23072</td>\n",
       "      <td>0</td>\n",
       "      <td>140</td>\n",
       "      <td>...</td>\n",
       "      <td>0</td>\n",
       "      <td>0</td>\n",
       "      <td>True</td>\n",
       "      <td>0</td>\n",
       "      <td>0</td>\n",
       "      <td>0</td>\n",
       "      <td>chrX</td>\n",
       "      <td>154719165</td>\n",
       "      <td>154719708</td>\n",
       "      <td>chrX:154719165-154719708</td>\n",
       "    </tr>\n",
       "    <tr>\n",
       "      <th>chrX:154805075-154805684</th>\n",
       "      <td>610</td>\n",
       "      <td>1</td>\n",
       "      <td>1</td>\n",
       "      <td>1</td>\n",
       "      <td>exon</td>\n",
       "      <td>MPP1</td>\n",
       "      <td>ENSG00000130830</td>\n",
       "      <td>0</td>\n",
       "      <td>0</td>\n",
       "      <td>220</td>\n",
       "      <td>...</td>\n",
       "      <td>0</td>\n",
       "      <td>0</td>\n",
       "      <td>True</td>\n",
       "      <td>0</td>\n",
       "      <td>0</td>\n",
       "      <td>0</td>\n",
       "      <td>chrX</td>\n",
       "      <td>154805075</td>\n",
       "      <td>154805684</td>\n",
       "      <td>chrX:154805075-154805684</td>\n",
       "    </tr>\n",
       "    <tr>\n",
       "      <th>chrX:154805785-154806070</th>\n",
       "      <td>286</td>\n",
       "      <td>0</td>\n",
       "      <td>1</td>\n",
       "      <td>1</td>\n",
       "      <td>promoter</td>\n",
       "      <td>MPP1</td>\n",
       "      <td>ENSG00000130830</td>\n",
       "      <td>257</td>\n",
       "      <td>0</td>\n",
       "      <td>120</td>\n",
       "      <td>...</td>\n",
       "      <td>0</td>\n",
       "      <td>0</td>\n",
       "      <td>True</td>\n",
       "      <td>0</td>\n",
       "      <td>0</td>\n",
       "      <td>0</td>\n",
       "      <td>chrX</td>\n",
       "      <td>154805785</td>\n",
       "      <td>154806070</td>\n",
       "      <td>chrX:154805785-154806070</td>\n",
       "    </tr>\n",
       "    <tr>\n",
       "      <th>chrX:155026470-155027451</th>\n",
       "      <td>982</td>\n",
       "      <td>1</td>\n",
       "      <td>1</td>\n",
       "      <td>1</td>\n",
       "      <td>exon</td>\n",
       "      <td>FUNDC2</td>\n",
       "      <td>ENSG00000165775</td>\n",
       "      <td>0</td>\n",
       "      <td>0</td>\n",
       "      <td>431</td>\n",
       "      <td>...</td>\n",
       "      <td>0</td>\n",
       "      <td>0</td>\n",
       "      <td>True</td>\n",
       "      <td>0</td>\n",
       "      <td>0</td>\n",
       "      <td>0</td>\n",
       "      <td>chrX</td>\n",
       "      <td>155026470</td>\n",
       "      <td>155027451</td>\n",
       "      <td>chrX:155026470-155027451</td>\n",
       "    </tr>\n",
       "    <tr>\n",
       "      <th>chrX:155070780-155071828</th>\n",
       "      <td>1049</td>\n",
       "      <td>1</td>\n",
       "      <td>1</td>\n",
       "      <td>1</td>\n",
       "      <td>exon</td>\n",
       "      <td>BRCC3</td>\n",
       "      <td>ENSG00000185515</td>\n",
       "      <td>0</td>\n",
       "      <td>0</td>\n",
       "      <td>483</td>\n",
       "      <td>...</td>\n",
       "      <td>0</td>\n",
       "      <td>0</td>\n",
       "      <td>True</td>\n",
       "      <td>0</td>\n",
       "      <td>0</td>\n",
       "      <td>0</td>\n",
       "      <td>chrX</td>\n",
       "      <td>155070780</td>\n",
       "      <td>155071828</td>\n",
       "      <td>chrX:155070780-155071828</td>\n",
       "    </tr>\n",
       "  </tbody>\n",
       "</table>\n",
       "<p>10640 rows × 26 columns</p>\n",
       "</div>"
      ],
      "text/plain": [
       "                          peak_width  exon  gene  promoter  annotation  \\\n",
       "peak_id                                                                  \n",
       "chr1:999901-1000393              493     1     1         1        exon   \n",
       "chr1:1019192-1019792             601     0     0         1    promoter   \n",
       "chr1:1073233-1074498            1266     1     1         1        exon   \n",
       "chr1:1079363-1080404            1042     0     0         0  intergenic   \n",
       "chr1:1115778-1116666             889     1     1         1        exon   \n",
       "...                              ...   ...   ...       ...         ...   \n",
       "chrX:154719165-154719708         544     0     1         0      intron   \n",
       "chrX:154805075-154805684         610     1     1         1        exon   \n",
       "chrX:154805785-154806070         286     0     1         1    promoter   \n",
       "chrX:155026470-155027451         982     1     1         1        exon   \n",
       "chrX:155070780-155071828        1049     1     1         1        exon   \n",
       "\n",
       "                         gene_name          gene_id  tss_distance  \\\n",
       "peak_id                                                             \n",
       "chr1:999901-1000393          ISG15  ENSG00000187608             0   \n",
       "chr1:1019192-1019792          AGRN  ENSG00000188157           330   \n",
       "chr1:1073233-1074498        RNF223  ENSG00000237330             0   \n",
       "chr1:1079363-1080404           nan              nan          3667   \n",
       "chr1:1115778-1116666      C1orf159  ENSG00000131591             0   \n",
       "...                            ...              ...           ...   \n",
       "chrX:154719165-154719708      GAB3  ENSG00000160219         23072   \n",
       "chrX:154805075-154805684      MPP1  ENSG00000130830             0   \n",
       "chrX:154805785-154806070      MPP1  ENSG00000130830           257   \n",
       "chrX:155026470-155027451    FUNDC2  ENSG00000165775             0   \n",
       "chrX:155070780-155071828     BRCC3  ENSG00000185515             0   \n",
       "\n",
       "                          ENCODE_blacklist  n_cells_by_counts  ...  \\\n",
       "peak_id                                                        ...   \n",
       "chr1:999901-1000393                      0                246  ...   \n",
       "chr1:1019192-1019792                     0                300  ...   \n",
       "chr1:1073233-1074498                     0                692  ...   \n",
       "chr1:1079363-1080404                     0                537  ...   \n",
       "chr1:1115778-1116666                     0                481  ...   \n",
       "...                                    ...                ...  ...   \n",
       "chrX:154719165-154719708                 0                140  ...   \n",
       "chrX:154805075-154805684                 0                220  ...   \n",
       "chrX:154805785-154806070                 0                120  ...   \n",
       "chrX:155026470-155027451                 0                431  ...   \n",
       "chrX:155070780-155071828                 0                483  ...   \n",
       "\n",
       "                          contains_active_enhancers  \\\n",
       "peak_id                                               \n",
       "chr1:999901-1000393                               0   \n",
       "chr1:1019192-1019792                              0   \n",
       "chr1:1073233-1074498                              1   \n",
       "chr1:1079363-1080404                              1   \n",
       "chr1:1115778-1116666                              0   \n",
       "...                                             ...   \n",
       "chrX:154719165-154719708                          0   \n",
       "chrX:154805075-154805684                          0   \n",
       "chrX:154805785-154806070                          0   \n",
       "chrX:155026470-155027451                          0   \n",
       "chrX:155070780-155071828                          0   \n",
       "\n",
       "                          contains_repressed_enhancers  highly_variable  \\\n",
       "peak_id                                                                   \n",
       "chr1:999901-1000393                                  0             True   \n",
       "chr1:1019192-1019792                                 1             True   \n",
       "chr1:1073233-1074498                                 0             True   \n",
       "chr1:1079363-1080404                                 0             True   \n",
       "chr1:1115778-1116666                                 1             True   \n",
       "...                                                ...              ...   \n",
       "chrX:154719165-154719708                             0             True   \n",
       "chrX:154805075-154805684                             0             True   \n",
       "chrX:154805785-154806070                             0             True   \n",
       "chrX:155026470-155027451                             0             True   \n",
       "chrX:155070780-155071828                             0             True   \n",
       "\n",
       "                          contains_primed_enhancers_2nd_and_3rd_trimester  \\\n",
       "peak_id                                                                     \n",
       "chr1:999901-1000393                                                     0   \n",
       "chr1:1019192-1019792                                                    1   \n",
       "chr1:1073233-1074498                                                    0   \n",
       "chr1:1079363-1080404                                                    0   \n",
       "chr1:1115778-1116666                                                    0   \n",
       "...                                                                   ...   \n",
       "chrX:154719165-154719708                                                0   \n",
       "chrX:154805075-154805684                                                0   \n",
       "chrX:154805785-154806070                                                0   \n",
       "chrX:155026470-155027451                                                0   \n",
       "chrX:155070780-155071828                                                0   \n",
       "\n",
       "                          contains_active_enhancers_2nd_and_3rd_trimester  \\\n",
       "peak_id                                                                     \n",
       "chr1:999901-1000393                                                     0   \n",
       "chr1:1019192-1019792                                                    0   \n",
       "chr1:1073233-1074498                                                    1   \n",
       "chr1:1079363-1080404                                                    1   \n",
       "chr1:1115778-1116666                                                    0   \n",
       "...                                                                   ...   \n",
       "chrX:154719165-154719708                                                0   \n",
       "chrX:154805075-154805684                                                0   \n",
       "chrX:154805785-154806070                                                0   \n",
       "chrX:155026470-155027451                                                0   \n",
       "chrX:155070780-155071828                                                0   \n",
       "\n",
       "                          contains_repressed_enhancers_2nd_and_3rd_trimester  \\\n",
       "peak_id                                                                        \n",
       "chr1:999901-1000393                                                       0    \n",
       "chr1:1019192-1019792                                                      1    \n",
       "chr1:1073233-1074498                                                      0    \n",
       "chr1:1079363-1080404                                                      0    \n",
       "chr1:1115778-1116666                                                      1    \n",
       "...                                                                     ...    \n",
       "chrX:154719165-154719708                                                  0    \n",
       "chrX:154805075-154805684                                                  0    \n",
       "chrX:154805785-154806070                                                  0    \n",
       "chrX:155026470-155027451                                                  0    \n",
       "chrX:155070780-155071828                                                  0    \n",
       "\n",
       "                           chr      start        end                      peak  \n",
       "peak_id                                                                         \n",
       "chr1:999901-1000393       chr1     999901    1000393       chr1:999901-1000393  \n",
       "chr1:1019192-1019792      chr1    1019192    1019792      chr1:1019192-1019792  \n",
       "chr1:1073233-1074498      chr1    1073233    1074498      chr1:1073233-1074498  \n",
       "chr1:1079363-1080404      chr1    1079363    1080404      chr1:1079363-1080404  \n",
       "chr1:1115778-1116666      chr1    1115778    1116666      chr1:1115778-1116666  \n",
       "...                        ...        ...        ...                       ...  \n",
       "chrX:154719165-154719708  chrX  154719165  154719708  chrX:154719165-154719708  \n",
       "chrX:154805075-154805684  chrX  154805075  154805684  chrX:154805075-154805684  \n",
       "chrX:154805785-154806070  chrX  154805785  154806070  chrX:154805785-154806070  \n",
       "chrX:155026470-155027451  chrX  155026470  155027451  chrX:155026470-155027451  \n",
       "chrX:155070780-155071828  chrX  155070780  155071828  chrX:155070780-155071828  \n",
       "\n",
       "[10640 rows x 26 columns]"
      ]
     },
     "execution_count": 50,
     "metadata": {},
     "output_type": "execute_result"
    }
   ],
   "source": [
    "atac_feature_annot_table"
   ]
  },
  {
   "cell_type": "code",
   "execution_count": 51,
   "id": "advised-daisy",
   "metadata": {},
   "outputs": [
    {
     "name": "stdout",
     "output_type": "stream",
     "text": [
      "tmp_table\n",
      " chr1 chr10 chr11 chr12 chr13 chr14 chr15 chr16 chr17 chr18 chr19  chr2 chr20 \n",
      " 1032   428   564   554   241   360   350   458   598   186   733   792   269 \n",
      "chr21 chr22  chr3  chr4  chr5  chr6  chr7  chr8  chr9  chrX \n",
      "  114   285   582   376   496   662   532   410   490   128 \n"
     ]
    }
   ],
   "source": [
    "%%R\n",
    "\n",
    "tmp_table <- feature_metadata.atac$chr\n",
    "print(table(tmp_table))"
   ]
  },
  {
   "cell_type": "raw",
   "id": "caroline-situation",
   "metadata": {},
   "source": [
    "%%R\n",
    "\n",
    "# filter out non-classical chromosomes\n",
    "\n",
    "feature_metadata.atac <- feature_metadata.atac[feature_metadata.atac$chr %in% c('chr1', 'chr2', 'chr3', 'chr4', 'chr5','chr6','chr7','chr8','chr9','chr10','chr11','chr12',\n",
    "                                                                              'chr13','chr14','chr15','chr16','chr17','chr18','chr19','chr20','chr21','chr22','chrX','chrY'), ]"
   ]
  },
  {
   "cell_type": "code",
   "execution_count": 52,
   "id": "bound-compound",
   "metadata": {
    "tags": []
   },
   "outputs": [
    {
     "name": "stdout",
     "output_type": "stream",
     "text": [
      "                     peak_width exon gene promoter annotation gene_name\n",
      "chr1:999901-1000393         493    1    1        1       exon     ISG15\n",
      "chr1:1019192-1019792        601    0    0        1   promoter      AGRN\n",
      "chr1:1073233-1074498       1266    1    1        1       exon    RNF223\n",
      "chr1:1079363-1080404       1042    0    0        0 intergenic       nan\n",
      "chr1:1115778-1116666        889    1    1        1       exon  C1orf159\n",
      "chr1:1122924-1123361        438    0    0        0 intergenic       nan\n",
      "                             gene_id tss_distance ENCODE_blacklist\n",
      "chr1:999901-1000393  ENSG00000187608            0                0\n",
      "chr1:1019192-1019792 ENSG00000188157          330                0\n",
      "chr1:1073233-1074498 ENSG00000237330            0                0\n",
      "chr1:1079363-1080404             nan         3667                0\n",
      "chr1:1115778-1116666 ENSG00000131591            0                0\n",
      "chr1:1122924-1123361             nan         6562                0\n",
      "                     n_cells_by_counts mean_counts log1p_mean_counts\n",
      "chr1:999901-1000393                246  0.03288331        0.03235422\n",
      "chr1:1019192-1019792               300  0.04010159        0.03931839\n",
      "chr1:1073233-1074498               692  0.09250100        0.08846957\n",
      "chr1:1079363-1080404               537  0.07178184        0.06932254\n",
      "chr1:1115778-1116666               481  0.06429622        0.06231375\n",
      "chr1:1122924-1123361               212  0.02833846        0.02794435\n",
      "                     pct_dropout_by_counts total_counts log1p_total_counts\n",
      "chr1:999901-1000393               96.71167          246           5.509388\n",
      "chr1:1019192-1019792              95.98984          300           5.707110\n",
      "chr1:1073233-1074498              90.74990          692           6.541030\n",
      "chr1:1079363-1080404              92.82182          537           6.287858\n",
      "chr1:1115778-1116666              93.57038          481           6.177944\n",
      "chr1:1122924-1123361              97.16615          212           5.361292\n",
      "                     contains_primed_enhancers contains_active_enhancers\n",
      "chr1:999901-1000393                          0                         0\n",
      "chr1:1019192-1019792                         1                         0\n",
      "chr1:1073233-1074498                         0                         1\n",
      "chr1:1079363-1080404                         0                         1\n",
      "chr1:1115778-1116666                         0                         0\n",
      "chr1:1122924-1123361                         0                         0\n",
      "                     contains_repressed_enhancers highly_variable\n",
      "chr1:999901-1000393                             0               1\n",
      "chr1:1019192-1019792                            1               1\n",
      "chr1:1073233-1074498                            0               1\n",
      "chr1:1079363-1080404                            0               1\n",
      "chr1:1115778-1116666                            1               1\n",
      "chr1:1122924-1123361                            1               1\n",
      "                     contains_primed_enhancers_2nd_and_3rd_trimester\n",
      "chr1:999901-1000393                                                0\n",
      "chr1:1019192-1019792                                               1\n",
      "chr1:1073233-1074498                                               0\n",
      "chr1:1079363-1080404                                               0\n",
      "chr1:1115778-1116666                                               0\n",
      "chr1:1122924-1123361                                               0\n",
      "                     contains_active_enhancers_2nd_and_3rd_trimester\n",
      "chr1:999901-1000393                                                0\n",
      "chr1:1019192-1019792                                               0\n",
      "chr1:1073233-1074498                                               1\n",
      "chr1:1079363-1080404                                               1\n",
      "chr1:1115778-1116666                                               0\n",
      "chr1:1122924-1123361                                               0\n",
      "                     contains_repressed_enhancers_2nd_and_3rd_trimester  chr\n",
      "chr1:999901-1000393                                                   0 chr1\n",
      "chr1:1019192-1019792                                                  1 chr1\n",
      "chr1:1073233-1074498                                                  0 chr1\n",
      "chr1:1079363-1080404                                                  0 chr1\n",
      "chr1:1115778-1116666                                                  1 chr1\n",
      "chr1:1122924-1123361                                                  1 chr1\n",
      "                       start     end                 peak\n",
      "chr1:999901-1000393   999901 1000393  chr1:999901-1000393\n",
      "chr1:1019192-1019792 1019192 1019792 chr1:1019192-1019792\n",
      "chr1:1073233-1074498 1073233 1074498 chr1:1073233-1074498\n",
      "chr1:1079363-1080404 1079363 1080404 chr1:1079363-1080404\n",
      "chr1:1115778-1116666 1115778 1116666 chr1:1115778-1116666\n",
      "chr1:1122924-1123361 1122924 1123361 chr1:1122924-1123361\n"
     ]
    }
   ],
   "source": [
    "%%R\n",
    "\n",
    "head(feature_metadata.atac)"
   ]
  },
  {
   "cell_type": "code",
   "execution_count": 53,
   "id": "extreme-syntax",
   "metadata": {},
   "outputs": [],
   "source": [
    "%%R\n",
    "\n",
    "# Create GRanges\n",
    "peaks.granges <- feature_metadata.atac %>%\n",
    ".[,c(\"chr\",\"start\",\"end\",\"peak\")] %>%\n",
    "makeGRangesFromDataFrame(keep.extra.columns = TRUE, ignore.strand = TRUE)\n",
    "\n",
    "# Scan motifs throughout the DNA sequence of each peak and create a binary matrix of motif-peak presence.\n",
    "motif.matrix <- CreateMotifMatrix(\n",
    "    features = peaks.granges,\n",
    "    pwm = pfm,\n",
    "    genome = 'hg38',\n",
    "    use.counts = FALSE\n",
    "  ) %>% as.matrix\n",
    "  \n",
    "  # AddChromatinAssay to the Seurat object\n",
    "  multiome_Seurat@assays[['ATAC_all']] <- CreateChromatinAssay(\n",
    "    multiome_Seurat@assays$ATAC@counts[peaks.granges$peak,], \n",
    "    ranges = peaks.granges,\n",
    "    motifs = CreateMotifObject(motif.matrix, pfm)\n",
    "  )\n"
   ]
  },
  {
   "cell_type": "code",
   "execution_count": 54,
   "id": "wireless-shock",
   "metadata": {
    "tags": []
   },
   "outputs": [
    {
     "name": "stdout",
     "output_type": "stream",
     "text": [
      "[1] 10640   633\n"
     ]
    }
   ],
   "source": [
    "%%R\n",
    "\n",
    "dim(motif.matrix)"
   ]
  },
  {
   "cell_type": "code",
   "execution_count": null,
   "id": "objective-mapping",
   "metadata": {},
   "outputs": [],
   "source": []
  },
  {
   "cell_type": "code",
   "execution_count": 55,
   "id": "commercial-psychology",
   "metadata": {},
   "outputs": [],
   "source": [
    "%%R\n",
    "\n",
    "# read in MEFISTO model\n",
    "\n",
    "MOFA_model <- load_model(\"/lustre/scratch117/cellgen/team292/aa22/with_Stijn/202111_snATAC-seq_data_MFI/multiome_ATAC_samples_analysis/trophoblast_only_analysis/downstream_analysis_custom_clust/out_MOFA_analysis/models/20220209_MEFISTO_using_de_novo_umap_with_VCT_rna_atac_multiome_only_with_1_atac_view_and_bin_tfidf_atac_values_all_views_scaled_only_common_barcodes_with_RNA_based_annotations.hdf5\")\n"
   ]
  },
  {
   "cell_type": "code",
   "execution_count": 56,
   "id": "introductory-thanksgiving",
   "metadata": {},
   "outputs": [
    {
     "name": "stdout",
     "output_type": "stream",
     "text": [
      "Trained MEFISTO with the following characteristics: \n",
      " Number of views: 2 \n",
      " Views names: RNA ATAC_all \n",
      " Number of features (per view): 4925 10640 \n",
      " Number of groups: 1 \n",
      " Groups names: group1 \n",
      " Number of samples (per group): 1605 \n",
      " Number of covariates per sample: 2 \n",
      " Number of factors: 10 \n",
      "\n"
     ]
    }
   ],
   "source": [
    "%%R\n",
    "\n",
    "MOFA_model"
   ]
  },
  {
   "cell_type": "code",
   "execution_count": 57,
   "id": "legislative-founder",
   "metadata": {},
   "outputs": [
    {
     "data": {
      "image/png": "[encoded data removed]"
     },
     "metadata": {},
     "output_type": "display_data"
    }
   ],
   "source": [
    "%%R\n",
    "\n",
    "plot_factor_cor(MOFA_model)"
   ]
  },
  {
   "cell_type": "code",
   "execution_count": 58,
   "id": "infinite-speech",
   "metadata": {},
   "outputs": [],
   "source": [
    "%%R\n",
    "\n",
    "require(ggplot2)\n",
    "\n",
    "#pdf(file = \"./figures/20220131_MEFISTO_plot_variance_explained.pdf\",   # The directory you want to save the file in\n",
    "#    width = 4, # The width of the plot in inches\n",
    "#    height = 4) # The height of the plot in inches\n",
    "\n",
    "\n",
    "plot_variance_explained(MOFA_model, \n",
    "                        #max_r2 = 4\n",
    "                        #plot_total = T\n",
    "                       )\n",
    "\n",
    "#ggr2 <- p[[1]] + theme(axis.text.x = element_text(angle = 90))\n",
    "#ggr2_total <- p[[2]] + theme(axis.text.x = element_text(angle = 90))\n",
    "\n",
    "ggsave(filename = paste0('./figures/20220213_MEFISTO_plot_variance_explained.pdf'), dpi = 300, width = 4.5, height = 6.5)"
   ]
  },
  {
   "cell_type": "code",
   "execution_count": 57,
   "id": "raising-intellectual",
   "metadata": {},
   "outputs": [
    {
     "data": {
      "image/png": "[encoded data removed]"
     },
     "metadata": {},
     "output_type": "display_data"
    }
   ],
   "source": [
    "%%R\n",
    "\n",
    "plot_variance_explained(MOFA_model, \n",
    "                        #max_r2 = 4\n",
    "                        #plot_total = T\n",
    "                       )"
   ]
  },
  {
   "cell_type": "code",
   "execution_count": 81,
   "id": "emerging-slovakia",
   "metadata": {},
   "outputs": [
    {
     "data": {
      "image/png": "[encoded data removed]"
     },
     "metadata": {},
     "output_type": "display_data"
    }
   ],
   "source": [
    "%%R\n",
    "\n",
    "plot_variance_explained(MOFA_model, plot_total = TRUE)[[2]]\n",
    "\n",
    "#ggsave(filename = paste0('./figures/20220131_MEFISTO_plot_variance_explained_total.pdf'), dpi = 300, width = 4.5, height = 6.5)"
   ]
  },
  {
   "cell_type": "code",
   "execution_count": 82,
   "id": "bearing-andrew",
   "metadata": {},
   "outputs": [
    {
     "data": {
      "image/png": "[encoded data removed]"
     },
     "metadata": {},
     "output_type": "display_data"
    }
   ],
   "source": [
    "%%R\n",
    "\n",
    "plot_variance_explained(MOFA_model, plot_total = TRUE)[[2]]\n"
   ]
  },
  {
   "cell_type": "code",
   "execution_count": 83,
   "id": "israeli-productivity",
   "metadata": {},
   "outputs": [
    {
     "name": "stderr",
     "output_type": "stream",
     "text": [
      "R[write to console]: Error in correlate_factors_with_covariates(MOFA_model, covariates = c(\"nFeature_RNA\",  : \n",
      "  all(covariates %in% colnames(metadata)) is not TRUE\n",
      "\n",
      "R[write to console]: In addition: \n",
      "R[write to console]: There were 11 warnings (use warnings() to see them)\n",
      "R[write to console]: \n",
      "\n"
     ]
    },
    {
     "name": "stdout",
     "output_type": "stream",
     "text": [
      "\n",
      "Error in correlate_factors_with_covariates(MOFA_model, covariates = c(\"nFeature_RNA\",  : \n",
      "  all(covariates %in% colnames(metadata)) is not TRUE\n"
     ]
    }
   ],
   "source": [
    "%%R\n",
    "\n",
    "correlate_factors_with_covariates(MOFA_model, \n",
    "  covariates = c(\"nFeature_RNA\",\"nFeature_ATAC\")\n",
    "  )"
   ]
  },
  {
   "cell_type": "code",
   "execution_count": 84,
   "id": "departmental-chosen",
   "metadata": {},
   "outputs": [
    {
     "name": "stderr",
     "output_type": "stream",
     "text": [
      "R[write to console]: Error in .set_groupby(object, group_by) : \n",
      "  'group_by' was specified but it was not recognised, please read the documentation\n",
      "\n"
     ]
    },
    {
     "name": "stdout",
     "output_type": "stream",
     "text": [
      "\n",
      "Error in .set_groupby(object, group_by) : \n",
      "  'group_by' was specified but it was not recognised, please read the documentation\n"
     ]
    }
   ],
   "source": [
    "%%R\n",
    "\n",
    "plot_factor(MOFA_model, factors=1, group_by = \"celltype\", \n",
    "            #color_by=\"broad_celltype\"\n",
    "           ) +\n",
    "  theme(\n",
    "    axis.text.x = element_text(color=\"black\", angle=40, vjust=1, hjust=1)\n",
    "  )"
   ]
  },
  {
   "cell_type": "markdown",
   "id": "finite-paint",
   "metadata": {},
   "source": [
    "### Gene set enrichment analysis using either GO annotations or my gene groups"
   ]
  },
  {
   "cell_type": "code",
   "execution_count": 59,
   "id": "approved-finnish",
   "metadata": {},
   "outputs": [],
   "source": [
    "%%R\n",
    "\n",
    "matrix.please<-function(x) {\n",
    "    m<-as.matrix(x[,-1])\n",
    "    rownames(m)<-x[[1]]\n",
    "    m\n",
    "}"
   ]
  },
  {
   "cell_type": "code",
   "execution_count": 60,
   "id": "unknown-opera",
   "metadata": {
    "tags": []
   },
   "outputs": [
    {
     "name": "stderr",
     "output_type": "stream",
     "text": [
      "R[write to console]: Aggregate function missing, defaulting to 'length'\n",
      "\n"
     ]
    }
   ],
   "source": [
    "%%R\n",
    "\n",
    "msgidb.matrix <- msigdbr(\n",
    "  species = \"Homo sapiens\",\n",
    "  category = \"C5\", \n",
    "  subcategory = \"BP\"\n",
    "  ) %>% as.data.table %>% .[,id:=1] %>%\n",
    "  dcast(gs_name~gene_symbol, value.var=\"id\", fill=0) %>% matrix.please"
   ]
  },
  {
   "cell_type": "code",
   "execution_count": 61,
   "id": "powerful-valve",
   "metadata": {},
   "outputs": [
    {
     "name": "stdout",
     "output_type": "stream",
     "text": [
      "[1]  7481 17949\n"
     ]
    }
   ],
   "source": [
    "%%R\n",
    "\n",
    "dim(msgidb.matrix)"
   ]
  },
  {
   "cell_type": "raw",
   "id": "arbitrary-blair",
   "metadata": {},
   "source": [
    "%%R\n",
    "\n",
    "mat_num <- matrix(as.numeric(msgidb.matrix),    # Convert to numeric matrix\n",
    "                  ncol = ncol(msgidb.matrix))"
   ]
  },
  {
   "cell_type": "markdown",
   "id": "supposed-objective",
   "metadata": {},
   "source": [
    "### Run GSEA on GO matrix"
   ]
  },
  {
   "cell_type": "code",
   "execution_count": 62,
   "id": "physical-princess",
   "metadata": {},
   "outputs": [
    {
     "name": "stdout",
     "output_type": "stream",
     "text": [
      "[1] \"matrix\" \"array\" \n"
     ]
    }
   ],
   "source": [
    "%%R\n",
    "\n",
    "class(msgidb.matrix)"
   ]
  },
  {
   "cell_type": "code",
   "execution_count": 63,
   "id": "opposed-lincoln",
   "metadata": {
    "tags": []
   },
   "outputs": [
    {
     "name": "stdout",
     "output_type": "stream",
     "text": [
      "[1]  7481 17949\n"
     ]
    }
   ],
   "source": [
    "%%R\n",
    "\n",
    "dim(msgidb.matrix)"
   ]
  },
  {
   "cell_type": "code",
   "execution_count": 64,
   "id": "falling-faculty",
   "metadata": {},
   "outputs": [
    {
     "name": "stdout",
     "output_type": "stream",
     "text": [
      "[1] TRUE\n"
     ]
    }
   ],
   "source": [
    "%%R\n",
    "\n",
    "!(is(msgidb.matrix, \"matrix\") & all(msgidb.matrix %in% \n",
    "        c(0, 1)))"
   ]
  },
  {
   "cell_type": "code",
   "execution_count": 65,
   "id": "african-velvet",
   "metadata": {},
   "outputs": [
    {
     "name": "stdout",
     "output_type": "stream",
     "text": [
      "[1]  7481 17949\n"
     ]
    }
   ],
   "source": [
    "%%R\n",
    "\n",
    "dim(msgidb.matrix)"
   ]
  },
  {
   "cell_type": "code",
   "execution_count": 66,
   "id": "scientific-character",
   "metadata": {},
   "outputs": [],
   "source": [
    "%%R\n",
    "\n",
    "df <- msigdbr(\n",
    "  species = \"Homo sapiens\",\n",
    "  category = \"C5\", \n",
    "  subcategory = \"BP\"\n",
    ") %>% as.data.table %>% \n",
    "  select(gs_name, gene_symbol) \n",
    "df <- df[!duplicated(df)]\n",
    "df$id <- 1\n",
    "msgidb.matrix <- dcast(df, gs_name~gene_symbol, value.var=\"id\", fill=0) %>% \n",
    "  matrix.please"
   ]
  },
  {
   "cell_type": "code",
   "execution_count": 67,
   "id": "hispanic-chicago",
   "metadata": {},
   "outputs": [
    {
     "name": "stderr",
     "output_type": "stream",
     "text": [
      "R[write to console]: Intersecting features names in the model and the gene set annotation results in a total of 3343 features.\n",
      "\n",
      "R[write to console]: \n",
      "Running feature set Enrichment Analysis with the following options...\n",
      "View: RNA \n",
      "Number of feature sets: 2512 \n",
      "Set statistic: mean.diff \n",
      "Statistical test: parametric \n",
      "\n",
      "\n",
      "R[write to console]: Subsetting weights with positive sign\n",
      "\n",
      "R[write to console]: \n",
      "\n",
      "\n",
      "R[write to console]: Intersecting features names in the model and the gene set annotation results in a total of 3343 features.\n",
      "\n",
      "R[write to console]: \n",
      "Running feature set Enrichment Analysis with the following options...\n",
      "View: RNA \n",
      "Number of feature sets: 2512 \n",
      "Set statistic: mean.diff \n",
      "Statistical test: parametric \n",
      "\n",
      "\n",
      "R[write to console]: Subsetting weights with negative sign\n",
      "\n",
      "R[write to console]: \n",
      "\n",
      "\n"
     ]
    }
   ],
   "source": [
    "%%R\n",
    "\n",
    "# GSEA on positive weights\n",
    "gsea.positive <- run_enrichment(MOFA_model, \n",
    "  feature.sets = msgidb.matrix, \n",
    "  view = \"RNA\",\n",
    "  sign = \"positive\"\n",
    ")\n",
    "\n",
    "# GSEA on negative weights\n",
    "gsea.negative <- run_enrichment(MOFA_model, \n",
    "  feature.sets = msgidb.matrix, \n",
    "  view = \"RNA\",\n",
    "  sign = \"negative\"\n",
    ")"
   ]
  },
  {
   "cell_type": "markdown",
   "id": "suspected-corpus",
   "metadata": {},
   "source": [
    "### Visualise GSEA results"
   ]
  },
  {
   "cell_type": "code",
   "execution_count": 94,
   "id": "arbitrary-retreat",
   "metadata": {},
   "outputs": [
    {
     "data": {
      "image/png": "[encoded data removed]"
     },
     "metadata": {},
     "output_type": "display_data"
    }
   ],
   "source": [
    "%%R\n",
    "\n",
    "plot_enrichment(gsea.positive, factor = 1, max.pathways = 30)"
   ]
  },
  {
   "cell_type": "code",
   "execution_count": 71,
   "id": "desperate-letter",
   "metadata": {},
   "outputs": [
    {
     "data": {
      "image/png": "[encoded data removed]"
     },
     "metadata": {},
     "output_type": "display_data"
    }
   ],
   "source": [
    "%%R\n",
    "\n",
    "plot_enrichment(gsea.positive, factor = 2, max.pathways = 5)"
   ]
  },
  {
   "cell_type": "code",
   "execution_count": 72,
   "id": "seventh-facing",
   "metadata": {},
   "outputs": [],
   "source": [
    "%%R\n",
    "\n",
    "plot_enrichment(gsea.positive, factor = 2, max.pathways = 5)\n",
    "ggsave(filename = paste0('./figures/enrichment_plots/20220213_MEFISTO_GO_enrichment_with_VCT_factor_2_positive.pdf'), dpi = 300, width = 6, height = 2)"
   ]
  },
  {
   "cell_type": "code",
   "execution_count": 74,
   "id": "authentic-channels",
   "metadata": {
    "tags": []
   },
   "outputs": [
    {
     "data": {
      "image/png": "[encoded data removed]"
     },
     "metadata": {},
     "output_type": "display_data"
    }
   ],
   "source": [
    "%%R\n",
    "\n",
    "plot_enrichment(gsea.negative, factor = 2, max.pathways = 10)"
   ]
  },
  {
   "cell_type": "code",
   "execution_count": 75,
   "id": "automatic-plenty",
   "metadata": {},
   "outputs": [],
   "source": [
    "%%R\n",
    "\n",
    "plot_enrichment(gsea.positive, factor = 2, max.pathways = 10)\n",
    "ggsave(filename = paste0('./figures/enrichment_plots/20220213_MEFISTO_GO_enrichment_with_VCT_factor_2_negative.pdf'), dpi = 300, width = 6, height = 3)"
   ]
  },
  {
   "cell_type": "code",
   "execution_count": null,
   "id": "active-maria",
   "metadata": {},
   "outputs": [],
   "source": []
  },
  {
   "cell_type": "code",
   "execution_count": null,
   "id": "mysterious-shaft",
   "metadata": {},
   "outputs": [],
   "source": [
    "%%R\n",
    "\n",
    "#plot_enrichment(gsea.positive, factor = 1, max.pathways = 30)\n",
    "\n",
    "#ggsave(filename = paste0('./figures/enrichment_plots/20220131_MEFISTO_GO_enrichment_factor_1.pdf'), dpi = 300, width = 10, height = 6.5)"
   ]
  },
  {
   "cell_type": "code",
   "execution_count": null,
   "id": "operating-revolution",
   "metadata": {},
   "outputs": [],
   "source": [
    "%%R\n",
    "\n",
    "#plot_enrichment(gsea.positive, factor = 1, max.pathways = 30)\n",
    "\n",
    "#ggsave(filename = paste0('./figures/enrichment_plots/20220131_MEFISTO_GO_enrichment_factor_1.pdf'), dpi = 300, width = 10, height = 6.5)"
   ]
  },
  {
   "cell_type": "code",
   "execution_count": 97,
   "id": "pregnant-synthetic",
   "metadata": {},
   "outputs": [
    {
     "name": "stdout",
     "output_type": "stream",
     "text": [
      "NULL\n"
     ]
    }
   ],
   "source": [
    "%%R\n",
    "\n",
    "#plot_enrichment(gsea.positive, factor = 2, max.pathways = 30)\n",
    "\n",
    "#ggsave(filename = paste0('./figures/enrichment_plots/20220131_MEFISTO_GO_enrichment_factor_2.pdf'), dpi = 300, width = 10, height = 6.5)"
   ]
  },
  {
   "cell_type": "code",
   "execution_count": 98,
   "id": "signal-tackle",
   "metadata": {},
   "outputs": [
    {
     "data": {
      "image/png": "[encoded data removed]"
     },
     "metadata": {},
     "output_type": "display_data"
    }
   ],
   "source": [
    "%%R\n",
    "\n",
    "plot_enrichment(gsea.positive, factor = 3, max.pathways = 30)"
   ]
  },
  {
   "cell_type": "code",
   "execution_count": 99,
   "id": "digital-entrepreneur",
   "metadata": {},
   "outputs": [
    {
     "name": "stdout",
     "output_type": "stream",
     "text": [
      "NULL\n"
     ]
    }
   ],
   "source": [
    "%%R\n",
    "\n",
    "#plot_enrichment(gsea.positive, factor = 3, max.pathways = 30)\n",
    "\n",
    "#ggsave(filename = paste0('./figures/enrichment_plots/20220131_MEFISTO_GO_enrichment_factor_3.pdf'), dpi = 300, width = 10, height = 6.5)"
   ]
  },
  {
   "cell_type": "code",
   "execution_count": 76,
   "id": "expanded-parameter",
   "metadata": {},
   "outputs": [
    {
     "data": {
      "image/png": "[encoded data removed]"
     },
     "metadata": {},
     "output_type": "display_data"
    }
   ],
   "source": [
    "%%R\n",
    "\n",
    "plot_enrichment(gsea.positive, factor = 4, max.pathways = 10)"
   ]
  },
  {
   "cell_type": "code",
   "execution_count": 77,
   "id": "graphic-sugar",
   "metadata": {},
   "outputs": [],
   "source": [
    "%%R\n",
    "\n",
    "plot_enrichment(gsea.positive, factor = 4, max.pathways = 10)\n",
    "\n",
    "ggsave(filename = paste0('./figures/enrichment_plots/20220213_MEFISTO_GO_enrichment_with_VCT_factor_4_positive.pdf'), dpi = 300, width = 8, height = 3)"
   ]
  },
  {
   "cell_type": "code",
   "execution_count": 78,
   "id": "universal-career",
   "metadata": {},
   "outputs": [
    {
     "data": {
      "image/png": "[encoded data removed]"
     },
     "metadata": {},
     "output_type": "display_data"
    }
   ],
   "source": [
    "%%R\n",
    "\n",
    "plot_enrichment(gsea.negative, factor = 4, max.pathways = 10)"
   ]
  },
  {
   "cell_type": "code",
   "execution_count": 79,
   "id": "compound-investigation",
   "metadata": {},
   "outputs": [],
   "source": [
    "%%R\n",
    "\n",
    "plot_enrichment(gsea.positive, factor = 4, max.pathways = 10)\n",
    "\n",
    "ggsave(filename = paste0('./figures/enrichment_plots/20220213_MEFISTO_GO_enrichment_with_VCT_factor_4_negative.pdf'), dpi = 300, width = 8, height = 3)"
   ]
  },
  {
   "cell_type": "code",
   "execution_count": null,
   "id": "mexican-findings",
   "metadata": {},
   "outputs": [],
   "source": []
  },
  {
   "cell_type": "code",
   "execution_count": null,
   "id": "adult-hotel",
   "metadata": {},
   "outputs": [],
   "source": []
  },
  {
   "cell_type": "code",
   "execution_count": null,
   "id": "swiss-contrary",
   "metadata": {},
   "outputs": [],
   "source": []
  },
  {
   "cell_type": "code",
   "execution_count": 102,
   "id": "optional-harvey",
   "metadata": {},
   "outputs": [
    {
     "data": {
      "image/png": "[encoded data removed]"
     },
     "metadata": {},
     "output_type": "display_data"
    }
   ],
   "source": [
    "%%R\n",
    "\n",
    "plot_enrichment(gsea.positive, factor = 5, max.pathways = 30)"
   ]
  },
  {
   "cell_type": "code",
   "execution_count": 115,
   "id": "amazing-overall",
   "metadata": {},
   "outputs": [
    {
     "data": {
      "image/png": "[encoded data removed]"
     },
     "metadata": {},
     "output_type": "display_data"
    }
   ],
   "source": [
    "%%R\n",
    "\n",
    "plot_enrichment(gsea.positive, factor = 6, max.pathways = 10)"
   ]
  },
  {
   "cell_type": "code",
   "execution_count": 80,
   "id": "entire-birmingham",
   "metadata": {},
   "outputs": [
    {
     "data": {
      "image/png": "[encoded data removed]"
     },
     "metadata": {},
     "output_type": "display_data"
    }
   ],
   "source": [
    "%%R\n",
    "\n",
    "plot_enrichment(gsea.negative, factor = 6, max.pathways = 10)"
   ]
  },
  {
   "cell_type": "code",
   "execution_count": 81,
   "id": "backed-seafood",
   "metadata": {},
   "outputs": [],
   "source": [
    "%%R\n",
    "\n",
    "plot_enrichment(gsea.negative, factor = 6, max.pathways = 10)\n",
    "\n",
    "ggsave(filename = paste0('./figures/enrichment_plots/20220213_MEFISTO_GO_enrichment_with_VCT_factor_6_negative.pdf'), dpi = 300, width = 8, height = 3)"
   ]
  },
  {
   "cell_type": "code",
   "execution_count": null,
   "id": "isolated-talent",
   "metadata": {},
   "outputs": [],
   "source": []
  },
  {
   "cell_type": "code",
   "execution_count": null,
   "id": "fatal-sector",
   "metadata": {},
   "outputs": [],
   "source": []
  },
  {
   "cell_type": "code",
   "execution_count": null,
   "id": "norwegian-theme",
   "metadata": {},
   "outputs": [],
   "source": []
  },
  {
   "cell_type": "code",
   "execution_count": 104,
   "id": "imperial-webster",
   "metadata": {},
   "outputs": [
    {
     "data": {
      "image/png": "[encoded data removed]"
     },
     "metadata": {},
     "output_type": "display_data"
    }
   ],
   "source": [
    "%%R\n",
    "\n",
    "plot_enrichment(gsea.positive, factor = 7, max.pathways = 30)"
   ]
  },
  {
   "cell_type": "code",
   "execution_count": 105,
   "id": "shaped-marina",
   "metadata": {},
   "outputs": [
    {
     "name": "stdout",
     "output_type": "stream",
     "text": [
      "NULL\n"
     ]
    }
   ],
   "source": [
    "%%R\n",
    "\n",
    "#plot_enrichment(gsea.positive, factor = 7, max.pathways = 30)\n",
    "\n",
    "#ggsave(filename = paste0('./figures/enrichment_plots/20220131_MEFISTO_GO_enrichment_factor_7.pdf'), dpi = 300, width = 10, height = 6.5)"
   ]
  },
  {
   "cell_type": "code",
   "execution_count": 106,
   "id": "minimal-plumbing",
   "metadata": {},
   "outputs": [
    {
     "data": {
      "image/png": "[encoded data removed]"
     },
     "metadata": {},
     "output_type": "display_data"
    }
   ],
   "source": [
    "%%R\n",
    "\n",
    "plot_enrichment(gsea.positive, factor = 8, max.pathways = 30)"
   ]
  },
  {
   "cell_type": "code",
   "execution_count": 107,
   "id": "liable-tennis",
   "metadata": {},
   "outputs": [
    {
     "name": "stdout",
     "output_type": "stream",
     "text": [
      "NULL\n"
     ]
    }
   ],
   "source": [
    "%%R\n",
    "\n",
    "#plot_enrichment(gsea.positive, factor = 8, max.pathways = 30)\n",
    "\n",
    "#ggsave(filename = paste0('./figures/enrichment_plots/20220131_MEFISTO_GO_enrichment_factor_8.pdf'), dpi = 300, width = 10, height = 6.5)"
   ]
  },
  {
   "cell_type": "code",
   "execution_count": 108,
   "id": "concerned-herald",
   "metadata": {},
   "outputs": [
    {
     "data": {
      "image/png": "[encoded data removed]"
     },
     "metadata": {},
     "output_type": "display_data"
    }
   ],
   "source": [
    "%%R\n",
    "\n",
    "plot_enrichment(gsea.positive, factor = 9, max.pathways = 30)"
   ]
  },
  {
   "cell_type": "code",
   "execution_count": 82,
   "id": "christian-snapshot",
   "metadata": {},
   "outputs": [
    {
     "data": {
      "image/png": "[encoded data removed]"
     },
     "metadata": {},
     "output_type": "display_data"
    }
   ],
   "source": [
    "%%R\n",
    "\n",
    "plot_enrichment(gsea.positive, factor = 10, max.pathways = 10)"
   ]
  },
  {
   "cell_type": "code",
   "execution_count": 83,
   "id": "honey-uganda",
   "metadata": {},
   "outputs": [],
   "source": [
    "%%R\n",
    "\n",
    "plot_enrichment(gsea.positive, factor = 10, max.pathways = 10)\n",
    "\n",
    "ggsave(filename = paste0('./figures/enrichment_plots/20220213_MEFISTO_GO_enrichment_with_VCT_factor_10_positive.pdf'), dpi = 300, width = 8, height = 3)"
   ]
  },
  {
   "cell_type": "code",
   "execution_count": null,
   "id": "alert-meeting",
   "metadata": {},
   "outputs": [],
   "source": []
  },
  {
   "cell_type": "code",
   "execution_count": 84,
   "id": "personal-australia",
   "metadata": {
    "tags": []
   },
   "outputs": [
    {
     "name": "stdout",
     "output_type": "stream",
     "text": [
      "[1]   45 4925\n"
     ]
    }
   ],
   "source": [
    "%%R\n",
    "\n",
    "# also use my gene groups to test from feature_metadata.rna\n",
    "\n",
    "feature_metadata.rna <- t(feature_metadata.rna)\n",
    "\n",
    "dim(feature_metadata.rna)"
   ]
  },
  {
   "cell_type": "code",
   "execution_count": 85,
   "id": "english-selling",
   "metadata": {
    "tags": []
   },
   "outputs": [
    {
     "name": "stdout",
     "output_type": "stream",
     "text": [
      " [1] \"gene_ids-0\"                       \"feature_types-0\"                 \n",
      " [3] \"genome-0\"                         \"n_cells-0\"                       \n",
      " [5] \"gene_ids-1\"                       \"feature_types-1\"                 \n",
      " [7] \"genome-1\"                         \"n_cells-1\"                       \n",
      " [9] \"gene_ids-2\"                       \"feature_types-2\"                 \n",
      "[11] \"genome-2\"                         \"n_cells-2\"                       \n",
      "[13] \"gene_ids-3\"                       \"feature_types-3\"                 \n",
      "[15] \"genome-3\"                         \"n_cells-3\"                       \n",
      "[17] \"gene_ids-4\"                       \"feature_types-4\"                 \n",
      "[19] \"genome-4\"                         \"n_cells-4\"                       \n",
      "[21] \"gene_ids-5\"                       \"feature_types-5\"                 \n",
      "[23] \"genome-5\"                         \"n_cells-5\"                       \n",
      "[25] \"gene_ids-6\"                       \"feature_types-6\"                 \n",
      "[27] \"genome-6\"                         \"n_cells-6\"                       \n",
      "[29] \"gene_ids-7\"                       \"feature_types-7\"                 \n",
      "[31] \"genome-7\"                         \"n_cells-7\"                       \n",
      "[33] \"highly_variable\"                  \"means\"                           \n",
      "[35] \"dispersions\"                      \"dispersions_norm\"                \n",
      "[37] \"mean\"                             \"std\"                             \n",
      "[39] \"is_in_VCT_CCC_markers_gene_group\" \"is_in_EVT_1_markers_gene_group\"  \n",
      "[41] \"is_in_EVT_2_markers_gene_group\"   \"is_in_eEVT_markers_gene_group\"   \n",
      "[43] \"is_in_iEVT_markers_gene_group\"    \"is_in_GC_markers_gene_group\"     \n",
      "[45] \"is_in_EMT_genes_gene_group\"      \n"
     ]
    }
   ],
   "source": [
    "%%R\n",
    "\n",
    "rownames(feature_metadata.rna)"
   ]
  },
  {
   "cell_type": "code",
   "execution_count": 86,
   "id": "enclosed-second",
   "metadata": {
    "tags": []
   },
   "outputs": [],
   "source": [
    "%%R\n",
    "\n",
    "# subset to only columns with info about whether genes belong to a certain group or not\n",
    "rows_subset <- c(\"is_in_eEVT_markers_gene_group\",\n",
    "                 \"is_in_GC_markers_gene_group\",\n",
    "                 \"is_in_EVT_1_markers_gene_group\",\n",
    "                 \"is_in_EVT_2_markers_gene_group\",\n",
    "                 \"is_in_VCT_CCC_markers_gene_group\",\n",
    "                 \"is_in_EMT_genes_gene_group\",\n",
    "                 \"is_in_iEVT_markers_gene_group\")\n",
    "feature_metadata.rna.to.use <- feature_metadata.rna[rows_subset,]"
   ]
  },
  {
   "cell_type": "code",
   "execution_count": 87,
   "id": "directed-guest",
   "metadata": {},
   "outputs": [
    {
     "name": "stdout",
     "output_type": "stream",
     "text": [
      "[1]    7 4925\n"
     ]
    }
   ],
   "source": [
    "%%R\n",
    "\n",
    "dim(feature_metadata.rna.to.use)"
   ]
  },
  {
   "cell_type": "code",
   "execution_count": 88,
   "id": "hazardous-kitchen",
   "metadata": {},
   "outputs": [
    {
     "name": "stdout",
     "output_type": "stream",
     "text": [
      "[1]    7 4925\n"
     ]
    }
   ],
   "source": [
    "%%R\n",
    "\n",
    "dim(feature_metadata.rna.to.use)"
   ]
  },
  {
   "cell_type": "code",
   "execution_count": 89,
   "id": "interesting-fellowship",
   "metadata": {},
   "outputs": [],
   "source": [
    "%%R\n",
    "\n",
    "# making this numeric\n",
    "\n",
    "feature_metadata.rna.to.use.num <- matrix(as.numeric(feature_metadata.rna.to.use),    # Convert to numeric matrix\n",
    "                  ncol = ncol(feature_metadata.rna.to.use),\n",
    "                                         #colnames = colnames(feature_metadata.rna.to.use),\n",
    "                                         #rownames = rownames(feature_metadata.rna.to.use)\n",
    "                                         )\n",
    "colnames(feature_metadata.rna.to.use.num) <- colnames(feature_metadata.rna.to.use)\n",
    "rownames(feature_metadata.rna.to.use.num) <- rownames(feature_metadata.rna.to.use)"
   ]
  },
  {
   "cell_type": "code",
   "execution_count": 90,
   "id": "hydraulic-forwarding",
   "metadata": {
    "tags": []
   },
   "outputs": [
    {
     "name": "stdout",
     "output_type": "stream",
     "text": [
      "[1]    7 4925\n"
     ]
    }
   ],
   "source": [
    "%%R\n",
    "\n",
    "dim(feature_metadata.rna.to.use)"
   ]
  },
  {
   "cell_type": "code",
   "execution_count": 91,
   "id": "suffering-fusion",
   "metadata": {
    "tags": []
   },
   "outputs": [
    {
     "name": "stdout",
     "output_type": "stream",
     "text": [
      "[1]    7 4925\n"
     ]
    }
   ],
   "source": [
    "%%R\n",
    "\n",
    "dim(feature_metadata.rna.to.use.num)"
   ]
  },
  {
   "cell_type": "raw",
   "id": "quarterly-beijing",
   "metadata": {
    "jupyter": {
     "outputs_hidden": true
    },
    "tags": []
   },
   "source": [
    "%%R\n",
    "\n",
    "head(feature_metadata.rna.to.use.num, n=1)"
   ]
  },
  {
   "cell_type": "code",
   "execution_count": 92,
   "id": "silent-interference",
   "metadata": {
    "collapsed": true,
    "jupyter": {
     "outputs_hidden": true
    },
    "tags": []
   },
   "outputs": [
    {
     "name": "stderr",
     "output_type": "stream",
     "text": [
      "R[write to console]: Intersecting features names in the model and the gene set annotation results in a total of 4925 features.\n",
      "\n",
      "R[write to console]: \n",
      "Running feature set Enrichment Analysis with the following options...\n",
      "View: RNA \n",
      "Number of feature sets: 7 \n",
      "Set statistic: mean.diff \n",
      "Statistical test: parametric \n",
      "\n",
      "\n",
      "R[write to console]: Subsetting weights with positive sign\n",
      "\n",
      "R[write to console]: \n",
      "\n",
      "\n",
      "R[write to console]: Intersecting features names in the model and the gene set annotation results in a total of 4925 features.\n",
      "\n",
      "R[write to console]: \n",
      "Running feature set Enrichment Analysis with the following options...\n",
      "View: RNA \n",
      "Number of feature sets: 7 \n",
      "Set statistic: mean.diff \n",
      "Statistical test: parametric \n",
      "\n",
      "\n",
      "R[write to console]: Subsetting weights with negative sign\n",
      "\n",
      "R[write to console]: \n",
      "\n",
      "\n"
     ]
    }
   ],
   "source": [
    "%%R\n",
    "\n",
    "# gene group enrichment on positive weights\n",
    "gene_groups.positive <- run_enrichment(MOFA_model, \n",
    "  feature.sets = feature_metadata.rna.to.use.num, \n",
    "  view = \"RNA\",\n",
    "  sign = \"positive\"\n",
    ")\n",
    "\n",
    "# gene group enrichment on negative weights ?\n",
    "gene_groups.negative <- run_enrichment(MOFA_model, \n",
    "  feature.sets = feature_metadata.rna.to.use.num, \n",
    "  view = \"RNA\",\n",
    "  sign = \"negative\"\n",
    ")"
   ]
  },
  {
   "cell_type": "code",
   "execution_count": null,
   "id": "particular-sympathy",
   "metadata": {},
   "outputs": [],
   "source": []
  },
  {
   "cell_type": "code",
   "execution_count": 119,
   "id": "varied-native",
   "metadata": {},
   "outputs": [
    {
     "data": {
      "image/png": "[encoded data removed]"
     },
     "metadata": {},
     "output_type": "display_data"
    }
   ],
   "source": [
    "%%R\n",
    "\n",
    "# visualise\n",
    "\n",
    "plot_enrichment(gene_groups.positive, factor = 1, max.pathways = 15)"
   ]
  },
  {
   "cell_type": "code",
   "execution_count": 120,
   "id": "personal-authorization",
   "metadata": {},
   "outputs": [
    {
     "name": "stdout",
     "output_type": "stream",
     "text": [
      "NULL\n"
     ]
    }
   ],
   "source": [
    "%%R\n",
    "\n",
    "# visualise\n",
    "\n",
    "#plot_enrichment(gene_groups.positive, factor = 1, max.pathways = 15)\n",
    "\n",
    "#ggsave(filename = paste0('./figures/enrichment_plots/20220131_MEFISTO_gene_groups_enrichment_factor_1.pdf'), dpi = 300, width = 4.5, height = 1)"
   ]
  },
  {
   "cell_type": "code",
   "execution_count": 121,
   "id": "bored-effort",
   "metadata": {},
   "outputs": [
    {
     "data": {
      "image/png": "[encoded data removed]"
     },
     "metadata": {},
     "output_type": "display_data"
    }
   ],
   "source": [
    "%%R\n",
    "\n",
    "# visualise\n",
    "\n",
    "plot_enrichment(gene_groups.positive, factor = 2, max.pathways = 15)"
   ]
  },
  {
   "cell_type": "code",
   "execution_count": 122,
   "id": "limiting-geometry",
   "metadata": {},
   "outputs": [
    {
     "data": {
      "image/png": "[encoded data removed]"
     },
     "metadata": {},
     "output_type": "display_data"
    }
   ],
   "source": [
    "%%R\n",
    "\n",
    "# visualise\n",
    "\n",
    "plot_enrichment(gene_groups.positive, factor = 3, max.pathways = 15)"
   ]
  },
  {
   "cell_type": "code",
   "execution_count": 123,
   "id": "reliable-foundation",
   "metadata": {},
   "outputs": [
    {
     "name": "stdout",
     "output_type": "stream",
     "text": [
      "NULL\n"
     ]
    }
   ],
   "source": [
    "%%R\n",
    "\n",
    "# visualise\n",
    "\n",
    "#plot_enrichment(gene_groups.positive, factor = 3, max.pathways = 15)\n",
    "\n",
    "#ggsave(filename = paste0('./figures/enrichment_plots/20220131_MEFISTO_gene_groups_enrichment_factor_3.pdf'), dpi = 300, width = 4.5, height = 2)"
   ]
  },
  {
   "cell_type": "code",
   "execution_count": 124,
   "id": "decreased-neighborhood",
   "metadata": {},
   "outputs": [
    {
     "data": {
      "image/png": "[encoded data removed]"
     },
     "metadata": {},
     "output_type": "display_data"
    }
   ],
   "source": [
    "%%R\n",
    "\n",
    "# visualise\n",
    "\n",
    "plot_enrichment(gene_groups.positive, factor = 4, max.pathways = 15)"
   ]
  },
  {
   "cell_type": "code",
   "execution_count": 125,
   "id": "improving-approval",
   "metadata": {},
   "outputs": [
    {
     "name": "stdout",
     "output_type": "stream",
     "text": [
      "NULL\n"
     ]
    }
   ],
   "source": [
    "%%R\n",
    "\n",
    "# visualise\n",
    "\n",
    "#plot_enrichment(gene_groups.positive, factor = 4, max.pathways = 15)\n",
    "\n",
    "#ggsave(filename = paste0('./figures/enrichment_plots/20220131_MEFISTO_gene_groups_enrichment_factor_4.pdf'), dpi = 300, width = 4.5, height = 2)"
   ]
  },
  {
   "cell_type": "code",
   "execution_count": 126,
   "id": "related-european",
   "metadata": {},
   "outputs": [
    {
     "data": {
      "image/png": "[encoded data removed]"
     },
     "metadata": {},
     "output_type": "display_data"
    }
   ],
   "source": [
    "%%R\n",
    "\n",
    "# visualise\n",
    "\n",
    "plot_enrichment(gene_groups.positive, factor = 5, max.pathways = 15)"
   ]
  },
  {
   "cell_type": "code",
   "execution_count": 127,
   "id": "distinguished-heating",
   "metadata": {},
   "outputs": [
    {
     "data": {
      "image/png": "[encoded data removed]"
     },
     "metadata": {},
     "output_type": "display_data"
    }
   ],
   "source": [
    "%%R\n",
    "\n",
    "# visualise\n",
    "\n",
    "plot_enrichment(gene_groups.positive, factor = 6, max.pathways = 15)"
   ]
  },
  {
   "cell_type": "code",
   "execution_count": 128,
   "id": "material-rhythm",
   "metadata": {},
   "outputs": [
    {
     "data": {
      "image/png": "[encoded data removed]"
     },
     "metadata": {},
     "output_type": "display_data"
    }
   ],
   "source": [
    "%%R\n",
    "\n",
    "# visualise\n",
    "\n",
    "plot_enrichment(gene_groups.positive, factor = 7, max.pathways = 15)"
   ]
  },
  {
   "cell_type": "code",
   "execution_count": 129,
   "id": "french-system",
   "metadata": {},
   "outputs": [
    {
     "name": "stdout",
     "output_type": "stream",
     "text": [
      "NULL\n"
     ]
    }
   ],
   "source": [
    "%%R\n",
    "\n",
    "# visualise\n",
    "\n",
    "#plot_enrichment(gene_groups.positive, factor = 7, max.pathways = 15)\n",
    "\n",
    "#ggsave(filename = paste0('./figures/enrichment_plots/20220131_MEFISTO_gene_groups_enrichment_factor_7.pdf'), dpi = 300, width = 4.5, height = 2)"
   ]
  },
  {
   "cell_type": "code",
   "execution_count": 130,
   "id": "related-limit",
   "metadata": {},
   "outputs": [
    {
     "data": {
      "image/png": "[encoded data removed]"
     },
     "metadata": {},
     "output_type": "display_data"
    }
   ],
   "source": [
    "%%R\n",
    "\n",
    "# visualise\n",
    "\n",
    "plot_enrichment(gene_groups.positive, factor = 8, max.pathways = 15)"
   ]
  },
  {
   "cell_type": "code",
   "execution_count": 131,
   "id": "imperial-europe",
   "metadata": {},
   "outputs": [
    {
     "name": "stdout",
     "output_type": "stream",
     "text": [
      "NULL\n"
     ]
    }
   ],
   "source": [
    "%%R\n",
    "\n",
    "# visualise\n",
    "\n",
    "#plot_enrichment(gene_groups.positive, factor = 8, max.pathways = 15)\n",
    "\n",
    "#ggsave(filename = paste0('./figures/enrichment_plots/20220131_MEFISTO_gene_groups_enrichment_factor_8.pdf'), dpi = 300, width = 4.5, height = 3)"
   ]
  },
  {
   "cell_type": "code",
   "execution_count": 132,
   "id": "olive-hebrew",
   "metadata": {},
   "outputs": [
    {
     "data": {
      "image/png": "[encoded data removed]"
     },
     "metadata": {},
     "output_type": "display_data"
    }
   ],
   "source": [
    "%%R\n",
    "\n",
    "# visualise\n",
    "\n",
    "plot_enrichment(gene_groups.positive, factor = 9, max.pathways = 15)"
   ]
  },
  {
   "cell_type": "code",
   "execution_count": 133,
   "id": "exposed-style",
   "metadata": {},
   "outputs": [
    {
     "data": {
      "image/png": "[encoded data removed]"
     },
     "metadata": {},
     "output_type": "display_data"
    }
   ],
   "source": [
    "%%R\n",
    "\n",
    "# visualise\n",
    "\n",
    "plot_enrichment(gene_groups.positive, factor = 10, max.pathways = 15)"
   ]
  },
  {
   "cell_type": "code",
   "execution_count": null,
   "id": "wired-blake",
   "metadata": {},
   "outputs": [],
   "source": []
  },
  {
   "cell_type": "code",
   "execution_count": null,
   "id": "greatest-andrew",
   "metadata": {},
   "outputs": [],
   "source": []
  },
  {
   "cell_type": "code",
   "execution_count": 134,
   "id": "fresh-table",
   "metadata": {},
   "outputs": [
    {
     "name": "stdout",
     "output_type": "stream",
     "text": [
      "Trained MEFISTO with the following characteristics: \n",
      " Number of views: 2 \n",
      " Views names: RNA ATAC_all \n",
      " Number of features (per view): 4925 10640 \n",
      " Number of groups: 1 \n",
      " Groups names: group1 \n",
      " Number of samples (per group): 1605 \n",
      " Number of covariates per sample: 2 \n",
      " Number of factors: 10 \n",
      "\n"
     ]
    }
   ],
   "source": [
    "%%R\n",
    "\n",
    "MOFA_model"
   ]
  },
  {
   "cell_type": "raw",
   "id": "flying-religion",
   "metadata": {
    "tags": []
   },
   "source": [
    "%%R\n",
    "\n",
    "features_names(MOFA_model$RNA)"
   ]
  },
  {
   "cell_type": "code",
   "execution_count": null,
   "id": "grave-america",
   "metadata": {},
   "outputs": [],
   "source": []
  },
  {
   "cell_type": "code",
   "execution_count": null,
   "id": "specialized-mixer",
   "metadata": {},
   "outputs": [],
   "source": []
  },
  {
   "cell_type": "markdown",
   "id": "careful-contact",
   "metadata": {},
   "source": [
    "# Motif enrichment"
   ]
  },
  {
   "cell_type": "code",
   "execution_count": 68,
   "id": "curious-helicopter",
   "metadata": {},
   "outputs": [
    {
     "name": "stdout",
     "output_type": "stream",
     "text": [
      "[1] 10640   633\n"
     ]
    }
   ],
   "source": [
    "%%R\n",
    "\n",
    "dim(motif.matrix)"
   ]
  },
  {
   "cell_type": "code",
   "execution_count": 69,
   "id": "differential-trouble",
   "metadata": {},
   "outputs": [
    {
     "name": "stdout",
     "output_type": "stream",
     "text": [
      "[1] 633\n"
     ]
    }
   ],
   "source": [
    "%%R\n",
    "\n",
    "length(colnames(motif.matrix))"
   ]
  },
  {
   "cell_type": "code",
   "execution_count": 70,
   "id": "lightweight-document",
   "metadata": {
    "tags": []
   },
   "outputs": [
    {
     "name": "stdout",
     "output_type": "stream",
     "text": [
      "[1] 10640   633\n"
     ]
    }
   ],
   "source": [
    "%%R\n",
    "\n",
    "dim(motif.matrix)"
   ]
  },
  {
   "cell_type": "code",
   "execution_count": 71,
   "id": "invisible-ferry",
   "metadata": {
    "tags": []
   },
   "outputs": [
    {
     "name": "stdout",
     "output_type": "stream",
     "text": [
      "[1] 10640\n"
     ]
    }
   ],
   "source": [
    "%%R\n",
    "\n",
    "length(features_names(MOFA_model)$ATAC_all)"
   ]
  },
  {
   "cell_type": "code",
   "execution_count": 72,
   "id": "guided-great",
   "metadata": {},
   "outputs": [
    {
     "name": "stdout",
     "output_type": "stream",
     "text": [
      "[1] 0\n"
     ]
    }
   ],
   "source": [
    "%%R\n",
    "\n",
    "length(intersect(features_names(MOFA_model)$ATAC_all,colnames(motif.matrix)))"
   ]
  },
  {
   "cell_type": "code",
   "execution_count": 73,
   "id": "streaming-carter",
   "metadata": {},
   "outputs": [
    {
     "name": "stdout",
     "output_type": "stream",
     "text": [
      "[1] \"chr1:999901-1000393\"  \"chr1:1019192-1019792\" \"chr1:1073233-1074498\"\n",
      "[4] \"chr1:1079363-1080404\" \"chr1:1115778-1116666\" \"chr1:1122924-1123361\"\n"
     ]
    }
   ],
   "source": [
    "%%R\n",
    "\n",
    "head(features_names(MOFA_model)$ATAC_all)"
   ]
  },
  {
   "cell_type": "code",
   "execution_count": 74,
   "id": "stunning-insured",
   "metadata": {},
   "outputs": [
    {
     "name": "stdout",
     "output_type": "stream",
     "text": [
      "[1] \"chr1-999901-1000393\"  \"chr1-1019192-1019792\" \"chr1-1073233-1074498\"\n",
      "[4] \"chr1-1079363-1080404\" \"chr1-1115778-1116666\" \"chr1-1122924-1123361\"\n"
     ]
    }
   ],
   "source": [
    "%%R\n",
    "\n",
    "head(rownames(motif.matrix))"
   ]
  },
  {
   "cell_type": "code",
   "execution_count": 75,
   "id": "hispanic-surgeon",
   "metadata": {},
   "outputs": [],
   "source": [
    "%%R\n",
    "\n",
    "# define motif matrix\n",
    "motif.matrix <- t(as.matrix(multiome_Seurat[[\"ATAC_all\"]]@motifs@data))\n"
   ]
  },
  {
   "cell_type": "code",
   "execution_count": 76,
   "id": "tropical-merchandise",
   "metadata": {},
   "outputs": [
    {
     "name": "stdout",
     "output_type": "stream",
     "text": [
      "[1] 10640\n"
     ]
    }
   ],
   "source": [
    "%%R\n",
    "\n",
    "length(features_names(MOFA_model)$ATAC_all)"
   ]
  },
  {
   "cell_type": "code",
   "execution_count": 77,
   "id": "antique-radical",
   "metadata": {},
   "outputs": [
    {
     "name": "stdout",
     "output_type": "stream",
     "text": [
      "[1] 10640\n"
     ]
    }
   ],
   "source": [
    "%%R\n",
    "\n",
    "length(colnames(motif.matrix))"
   ]
  },
  {
   "cell_type": "code",
   "execution_count": 78,
   "id": "exclusive-correspondence",
   "metadata": {},
   "outputs": [],
   "source": [
    "%%R\n",
    "\n",
    "colnames(motif.matrix) <- features_names(MOFA_model)$ATAC_all"
   ]
  },
  {
   "cell_type": "code",
   "execution_count": 79,
   "id": "figured-grace",
   "metadata": {},
   "outputs": [],
   "source": [
    "%%R\n",
    "\n",
    "# renaming motifs with the TF name instead of JASPAR index\n",
    "\n",
    "pfm_names <- sapply(pfm, function(x) x@name)\n",
    "rownames(motif.matrix) <- pfm_names[rownames(motif.matrix)]"
   ]
  },
  {
   "cell_type": "code",
   "execution_count": 80,
   "id": "enabling-walker",
   "metadata": {
    "tags": []
   },
   "outputs": [
    {
     "name": "stderr",
     "output_type": "stream",
     "text": [
      "R[write to console]: Intersecting features names in the model and the gene set annotation results in a total of 10640 features.\n",
      "\n",
      "R[write to console]: \n",
      "Running feature set Enrichment Analysis with the following options...\n",
      "View: ATAC_all \n",
      "Number of feature sets: 633 \n",
      "Set statistic: mean.diff \n",
      "Statistical test: parametric \n",
      "\n",
      "\n",
      "R[write to console]: Subsetting weights with positive sign\n",
      "\n",
      "R[write to console]: \n",
      "\n",
      "\n",
      "R[write to console]: Intersecting features names in the model and the gene set annotation results in a total of 10640 features.\n",
      "\n",
      "R[write to console]: \n",
      "Running feature set Enrichment Analysis with the following options...\n",
      "View: ATAC_all \n",
      "Number of feature sets: 633 \n",
      "Set statistic: mean.diff \n",
      "Statistical test: parametric \n",
      "\n",
      "\n",
      "R[write to console]: Subsetting weights with negative sign\n",
      "\n",
      "R[write to console]: \n",
      "\n",
      "\n"
     ]
    }
   ],
   "source": [
    "%%R\n",
    "\n",
    "# Run GSEA enrichment analysis using the motif-peak matrix, (+) weights\n",
    "motif.enrichment.positive <- run_enrichment(MOFA_model,\n",
    "  view = \"ATAC_all\", \n",
    "  factors = 1:10,\n",
    "  feature.sets = motif.matrix,\n",
    "  sign = \"positive\"\n",
    ")\n",
    "\n",
    "# Run GSEA enrichment analysis using the motif-peak matrix, (-) weights\n",
    "motif.enrichment.negative <- run_enrichment(MOFA_model,\n",
    "  view = \"ATAC_all\", \n",
    "  factors = 1:10,\n",
    "  feature.sets = motif.matrix,\n",
    "  sign = \"negative\"\n",
    ")"
   ]
  },
  {
   "cell_type": "code",
   "execution_count": 102,
   "id": "flush-leader",
   "metadata": {},
   "outputs": [
    {
     "name": "stdout",
     "output_type": "stream",
     "text": [
      "[1] 1.361078e-196 9.957830e-194 1.358499e-185 6.798066e-183 1.058716e-182\n",
      "[6] 7.575350e-178\n"
     ]
    }
   ],
   "source": [
    "%%R\n",
    "\n",
    "motif.enrichment.positive$pval.adj[,\"Factor1\"] %>%\n",
    "  sort %>% head(n=6)"
   ]
  },
  {
   "cell_type": "code",
   "execution_count": 151,
   "id": "grave-tunisia",
   "metadata": {},
   "outputs": [
    {
     "data": {
      "image/png": "[encoded data removed]"
     },
     "metadata": {},
     "output_type": "display_data"
    }
   ],
   "source": [
    "%%R\n",
    "\n",
    "# visualise\n",
    "\n",
    "plot_enrichment(motif.enrichment.positive, factor = 1, max.pathways = 50)"
   ]
  },
  {
   "cell_type": "code",
   "execution_count": 152,
   "id": "commercial-tiger",
   "metadata": {},
   "outputs": [
    {
     "data": {
      "image/png": "[encoded data removed]"
     },
     "metadata": {},
     "output_type": "display_data"
    }
   ],
   "source": [
    "%%R\n",
    "\n",
    "# visualise\n",
    "\n",
    "plot_enrichment(motif.enrichment.positive, factor = 10, max.pathways = 50)"
   ]
  },
  {
   "cell_type": "code",
   "execution_count": 153,
   "id": "alternate-christianity",
   "metadata": {
    "tags": []
   },
   "outputs": [
    {
     "name": "stdout",
     "output_type": "stream",
     "text": [
      "NULL\n"
     ]
    }
   ],
   "source": [
    "%%R\n",
    "\n",
    "dim(motif.enrichment.positive)"
   ]
  },
  {
   "cell_type": "raw",
   "id": "smoking-savannah",
   "metadata": {},
   "source": [
    "%%R\n",
    "\n",
    "df_motifs <- lapply(\"ATAC_all\", function(t) {\n",
    "  #motif.enrichment.positive\n",
    "  pvalues_view <- data.frame(motif.enrichment.positive$pval.adj)\n",
    "  pvalues_view %>%\n",
    "    rownames_to_column(var = \"motif\") %>%\n",
    "    mutate(view = t)\n",
    "}) %>% bind_rows()\n",
    "#df_motifs %>% gather(starts_with(\"Factor\"), value = \"padj\", key = \"factor\")\n"
   ]
  },
  {
   "cell_type": "raw",
   "id": "ultimate-british",
   "metadata": {},
   "source": [
    "%%R\n",
    "\n",
    "df_motifs_factors <- df_motifs %>% gather(starts_with(\"Factor\"), value = \"padj\", key = \"factor\")\n"
   ]
  },
  {
   "cell_type": "raw",
   "id": "curious-yemen",
   "metadata": {},
   "source": [
    "%%R\n",
    "\n",
    "head(df_motifs_factors)"
   ]
  },
  {
   "cell_type": "raw",
   "id": "civil-delta",
   "metadata": {},
   "source": [
    "%%R\n",
    "\n",
    "write.csv(df_motifs_factors, \"./tables/20220131_MEFISTO_TF_motif_results.csv\")"
   ]
  },
  {
   "cell_type": "raw",
   "id": "obvious-algebra",
   "metadata": {
    "jupyter": {
     "outputs_hidden": true
    },
    "tags": []
   },
   "source": [
    "%%R\n",
    "\n",
    "dim(df_motifs)"
   ]
  },
  {
   "cell_type": "raw",
   "id": "automatic-karma",
   "metadata": {},
   "source": [
    "%%R -o motif_enrichment_positive\n",
    "\n",
    "motif_enrichment_positive <- motif.enrichment.positive"
   ]
  },
  {
   "cell_type": "code",
   "execution_count": null,
   "id": "abroad-istanbul",
   "metadata": {},
   "outputs": [],
   "source": []
  },
  {
   "cell_type": "code",
   "execution_count": 154,
   "id": "working-offer",
   "metadata": {},
   "outputs": [],
   "source": [
    "%%R\n",
    "\n",
    "res <- motif.enrichment.positive\n",
    "\n",
    "data.frame(pval = res$pval, adj.pval = res$pval.adj, \n",
    "           #res$set.statistics,\n",
    "           setstats = res$set.statistics) %>% write.csv(\"./tables/20220210_MEFISTO_TF_motif_results_upreg.csv\")"
   ]
  },
  {
   "cell_type": "code",
   "execution_count": 155,
   "id": "warming-nicaragua",
   "metadata": {},
   "outputs": [],
   "source": [
    "%%R\n",
    "\n",
    "res_neg <- motif.enrichment.negative\n",
    "\n",
    "data.frame(pval = res_neg$pval, adj.pval = res_neg$pval.adj, \n",
    "           #res$set.statistics,\n",
    "           setstats = res_neg$set.statistics) %>% write.csv(\"./tables/20220210_MEFISTO_TF_motif_results_downreg.csv\")"
   ]
  },
  {
   "cell_type": "code",
   "execution_count": null,
   "id": "statewide-chase",
   "metadata": {},
   "outputs": [],
   "source": []
  },
  {
   "cell_type": "code",
   "execution_count": null,
   "id": "digital-holly",
   "metadata": {},
   "outputs": [],
   "source": []
  },
  {
   "cell_type": "code",
   "execution_count": 156,
   "id": "greater-roommate",
   "metadata": {},
   "outputs": [],
   "source": [
    "# saving these results to see overlap with conventional "
   ]
  },
  {
   "cell_type": "code",
   "execution_count": 157,
   "id": "final-therapy",
   "metadata": {},
   "outputs": [],
   "source": [
    "%%R -o motif_enrichment_positive\n",
    "\n",
    "motif_enrichment_positive <- data.frame(pval = motif.enrichment.positive$pval, adj.pval = motif.enrichment.positive$pval.adj, \n",
    "           #res$set.statistics,\n",
    "           setstats = motif.enrichment.positive$set.statistics)"
   ]
  },
  {
   "cell_type": "code",
   "execution_count": null,
   "id": "statewide-sleep",
   "metadata": {},
   "outputs": [],
   "source": []
  },
  {
   "cell_type": "code",
   "execution_count": 158,
   "id": "completed-afghanistan",
   "metadata": {},
   "outputs": [],
   "source": [
    "%%R -o motif_enrichment_negative\n",
    "\n",
    "motif_enrichment_negative <- data.frame(pval = motif.enrichment.negative$pval, adj.pval = motif.enrichment.negative$pval.adj, \n",
    "           #res$set.statistics,\n",
    "           setstats = motif.enrichment.negative$set.statistics)"
   ]
  },
  {
   "cell_type": "code",
   "execution_count": 160,
   "id": "decimal-killing",
   "metadata": {},
   "outputs": [
    {
     "name": "stderr",
     "output_type": "stream",
     "text": [
      "R[write to console]: Intersecting features names in the model and the gene set annotation results in a total of 10640 features.\n",
      "\n",
      "R[write to console]: \n",
      "Running feature set Enrichment Analysis with the following options...\n",
      "View: ATAC_all \n",
      "Number of feature sets: 633 \n",
      "Set statistic: mean.diff \n",
      "Statistical test: parametric \n",
      "\n",
      "\n",
      "R[write to console]: \n",
      "\n",
      "\n"
     ]
    }
   ],
   "source": [
    "%%R\n",
    "\n",
    "# Run GSEA enrichment analysis using the motif-peak matrix, all weights\n",
    "motif.enrichment.general <- run_enrichment(MOFA_model,\n",
    "  view = \"ATAC_all\", \n",
    "  factors = 1:10,\n",
    "  feature.sets = motif.matrix,\n",
    "  #sign = \"negative\"\n",
    ")"
   ]
  },
  {
   "cell_type": "code",
   "execution_count": 161,
   "id": "foreign-buddy",
   "metadata": {},
   "outputs": [],
   "source": [
    "%%R -o motif_enrichment_general\n",
    "\n",
    "motif_enrichment_general <- data.frame(pval = motif.enrichment.general$pval, adj.pval = motif.enrichment.general$pval.adj, \n",
    "           #res$set.statistics,\n",
    "           setstats = motif.enrichment.general$set.statistics)"
   ]
  },
  {
   "cell_type": "code",
   "execution_count": 162,
   "id": "previous-youth",
   "metadata": {},
   "outputs": [
    {
     "data": {
      "text/plain": [
       "pval.Factor1         4.631350e-09\n",
       "pval.Factor2         1.765630e-01\n",
       "pval.Factor3         8.319641e-01\n",
       "pval.Factor4         9.289323e-02\n",
       "pval.Factor5         6.937776e-01\n",
       "pval.Factor6         6.609447e-01\n",
       "pval.Factor7         7.841866e-01\n",
       "pval.Factor8         6.792877e-01\n",
       "pval.Factor9         9.893765e-01\n",
       "pval.Factor10        5.104898e-02\n",
       "adj.pval.Factor1     1.069943e-08\n",
       "adj.pval.Factor2     2.808151e-01\n",
       "adj.pval.Factor3     9.142939e-01\n",
       "adj.pval.Factor4     1.470035e-01\n",
       "adj.pval.Factor5     7.295037e-01\n",
       "adj.pval.Factor6     7.673106e-01\n",
       "adj.pval.Factor7     9.038569e-01\n",
       "adj.pval.Factor8     7.846516e-01\n",
       "adj.pval.Factor9     9.958623e-01\n",
       "adj.pval.Factor10    8.078501e-02\n",
       "setstats.Factor1     5.864774e+00\n",
       "setstats.Factor2     1.351503e+00\n",
       "setstats.Factor3     2.121884e-01\n",
       "setstats.Factor4     1.680480e+00\n",
       "setstats.Factor5     3.937444e-01\n",
       "setstats.Factor6     4.386216e-01\n",
       "setstats.Factor7     2.738743e-01\n",
       "setstats.Factor8     4.134467e-01\n",
       "setstats.Factor9    -1.331531e-02\n",
       "setstats.Factor10   -1.951288e+00\n",
       "Name: TWIST1, dtype: float64"
      ]
     },
     "execution_count": 162,
     "metadata": {},
     "output_type": "execute_result"
    }
   ],
   "source": [
    "motif_enrichment_general.loc['TWIST1']"
   ]
  },
  {
   "cell_type": "code",
   "execution_count": 163,
   "id": "necessary-oklahoma",
   "metadata": {},
   "outputs": [],
   "source": [
    "motif_enrichment_general.to_csv('./tables/20220210_MEFISTO_TF_motif_results_another_view_ALL.csv')"
   ]
  },
  {
   "cell_type": "code",
   "execution_count": null,
   "id": "controversial-alert",
   "metadata": {},
   "outputs": [],
   "source": []
  },
  {
   "cell_type": "raw",
   "id": "narrative-oklahoma",
   "metadata": {
    "jupyter": {
     "outputs_hidden": true
    },
    "tags": []
   },
   "source": [
    "motif_enrichment_positive"
   ]
  },
  {
   "cell_type": "raw",
   "id": "center-algebra",
   "metadata": {},
   "source": [
    "boxplot(w[binary_matrix[,TFmotif] == 1], (w[binary_matrix[,TFmotif] == 0])\n"
   ]
  },
  {
   "cell_type": "raw",
   "id": "returning-gallery",
   "metadata": {},
   "source": [
    "%%R -o w\n",
    "\n",
    "w <- data.frame(get_weights(MOFA_model, factor=1, view = 'ATAC_all'))"
   ]
  },
  {
   "cell_type": "raw",
   "id": "conventional-burst",
   "metadata": {},
   "source": [
    "%%R -o motif_mtx\n",
    "\n",
    "motif_mtx <- data.frame(motif.matrix)"
   ]
  },
  {
   "cell_type": "raw",
   "id": "dirty-death",
   "metadata": {},
   "source": [
    "w"
   ]
  },
  {
   "cell_type": "raw",
   "id": "honest-herald",
   "metadata": {},
   "source": [
    "#motif_mtx = motif_mtx.T"
   ]
  },
  {
   "cell_type": "raw",
   "id": "polyphonic-mambo",
   "metadata": {},
   "source": [
    "peaks_with_TF = list(motif_mtx[motif_mtx['TWIST1'] > 0].index)\n",
    "peaks_without_TF = list(motif_mtx[motif_mtx['TWIST1'] == 0].index)"
   ]
  },
  {
   "cell_type": "raw",
   "id": "metric-italic",
   "metadata": {
    "tags": []
   },
   "source": [
    "peaks_with_TF = [elem.split('.')[0] + ':' + elem.split('.')[1] + '-' + elem.split('.')[2] for elem in peaks_with_TF]\n",
    "peaks_without_TF = [elem.split('.')[0] + ':' + elem.split('.')[1] + '-' + elem.split('.')[2] for elem in peaks_without_TF]"
   ]
  },
  {
   "cell_type": "raw",
   "id": "southwest-geneva",
   "metadata": {},
   "source": [
    "plt.boxplot(x = [w.loc[peaks_with_TF,'Factor1'], w.loc[peaks_without_TF,'Factor1']])"
   ]
  },
  {
   "cell_type": "raw",
   "id": "floppy-category",
   "metadata": {},
   "source": [
    "df1 = pd.DataFrame(w.loc[peaks_with_TF,'Factor1'])\n",
    "df1[df1['Factor1'] > 0]"
   ]
  },
  {
   "cell_type": "raw",
   "id": "postal-pleasure",
   "metadata": {},
   "source": [
    "df2 = pd.DataFrame(w.loc[peaks_without_TF,'Factor1'])\n",
    "df2[df2['Factor1'] > 0]"
   ]
  },
  {
   "cell_type": "raw",
   "id": "former-bankruptcy",
   "metadata": {},
   "source": [
    "plt.boxplot(x = [df1[df1['Factor1'] > 0]['Factor1'], df2[df2['Factor1'] > 0]['Factor1']])"
   ]
  },
  {
   "cell_type": "raw",
   "id": "static-kidney",
   "metadata": {},
   "source": []
  },
  {
   "cell_type": "raw",
   "id": "seeing-transparency",
   "metadata": {},
   "source": [
    "motif_mtx.to_csv('/lustre/scratch117/cellgen/team292/aa22/with_Stijn/202111_snATAC-seq_data_MFI/multiome_ATAC_samples_analysis/trophoblast_only_analysis/downstream_analysis_custom_clust/out_MOFA_analysis/motif_mtx_20220202.csv')\n"
   ]
  },
  {
   "cell_type": "raw",
   "id": "encouraging-premiere",
   "metadata": {},
   "source": []
  },
  {
   "cell_type": "raw",
   "id": "abroad-retailer",
   "metadata": {},
   "source": [
    "%%R\n",
    "\n",
    "boxplot(w[motif.matrix[,'TWIST1'] == 1], w[motif.matrix[,'TWIST1'] == 0])\n"
   ]
  },
  {
   "cell_type": "code",
   "execution_count": null,
   "id": "surprising-violin",
   "metadata": {},
   "outputs": [],
   "source": []
  },
  {
   "cell_type": "code",
   "execution_count": null,
   "id": "noticed-context",
   "metadata": {},
   "outputs": [],
   "source": []
  },
  {
   "cell_type": "code",
   "execution_count": null,
   "id": "improving-particular",
   "metadata": {},
   "outputs": [],
   "source": []
  },
  {
   "cell_type": "code",
   "execution_count": null,
   "id": "celtic-composition",
   "metadata": {},
   "outputs": [],
   "source": []
  },
  {
   "cell_type": "markdown",
   "id": "apparent-senator",
   "metadata": {},
   "source": [
    "## Enrichment of peak groups as defined by me"
   ]
  },
  {
   "cell_type": "code",
   "execution_count": 81,
   "id": "minor-consultancy",
   "metadata": {},
   "outputs": [
    {
     "name": "stdout",
     "output_type": "stream",
     "text": [
      "exon\n",
      "intergenic\n",
      "intron\n",
      "promoter\n"
     ]
    }
   ],
   "source": [
    "for annot in np.unique(atac_feature_annot_table['annotation']):\n",
    "    print(annot)\n",
    "    atac_feature_annot_table['is_' + annot + '_Signac'] = [1 if atac_feature_annot_table.loc[idx,'annotation'] == annot else 0 for idx in atac_feature_annot_table.index]"
   ]
  },
  {
   "cell_type": "code",
   "execution_count": 82,
   "id": "buried-verse",
   "metadata": {},
   "outputs": [],
   "source": [
    "%%R -i atac_feature_annot_table\n",
    "\n",
    "feature_metadata.atac <- atac_feature_annot_table"
   ]
  },
  {
   "cell_type": "code",
   "execution_count": 83,
   "id": "simple-cutting",
   "metadata": {},
   "outputs": [
    {
     "name": "stdout",
     "output_type": "stream",
     "text": [
      "[1] 10640    30\n"
     ]
    }
   ],
   "source": [
    "%%R\n",
    "\n",
    "dim(feature_metadata.atac)"
   ]
  },
  {
   "cell_type": "code",
   "execution_count": 84,
   "id": "heavy-address",
   "metadata": {},
   "outputs": [],
   "source": [
    "%%R\n",
    "\n",
    "feature_metadata.atac <- t(feature_metadata.atac)"
   ]
  },
  {
   "cell_type": "code",
   "execution_count": 85,
   "id": "mighty-vegetable",
   "metadata": {},
   "outputs": [
    {
     "name": "stdout",
     "output_type": "stream",
     "text": [
      " [1] \"peak_width\"                                        \n",
      " [2] \"exon\"                                              \n",
      " [3] \"gene\"                                              \n",
      " [4] \"promoter\"                                          \n",
      " [5] \"annotation\"                                        \n",
      " [6] \"gene_name\"                                         \n",
      " [7] \"gene_id\"                                           \n",
      " [8] \"tss_distance\"                                      \n",
      " [9] \"ENCODE_blacklist\"                                  \n",
      "[10] \"n_cells_by_counts\"                                 \n",
      "[11] \"mean_counts\"                                       \n",
      "[12] \"log1p_mean_counts\"                                 \n",
      "[13] \"pct_dropout_by_counts\"                             \n",
      "[14] \"total_counts\"                                      \n",
      "[15] \"log1p_total_counts\"                                \n",
      "[16] \"contains_primed_enhancers\"                         \n",
      "[17] \"contains_active_enhancers\"                         \n",
      "[18] \"contains_repressed_enhancers\"                      \n",
      "[19] \"highly_variable\"                                   \n",
      "[20] \"contains_primed_enhancers_2nd_and_3rd_trimester\"   \n",
      "[21] \"contains_active_enhancers_2nd_and_3rd_trimester\"   \n",
      "[22] \"contains_repressed_enhancers_2nd_and_3rd_trimester\"\n",
      "[23] \"chr\"                                               \n",
      "[24] \"start\"                                             \n",
      "[25] \"end\"                                               \n",
      "[26] \"peak\"                                              \n",
      "[27] \"is_exon_Signac\"                                    \n",
      "[28] \"is_intergenic_Signac\"                              \n",
      "[29] \"is_intron_Signac\"                                  \n",
      "[30] \"is_promoter_Signac\"                                \n"
     ]
    }
   ],
   "source": [
    "%%R\n",
    "\n",
    "rownames(feature_metadata.atac)"
   ]
  },
  {
   "cell_type": "code",
   "execution_count": 86,
   "id": "automatic-transportation",
   "metadata": {
    "tags": []
   },
   "outputs": [],
   "source": [
    "%%R\n",
    "\n",
    "# subset to only columns with info about whether genes belong to a certain group or not\n",
    "rows_subset <- c(\"contains_primed_enhancers\", # 2nd trimester\n",
    "                 \"contains_active_enhancers\", # 2nd trimester\n",
    "                 \"contains_repressed_enhancers\", # 2nd trimester\n",
    "                 \n",
    "                 \"contains_primed_enhancers_2nd_and_3rd_trimester\",\n",
    "                 \"contains_active_enhancers_2nd_and_3rd_trimester\",\n",
    "                 \"contains_repressed_enhancers_2nd_and_3rd_trimester\",\n",
    "                 \n",
    "                 \"is_exon_Signac\",\n",
    "                 \"is_intergenic_Signac\",\n",
    "                 \"is_intron_Signac\",\n",
    "                 \"is_promoter_Signac\"\n",
    "                 \n",
    "                )\n",
    "feature_metadata.atac.to.use <- feature_metadata.atac[rows_subset,]"
   ]
  },
  {
   "cell_type": "code",
   "execution_count": 87,
   "id": "right-sullivan",
   "metadata": {},
   "outputs": [
    {
     "name": "stdout",
     "output_type": "stream",
     "text": [
      "[1]    10 10640\n"
     ]
    }
   ],
   "source": [
    "%%R\n",
    "\n",
    "dim(feature_metadata.atac.to.use)"
   ]
  },
  {
   "cell_type": "code",
   "execution_count": 88,
   "id": "amino-colors",
   "metadata": {},
   "outputs": [],
   "source": [
    "%%R\n",
    "\n",
    "# making this numeric\n",
    "\n",
    "feature_metadata.atac.to.use.num <- matrix(as.numeric(feature_metadata.atac.to.use),    # Convert to numeric matrix\n",
    "                  ncol = ncol(feature_metadata.atac.to.use),\n",
    "                                         #colnames = colnames(feature_metadata.rna.to.use),\n",
    "                                         #rownames = rownames(feature_metadata.rna.to.use)\n",
    "                                         )\n",
    "colnames(feature_metadata.atac.to.use.num) <- colnames(feature_metadata.atac.to.use)\n",
    "rownames(feature_metadata.atac.to.use.num) <- rownames(feature_metadata.atac.to.use)"
   ]
  },
  {
   "cell_type": "code",
   "execution_count": 89,
   "id": "downtown-standard",
   "metadata": {
    "tags": []
   },
   "outputs": [
    {
     "name": "stdout",
     "output_type": "stream",
     "text": [
      "[1]    10 10640\n"
     ]
    }
   ],
   "source": [
    "%%R\n",
    "\n",
    "dim(feature_metadata.atac.to.use.num)"
   ]
  },
  {
   "cell_type": "code",
   "execution_count": 90,
   "id": "usual-straight",
   "metadata": {
    "tags": []
   },
   "outputs": [
    {
     "name": "stderr",
     "output_type": "stream",
     "text": [
      "R[write to console]: Intersecting features names in the model and the gene set annotation results in a total of 10640 features.\n",
      "\n",
      "R[write to console]: \n",
      "Running feature set Enrichment Analysis with the following options...\n",
      "View: ATAC_all \n",
      "Number of feature sets: 10 \n",
      "Set statistic: mean.diff \n",
      "Statistical test: parametric \n",
      "\n",
      "\n",
      "R[write to console]: Subsetting weights with positive sign\n",
      "\n",
      "R[write to console]: \n",
      "\n",
      "\n",
      "R[write to console]: Intersecting features names in the model and the gene set annotation results in a total of 10640 features.\n",
      "\n",
      "R[write to console]: \n",
      "Running feature set Enrichment Analysis with the following options...\n",
      "View: ATAC_all \n",
      "Number of feature sets: 10 \n",
      "Set statistic: mean.diff \n",
      "Statistical test: parametric \n",
      "\n",
      "\n",
      "R[write to console]: Subsetting weights with negative sign\n",
      "\n",
      "R[write to console]: \n",
      "\n",
      "\n"
     ]
    }
   ],
   "source": [
    "%%R\n",
    "\n",
    "# Run GSEA enrichment analysis using custom groups of peaks, (+) weights\n",
    "peak.groups.enrichment.positive <- run_enrichment(MOFA_model,\n",
    "  view = \"ATAC_all\", \n",
    "  factors = 1:10,\n",
    "  feature.sets = feature_metadata.atac.to.use.num,\n",
    "  sign = \"positive\"\n",
    ")\n",
    "\n",
    "# Run GSEA enrichment analysis using custom groups of peaks, (-) weights\n",
    "peak.groups.enrichment.negative <- run_enrichment(MOFA_model,\n",
    "  view = \"ATAC_all\", \n",
    "  factors = 1:10,\n",
    "  feature.sets = feature_metadata.atac.to.use.num,\n",
    "  sign = \"negative\"\n",
    ")"
   ]
  },
  {
   "cell_type": "code",
   "execution_count": 91,
   "id": "concrete-asbestos",
   "metadata": {},
   "outputs": [],
   "source": [
    "# need to save results below to plot in a heatmap for facto 10 (peak groups)"
   ]
  },
  {
   "cell_type": "code",
   "execution_count": 92,
   "id": "elegant-planning",
   "metadata": {},
   "outputs": [],
   "source": [
    "%%R\n",
    "\n",
    "res <- peak.groups.enrichment.positive\n",
    "\n",
    "data.frame(pval = res$pval, adj.pval = res$pval.adj, \n",
    "           #res$set.statistics,\n",
    "           setstats = res$set.statistics) %>% write.csv(\"./tables/20220218_MEFISTO_peak_group_enrichment_results.csv\")"
   ]
  },
  {
   "cell_type": "code",
   "execution_count": 93,
   "id": "moving-martin",
   "metadata": {},
   "outputs": [
    {
     "name": "stdout",
     "output_type": "stream",
     "text": [
      "NULL\n"
     ]
    }
   ],
   "source": [
    "%%R\n",
    "\n",
    "dim(peak.groups.enrichment.positive)"
   ]
  },
  {
   "cell_type": "code",
   "execution_count": null,
   "id": "spare-evolution",
   "metadata": {},
   "outputs": [],
   "source": []
  },
  {
   "cell_type": "code",
   "execution_count": null,
   "id": "proprietary-macintosh",
   "metadata": {},
   "outputs": [],
   "source": []
  },
  {
   "cell_type": "code",
   "execution_count": 41,
   "id": "pacific-parks",
   "metadata": {},
   "outputs": [
    {
     "data": {
      "text/html": [
       "<div>\n",
       "<style scoped>\n",
       "    .dataframe tbody tr th:only-of-type {\n",
       "        vertical-align: middle;\n",
       "    }\n",
       "\n",
       "    .dataframe tbody tr th {\n",
       "        vertical-align: top;\n",
       "    }\n",
       "\n",
       "    .dataframe thead th {\n",
       "        text-align: right;\n",
       "    }\n",
       "</style>\n",
       "<table border=\"1\" class=\"dataframe\">\n",
       "  <thead>\n",
       "    <tr style=\"text-align: right;\">\n",
       "      <th></th>\n",
       "      <th>pval.Factor1</th>\n",
       "      <th>pval.Factor2</th>\n",
       "      <th>pval.Factor3</th>\n",
       "      <th>pval.Factor4</th>\n",
       "      <th>pval.Factor5</th>\n",
       "      <th>pval.Factor6</th>\n",
       "      <th>pval.Factor7</th>\n",
       "      <th>pval.Factor8</th>\n",
       "      <th>pval.Factor9</th>\n",
       "      <th>pval.Factor10</th>\n",
       "      <th>...</th>\n",
       "      <th>setstats.Factor1</th>\n",
       "      <th>setstats.Factor2</th>\n",
       "      <th>setstats.Factor3</th>\n",
       "      <th>setstats.Factor4</th>\n",
       "      <th>setstats.Factor5</th>\n",
       "      <th>setstats.Factor6</th>\n",
       "      <th>setstats.Factor7</th>\n",
       "      <th>setstats.Factor8</th>\n",
       "      <th>setstats.Factor9</th>\n",
       "      <th>setstats.Factor10</th>\n",
       "    </tr>\n",
       "  </thead>\n",
       "  <tbody>\n",
       "    <tr>\n",
       "      <th>contains_primed_enhancers</th>\n",
       "      <td>1.000000e+00</td>\n",
       "      <td>8.069837e-01</td>\n",
       "      <td>1.000000e+00</td>\n",
       "      <td>8.158933e-03</td>\n",
       "      <td>1.000000e+00</td>\n",
       "      <td>1.000000e+00</td>\n",
       "      <td>0.004588</td>\n",
       "      <td>3.546506e-01</td>\n",
       "      <td>1.000000</td>\n",
       "      <td>1.069960e-15</td>\n",
       "      <td>...</td>\n",
       "      <td>0.000000</td>\n",
       "      <td>0.244325</td>\n",
       "      <td>0.000000</td>\n",
       "      <td>2.645918</td>\n",
       "      <td>0.000000</td>\n",
       "      <td>0.000000</td>\n",
       "      <td>2.835257</td>\n",
       "      <td>0.925647</td>\n",
       "      <td>0.000000</td>\n",
       "      <td>8.030876</td>\n",
       "    </tr>\n",
       "    <tr>\n",
       "      <th>contains_active_enhancers</th>\n",
       "      <td>1.000000e+00</td>\n",
       "      <td>3.504334e-12</td>\n",
       "      <td>1.140021e-06</td>\n",
       "      <td>1.000000e+00</td>\n",
       "      <td>2.307855e-144</td>\n",
       "      <td>1.000000e+00</td>\n",
       "      <td>1.000000</td>\n",
       "      <td>3.036919e-04</td>\n",
       "      <td>0.691080</td>\n",
       "      <td>1.000000e+00</td>\n",
       "      <td>...</td>\n",
       "      <td>0.000000</td>\n",
       "      <td>6.963934</td>\n",
       "      <td>4.868610</td>\n",
       "      <td>0.000000</td>\n",
       "      <td>25.983096</td>\n",
       "      <td>0.000000</td>\n",
       "      <td>0.000000</td>\n",
       "      <td>3.613323</td>\n",
       "      <td>0.397401</td>\n",
       "      <td>0.000000</td>\n",
       "    </tr>\n",
       "    <tr>\n",
       "      <th>contains_repressed_enhancers</th>\n",
       "      <td>1.000000e+00</td>\n",
       "      <td>1.357511e-03</td>\n",
       "      <td>1.000000e+00</td>\n",
       "      <td>2.218963e-06</td>\n",
       "      <td>1.000000e+00</td>\n",
       "      <td>1.000000e+00</td>\n",
       "      <td>0.000681</td>\n",
       "      <td>2.434111e-03</td>\n",
       "      <td>1.000000</td>\n",
       "      <td>1.418137e-11</td>\n",
       "      <td>...</td>\n",
       "      <td>0.000000</td>\n",
       "      <td>3.204384</td>\n",
       "      <td>0.000000</td>\n",
       "      <td>4.734989</td>\n",
       "      <td>0.000000</td>\n",
       "      <td>0.000000</td>\n",
       "      <td>3.397980</td>\n",
       "      <td>3.032140</td>\n",
       "      <td>0.000000</td>\n",
       "      <td>6.763453</td>\n",
       "    </tr>\n",
       "    <tr>\n",
       "      <th>contains_primed_enhancers_2nd_and_3rd_trimester</th>\n",
       "      <td>1.000000e+00</td>\n",
       "      <td>1.571360e-01</td>\n",
       "      <td>5.889586e-01</td>\n",
       "      <td>2.104777e-04</td>\n",
       "      <td>1.000000e+00</td>\n",
       "      <td>1.000000e+00</td>\n",
       "      <td>0.001455</td>\n",
       "      <td>1.898623e-03</td>\n",
       "      <td>1.000000</td>\n",
       "      <td>1.547772e-06</td>\n",
       "      <td>...</td>\n",
       "      <td>0.000000</td>\n",
       "      <td>1.414870</td>\n",
       "      <td>0.540362</td>\n",
       "      <td>3.707381</td>\n",
       "      <td>0.000000</td>\n",
       "      <td>0.000000</td>\n",
       "      <td>3.184300</td>\n",
       "      <td>3.106426</td>\n",
       "      <td>0.000000</td>\n",
       "      <td>4.807688</td>\n",
       "    </tr>\n",
       "    <tr>\n",
       "      <th>contains_active_enhancers_2nd_and_3rd_trimester</th>\n",
       "      <td>1.000000e+00</td>\n",
       "      <td>2.377594e-30</td>\n",
       "      <td>1.255249e-15</td>\n",
       "      <td>1.000000e+00</td>\n",
       "      <td>0.000000e+00</td>\n",
       "      <td>1.000000e+00</td>\n",
       "      <td>1.000000</td>\n",
       "      <td>1.078174e-08</td>\n",
       "      <td>1.000000</td>\n",
       "      <td>1.000000e+00</td>\n",
       "      <td>...</td>\n",
       "      <td>0.000000</td>\n",
       "      <td>11.484672</td>\n",
       "      <td>8.011142</td>\n",
       "      <td>0.000000</td>\n",
       "      <td>41.237175</td>\n",
       "      <td>0.000000</td>\n",
       "      <td>0.000000</td>\n",
       "      <td>5.722480</td>\n",
       "      <td>0.000000</td>\n",
       "      <td>0.000000</td>\n",
       "    </tr>\n",
       "    <tr>\n",
       "      <th>contains_repressed_enhancers_2nd_and_3rd_trimester</th>\n",
       "      <td>1.000000e+00</td>\n",
       "      <td>1.696010e-10</td>\n",
       "      <td>7.650374e-01</td>\n",
       "      <td>4.739960e-08</td>\n",
       "      <td>1.000000e+00</td>\n",
       "      <td>1.000000e+00</td>\n",
       "      <td>0.022671</td>\n",
       "      <td>1.172369e-03</td>\n",
       "      <td>1.000000</td>\n",
       "      <td>2.039610e-05</td>\n",
       "      <td>...</td>\n",
       "      <td>0.000000</td>\n",
       "      <td>6.392890</td>\n",
       "      <td>0.298880</td>\n",
       "      <td>5.464757</td>\n",
       "      <td>0.000000</td>\n",
       "      <td>0.000000</td>\n",
       "      <td>2.279262</td>\n",
       "      <td>3.246399</td>\n",
       "      <td>0.000000</td>\n",
       "      <td>4.262428</td>\n",
       "    </tr>\n",
       "    <tr>\n",
       "      <th>is_exon_Signac</th>\n",
       "      <td>1.000000e+00</td>\n",
       "      <td>7.381590e-39</td>\n",
       "      <td>1.224517e-27</td>\n",
       "      <td>1.000000e+00</td>\n",
       "      <td>0.000000e+00</td>\n",
       "      <td>1.000000e+00</td>\n",
       "      <td>1.000000</td>\n",
       "      <td>7.820180e-08</td>\n",
       "      <td>1.000000</td>\n",
       "      <td>1.000000e+00</td>\n",
       "      <td>...</td>\n",
       "      <td>0.000000</td>\n",
       "      <td>13.091159</td>\n",
       "      <td>10.925206</td>\n",
       "      <td>0.000000</td>\n",
       "      <td>72.066772</td>\n",
       "      <td>0.000000</td>\n",
       "      <td>0.000000</td>\n",
       "      <td>5.374999</td>\n",
       "      <td>0.000000</td>\n",
       "      <td>0.000000</td>\n",
       "    </tr>\n",
       "    <tr>\n",
       "      <th>is_intergenic_Signac</th>\n",
       "      <td>7.005112e-133</td>\n",
       "      <td>1.000000e+00</td>\n",
       "      <td>1.000000e+00</td>\n",
       "      <td>3.131235e-03</td>\n",
       "      <td>1.000000e+00</td>\n",
       "      <td>3.016264e-07</td>\n",
       "      <td>0.000053</td>\n",
       "      <td>1.000000e+00</td>\n",
       "      <td>0.238751</td>\n",
       "      <td>4.224395e-34</td>\n",
       "      <td>...</td>\n",
       "      <td>24.881994</td>\n",
       "      <td>0.000000</td>\n",
       "      <td>0.000000</td>\n",
       "      <td>2.955228</td>\n",
       "      <td>0.000000</td>\n",
       "      <td>5.125709</td>\n",
       "      <td>4.044202</td>\n",
       "      <td>0.000000</td>\n",
       "      <td>1.178181</td>\n",
       "      <td>12.217815</td>\n",
       "    </tr>\n",
       "    <tr>\n",
       "      <th>is_intron_Signac</th>\n",
       "      <td>1.582112e-156</td>\n",
       "      <td>1.000000e+00</td>\n",
       "      <td>1.000000e+00</td>\n",
       "      <td>5.108988e-03</td>\n",
       "      <td>1.000000e+00</td>\n",
       "      <td>4.450910e-08</td>\n",
       "      <td>0.000234</td>\n",
       "      <td>1.000000e+00</td>\n",
       "      <td>0.969893</td>\n",
       "      <td>4.441397e-43</td>\n",
       "      <td>...</td>\n",
       "      <td>27.106567</td>\n",
       "      <td>0.000000</td>\n",
       "      <td>0.000000</td>\n",
       "      <td>2.800662</td>\n",
       "      <td>0.000000</td>\n",
       "      <td>5.475939</td>\n",
       "      <td>3.680525</td>\n",
       "      <td>0.000000</td>\n",
       "      <td>0.037744</td>\n",
       "      <td>13.821680</td>\n",
       "    </tr>\n",
       "    <tr>\n",
       "      <th>is_promoter_Signac</th>\n",
       "      <td>8.670512e-07</td>\n",
       "      <td>1.000000e+00</td>\n",
       "      <td>1.000000e+00</td>\n",
       "      <td>1.000000e+00</td>\n",
       "      <td>1.000000e+00</td>\n",
       "      <td>4.930883e-01</td>\n",
       "      <td>1.000000</td>\n",
       "      <td>6.956784e-01</td>\n",
       "      <td>1.000000</td>\n",
       "      <td>5.907793e-06</td>\n",
       "      <td>...</td>\n",
       "      <td>4.922552</td>\n",
       "      <td>0.000000</td>\n",
       "      <td>0.000000</td>\n",
       "      <td>0.000000</td>\n",
       "      <td>0.000000</td>\n",
       "      <td>0.685429</td>\n",
       "      <td>0.000000</td>\n",
       "      <td>0.391171</td>\n",
       "      <td>0.000000</td>\n",
       "      <td>4.531954</td>\n",
       "    </tr>\n",
       "  </tbody>\n",
       "</table>\n",
       "<p>10 rows × 30 columns</p>\n",
       "</div>"
      ],
      "text/plain": [
       "                                                     pval.Factor1  \\\n",
       "contains_primed_enhancers                            1.000000e+00   \n",
       "contains_active_enhancers                            1.000000e+00   \n",
       "contains_repressed_enhancers                         1.000000e+00   \n",
       "contains_primed_enhancers_2nd_and_3rd_trimester      1.000000e+00   \n",
       "contains_active_enhancers_2nd_and_3rd_trimester      1.000000e+00   \n",
       "contains_repressed_enhancers_2nd_and_3rd_trimester   1.000000e+00   \n",
       "is_exon_Signac                                       1.000000e+00   \n",
       "is_intergenic_Signac                                7.005112e-133   \n",
       "is_intron_Signac                                    1.582112e-156   \n",
       "is_promoter_Signac                                   8.670512e-07   \n",
       "\n",
       "                                                    pval.Factor2  \\\n",
       "contains_primed_enhancers                           8.069837e-01   \n",
       "contains_active_enhancers                           3.504334e-12   \n",
       "contains_repressed_enhancers                        1.357511e-03   \n",
       "contains_primed_enhancers_2nd_and_3rd_trimester     1.571360e-01   \n",
       "contains_active_enhancers_2nd_and_3rd_trimester     2.377594e-30   \n",
       "contains_repressed_enhancers_2nd_and_3rd_trimester  1.696010e-10   \n",
       "is_exon_Signac                                      7.381590e-39   \n",
       "is_intergenic_Signac                                1.000000e+00   \n",
       "is_intron_Signac                                    1.000000e+00   \n",
       "is_promoter_Signac                                  1.000000e+00   \n",
       "\n",
       "                                                    pval.Factor3  \\\n",
       "contains_primed_enhancers                           1.000000e+00   \n",
       "contains_active_enhancers                           1.140021e-06   \n",
       "contains_repressed_enhancers                        1.000000e+00   \n",
       "contains_primed_enhancers_2nd_and_3rd_trimester     5.889586e-01   \n",
       "contains_active_enhancers_2nd_and_3rd_trimester     1.255249e-15   \n",
       "contains_repressed_enhancers_2nd_and_3rd_trimester  7.650374e-01   \n",
       "is_exon_Signac                                      1.224517e-27   \n",
       "is_intergenic_Signac                                1.000000e+00   \n",
       "is_intron_Signac                                    1.000000e+00   \n",
       "is_promoter_Signac                                  1.000000e+00   \n",
       "\n",
       "                                                    pval.Factor4  \\\n",
       "contains_primed_enhancers                           8.158933e-03   \n",
       "contains_active_enhancers                           1.000000e+00   \n",
       "contains_repressed_enhancers                        2.218963e-06   \n",
       "contains_primed_enhancers_2nd_and_3rd_trimester     2.104777e-04   \n",
       "contains_active_enhancers_2nd_and_3rd_trimester     1.000000e+00   \n",
       "contains_repressed_enhancers_2nd_and_3rd_trimester  4.739960e-08   \n",
       "is_exon_Signac                                      1.000000e+00   \n",
       "is_intergenic_Signac                                3.131235e-03   \n",
       "is_intron_Signac                                    5.108988e-03   \n",
       "is_promoter_Signac                                  1.000000e+00   \n",
       "\n",
       "                                                     pval.Factor5  \\\n",
       "contains_primed_enhancers                            1.000000e+00   \n",
       "contains_active_enhancers                           2.307855e-144   \n",
       "contains_repressed_enhancers                         1.000000e+00   \n",
       "contains_primed_enhancers_2nd_and_3rd_trimester      1.000000e+00   \n",
       "contains_active_enhancers_2nd_and_3rd_trimester      0.000000e+00   \n",
       "contains_repressed_enhancers_2nd_and_3rd_trimester   1.000000e+00   \n",
       "is_exon_Signac                                       0.000000e+00   \n",
       "is_intergenic_Signac                                 1.000000e+00   \n",
       "is_intron_Signac                                     1.000000e+00   \n",
       "is_promoter_Signac                                   1.000000e+00   \n",
       "\n",
       "                                                    pval.Factor6  \\\n",
       "contains_primed_enhancers                           1.000000e+00   \n",
       "contains_active_enhancers                           1.000000e+00   \n",
       "contains_repressed_enhancers                        1.000000e+00   \n",
       "contains_primed_enhancers_2nd_and_3rd_trimester     1.000000e+00   \n",
       "contains_active_enhancers_2nd_and_3rd_trimester     1.000000e+00   \n",
       "contains_repressed_enhancers_2nd_and_3rd_trimester  1.000000e+00   \n",
       "is_exon_Signac                                      1.000000e+00   \n",
       "is_intergenic_Signac                                3.016264e-07   \n",
       "is_intron_Signac                                    4.450910e-08   \n",
       "is_promoter_Signac                                  4.930883e-01   \n",
       "\n",
       "                                                    pval.Factor7  \\\n",
       "contains_primed_enhancers                               0.004588   \n",
       "contains_active_enhancers                               1.000000   \n",
       "contains_repressed_enhancers                            0.000681   \n",
       "contains_primed_enhancers_2nd_and_3rd_trimester         0.001455   \n",
       "contains_active_enhancers_2nd_and_3rd_trimester         1.000000   \n",
       "contains_repressed_enhancers_2nd_and_3rd_trimester      0.022671   \n",
       "is_exon_Signac                                          1.000000   \n",
       "is_intergenic_Signac                                    0.000053   \n",
       "is_intron_Signac                                        0.000234   \n",
       "is_promoter_Signac                                      1.000000   \n",
       "\n",
       "                                                    pval.Factor8  \\\n",
       "contains_primed_enhancers                           3.546506e-01   \n",
       "contains_active_enhancers                           3.036919e-04   \n",
       "contains_repressed_enhancers                        2.434111e-03   \n",
       "contains_primed_enhancers_2nd_and_3rd_trimester     1.898623e-03   \n",
       "contains_active_enhancers_2nd_and_3rd_trimester     1.078174e-08   \n",
       "contains_repressed_enhancers_2nd_and_3rd_trimester  1.172369e-03   \n",
       "is_exon_Signac                                      7.820180e-08   \n",
       "is_intergenic_Signac                                1.000000e+00   \n",
       "is_intron_Signac                                    1.000000e+00   \n",
       "is_promoter_Signac                                  6.956784e-01   \n",
       "\n",
       "                                                    pval.Factor9  \\\n",
       "contains_primed_enhancers                               1.000000   \n",
       "contains_active_enhancers                               0.691080   \n",
       "contains_repressed_enhancers                            1.000000   \n",
       "contains_primed_enhancers_2nd_and_3rd_trimester         1.000000   \n",
       "contains_active_enhancers_2nd_and_3rd_trimester         1.000000   \n",
       "contains_repressed_enhancers_2nd_and_3rd_trimester      1.000000   \n",
       "is_exon_Signac                                          1.000000   \n",
       "is_intergenic_Signac                                    0.238751   \n",
       "is_intron_Signac                                        0.969893   \n",
       "is_promoter_Signac                                      1.000000   \n",
       "\n",
       "                                                    pval.Factor10  ...  \\\n",
       "contains_primed_enhancers                            1.069960e-15  ...   \n",
       "contains_active_enhancers                            1.000000e+00  ...   \n",
       "contains_repressed_enhancers                         1.418137e-11  ...   \n",
       "contains_primed_enhancers_2nd_and_3rd_trimester      1.547772e-06  ...   \n",
       "contains_active_enhancers_2nd_and_3rd_trimester      1.000000e+00  ...   \n",
       "contains_repressed_enhancers_2nd_and_3rd_trimester   2.039610e-05  ...   \n",
       "is_exon_Signac                                       1.000000e+00  ...   \n",
       "is_intergenic_Signac                                 4.224395e-34  ...   \n",
       "is_intron_Signac                                     4.441397e-43  ...   \n",
       "is_promoter_Signac                                   5.907793e-06  ...   \n",
       "\n",
       "                                                    setstats.Factor1  \\\n",
       "contains_primed_enhancers                                   0.000000   \n",
       "contains_active_enhancers                                   0.000000   \n",
       "contains_repressed_enhancers                                0.000000   \n",
       "contains_primed_enhancers_2nd_and_3rd_trimester             0.000000   \n",
       "contains_active_enhancers_2nd_and_3rd_trimester             0.000000   \n",
       "contains_repressed_enhancers_2nd_and_3rd_trimester          0.000000   \n",
       "is_exon_Signac                                              0.000000   \n",
       "is_intergenic_Signac                                       24.881994   \n",
       "is_intron_Signac                                           27.106567   \n",
       "is_promoter_Signac                                          4.922552   \n",
       "\n",
       "                                                    setstats.Factor2  \\\n",
       "contains_primed_enhancers                                   0.244325   \n",
       "contains_active_enhancers                                   6.963934   \n",
       "contains_repressed_enhancers                                3.204384   \n",
       "contains_primed_enhancers_2nd_and_3rd_trimester             1.414870   \n",
       "contains_active_enhancers_2nd_and_3rd_trimester            11.484672   \n",
       "contains_repressed_enhancers_2nd_and_3rd_trimester          6.392890   \n",
       "is_exon_Signac                                             13.091159   \n",
       "is_intergenic_Signac                                        0.000000   \n",
       "is_intron_Signac                                            0.000000   \n",
       "is_promoter_Signac                                          0.000000   \n",
       "\n",
       "                                                    setstats.Factor3  \\\n",
       "contains_primed_enhancers                                   0.000000   \n",
       "contains_active_enhancers                                   4.868610   \n",
       "contains_repressed_enhancers                                0.000000   \n",
       "contains_primed_enhancers_2nd_and_3rd_trimester             0.540362   \n",
       "contains_active_enhancers_2nd_and_3rd_trimester             8.011142   \n",
       "contains_repressed_enhancers_2nd_and_3rd_trimester          0.298880   \n",
       "is_exon_Signac                                             10.925206   \n",
       "is_intergenic_Signac                                        0.000000   \n",
       "is_intron_Signac                                            0.000000   \n",
       "is_promoter_Signac                                          0.000000   \n",
       "\n",
       "                                                    setstats.Factor4  \\\n",
       "contains_primed_enhancers                                   2.645918   \n",
       "contains_active_enhancers                                   0.000000   \n",
       "contains_repressed_enhancers                                4.734989   \n",
       "contains_primed_enhancers_2nd_and_3rd_trimester             3.707381   \n",
       "contains_active_enhancers_2nd_and_3rd_trimester             0.000000   \n",
       "contains_repressed_enhancers_2nd_and_3rd_trimester          5.464757   \n",
       "is_exon_Signac                                              0.000000   \n",
       "is_intergenic_Signac                                        2.955228   \n",
       "is_intron_Signac                                            2.800662   \n",
       "is_promoter_Signac                                          0.000000   \n",
       "\n",
       "                                                    setstats.Factor5  \\\n",
       "contains_primed_enhancers                                   0.000000   \n",
       "contains_active_enhancers                                  25.983096   \n",
       "contains_repressed_enhancers                                0.000000   \n",
       "contains_primed_enhancers_2nd_and_3rd_trimester             0.000000   \n",
       "contains_active_enhancers_2nd_and_3rd_trimester            41.237175   \n",
       "contains_repressed_enhancers_2nd_and_3rd_trimester          0.000000   \n",
       "is_exon_Signac                                             72.066772   \n",
       "is_intergenic_Signac                                        0.000000   \n",
       "is_intron_Signac                                            0.000000   \n",
       "is_promoter_Signac                                          0.000000   \n",
       "\n",
       "                                                    setstats.Factor6  \\\n",
       "contains_primed_enhancers                                   0.000000   \n",
       "contains_active_enhancers                                   0.000000   \n",
       "contains_repressed_enhancers                                0.000000   \n",
       "contains_primed_enhancers_2nd_and_3rd_trimester             0.000000   \n",
       "contains_active_enhancers_2nd_and_3rd_trimester             0.000000   \n",
       "contains_repressed_enhancers_2nd_and_3rd_trimester          0.000000   \n",
       "is_exon_Signac                                              0.000000   \n",
       "is_intergenic_Signac                                        5.125709   \n",
       "is_intron_Signac                                            5.475939   \n",
       "is_promoter_Signac                                          0.685429   \n",
       "\n",
       "                                                    setstats.Factor7  \\\n",
       "contains_primed_enhancers                                   2.835257   \n",
       "contains_active_enhancers                                   0.000000   \n",
       "contains_repressed_enhancers                                3.397980   \n",
       "contains_primed_enhancers_2nd_and_3rd_trimester             3.184300   \n",
       "contains_active_enhancers_2nd_and_3rd_trimester             0.000000   \n",
       "contains_repressed_enhancers_2nd_and_3rd_trimester          2.279262   \n",
       "is_exon_Signac                                              0.000000   \n",
       "is_intergenic_Signac                                        4.044202   \n",
       "is_intron_Signac                                            3.680525   \n",
       "is_promoter_Signac                                          0.000000   \n",
       "\n",
       "                                                    setstats.Factor8  \\\n",
       "contains_primed_enhancers                                   0.925647   \n",
       "contains_active_enhancers                                   3.613323   \n",
       "contains_repressed_enhancers                                3.032140   \n",
       "contains_primed_enhancers_2nd_and_3rd_trimester             3.106426   \n",
       "contains_active_enhancers_2nd_and_3rd_trimester             5.722480   \n",
       "contains_repressed_enhancers_2nd_and_3rd_trimester          3.246399   \n",
       "is_exon_Signac                                              5.374999   \n",
       "is_intergenic_Signac                                        0.000000   \n",
       "is_intron_Signac                                            0.000000   \n",
       "is_promoter_Signac                                          0.391171   \n",
       "\n",
       "                                                    setstats.Factor9  \\\n",
       "contains_primed_enhancers                                   0.000000   \n",
       "contains_active_enhancers                                   0.397401   \n",
       "contains_repressed_enhancers                                0.000000   \n",
       "contains_primed_enhancers_2nd_and_3rd_trimester             0.000000   \n",
       "contains_active_enhancers_2nd_and_3rd_trimester             0.000000   \n",
       "contains_repressed_enhancers_2nd_and_3rd_trimester          0.000000   \n",
       "is_exon_Signac                                              0.000000   \n",
       "is_intergenic_Signac                                        1.178181   \n",
       "is_intron_Signac                                            0.037744   \n",
       "is_promoter_Signac                                          0.000000   \n",
       "\n",
       "                                                    setstats.Factor10  \n",
       "contains_primed_enhancers                                    8.030876  \n",
       "contains_active_enhancers                                    0.000000  \n",
       "contains_repressed_enhancers                                 6.763453  \n",
       "contains_primed_enhancers_2nd_and_3rd_trimester              4.807688  \n",
       "contains_active_enhancers_2nd_and_3rd_trimester              0.000000  \n",
       "contains_repressed_enhancers_2nd_and_3rd_trimester           4.262428  \n",
       "is_exon_Signac                                               0.000000  \n",
       "is_intergenic_Signac                                        12.217815  \n",
       "is_intron_Signac                                            13.821680  \n",
       "is_promoter_Signac                                           4.531954  \n",
       "\n",
       "[10 rows x 30 columns]"
      ]
     },
     "execution_count": 41,
     "metadata": {},
     "output_type": "execute_result"
    }
   ],
   "source": [
    "# plotting enrichment of peak groups in factor 10\n",
    "\n",
    "# this will change if we use other groupings of peaks in case we exclude some groups as not relevant (for example 2nd & 3rd trim peaks together)\n",
    "\n",
    "df_peak_enrichment = pd.read_csv('./20220218_MEFISTO_peak_group_enrichment_results.csv', index_col=0)\n",
    "df_peak_enrichment"
   ]
  },
  {
   "cell_type": "code",
   "execution_count": 42,
   "id": "illegal-bench",
   "metadata": {},
   "outputs": [
    {
     "data": {
      "text/plain": [
       "Index(['pval.Factor1', 'pval.Factor2', 'pval.Factor3', 'pval.Factor4',\n",
       "       'pval.Factor5', 'pval.Factor6', 'pval.Factor7', 'pval.Factor8',\n",
       "       'pval.Factor9', 'pval.Factor10', 'adj.pval.Factor1', 'adj.pval.Factor2',\n",
       "       'adj.pval.Factor3', 'adj.pval.Factor4', 'adj.pval.Factor5',\n",
       "       'adj.pval.Factor6', 'adj.pval.Factor7', 'adj.pval.Factor8',\n",
       "       'adj.pval.Factor9', 'adj.pval.Factor10', 'setstats.Factor1',\n",
       "       'setstats.Factor2', 'setstats.Factor3', 'setstats.Factor4',\n",
       "       'setstats.Factor5', 'setstats.Factor6', 'setstats.Factor7',\n",
       "       'setstats.Factor8', 'setstats.Factor9', 'setstats.Factor10'],\n",
       "      dtype='object')"
      ]
     },
     "execution_count": 42,
     "metadata": {},
     "output_type": "execute_result"
    }
   ],
   "source": [
    "df_peak_enrichment.columns"
   ]
  },
  {
   "cell_type": "code",
   "execution_count": 43,
   "id": "accessory-times",
   "metadata": {},
   "outputs": [
    {
     "name": "stdout",
     "output_type": "stream",
     "text": [
      "Factor1\n",
      "Factor2\n",
      "Factor3\n",
      "Factor4\n",
      "Factor6\n",
      "Factor7\n",
      "Factor8\n",
      "Factor9\n",
      "Factor10\n"
     ]
    }
   ],
   "source": [
    "factors = ['Factor' + str(i+1) for i in [0,1,2,3,5,6,7,8,9]]\n",
    "\n",
    "# removing factor 5 since it's technical\n",
    "\n",
    "df_peak_enrichment_per_factor = {}\n",
    "\n",
    "for factor in factors:\n",
    "    print(factor)\n",
    "    df_peak_enrichment_per_factor[factor] = df_peak_enrichment.loc[:,['pval.' + factor,\n",
    "                                                                      'adj.pval.' + factor,\n",
    "                                                                      'setstats.' + factor]\n",
    "                                                                  ]\n",
    "    "
   ]
  },
  {
   "cell_type": "code",
   "execution_count": 44,
   "id": "completed-universal",
   "metadata": {},
   "outputs": [
    {
     "data": {
      "text/html": [
       "<div>\n",
       "<style scoped>\n",
       "    .dataframe tbody tr th:only-of-type {\n",
       "        vertical-align: middle;\n",
       "    }\n",
       "\n",
       "    .dataframe tbody tr th {\n",
       "        vertical-align: top;\n",
       "    }\n",
       "\n",
       "    .dataframe thead th {\n",
       "        text-align: right;\n",
       "    }\n",
       "</style>\n",
       "<table border=\"1\" class=\"dataframe\">\n",
       "  <thead>\n",
       "    <tr style=\"text-align: right;\">\n",
       "      <th></th>\n",
       "      <th>pval.Factor10</th>\n",
       "      <th>adj.pval.Factor10</th>\n",
       "      <th>setstats.Factor10</th>\n",
       "    </tr>\n",
       "  </thead>\n",
       "  <tbody>\n",
       "    <tr>\n",
       "      <th>contains_primed_enhancers</th>\n",
       "      <td>1.069960e-15</td>\n",
       "      <td>1.783266e-15</td>\n",
       "      <td>8.030876</td>\n",
       "    </tr>\n",
       "    <tr>\n",
       "      <th>contains_active_enhancers</th>\n",
       "      <td>1.000000e+00</td>\n",
       "      <td>1.000000e+00</td>\n",
       "      <td>0.000000</td>\n",
       "    </tr>\n",
       "    <tr>\n",
       "      <th>contains_repressed_enhancers</th>\n",
       "      <td>1.418137e-11</td>\n",
       "      <td>2.025910e-11</td>\n",
       "      <td>6.763453</td>\n",
       "    </tr>\n",
       "    <tr>\n",
       "      <th>contains_primed_enhancers_2nd_and_3rd_trimester</th>\n",
       "      <td>1.547772e-06</td>\n",
       "      <td>1.934715e-06</td>\n",
       "      <td>4.807688</td>\n",
       "    </tr>\n",
       "    <tr>\n",
       "      <th>contains_active_enhancers_2nd_and_3rd_trimester</th>\n",
       "      <td>1.000000e+00</td>\n",
       "      <td>1.000000e+00</td>\n",
       "      <td>0.000000</td>\n",
       "    </tr>\n",
       "    <tr>\n",
       "      <th>contains_repressed_enhancers_2nd_and_3rd_trimester</th>\n",
       "      <td>2.039610e-05</td>\n",
       "      <td>2.039610e-05</td>\n",
       "      <td>4.262428</td>\n",
       "    </tr>\n",
       "    <tr>\n",
       "      <th>is_exon_Signac</th>\n",
       "      <td>1.000000e+00</td>\n",
       "      <td>1.000000e+00</td>\n",
       "      <td>0.000000</td>\n",
       "    </tr>\n",
       "    <tr>\n",
       "      <th>is_intergenic_Signac</th>\n",
       "      <td>4.224395e-34</td>\n",
       "      <td>8.448790e-34</td>\n",
       "      <td>12.217815</td>\n",
       "    </tr>\n",
       "    <tr>\n",
       "      <th>is_intron_Signac</th>\n",
       "      <td>4.441397e-43</td>\n",
       "      <td>1.110349e-42</td>\n",
       "      <td>13.821680</td>\n",
       "    </tr>\n",
       "    <tr>\n",
       "      <th>is_promoter_Signac</th>\n",
       "      <td>5.907793e-06</td>\n",
       "      <td>6.564214e-06</td>\n",
       "      <td>4.531954</td>\n",
       "    </tr>\n",
       "  </tbody>\n",
       "</table>\n",
       "</div>"
      ],
      "text/plain": [
       "                                                    pval.Factor10  \\\n",
       "contains_primed_enhancers                            1.069960e-15   \n",
       "contains_active_enhancers                            1.000000e+00   \n",
       "contains_repressed_enhancers                         1.418137e-11   \n",
       "contains_primed_enhancers_2nd_and_3rd_trimester      1.547772e-06   \n",
       "contains_active_enhancers_2nd_and_3rd_trimester      1.000000e+00   \n",
       "contains_repressed_enhancers_2nd_and_3rd_trimester   2.039610e-05   \n",
       "is_exon_Signac                                       1.000000e+00   \n",
       "is_intergenic_Signac                                 4.224395e-34   \n",
       "is_intron_Signac                                     4.441397e-43   \n",
       "is_promoter_Signac                                   5.907793e-06   \n",
       "\n",
       "                                                    adj.pval.Factor10  \\\n",
       "contains_primed_enhancers                                1.783266e-15   \n",
       "contains_active_enhancers                                1.000000e+00   \n",
       "contains_repressed_enhancers                             2.025910e-11   \n",
       "contains_primed_enhancers_2nd_and_3rd_trimester          1.934715e-06   \n",
       "contains_active_enhancers_2nd_and_3rd_trimester          1.000000e+00   \n",
       "contains_repressed_enhancers_2nd_and_3rd_trimester       2.039610e-05   \n",
       "is_exon_Signac                                           1.000000e+00   \n",
       "is_intergenic_Signac                                     8.448790e-34   \n",
       "is_intron_Signac                                         1.110349e-42   \n",
       "is_promoter_Signac                                       6.564214e-06   \n",
       "\n",
       "                                                    setstats.Factor10  \n",
       "contains_primed_enhancers                                    8.030876  \n",
       "contains_active_enhancers                                    0.000000  \n",
       "contains_repressed_enhancers                                 6.763453  \n",
       "contains_primed_enhancers_2nd_and_3rd_trimester              4.807688  \n",
       "contains_active_enhancers_2nd_and_3rd_trimester              0.000000  \n",
       "contains_repressed_enhancers_2nd_and_3rd_trimester           4.262428  \n",
       "is_exon_Signac                                               0.000000  \n",
       "is_intergenic_Signac                                        12.217815  \n",
       "is_intron_Signac                                            13.821680  \n",
       "is_promoter_Signac                                           4.531954  "
      ]
     },
     "execution_count": 44,
     "metadata": {},
     "output_type": "execute_result"
    }
   ],
   "source": [
    "df_peak_enrichment_per_factor['Factor10']"
   ]
  },
  {
   "cell_type": "code",
   "execution_count": 46,
   "id": "intellectual-trinidad",
   "metadata": {},
   "outputs": [
    {
     "data": {
      "text/plain": [
       "<AxesSubplot:>"
      ]
     },
     "execution_count": 46,
     "metadata": {},
     "output_type": "execute_result"
    },
    {
     "data": {
      "image/png": "[encoded data removed]",
      "text/plain": [
       "<Figure size 320x320 with 2 Axes>"
      ]
     },
     "metadata": {
      "needs_background": "light"
     },
     "output_type": "display_data"
    }
   ],
   "source": [
    "sns.heatmap(pd.DataFrame(df_peak_enrichment_per_factor['Factor10']['setstats.Factor10']),\n",
    "           cmap='RdBu_r', center=0)\n"
   ]
  },
  {
   "cell_type": "code",
   "execution_count": 47,
   "id": "appreciated-procurement",
   "metadata": {},
   "outputs": [],
   "source": [
    "enrichment_df_all_factors = df_peak_enrichment.loc[:,['setstats.' + factor for factor in factors]]"
   ]
  },
  {
   "cell_type": "code",
   "execution_count": 48,
   "id": "cellular-rabbit",
   "metadata": {},
   "outputs": [
    {
     "data": {
      "text/plain": [
       "<AxesSubplot:>"
      ]
     },
     "execution_count": 48,
     "metadata": {},
     "output_type": "execute_result"
    },
    {
     "data": {
      "image/png": "[encoded data removed]",
      "text/plain": [
       "<Figure size 320x320 with 2 Axes>"
      ]
     },
     "metadata": {
      "needs_background": "light"
     },
     "output_type": "display_data"
    }
   ],
   "source": [
    "sns.heatmap(enrichment_df_all_factors, cmap='RdBu_r', center=0)"
   ]
  },
  {
   "cell_type": "code",
   "execution_count": 49,
   "id": "major-harris",
   "metadata": {},
   "outputs": [
    {
     "data": {
      "text/html": [
       "<div>\n",
       "<style scoped>\n",
       "    .dataframe tbody tr th:only-of-type {\n",
       "        vertical-align: middle;\n",
       "    }\n",
       "\n",
       "    .dataframe tbody tr th {\n",
       "        vertical-align: top;\n",
       "    }\n",
       "\n",
       "    .dataframe thead th {\n",
       "        text-align: right;\n",
       "    }\n",
       "</style>\n",
       "<table border=\"1\" class=\"dataframe\">\n",
       "  <thead>\n",
       "    <tr style=\"text-align: right;\">\n",
       "      <th></th>\n",
       "      <th>pval.Factor10</th>\n",
       "      <th>adj.pval.Factor10</th>\n",
       "      <th>setstats.Factor10</th>\n",
       "    </tr>\n",
       "  </thead>\n",
       "  <tbody>\n",
       "    <tr>\n",
       "      <th>contains_primed_enhancers</th>\n",
       "      <td>1.069960e-15</td>\n",
       "      <td>1.783266e-15</td>\n",
       "      <td>8.030876</td>\n",
       "    </tr>\n",
       "    <tr>\n",
       "      <th>contains_active_enhancers</th>\n",
       "      <td>1.000000e+00</td>\n",
       "      <td>1.000000e+00</td>\n",
       "      <td>0.000000</td>\n",
       "    </tr>\n",
       "    <tr>\n",
       "      <th>contains_repressed_enhancers</th>\n",
       "      <td>1.418137e-11</td>\n",
       "      <td>2.025910e-11</td>\n",
       "      <td>6.763453</td>\n",
       "    </tr>\n",
       "    <tr>\n",
       "      <th>contains_primed_enhancers_2nd_and_3rd_trimester</th>\n",
       "      <td>1.547772e-06</td>\n",
       "      <td>1.934715e-06</td>\n",
       "      <td>4.807688</td>\n",
       "    </tr>\n",
       "    <tr>\n",
       "      <th>contains_active_enhancers_2nd_and_3rd_trimester</th>\n",
       "      <td>1.000000e+00</td>\n",
       "      <td>1.000000e+00</td>\n",
       "      <td>0.000000</td>\n",
       "    </tr>\n",
       "    <tr>\n",
       "      <th>contains_repressed_enhancers_2nd_and_3rd_trimester</th>\n",
       "      <td>2.039610e-05</td>\n",
       "      <td>2.039610e-05</td>\n",
       "      <td>4.262428</td>\n",
       "    </tr>\n",
       "    <tr>\n",
       "      <th>is_exon_Signac</th>\n",
       "      <td>1.000000e+00</td>\n",
       "      <td>1.000000e+00</td>\n",
       "      <td>0.000000</td>\n",
       "    </tr>\n",
       "    <tr>\n",
       "      <th>is_intergenic_Signac</th>\n",
       "      <td>4.224395e-34</td>\n",
       "      <td>8.448790e-34</td>\n",
       "      <td>12.217815</td>\n",
       "    </tr>\n",
       "    <tr>\n",
       "      <th>is_intron_Signac</th>\n",
       "      <td>4.441397e-43</td>\n",
       "      <td>1.110349e-42</td>\n",
       "      <td>13.821680</td>\n",
       "    </tr>\n",
       "    <tr>\n",
       "      <th>is_promoter_Signac</th>\n",
       "      <td>5.907793e-06</td>\n",
       "      <td>6.564214e-06</td>\n",
       "      <td>4.531954</td>\n",
       "    </tr>\n",
       "  </tbody>\n",
       "</table>\n",
       "</div>"
      ],
      "text/plain": [
       "                                                    pval.Factor10  \\\n",
       "contains_primed_enhancers                            1.069960e-15   \n",
       "contains_active_enhancers                            1.000000e+00   \n",
       "contains_repressed_enhancers                         1.418137e-11   \n",
       "contains_primed_enhancers_2nd_and_3rd_trimester      1.547772e-06   \n",
       "contains_active_enhancers_2nd_and_3rd_trimester      1.000000e+00   \n",
       "contains_repressed_enhancers_2nd_and_3rd_trimester   2.039610e-05   \n",
       "is_exon_Signac                                       1.000000e+00   \n",
       "is_intergenic_Signac                                 4.224395e-34   \n",
       "is_intron_Signac                                     4.441397e-43   \n",
       "is_promoter_Signac                                   5.907793e-06   \n",
       "\n",
       "                                                    adj.pval.Factor10  \\\n",
       "contains_primed_enhancers                                1.783266e-15   \n",
       "contains_active_enhancers                                1.000000e+00   \n",
       "contains_repressed_enhancers                             2.025910e-11   \n",
       "contains_primed_enhancers_2nd_and_3rd_trimester          1.934715e-06   \n",
       "contains_active_enhancers_2nd_and_3rd_trimester          1.000000e+00   \n",
       "contains_repressed_enhancers_2nd_and_3rd_trimester       2.039610e-05   \n",
       "is_exon_Signac                                           1.000000e+00   \n",
       "is_intergenic_Signac                                     8.448790e-34   \n",
       "is_intron_Signac                                         1.110349e-42   \n",
       "is_promoter_Signac                                       6.564214e-06   \n",
       "\n",
       "                                                    setstats.Factor10  \n",
       "contains_primed_enhancers                                    8.030876  \n",
       "contains_active_enhancers                                    0.000000  \n",
       "contains_repressed_enhancers                                 6.763453  \n",
       "contains_primed_enhancers_2nd_and_3rd_trimester              4.807688  \n",
       "contains_active_enhancers_2nd_and_3rd_trimester              0.000000  \n",
       "contains_repressed_enhancers_2nd_and_3rd_trimester           4.262428  \n",
       "is_exon_Signac                                               0.000000  \n",
       "is_intergenic_Signac                                        12.217815  \n",
       "is_intron_Signac                                            13.821680  \n",
       "is_promoter_Signac                                           4.531954  "
      ]
     },
     "execution_count": 49,
     "metadata": {},
     "output_type": "execute_result"
    }
   ],
   "source": [
    "df_peak_enrichment_per_factor['Factor10']"
   ]
  },
  {
   "cell_type": "code",
   "execution_count": 52,
   "id": "working-necessity",
   "metadata": {},
   "outputs": [
    {
     "data": {
      "text/plain": [
       "Index(['contains_primed_enhancers', 'contains_active_enhancers',\n",
       "       'contains_repressed_enhancers',\n",
       "       'contains_primed_enhancers_2nd_and_3rd_trimester',\n",
       "       'contains_active_enhancers_2nd_and_3rd_trimester',\n",
       "       'contains_repressed_enhancers_2nd_and_3rd_trimester', 'is_exon_Signac',\n",
       "       'is_intergenic_Signac', 'is_intron_Signac', 'is_promoter_Signac'],\n",
       "      dtype='object')"
      ]
     },
     "execution_count": 52,
     "metadata": {},
     "output_type": "execute_result"
    }
   ],
   "source": [
    "# ignoring 2nd_and_3rd_trimester annotations - not relevant for us\n",
    "df_peak_enrichment_per_factor['Factor10'].index"
   ]
  },
  {
   "cell_type": "code",
   "execution_count": 56,
   "id": "false-screening",
   "metadata": {},
   "outputs": [],
   "source": [
    "import matplotlib as mpl\n",
    "mpl.rcParams['pdf.fonttype'] = 42"
   ]
  },
  {
   "cell_type": "code",
   "execution_count": 69,
   "id": "ranging-reunion",
   "metadata": {},
   "outputs": [
    {
     "data": {
      "image/png": "[encoded data removed]",
      "text/plain": [
       "<Figure size 560x80 with 2 Axes>"
      ]
     },
     "metadata": {
      "needs_background": "light"
     },
     "output_type": "display_data"
    }
   ],
   "source": [
    "plt.figure(figsize=(7,1))\n",
    "sns.heatmap(pd.DataFrame(df_peak_enrichment_per_factor['Factor10'].loc[['contains_primed_enhancers', 'contains_active_enhancers',\n",
    "       'contains_repressed_enhancers','is_exon_Signac',\n",
    "       'is_intergenic_Signac', 'is_intron_Signac', 'is_promoter_Signac'],\n",
    "                                                                       'setstats.Factor10']).T,\n",
    "           cmap='RdBu_r', center=0)\n",
    "plt.xticks(rotation=90)\n",
    "plt.savefig('./figures/20220218_ATAC_groups_enrichment_factor10.pdf', bbox_inches='tight')\n"
   ]
  },
  {
   "cell_type": "code",
   "execution_count": null,
   "id": "missing-dynamics",
   "metadata": {},
   "outputs": [],
   "source": []
  },
  {
   "cell_type": "code",
   "execution_count": null,
   "id": "olympic-output",
   "metadata": {},
   "outputs": [],
   "source": []
  },
  {
   "cell_type": "code",
   "execution_count": 174,
   "id": "prescription-harvey",
   "metadata": {},
   "outputs": [
    {
     "data": {
      "image/png": "[encoded data removed]"
     },
     "metadata": {},
     "output_type": "display_data"
    }
   ],
   "source": [
    "%%R\n",
    "\n",
    "# visualise\n",
    "\n",
    "plot_enrichment(peak.groups.enrichment.positive, factor = 1, max.pathways = 50)"
   ]
  },
  {
   "cell_type": "code",
   "execution_count": 175,
   "id": "velvet-witness",
   "metadata": {},
   "outputs": [
    {
     "name": "stdout",
     "output_type": "stream",
     "text": [
      "NULL\n"
     ]
    }
   ],
   "source": [
    "%%R\n",
    "\n",
    "# visualise\n",
    "\n",
    "#plot_enrichment(peak.groups.enrichment.positive, factor = 1, max.pathways = 50)\n",
    "\n",
    "#ggsave(filename = paste0('./figures/enrichment_plots/20220131_MEFISTO_peak_groups_enrichment_factor_1.pdf'), dpi = 300, width = 6, height = 2)"
   ]
  },
  {
   "cell_type": "code",
   "execution_count": 176,
   "id": "abstract-friendship",
   "metadata": {},
   "outputs": [
    {
     "data": {
      "image/png": "[encoded data removed]"
     },
     "metadata": {},
     "output_type": "display_data"
    }
   ],
   "source": [
    "%%R\n",
    "\n",
    "# visualise\n",
    "\n",
    "plot_enrichment(peak.groups.enrichment.positive, factor = 2, max.pathways = 50)"
   ]
  },
  {
   "cell_type": "code",
   "execution_count": 177,
   "id": "molecular-radar",
   "metadata": {},
   "outputs": [
    {
     "data": {
      "image/png": "[encoded data removed]"
     },
     "metadata": {},
     "output_type": "display_data"
    }
   ],
   "source": [
    "%%R\n",
    "\n",
    "# visualise\n",
    "\n",
    "plot_enrichment(peak.groups.enrichment.positive, factor = 3, max.pathways = 50)"
   ]
  },
  {
   "cell_type": "code",
   "execution_count": 178,
   "id": "stuck-assessment",
   "metadata": {},
   "outputs": [
    {
     "name": "stdout",
     "output_type": "stream",
     "text": [
      "NULL\n"
     ]
    }
   ],
   "source": [
    "%%R\n",
    "\n",
    "# visualise\n",
    "\n",
    "#plot_enrichment(peak.groups.enrichment.positive, factor = 3, max.pathways = 50)\n",
    "\n",
    "#ggsave(filename = paste0('./figures/enrichment_plots/20220131_MEFISTO_peak_groups_enrichment_factor_3.pdf'), dpi = 300, width = 6, height = 2)"
   ]
  },
  {
   "cell_type": "code",
   "execution_count": 179,
   "id": "august-belle",
   "metadata": {},
   "outputs": [
    {
     "data": {
      "image/png": "[encoded data removed]"
     },
     "metadata": {},
     "output_type": "display_data"
    }
   ],
   "source": [
    "%%R\n",
    "\n",
    "# visualise\n",
    "\n",
    "plot_enrichment(peak.groups.enrichment.positive, factor = 4, max.pathways = 50)"
   ]
  },
  {
   "cell_type": "code",
   "execution_count": 180,
   "id": "derived-christianity",
   "metadata": {},
   "outputs": [
    {
     "name": "stdout",
     "output_type": "stream",
     "text": [
      "NULL\n"
     ]
    }
   ],
   "source": [
    "%%R\n",
    "\n",
    "# visualise\n",
    "\n",
    "#plot_enrichment(peak.groups.enrichment.positive, factor = 4, max.pathways = 50)\n",
    "\n",
    "#ggsave(filename = paste0('./figures/enrichment_plots/20220131_MEFISTO_peak_groups_enrichment_factor_4.pdf'), dpi = 300, width = 6, height = 2)"
   ]
  },
  {
   "cell_type": "code",
   "execution_count": 181,
   "id": "equivalent-jesus",
   "metadata": {},
   "outputs": [
    {
     "data": {
      "image/png": "[encoded data removed]"
     },
     "metadata": {},
     "output_type": "display_data"
    }
   ],
   "source": [
    "%%R\n",
    "\n",
    "# visualise\n",
    "\n",
    "plot_enrichment(peak.groups.enrichment.positive, factor = 5, max.pathways = 50)"
   ]
  },
  {
   "cell_type": "code",
   "execution_count": 182,
   "id": "injured-bibliography",
   "metadata": {},
   "outputs": [
    {
     "data": {
      "image/png": "[encoded data removed]"
     },
     "metadata": {},
     "output_type": "display_data"
    }
   ],
   "source": [
    "%%R\n",
    "\n",
    "# visualise\n",
    "\n",
    "plot_enrichment(peak.groups.enrichment.positive, factor = 6, max.pathways = 50)"
   ]
  },
  {
   "cell_type": "code",
   "execution_count": 183,
   "id": "exclusive-match",
   "metadata": {},
   "outputs": [
    {
     "data": {
      "image/png": "[encoded data removed]"
     },
     "metadata": {},
     "output_type": "display_data"
    }
   ],
   "source": [
    "%%R\n",
    "\n",
    "# visualise\n",
    "\n",
    "plot_enrichment(peak.groups.enrichment.positive, factor = 7, max.pathways = 50)"
   ]
  },
  {
   "cell_type": "code",
   "execution_count": 184,
   "id": "pressed-singles",
   "metadata": {},
   "outputs": [
    {
     "name": "stdout",
     "output_type": "stream",
     "text": [
      "NULL\n"
     ]
    }
   ],
   "source": [
    "%%R\n",
    "\n",
    "# visualise\n",
    "\n",
    "#plot_enrichment(peak.groups.enrichment.positive, factor = 7, max.pathways = 50)\n",
    "\n",
    "#ggsave(filename = paste0('./figures/enrichment_plots/20220131_MEFISTO_peak_groups_enrichment_factor_7.pdf'), dpi = 300, width = 6, height = 3)"
   ]
  },
  {
   "cell_type": "code",
   "execution_count": 185,
   "id": "binary-swiss",
   "metadata": {},
   "outputs": [
    {
     "data": {
      "image/png": "[encoded data removed]"
     },
     "metadata": {},
     "output_type": "display_data"
    }
   ],
   "source": [
    "%%R\n",
    "\n",
    "# visualise\n",
    "\n",
    "plot_enrichment(peak.groups.enrichment.positive, factor = 8, max.pathways = 50)"
   ]
  },
  {
   "cell_type": "code",
   "execution_count": 186,
   "id": "played-amateur",
   "metadata": {},
   "outputs": [
    {
     "name": "stderr",
     "output_type": "stream",
     "text": [
      "R[write to console]: Error in plot_enrichment(peak.groups.enrichment.positive, factor = 9,  : \n",
      "  No siginificant pathways at the specified alpha threshold\n",
      "\n"
     ]
    },
    {
     "name": "stdout",
     "output_type": "stream",
     "text": [
      "\n",
      "Error in plot_enrichment(peak.groups.enrichment.positive, factor = 9,  : \n",
      "  No siginificant pathways at the specified alpha threshold\n"
     ]
    }
   ],
   "source": [
    "%%R\n",
    "\n",
    "# visualise\n",
    "\n",
    "plot_enrichment(peak.groups.enrichment.positive, factor = 9, max.pathways = 50)"
   ]
  },
  {
   "cell_type": "code",
   "execution_count": 113,
   "id": "competent-buffalo",
   "metadata": {},
   "outputs": [
    {
     "data": {
      "image/png": "[encoded data removed]"
     },
     "metadata": {},
     "output_type": "display_data"
    }
   ],
   "source": [
    "%%R\n",
    "\n",
    "# visualise\n",
    "\n",
    "plot_enrichment(peak.groups.enrichment.positive, factor = 10, max.pathways = 50)"
   ]
  },
  {
   "cell_type": "code",
   "execution_count": 114,
   "id": "insured-gravity",
   "metadata": {},
   "outputs": [],
   "source": [
    "%%R\n",
    "\n",
    "# visualise\n",
    "\n",
    "plot_enrichment(peak.groups.enrichment.positive, factor = 10, max.pathways = 50)\n",
    "\n",
    "ggsave(filename = paste0('./figures/enrichment_plots/20220213_MEFISTO_peak_groups_enrichment_factor_10.pdf'), dpi = 300, width = 6, height = 3)"
   ]
  },
  {
   "cell_type": "code",
   "execution_count": null,
   "id": "marine-disease",
   "metadata": {},
   "outputs": [],
   "source": []
  },
  {
   "cell_type": "code",
   "execution_count": null,
   "id": "incorporated-thumbnail",
   "metadata": {},
   "outputs": [],
   "source": []
  },
  {
   "cell_type": "code",
   "execution_count": null,
   "id": "communist-yield",
   "metadata": {},
   "outputs": [],
   "source": []
  },
  {
   "cell_type": "code",
   "execution_count": null,
   "id": "necessary-anime",
   "metadata": {},
   "outputs": [],
   "source": []
  },
  {
   "cell_type": "code",
   "execution_count": null,
   "id": "technical-logistics",
   "metadata": {},
   "outputs": [],
   "source": []
  },
  {
   "cell_type": "code",
   "execution_count": null,
   "id": "excellent-sculpture",
   "metadata": {},
   "outputs": [],
   "source": []
  }
 ],
 "metadata": {
  "kernelspec": {
   "display_name": "Python 3",
   "language": "python",
   "name": "python3"
  },
  "language_info": {
   "codemirror_mode": {
    "name": "ipython",
    "version": 3
   },
   "file_extension": ".py",
   "mimetype": "text/x-python",
   "name": "python",
   "nbconvert_exporter": "python",
   "pygments_lexer": "ipython3",
   "version": "3.8.8"
  }
 },
 "nbformat": 4,
 "nbformat_minor": 5
}
