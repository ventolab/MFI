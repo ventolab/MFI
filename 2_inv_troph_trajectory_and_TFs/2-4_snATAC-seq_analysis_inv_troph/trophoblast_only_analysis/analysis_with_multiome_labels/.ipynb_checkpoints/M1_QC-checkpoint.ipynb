{
 "cells": [
  {
   "cell_type": "markdown",
   "id": "necessary-origin",
   "metadata": {},
   "source": [
    "# Multiome ATAC only analysis\n",
    "\n",
    "## MFI, trophoblast only, with peak calling based on true labels coming from RNA annotation of multiome\n",
    "\n",
    "January 2022\n",
    "\n",
    "### Build anndata from cellatac output "
   ]
  },
  {
   "cell_type": "code",
   "execution_count": 1,
   "id": "joint-dress",
   "metadata": {},
   "outputs": [],
   "source": [
    "# Load libraries\n",
    "import pandas as pd \n",
    "import scanpy as sc\n",
    "import numpy as np\n",
    "import scipy.sparse"
   ]
  },
  {
   "cell_type": "code",
   "execution_count": 2,
   "id": "phantom-diagram",
   "metadata": {},
   "outputs": [],
   "source": [
    "# Define variables\n",
    "\n",
    "cellatac_outdir = '/lustre/scratch117/cellgen/team292/aa22/with_Stijn/202111_snATAC-seq_data_MFI/multiome_ATAC_samples_analysis/trophoblast_only_analysis/results200k_customcls4/'\n",
    "outdir = '/lustre/scratch117/cellgen/team292/aa22/with_Stijn/202111_snATAC-seq_data_MFI/multiome_ATAC_samples_analysis/trophoblast_only_analysis/downstream_analysis_custom_clust/'\n",
    "experiment_prefix = 'multiome_only_MFI_trophoblast_only_peak_calling_w_custom_clusters'\n"
   ]
  },
  {
   "cell_type": "code",
   "execution_count": 3,
   "id": "geological-hungary",
   "metadata": {},
   "outputs": [],
   "source": [
    "input={'cnts': cellatac_outdir + 'peak_matrix/peaks_bc_matrix.mmtx.gz',\n",
    "        \"bcs\": cellatac_outdir + 'peak_matrix/bc.txt',\n",
    "      \"peaks\": cellatac_outdir + 'peak_matrix/peaks.txt',\n",
    "      'clusters': cellatac_outdir + 'qc/seurat-clades.tsv'}\n",
    "\n",
    "output = {\n",
    "    \"cnt_mmtx\":outdir + experiment_prefix + '_ATAC_cisTopic.mmtx',\n",
    "    \"cnt_peaks\":outdir + experiment_prefix + '_ATAC_cisTopic.peaks.tsv',\n",
    "    \"cnt_cells\":outdir + experiment_prefix + '_ATAC_cisTopic.cells.tsv',\n",
    "    \"h5ad\":outdir + experiment_prefix + '_ATAC_raw.h5ad',\n",
    "}"
   ]
  },
  {
   "cell_type": "markdown",
   "id": "considered-disease",
   "metadata": {},
   "source": [
    "#### Make anndata object"
   ]
  },
  {
   "cell_type": "code",
   "execution_count": 4,
   "id": "developed-bulgaria",
   "metadata": {},
   "outputs": [],
   "source": [
    "adata = sc.read_mtx(input[\"cnts\"]).T\n",
    "\n",
    "bc = pd.read_table(input[\"bcs\"], header=None)\n",
    "feat = pd.read_table(input[\"peaks\"], header=None)\n",
    "\n",
    "adata.obs_names = bc[0]\n",
    "adata.var_names = feat[0]"
   ]
  },
  {
   "cell_type": "code",
   "execution_count": 5,
   "id": "infrared-placement",
   "metadata": {},
   "outputs": [
    {
     "data": {
      "text/plain": [
       "AnnData object with n_obs × n_vars = 7481 × 114030"
      ]
     },
     "execution_count": 5,
     "metadata": {},
     "output_type": "execute_result"
    }
   ],
   "source": [
    "# with cutom clusters-based peak calling\n",
    "adata"
   ]
  },
  {
   "cell_type": "code",
   "execution_count": 5,
   "id": "numerous-segment",
   "metadata": {},
   "outputs": [
    {
     "data": {
      "text/plain": [
       "AnnData object with n_obs × n_vars = 7481 × 109077"
      ]
     },
     "execution_count": 5,
     "metadata": {},
     "output_type": "execute_result"
    }
   ],
   "source": [
    "# DO NOT RERUN THIS CELL\n",
    "# with cellatac clusters-based peak calling\n",
    "adata"
   ]
  },
  {
   "cell_type": "markdown",
   "id": "disturbed-stylus",
   "metadata": {},
   "source": [
    "Figuring out correspondence of cellatac IDs to sample IDs"
   ]
  },
  {
   "cell_type": "code",
   "execution_count": 6,
   "id": "refined-printing",
   "metadata": {
    "tags": []
   },
   "outputs": [
    {
     "data": {
      "text/html": [
       "<div>\n",
       "<style scoped>\n",
       "    .dataframe tbody tr th:only-of-type {\n",
       "        vertical-align: middle;\n",
       "    }\n",
       "\n",
       "    .dataframe tbody tr th {\n",
       "        vertical-align: top;\n",
       "    }\n",
       "\n",
       "    .dataframe thead th {\n",
       "        text-align: right;\n",
       "    }\n",
       "</style>\n",
       "<table border=\"1\" class=\"dataframe\">\n",
       "  <thead>\n",
       "    <tr style=\"text-align: right;\">\n",
       "      <th></th>\n",
       "      <th>1</th>\n",
       "    </tr>\n",
       "    <tr>\n",
       "      <th>0</th>\n",
       "      <th></th>\n",
       "    </tr>\n",
       "  </thead>\n",
       "  <tbody>\n",
       "    <tr>\n",
       "      <th>09-TTCGTGCTCCGCACAA-1</th>\n",
       "      <td>Pla_Camb10714918_and_40110_Pla_Camb10687914-TT...</td>\n",
       "    </tr>\n",
       "    <tr>\n",
       "      <th>09-CGATTGAGTGCTCACC-1</th>\n",
       "      <td>Pla_Camb10714918_and_40110_Pla_Camb10687914-CG...</td>\n",
       "    </tr>\n",
       "    <tr>\n",
       "      <th>09-TATAGGTGTTGCTTCG-1</th>\n",
       "      <td>Pla_Camb10714918_and_40110_Pla_Camb10687914-TA...</td>\n",
       "    </tr>\n",
       "    <tr>\n",
       "      <th>09-ATGCGATTCATGCTAA-1</th>\n",
       "      <td>Pla_Camb10714918_and_40110_Pla_Camb10687914-AT...</td>\n",
       "    </tr>\n",
       "    <tr>\n",
       "      <th>09-GCATCCTTCATTTGCT-1</th>\n",
       "      <td>Pla_Camb10714918_and_40110_Pla_Camb10687914-GC...</td>\n",
       "    </tr>\n",
       "  </tbody>\n",
       "</table>\n",
       "</div>"
      ],
      "text/plain": [
       "                                                                       1\n",
       "0                                                                       \n",
       "09-TTCGTGCTCCGCACAA-1  Pla_Camb10714918_and_40110_Pla_Camb10687914-TT...\n",
       "09-CGATTGAGTGCTCACC-1  Pla_Camb10714918_and_40110_Pla_Camb10687914-CG...\n",
       "09-TATAGGTGTTGCTTCG-1  Pla_Camb10714918_and_40110_Pla_Camb10687914-TA...\n",
       "09-ATGCGATTCATGCTAA-1  Pla_Camb10714918_and_40110_Pla_Camb10687914-AT...\n",
       "09-GCATCCTTCATTTGCT-1  Pla_Camb10714918_and_40110_Pla_Camb10687914-GC..."
      ]
     },
     "execution_count": 6,
     "metadata": {},
     "output_type": "execute_result"
    }
   ],
   "source": [
    "# which identifiers are used here as sample IDs?\n",
    "tagmap = pd.read_csv(cellatac_outdir + 'cellmetadata/tagmap.txt', \n",
    "                    sep='\\t', index_col=0, header=None)\n",
    "tagmap.head()"
   ]
  },
  {
   "cell_type": "code",
   "execution_count": 7,
   "id": "adolescent-polish",
   "metadata": {},
   "outputs": [],
   "source": [
    "tagmap['cellatac_IDs'] = [idx.split('-')[0] for idx in tagmap.index]\n",
    "tagmap['sample_IDs'] = [elem.split('-')[0] for elem in tagmap[1]]\n"
   ]
  },
  {
   "cell_type": "code",
   "execution_count": 8,
   "id": "printable-nothing",
   "metadata": {},
   "outputs": [],
   "source": [
    "correspondence = [i + '_' + j for i,j in zip(tagmap['cellatac_IDs'],tagmap['sample_IDs'])]"
   ]
  },
  {
   "cell_type": "code",
   "execution_count": 9,
   "id": "disabled-creature",
   "metadata": {},
   "outputs": [
    {
     "data": {
      "text/plain": [
       "array(['06_Pla_HDBR10142863_and_37083_Pla_HDBR10084192',\n",
       "       '07_Pla_HDBR10142864_and_37083_Pla_HDBR10084193',\n",
       "       '08_Pla_HDBR10142865_and_37083_Pla_HDBR10084194',\n",
       "       '09_Pla_Camb10714918_and_40110_Pla_Camb10687914',\n",
       "       '10_Pla_Camb10714919_and_40110_Pla_Camb10687915',\n",
       "       '11_Pla_Camb10714920_and_40110_Pla_Camb10687916'], dtype='<U46')"
      ]
     },
     "execution_count": 9,
     "metadata": {},
     "output_type": "execute_result"
    }
   ],
   "source": [
    "np.unique(correspondence)"
   ]
  },
  {
   "cell_type": "code",
   "execution_count": 10,
   "id": "thorough-tribe",
   "metadata": {},
   "outputs": [],
   "source": [
    "adata.obs['cellatac_code'] = [elem.split('-')[0] for elem in adata.obs_names]"
   ]
  },
  {
   "cell_type": "code",
   "execution_count": 11,
   "id": "every-mixture",
   "metadata": {},
   "outputs": [
    {
     "data": {
      "text/plain": [
       "Pla_Camb10714920_and_40110_Pla_Camb10687916    3470\n",
       "Pla_Camb10714919_and_40110_Pla_Camb10687915    3423\n",
       "Pla_Camb10714918_and_40110_Pla_Camb10687914     450\n",
       "Pla_HDBR10142863_and_37083_Pla_HDBR10084192      60\n",
       "Pla_HDBR10142864_and_37083_Pla_HDBR10084193      43\n",
       "Pla_HDBR10142865_and_37083_Pla_HDBR10084194      35\n",
       "Name: sample, dtype: int64"
      ]
     },
     "execution_count": 11,
     "metadata": {},
     "output_type": "execute_result"
    }
   ],
   "source": [
    "# Sample from cellatac code \n",
    "sample_dictionary = {#'01' : 'Pla_HDBR8015040', \n",
    "                     #'02' : 'Pla_HDBR8642951',\n",
    "                     #'03' : 'Pla_HDBR8642952', \n",
    "                     #'04' : 'Pla_HDBR8768488', \n",
    "                     #'05' : 'Pla_HDBR8642950', \n",
    "                     '06' : 'Pla_HDBR10142863_and_37083_Pla_HDBR10084192', \n",
    "                     '07' : 'Pla_HDBR10142864_and_37083_Pla_HDBR10084193', \n",
    "                     '08' : 'Pla_HDBR10142865_and_37083_Pla_HDBR10084194', \n",
    "                     '09' : 'Pla_Camb10714918_and_40110_Pla_Camb10687914', \n",
    "                     '10' : 'Pla_Camb10714919_and_40110_Pla_Camb10687915', \n",
    "                     '11' : 'Pla_Camb10714920_and_40110_Pla_Camb10687916'}\n",
    "\n",
    "adata.obs['sample'] = adata.obs['cellatac_code'].map(sample_dictionary) \n",
    "adata.obs['sample'].value_counts(dropna = False)"
   ]
  },
  {
   "cell_type": "markdown",
   "id": "acceptable-portuguese",
   "metadata": {},
   "source": [
    "#### Load peak annotations (done in notebook `M0`)"
   ]
  },
  {
   "cell_type": "code",
   "execution_count": 12,
   "id": "corrected-press",
   "metadata": {
    "tags": []
   },
   "outputs": [],
   "source": [
    "peak_anno_df = pd.read_csv(outdir + \"ATACpeaks_annotation_20220119.csv\", index_col=0)\n",
    "peak_anno_df.set_index(\"peak_id\", inplace=True)\n",
    "adata.var = adata.var.combine_first(peak_anno_df)"
   ]
  },
  {
   "cell_type": "code",
   "execution_count": 13,
   "id": "insured-locking",
   "metadata": {},
   "outputs": [
    {
     "data": {
      "text/html": [
       "<div>\n",
       "<style scoped>\n",
       "    .dataframe tbody tr th:only-of-type {\n",
       "        vertical-align: middle;\n",
       "    }\n",
       "\n",
       "    .dataframe tbody tr th {\n",
       "        vertical-align: top;\n",
       "    }\n",
       "\n",
       "    .dataframe thead th {\n",
       "        text-align: right;\n",
       "    }\n",
       "</style>\n",
       "<table border=\"1\" class=\"dataframe\">\n",
       "  <thead>\n",
       "    <tr style=\"text-align: right;\">\n",
       "      <th></th>\n",
       "      <th>peak_width</th>\n",
       "      <th>exon</th>\n",
       "      <th>gene</th>\n",
       "      <th>promoter</th>\n",
       "      <th>annotation</th>\n",
       "      <th>gene_name</th>\n",
       "      <th>gene_id</th>\n",
       "      <th>tss_distance</th>\n",
       "      <th>ENCODE_blacklist</th>\n",
       "    </tr>\n",
       "    <tr>\n",
       "      <th>peak_id</th>\n",
       "      <th></th>\n",
       "      <th></th>\n",
       "      <th></th>\n",
       "      <th></th>\n",
       "      <th></th>\n",
       "      <th></th>\n",
       "      <th></th>\n",
       "      <th></th>\n",
       "      <th></th>\n",
       "    </tr>\n",
       "  </thead>\n",
       "  <tbody>\n",
       "    <tr>\n",
       "      <th>chr1:180780-181619</th>\n",
       "      <td>840</td>\n",
       "      <td>0</td>\n",
       "      <td>0</td>\n",
       "      <td>1</td>\n",
       "      <td>promoter</td>\n",
       "      <td>FO538757.2</td>\n",
       "      <td>ENSG00000279928</td>\n",
       "      <td>773</td>\n",
       "      <td>1</td>\n",
       "    </tr>\n",
       "    <tr>\n",
       "      <th>chr1:629813-630030</th>\n",
       "      <td>218</td>\n",
       "      <td>0</td>\n",
       "      <td>0</td>\n",
       "      <td>0</td>\n",
       "      <td>intergenic</td>\n",
       "      <td>NaN</td>\n",
       "      <td>NaN</td>\n",
       "      <td>56623</td>\n",
       "      <td>1</td>\n",
       "    </tr>\n",
       "    <tr>\n",
       "      <th>chr1:633892-634118</th>\n",
       "      <td>227</td>\n",
       "      <td>0</td>\n",
       "      <td>0</td>\n",
       "      <td>0</td>\n",
       "      <td>intergenic</td>\n",
       "      <td>NaN</td>\n",
       "      <td>NaN</td>\n",
       "      <td>52535</td>\n",
       "      <td>1</td>\n",
       "    </tr>\n",
       "    <tr>\n",
       "      <th>chr1:770838-771038</th>\n",
       "      <td>201</td>\n",
       "      <td>0</td>\n",
       "      <td>0</td>\n",
       "      <td>0</td>\n",
       "      <td>intergenic</td>\n",
       "      <td>NaN</td>\n",
       "      <td>NaN</td>\n",
       "      <td>84183</td>\n",
       "      <td>1</td>\n",
       "    </tr>\n",
       "    <tr>\n",
       "      <th>chr1:778314-778969</th>\n",
       "      <td>656</td>\n",
       "      <td>0</td>\n",
       "      <td>0</td>\n",
       "      <td>0</td>\n",
       "      <td>intergenic</td>\n",
       "      <td>NaN</td>\n",
       "      <td>NaN</td>\n",
       "      <td>91659</td>\n",
       "      <td>1</td>\n",
       "    </tr>\n",
       "    <tr>\n",
       "      <th>...</th>\n",
       "      <td>...</td>\n",
       "      <td>...</td>\n",
       "      <td>...</td>\n",
       "      <td>...</td>\n",
       "      <td>...</td>\n",
       "      <td>...</td>\n",
       "      <td>...</td>\n",
       "      <td>...</td>\n",
       "      <td>...</td>\n",
       "    </tr>\n",
       "    <tr>\n",
       "      <th>chrY:12730996-12731227</th>\n",
       "      <td>232</td>\n",
       "      <td>0</td>\n",
       "      <td>1</td>\n",
       "      <td>0</td>\n",
       "      <td>intron</td>\n",
       "      <td>USP9Y</td>\n",
       "      <td>ENSG00000114374</td>\n",
       "      <td>21559</td>\n",
       "      <td>0</td>\n",
       "    </tr>\n",
       "    <tr>\n",
       "      <th>chrY:12904673-12904873</th>\n",
       "      <td>201</td>\n",
       "      <td>1</td>\n",
       "      <td>1</td>\n",
       "      <td>1</td>\n",
       "      <td>exon</td>\n",
       "      <td>DDX3Y</td>\n",
       "      <td>ENSG00000067048</td>\n",
       "      <td>0</td>\n",
       "      <td>0</td>\n",
       "    </tr>\n",
       "    <tr>\n",
       "      <th>chrY:19077580-19077780</th>\n",
       "      <td>201</td>\n",
       "      <td>0</td>\n",
       "      <td>0</td>\n",
       "      <td>0</td>\n",
       "      <td>intergenic</td>\n",
       "      <td>NaN</td>\n",
       "      <td>NaN</td>\n",
       "      <td>248917</td>\n",
       "      <td>0</td>\n",
       "    </tr>\n",
       "    <tr>\n",
       "      <th>chrY:19268367-19268647</th>\n",
       "      <td>281</td>\n",
       "      <td>0</td>\n",
       "      <td>0</td>\n",
       "      <td>0</td>\n",
       "      <td>intergenic</td>\n",
       "      <td>NaN</td>\n",
       "      <td>NaN</td>\n",
       "      <td>307534</td>\n",
       "      <td>0</td>\n",
       "    </tr>\n",
       "    <tr>\n",
       "      <th>chrY:56834074-56834413</th>\n",
       "      <td>340</td>\n",
       "      <td>0</td>\n",
       "      <td>0</td>\n",
       "      <td>0</td>\n",
       "      <td>intergenic</td>\n",
       "      <td>NaN</td>\n",
       "      <td>NaN</td>\n",
       "      <td>31211911</td>\n",
       "      <td>1</td>\n",
       "    </tr>\n",
       "  </tbody>\n",
       "</table>\n",
       "<p>114030 rows × 9 columns</p>\n",
       "</div>"
      ],
      "text/plain": [
       "                        peak_width  exon  gene  promoter  annotation  \\\n",
       "peak_id                                                                \n",
       "chr1:180780-181619             840     0     0         1    promoter   \n",
       "chr1:629813-630030             218     0     0         0  intergenic   \n",
       "chr1:633892-634118             227     0     0         0  intergenic   \n",
       "chr1:770838-771038             201     0     0         0  intergenic   \n",
       "chr1:778314-778969             656     0     0         0  intergenic   \n",
       "...                            ...   ...   ...       ...         ...   \n",
       "chrY:12730996-12731227         232     0     1         0      intron   \n",
       "chrY:12904673-12904873         201     1     1         1        exon   \n",
       "chrY:19077580-19077780         201     0     0         0  intergenic   \n",
       "chrY:19268367-19268647         281     0     0         0  intergenic   \n",
       "chrY:56834074-56834413         340     0     0         0  intergenic   \n",
       "\n",
       "                         gene_name          gene_id  tss_distance  \\\n",
       "peak_id                                                             \n",
       "chr1:180780-181619      FO538757.2  ENSG00000279928           773   \n",
       "chr1:629813-630030             NaN              NaN         56623   \n",
       "chr1:633892-634118             NaN              NaN         52535   \n",
       "chr1:770838-771038             NaN              NaN         84183   \n",
       "chr1:778314-778969             NaN              NaN         91659   \n",
       "...                            ...              ...           ...   \n",
       "chrY:12730996-12731227       USP9Y  ENSG00000114374         21559   \n",
       "chrY:12904673-12904873       DDX3Y  ENSG00000067048             0   \n",
       "chrY:19077580-19077780         NaN              NaN        248917   \n",
       "chrY:19268367-19268647         NaN              NaN        307534   \n",
       "chrY:56834074-56834413         NaN              NaN      31211911   \n",
       "\n",
       "                        ENCODE_blacklist  \n",
       "peak_id                                   \n",
       "chr1:180780-181619                     1  \n",
       "chr1:629813-630030                     1  \n",
       "chr1:633892-634118                     1  \n",
       "chr1:770838-771038                     1  \n",
       "chr1:778314-778969                     1  \n",
       "...                                  ...  \n",
       "chrY:12730996-12731227                 0  \n",
       "chrY:12904673-12904873                 0  \n",
       "chrY:19077580-19077780                 0  \n",
       "chrY:19268367-19268647                 0  \n",
       "chrY:56834074-56834413                 1  \n",
       "\n",
       "[114030 rows x 9 columns]"
      ]
     },
     "execution_count": 13,
     "metadata": {},
     "output_type": "execute_result"
    }
   ],
   "source": [
    "adata.var"
   ]
  },
  {
   "cell_type": "markdown",
   "id": "revolutionary-kruger",
   "metadata": {},
   "source": [
    "#### Save binary data to layers"
   ]
  },
  {
   "cell_type": "code",
   "execution_count": 14,
   "id": "external-liability",
   "metadata": {},
   "outputs": [
    {
     "data": {
      "text/plain": [
       "AnnData object with n_obs × n_vars = 7481 × 114030\n",
       "    obs: 'cellatac_code', 'sample'\n",
       "    var: 'peak_width', 'exon', 'gene', 'promoter', 'annotation', 'gene_name', 'gene_id', 'tss_distance', 'ENCODE_blacklist'\n",
       "    layers: 'binary_raw'"
      ]
     },
     "execution_count": 14,
     "metadata": {},
     "output_type": "execute_result"
    }
   ],
   "source": [
    "adata.layers[\"binary_raw\"] = adata.X\n",
    "adata.layers[\"binary_raw\"][adata.layers[\"binary_raw\"] > 1] = 1\n",
    "adata"
   ]
  },
  {
   "cell_type": "markdown",
   "id": "revised-burton",
   "metadata": {},
   "source": [
    "## Adding annotation onto multiome data from RNA counterpart"
   ]
  },
  {
   "cell_type": "markdown",
   "id": "consistent-dylan",
   "metadata": {},
   "source": [
    "### I have annotations for the 6 multiome samples from RNA counterpart analysis: \n",
    "\n",
    "Pla_HDBR10142863_and_37083_Pla_HDBR10084192, Pla_HDBR10142864_and_37083_Pla_HDBR10084193, Pla_HDBR10142865_and_37083_Pla_HDBR10084194, Pla_Camb10714918_and_40110_Pla_Camb10687914, Pla_Camb10714919_and_40110_Pla_Camb10687915 and Pla_Camb10714920_and_40110_Pla_Camb10687916\n",
    "\n",
    "- **In the 6 multiome samples (donors P13, P14 and Hrv43) barcodes that do not have annotations are those that did not make it into the final object (aka doublets either by scrublet or souporcell or downstream clean up) so here also need to be disregarded from analysis**\n",
    "\n",
    "\n"
   ]
  },
  {
   "cell_type": "markdown",
   "id": "addressed-equity",
   "metadata": {},
   "source": [
    "## 1. Assigning donors\n"
   ]
  },
  {
   "cell_type": "code",
   "execution_count": 15,
   "id": "affecting-retailer",
   "metadata": {},
   "outputs": [
    {
     "data": {
      "text/html": [
       "<div>\n",
       "<style scoped>\n",
       "    .dataframe tbody tr th:only-of-type {\n",
       "        vertical-align: middle;\n",
       "    }\n",
       "\n",
       "    .dataframe tbody tr th {\n",
       "        vertical-align: top;\n",
       "    }\n",
       "\n",
       "    .dataframe thead th {\n",
       "        text-align: right;\n",
       "    }\n",
       "</style>\n",
       "<table border=\"1\" class=\"dataframe\">\n",
       "  <thead>\n",
       "    <tr style=\"text-align: right;\">\n",
       "      <th></th>\n",
       "      <th>cellatac_code</th>\n",
       "      <th>sample</th>\n",
       "    </tr>\n",
       "  </thead>\n",
       "  <tbody>\n",
       "    <tr>\n",
       "      <th>09-AAACAGCCACTCGCTC-1</th>\n",
       "      <td>09</td>\n",
       "      <td>Pla_Camb10714918_and_40110_Pla_Camb10687914</td>\n",
       "    </tr>\n",
       "    <tr>\n",
       "      <th>09-AAACCGGCACAGGAAT-1</th>\n",
       "      <td>09</td>\n",
       "      <td>Pla_Camb10714918_and_40110_Pla_Camb10687914</td>\n",
       "    </tr>\n",
       "    <tr>\n",
       "      <th>09-AAACGGATCCACCCTG-1</th>\n",
       "      <td>09</td>\n",
       "      <td>Pla_Camb10714918_and_40110_Pla_Camb10687914</td>\n",
       "    </tr>\n",
       "    <tr>\n",
       "      <th>09-AAAGCCCGTGTCACGG-1</th>\n",
       "      <td>09</td>\n",
       "      <td>Pla_Camb10714918_and_40110_Pla_Camb10687914</td>\n",
       "    </tr>\n",
       "    <tr>\n",
       "      <th>09-AAAGCTTGTGTTTGTC-1</th>\n",
       "      <td>09</td>\n",
       "      <td>Pla_Camb10714918_and_40110_Pla_Camb10687914</td>\n",
       "    </tr>\n",
       "    <tr>\n",
       "      <th>...</th>\n",
       "      <td>...</td>\n",
       "      <td>...</td>\n",
       "    </tr>\n",
       "    <tr>\n",
       "      <th>08-TCTTAGTTCCAAACAC-1</th>\n",
       "      <td>08</td>\n",
       "      <td>Pla_HDBR10142865_and_37083_Pla_HDBR10084194</td>\n",
       "    </tr>\n",
       "    <tr>\n",
       "      <th>08-TGCTCACTCCTCACTA-1</th>\n",
       "      <td>08</td>\n",
       "      <td>Pla_HDBR10142865_and_37083_Pla_HDBR10084194</td>\n",
       "    </tr>\n",
       "    <tr>\n",
       "      <th>08-TGTGTTAAGTAAGAAC-1</th>\n",
       "      <td>08</td>\n",
       "      <td>Pla_HDBR10142865_and_37083_Pla_HDBR10084194</td>\n",
       "    </tr>\n",
       "    <tr>\n",
       "      <th>08-TTATTGCTCCTAAATG-1</th>\n",
       "      <td>08</td>\n",
       "      <td>Pla_HDBR10142865_and_37083_Pla_HDBR10084194</td>\n",
       "    </tr>\n",
       "    <tr>\n",
       "      <th>08-TTGTCCATCCCTCTAA-1</th>\n",
       "      <td>08</td>\n",
       "      <td>Pla_HDBR10142865_and_37083_Pla_HDBR10084194</td>\n",
       "    </tr>\n",
       "  </tbody>\n",
       "</table>\n",
       "<p>7481 rows × 2 columns</p>\n",
       "</div>"
      ],
      "text/plain": [
       "                      cellatac_code  \\\n",
       "09-AAACAGCCACTCGCTC-1            09   \n",
       "09-AAACCGGCACAGGAAT-1            09   \n",
       "09-AAACGGATCCACCCTG-1            09   \n",
       "09-AAAGCCCGTGTCACGG-1            09   \n",
       "09-AAAGCTTGTGTTTGTC-1            09   \n",
       "...                             ...   \n",
       "08-TCTTAGTTCCAAACAC-1            08   \n",
       "08-TGCTCACTCCTCACTA-1            08   \n",
       "08-TGTGTTAAGTAAGAAC-1            08   \n",
       "08-TTATTGCTCCTAAATG-1            08   \n",
       "08-TTGTCCATCCCTCTAA-1            08   \n",
       "\n",
       "                                                            sample  \n",
       "09-AAACAGCCACTCGCTC-1  Pla_Camb10714918_and_40110_Pla_Camb10687914  \n",
       "09-AAACCGGCACAGGAAT-1  Pla_Camb10714918_and_40110_Pla_Camb10687914  \n",
       "09-AAACGGATCCACCCTG-1  Pla_Camb10714918_and_40110_Pla_Camb10687914  \n",
       "09-AAAGCCCGTGTCACGG-1  Pla_Camb10714918_and_40110_Pla_Camb10687914  \n",
       "09-AAAGCTTGTGTTTGTC-1  Pla_Camb10714918_and_40110_Pla_Camb10687914  \n",
       "...                                                            ...  \n",
       "08-TCTTAGTTCCAAACAC-1  Pla_HDBR10142865_and_37083_Pla_HDBR10084194  \n",
       "08-TGCTCACTCCTCACTA-1  Pla_HDBR10142865_and_37083_Pla_HDBR10084194  \n",
       "08-TGTGTTAAGTAAGAAC-1  Pla_HDBR10142865_and_37083_Pla_HDBR10084194  \n",
       "08-TTATTGCTCCTAAATG-1  Pla_HDBR10142865_and_37083_Pla_HDBR10084194  \n",
       "08-TTGTCCATCCCTCTAA-1  Pla_HDBR10142865_and_37083_Pla_HDBR10084194  \n",
       "\n",
       "[7481 rows x 2 columns]"
      ]
     },
     "execution_count": 15,
     "metadata": {},
     "output_type": "execute_result"
    }
   ],
   "source": [
    "adata.obs"
   ]
  },
  {
   "cell_type": "code",
   "execution_count": 16,
   "id": "suspended-palestinian",
   "metadata": {},
   "outputs": [
    {
     "data": {
      "text/plain": [
       "(array(['Pla_Camb10714918_and_40110_Pla_Camb10687914',\n",
       "        'Pla_Camb10714919_and_40110_Pla_Camb10687915',\n",
       "        'Pla_Camb10714920_and_40110_Pla_Camb10687916',\n",
       "        'Pla_HDBR10142863_and_37083_Pla_HDBR10084192',\n",
       "        'Pla_HDBR10142864_and_37083_Pla_HDBR10084193',\n",
       "        'Pla_HDBR10142865_and_37083_Pla_HDBR10084194'], dtype=object),\n",
       " array([ 450, 3423, 3470,   60,   43,   35]))"
      ]
     },
     "execution_count": 16,
     "metadata": {},
     "output_type": "execute_result"
    }
   ],
   "source": [
    "np.unique(adata.obs['sample'], return_counts=True)"
   ]
  },
  {
   "cell_type": "code",
   "execution_count": 17,
   "id": "theoretical-kruger",
   "metadata": {},
   "outputs": [],
   "source": [
    "def add_donors(adata_obj, barcode):\n",
    "    \n",
    "    curr_sample = adata_obj.obs.loc[barcode,'sample']\n",
    "    \n",
    "    if curr_sample in ['Pla_HDBR10142863_and_37083_Pla_HDBR10084192','Pla_HDBR10142864_and_37083_Pla_HDBR10084193','Pla_HDBR10142865_and_37083_Pla_HDBR10084194']:\n",
    "        return('Hrv43')\n",
    "    elif curr_sample in ['Pla_Camb10714919_and_40110_Pla_Camb10687915','Pla_Camb10714920_and_40110_Pla_Camb10687916']:\n",
    "        return('P13')\n",
    "    elif curr_sample == 'Pla_Camb10714918_and_40110_Pla_Camb10687914':\n",
    "        return('P14')\n",
    "    \n",
    "    else:\n",
    "        return('no_donor_data')"
   ]
  },
  {
   "cell_type": "code",
   "execution_count": 18,
   "id": "tamil-record",
   "metadata": {},
   "outputs": [
    {
     "data": {
      "text/html": [
       "<div>\n",
       "<style scoped>\n",
       "    .dataframe tbody tr th:only-of-type {\n",
       "        vertical-align: middle;\n",
       "    }\n",
       "\n",
       "    .dataframe tbody tr th {\n",
       "        vertical-align: top;\n",
       "    }\n",
       "\n",
       "    .dataframe thead th {\n",
       "        text-align: right;\n",
       "    }\n",
       "</style>\n",
       "<table border=\"1\" class=\"dataframe\">\n",
       "  <thead>\n",
       "    <tr style=\"text-align: right;\">\n",
       "      <th></th>\n",
       "      <th>cellatac_code</th>\n",
       "      <th>sample</th>\n",
       "    </tr>\n",
       "  </thead>\n",
       "  <tbody>\n",
       "    <tr>\n",
       "      <th>09-AAACAGCCACTCGCTC-1</th>\n",
       "      <td>09</td>\n",
       "      <td>Pla_Camb10714918_and_40110_Pla_Camb10687914</td>\n",
       "    </tr>\n",
       "    <tr>\n",
       "      <th>09-AAACCGGCACAGGAAT-1</th>\n",
       "      <td>09</td>\n",
       "      <td>Pla_Camb10714918_and_40110_Pla_Camb10687914</td>\n",
       "    </tr>\n",
       "    <tr>\n",
       "      <th>09-AAACGGATCCACCCTG-1</th>\n",
       "      <td>09</td>\n",
       "      <td>Pla_Camb10714918_and_40110_Pla_Camb10687914</td>\n",
       "    </tr>\n",
       "    <tr>\n",
       "      <th>09-AAAGCCCGTGTCACGG-1</th>\n",
       "      <td>09</td>\n",
       "      <td>Pla_Camb10714918_and_40110_Pla_Camb10687914</td>\n",
       "    </tr>\n",
       "    <tr>\n",
       "      <th>09-AAAGCTTGTGTTTGTC-1</th>\n",
       "      <td>09</td>\n",
       "      <td>Pla_Camb10714918_and_40110_Pla_Camb10687914</td>\n",
       "    </tr>\n",
       "    <tr>\n",
       "      <th>...</th>\n",
       "      <td>...</td>\n",
       "      <td>...</td>\n",
       "    </tr>\n",
       "    <tr>\n",
       "      <th>08-TCTTAGTTCCAAACAC-1</th>\n",
       "      <td>08</td>\n",
       "      <td>Pla_HDBR10142865_and_37083_Pla_HDBR10084194</td>\n",
       "    </tr>\n",
       "    <tr>\n",
       "      <th>08-TGCTCACTCCTCACTA-1</th>\n",
       "      <td>08</td>\n",
       "      <td>Pla_HDBR10142865_and_37083_Pla_HDBR10084194</td>\n",
       "    </tr>\n",
       "    <tr>\n",
       "      <th>08-TGTGTTAAGTAAGAAC-1</th>\n",
       "      <td>08</td>\n",
       "      <td>Pla_HDBR10142865_and_37083_Pla_HDBR10084194</td>\n",
       "    </tr>\n",
       "    <tr>\n",
       "      <th>08-TTATTGCTCCTAAATG-1</th>\n",
       "      <td>08</td>\n",
       "      <td>Pla_HDBR10142865_and_37083_Pla_HDBR10084194</td>\n",
       "    </tr>\n",
       "    <tr>\n",
       "      <th>08-TTGTCCATCCCTCTAA-1</th>\n",
       "      <td>08</td>\n",
       "      <td>Pla_HDBR10142865_and_37083_Pla_HDBR10084194</td>\n",
       "    </tr>\n",
       "  </tbody>\n",
       "</table>\n",
       "<p>7481 rows × 2 columns</p>\n",
       "</div>"
      ],
      "text/plain": [
       "                      cellatac_code  \\\n",
       "09-AAACAGCCACTCGCTC-1            09   \n",
       "09-AAACCGGCACAGGAAT-1            09   \n",
       "09-AAACGGATCCACCCTG-1            09   \n",
       "09-AAAGCCCGTGTCACGG-1            09   \n",
       "09-AAAGCTTGTGTTTGTC-1            09   \n",
       "...                             ...   \n",
       "08-TCTTAGTTCCAAACAC-1            08   \n",
       "08-TGCTCACTCCTCACTA-1            08   \n",
       "08-TGTGTTAAGTAAGAAC-1            08   \n",
       "08-TTATTGCTCCTAAATG-1            08   \n",
       "08-TTGTCCATCCCTCTAA-1            08   \n",
       "\n",
       "                                                            sample  \n",
       "09-AAACAGCCACTCGCTC-1  Pla_Camb10714918_and_40110_Pla_Camb10687914  \n",
       "09-AAACCGGCACAGGAAT-1  Pla_Camb10714918_and_40110_Pla_Camb10687914  \n",
       "09-AAACGGATCCACCCTG-1  Pla_Camb10714918_and_40110_Pla_Camb10687914  \n",
       "09-AAAGCCCGTGTCACGG-1  Pla_Camb10714918_and_40110_Pla_Camb10687914  \n",
       "09-AAAGCTTGTGTTTGTC-1  Pla_Camb10714918_and_40110_Pla_Camb10687914  \n",
       "...                                                            ...  \n",
       "08-TCTTAGTTCCAAACAC-1  Pla_HDBR10142865_and_37083_Pla_HDBR10084194  \n",
       "08-TGCTCACTCCTCACTA-1  Pla_HDBR10142865_and_37083_Pla_HDBR10084194  \n",
       "08-TGTGTTAAGTAAGAAC-1  Pla_HDBR10142865_and_37083_Pla_HDBR10084194  \n",
       "08-TTATTGCTCCTAAATG-1  Pla_HDBR10142865_and_37083_Pla_HDBR10084194  \n",
       "08-TTGTCCATCCCTCTAA-1  Pla_HDBR10142865_and_37083_Pla_HDBR10084194  \n",
       "\n",
       "[7481 rows x 2 columns]"
      ]
     },
     "execution_count": 18,
     "metadata": {},
     "output_type": "execute_result"
    }
   ],
   "source": [
    "adata.obs"
   ]
  },
  {
   "cell_type": "code",
   "execution_count": 19,
   "id": "consolidated-transaction",
   "metadata": {},
   "outputs": [],
   "source": [
    "adata.obs['barcode'] = adata.obs.index"
   ]
  },
  {
   "cell_type": "code",
   "execution_count": 20,
   "id": "shared-frequency",
   "metadata": {},
   "outputs": [],
   "source": [
    "adata.obs['donor'] = adata.obs['barcode'].apply(lambda x: add_donors(adata, x))"
   ]
  },
  {
   "cell_type": "code",
   "execution_count": 21,
   "id": "musical-dimension",
   "metadata": {},
   "outputs": [
    {
     "data": {
      "text/plain": [
       "P13      6893\n",
       "P14       450\n",
       "Hrv43     138\n",
       "Name: donor, dtype: int64"
      ]
     },
     "execution_count": 21,
     "metadata": {},
     "output_type": "execute_result"
    }
   ],
   "source": [
    "# looking good?\n",
    "adata.obs['donor'].value_counts()"
   ]
  },
  {
   "cell_type": "code",
   "execution_count": 22,
   "id": "vulnerable-paris",
   "metadata": {},
   "outputs": [
    {
     "data": {
      "text/plain": [
       "'/lustre/scratch117/cellgen/team292/aa22/with_Stijn/202111_snATAC-seq_data_MFI/multiome_ATAC_samples_analysis/trophoblast_only_analysis/downstream_analysis_custom_clust/'"
      ]
     },
     "execution_count": 22,
     "metadata": {},
     "output_type": "execute_result"
    }
   ],
   "source": [
    "outdir"
   ]
  },
  {
   "cell_type": "code",
   "execution_count": 23,
   "id": "nearby-neutral",
   "metadata": {},
   "outputs": [
    {
     "data": {
      "text/html": [
       "<div>\n",
       "<style scoped>\n",
       "    .dataframe tbody tr th:only-of-type {\n",
       "        vertical-align: middle;\n",
       "    }\n",
       "\n",
       "    .dataframe tbody tr th {\n",
       "        vertical-align: top;\n",
       "    }\n",
       "\n",
       "    .dataframe thead th {\n",
       "        text-align: right;\n",
       "    }\n",
       "</style>\n",
       "<table border=\"1\" class=\"dataframe\">\n",
       "  <thead>\n",
       "    <tr style=\"text-align: right;\">\n",
       "      <th></th>\n",
       "      <th>cellatac_code</th>\n",
       "      <th>sample</th>\n",
       "      <th>barcode</th>\n",
       "      <th>donor</th>\n",
       "    </tr>\n",
       "  </thead>\n",
       "  <tbody>\n",
       "    <tr>\n",
       "      <th>09-AAACAGCCACTCGCTC-1</th>\n",
       "      <td>09</td>\n",
       "      <td>Pla_Camb10714918_and_40110_Pla_Camb10687914</td>\n",
       "      <td>09-AAACAGCCACTCGCTC-1</td>\n",
       "      <td>P14</td>\n",
       "    </tr>\n",
       "    <tr>\n",
       "      <th>09-AAACCGGCACAGGAAT-1</th>\n",
       "      <td>09</td>\n",
       "      <td>Pla_Camb10714918_and_40110_Pla_Camb10687914</td>\n",
       "      <td>09-AAACCGGCACAGGAAT-1</td>\n",
       "      <td>P14</td>\n",
       "    </tr>\n",
       "    <tr>\n",
       "      <th>09-AAACGGATCCACCCTG-1</th>\n",
       "      <td>09</td>\n",
       "      <td>Pla_Camb10714918_and_40110_Pla_Camb10687914</td>\n",
       "      <td>09-AAACGGATCCACCCTG-1</td>\n",
       "      <td>P14</td>\n",
       "    </tr>\n",
       "    <tr>\n",
       "      <th>09-AAAGCCCGTGTCACGG-1</th>\n",
       "      <td>09</td>\n",
       "      <td>Pla_Camb10714918_and_40110_Pla_Camb10687914</td>\n",
       "      <td>09-AAAGCCCGTGTCACGG-1</td>\n",
       "      <td>P14</td>\n",
       "    </tr>\n",
       "    <tr>\n",
       "      <th>09-AAAGCTTGTGTTTGTC-1</th>\n",
       "      <td>09</td>\n",
       "      <td>Pla_Camb10714918_and_40110_Pla_Camb10687914</td>\n",
       "      <td>09-AAAGCTTGTGTTTGTC-1</td>\n",
       "      <td>P14</td>\n",
       "    </tr>\n",
       "    <tr>\n",
       "      <th>...</th>\n",
       "      <td>...</td>\n",
       "      <td>...</td>\n",
       "      <td>...</td>\n",
       "      <td>...</td>\n",
       "    </tr>\n",
       "    <tr>\n",
       "      <th>08-TCTTAGTTCCAAACAC-1</th>\n",
       "      <td>08</td>\n",
       "      <td>Pla_HDBR10142865_and_37083_Pla_HDBR10084194</td>\n",
       "      <td>08-TCTTAGTTCCAAACAC-1</td>\n",
       "      <td>Hrv43</td>\n",
       "    </tr>\n",
       "    <tr>\n",
       "      <th>08-TGCTCACTCCTCACTA-1</th>\n",
       "      <td>08</td>\n",
       "      <td>Pla_HDBR10142865_and_37083_Pla_HDBR10084194</td>\n",
       "      <td>08-TGCTCACTCCTCACTA-1</td>\n",
       "      <td>Hrv43</td>\n",
       "    </tr>\n",
       "    <tr>\n",
       "      <th>08-TGTGTTAAGTAAGAAC-1</th>\n",
       "      <td>08</td>\n",
       "      <td>Pla_HDBR10142865_and_37083_Pla_HDBR10084194</td>\n",
       "      <td>08-TGTGTTAAGTAAGAAC-1</td>\n",
       "      <td>Hrv43</td>\n",
       "    </tr>\n",
       "    <tr>\n",
       "      <th>08-TTATTGCTCCTAAATG-1</th>\n",
       "      <td>08</td>\n",
       "      <td>Pla_HDBR10142865_and_37083_Pla_HDBR10084194</td>\n",
       "      <td>08-TTATTGCTCCTAAATG-1</td>\n",
       "      <td>Hrv43</td>\n",
       "    </tr>\n",
       "    <tr>\n",
       "      <th>08-TTGTCCATCCCTCTAA-1</th>\n",
       "      <td>08</td>\n",
       "      <td>Pla_HDBR10142865_and_37083_Pla_HDBR10084194</td>\n",
       "      <td>08-TTGTCCATCCCTCTAA-1</td>\n",
       "      <td>Hrv43</td>\n",
       "    </tr>\n",
       "  </tbody>\n",
       "</table>\n",
       "<p>7481 rows × 4 columns</p>\n",
       "</div>"
      ],
      "text/plain": [
       "                      cellatac_code  \\\n",
       "09-AAACAGCCACTCGCTC-1            09   \n",
       "09-AAACCGGCACAGGAAT-1            09   \n",
       "09-AAACGGATCCACCCTG-1            09   \n",
       "09-AAAGCCCGTGTCACGG-1            09   \n",
       "09-AAAGCTTGTGTTTGTC-1            09   \n",
       "...                             ...   \n",
       "08-TCTTAGTTCCAAACAC-1            08   \n",
       "08-TGCTCACTCCTCACTA-1            08   \n",
       "08-TGTGTTAAGTAAGAAC-1            08   \n",
       "08-TTATTGCTCCTAAATG-1            08   \n",
       "08-TTGTCCATCCCTCTAA-1            08   \n",
       "\n",
       "                                                            sample  \\\n",
       "09-AAACAGCCACTCGCTC-1  Pla_Camb10714918_and_40110_Pla_Camb10687914   \n",
       "09-AAACCGGCACAGGAAT-1  Pla_Camb10714918_and_40110_Pla_Camb10687914   \n",
       "09-AAACGGATCCACCCTG-1  Pla_Camb10714918_and_40110_Pla_Camb10687914   \n",
       "09-AAAGCCCGTGTCACGG-1  Pla_Camb10714918_and_40110_Pla_Camb10687914   \n",
       "09-AAAGCTTGTGTTTGTC-1  Pla_Camb10714918_and_40110_Pla_Camb10687914   \n",
       "...                                                            ...   \n",
       "08-TCTTAGTTCCAAACAC-1  Pla_HDBR10142865_and_37083_Pla_HDBR10084194   \n",
       "08-TGCTCACTCCTCACTA-1  Pla_HDBR10142865_and_37083_Pla_HDBR10084194   \n",
       "08-TGTGTTAAGTAAGAAC-1  Pla_HDBR10142865_and_37083_Pla_HDBR10084194   \n",
       "08-TTATTGCTCCTAAATG-1  Pla_HDBR10142865_and_37083_Pla_HDBR10084194   \n",
       "08-TTGTCCATCCCTCTAA-1  Pla_HDBR10142865_and_37083_Pla_HDBR10084194   \n",
       "\n",
       "                                     barcode  donor  \n",
       "09-AAACAGCCACTCGCTC-1  09-AAACAGCCACTCGCTC-1    P14  \n",
       "09-AAACCGGCACAGGAAT-1  09-AAACCGGCACAGGAAT-1    P14  \n",
       "09-AAACGGATCCACCCTG-1  09-AAACGGATCCACCCTG-1    P14  \n",
       "09-AAAGCCCGTGTCACGG-1  09-AAAGCCCGTGTCACGG-1    P14  \n",
       "09-AAAGCTTGTGTTTGTC-1  09-AAAGCTTGTGTTTGTC-1    P14  \n",
       "...                                      ...    ...  \n",
       "08-TCTTAGTTCCAAACAC-1  08-TCTTAGTTCCAAACAC-1  Hrv43  \n",
       "08-TGCTCACTCCTCACTA-1  08-TGCTCACTCCTCACTA-1  Hrv43  \n",
       "08-TGTGTTAAGTAAGAAC-1  08-TGTGTTAAGTAAGAAC-1  Hrv43  \n",
       "08-TTATTGCTCCTAAATG-1  08-TTATTGCTCCTAAATG-1  Hrv43  \n",
       "08-TTGTCCATCCCTCTAA-1  08-TTGTCCATCCCTCTAA-1  Hrv43  \n",
       "\n",
       "[7481 rows x 4 columns]"
      ]
     },
     "execution_count": 23,
     "metadata": {},
     "output_type": "execute_result"
    }
   ],
   "source": [
    "adata.obs"
   ]
  },
  {
   "cell_type": "markdown",
   "id": "certain-committee",
   "metadata": {},
   "source": [
    "#### Peak filtering"
   ]
  },
  {
   "cell_type": "code",
   "execution_count": 24,
   "id": "gorgeous-domestic",
   "metadata": {},
   "outputs": [
    {
     "data": {
      "text/plain": [
       "array([[<AxesSubplot:title={'center':'peak_width'}>]], dtype=object)"
      ]
     },
     "execution_count": 24,
     "metadata": {},
     "output_type": "execute_result"
    },
    {
     "data": {
      "image/png": "[encoded data removed]",
      "text/plain": [
       "<Figure size 1800x432 with 1 Axes>"
      ]
     },
     "metadata": {
      "needs_background": "light"
     },
     "output_type": "display_data"
    }
   ],
   "source": [
    "adata.var.hist(column = 'peak_width', bins = 200, grid = False, figsize = (25,6), color = '#870052')"
   ]
  },
  {
   "cell_type": "code",
   "execution_count": 25,
   "id": "satellite-heart",
   "metadata": {},
   "outputs": [
    {
     "data": {
      "text/plain": [
       "AnnData object with n_obs × n_vars = 7481 × 114030\n",
       "    obs: 'cellatac_code', 'sample', 'barcode', 'donor'\n",
       "    var: 'peak_width', 'exon', 'gene', 'promoter', 'annotation', 'gene_name', 'gene_id', 'tss_distance', 'ENCODE_blacklist', 'n_cells_by_counts', 'mean_counts', 'log1p_mean_counts', 'pct_dropout_by_counts', 'total_counts', 'log1p_total_counts'\n",
       "    layers: 'binary_raw'"
      ]
     },
     "execution_count": 25,
     "metadata": {},
     "output_type": "execute_result"
    }
   ],
   "source": [
    "var_qc = sc.pp.calculate_qc_metrics(adata, layer = \"binary_raw\")[1]\n",
    "adata.var = pd.concat([adata.var, var_qc], 1)\n",
    "adata"
   ]
  },
  {
   "cell_type": "code",
   "execution_count": 26,
   "id": "fundamental-atlas",
   "metadata": {},
   "outputs": [
    {
     "data": {
      "text/html": [
       "<div>\n",
       "<style scoped>\n",
       "    .dataframe tbody tr th:only-of-type {\n",
       "        vertical-align: middle;\n",
       "    }\n",
       "\n",
       "    .dataframe tbody tr th {\n",
       "        vertical-align: top;\n",
       "    }\n",
       "\n",
       "    .dataframe thead th {\n",
       "        text-align: right;\n",
       "    }\n",
       "</style>\n",
       "<table border=\"1\" class=\"dataframe\">\n",
       "  <thead>\n",
       "    <tr style=\"text-align: right;\">\n",
       "      <th></th>\n",
       "      <th>peak_width</th>\n",
       "      <th>exon</th>\n",
       "      <th>gene</th>\n",
       "      <th>promoter</th>\n",
       "      <th>annotation</th>\n",
       "      <th>gene_name</th>\n",
       "      <th>gene_id</th>\n",
       "      <th>tss_distance</th>\n",
       "      <th>ENCODE_blacklist</th>\n",
       "      <th>n_cells_by_counts</th>\n",
       "      <th>mean_counts</th>\n",
       "      <th>log1p_mean_counts</th>\n",
       "      <th>pct_dropout_by_counts</th>\n",
       "      <th>total_counts</th>\n",
       "      <th>log1p_total_counts</th>\n",
       "    </tr>\n",
       "    <tr>\n",
       "      <th>peak_id</th>\n",
       "      <th></th>\n",
       "      <th></th>\n",
       "      <th></th>\n",
       "      <th></th>\n",
       "      <th></th>\n",
       "      <th></th>\n",
       "      <th></th>\n",
       "      <th></th>\n",
       "      <th></th>\n",
       "      <th></th>\n",
       "      <th></th>\n",
       "      <th></th>\n",
       "      <th></th>\n",
       "      <th></th>\n",
       "      <th></th>\n",
       "    </tr>\n",
       "  </thead>\n",
       "  <tbody>\n",
       "    <tr>\n",
       "      <th>chr1:180780-181619</th>\n",
       "      <td>840</td>\n",
       "      <td>0</td>\n",
       "      <td>0</td>\n",
       "      <td>1</td>\n",
       "      <td>promoter</td>\n",
       "      <td>FO538757.2</td>\n",
       "      <td>ENSG00000279928</td>\n",
       "      <td>773</td>\n",
       "      <td>1</td>\n",
       "      <td>737</td>\n",
       "      <td>0.098516</td>\n",
       "      <td>0.093960</td>\n",
       "      <td>90.148376</td>\n",
       "      <td>737.0</td>\n",
       "      <td>6.603944</td>\n",
       "    </tr>\n",
       "    <tr>\n",
       "      <th>chr1:629813-630030</th>\n",
       "      <td>218</td>\n",
       "      <td>0</td>\n",
       "      <td>0</td>\n",
       "      <td>0</td>\n",
       "      <td>intergenic</td>\n",
       "      <td>NaN</td>\n",
       "      <td>NaN</td>\n",
       "      <td>56623</td>\n",
       "      <td>1</td>\n",
       "      <td>95</td>\n",
       "      <td>0.012699</td>\n",
       "      <td>0.012619</td>\n",
       "      <td>98.730116</td>\n",
       "      <td>95.0</td>\n",
       "      <td>4.564348</td>\n",
       "    </tr>\n",
       "    <tr>\n",
       "      <th>chr1:633892-634118</th>\n",
       "      <td>227</td>\n",
       "      <td>0</td>\n",
       "      <td>0</td>\n",
       "      <td>0</td>\n",
       "      <td>intergenic</td>\n",
       "      <td>NaN</td>\n",
       "      <td>NaN</td>\n",
       "      <td>52535</td>\n",
       "      <td>1</td>\n",
       "      <td>192</td>\n",
       "      <td>0.025665</td>\n",
       "      <td>0.025341</td>\n",
       "      <td>97.433498</td>\n",
       "      <td>192.0</td>\n",
       "      <td>5.262690</td>\n",
       "    </tr>\n",
       "    <tr>\n",
       "      <th>chr1:770838-771038</th>\n",
       "      <td>201</td>\n",
       "      <td>0</td>\n",
       "      <td>0</td>\n",
       "      <td>0</td>\n",
       "      <td>intergenic</td>\n",
       "      <td>NaN</td>\n",
       "      <td>NaN</td>\n",
       "      <td>84183</td>\n",
       "      <td>1</td>\n",
       "      <td>28</td>\n",
       "      <td>0.003743</td>\n",
       "      <td>0.003736</td>\n",
       "      <td>99.625718</td>\n",
       "      <td>28.0</td>\n",
       "      <td>3.367296</td>\n",
       "    </tr>\n",
       "    <tr>\n",
       "      <th>chr1:778314-778969</th>\n",
       "      <td>656</td>\n",
       "      <td>0</td>\n",
       "      <td>0</td>\n",
       "      <td>0</td>\n",
       "      <td>intergenic</td>\n",
       "      <td>NaN</td>\n",
       "      <td>NaN</td>\n",
       "      <td>91659</td>\n",
       "      <td>1</td>\n",
       "      <td>343</td>\n",
       "      <td>0.045849</td>\n",
       "      <td>0.044829</td>\n",
       "      <td>95.415051</td>\n",
       "      <td>343.0</td>\n",
       "      <td>5.840641</td>\n",
       "    </tr>\n",
       "  </tbody>\n",
       "</table>\n",
       "</div>"
      ],
      "text/plain": [
       "                    peak_width  exon  gene  promoter  annotation   gene_name  \\\n",
       "peak_id                                                                        \n",
       "chr1:180780-181619         840     0     0         1    promoter  FO538757.2   \n",
       "chr1:629813-630030         218     0     0         0  intergenic         NaN   \n",
       "chr1:633892-634118         227     0     0         0  intergenic         NaN   \n",
       "chr1:770838-771038         201     0     0         0  intergenic         NaN   \n",
       "chr1:778314-778969         656     0     0         0  intergenic         NaN   \n",
       "\n",
       "                            gene_id  tss_distance  ENCODE_blacklist  \\\n",
       "peak_id                                                               \n",
       "chr1:180780-181619  ENSG00000279928           773                 1   \n",
       "chr1:629813-630030              NaN         56623                 1   \n",
       "chr1:633892-634118              NaN         52535                 1   \n",
       "chr1:770838-771038              NaN         84183                 1   \n",
       "chr1:778314-778969              NaN         91659                 1   \n",
       "\n",
       "                    n_cells_by_counts  mean_counts  log1p_mean_counts  \\\n",
       "peak_id                                                                 \n",
       "chr1:180780-181619                737     0.098516           0.093960   \n",
       "chr1:629813-630030                 95     0.012699           0.012619   \n",
       "chr1:633892-634118                192     0.025665           0.025341   \n",
       "chr1:770838-771038                 28     0.003743           0.003736   \n",
       "chr1:778314-778969                343     0.045849           0.044829   \n",
       "\n",
       "                    pct_dropout_by_counts  total_counts  log1p_total_counts  \n",
       "peak_id                                                                      \n",
       "chr1:180780-181619              90.148376         737.0            6.603944  \n",
       "chr1:629813-630030              98.730116          95.0            4.564348  \n",
       "chr1:633892-634118              97.433498         192.0            5.262690  \n",
       "chr1:770838-771038              99.625718          28.0            3.367296  \n",
       "chr1:778314-778969              95.415051         343.0            5.840641  "
      ]
     },
     "execution_count": 26,
     "metadata": {},
     "output_type": "execute_result"
    }
   ],
   "source": [
    "adata.var.head()"
   ]
  },
  {
   "cell_type": "code",
   "execution_count": 27,
   "id": "industrial-teddy",
   "metadata": {},
   "outputs": [
    {
     "data": {
      "text/plain": [
       "array([[<AxesSubplot:title={'center':'total_counts'}>]], dtype=object)"
      ]
     },
     "execution_count": 27,
     "metadata": {},
     "output_type": "execute_result"
    },
    {
     "data": {
      "image/png": "[encoded data removed]",
      "text/plain": [
       "<Figure size 1800x432 with 1 Axes>"
      ]
     },
     "metadata": {
      "needs_background": "light"
     },
     "output_type": "display_data"
    }
   ],
   "source": [
    "adata.var.hist(column = 'total_counts', bins = 200, grid = False, figsize = (25,6), color = '#870052')"
   ]
  },
  {
   "cell_type": "code",
   "execution_count": 28,
   "id": "infrared-table",
   "metadata": {},
   "outputs": [
    {
     "name": "stdout",
     "output_type": "stream",
     "text": [
      "30% : 2244.3\n",
      "0.1% : 7.481000000000001\n"
     ]
    }
   ],
   "source": [
    "thirty_percent = len(adata.obs_names) / 100 * 30\n",
    "point_one_percent = len(adata.obs_names) / 100 * 0.1\n",
    "print(\"30% : {}\".format(thirty_percent))\n",
    "print(\"0.1% : {}\".format(point_one_percent))"
   ]
  },
  {
   "cell_type": "code",
   "execution_count": 29,
   "id": "seventh-authentication",
   "metadata": {},
   "outputs": [
    {
     "data": {
      "text/plain": [
       "AnnData object with n_obs × n_vars = 7481 × 114030\n",
       "    obs: 'cellatac_code', 'sample', 'barcode', 'donor'\n",
       "    var: 'peak_width', 'exon', 'gene', 'promoter', 'annotation', 'gene_name', 'gene_id', 'tss_distance', 'ENCODE_blacklist', 'n_cells_by_counts', 'mean_counts', 'log1p_mean_counts', 'pct_dropout_by_counts', 'total_counts', 'log1p_total_counts'\n",
       "    layers: 'binary_raw'"
      ]
     },
     "execution_count": 29,
     "metadata": {},
     "output_type": "execute_result"
    }
   ],
   "source": [
    "adata"
   ]
  },
  {
   "cell_type": "code",
   "execution_count": 30,
   "id": "matched-pepper",
   "metadata": {},
   "outputs": [
    {
     "data": {
      "text/plain": [
       "View of AnnData object with n_obs × n_vars = 7481 × 113920\n",
       "    obs: 'cellatac_code', 'sample', 'barcode', 'donor'\n",
       "    var: 'peak_width', 'exon', 'gene', 'promoter', 'annotation', 'gene_name', 'gene_id', 'tss_distance', 'ENCODE_blacklist', 'n_cells_by_counts', 'mean_counts', 'log1p_mean_counts', 'pct_dropout_by_counts', 'total_counts', 'log1p_total_counts'\n",
       "    layers: 'binary_raw'"
      ]
     },
     "execution_count": 30,
     "metadata": {},
     "output_type": "execute_result"
    }
   ],
   "source": [
    "# Accessible in at least k cells\n",
    "adata = adata[:,adata.var.total_counts > point_one_percent]\n",
    "adata = adata[:,adata.var.total_counts < thirty_percent]\n",
    "adata"
   ]
  },
  {
   "cell_type": "code",
   "execution_count": 31,
   "id": "orange-intelligence",
   "metadata": {},
   "outputs": [
    {
     "data": {
      "text/plain": [
       "View of AnnData object with n_obs × n_vars = 7481 × 113378\n",
       "    obs: 'cellatac_code', 'sample', 'barcode', 'donor'\n",
       "    var: 'peak_width', 'exon', 'gene', 'promoter', 'annotation', 'gene_name', 'gene_id', 'tss_distance', 'ENCODE_blacklist', 'n_cells_by_counts', 'mean_counts', 'log1p_mean_counts', 'pct_dropout_by_counts', 'total_counts', 'log1p_total_counts'\n",
       "    layers: 'binary_raw'"
      ]
     },
     "execution_count": 31,
     "metadata": {},
     "output_type": "execute_result"
    }
   ],
   "source": [
    "# Remove peaks in ENCODE blacklist\n",
    "adata = adata[:, adata.var.ENCODE_blacklist == 0]\n",
    "adata"
   ]
  },
  {
   "cell_type": "code",
   "execution_count": 32,
   "id": "drawn-toilet",
   "metadata": {},
   "outputs": [
    {
     "data": {
      "text/plain": [
       "array([[<AxesSubplot:title={'center':'peak_width'}>]], dtype=object)"
      ]
     },
     "execution_count": 32,
     "metadata": {},
     "output_type": "execute_result"
    },
    {
     "data": {
      "image/png": "[encoded data removed]",
      "text/plain": [
       "<Figure size 1800x432 with 1 Axes>"
      ]
     },
     "metadata": {
      "needs_background": "light"
     },
     "output_type": "display_data"
    }
   ],
   "source": [
    "adata.var.hist(column = 'peak_width', \n",
    "               bins = 200, grid = False, figsize = (25,6), color = '#870052'\n",
    "              )"
   ]
  },
  {
   "cell_type": "code",
   "execution_count": 33,
   "id": "terminal-sunglasses",
   "metadata": {},
   "outputs": [
    {
     "data": {
      "text/plain": [
       "View of AnnData object with n_obs × n_vars = 7481 × 100884\n",
       "    obs: 'cellatac_code', 'sample', 'barcode', 'donor'\n",
       "    var: 'peak_width', 'exon', 'gene', 'promoter', 'annotation', 'gene_name', 'gene_id', 'tss_distance', 'ENCODE_blacklist', 'n_cells_by_counts', 'mean_counts', 'log1p_mean_counts', 'pct_dropout_by_counts', 'total_counts', 'log1p_total_counts'\n",
       "    layers: 'binary_raw'"
      ]
     },
     "execution_count": 33,
     "metadata": {},
     "output_type": "execute_result"
    }
   ],
   "source": [
    "# Filter by width (remove peaks at the lowest end, closest to min peak width in MACS2)\n",
    "\n",
    "adata = adata[:, adata.var.peak_width > 210]\n",
    "adata = adata[:, adata.var.peak_width < 1500]\n",
    "adata"
   ]
  },
  {
   "cell_type": "code",
   "execution_count": 34,
   "id": "prescription-scale",
   "metadata": {},
   "outputs": [
    {
     "data": {
      "text/html": [
       "<div>\n",
       "<style scoped>\n",
       "    .dataframe tbody tr th:only-of-type {\n",
       "        vertical-align: middle;\n",
       "    }\n",
       "\n",
       "    .dataframe tbody tr th {\n",
       "        vertical-align: top;\n",
       "    }\n",
       "\n",
       "    .dataframe thead th {\n",
       "        text-align: right;\n",
       "    }\n",
       "</style>\n",
       "<table border=\"1\" class=\"dataframe\">\n",
       "  <thead>\n",
       "    <tr style=\"text-align: right;\">\n",
       "      <th></th>\n",
       "      <th>peak_width</th>\n",
       "      <th>exon</th>\n",
       "      <th>gene</th>\n",
       "      <th>promoter</th>\n",
       "      <th>annotation</th>\n",
       "      <th>gene_name</th>\n",
       "      <th>gene_id</th>\n",
       "      <th>tss_distance</th>\n",
       "      <th>ENCODE_blacklist</th>\n",
       "      <th>n_cells_by_counts</th>\n",
       "      <th>mean_counts</th>\n",
       "      <th>log1p_mean_counts</th>\n",
       "      <th>pct_dropout_by_counts</th>\n",
       "      <th>total_counts</th>\n",
       "      <th>log1p_total_counts</th>\n",
       "    </tr>\n",
       "    <tr>\n",
       "      <th>peak_id</th>\n",
       "      <th></th>\n",
       "      <th></th>\n",
       "      <th></th>\n",
       "      <th></th>\n",
       "      <th></th>\n",
       "      <th></th>\n",
       "      <th></th>\n",
       "      <th></th>\n",
       "      <th></th>\n",
       "      <th></th>\n",
       "      <th></th>\n",
       "      <th></th>\n",
       "      <th></th>\n",
       "      <th></th>\n",
       "      <th></th>\n",
       "    </tr>\n",
       "  </thead>\n",
       "  <tbody>\n",
       "    <tr>\n",
       "      <th>chr1:827190-827687</th>\n",
       "      <td>498</td>\n",
       "      <td>0</td>\n",
       "      <td>0</td>\n",
       "      <td>0</td>\n",
       "      <td>intergenic</td>\n",
       "      <td>NaN</td>\n",
       "      <td>NaN</td>\n",
       "      <td>96240</td>\n",
       "      <td>0</td>\n",
       "      <td>128</td>\n",
       "      <td>0.017110</td>\n",
       "      <td>0.016965</td>\n",
       "      <td>98.288999</td>\n",
       "      <td>128.0</td>\n",
       "      <td>4.859812</td>\n",
       "    </tr>\n",
       "    <tr>\n",
       "      <th>chr1:845586-845942</th>\n",
       "      <td>357</td>\n",
       "      <td>0</td>\n",
       "      <td>0</td>\n",
       "      <td>0</td>\n",
       "      <td>intergenic</td>\n",
       "      <td>NaN</td>\n",
       "      <td>NaN</td>\n",
       "      <td>77985</td>\n",
       "      <td>0</td>\n",
       "      <td>50</td>\n",
       "      <td>0.006684</td>\n",
       "      <td>0.006661</td>\n",
       "      <td>99.331640</td>\n",
       "      <td>50.0</td>\n",
       "      <td>3.931826</td>\n",
       "    </tr>\n",
       "    <tr>\n",
       "      <th>chr1:851477-852159</th>\n",
       "      <td>683</td>\n",
       "      <td>0</td>\n",
       "      <td>0</td>\n",
       "      <td>0</td>\n",
       "      <td>intergenic</td>\n",
       "      <td>NaN</td>\n",
       "      <td>NaN</td>\n",
       "      <td>71768</td>\n",
       "      <td>0</td>\n",
       "      <td>49</td>\n",
       "      <td>0.006550</td>\n",
       "      <td>0.006529</td>\n",
       "      <td>99.345007</td>\n",
       "      <td>49.0</td>\n",
       "      <td>3.912023</td>\n",
       "    </tr>\n",
       "    <tr>\n",
       "      <th>chr1:869573-870018</th>\n",
       "      <td>446</td>\n",
       "      <td>0</td>\n",
       "      <td>0</td>\n",
       "      <td>0</td>\n",
       "      <td>intergenic</td>\n",
       "      <td>NaN</td>\n",
       "      <td>NaN</td>\n",
       "      <td>53909</td>\n",
       "      <td>0</td>\n",
       "      <td>71</td>\n",
       "      <td>0.009491</td>\n",
       "      <td>0.009446</td>\n",
       "      <td>99.050929</td>\n",
       "      <td>71.0</td>\n",
       "      <td>4.276666</td>\n",
       "    </tr>\n",
       "    <tr>\n",
       "      <th>chr1:904345-904907</th>\n",
       "      <td>563</td>\n",
       "      <td>0</td>\n",
       "      <td>0</td>\n",
       "      <td>0</td>\n",
       "      <td>intergenic</td>\n",
       "      <td>NaN</td>\n",
       "      <td>NaN</td>\n",
       "      <td>19020</td>\n",
       "      <td>0</td>\n",
       "      <td>147</td>\n",
       "      <td>0.019650</td>\n",
       "      <td>0.019459</td>\n",
       "      <td>98.035022</td>\n",
       "      <td>147.0</td>\n",
       "      <td>4.997212</td>\n",
       "    </tr>\n",
       "  </tbody>\n",
       "</table>\n",
       "</div>"
      ],
      "text/plain": [
       "                    peak_width  exon  gene  promoter  annotation gene_name  \\\n",
       "peak_id                                                                      \n",
       "chr1:827190-827687         498     0     0         0  intergenic       NaN   \n",
       "chr1:845586-845942         357     0     0         0  intergenic       NaN   \n",
       "chr1:851477-852159         683     0     0         0  intergenic       NaN   \n",
       "chr1:869573-870018         446     0     0         0  intergenic       NaN   \n",
       "chr1:904345-904907         563     0     0         0  intergenic       NaN   \n",
       "\n",
       "                   gene_id  tss_distance  ENCODE_blacklist  n_cells_by_counts  \\\n",
       "peak_id                                                                         \n",
       "chr1:827190-827687     NaN         96240                 0                128   \n",
       "chr1:845586-845942     NaN         77985                 0                 50   \n",
       "chr1:851477-852159     NaN         71768                 0                 49   \n",
       "chr1:869573-870018     NaN         53909                 0                 71   \n",
       "chr1:904345-904907     NaN         19020                 0                147   \n",
       "\n",
       "                    mean_counts  log1p_mean_counts  pct_dropout_by_counts  \\\n",
       "peak_id                                                                     \n",
       "chr1:827190-827687     0.017110           0.016965              98.288999   \n",
       "chr1:845586-845942     0.006684           0.006661              99.331640   \n",
       "chr1:851477-852159     0.006550           0.006529              99.345007   \n",
       "chr1:869573-870018     0.009491           0.009446              99.050929   \n",
       "chr1:904345-904907     0.019650           0.019459              98.035022   \n",
       "\n",
       "                    total_counts  log1p_total_counts  \n",
       "peak_id                                               \n",
       "chr1:827190-827687         128.0            4.859812  \n",
       "chr1:845586-845942          50.0            3.931826  \n",
       "chr1:851477-852159          49.0            3.912023  \n",
       "chr1:869573-870018          71.0            4.276666  \n",
       "chr1:904345-904907         147.0            4.997212  "
      ]
     },
     "execution_count": 34,
     "metadata": {},
     "output_type": "execute_result"
    }
   ],
   "source": [
    "adata.var.head()"
   ]
  },
  {
   "cell_type": "code",
   "execution_count": 35,
   "id": "unsigned-morris",
   "metadata": {},
   "outputs": [
    {
     "data": {
      "text/plain": [
       "intergenic    41779\n",
       "intron        34889\n",
       "exon          19422\n",
       "promoter       4794\n",
       "Name: annotation, dtype: int64"
      ]
     },
     "execution_count": 35,
     "metadata": {},
     "output_type": "execute_result"
    }
   ],
   "source": [
    "adata.var['annotation'].value_counts()"
   ]
  },
  {
   "cell_type": "code",
   "execution_count": 36,
   "id": "young-irrigation",
   "metadata": {},
   "outputs": [
    {
     "data": {
      "text/html": [
       "<div>\n",
       "<style scoped>\n",
       "    .dataframe tbody tr th:only-of-type {\n",
       "        vertical-align: middle;\n",
       "    }\n",
       "\n",
       "    .dataframe tbody tr th {\n",
       "        vertical-align: top;\n",
       "    }\n",
       "\n",
       "    .dataframe thead th {\n",
       "        text-align: right;\n",
       "    }\n",
       "</style>\n",
       "<table border=\"1\" class=\"dataframe\">\n",
       "  <thead>\n",
       "    <tr style=\"text-align: right;\">\n",
       "      <th></th>\n",
       "      <th>cellatac_code</th>\n",
       "      <th>sample</th>\n",
       "      <th>barcode</th>\n",
       "      <th>donor</th>\n",
       "    </tr>\n",
       "  </thead>\n",
       "  <tbody>\n",
       "    <tr>\n",
       "      <th>09-AAACAGCCACTCGCTC-1</th>\n",
       "      <td>09</td>\n",
       "      <td>Pla_Camb10714918_and_40110_Pla_Camb10687914</td>\n",
       "      <td>09-AAACAGCCACTCGCTC-1</td>\n",
       "      <td>P14</td>\n",
       "    </tr>\n",
       "    <tr>\n",
       "      <th>09-AAACCGGCACAGGAAT-1</th>\n",
       "      <td>09</td>\n",
       "      <td>Pla_Camb10714918_and_40110_Pla_Camb10687914</td>\n",
       "      <td>09-AAACCGGCACAGGAAT-1</td>\n",
       "      <td>P14</td>\n",
       "    </tr>\n",
       "    <tr>\n",
       "      <th>09-AAACGGATCCACCCTG-1</th>\n",
       "      <td>09</td>\n",
       "      <td>Pla_Camb10714918_and_40110_Pla_Camb10687914</td>\n",
       "      <td>09-AAACGGATCCACCCTG-1</td>\n",
       "      <td>P14</td>\n",
       "    </tr>\n",
       "    <tr>\n",
       "      <th>09-AAAGCCCGTGTCACGG-1</th>\n",
       "      <td>09</td>\n",
       "      <td>Pla_Camb10714918_and_40110_Pla_Camb10687914</td>\n",
       "      <td>09-AAAGCCCGTGTCACGG-1</td>\n",
       "      <td>P14</td>\n",
       "    </tr>\n",
       "    <tr>\n",
       "      <th>09-AAAGCTTGTGTTTGTC-1</th>\n",
       "      <td>09</td>\n",
       "      <td>Pla_Camb10714918_and_40110_Pla_Camb10687914</td>\n",
       "      <td>09-AAAGCTTGTGTTTGTC-1</td>\n",
       "      <td>P14</td>\n",
       "    </tr>\n",
       "  </tbody>\n",
       "</table>\n",
       "</div>"
      ],
      "text/plain": [
       "                      cellatac_code  \\\n",
       "09-AAACAGCCACTCGCTC-1            09   \n",
       "09-AAACCGGCACAGGAAT-1            09   \n",
       "09-AAACGGATCCACCCTG-1            09   \n",
       "09-AAAGCCCGTGTCACGG-1            09   \n",
       "09-AAAGCTTGTGTTTGTC-1            09   \n",
       "\n",
       "                                                            sample  \\\n",
       "09-AAACAGCCACTCGCTC-1  Pla_Camb10714918_and_40110_Pla_Camb10687914   \n",
       "09-AAACCGGCACAGGAAT-1  Pla_Camb10714918_and_40110_Pla_Camb10687914   \n",
       "09-AAACGGATCCACCCTG-1  Pla_Camb10714918_and_40110_Pla_Camb10687914   \n",
       "09-AAAGCCCGTGTCACGG-1  Pla_Camb10714918_and_40110_Pla_Camb10687914   \n",
       "09-AAAGCTTGTGTTTGTC-1  Pla_Camb10714918_and_40110_Pla_Camb10687914   \n",
       "\n",
       "                                     barcode donor  \n",
       "09-AAACAGCCACTCGCTC-1  09-AAACAGCCACTCGCTC-1   P14  \n",
       "09-AAACCGGCACAGGAAT-1  09-AAACCGGCACAGGAAT-1   P14  \n",
       "09-AAACGGATCCACCCTG-1  09-AAACGGATCCACCCTG-1   P14  \n",
       "09-AAAGCCCGTGTCACGG-1  09-AAAGCCCGTGTCACGG-1   P14  \n",
       "09-AAAGCTTGTGTTTGTC-1  09-AAAGCTTGTGTTTGTC-1   P14  "
      ]
     },
     "execution_count": 36,
     "metadata": {},
     "output_type": "execute_result"
    }
   ],
   "source": [
    "adata.obs.head()"
   ]
  },
  {
   "cell_type": "code",
   "execution_count": 38,
   "id": "incorporate-prize",
   "metadata": {},
   "outputs": [],
   "source": [
    "# original version of the following filtering, now basing it on multiome annotation labels coming from RNA (custom clusters)"
   ]
  },
  {
   "cell_type": "code",
   "execution_count": 40,
   "id": "productive-barcelona",
   "metadata": {
    "tags": []
   },
   "outputs": [
    {
     "name": "stderr",
     "output_type": "stream",
     "text": [
      "Trying to set attribute `.obs` of view, copying.\n"
     ]
    },
    {
     "data": {
      "text/plain": [
       "AnnData object with n_obs × n_vars = 7481 × 100884\n",
       "    obs: 'cellatac_code', 'sample', 'barcode', 'donor', 'annot_multiome_combined'\n",
       "    var: 'peak_width', 'exon', 'gene', 'promoter', 'annotation', 'gene_name', 'gene_id', 'tss_distance', 'ENCODE_blacklist', 'n_cells_by_counts', 'mean_counts', 'log1p_mean_counts', 'pct_dropout_by_counts', 'total_counts', 'log1p_total_counts'\n",
       "    layers: 'binary_raw'"
      ]
     },
     "execution_count": 40,
     "metadata": {},
     "output_type": "execute_result"
    }
   ],
   "source": [
    "### Filter peaks that are not accessible in at least 5% of cells from a coarse cluster\n",
    "min_frac=0.05\n",
    "# Load cluster information from cellatac outputs\n",
    "clusters = pd.read_table('/lustre/scratch117/cellgen/team292/aa22/with_Stijn/202111_snATAC-seq_data_MFI/multiome_ATAC_samples_analysis/all_cells_analysis/downstream_analysis/20220117_troph_barcodes_multiome_only_for_Stijn_annotations_for_cellatac.csv',\n",
    "                         index_col = 0)\n",
    "adata.obs['annot_multiome_combined'] = clusters.loc[adata.obs_names,'annot_multiome_combined']\n",
    "adata"
   ]
  },
  {
   "cell_type": "code",
   "execution_count": 43,
   "id": "convenient-petite",
   "metadata": {},
   "outputs": [
    {
     "name": "stdout",
     "output_type": "stream",
     "text": [
      "EVT_1\n",
      "EVT_2\n",
      "GC\n",
      "SCT\n",
      "VCT\n",
      "VCT_CCC\n",
      "VCT_fusing\n",
      "VCT_p\n",
      "eEVT\n",
      "iEVT\n"
     ]
    },
    {
     "name": "stderr",
     "output_type": "stream",
     "text": [
      "/opt/conda/lib/python3.8/site-packages/IPython/core/interactiveshell.py:3437: SparseEfficiencyWarning: Comparing a sparse matrix with a nonzero scalar using != is inefficient, try using == instead.\n",
      "  exec(code_obj, self.user_global_ns, self.user_ns)\n"
     ]
    }
   ],
   "source": [
    "n_clusters = len(np.unique(adata.obs[\"annot_multiome_combined\"]))\n",
    "clus_mat = np.empty([adata.n_obs, n_clusters])\n",
    "for cl in np.unique(adata.obs[\"annot_multiome_combined\"]):\n",
    "    print(cl)\n",
    "    cl_int = list(np.unique(adata.obs[\"annot_multiome_combined\"])).index(cl)\n",
    "    clus_mat[np.where(adata.obs['annot_multiome_combined']==cl)[0],cl_int] = 1\n",
    "\n",
    "clus_mat = scipy.sparse.csr_matrix(clus_mat)\n",
    "clus_mat[clus_mat != 1 ] = 0"
   ]
  },
  {
   "cell_type": "code",
   "execution_count": 44,
   "id": "czech-shoulder",
   "metadata": {},
   "outputs": [],
   "source": [
    "cl_peak_mat = np.dot(clus_mat.T, adata.layers[\"binary_raw\"])"
   ]
  },
  {
   "cell_type": "code",
   "execution_count": 45,
   "id": "systematic-exchange",
   "metadata": {},
   "outputs": [],
   "source": [
    "cl_peak_frac = cl_peak_mat/clus_mat.sum(0).T"
   ]
  },
  {
   "cell_type": "code",
   "execution_count": 46,
   "id": "induced-dairy",
   "metadata": {},
   "outputs": [
    {
     "data": {
      "text/plain": [
       "(1, 100884)"
      ]
     },
     "execution_count": 46,
     "metadata": {},
     "output_type": "execute_result"
    }
   ],
   "source": [
    "cl_peak_frac.max(0).shape"
   ]
  },
  {
   "cell_type": "code",
   "execution_count": 47,
   "id": "ordered-inspiration",
   "metadata": {},
   "outputs": [
    {
     "data": {
      "text/plain": [
       "(1, 100884)"
      ]
     },
     "execution_count": 47,
     "metadata": {},
     "output_type": "execute_result"
    }
   ],
   "source": [
    "bool_matrix = cl_peak_frac.max(0) > min_frac\n",
    "bool_matrix.shape"
   ]
  },
  {
   "cell_type": "code",
   "execution_count": 48,
   "id": "premium-accent",
   "metadata": {},
   "outputs": [
    {
     "data": {
      "text/plain": [
       "(100884,)"
      ]
     },
     "execution_count": 48,
     "metadata": {},
     "output_type": "execute_result"
    }
   ],
   "source": [
    "bool_vector = np.squeeze(np.asarray(bool_matrix))\n",
    "bool_vector.shape"
   ]
  },
  {
   "cell_type": "code",
   "execution_count": 49,
   "id": "military-cancer",
   "metadata": {},
   "outputs": [],
   "source": [
    "adata = adata[:, bool_vector]"
   ]
  },
  {
   "cell_type": "code",
   "execution_count": 50,
   "id": "finished-immigration",
   "metadata": {},
   "outputs": [
    {
     "data": {
      "text/plain": [
       "View of AnnData object with n_obs × n_vars = 7481 × 42558\n",
       "    obs: 'cellatac_code', 'sample', 'barcode', 'donor', 'annot_multiome_combined'\n",
       "    var: 'peak_width', 'exon', 'gene', 'promoter', 'annotation', 'gene_name', 'gene_id', 'tss_distance', 'ENCODE_blacklist', 'n_cells_by_counts', 'mean_counts', 'log1p_mean_counts', 'pct_dropout_by_counts', 'total_counts', 'log1p_total_counts'\n",
       "    layers: 'binary_raw'"
      ]
     },
     "execution_count": 50,
     "metadata": {},
     "output_type": "execute_result"
    }
   ],
   "source": [
    "adata"
   ]
  },
  {
   "cell_type": "code",
   "execution_count": 51,
   "id": "mighty-diversity",
   "metadata": {},
   "outputs": [],
   "source": [
    "# are these peaks similar to the 5% cellatac cluster-based filtered peaks?\n",
    "filtered_peaks_cellatac_based = list(sc.read('/lustre/scratch117/cellgen/team292/aa22/with_Stijn/202111_snATAC-seq_data_MFI/multiome_ATAC_samples_analysis/trophoblast_only_analysis/downstream_analysis/multiome_only_MFI_trophoblast_only_ATAC_raw.h5ad').var.index)"
   ]
  },
  {
   "cell_type": "code",
   "execution_count": 52,
   "id": "numeric-animation",
   "metadata": {},
   "outputs": [
    {
     "data": {
      "text/plain": [
       "40621"
      ]
     },
     "execution_count": 52,
     "metadata": {},
     "output_type": "execute_result"
    }
   ],
   "source": [
    "len(filtered_peaks_cellatac_based)"
   ]
  },
  {
   "cell_type": "code",
   "execution_count": 53,
   "id": "threaded-costume",
   "metadata": {},
   "outputs": [
    {
     "data": {
      "text/plain": [
       "42558"
      ]
     },
     "execution_count": 53,
     "metadata": {},
     "output_type": "execute_result"
    }
   ],
   "source": [
    "len(adata.var.index)"
   ]
  },
  {
   "cell_type": "code",
   "execution_count": 54,
   "id": "complicated-zambia",
   "metadata": {},
   "outputs": [
    {
     "data": {
      "text/plain": [
       "356"
      ]
     },
     "execution_count": 54,
     "metadata": {},
     "output_type": "execute_result"
    }
   ],
   "source": [
    "# ok so VERY different set of peaks - this is promising!\n",
    "len(set(adata.var.index) & set(filtered_peaks_cellatac_based))"
   ]
  },
  {
   "cell_type": "code",
   "execution_count": null,
   "id": "processed-singles",
   "metadata": {},
   "outputs": [],
   "source": []
  },
  {
   "cell_type": "code",
   "execution_count": null,
   "id": "relative-appearance",
   "metadata": {},
   "outputs": [],
   "source": []
  },
  {
   "cell_type": "code",
   "execution_count": 103,
   "id": "promotional-rebate",
   "metadata": {},
   "outputs": [
    {
     "data": {
      "text/plain": [
       "View of AnnData object with n_obs × n_vars = 7481 × 40621\n",
       "    obs: 'cellatac_clusters'\n",
       "    var: 'peak_width', 'exon', 'gene', 'promoter', 'annotation', 'gene_name', 'gene_id', 'tss_distance', 'ENCODE_blacklist', 'n_cells_by_counts', 'mean_counts', 'log1p_mean_counts', 'pct_dropout_by_counts', 'total_counts', 'log1p_total_counts'\n",
       "    layers: 'binary_raw'"
      ]
     },
     "execution_count": 103,
     "metadata": {},
     "output_type": "execute_result"
    }
   ],
   "source": [
    "# with a 5% threshold based on cellatac clusters from 89387 peaks it goes down to 40621\n",
    "adata"
   ]
  },
  {
   "cell_type": "code",
   "execution_count": null,
   "id": "documentary-claim",
   "metadata": {},
   "outputs": [],
   "source": []
  },
  {
   "cell_type": "code",
   "execution_count": 55,
   "id": "vanilla-authorization",
   "metadata": {},
   "outputs": [
    {
     "data": {
      "text/plain": [
       "View of AnnData object with n_obs × n_vars = 7481 × 42558\n",
       "    obs: 'cellatac_code', 'sample', 'barcode', 'donor', 'annot_multiome_combined'\n",
       "    var: 'peak_width', 'exon', 'gene', 'promoter', 'annotation', 'gene_name', 'gene_id', 'tss_distance', 'ENCODE_blacklist', 'n_cells_by_counts', 'mean_counts', 'log1p_mean_counts', 'pct_dropout_by_counts', 'total_counts', 'log1p_total_counts'\n",
       "    layers: 'binary_raw'"
      ]
     },
     "execution_count": 55,
     "metadata": {},
     "output_type": "execute_result"
    }
   ],
   "source": [
    "adata"
   ]
  },
  {
   "cell_type": "code",
   "execution_count": 56,
   "id": "round-european",
   "metadata": {},
   "outputs": [
    {
     "name": "stderr",
     "output_type": "stream",
     "text": [
      "Trying to set attribute `.obs` of view, copying.\n"
     ]
    }
   ],
   "source": [
    "sc.pp.calculate_qc_metrics(adata, layer = \"binary_raw\", inplace = True)"
   ]
  },
  {
   "cell_type": "code",
   "execution_count": 57,
   "id": "sonic-relative",
   "metadata": {},
   "outputs": [
    {
     "data": {
      "text/plain": [
       "array([[<AxesSubplot:title={'center':'log1p_total_counts'}>]],\n",
       "      dtype=object)"
      ]
     },
     "execution_count": 57,
     "metadata": {},
     "output_type": "execute_result"
    },
    {
     "data": {
      "image/png": "[encoded data removed]",
      "text/plain": [
       "<Figure size 1800x432 with 1 Axes>"
      ]
     },
     "metadata": {
      "needs_background": "light"
     },
     "output_type": "display_data"
    }
   ],
   "source": [
    "adata.var.hist(column = 'log1p_total_counts', bins = 200, grid = False, figsize = (25,6), color = '#870052')"
   ]
  },
  {
   "cell_type": "code",
   "execution_count": 58,
   "id": "included-jumping",
   "metadata": {},
   "outputs": [
    {
     "data": {
      "text/plain": [
       "array([[<AxesSubplot:title={'center':'log1p_total_counts'}>]],\n",
       "      dtype=object)"
      ]
     },
     "execution_count": 58,
     "metadata": {},
     "output_type": "execute_result"
    },
    {
     "data": {
      "image/png": "[encoded data removed]",
      "text/plain": [
       "<Figure size 1800x432 with 1 Axes>"
      ]
     },
     "metadata": {
      "needs_background": "light"
     },
     "output_type": "display_data"
    }
   ],
   "source": [
    "adata.obs.hist(column = 'log1p_total_counts', bins = 200, grid = False, figsize = (25,6), color = '#870052')"
   ]
  },
  {
   "cell_type": "code",
   "execution_count": 59,
   "id": "gorgeous-taste",
   "metadata": {},
   "outputs": [
    {
     "data": {
      "text/plain": [
       "View of AnnData object with n_obs × n_vars = 7449 × 42558\n",
       "    obs: 'cellatac_code', 'sample', 'barcode', 'donor', 'annot_multiome_combined', 'n_genes_by_counts', 'log1p_n_genes_by_counts', 'total_counts', 'log1p_total_counts', 'pct_counts_in_top_50_genes', 'pct_counts_in_top_100_genes', 'pct_counts_in_top_200_genes', 'pct_counts_in_top_500_genes'\n",
       "    var: 'peak_width', 'exon', 'gene', 'promoter', 'annotation', 'gene_name', 'gene_id', 'tss_distance', 'ENCODE_blacklist', 'n_cells_by_counts', 'mean_counts', 'log1p_mean_counts', 'pct_dropout_by_counts', 'total_counts', 'log1p_total_counts'\n",
       "    layers: 'binary_raw'"
      ]
     },
     "execution_count": 59,
     "metadata": {},
     "output_type": "execute_result"
    }
   ],
   "source": [
    "bdata = adata[adata.obs.log1p_total_counts >= 4]\n",
    "bdata"
   ]
  },
  {
   "cell_type": "code",
   "execution_count": 60,
   "id": "destroyed-deputy",
   "metadata": {},
   "outputs": [
    {
     "data": {
      "text/plain": [
       "'/lustre/scratch117/cellgen/team292/aa22/with_Stijn/202111_snATAC-seq_data_MFI/multiome_ATAC_samples_analysis/trophoblast_only_analysis/downstream_analysis_custom_clust/multiome_only_MFI_trophoblast_only_peak_calling_w_custom_clusters_ATAC_raw.h5ad'"
      ]
     },
     "execution_count": 60,
     "metadata": {},
     "output_type": "execute_result"
    }
   ],
   "source": [
    "output[\"h5ad\"]"
   ]
  },
  {
   "cell_type": "code",
   "execution_count": null,
   "id": "sublime-longer",
   "metadata": {},
   "outputs": [
    {
     "name": "stderr",
     "output_type": "stream",
     "text": [
      "/opt/conda/lib/python3.8/site-packages/anndata/_core/anndata.py:1207: ImplicitModificationWarning: Initializing view as actual.\n",
      "  warnings.warn(\n",
      "Trying to set attribute `.obs` of view, copying.\n",
      "... storing 'cellatac_code' as categorical\n",
      "Trying to set attribute `.obs` of view, copying.\n",
      "... storing 'sample' as categorical\n",
      "Trying to set attribute `.obs` of view, copying.\n",
      "... storing 'donor' as categorical\n",
      "Trying to set attribute `.obs` of view, copying.\n",
      "... storing 'annot_multiome_combined' as categorical\n",
      "Trying to set attribute `.var` of view, copying.\n",
      "... storing 'annotation' as categorical\n",
      "Trying to set attribute `.var` of view, copying.\n",
      "... storing 'gene_name' as categorical\n",
      "Trying to set attribute `.var` of view, copying.\n",
      "... storing 'gene_id' as categorical\n"
     ]
    }
   ],
   "source": [
    "## Write output anndata\n",
    "bdata.write_h5ad(output[\"h5ad\"])"
   ]
  },
  {
   "cell_type": "code",
   "execution_count": null,
   "id": "intimate-permit",
   "metadata": {},
   "outputs": [],
   "source": []
  },
  {
   "cell_type": "code",
   "execution_count": null,
   "id": "residential-africa",
   "metadata": {},
   "outputs": [],
   "source": []
  },
  {
   "cell_type": "code",
   "execution_count": null,
   "id": "satisfactory-constraint",
   "metadata": {},
   "outputs": [],
   "source": []
  }
 ],
 "metadata": {
  "kernelspec": {
   "display_name": "Python 3",
   "language": "python",
   "name": "python3"
  },
  "language_info": {
   "codemirror_mode": {
    "name": "ipython",
    "version": 3
   },
   "file_extension": ".py",
   "mimetype": "text/x-python",
   "name": "python",
   "nbconvert_exporter": "python",
   "pygments_lexer": "ipython3",
   "version": "3.8.8"
  }
 },
 "nbformat": 4,
 "nbformat_minor": 5
}
