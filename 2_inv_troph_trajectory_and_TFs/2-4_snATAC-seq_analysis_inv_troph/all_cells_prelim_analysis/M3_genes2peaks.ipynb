{
 "cells": [
  {
   "cell_type": "markdown",
   "id": "extended-three",
   "metadata": {},
   "source": [
    "## ATAC analysis\n",
    "\n",
    "### Matching genes to proximal peaks\n",
    "\n",
    "\n",
    "01.2022\n",
    "\n",
    "multiome samples only"
   ]
  },
  {
   "cell_type": "markdown",
   "id": "important-thinking",
   "metadata": {},
   "source": [
    "A common approach to start peak - gene correlation analysis is to find all peaks within 50kb of a gene. Here we build an adjacency matrix matching peak to genes.\n",
    "\n"
   ]
  },
  {
   "cell_type": "code",
   "execution_count": 1,
   "id": "vocational-parallel",
   "metadata": {},
   "outputs": [],
   "source": [
    "import numpy as np\n",
    "import scanpy as sc \n",
    "import pandas as pd\n",
    "import anndata\n",
    "import anndata2ri ## For sparse matrix conversion from r 2 py"
   ]
  },
  {
   "cell_type": "markdown",
   "id": "eastern-drain",
   "metadata": {},
   "source": [
    "**r2py setup**"
   ]
  },
  {
   "cell_type": "code",
   "execution_count": 2,
   "id": "original-nowhere",
   "metadata": {},
   "outputs": [],
   "source": [
    "import rpy2.rinterface_lib.callbacks\n",
    "import logging"
   ]
  },
  {
   "cell_type": "code",
   "execution_count": 3,
   "id": "central-membership",
   "metadata": {},
   "outputs": [],
   "source": [
    "# Ignore R warning messages\n",
    "#Note: this can be commented out to get more verbose R output\n",
    "rpy2.rinterface_lib.callbacks.logger.setLevel(logging.ERROR)"
   ]
  },
  {
   "cell_type": "markdown",
   "id": "academic-filling",
   "metadata": {},
   "source": [
    "Loading the rpy2 extension enables cell magic to be used. This runs R code in jupyter notebook cells."
   ]
  },
  {
   "cell_type": "code",
   "execution_count": 4,
   "id": "spread-combination",
   "metadata": {},
   "outputs": [],
   "source": [
    "%load_ext rpy2.ipython"
   ]
  },
  {
   "cell_type": "markdown",
   "id": "rental-interval",
   "metadata": {},
   "source": [
    "**Load data**"
   ]
  },
  {
   "cell_type": "code",
   "execution_count": 5,
   "id": "healthy-leave",
   "metadata": {},
   "outputs": [],
   "source": [
    "# Define variables\n",
    "cellatac_outdir = '/lustre/scratch117/cellgen/team292/aa22/with_Stijn/202111_snATAC-seq_data_MFI/multiome_ATAC_samples_analysis/all_cells_analysis/results200k_sampleB/'\n",
    "outdir = '/lustre/scratch117/cellgen/team292/aa22/with_Stijn/202111_snATAC-seq_data_MFI/multiome_ATAC_samples_analysis/all_cells_analysis/downstream_analysis/'\n",
    "experiment_prefix = 'multiome_only_MFI_prelim_all_cells'\n"
   ]
  },
  {
   "cell_type": "code",
   "execution_count": 6,
   "id": "surprising-republican",
   "metadata": {},
   "outputs": [],
   "source": [
    "adata = sc.read_h5ad(outdir + experiment_prefix + \"_ATAC.wCisTopic.h5ad\")"
   ]
  },
  {
   "cell_type": "code",
   "execution_count": 7,
   "id": "split-terrorism",
   "metadata": {},
   "outputs": [
    {
     "data": {
      "text/plain": [
       "AnnData object with n_obs × n_vars = 52798 × 59281\n",
       "    obs: 'cellatac_clusters', 'n_genes_by_counts', 'log1p_n_genes_by_counts', 'total_counts', 'log1p_total_counts', 'pct_counts_in_top_50_genes', 'pct_counts_in_top_100_genes', 'pct_counts_in_top_200_genes', 'pct_counts_in_top_500_genes', 'cellatac_code', 'sample', 'donor', 'age', 'tissue', 'technology'\n",
       "    var: 'peak_width', 'exon', 'gene', 'promoter', 'annotation', 'gene_name', 'gene_id', 'tss_distance', 'ENCODE_blacklist', 'n_cells_by_counts', 'mean_counts', 'log1p_mean_counts', 'pct_dropout_by_counts', 'total_counts', 'log1p_total_counts'\n",
       "    uns: 'age_colors', 'cellatac_clusters_colors', 'donor_colors', 'neighbors', 'sample_colors', 'technology_colors', 'tissue_colors', 'umap'\n",
       "    obsm: 'X_cistopic_50', 'X_umap'\n",
       "    layers: 'binary_raw'\n",
       "    obsp: 'connectivities', 'distances'"
      ]
     },
     "execution_count": 7,
     "metadata": {},
     "output_type": "execute_result"
    }
   ],
   "source": [
    "adata"
   ]
  },
  {
   "cell_type": "code",
   "execution_count": 8,
   "id": "spatial-concentrate",
   "metadata": {},
   "outputs": [],
   "source": [
    "peaks = adata.var_names"
   ]
  },
  {
   "cell_type": "markdown",
   "id": "bearing-legislation",
   "metadata": {},
   "source": [
    "**Match peaks to genes**"
   ]
  },
  {
   "cell_type": "code",
   "execution_count": 9,
   "id": "copyrighted-license",
   "metadata": {},
   "outputs": [],
   "source": [
    "%%R \n",
    "library(Matrix)\n",
    "library(GenomicRanges)\n",
    "library(ensembldb)\n",
    "library(EnsDb.Hsapiens.v86) ## Remember to pick your genome!\n",
    "library(tidyr)\n",
    "# library(Signac)"
   ]
  },
  {
   "cell_type": "code",
   "execution_count": 10,
   "id": "contained-clinic",
   "metadata": {},
   "outputs": [
    {
     "name": "stdout",
     "output_type": "stream",
     "text": [
      "R version 4.0.4 (2021-02-15)\n",
      "Platform: x86_64-pc-linux-gnu (64-bit)\n",
      "Running under: Ubuntu 20.04.1 LTS\n",
      "\n",
      "Matrix products: default\n",
      "BLAS/LAPACK: /opt/conda/lib/libopenblasp-r0.3.12.so\n",
      "\n",
      "locale:\n",
      " [1] LC_CTYPE=en_US.UTF-8       LC_NUMERIC=C              \n",
      " [3] LC_TIME=en_US.UTF-8        LC_COLLATE=en_US.UTF-8    \n",
      " [5] LC_MONETARY=en_US.UTF-8    LC_MESSAGES=en_US.UTF-8   \n",
      " [7] LC_PAPER=en_US.UTF-8       LC_NAME=C                 \n",
      " [9] LC_ADDRESS=C               LC_TELEPHONE=C            \n",
      "[11] LC_MEASUREMENT=en_US.UTF-8 LC_IDENTIFICATION=C       \n",
      "\n",
      "attached base packages:\n",
      "[1] stats4    tools     stats     graphics  grDevices utils     datasets \n",
      "[8] methods   base     \n",
      "\n",
      "other attached packages:\n",
      " [1] tidyr_1.1.4               EnsDb.Hsapiens.v86_2.99.0\n",
      " [3] ensembldb_2.14.1          AnnotationFilter_1.14.0  \n",
      " [5] GenomicFeatures_1.42.2    AnnotationDbi_1.52.0     \n",
      " [7] Biobase_2.50.0            GenomicRanges_1.42.0     \n",
      " [9] GenomeInfoDb_1.31.1       IRanges_2.24.1           \n",
      "[11] S4Vectors_0.28.1          BiocGenerics_0.41.2      \n",
      "[13] Matrix_1.4-0             \n",
      "\n",
      "loaded via a namespace (and not attached):\n",
      " [1] Rcpp_1.0.7                  lattice_0.20-41            \n",
      " [3] prettyunits_1.1.1           Rsamtools_2.6.0            \n",
      " [5] Biostrings_2.58.0           assertthat_0.2.1           \n",
      " [7] utf8_1.2.2                  BiocFileCache_1.14.0       \n",
      " [9] R6_2.5.1                    RSQLite_2.2.9              \n",
      "[11] httr_1.4.2                  pillar_1.6.4               \n",
      "[13] zlibbioc_1.36.0             rlang_0.4.12               \n",
      "[15] progress_1.2.2              lazyeval_0.2.2             \n",
      "[17] curl_4.3.2                  blob_1.2.2                 \n",
      "[19] BiocParallel_1.24.1         stringr_1.4.0              \n",
      "[21] ProtGenerics_1.22.0         RCurl_1.98-1.5             \n",
      "[23] bit_4.0.4                   biomaRt_2.46.3             \n",
      "[25] DelayedArray_0.16.3         compiler_4.0.4             \n",
      "[27] rtracklayer_1.50.0          pkgconfig_2.0.3            \n",
      "[29] askpass_1.1                 openssl_1.4.6              \n",
      "[31] tidyselect_1.1.1            SummarizedExperiment_1.20.0\n",
      "[33] tibble_3.1.6                GenomeInfoDbData_1.2.4     \n",
      "[35] matrixStats_0.61.0          XML_3.99-0.8               \n",
      "[37] fansi_0.5.0                 crayon_1.4.2               \n",
      "[39] dplyr_1.0.7                 dbplyr_2.1.0               \n",
      "[41] GenomicAlignments_1.26.0    bitops_1.0-7               \n",
      "[43] rappdirs_0.3.3              grid_4.0.4                 \n",
      "[45] lifecycle_1.0.1             DBI_1.1.1                  \n",
      "[47] magrittr_2.0.1              stringi_1.7.6              \n",
      "[49] cachem_1.0.6                XVector_0.30.0             \n",
      "[51] xml2_1.3.2                  ellipsis_0.3.2             \n",
      "[53] generics_0.1.1              vctrs_0.3.8                \n",
      "[55] bit64_4.0.5                 glue_1.6.0                 \n",
      "[57] purrr_0.3.4                 hms_1.1.1                  \n",
      "[59] MatrixGenerics_1.2.1        parallel_4.0.4             \n",
      "[61] fastmap_1.1.0               memoise_2.0.0              \n"
     ]
    }
   ],
   "source": [
    "%%R \n",
    "\n",
    "sessionInfo()"
   ]
  },
  {
   "cell_type": "code",
   "execution_count": 11,
   "id": "editorial-creation",
   "metadata": {},
   "outputs": [],
   "source": [
    "%%R\n",
    "## String - GRanges conversion\n",
    "## Borrowed from Signac functions \n",
    "## https://satijalab.org/signac/reference/GRangesToString.html\n",
    "StringToGRanges <- function(regions, sep = c(\"-\", \"-\"), ...) {\n",
    "  ranges.df <- data.frame(ranges = regions)\n",
    "  ranges.df <- separate(\n",
    "    data = ranges.df,\n",
    "    col = \"ranges\",\n",
    "    sep = paste0(sep[[1]], \"|\", sep[[2]]),\n",
    "    into = c(\"chr\", \"start\", \"end\")\n",
    "  )\n",
    "  granges <- makeGRangesFromDataFrame(df = ranges.df, ...)\n",
    "  return(granges)\n",
    "}\n",
    "\n",
    "GRangesToString <- function(grange, sep = c(\"-\", \"-\")) {\n",
    "  regions <- paste0(\n",
    "    as.character(x = seqnames(x = grange)),\n",
    "    sep[[1]],\n",
    "    start(x = grange),\n",
    "    sep[[2]],\n",
    "    end(x = grange)\n",
    "  )\n",
    "  return(regions)\n",
    "}\n",
    "\n",
    "# Extend genomicRanges\n",
    "# \n",
    "extend <- function(x, upstream=0, downstream=0)     \n",
    "{\n",
    "    if (any(strand(x) == \"*\"))\n",
    "        warning(\"'*' ranges were treated as '+'\")\n",
    "    on_plus <- strand(x) == \"+\" | strand(x) == \"*\"\n",
    "    new_start <- start(x) - ifelse(on_plus, upstream, downstream)\n",
    "    new_end <- end(x) + ifelse(on_plus, downstream, upstream)\n",
    "    ranges(x) <- IRanges(new_start, new_end)\n",
    "    trim(x)\n",
    "}\n",
    "\n",
    "\n",
    "# Find peaks close to features of interest\n",
    "#\n",
    "# @param peaks_gr GenomicRanges object containing peaks\n",
    "# @param features_gr GenomicRanges object containing features (e.g. genes)\n",
    "# @param d distance to include peak, in bps (default 50000)\n",
    "# @param feat_anno column in `features_gr@elementMetadata` containing annotation to name features (if NULL converts Granges to string)\n",
    "#\n",
    "# @return Sparse adjacency matrix indicating hits\n",
    "peak2feature <- function(peaks_gr, features_gr, d=50000, feat_anno=NULL){\n",
    "  seqlevelsStyle(features_gr) <- seqlevelsStyle(peaks_gr)\n",
    "  \n",
    "  ## Find peaks overlapping the search range around the features\n",
    "  ext_gr <- extend(features_gr, upstream = d, downstream = d)\n",
    "  ovs <- findOverlaps(peaks_gr, ext_gr)\n",
    "  \n",
    "  ## Define identifiers for peaks and features\n",
    "  all_peaks <- GRangesToString(peaks_gr, sep = c(\":\", '-'))\n",
    "  if (is.null(feat_anno)) {\n",
    "    all_feats <- GRangesToString(features_gr, sep = c(\":\", '-'))\n",
    "  } else {\n",
    "    all_feats <- features_gr@elementMetadata[[feat_anno]]\n",
    "  }\n",
    "  \n",
    "  ## Build adjacency matrix for hits\n",
    "  adj_mat <- Matrix::Matrix(data=0, nrow = length(all_peaks), ncol=length(all_feats))\n",
    "  for (i in unique(subjectHits(ovs))) {\n",
    "    # if (length(adj_mat[queryHits(ovs[subjectHits(ovs)==i]),i]) > 0) {\n",
    "    adj_mat[queryHits(ovs[subjectHits(ovs)==i]),i] <- 1\n",
    "    # }\n",
    "  }\n",
    "  colnames(adj_mat) <- all_feats\n",
    "  rownames(adj_mat) <- all_peaks\n",
    "  \n",
    "  adj_mat\n",
    "  \n",
    "}"
   ]
  },
  {
   "cell_type": "code",
   "execution_count": 12,
   "id": "spiritual-chicago",
   "metadata": {},
   "outputs": [],
   "source": [
    "%%R  -i peaks -o adj_mat\n",
    "genes_gr <- genes(EnsDb.Hsapiens.v86)\n",
    "peaks_gr <- StringToGRanges(peaks, sep=c(\":\", \"-\"))\n",
    "\n",
    "## Compute peak2gene adjacency matrix\n",
    "adj_mat <- peak2feature(peaks_gr, genes_gr, feat_anno = \"gene_id\", d=50000)"
   ]
  },
  {
   "cell_type": "code",
   "execution_count": 13,
   "id": "directed-spread",
   "metadata": {},
   "outputs": [],
   "source": [
    "%%R -o genes\n",
    "genes <- colnames(adj_mat)"
   ]
  },
  {
   "cell_type": "code",
   "execution_count": 14,
   "id": "american-retailer",
   "metadata": {},
   "outputs": [
    {
     "data": {
      "text/plain": [
       "<rpy2.robjects.methods.RS4 object at 0x7f77adc08080> [RTYPES.S4SXP]\n",
       "R classes: ('dgCMatrix',)"
      ]
     },
     "execution_count": 14,
     "metadata": {},
     "output_type": "execute_result"
    }
   ],
   "source": [
    "adj_mat"
   ]
  },
  {
   "cell_type": "code",
   "execution_count": 15,
   "id": "superb-longer",
   "metadata": {},
   "outputs": [],
   "source": [
    "## Convert sparse matrix w anndata2ri\n",
    "adj_mat = anndata2ri.r2py.rmat_to_spmat(adj_mat)"
   ]
  },
  {
   "cell_type": "code",
   "execution_count": 16,
   "id": "frozen-adolescent",
   "metadata": {},
   "outputs": [],
   "source": [
    "adata.varm[\"peak2gene\"] = adj_mat\n",
    "adata.uns[\"peak2gene_genes\"] = genes"
   ]
  },
  {
   "cell_type": "code",
   "execution_count": 17,
   "id": "bizarre-lighting",
   "metadata": {},
   "outputs": [],
   "source": [
    "del adata.uns[\"peak2gene_genes\"]"
   ]
  },
  {
   "cell_type": "code",
   "execution_count": 18,
   "id": "different-visitor",
   "metadata": {},
   "outputs": [
    {
     "data": {
      "text/plain": [
       "AnnData object with n_obs × n_vars = 52798 × 59281\n",
       "    obs: 'cellatac_clusters', 'n_genes_by_counts', 'log1p_n_genes_by_counts', 'total_counts', 'log1p_total_counts', 'pct_counts_in_top_50_genes', 'pct_counts_in_top_100_genes', 'pct_counts_in_top_200_genes', 'pct_counts_in_top_500_genes', 'cellatac_code', 'sample', 'donor', 'age', 'tissue', 'technology'\n",
       "    var: 'peak_width', 'exon', 'gene', 'promoter', 'annotation', 'gene_name', 'gene_id', 'tss_distance', 'ENCODE_blacklist', 'n_cells_by_counts', 'mean_counts', 'log1p_mean_counts', 'pct_dropout_by_counts', 'total_counts', 'log1p_total_counts'\n",
       "    uns: 'age_colors', 'cellatac_clusters_colors', 'donor_colors', 'neighbors', 'sample_colors', 'technology_colors', 'tissue_colors', 'umap'\n",
       "    obsm: 'X_cistopic_50', 'X_umap'\n",
       "    varm: 'peak2gene'\n",
       "    layers: 'binary_raw'\n",
       "    obsp: 'connectivities', 'distances'"
      ]
     },
     "execution_count": 18,
     "metadata": {},
     "output_type": "execute_result"
    }
   ],
   "source": [
    "adata"
   ]
  },
  {
   "cell_type": "markdown",
   "id": "suspended-treasure",
   "metadata": {},
   "source": [
    "**Save anndata with cisTopic**"
   ]
  },
  {
   "cell_type": "code",
   "execution_count": 19,
   "id": "accurate-kentucky",
   "metadata": {},
   "outputs": [],
   "source": [
    "adata.write_h5ad(outdir + experiment_prefix + \"_ATAC.wCisTopic.h5ad\")"
   ]
  },
  {
   "cell_type": "code",
   "execution_count": 6,
   "id": "substantial-cigarette",
   "metadata": {},
   "outputs": [],
   "source": [
    "adata = sc.read(outdir + experiment_prefix + \"_ATAC.wCisTopic.h5ad\")"
   ]
  },
  {
   "cell_type": "code",
   "execution_count": 20,
   "id": "sublime-feature",
   "metadata": {},
   "outputs": [],
   "source": [
    "adata.var['peaks_formatted'] = [i.replace(\":\", \"-\") for i in adata.var_names]"
   ]
  },
  {
   "cell_type": "code",
   "execution_count": 21,
   "id": "ready-reasoning",
   "metadata": {},
   "outputs": [],
   "source": [
    "adata.var = adata.var.set_index('peaks_formatted')\n",
    "adata.var.to_csv(outdir + experiment_prefix + \"adata_var_for_cicero.csv\")"
   ]
  },
  {
   "cell_type": "code",
   "execution_count": 22,
   "id": "blocked-temperature",
   "metadata": {},
   "outputs": [
    {
     "data": {
      "text/plain": [
       "(59281, 63970)"
      ]
     },
     "execution_count": 22,
     "metadata": {},
     "output_type": "execute_result"
    }
   ],
   "source": [
    "adata.varm[\"peak2gene\"].shape"
   ]
  },
  {
   "cell_type": "code",
   "execution_count": 23,
   "id": "relative-label",
   "metadata": {},
   "outputs": [
    {
     "data": {
      "text/html": [
       "\n",
       "        <span>StrVector with 63970 elements.</span>\n",
       "        <table>\n",
       "        <tbody>\n",
       "          <tr>\n",
       "          \n",
       "            <td>\n",
       "            'ENSG0000...\n",
       "            </td>\n",
       "          \n",
       "            <td>\n",
       "            'ENSG0000...\n",
       "            </td>\n",
       "          \n",
       "            <td>\n",
       "            'ENSG0000...\n",
       "            </td>\n",
       "          \n",
       "            <td>\n",
       "            ...\n",
       "            </td>\n",
       "          \n",
       "            <td>\n",
       "            'ENSG0000...\n",
       "            </td>\n",
       "          \n",
       "            <td>\n",
       "            'ENSG0000...\n",
       "            </td>\n",
       "          \n",
       "            <td>\n",
       "            'ENSG0000...\n",
       "            </td>\n",
       "          \n",
       "          </tr>\n",
       "        </tbody>\n",
       "        </table>\n",
       "        "
      ],
      "text/plain": [
       "<rpy2.robjects.vectors.StrVector object at 0x7f77adc09e40> [RTYPES.STRSXP]\n",
       "R classes: ('character',)\n",
       "['ENSG0000..., 'ENSG0000..., 'ENSG0000..., 'ENSG0000..., ..., 'ENSG0000..., 'ENSG0000..., 'ENSG0000..., 'ENSG0000...]"
      ]
     },
     "execution_count": 23,
     "metadata": {},
     "output_type": "execute_result"
    }
   ],
   "source": [
    "genes"
   ]
  },
  {
   "cell_type": "code",
   "execution_count": null,
   "id": "august-champagne",
   "metadata": {},
   "outputs": [],
   "source": []
  },
  {
   "cell_type": "code",
   "execution_count": null,
   "id": "atomic-singing",
   "metadata": {},
   "outputs": [],
   "source": []
  }
 ],
 "metadata": {
  "kernelspec": {
   "display_name": "Python 3",
   "language": "python",
   "name": "python3"
  },
  "language_info": {
   "codemirror_mode": {
    "name": "ipython",
    "version": 3
   },
   "file_extension": ".py",
   "mimetype": "text/x-python",
   "name": "python",
   "nbconvert_exporter": "python",
   "pygments_lexer": "ipython3",
   "version": "3.8.8"
  }
 },
 "nbformat": 4,
 "nbformat_minor": 5
}
