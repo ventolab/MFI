{
 "cells": [
  {
   "cell_type": "markdown",
   "id": "anticipated-viking",
   "metadata": {},
   "source": [
    "# Multiome ATAC only analysis\n",
    "\n",
    "## MFI (all cells preliminary analysis)\n",
    "\n",
    "January 2022\n",
    "\n",
    "### Build anndata from cellatac output "
   ]
  },
  {
   "cell_type": "code",
   "execution_count": 1,
   "id": "spectacular-privacy",
   "metadata": {},
   "outputs": [],
   "source": [
    "# Load libraries\n",
    "import pandas as pd \n",
    "import scanpy as sc\n",
    "import numpy as np\n",
    "import scipy.sparse"
   ]
  },
  {
   "cell_type": "code",
   "execution_count": 2,
   "id": "steady-cinema",
   "metadata": {},
   "outputs": [],
   "source": [
    "# Define variables\n",
    "\n",
    "cellatac_outdir = '/lustre/scratch117/cellgen/team292/aa22/with_Stijn/202111_snATAC-seq_data_MFI/multiome_ATAC_samples_analysis/all_cells_analysis/results200k_sampleB/'\n",
    "outdir = '/lustre/scratch117/cellgen/team292/aa22/with_Stijn/202111_snATAC-seq_data_MFI/multiome_ATAC_samples_analysis/all_cells_analysis/downstream_analysis/'\n",
    "experiment_prefix = 'multiome_only_MFI_prelim_all_cells'\n"
   ]
  },
  {
   "cell_type": "code",
   "execution_count": 3,
   "id": "executed-assessment",
   "metadata": {},
   "outputs": [],
   "source": [
    "input={'cnts': cellatac_outdir + 'peak_matrix/peaks_bc_matrix.mmtx.gz',\n",
    "        \"bcs\": cellatac_outdir + 'peak_matrix/bc.txt',\n",
    "      \"peaks\": cellatac_outdir + 'peak_matrix/peaks.txt',\n",
    "      'clusters': cellatac_outdir + 'qc/seurat-clades.tsv'}\n",
    "\n",
    "output = {\n",
    "    \"cnt_mmtx\":outdir + experiment_prefix + '_ATAC_cisTopic.mmtx',\n",
    "    \"cnt_peaks\":outdir + experiment_prefix + '_ATAC_cisTopic.peaks.tsv',\n",
    "    \"cnt_cells\":outdir + experiment_prefix + '_ATAC_cisTopic.cells.tsv',\n",
    "    \"h5ad\":outdir + experiment_prefix + '_ATAC_raw.h5ad',\n",
    "}"
   ]
  },
  {
   "cell_type": "markdown",
   "id": "binary-execution",
   "metadata": {},
   "source": [
    "#### Make anndata object"
   ]
  },
  {
   "cell_type": "code",
   "execution_count": 4,
   "id": "married-vitamin",
   "metadata": {},
   "outputs": [],
   "source": [
    "adata = sc.read_mtx(input[\"cnts\"]).T\n",
    "\n",
    "bc = pd.read_table(input[\"bcs\"], header=None)\n",
    "feat = pd.read_table(input[\"peaks\"], header=None)\n",
    "\n",
    "adata.obs_names = bc[0]\n",
    "adata.var_names = feat[0]"
   ]
  },
  {
   "cell_type": "code",
   "execution_count": 5,
   "id": "received-meditation",
   "metadata": {},
   "outputs": [
    {
     "data": {
      "text/plain": [
       "AnnData object with n_obs × n_vars = 54513 × 297952"
      ]
     },
     "execution_count": 5,
     "metadata": {},
     "output_type": "execute_result"
    }
   ],
   "source": [
    "adata"
   ]
  },
  {
   "cell_type": "markdown",
   "id": "binding-withdrawal",
   "metadata": {},
   "source": [
    "Figuring out correspondence of cellatac IDs to sample IDs"
   ]
  },
  {
   "cell_type": "code",
   "execution_count": 6,
   "id": "speaking-player",
   "metadata": {
    "tags": []
   },
   "outputs": [
    {
     "data": {
      "text/html": [
       "<div>\n",
       "<style scoped>\n",
       "    .dataframe tbody tr th:only-of-type {\n",
       "        vertical-align: middle;\n",
       "    }\n",
       "\n",
       "    .dataframe tbody tr th {\n",
       "        vertical-align: top;\n",
       "    }\n",
       "\n",
       "    .dataframe thead th {\n",
       "        text-align: right;\n",
       "    }\n",
       "</style>\n",
       "<table border=\"1\" class=\"dataframe\">\n",
       "  <thead>\n",
       "    <tr style=\"text-align: right;\">\n",
       "      <th></th>\n",
       "      <th>1</th>\n",
       "    </tr>\n",
       "    <tr>\n",
       "      <th>0</th>\n",
       "      <th></th>\n",
       "    </tr>\n",
       "  </thead>\n",
       "  <tbody>\n",
       "    <tr>\n",
       "      <th>09-ACAGGATCATTGCAGC-1</th>\n",
       "      <td>Pla_Camb10714918_and_40110_Pla_Camb10687914-AC...</td>\n",
       "    </tr>\n",
       "    <tr>\n",
       "      <th>09-CCTGCTCCACCAGCAT-1</th>\n",
       "      <td>Pla_Camb10714918_and_40110_Pla_Camb10687914-CC...</td>\n",
       "    </tr>\n",
       "    <tr>\n",
       "      <th>09-CGCTTCTAGGCGAATA-1</th>\n",
       "      <td>Pla_Camb10714918_and_40110_Pla_Camb10687914-CG...</td>\n",
       "    </tr>\n",
       "    <tr>\n",
       "      <th>09-CTTGCATGTCATGCCC-1</th>\n",
       "      <td>Pla_Camb10714918_and_40110_Pla_Camb10687914-CT...</td>\n",
       "    </tr>\n",
       "    <tr>\n",
       "      <th>09-ATGTTTGAGGGTTATC-1</th>\n",
       "      <td>Pla_Camb10714918_and_40110_Pla_Camb10687914-AT...</td>\n",
       "    </tr>\n",
       "  </tbody>\n",
       "</table>\n",
       "</div>"
      ],
      "text/plain": [
       "                                                                       1\n",
       "0                                                                       \n",
       "09-ACAGGATCATTGCAGC-1  Pla_Camb10714918_and_40110_Pla_Camb10687914-AC...\n",
       "09-CCTGCTCCACCAGCAT-1  Pla_Camb10714918_and_40110_Pla_Camb10687914-CC...\n",
       "09-CGCTTCTAGGCGAATA-1  Pla_Camb10714918_and_40110_Pla_Camb10687914-CG...\n",
       "09-CTTGCATGTCATGCCC-1  Pla_Camb10714918_and_40110_Pla_Camb10687914-CT...\n",
       "09-ATGTTTGAGGGTTATC-1  Pla_Camb10714918_and_40110_Pla_Camb10687914-AT..."
      ]
     },
     "execution_count": 6,
     "metadata": {},
     "output_type": "execute_result"
    }
   ],
   "source": [
    "# which identifiers are used here as sample IDs?\n",
    "tagmap = pd.read_csv(cellatac_outdir + 'cellmetadata/tagmap.txt', \n",
    "                    sep='\\t', index_col=0, header=None)\n",
    "tagmap.head()"
   ]
  },
  {
   "cell_type": "code",
   "execution_count": 7,
   "id": "angry-trauma",
   "metadata": {},
   "outputs": [],
   "source": [
    "tagmap['cellatac_IDs'] = [idx.split('-')[0] for idx in tagmap.index]\n",
    "tagmap['sample_IDs'] = [elem.split('-')[0] for elem in tagmap[1]]\n"
   ]
  },
  {
   "cell_type": "code",
   "execution_count": 8,
   "id": "suffering-terminology",
   "metadata": {},
   "outputs": [],
   "source": [
    "correspondence = [i + '_' + j for i,j in zip(tagmap['cellatac_IDs'],tagmap['sample_IDs'])]"
   ]
  },
  {
   "cell_type": "code",
   "execution_count": 9,
   "id": "wicked-woman",
   "metadata": {},
   "outputs": [
    {
     "data": {
      "text/plain": [
       "array(['06_Pla_HDBR10142863_and_37083_Pla_HDBR10084192',\n",
       "       '07_Pla_HDBR10142864_and_37083_Pla_HDBR10084193',\n",
       "       '08_Pla_HDBR10142865_and_37083_Pla_HDBR10084194',\n",
       "       '09_Pla_Camb10714918_and_40110_Pla_Camb10687914',\n",
       "       '10_Pla_Camb10714919_and_40110_Pla_Camb10687915',\n",
       "       '11_Pla_Camb10714920_and_40110_Pla_Camb10687916'], dtype='<U46')"
      ]
     },
     "execution_count": 9,
     "metadata": {},
     "output_type": "execute_result"
    }
   ],
   "source": [
    "np.unique(correspondence)"
   ]
  },
  {
   "cell_type": "code",
   "execution_count": 10,
   "id": "plain-entrance",
   "metadata": {},
   "outputs": [],
   "source": [
    "adata.obs['cellatac_code'] = [elem.split('-')[0] for elem in adata.obs_names]"
   ]
  },
  {
   "cell_type": "code",
   "execution_count": 11,
   "id": "national-assignment",
   "metadata": {},
   "outputs": [
    {
     "data": {
      "text/plain": [
       "Pla_HDBR10142864_and_37083_Pla_HDBR10084193    20000\n",
       "Pla_HDBR10142865_and_37083_Pla_HDBR10084194     8777\n",
       "Pla_HDBR10142863_and_37083_Pla_HDBR10084192     7601\n",
       "Pla_Camb10714920_and_40110_Pla_Camb10687916     6657\n",
       "Pla_Camb10714919_and_40110_Pla_Camb10687915     6333\n",
       "Pla_Camb10714918_and_40110_Pla_Camb10687914     5145\n",
       "Name: sample, dtype: int64"
      ]
     },
     "execution_count": 11,
     "metadata": {},
     "output_type": "execute_result"
    }
   ],
   "source": [
    "# Sample from cellatac code \n",
    "sample_dictionary = {#'01' : 'Pla_HDBR8015040', \n",
    "                     #'02' : 'Pla_HDBR8642951',\n",
    "                     #'03' : 'Pla_HDBR8642952', \n",
    "                     #'04' : 'Pla_HDBR8768488', \n",
    "                     #'05' : 'Pla_HDBR8642950', \n",
    "                     '06' : 'Pla_HDBR10142863_and_37083_Pla_HDBR10084192', \n",
    "                     '07' : 'Pla_HDBR10142864_and_37083_Pla_HDBR10084193', \n",
    "                     '08' : 'Pla_HDBR10142865_and_37083_Pla_HDBR10084194', \n",
    "                     '09' : 'Pla_Camb10714918_and_40110_Pla_Camb10687914', \n",
    "                     '10' : 'Pla_Camb10714919_and_40110_Pla_Camb10687915', \n",
    "                     '11' : 'Pla_Camb10714920_and_40110_Pla_Camb10687916'}\n",
    "\n",
    "adata.obs['sample'] = adata.obs['cellatac_code'].map(sample_dictionary) \n",
    "adata.obs['sample'].value_counts(dropna = False)"
   ]
  },
  {
   "cell_type": "markdown",
   "id": "driving-torture",
   "metadata": {},
   "source": [
    "#### Load peak annotations (done in notebook `M0`)"
   ]
  },
  {
   "cell_type": "code",
   "execution_count": 12,
   "id": "terminal-diameter",
   "metadata": {
    "tags": []
   },
   "outputs": [],
   "source": [
    "peak_anno_df = pd.read_csv(outdir + \"ATACpeaks_annotation_20220106.csv\", index_col=0)\n",
    "peak_anno_df.set_index(\"peak_id\", inplace=True)\n",
    "adata.var = adata.var.combine_first(peak_anno_df)"
   ]
  },
  {
   "cell_type": "code",
   "execution_count": 13,
   "id": "editorial-caution",
   "metadata": {},
   "outputs": [
    {
     "data": {
      "text/html": [
       "<div>\n",
       "<style scoped>\n",
       "    .dataframe tbody tr th:only-of-type {\n",
       "        vertical-align: middle;\n",
       "    }\n",
       "\n",
       "    .dataframe tbody tr th {\n",
       "        vertical-align: top;\n",
       "    }\n",
       "\n",
       "    .dataframe thead th {\n",
       "        text-align: right;\n",
       "    }\n",
       "</style>\n",
       "<table border=\"1\" class=\"dataframe\">\n",
       "  <thead>\n",
       "    <tr style=\"text-align: right;\">\n",
       "      <th></th>\n",
       "      <th>peak_width</th>\n",
       "      <th>exon</th>\n",
       "      <th>gene</th>\n",
       "      <th>promoter</th>\n",
       "      <th>annotation</th>\n",
       "      <th>gene_name</th>\n",
       "      <th>gene_id</th>\n",
       "      <th>tss_distance</th>\n",
       "      <th>ENCODE_blacklist</th>\n",
       "    </tr>\n",
       "    <tr>\n",
       "      <th>peak_id</th>\n",
       "      <th></th>\n",
       "      <th></th>\n",
       "      <th></th>\n",
       "      <th></th>\n",
       "      <th></th>\n",
       "      <th></th>\n",
       "      <th></th>\n",
       "      <th></th>\n",
       "      <th></th>\n",
       "    </tr>\n",
       "  </thead>\n",
       "  <tbody>\n",
       "    <tr>\n",
       "      <th>chr1:180753-181619</th>\n",
       "      <td>867</td>\n",
       "      <td>0</td>\n",
       "      <td>0</td>\n",
       "      <td>1</td>\n",
       "      <td>promoter</td>\n",
       "      <td>FO538757.2</td>\n",
       "      <td>ENSG00000279928</td>\n",
       "      <td>773</td>\n",
       "      <td>1</td>\n",
       "    </tr>\n",
       "    <tr>\n",
       "      <th>chr1:267870-268071</th>\n",
       "      <td>202</td>\n",
       "      <td>0</td>\n",
       "      <td>0</td>\n",
       "      <td>0</td>\n",
       "      <td>intergenic</td>\n",
       "      <td>NaN</td>\n",
       "      <td>NaN</td>\n",
       "      <td>67547</td>\n",
       "      <td>1</td>\n",
       "    </tr>\n",
       "    <tr>\n",
       "      <th>chr1:629146-629367</th>\n",
       "      <td>222</td>\n",
       "      <td>0</td>\n",
       "      <td>0</td>\n",
       "      <td>0</td>\n",
       "      <td>intergenic</td>\n",
       "      <td>NaN</td>\n",
       "      <td>NaN</td>\n",
       "      <td>57286</td>\n",
       "      <td>1</td>\n",
       "    </tr>\n",
       "    <tr>\n",
       "      <th>chr1:629807-630031</th>\n",
       "      <td>225</td>\n",
       "      <td>0</td>\n",
       "      <td>0</td>\n",
       "      <td>0</td>\n",
       "      <td>intergenic</td>\n",
       "      <td>NaN</td>\n",
       "      <td>NaN</td>\n",
       "      <td>56622</td>\n",
       "      <td>1</td>\n",
       "    </tr>\n",
       "    <tr>\n",
       "      <th>chr1:630185-630403</th>\n",
       "      <td>219</td>\n",
       "      <td>0</td>\n",
       "      <td>0</td>\n",
       "      <td>0</td>\n",
       "      <td>intergenic</td>\n",
       "      <td>NaN</td>\n",
       "      <td>NaN</td>\n",
       "      <td>56250</td>\n",
       "      <td>1</td>\n",
       "    </tr>\n",
       "    <tr>\n",
       "      <th>...</th>\n",
       "      <td>...</td>\n",
       "      <td>...</td>\n",
       "      <td>...</td>\n",
       "      <td>...</td>\n",
       "      <td>...</td>\n",
       "      <td>...</td>\n",
       "      <td>...</td>\n",
       "      <td>...</td>\n",
       "      <td>...</td>\n",
       "    </tr>\n",
       "    <tr>\n",
       "      <th>chrY:56850382-56851156</th>\n",
       "      <td>775</td>\n",
       "      <td>0</td>\n",
       "      <td>0</td>\n",
       "      <td>0</td>\n",
       "      <td>intergenic</td>\n",
       "      <td>NaN</td>\n",
       "      <td>NaN</td>\n",
       "      <td>31228219</td>\n",
       "      <td>1</td>\n",
       "    </tr>\n",
       "    <tr>\n",
       "      <th>chrY:56857850-56858102</th>\n",
       "      <td>253</td>\n",
       "      <td>0</td>\n",
       "      <td>0</td>\n",
       "      <td>0</td>\n",
       "      <td>intergenic</td>\n",
       "      <td>NaN</td>\n",
       "      <td>NaN</td>\n",
       "      <td>31235687</td>\n",
       "      <td>1</td>\n",
       "    </tr>\n",
       "    <tr>\n",
       "      <th>chrY:56870833-56871094</th>\n",
       "      <td>262</td>\n",
       "      <td>0</td>\n",
       "      <td>0</td>\n",
       "      <td>0</td>\n",
       "      <td>intergenic</td>\n",
       "      <td>NaN</td>\n",
       "      <td>NaN</td>\n",
       "      <td>31248670</td>\n",
       "      <td>1</td>\n",
       "    </tr>\n",
       "    <tr>\n",
       "      <th>chrY:56873556-56873964</th>\n",
       "      <td>409</td>\n",
       "      <td>0</td>\n",
       "      <td>0</td>\n",
       "      <td>0</td>\n",
       "      <td>intergenic</td>\n",
       "      <td>NaN</td>\n",
       "      <td>NaN</td>\n",
       "      <td>31251393</td>\n",
       "      <td>1</td>\n",
       "    </tr>\n",
       "    <tr>\n",
       "      <th>chrY:56879574-56879791</th>\n",
       "      <td>218</td>\n",
       "      <td>0</td>\n",
       "      <td>0</td>\n",
       "      <td>0</td>\n",
       "      <td>intergenic</td>\n",
       "      <td>NaN</td>\n",
       "      <td>NaN</td>\n",
       "      <td>31257411</td>\n",
       "      <td>1</td>\n",
       "    </tr>\n",
       "  </tbody>\n",
       "</table>\n",
       "<p>297952 rows × 9 columns</p>\n",
       "</div>"
      ],
      "text/plain": [
       "                        peak_width  exon  gene  promoter  annotation  \\\n",
       "peak_id                                                                \n",
       "chr1:180753-181619             867     0     0         1    promoter   \n",
       "chr1:267870-268071             202     0     0         0  intergenic   \n",
       "chr1:629146-629367             222     0     0         0  intergenic   \n",
       "chr1:629807-630031             225     0     0         0  intergenic   \n",
       "chr1:630185-630403             219     0     0         0  intergenic   \n",
       "...                            ...   ...   ...       ...         ...   \n",
       "chrY:56850382-56851156         775     0     0         0  intergenic   \n",
       "chrY:56857850-56858102         253     0     0         0  intergenic   \n",
       "chrY:56870833-56871094         262     0     0         0  intergenic   \n",
       "chrY:56873556-56873964         409     0     0         0  intergenic   \n",
       "chrY:56879574-56879791         218     0     0         0  intergenic   \n",
       "\n",
       "                         gene_name          gene_id  tss_distance  \\\n",
       "peak_id                                                             \n",
       "chr1:180753-181619      FO538757.2  ENSG00000279928           773   \n",
       "chr1:267870-268071             NaN              NaN         67547   \n",
       "chr1:629146-629367             NaN              NaN         57286   \n",
       "chr1:629807-630031             NaN              NaN         56622   \n",
       "chr1:630185-630403             NaN              NaN         56250   \n",
       "...                            ...              ...           ...   \n",
       "chrY:56850382-56851156         NaN              NaN      31228219   \n",
       "chrY:56857850-56858102         NaN              NaN      31235687   \n",
       "chrY:56870833-56871094         NaN              NaN      31248670   \n",
       "chrY:56873556-56873964         NaN              NaN      31251393   \n",
       "chrY:56879574-56879791         NaN              NaN      31257411   \n",
       "\n",
       "                        ENCODE_blacklist  \n",
       "peak_id                                   \n",
       "chr1:180753-181619                     1  \n",
       "chr1:267870-268071                     1  \n",
       "chr1:629146-629367                     1  \n",
       "chr1:629807-630031                     1  \n",
       "chr1:630185-630403                     1  \n",
       "...                                  ...  \n",
       "chrY:56850382-56851156                 1  \n",
       "chrY:56857850-56858102                 1  \n",
       "chrY:56870833-56871094                 1  \n",
       "chrY:56873556-56873964                 1  \n",
       "chrY:56879574-56879791                 1  \n",
       "\n",
       "[297952 rows x 9 columns]"
      ]
     },
     "execution_count": 13,
     "metadata": {},
     "output_type": "execute_result"
    }
   ],
   "source": [
    "adata.var"
   ]
  },
  {
   "cell_type": "markdown",
   "id": "distinguished-industry",
   "metadata": {},
   "source": [
    "#### Save binary data to layers"
   ]
  },
  {
   "cell_type": "code",
   "execution_count": 14,
   "id": "collaborative-bangladesh",
   "metadata": {},
   "outputs": [
    {
     "data": {
      "text/plain": [
       "AnnData object with n_obs × n_vars = 54513 × 297952\n",
       "    obs: 'cellatac_code', 'sample'\n",
       "    var: 'peak_width', 'exon', 'gene', 'promoter', 'annotation', 'gene_name', 'gene_id', 'tss_distance', 'ENCODE_blacklist'\n",
       "    layers: 'binary_raw'"
      ]
     },
     "execution_count": 14,
     "metadata": {},
     "output_type": "execute_result"
    }
   ],
   "source": [
    "adata.layers[\"binary_raw\"] = adata.X\n",
    "adata.layers[\"binary_raw\"][adata.layers[\"binary_raw\"] > 1] = 1\n",
    "adata"
   ]
  },
  {
   "cell_type": "markdown",
   "id": "unavailable-correlation",
   "metadata": {},
   "source": [
    "## Dealing with doublets and adding annotation onto multiome data from RNA counterpart"
   ]
  },
  {
   "cell_type": "markdown",
   "id": "listed-pantyhose",
   "metadata": {},
   "source": [
    "### I have annotations for the 6 multiome samples from RNA counterpart analysis: \n",
    "\n",
    "Pla_HDBR10142863_and_37083_Pla_HDBR10084192, Pla_HDBR10142864_and_37083_Pla_HDBR10084193, Pla_HDBR10142865_and_37083_Pla_HDBR10084194, Pla_Camb10714918_and_40110_Pla_Camb10687914, Pla_Camb10714919_and_40110_Pla_Camb10687915 and Pla_Camb10714920_and_40110_Pla_Camb10687916\n",
    "\n",
    "- **In the 6 multiome samples (donors P13, P14 and Hrv43) barcodes that do not have annotations are those that did not make it into the final object (aka doublets either by scrublet or souporcell or downstream clean up) so here also need to be disregarded from analysis**\n",
    "\n",
    "\n"
   ]
  },
  {
   "cell_type": "markdown",
   "id": "automated-equation",
   "metadata": {},
   "source": [
    "## 1. Assigning donors\n"
   ]
  },
  {
   "cell_type": "code",
   "execution_count": 15,
   "id": "liable-sailing",
   "metadata": {},
   "outputs": [
    {
     "data": {
      "text/html": [
       "<div>\n",
       "<style scoped>\n",
       "    .dataframe tbody tr th:only-of-type {\n",
       "        vertical-align: middle;\n",
       "    }\n",
       "\n",
       "    .dataframe tbody tr th {\n",
       "        vertical-align: top;\n",
       "    }\n",
       "\n",
       "    .dataframe thead th {\n",
       "        text-align: right;\n",
       "    }\n",
       "</style>\n",
       "<table border=\"1\" class=\"dataframe\">\n",
       "  <thead>\n",
       "    <tr style=\"text-align: right;\">\n",
       "      <th></th>\n",
       "      <th>cellatac_code</th>\n",
       "      <th>sample</th>\n",
       "    </tr>\n",
       "  </thead>\n",
       "  <tbody>\n",
       "    <tr>\n",
       "      <th>09-AAACAGCCACAATGTT-1</th>\n",
       "      <td>09</td>\n",
       "      <td>Pla_Camb10714918_and_40110_Pla_Camb10687914</td>\n",
       "    </tr>\n",
       "    <tr>\n",
       "      <th>09-AAACAGCCACTCGCTC-1</th>\n",
       "      <td>09</td>\n",
       "      <td>Pla_Camb10714918_and_40110_Pla_Camb10687914</td>\n",
       "    </tr>\n",
       "    <tr>\n",
       "      <th>09-AAACATGCAACCCTCC-1</th>\n",
       "      <td>09</td>\n",
       "      <td>Pla_Camb10714918_and_40110_Pla_Camb10687914</td>\n",
       "    </tr>\n",
       "    <tr>\n",
       "      <th>09-AAACATGCAATATAGG-1</th>\n",
       "      <td>09</td>\n",
       "      <td>Pla_Camb10714918_and_40110_Pla_Camb10687914</td>\n",
       "    </tr>\n",
       "    <tr>\n",
       "      <th>09-AAACCAACACTAGCGT-1</th>\n",
       "      <td>09</td>\n",
       "      <td>Pla_Camb10714918_and_40110_Pla_Camb10687914</td>\n",
       "    </tr>\n",
       "    <tr>\n",
       "      <th>...</th>\n",
       "      <td>...</td>\n",
       "      <td>...</td>\n",
       "    </tr>\n",
       "    <tr>\n",
       "      <th>08-TTTGTTGGTGGTGAGA-1</th>\n",
       "      <td>08</td>\n",
       "      <td>Pla_HDBR10142865_and_37083_Pla_HDBR10084194</td>\n",
       "    </tr>\n",
       "    <tr>\n",
       "      <th>08-TTTGTTGGTTCGCGCT-1</th>\n",
       "      <td>08</td>\n",
       "      <td>Pla_HDBR10142865_and_37083_Pla_HDBR10084194</td>\n",
       "    </tr>\n",
       "    <tr>\n",
       "      <th>08-TTTGTTGGTTTACTTG-1</th>\n",
       "      <td>08</td>\n",
       "      <td>Pla_HDBR10142865_and_37083_Pla_HDBR10084194</td>\n",
       "    </tr>\n",
       "    <tr>\n",
       "      <th>08-TTTGTTGGTTTATGGG-1</th>\n",
       "      <td>08</td>\n",
       "      <td>Pla_HDBR10142865_and_37083_Pla_HDBR10084194</td>\n",
       "    </tr>\n",
       "    <tr>\n",
       "      <th>08-TTTGTTGGTTTGGGCG-1</th>\n",
       "      <td>08</td>\n",
       "      <td>Pla_HDBR10142865_and_37083_Pla_HDBR10084194</td>\n",
       "    </tr>\n",
       "  </tbody>\n",
       "</table>\n",
       "<p>54513 rows × 2 columns</p>\n",
       "</div>"
      ],
      "text/plain": [
       "                      cellatac_code  \\\n",
       "09-AAACAGCCACAATGTT-1            09   \n",
       "09-AAACAGCCACTCGCTC-1            09   \n",
       "09-AAACATGCAACCCTCC-1            09   \n",
       "09-AAACATGCAATATAGG-1            09   \n",
       "09-AAACCAACACTAGCGT-1            09   \n",
       "...                             ...   \n",
       "08-TTTGTTGGTGGTGAGA-1            08   \n",
       "08-TTTGTTGGTTCGCGCT-1            08   \n",
       "08-TTTGTTGGTTTACTTG-1            08   \n",
       "08-TTTGTTGGTTTATGGG-1            08   \n",
       "08-TTTGTTGGTTTGGGCG-1            08   \n",
       "\n",
       "                                                            sample  \n",
       "09-AAACAGCCACAATGTT-1  Pla_Camb10714918_and_40110_Pla_Camb10687914  \n",
       "09-AAACAGCCACTCGCTC-1  Pla_Camb10714918_and_40110_Pla_Camb10687914  \n",
       "09-AAACATGCAACCCTCC-1  Pla_Camb10714918_and_40110_Pla_Camb10687914  \n",
       "09-AAACATGCAATATAGG-1  Pla_Camb10714918_and_40110_Pla_Camb10687914  \n",
       "09-AAACCAACACTAGCGT-1  Pla_Camb10714918_and_40110_Pla_Camb10687914  \n",
       "...                                                            ...  \n",
       "08-TTTGTTGGTGGTGAGA-1  Pla_HDBR10142865_and_37083_Pla_HDBR10084194  \n",
       "08-TTTGTTGGTTCGCGCT-1  Pla_HDBR10142865_and_37083_Pla_HDBR10084194  \n",
       "08-TTTGTTGGTTTACTTG-1  Pla_HDBR10142865_and_37083_Pla_HDBR10084194  \n",
       "08-TTTGTTGGTTTATGGG-1  Pla_HDBR10142865_and_37083_Pla_HDBR10084194  \n",
       "08-TTTGTTGGTTTGGGCG-1  Pla_HDBR10142865_and_37083_Pla_HDBR10084194  \n",
       "\n",
       "[54513 rows x 2 columns]"
      ]
     },
     "execution_count": 15,
     "metadata": {},
     "output_type": "execute_result"
    }
   ],
   "source": [
    "adata.obs"
   ]
  },
  {
   "cell_type": "code",
   "execution_count": 17,
   "id": "fabulous-hours",
   "metadata": {},
   "outputs": [
    {
     "data": {
      "text/plain": [
       "(array(['Pla_Camb10714918_and_40110_Pla_Camb10687914',\n",
       "        'Pla_Camb10714919_and_40110_Pla_Camb10687915',\n",
       "        'Pla_Camb10714920_and_40110_Pla_Camb10687916',\n",
       "        'Pla_HDBR10142863_and_37083_Pla_HDBR10084192',\n",
       "        'Pla_HDBR10142864_and_37083_Pla_HDBR10084193',\n",
       "        'Pla_HDBR10142865_and_37083_Pla_HDBR10084194'], dtype=object),\n",
       " array([ 5145,  6333,  6657,  7601, 20000,  8777]))"
      ]
     },
     "execution_count": 17,
     "metadata": {},
     "output_type": "execute_result"
    }
   ],
   "source": [
    "np.unique(adata.obs['sample'], return_counts=True)"
   ]
  },
  {
   "cell_type": "code",
   "execution_count": 18,
   "id": "eight-concept",
   "metadata": {},
   "outputs": [],
   "source": [
    "def add_donors(adata_obj, barcode):\n",
    "    \n",
    "    curr_sample = adata_obj.obs.loc[barcode,'sample']\n",
    "    \n",
    "    if curr_sample in ['Pla_HDBR10142863_and_37083_Pla_HDBR10084192','Pla_HDBR10142864_and_37083_Pla_HDBR10084193','Pla_HDBR10142865_and_37083_Pla_HDBR10084194']:\n",
    "        return('Hrv43')\n",
    "    elif curr_sample in ['Pla_Camb10714919_and_40110_Pla_Camb10687915','Pla_Camb10714920_and_40110_Pla_Camb10687916']:\n",
    "        return('P13')\n",
    "    elif curr_sample == 'Pla_Camb10714918_and_40110_Pla_Camb10687914':\n",
    "        return('P14')\n",
    "    \n",
    "    else:\n",
    "        return('no_donor_data')"
   ]
  },
  {
   "cell_type": "code",
   "execution_count": 19,
   "id": "mounted-subsection",
   "metadata": {},
   "outputs": [
    {
     "data": {
      "text/html": [
       "<div>\n",
       "<style scoped>\n",
       "    .dataframe tbody tr th:only-of-type {\n",
       "        vertical-align: middle;\n",
       "    }\n",
       "\n",
       "    .dataframe tbody tr th {\n",
       "        vertical-align: top;\n",
       "    }\n",
       "\n",
       "    .dataframe thead th {\n",
       "        text-align: right;\n",
       "    }\n",
       "</style>\n",
       "<table border=\"1\" class=\"dataframe\">\n",
       "  <thead>\n",
       "    <tr style=\"text-align: right;\">\n",
       "      <th></th>\n",
       "      <th>cellatac_code</th>\n",
       "      <th>sample</th>\n",
       "    </tr>\n",
       "  </thead>\n",
       "  <tbody>\n",
       "    <tr>\n",
       "      <th>09-AAACAGCCACAATGTT-1</th>\n",
       "      <td>09</td>\n",
       "      <td>Pla_Camb10714918_and_40110_Pla_Camb10687914</td>\n",
       "    </tr>\n",
       "    <tr>\n",
       "      <th>09-AAACAGCCACTCGCTC-1</th>\n",
       "      <td>09</td>\n",
       "      <td>Pla_Camb10714918_and_40110_Pla_Camb10687914</td>\n",
       "    </tr>\n",
       "    <tr>\n",
       "      <th>09-AAACATGCAACCCTCC-1</th>\n",
       "      <td>09</td>\n",
       "      <td>Pla_Camb10714918_and_40110_Pla_Camb10687914</td>\n",
       "    </tr>\n",
       "    <tr>\n",
       "      <th>09-AAACATGCAATATAGG-1</th>\n",
       "      <td>09</td>\n",
       "      <td>Pla_Camb10714918_and_40110_Pla_Camb10687914</td>\n",
       "    </tr>\n",
       "    <tr>\n",
       "      <th>09-AAACCAACACTAGCGT-1</th>\n",
       "      <td>09</td>\n",
       "      <td>Pla_Camb10714918_and_40110_Pla_Camb10687914</td>\n",
       "    </tr>\n",
       "    <tr>\n",
       "      <th>...</th>\n",
       "      <td>...</td>\n",
       "      <td>...</td>\n",
       "    </tr>\n",
       "    <tr>\n",
       "      <th>08-TTTGTTGGTGGTGAGA-1</th>\n",
       "      <td>08</td>\n",
       "      <td>Pla_HDBR10142865_and_37083_Pla_HDBR10084194</td>\n",
       "    </tr>\n",
       "    <tr>\n",
       "      <th>08-TTTGTTGGTTCGCGCT-1</th>\n",
       "      <td>08</td>\n",
       "      <td>Pla_HDBR10142865_and_37083_Pla_HDBR10084194</td>\n",
       "    </tr>\n",
       "    <tr>\n",
       "      <th>08-TTTGTTGGTTTACTTG-1</th>\n",
       "      <td>08</td>\n",
       "      <td>Pla_HDBR10142865_and_37083_Pla_HDBR10084194</td>\n",
       "    </tr>\n",
       "    <tr>\n",
       "      <th>08-TTTGTTGGTTTATGGG-1</th>\n",
       "      <td>08</td>\n",
       "      <td>Pla_HDBR10142865_and_37083_Pla_HDBR10084194</td>\n",
       "    </tr>\n",
       "    <tr>\n",
       "      <th>08-TTTGTTGGTTTGGGCG-1</th>\n",
       "      <td>08</td>\n",
       "      <td>Pla_HDBR10142865_and_37083_Pla_HDBR10084194</td>\n",
       "    </tr>\n",
       "  </tbody>\n",
       "</table>\n",
       "<p>54513 rows × 2 columns</p>\n",
       "</div>"
      ],
      "text/plain": [
       "                      cellatac_code  \\\n",
       "09-AAACAGCCACAATGTT-1            09   \n",
       "09-AAACAGCCACTCGCTC-1            09   \n",
       "09-AAACATGCAACCCTCC-1            09   \n",
       "09-AAACATGCAATATAGG-1            09   \n",
       "09-AAACCAACACTAGCGT-1            09   \n",
       "...                             ...   \n",
       "08-TTTGTTGGTGGTGAGA-1            08   \n",
       "08-TTTGTTGGTTCGCGCT-1            08   \n",
       "08-TTTGTTGGTTTACTTG-1            08   \n",
       "08-TTTGTTGGTTTATGGG-1            08   \n",
       "08-TTTGTTGGTTTGGGCG-1            08   \n",
       "\n",
       "                                                            sample  \n",
       "09-AAACAGCCACAATGTT-1  Pla_Camb10714918_and_40110_Pla_Camb10687914  \n",
       "09-AAACAGCCACTCGCTC-1  Pla_Camb10714918_and_40110_Pla_Camb10687914  \n",
       "09-AAACATGCAACCCTCC-1  Pla_Camb10714918_and_40110_Pla_Camb10687914  \n",
       "09-AAACATGCAATATAGG-1  Pla_Camb10714918_and_40110_Pla_Camb10687914  \n",
       "09-AAACCAACACTAGCGT-1  Pla_Camb10714918_and_40110_Pla_Camb10687914  \n",
       "...                                                            ...  \n",
       "08-TTTGTTGGTGGTGAGA-1  Pla_HDBR10142865_and_37083_Pla_HDBR10084194  \n",
       "08-TTTGTTGGTTCGCGCT-1  Pla_HDBR10142865_and_37083_Pla_HDBR10084194  \n",
       "08-TTTGTTGGTTTACTTG-1  Pla_HDBR10142865_and_37083_Pla_HDBR10084194  \n",
       "08-TTTGTTGGTTTATGGG-1  Pla_HDBR10142865_and_37083_Pla_HDBR10084194  \n",
       "08-TTTGTTGGTTTGGGCG-1  Pla_HDBR10142865_and_37083_Pla_HDBR10084194  \n",
       "\n",
       "[54513 rows x 2 columns]"
      ]
     },
     "execution_count": 19,
     "metadata": {},
     "output_type": "execute_result"
    }
   ],
   "source": [
    "adata.obs"
   ]
  },
  {
   "cell_type": "code",
   "execution_count": 20,
   "id": "western-internship",
   "metadata": {},
   "outputs": [],
   "source": [
    "adata.obs['barcode'] = adata.obs.index"
   ]
  },
  {
   "cell_type": "code",
   "execution_count": 21,
   "id": "genuine-advertising",
   "metadata": {},
   "outputs": [],
   "source": [
    "adata.obs['donor'] = adata.obs['barcode'].apply(lambda x: add_donors(adata, x))"
   ]
  },
  {
   "cell_type": "code",
   "execution_count": 22,
   "id": "aboriginal-bulletin",
   "metadata": {},
   "outputs": [
    {
     "data": {
      "text/plain": [
       "Hrv43    36378\n",
       "P13      12990\n",
       "P14       5145\n",
       "Name: donor, dtype: int64"
      ]
     },
     "execution_count": 22,
     "metadata": {},
     "output_type": "execute_result"
    }
   ],
   "source": [
    "# looking good?\n",
    "adata.obs['donor'].value_counts()"
   ]
  },
  {
   "cell_type": "code",
   "execution_count": 23,
   "id": "frequent-croatia",
   "metadata": {},
   "outputs": [
    {
     "data": {
      "text/plain": [
       "'/lustre/scratch117/cellgen/team292/aa22/with_Stijn/202111_snATAC-seq_data_MFI/multiome_ATAC_samples_analysis/all_cells_analysis/downstream_analysis/'"
      ]
     },
     "execution_count": 23,
     "metadata": {},
     "output_type": "execute_result"
    }
   ],
   "source": [
    "outdir"
   ]
  },
  {
   "cell_type": "raw",
   "id": "cleared-boutique",
   "metadata": {},
   "source": [
    "# save intermediate file to read in later\n",
    "adata.write(outdir + 'adata_ATAC_all_cells_interm.h5ad')"
   ]
  },
  {
   "cell_type": "raw",
   "id": "falling-mills",
   "metadata": {},
   "source": [
    "adata = sc.read(outdir + 'adata_ATAC_all_cells_interm.h5ad')"
   ]
  },
  {
   "cell_type": "code",
   "execution_count": 24,
   "id": "active-visit",
   "metadata": {},
   "outputs": [
    {
     "data": {
      "text/html": [
       "<div>\n",
       "<style scoped>\n",
       "    .dataframe tbody tr th:only-of-type {\n",
       "        vertical-align: middle;\n",
       "    }\n",
       "\n",
       "    .dataframe tbody tr th {\n",
       "        vertical-align: top;\n",
       "    }\n",
       "\n",
       "    .dataframe thead th {\n",
       "        text-align: right;\n",
       "    }\n",
       "</style>\n",
       "<table border=\"1\" class=\"dataframe\">\n",
       "  <thead>\n",
       "    <tr style=\"text-align: right;\">\n",
       "      <th></th>\n",
       "      <th>cellatac_code</th>\n",
       "      <th>sample</th>\n",
       "      <th>barcode</th>\n",
       "      <th>donor</th>\n",
       "    </tr>\n",
       "  </thead>\n",
       "  <tbody>\n",
       "    <tr>\n",
       "      <th>09-AAACAGCCACAATGTT-1</th>\n",
       "      <td>09</td>\n",
       "      <td>Pla_Camb10714918_and_40110_Pla_Camb10687914</td>\n",
       "      <td>09-AAACAGCCACAATGTT-1</td>\n",
       "      <td>P14</td>\n",
       "    </tr>\n",
       "    <tr>\n",
       "      <th>09-AAACAGCCACTCGCTC-1</th>\n",
       "      <td>09</td>\n",
       "      <td>Pla_Camb10714918_and_40110_Pla_Camb10687914</td>\n",
       "      <td>09-AAACAGCCACTCGCTC-1</td>\n",
       "      <td>P14</td>\n",
       "    </tr>\n",
       "    <tr>\n",
       "      <th>09-AAACATGCAACCCTCC-1</th>\n",
       "      <td>09</td>\n",
       "      <td>Pla_Camb10714918_and_40110_Pla_Camb10687914</td>\n",
       "      <td>09-AAACATGCAACCCTCC-1</td>\n",
       "      <td>P14</td>\n",
       "    </tr>\n",
       "    <tr>\n",
       "      <th>09-AAACATGCAATATAGG-1</th>\n",
       "      <td>09</td>\n",
       "      <td>Pla_Camb10714918_and_40110_Pla_Camb10687914</td>\n",
       "      <td>09-AAACATGCAATATAGG-1</td>\n",
       "      <td>P14</td>\n",
       "    </tr>\n",
       "    <tr>\n",
       "      <th>09-AAACCAACACTAGCGT-1</th>\n",
       "      <td>09</td>\n",
       "      <td>Pla_Camb10714918_and_40110_Pla_Camb10687914</td>\n",
       "      <td>09-AAACCAACACTAGCGT-1</td>\n",
       "      <td>P14</td>\n",
       "    </tr>\n",
       "    <tr>\n",
       "      <th>...</th>\n",
       "      <td>...</td>\n",
       "      <td>...</td>\n",
       "      <td>...</td>\n",
       "      <td>...</td>\n",
       "    </tr>\n",
       "    <tr>\n",
       "      <th>08-TTTGTTGGTGGTGAGA-1</th>\n",
       "      <td>08</td>\n",
       "      <td>Pla_HDBR10142865_and_37083_Pla_HDBR10084194</td>\n",
       "      <td>08-TTTGTTGGTGGTGAGA-1</td>\n",
       "      <td>Hrv43</td>\n",
       "    </tr>\n",
       "    <tr>\n",
       "      <th>08-TTTGTTGGTTCGCGCT-1</th>\n",
       "      <td>08</td>\n",
       "      <td>Pla_HDBR10142865_and_37083_Pla_HDBR10084194</td>\n",
       "      <td>08-TTTGTTGGTTCGCGCT-1</td>\n",
       "      <td>Hrv43</td>\n",
       "    </tr>\n",
       "    <tr>\n",
       "      <th>08-TTTGTTGGTTTACTTG-1</th>\n",
       "      <td>08</td>\n",
       "      <td>Pla_HDBR10142865_and_37083_Pla_HDBR10084194</td>\n",
       "      <td>08-TTTGTTGGTTTACTTG-1</td>\n",
       "      <td>Hrv43</td>\n",
       "    </tr>\n",
       "    <tr>\n",
       "      <th>08-TTTGTTGGTTTATGGG-1</th>\n",
       "      <td>08</td>\n",
       "      <td>Pla_HDBR10142865_and_37083_Pla_HDBR10084194</td>\n",
       "      <td>08-TTTGTTGGTTTATGGG-1</td>\n",
       "      <td>Hrv43</td>\n",
       "    </tr>\n",
       "    <tr>\n",
       "      <th>08-TTTGTTGGTTTGGGCG-1</th>\n",
       "      <td>08</td>\n",
       "      <td>Pla_HDBR10142865_and_37083_Pla_HDBR10084194</td>\n",
       "      <td>08-TTTGTTGGTTTGGGCG-1</td>\n",
       "      <td>Hrv43</td>\n",
       "    </tr>\n",
       "  </tbody>\n",
       "</table>\n",
       "<p>54513 rows × 4 columns</p>\n",
       "</div>"
      ],
      "text/plain": [
       "                      cellatac_code  \\\n",
       "09-AAACAGCCACAATGTT-1            09   \n",
       "09-AAACAGCCACTCGCTC-1            09   \n",
       "09-AAACATGCAACCCTCC-1            09   \n",
       "09-AAACATGCAATATAGG-1            09   \n",
       "09-AAACCAACACTAGCGT-1            09   \n",
       "...                             ...   \n",
       "08-TTTGTTGGTGGTGAGA-1            08   \n",
       "08-TTTGTTGGTTCGCGCT-1            08   \n",
       "08-TTTGTTGGTTTACTTG-1            08   \n",
       "08-TTTGTTGGTTTATGGG-1            08   \n",
       "08-TTTGTTGGTTTGGGCG-1            08   \n",
       "\n",
       "                                                            sample  \\\n",
       "09-AAACAGCCACAATGTT-1  Pla_Camb10714918_and_40110_Pla_Camb10687914   \n",
       "09-AAACAGCCACTCGCTC-1  Pla_Camb10714918_and_40110_Pla_Camb10687914   \n",
       "09-AAACATGCAACCCTCC-1  Pla_Camb10714918_and_40110_Pla_Camb10687914   \n",
       "09-AAACATGCAATATAGG-1  Pla_Camb10714918_and_40110_Pla_Camb10687914   \n",
       "09-AAACCAACACTAGCGT-1  Pla_Camb10714918_and_40110_Pla_Camb10687914   \n",
       "...                                                            ...   \n",
       "08-TTTGTTGGTGGTGAGA-1  Pla_HDBR10142865_and_37083_Pla_HDBR10084194   \n",
       "08-TTTGTTGGTTCGCGCT-1  Pla_HDBR10142865_and_37083_Pla_HDBR10084194   \n",
       "08-TTTGTTGGTTTACTTG-1  Pla_HDBR10142865_and_37083_Pla_HDBR10084194   \n",
       "08-TTTGTTGGTTTATGGG-1  Pla_HDBR10142865_and_37083_Pla_HDBR10084194   \n",
       "08-TTTGTTGGTTTGGGCG-1  Pla_HDBR10142865_and_37083_Pla_HDBR10084194   \n",
       "\n",
       "                                     barcode  donor  \n",
       "09-AAACAGCCACAATGTT-1  09-AAACAGCCACAATGTT-1    P14  \n",
       "09-AAACAGCCACTCGCTC-1  09-AAACAGCCACTCGCTC-1    P14  \n",
       "09-AAACATGCAACCCTCC-1  09-AAACATGCAACCCTCC-1    P14  \n",
       "09-AAACATGCAATATAGG-1  09-AAACATGCAATATAGG-1    P14  \n",
       "09-AAACCAACACTAGCGT-1  09-AAACCAACACTAGCGT-1    P14  \n",
       "...                                      ...    ...  \n",
       "08-TTTGTTGGTGGTGAGA-1  08-TTTGTTGGTGGTGAGA-1  Hrv43  \n",
       "08-TTTGTTGGTTCGCGCT-1  08-TTTGTTGGTTCGCGCT-1  Hrv43  \n",
       "08-TTTGTTGGTTTACTTG-1  08-TTTGTTGGTTTACTTG-1  Hrv43  \n",
       "08-TTTGTTGGTTTATGGG-1  08-TTTGTTGGTTTATGGG-1  Hrv43  \n",
       "08-TTTGTTGGTTTGGGCG-1  08-TTTGTTGGTTTGGGCG-1  Hrv43  \n",
       "\n",
       "[54513 rows x 4 columns]"
      ]
     },
     "execution_count": 24,
     "metadata": {},
     "output_type": "execute_result"
    }
   ],
   "source": [
    "adata.obs"
   ]
  },
  {
   "cell_type": "markdown",
   "id": "conditional-gambling",
   "metadata": {},
   "source": [
    "#### Peak filtering"
   ]
  },
  {
   "cell_type": "code",
   "execution_count": 25,
   "id": "extreme-patrol",
   "metadata": {},
   "outputs": [
    {
     "data": {
      "text/plain": [
       "array([[<AxesSubplot:title={'center':'peak_width'}>]], dtype=object)"
      ]
     },
     "execution_count": 25,
     "metadata": {},
     "output_type": "execute_result"
    },
    {
     "data": {
      "image/png": "[encoded data removed]",
      "text/plain": [
       "<Figure size 1800x432 with 1 Axes>"
      ]
     },
     "metadata": {
      "needs_background": "light"
     },
     "output_type": "display_data"
    }
   ],
   "source": [
    "adata.var.hist(column = 'peak_width', bins = 200, grid = False, figsize = (25,6), color = '#870052')"
   ]
  },
  {
   "cell_type": "code",
   "execution_count": 26,
   "id": "brazilian-official",
   "metadata": {},
   "outputs": [
    {
     "data": {
      "text/plain": [
       "AnnData object with n_obs × n_vars = 54513 × 297952\n",
       "    obs: 'cellatac_code', 'sample', 'barcode', 'donor'\n",
       "    var: 'peak_width', 'exon', 'gene', 'promoter', 'annotation', 'gene_name', 'gene_id', 'tss_distance', 'ENCODE_blacklist', 'n_cells_by_counts', 'mean_counts', 'log1p_mean_counts', 'pct_dropout_by_counts', 'total_counts', 'log1p_total_counts'\n",
       "    layers: 'binary_raw'"
      ]
     },
     "execution_count": 26,
     "metadata": {},
     "output_type": "execute_result"
    }
   ],
   "source": [
    "var_qc = sc.pp.calculate_qc_metrics(adata, layer = \"binary_raw\")[1]\n",
    "adata.var = pd.concat([adata.var, var_qc], 1)\n",
    "adata"
   ]
  },
  {
   "cell_type": "code",
   "execution_count": 27,
   "id": "packed-giant",
   "metadata": {},
   "outputs": [
    {
     "data": {
      "text/html": [
       "<div>\n",
       "<style scoped>\n",
       "    .dataframe tbody tr th:only-of-type {\n",
       "        vertical-align: middle;\n",
       "    }\n",
       "\n",
       "    .dataframe tbody tr th {\n",
       "        vertical-align: top;\n",
       "    }\n",
       "\n",
       "    .dataframe thead th {\n",
       "        text-align: right;\n",
       "    }\n",
       "</style>\n",
       "<table border=\"1\" class=\"dataframe\">\n",
       "  <thead>\n",
       "    <tr style=\"text-align: right;\">\n",
       "      <th></th>\n",
       "      <th>peak_width</th>\n",
       "      <th>exon</th>\n",
       "      <th>gene</th>\n",
       "      <th>promoter</th>\n",
       "      <th>annotation</th>\n",
       "      <th>gene_name</th>\n",
       "      <th>gene_id</th>\n",
       "      <th>tss_distance</th>\n",
       "      <th>ENCODE_blacklist</th>\n",
       "      <th>n_cells_by_counts</th>\n",
       "      <th>mean_counts</th>\n",
       "      <th>log1p_mean_counts</th>\n",
       "      <th>pct_dropout_by_counts</th>\n",
       "      <th>total_counts</th>\n",
       "      <th>log1p_total_counts</th>\n",
       "    </tr>\n",
       "    <tr>\n",
       "      <th>peak_id</th>\n",
       "      <th></th>\n",
       "      <th></th>\n",
       "      <th></th>\n",
       "      <th></th>\n",
       "      <th></th>\n",
       "      <th></th>\n",
       "      <th></th>\n",
       "      <th></th>\n",
       "      <th></th>\n",
       "      <th></th>\n",
       "      <th></th>\n",
       "      <th></th>\n",
       "      <th></th>\n",
       "      <th></th>\n",
       "      <th></th>\n",
       "    </tr>\n",
       "  </thead>\n",
       "  <tbody>\n",
       "    <tr>\n",
       "      <th>chr1:180753-181619</th>\n",
       "      <td>867</td>\n",
       "      <td>0</td>\n",
       "      <td>0</td>\n",
       "      <td>1</td>\n",
       "      <td>promoter</td>\n",
       "      <td>FO538757.2</td>\n",
       "      <td>ENSG00000279928</td>\n",
       "      <td>773</td>\n",
       "      <td>1</td>\n",
       "      <td>1430</td>\n",
       "      <td>0.026232</td>\n",
       "      <td>0.025894</td>\n",
       "      <td>97.376773</td>\n",
       "      <td>1430.0</td>\n",
       "      <td>7.266129</td>\n",
       "    </tr>\n",
       "    <tr>\n",
       "      <th>chr1:267870-268071</th>\n",
       "      <td>202</td>\n",
       "      <td>0</td>\n",
       "      <td>0</td>\n",
       "      <td>0</td>\n",
       "      <td>intergenic</td>\n",
       "      <td>NaN</td>\n",
       "      <td>NaN</td>\n",
       "      <td>67547</td>\n",
       "      <td>1</td>\n",
       "      <td>139</td>\n",
       "      <td>0.002550</td>\n",
       "      <td>0.002547</td>\n",
       "      <td>99.745015</td>\n",
       "      <td>139.0</td>\n",
       "      <td>4.941642</td>\n",
       "    </tr>\n",
       "    <tr>\n",
       "      <th>chr1:629146-629367</th>\n",
       "      <td>222</td>\n",
       "      <td>0</td>\n",
       "      <td>0</td>\n",
       "      <td>0</td>\n",
       "      <td>intergenic</td>\n",
       "      <td>NaN</td>\n",
       "      <td>NaN</td>\n",
       "      <td>57286</td>\n",
       "      <td>1</td>\n",
       "      <td>540</td>\n",
       "      <td>0.009906</td>\n",
       "      <td>0.009857</td>\n",
       "      <td>99.009411</td>\n",
       "      <td>540.0</td>\n",
       "      <td>6.293419</td>\n",
       "    </tr>\n",
       "    <tr>\n",
       "      <th>chr1:629807-630031</th>\n",
       "      <td>225</td>\n",
       "      <td>0</td>\n",
       "      <td>0</td>\n",
       "      <td>0</td>\n",
       "      <td>intergenic</td>\n",
       "      <td>NaN</td>\n",
       "      <td>NaN</td>\n",
       "      <td>56622</td>\n",
       "      <td>1</td>\n",
       "      <td>522</td>\n",
       "      <td>0.009576</td>\n",
       "      <td>0.009530</td>\n",
       "      <td>99.042430</td>\n",
       "      <td>522.0</td>\n",
       "      <td>6.259582</td>\n",
       "    </tr>\n",
       "    <tr>\n",
       "      <th>chr1:630185-630403</th>\n",
       "      <td>219</td>\n",
       "      <td>0</td>\n",
       "      <td>0</td>\n",
       "      <td>0</td>\n",
       "      <td>intergenic</td>\n",
       "      <td>NaN</td>\n",
       "      <td>NaN</td>\n",
       "      <td>56250</td>\n",
       "      <td>1</td>\n",
       "      <td>565</td>\n",
       "      <td>0.010364</td>\n",
       "      <td>0.010311</td>\n",
       "      <td>98.963550</td>\n",
       "      <td>565.0</td>\n",
       "      <td>6.338594</td>\n",
       "    </tr>\n",
       "  </tbody>\n",
       "</table>\n",
       "</div>"
      ],
      "text/plain": [
       "                    peak_width  exon  gene  promoter  annotation   gene_name  \\\n",
       "peak_id                                                                        \n",
       "chr1:180753-181619         867     0     0         1    promoter  FO538757.2   \n",
       "chr1:267870-268071         202     0     0         0  intergenic         NaN   \n",
       "chr1:629146-629367         222     0     0         0  intergenic         NaN   \n",
       "chr1:629807-630031         225     0     0         0  intergenic         NaN   \n",
       "chr1:630185-630403         219     0     0         0  intergenic         NaN   \n",
       "\n",
       "                            gene_id  tss_distance  ENCODE_blacklist  \\\n",
       "peak_id                                                               \n",
       "chr1:180753-181619  ENSG00000279928           773                 1   \n",
       "chr1:267870-268071              NaN         67547                 1   \n",
       "chr1:629146-629367              NaN         57286                 1   \n",
       "chr1:629807-630031              NaN         56622                 1   \n",
       "chr1:630185-630403              NaN         56250                 1   \n",
       "\n",
       "                    n_cells_by_counts  mean_counts  log1p_mean_counts  \\\n",
       "peak_id                                                                 \n",
       "chr1:180753-181619               1430     0.026232           0.025894   \n",
       "chr1:267870-268071                139     0.002550           0.002547   \n",
       "chr1:629146-629367                540     0.009906           0.009857   \n",
       "chr1:629807-630031                522     0.009576           0.009530   \n",
       "chr1:630185-630403                565     0.010364           0.010311   \n",
       "\n",
       "                    pct_dropout_by_counts  total_counts  log1p_total_counts  \n",
       "peak_id                                                                      \n",
       "chr1:180753-181619              97.376773        1430.0            7.266129  \n",
       "chr1:267870-268071              99.745015         139.0            4.941642  \n",
       "chr1:629146-629367              99.009411         540.0            6.293419  \n",
       "chr1:629807-630031              99.042430         522.0            6.259582  \n",
       "chr1:630185-630403              98.963550         565.0            6.338594  "
      ]
     },
     "execution_count": 27,
     "metadata": {},
     "output_type": "execute_result"
    }
   ],
   "source": [
    "adata.var.head()"
   ]
  },
  {
   "cell_type": "code",
   "execution_count": 28,
   "id": "historic-pollution",
   "metadata": {},
   "outputs": [
    {
     "data": {
      "text/plain": [
       "array([[<AxesSubplot:title={'center':'total_counts'}>]], dtype=object)"
      ]
     },
     "execution_count": 28,
     "metadata": {},
     "output_type": "execute_result"
    },
    {
     "data": {
      "image/png": "[encoded data removed]",
      "text/plain": [
       "<Figure size 1800x432 with 1 Axes>"
      ]
     },
     "metadata": {
      "needs_background": "light"
     },
     "output_type": "display_data"
    }
   ],
   "source": [
    "adata.var.hist(column = 'total_counts', bins = 200, grid = False, figsize = (25,6), color = '#870052')"
   ]
  },
  {
   "cell_type": "code",
   "execution_count": 29,
   "id": "backed-litigation",
   "metadata": {},
   "outputs": [
    {
     "name": "stdout",
     "output_type": "stream",
     "text": [
      "30% : 16353.9\n",
      "0.1% : 54.513000000000005\n"
     ]
    }
   ],
   "source": [
    "thirty_percent = len(adata.obs_names) / 100 * 30\n",
    "point_one_percent = len(adata.obs_names) / 100 * 0.1\n",
    "print(\"30% : {}\".format(thirty_percent))\n",
    "print(\"0.1% : {}\".format(point_one_percent))"
   ]
  },
  {
   "cell_type": "code",
   "execution_count": 30,
   "id": "ethical-final",
   "metadata": {},
   "outputs": [
    {
     "data": {
      "text/plain": [
       "View of AnnData object with n_obs × n_vars = 54513 × 291497\n",
       "    obs: 'cellatac_code', 'sample', 'barcode', 'donor'\n",
       "    var: 'peak_width', 'exon', 'gene', 'promoter', 'annotation', 'gene_name', 'gene_id', 'tss_distance', 'ENCODE_blacklist', 'n_cells_by_counts', 'mean_counts', 'log1p_mean_counts', 'pct_dropout_by_counts', 'total_counts', 'log1p_total_counts'\n",
       "    layers: 'binary_raw'"
      ]
     },
     "execution_count": 30,
     "metadata": {},
     "output_type": "execute_result"
    }
   ],
   "source": [
    "# Accessible in at least k cells\n",
    "adata = adata[:,adata.var.total_counts > point_one_percent]\n",
    "adata = adata[:,adata.var.total_counts < thirty_percent]\n",
    "adata"
   ]
  },
  {
   "cell_type": "code",
   "execution_count": 31,
   "id": "smoking-identifier",
   "metadata": {},
   "outputs": [
    {
     "data": {
      "text/plain": [
       "View of AnnData object with n_obs × n_vars = 54513 × 290199\n",
       "    obs: 'cellatac_code', 'sample', 'barcode', 'donor'\n",
       "    var: 'peak_width', 'exon', 'gene', 'promoter', 'annotation', 'gene_name', 'gene_id', 'tss_distance', 'ENCODE_blacklist', 'n_cells_by_counts', 'mean_counts', 'log1p_mean_counts', 'pct_dropout_by_counts', 'total_counts', 'log1p_total_counts'\n",
       "    layers: 'binary_raw'"
      ]
     },
     "execution_count": 31,
     "metadata": {},
     "output_type": "execute_result"
    }
   ],
   "source": [
    "# Remove peaks in ENCODE blacklist\n",
    "adata = adata[:, adata.var.ENCODE_blacklist == 0]\n",
    "adata"
   ]
  },
  {
   "cell_type": "code",
   "execution_count": 32,
   "id": "liable-excellence",
   "metadata": {},
   "outputs": [
    {
     "data": {
      "text/plain": [
       "View of AnnData object with n_obs × n_vars = 54513 × 266175\n",
       "    obs: 'cellatac_code', 'sample', 'barcode', 'donor'\n",
       "    var: 'peak_width', 'exon', 'gene', 'promoter', 'annotation', 'gene_name', 'gene_id', 'tss_distance', 'ENCODE_blacklist', 'n_cells_by_counts', 'mean_counts', 'log1p_mean_counts', 'pct_dropout_by_counts', 'total_counts', 'log1p_total_counts'\n",
       "    layers: 'binary_raw'"
      ]
     },
     "execution_count": 32,
     "metadata": {},
     "output_type": "execute_result"
    }
   ],
   "source": [
    "# Filter by width (remove peaks at the lowest end, closest to min peak width in MACS2)\n",
    "\n",
    "adata = adata[:, adata.var.peak_width > 210]\n",
    "adata = adata[:, adata.var.peak_width < 1500]\n",
    "adata"
   ]
  },
  {
   "cell_type": "code",
   "execution_count": 33,
   "id": "sunrise-pollution",
   "metadata": {},
   "outputs": [
    {
     "data": {
      "text/html": [
       "<div>\n",
       "<style scoped>\n",
       "    .dataframe tbody tr th:only-of-type {\n",
       "        vertical-align: middle;\n",
       "    }\n",
       "\n",
       "    .dataframe tbody tr th {\n",
       "        vertical-align: top;\n",
       "    }\n",
       "\n",
       "    .dataframe thead th {\n",
       "        text-align: right;\n",
       "    }\n",
       "</style>\n",
       "<table border=\"1\" class=\"dataframe\">\n",
       "  <thead>\n",
       "    <tr style=\"text-align: right;\">\n",
       "      <th></th>\n",
       "      <th>peak_width</th>\n",
       "      <th>exon</th>\n",
       "      <th>gene</th>\n",
       "      <th>promoter</th>\n",
       "      <th>annotation</th>\n",
       "      <th>gene_name</th>\n",
       "      <th>gene_id</th>\n",
       "      <th>tss_distance</th>\n",
       "      <th>ENCODE_blacklist</th>\n",
       "      <th>n_cells_by_counts</th>\n",
       "      <th>mean_counts</th>\n",
       "      <th>log1p_mean_counts</th>\n",
       "      <th>pct_dropout_by_counts</th>\n",
       "      <th>total_counts</th>\n",
       "      <th>log1p_total_counts</th>\n",
       "    </tr>\n",
       "    <tr>\n",
       "      <th>peak_id</th>\n",
       "      <th></th>\n",
       "      <th></th>\n",
       "      <th></th>\n",
       "      <th></th>\n",
       "      <th></th>\n",
       "      <th></th>\n",
       "      <th></th>\n",
       "      <th></th>\n",
       "      <th></th>\n",
       "      <th></th>\n",
       "      <th></th>\n",
       "      <th></th>\n",
       "      <th></th>\n",
       "      <th></th>\n",
       "      <th></th>\n",
       "    </tr>\n",
       "  </thead>\n",
       "  <tbody>\n",
       "    <tr>\n",
       "      <th>chr1:804711-804994</th>\n",
       "      <td>284</td>\n",
       "      <td>0</td>\n",
       "      <td>0</td>\n",
       "      <td>0</td>\n",
       "      <td>intergenic</td>\n",
       "      <td>NaN</td>\n",
       "      <td>NaN</td>\n",
       "      <td>118056</td>\n",
       "      <td>0</td>\n",
       "      <td>114</td>\n",
       "      <td>0.002091</td>\n",
       "      <td>0.002089</td>\n",
       "      <td>99.790876</td>\n",
       "      <td>114.0</td>\n",
       "      <td>4.744932</td>\n",
       "    </tr>\n",
       "    <tr>\n",
       "      <th>chr1:816976-817440</th>\n",
       "      <td>465</td>\n",
       "      <td>0</td>\n",
       "      <td>0</td>\n",
       "      <td>0</td>\n",
       "      <td>intergenic</td>\n",
       "      <td>NaN</td>\n",
       "      <td>NaN</td>\n",
       "      <td>106487</td>\n",
       "      <td>0</td>\n",
       "      <td>331</td>\n",
       "      <td>0.006072</td>\n",
       "      <td>0.006054</td>\n",
       "      <td>99.392805</td>\n",
       "      <td>331.0</td>\n",
       "      <td>5.805135</td>\n",
       "    </tr>\n",
       "    <tr>\n",
       "      <th>chr1:826707-826976</th>\n",
       "      <td>270</td>\n",
       "      <td>0</td>\n",
       "      <td>0</td>\n",
       "      <td>0</td>\n",
       "      <td>intergenic</td>\n",
       "      <td>NaN</td>\n",
       "      <td>NaN</td>\n",
       "      <td>96951</td>\n",
       "      <td>0</td>\n",
       "      <td>151</td>\n",
       "      <td>0.002770</td>\n",
       "      <td>0.002766</td>\n",
       "      <td>99.723002</td>\n",
       "      <td>151.0</td>\n",
       "      <td>5.023880</td>\n",
       "    </tr>\n",
       "    <tr>\n",
       "      <th>chr1:827089-827687</th>\n",
       "      <td>599</td>\n",
       "      <td>0</td>\n",
       "      <td>0</td>\n",
       "      <td>0</td>\n",
       "      <td>intergenic</td>\n",
       "      <td>NaN</td>\n",
       "      <td>NaN</td>\n",
       "      <td>96240</td>\n",
       "      <td>0</td>\n",
       "      <td>1709</td>\n",
       "      <td>0.031350</td>\n",
       "      <td>0.030869</td>\n",
       "      <td>96.864968</td>\n",
       "      <td>1709.0</td>\n",
       "      <td>7.444249</td>\n",
       "    </tr>\n",
       "    <tr>\n",
       "      <th>chr1:845586-845921</th>\n",
       "      <td>336</td>\n",
       "      <td>0</td>\n",
       "      <td>0</td>\n",
       "      <td>0</td>\n",
       "      <td>intergenic</td>\n",
       "      <td>NaN</td>\n",
       "      <td>NaN</td>\n",
       "      <td>78006</td>\n",
       "      <td>0</td>\n",
       "      <td>107</td>\n",
       "      <td>0.001963</td>\n",
       "      <td>0.001961</td>\n",
       "      <td>99.803717</td>\n",
       "      <td>107.0</td>\n",
       "      <td>4.682131</td>\n",
       "    </tr>\n",
       "  </tbody>\n",
       "</table>\n",
       "</div>"
      ],
      "text/plain": [
       "                    peak_width  exon  gene  promoter  annotation gene_name  \\\n",
       "peak_id                                                                      \n",
       "chr1:804711-804994         284     0     0         0  intergenic       NaN   \n",
       "chr1:816976-817440         465     0     0         0  intergenic       NaN   \n",
       "chr1:826707-826976         270     0     0         0  intergenic       NaN   \n",
       "chr1:827089-827687         599     0     0         0  intergenic       NaN   \n",
       "chr1:845586-845921         336     0     0         0  intergenic       NaN   \n",
       "\n",
       "                   gene_id  tss_distance  ENCODE_blacklist  n_cells_by_counts  \\\n",
       "peak_id                                                                         \n",
       "chr1:804711-804994     NaN        118056                 0                114   \n",
       "chr1:816976-817440     NaN        106487                 0                331   \n",
       "chr1:826707-826976     NaN         96951                 0                151   \n",
       "chr1:827089-827687     NaN         96240                 0               1709   \n",
       "chr1:845586-845921     NaN         78006                 0                107   \n",
       "\n",
       "                    mean_counts  log1p_mean_counts  pct_dropout_by_counts  \\\n",
       "peak_id                                                                     \n",
       "chr1:804711-804994     0.002091           0.002089              99.790876   \n",
       "chr1:816976-817440     0.006072           0.006054              99.392805   \n",
       "chr1:826707-826976     0.002770           0.002766              99.723002   \n",
       "chr1:827089-827687     0.031350           0.030869              96.864968   \n",
       "chr1:845586-845921     0.001963           0.001961              99.803717   \n",
       "\n",
       "                    total_counts  log1p_total_counts  \n",
       "peak_id                                               \n",
       "chr1:804711-804994         114.0            4.744932  \n",
       "chr1:816976-817440         331.0            5.805135  \n",
       "chr1:826707-826976         151.0            5.023880  \n",
       "chr1:827089-827687        1709.0            7.444249  \n",
       "chr1:845586-845921         107.0            4.682131  "
      ]
     },
     "execution_count": 33,
     "metadata": {},
     "output_type": "execute_result"
    }
   ],
   "source": [
    "adata.var.head()"
   ]
  },
  {
   "cell_type": "code",
   "execution_count": 34,
   "id": "civic-consultancy",
   "metadata": {},
   "outputs": [
    {
     "data": {
      "text/plain": [
       "intergenic    115277\n",
       "intron        106082\n",
       "exon           34247\n",
       "promoter       10569\n",
       "Name: annotation, dtype: int64"
      ]
     },
     "execution_count": 34,
     "metadata": {},
     "output_type": "execute_result"
    }
   ],
   "source": [
    "adata.var['annotation'].value_counts()"
   ]
  },
  {
   "cell_type": "code",
   "execution_count": 35,
   "id": "outside-trustee",
   "metadata": {},
   "outputs": [
    {
     "data": {
      "text/html": [
       "<div>\n",
       "<style scoped>\n",
       "    .dataframe tbody tr th:only-of-type {\n",
       "        vertical-align: middle;\n",
       "    }\n",
       "\n",
       "    .dataframe tbody tr th {\n",
       "        vertical-align: top;\n",
       "    }\n",
       "\n",
       "    .dataframe thead th {\n",
       "        text-align: right;\n",
       "    }\n",
       "</style>\n",
       "<table border=\"1\" class=\"dataframe\">\n",
       "  <thead>\n",
       "    <tr style=\"text-align: right;\">\n",
       "      <th></th>\n",
       "      <th>cellatac_code</th>\n",
       "      <th>sample</th>\n",
       "      <th>barcode</th>\n",
       "      <th>donor</th>\n",
       "    </tr>\n",
       "  </thead>\n",
       "  <tbody>\n",
       "    <tr>\n",
       "      <th>09-AAACAGCCACAATGTT-1</th>\n",
       "      <td>09</td>\n",
       "      <td>Pla_Camb10714918_and_40110_Pla_Camb10687914</td>\n",
       "      <td>09-AAACAGCCACAATGTT-1</td>\n",
       "      <td>P14</td>\n",
       "    </tr>\n",
       "    <tr>\n",
       "      <th>09-AAACAGCCACTCGCTC-1</th>\n",
       "      <td>09</td>\n",
       "      <td>Pla_Camb10714918_and_40110_Pla_Camb10687914</td>\n",
       "      <td>09-AAACAGCCACTCGCTC-1</td>\n",
       "      <td>P14</td>\n",
       "    </tr>\n",
       "    <tr>\n",
       "      <th>09-AAACATGCAACCCTCC-1</th>\n",
       "      <td>09</td>\n",
       "      <td>Pla_Camb10714918_and_40110_Pla_Camb10687914</td>\n",
       "      <td>09-AAACATGCAACCCTCC-1</td>\n",
       "      <td>P14</td>\n",
       "    </tr>\n",
       "    <tr>\n",
       "      <th>09-AAACATGCAATATAGG-1</th>\n",
       "      <td>09</td>\n",
       "      <td>Pla_Camb10714918_and_40110_Pla_Camb10687914</td>\n",
       "      <td>09-AAACATGCAATATAGG-1</td>\n",
       "      <td>P14</td>\n",
       "    </tr>\n",
       "    <tr>\n",
       "      <th>09-AAACCAACACTAGCGT-1</th>\n",
       "      <td>09</td>\n",
       "      <td>Pla_Camb10714918_and_40110_Pla_Camb10687914</td>\n",
       "      <td>09-AAACCAACACTAGCGT-1</td>\n",
       "      <td>P14</td>\n",
       "    </tr>\n",
       "  </tbody>\n",
       "</table>\n",
       "</div>"
      ],
      "text/plain": [
       "                      cellatac_code  \\\n",
       "09-AAACAGCCACAATGTT-1            09   \n",
       "09-AAACAGCCACTCGCTC-1            09   \n",
       "09-AAACATGCAACCCTCC-1            09   \n",
       "09-AAACATGCAATATAGG-1            09   \n",
       "09-AAACCAACACTAGCGT-1            09   \n",
       "\n",
       "                                                            sample  \\\n",
       "09-AAACAGCCACAATGTT-1  Pla_Camb10714918_and_40110_Pla_Camb10687914   \n",
       "09-AAACAGCCACTCGCTC-1  Pla_Camb10714918_and_40110_Pla_Camb10687914   \n",
       "09-AAACATGCAACCCTCC-1  Pla_Camb10714918_and_40110_Pla_Camb10687914   \n",
       "09-AAACATGCAATATAGG-1  Pla_Camb10714918_and_40110_Pla_Camb10687914   \n",
       "09-AAACCAACACTAGCGT-1  Pla_Camb10714918_and_40110_Pla_Camb10687914   \n",
       "\n",
       "                                     barcode donor  \n",
       "09-AAACAGCCACAATGTT-1  09-AAACAGCCACAATGTT-1   P14  \n",
       "09-AAACAGCCACTCGCTC-1  09-AAACAGCCACTCGCTC-1   P14  \n",
       "09-AAACATGCAACCCTCC-1  09-AAACATGCAACCCTCC-1   P14  \n",
       "09-AAACATGCAATATAGG-1  09-AAACATGCAATATAGG-1   P14  \n",
       "09-AAACCAACACTAGCGT-1  09-AAACCAACACTAGCGT-1   P14  "
      ]
     },
     "execution_count": 35,
     "metadata": {},
     "output_type": "execute_result"
    }
   ],
   "source": [
    "adata.obs.head()"
   ]
  },
  {
   "cell_type": "code",
   "execution_count": 36,
   "id": "prostate-virgin",
   "metadata": {},
   "outputs": [
    {
     "data": {
      "text/plain": [
       "AnnData object with n_obs × n_vars = 54513 × 266175\n",
       "    obs: 'cellatac_clusters'\n",
       "    var: 'peak_width', 'exon', 'gene', 'promoter', 'annotation', 'gene_name', 'gene_id', 'tss_distance', 'ENCODE_blacklist', 'n_cells_by_counts', 'mean_counts', 'log1p_mean_counts', 'pct_dropout_by_counts', 'total_counts', 'log1p_total_counts'\n",
       "    layers: 'binary_raw'"
      ]
     },
     "execution_count": 36,
     "metadata": {},
     "output_type": "execute_result"
    }
   ],
   "source": [
    "### Filter peaks that are not accessible in at least 5% of cells from a coarse cluster\n",
    "min_frac=0.05\n",
    "# Load cluster information from cellatac outputs\n",
    "clusters = pd.read_table(input[\"clusters\"], header = None, index_col = 0)\n",
    "clusters.columns = [\"cellatac_clusters\"]\n",
    "adata.obs = clusters.loc[adata.obs_names]\n",
    "adata"
   ]
  },
  {
   "cell_type": "code",
   "execution_count": 37,
   "id": "broken-donor",
   "metadata": {},
   "outputs": [
    {
     "data": {
      "text/html": [
       "<div>\n",
       "<style scoped>\n",
       "    .dataframe tbody tr th:only-of-type {\n",
       "        vertical-align: middle;\n",
       "    }\n",
       "\n",
       "    .dataframe tbody tr th {\n",
       "        vertical-align: top;\n",
       "    }\n",
       "\n",
       "    .dataframe thead th {\n",
       "        text-align: right;\n",
       "    }\n",
       "</style>\n",
       "<table border=\"1\" class=\"dataframe\">\n",
       "  <thead>\n",
       "    <tr style=\"text-align: right;\">\n",
       "      <th></th>\n",
       "      <th>cellatac_clusters</th>\n",
       "    </tr>\n",
       "  </thead>\n",
       "  <tbody>\n",
       "    <tr>\n",
       "      <th>09-AAACAGCCACAATGTT-1</th>\n",
       "      <td>3</td>\n",
       "    </tr>\n",
       "    <tr>\n",
       "      <th>09-AAACAGCCACTCGCTC-1</th>\n",
       "      <td>1</td>\n",
       "    </tr>\n",
       "    <tr>\n",
       "      <th>09-AAACATGCAACCCTCC-1</th>\n",
       "      <td>12</td>\n",
       "    </tr>\n",
       "    <tr>\n",
       "      <th>09-AAACATGCAATATAGG-1</th>\n",
       "      <td>1</td>\n",
       "    </tr>\n",
       "    <tr>\n",
       "      <th>09-AAACCAACACTAGCGT-1</th>\n",
       "      <td>10</td>\n",
       "    </tr>\n",
       "  </tbody>\n",
       "</table>\n",
       "</div>"
      ],
      "text/plain": [
       "                       cellatac_clusters\n",
       "09-AAACAGCCACAATGTT-1                  3\n",
       "09-AAACAGCCACTCGCTC-1                  1\n",
       "09-AAACATGCAACCCTCC-1                 12\n",
       "09-AAACATGCAATATAGG-1                  1\n",
       "09-AAACCAACACTAGCGT-1                 10"
      ]
     },
     "execution_count": 37,
     "metadata": {},
     "output_type": "execute_result"
    }
   ],
   "source": [
    "adata.obs.head()"
   ]
  },
  {
   "cell_type": "code",
   "execution_count": 38,
   "id": "spatial-offense",
   "metadata": {},
   "outputs": [
    {
     "name": "stderr",
     "output_type": "stream",
     "text": [
      "/opt/conda/lib/python3.8/site-packages/IPython/core/interactiveshell.py:3437: SparseEfficiencyWarning: Comparing a sparse matrix with a nonzero scalar using != is inefficient, try using == instead.\n",
      "  exec(code_obj, self.user_global_ns, self.user_ns)\n",
      "/opt/conda/lib/python3.8/site-packages/scipy/sparse/_index.py:125: SparseEfficiencyWarning: Changing the sparsity structure of a csr_matrix is expensive. lil_matrix is more efficient.\n",
      "  self._set_arrayXarray(i, j, x)\n"
     ]
    }
   ],
   "source": [
    "n_clusters = len(np.unique(adata.obs[[\"cellatac_clusters\"]]))\n",
    "clus_mat = np.empty([adata.n_obs, n_clusters])\n",
    "for cl in np.unique(adata.obs[[\"cellatac_clusters\"]]):\n",
    "    clus_mat[np.where(adata.obs['cellatac_clusters']==cl)[0],cl] = 1\n",
    "\n",
    "clus_mat = scipy.sparse.csr_matrix(clus_mat)\n",
    "clus_mat[clus_mat != 1 ] = 0"
   ]
  },
  {
   "cell_type": "code",
   "execution_count": 39,
   "id": "limited-norway",
   "metadata": {},
   "outputs": [],
   "source": [
    "cl_peak_mat = np.dot(clus_mat.T, adata.layers[\"binary_raw\"])"
   ]
  },
  {
   "cell_type": "code",
   "execution_count": 40,
   "id": "stainless-adaptation",
   "metadata": {},
   "outputs": [],
   "source": [
    "cl_peak_frac = cl_peak_mat/clus_mat.sum(0).T"
   ]
  },
  {
   "cell_type": "code",
   "execution_count": 41,
   "id": "successful-television",
   "metadata": {},
   "outputs": [
    {
     "data": {
      "text/plain": [
       "(1, 266175)"
      ]
     },
     "execution_count": 41,
     "metadata": {},
     "output_type": "execute_result"
    }
   ],
   "source": [
    "cl_peak_frac.max(0).shape"
   ]
  },
  {
   "cell_type": "code",
   "execution_count": 42,
   "id": "joined-exemption",
   "metadata": {},
   "outputs": [
    {
     "data": {
      "text/plain": [
       "(1, 266175)"
      ]
     },
     "execution_count": 42,
     "metadata": {},
     "output_type": "execute_result"
    }
   ],
   "source": [
    "bool_matrix = cl_peak_frac.max(0) > min_frac\n",
    "bool_matrix.shape"
   ]
  },
  {
   "cell_type": "code",
   "execution_count": 43,
   "id": "ordered-niagara",
   "metadata": {},
   "outputs": [
    {
     "data": {
      "text/plain": [
       "(266175,)"
      ]
     },
     "execution_count": 43,
     "metadata": {},
     "output_type": "execute_result"
    }
   ],
   "source": [
    "bool_vector = np.squeeze(np.asarray(bool_matrix))\n",
    "bool_vector.shape"
   ]
  },
  {
   "cell_type": "code",
   "execution_count": 44,
   "id": "surgical-robertson",
   "metadata": {},
   "outputs": [],
   "source": [
    "adata = adata[:, bool_vector]"
   ]
  },
  {
   "cell_type": "code",
   "execution_count": 45,
   "id": "expected-aggregate",
   "metadata": {},
   "outputs": [
    {
     "data": {
      "text/plain": [
       "View of AnnData object with n_obs × n_vars = 54513 × 59281\n",
       "    obs: 'cellatac_clusters'\n",
       "    var: 'peak_width', 'exon', 'gene', 'promoter', 'annotation', 'gene_name', 'gene_id', 'tss_distance', 'ENCODE_blacklist', 'n_cells_by_counts', 'mean_counts', 'log1p_mean_counts', 'pct_dropout_by_counts', 'total_counts', 'log1p_total_counts'\n",
       "    layers: 'binary_raw'"
      ]
     },
     "execution_count": 45,
     "metadata": {},
     "output_type": "execute_result"
    }
   ],
   "source": [
    "adata"
   ]
  },
  {
   "cell_type": "code",
   "execution_count": 46,
   "id": "studied-trace",
   "metadata": {},
   "outputs": [
    {
     "name": "stderr",
     "output_type": "stream",
     "text": [
      "Trying to set attribute `.obs` of view, copying.\n"
     ]
    }
   ],
   "source": [
    "sc.pp.calculate_qc_metrics(adata, layer = \"binary_raw\", inplace = True)"
   ]
  },
  {
   "cell_type": "code",
   "execution_count": 47,
   "id": "wanted-finnish",
   "metadata": {},
   "outputs": [
    {
     "data": {
      "text/plain": [
       "array([[<AxesSubplot:title={'center':'log1p_total_counts'}>]],\n",
       "      dtype=object)"
      ]
     },
     "execution_count": 47,
     "metadata": {},
     "output_type": "execute_result"
    },
    {
     "data": {
      "image/png": "[encoded data removed]",
      "text/plain": [
       "<Figure size 1800x432 with 1 Axes>"
      ]
     },
     "metadata": {
      "needs_background": "light"
     },
     "output_type": "display_data"
    }
   ],
   "source": [
    "adata.var.hist(column = 'log1p_total_counts', bins = 200, grid = False, figsize = (25,6), color = '#870052')"
   ]
  },
  {
   "cell_type": "code",
   "execution_count": 48,
   "id": "recreational-indian",
   "metadata": {},
   "outputs": [
    {
     "data": {
      "text/plain": [
       "array([[<AxesSubplot:title={'center':'log1p_total_counts'}>]],\n",
       "      dtype=object)"
      ]
     },
     "execution_count": 48,
     "metadata": {},
     "output_type": "execute_result"
    },
    {
     "data": {
      "image/png": "[encoded data removed]",
      "text/plain": [
       "<Figure size 1800x432 with 1 Axes>"
      ]
     },
     "metadata": {
      "needs_background": "light"
     },
     "output_type": "display_data"
    }
   ],
   "source": [
    "adata.obs.hist(column = 'log1p_total_counts', bins = 200, grid = False, figsize = (25,6), color = '#870052')"
   ]
  },
  {
   "cell_type": "code",
   "execution_count": 49,
   "id": "empirical-formula",
   "metadata": {},
   "outputs": [
    {
     "data": {
      "text/plain": [
       "View of AnnData object with n_obs × n_vars = 52798 × 59281\n",
       "    obs: 'cellatac_clusters', 'n_genes_by_counts', 'log1p_n_genes_by_counts', 'total_counts', 'log1p_total_counts', 'pct_counts_in_top_50_genes', 'pct_counts_in_top_100_genes', 'pct_counts_in_top_200_genes', 'pct_counts_in_top_500_genes'\n",
       "    var: 'peak_width', 'exon', 'gene', 'promoter', 'annotation', 'gene_name', 'gene_id', 'tss_distance', 'ENCODE_blacklist', 'n_cells_by_counts', 'mean_counts', 'log1p_mean_counts', 'pct_dropout_by_counts', 'total_counts', 'log1p_total_counts'\n",
       "    layers: 'binary_raw'"
      ]
     },
     "execution_count": 49,
     "metadata": {},
     "output_type": "execute_result"
    }
   ],
   "source": [
    "bdata = adata[adata.obs.log1p_total_counts >= 4]\n",
    "bdata"
   ]
  },
  {
   "cell_type": "code",
   "execution_count": 52,
   "id": "controlling-borough",
   "metadata": {},
   "outputs": [
    {
     "data": {
      "text/plain": [
       "View of AnnData object with n_obs × n_vars = 52798 × 59281\n",
       "    obs: 'cellatac_clusters', 'n_genes_by_counts', 'log1p_n_genes_by_counts', 'total_counts', 'log1p_total_counts', 'pct_counts_in_top_50_genes', 'pct_counts_in_top_100_genes', 'pct_counts_in_top_200_genes', 'pct_counts_in_top_500_genes'\n",
       "    var: 'peak_width', 'exon', 'gene', 'promoter', 'annotation', 'gene_name', 'gene_id', 'tss_distance', 'ENCODE_blacklist', 'n_cells_by_counts', 'mean_counts', 'log1p_mean_counts', 'pct_dropout_by_counts', 'total_counts', 'log1p_total_counts'\n",
       "    layers: 'binary_raw'"
      ]
     },
     "execution_count": 52,
     "metadata": {},
     "output_type": "execute_result"
    }
   ],
   "source": [
    "bdata"
   ]
  },
  {
   "cell_type": "code",
   "execution_count": 53,
   "id": "wanted-inventory",
   "metadata": {},
   "outputs": [
    {
     "data": {
      "text/plain": [
       "'/lustre/scratch117/cellgen/team292/aa22/with_Stijn/202111_snATAC-seq_data_MFI/multiome_ATAC_samples_analysis/all_cells_analysis/downstream_analysis/multiome_only_MFI_prelim_all_cells_ATAC_raw.h5ad'"
      ]
     },
     "execution_count": 53,
     "metadata": {},
     "output_type": "execute_result"
    }
   ],
   "source": [
    "output[\"h5ad\"]"
   ]
  },
  {
   "cell_type": "code",
   "execution_count": 54,
   "id": "proof-clearing",
   "metadata": {},
   "outputs": [
    {
     "name": "stderr",
     "output_type": "stream",
     "text": [
      "/opt/conda/lib/python3.8/site-packages/anndata/_core/anndata.py:1207: ImplicitModificationWarning: Initializing view as actual.\n",
      "  warnings.warn(\n",
      "Trying to set attribute `.var` of view, copying.\n",
      "... storing 'annotation' as categorical\n",
      "Trying to set attribute `.var` of view, copying.\n",
      "... storing 'gene_name' as categorical\n",
      "Trying to set attribute `.var` of view, copying.\n",
      "... storing 'gene_id' as categorical\n"
     ]
    }
   ],
   "source": [
    "## Write output anndata\n",
    "bdata.write_h5ad(output[\"h5ad\"])"
   ]
  },
  {
   "cell_type": "code",
   "execution_count": null,
   "id": "peripheral-workplace",
   "metadata": {},
   "outputs": [],
   "source": []
  },
  {
   "cell_type": "code",
   "execution_count": null,
   "id": "fatal-junior",
   "metadata": {},
   "outputs": [],
   "source": []
  },
  {
   "cell_type": "code",
   "execution_count": null,
   "id": "patent-shape",
   "metadata": {},
   "outputs": [],
   "source": []
  }
 ],
 "metadata": {
  "kernelspec": {
   "display_name": "Python 3",
   "language": "python",
   "name": "python3"
  },
  "language_info": {
   "codemirror_mode": {
    "name": "ipython",
    "version": 3
   },
   "file_extension": ".py",
   "mimetype": "text/x-python",
   "name": "python",
   "nbconvert_exporter": "python",
   "pygments_lexer": "ipython3",
   "version": "3.8.8"
  }
 },
 "nbformat": 4,
 "nbformat_minor": 5
}
