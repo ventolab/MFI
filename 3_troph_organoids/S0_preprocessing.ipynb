{
 "cells": [
  {
   "cell_type": "markdown",
   "metadata": {},
   "source": [
    "# Preprocessing scRNA-seq from trophoblast organoid experiments \n",
    "### (both #1 and #2)\n",
    "\n",
    "05.2021"
   ]
  },
  {
   "cell_type": "markdown",
   "metadata": {},
   "source": [
    "This is a preprocessing notebook, so this happens here:\n",
    "\n",
    "Step-by-step workflow:\n",
    "\n",
    "- load\n",
    "- filter genes, cells, add info\n",
    "- perform **step 1** of calling doublets using Krzysztof's bertie doublet caller:\n",
    "    - see bertie_doublet_caller.ipynb in /home/jovyan/ and read comments\n",
    "- concatenate\n",
    "- add doublet scores from saved tables (bertie)\n",
    "- filter MT-high cells\n",
    "- make cells (obs) and var (genes) unique\n",
    "- parsing souporcell deconvolution results\n",
    "- save preprocessed object"
   ]
  },
  {
   "cell_type": "code",
   "execution_count": 1,
   "metadata": {},
   "outputs": [],
   "source": [
    "%matplotlib inline\n",
    "%config InlineBackend.figure_format = 'retina'\n",
    "\n",
    "import numpy as np\n",
    "import pandas as pd\n",
    "import seaborn as sns\n",
    "import scanpy as sc\n",
    "from glob import iglob\n",
    "import anndata\n",
    "import bbknn\n",
    "import scrublet as scr\n",
    "import os\n",
    "import sklearn\n",
    "from sklearn.linear_model import LogisticRegression\n",
    "import matplotlib as mpl\n",
    "import scipy\n",
    "import matplotlib.pyplot as plt\n",
    "import pickle"
   ]
  },
  {
   "cell_type": "code",
   "execution_count": 2,
   "metadata": {},
   "outputs": [],
   "source": [
    "np.random.seed(0)"
   ]
  },
  {
   "cell_type": "code",
   "execution_count": 3,
   "metadata": {},
   "outputs": [
    {
     "name": "stderr",
     "output_type": "stream",
     "text": [
      "WARNING: If you miss a compact list, please try `print_header`!\n"
     ]
    },
    {
     "name": "stdout",
     "output_type": "stream",
     "text": [
      "-----\n",
      "anndata     0.7.5\n",
      "scanpy      1.7.1\n",
      "sinfo       0.3.1\n",
      "-----\n",
      "PIL                 8.1.2\n",
      "anndata             0.7.5\n",
      "annoy               NA\n",
      "anyio               NA\n",
      "attr                20.3.0\n",
      "babel               2.9.0\n",
      "backcall            0.2.0\n",
      "bbknn               NA\n",
      "brotli              NA\n",
      "cairo               1.20.0\n",
      "certifi             2020.12.05\n",
      "cffi                1.14.5\n",
      "chardet             4.0.0\n",
      "cloudpickle         1.6.0\n",
      "colorama            0.4.4\n",
      "cycler              0.10.0\n",
      "cython_runtime      NA\n",
      "cytoolz             0.11.0\n",
      "dask                2021.03.1\n",
      "dateutil            2.8.1\n",
      "decorator           4.4.2\n",
      "fsspec              0.8.7\n",
      "get_version         2.1\n",
      "google              NA\n",
      "h5py                3.1.0\n",
      "idna                2.10\n",
      "igraph              0.8.3\n",
      "ipykernel           5.5.0\n",
      "ipython_genutils    0.2.0\n",
      "ipywidgets          7.6.3\n",
      "jedi                0.18.0\n",
      "jinja2              2.11.3\n",
      "joblib              1.0.1\n",
      "json5               NA\n",
      "jsonschema          3.2.0\n",
      "jupyter_server      1.4.1\n",
      "jupyterlab_server   2.3.0\n",
      "kiwisolver          1.3.1\n",
      "legacy_api_wrap     0.0.0\n",
      "leidenalg           0.8.3\n",
      "llvmlite            0.34.0\n",
      "louvain             0.7.0\n",
      "markupsafe          1.1.1\n",
      "matplotlib          3.3.4\n",
      "mpl_toolkits        NA\n",
      "natsort             7.1.1\n",
      "nbclassic           NA\n",
      "nbformat            5.1.2\n",
      "numba               0.51.2\n",
      "numexpr             2.7.3\n",
      "numpy               1.20.1\n",
      "packaging           20.9\n",
      "pandas              1.2.3\n",
      "parso               0.8.1\n",
      "pexpect             4.8.0\n",
      "pickleshare         0.7.5\n",
      "pkg_resources       NA\n",
      "prometheus_client   NA\n",
      "prompt_toolkit      3.0.16\n",
      "psutil              5.8.0\n",
      "ptyprocess          0.7.0\n",
      "pvectorc            NA\n",
      "pyarrow             0.16.0\n",
      "pycparser           2.20\n",
      "pygments            2.8.0\n",
      "pynndescent         0.5.2\n",
      "pyparsing           2.4.7\n",
      "pyrsistent          NA\n",
      "pytoml              NA\n",
      "pytz                2021.1\n",
      "requests            2.25.1\n",
      "ruamel              NA\n",
      "scanpy              1.7.1\n",
      "scipy               1.6.1\n",
      "scrublet            NA\n",
      "seaborn             0.11.1\n",
      "send2trash          NA\n",
      "setuptools_scm      NA\n",
      "sinfo               0.3.1\n",
      "six                 1.15.0\n",
      "sklearn             0.24.1\n",
      "sniffio             1.2.0\n",
      "socks               1.7.1\n",
      "sphinxcontrib       NA\n",
      "statsmodels         0.12.2\n",
      "storemagic          NA\n",
      "tables              3.6.1\n",
      "tblib               1.7.0\n",
      "texttable           1.6.3\n",
      "tlz                 0.11.0\n",
      "toolz               0.11.1\n",
      "tornado             6.1\n",
      "traitlets           5.0.5\n",
      "typing_extensions   NA\n",
      "umap                0.4.6\n",
      "urllib3             1.26.3\n",
      "wcwidth             0.2.5\n",
      "yaml                5.3.1\n",
      "zmq                 22.0.3\n",
      "-----\n",
      "IPython             7.21.0\n",
      "jupyter_client      6.1.11\n",
      "jupyter_core        4.7.1\n",
      "jupyterlab          3.0.9\n",
      "notebook            6.2.0\n",
      "-----\n",
      "Python 3.8.8 | packaged by conda-forge | (default, Feb 20 2021, 16:22:27) [GCC 9.3.0]\n",
      "Linux-4.15.0-136-generic-x86_64-with-glibc2.10\n",
      "60 logical CPU cores, x86_64\n",
      "-----\n",
      "Session information updated at 2021-05-21 08:06\n",
      "\n"
     ]
    }
   ],
   "source": [
    "sc.settings.verbosity = 3  # verbosity: errors (0), warnings (1), info (2), hints (3)\n",
    "sc.logging.print_versions()\n",
    "sc.settings.set_figure_params(dpi=80)  # low dpi (dots per inch) yields small inline figures"
   ]
  },
  {
   "cell_type": "code",
   "execution_count": 4,
   "metadata": {},
   "outputs": [],
   "source": [
    "save_path = '/lustre/scratch117/cellgen/team292/aa22/adata_objects/202105_troph_organoids_exp_1_2/'"
   ]
  },
  {
   "cell_type": "markdown",
   "metadata": {},
   "source": [
    "A Benjamini-Hochberg function for later. Running FDR is surprisingly inconvenient using built-in Python options."
   ]
  },
  {
   "cell_type": "code",
   "execution_count": 5,
   "metadata": {},
   "outputs": [],
   "source": [
    "def bh(pvalues):\n",
    "    '''\n",
    "    Computes the Benjamini-Hochberg FDR correction.\n",
    "    \n",
    "    Input:\n",
    "        * pvals - vector of p-values to correct\n",
    "    '''\n",
    "    n = int(pvalues.shape[0])\n",
    "    new_pvalues = np.empty(n)\n",
    "    values = [ (pvalue, i) for i, pvalue in enumerate(pvalues) ]\n",
    "    values.sort()\n",
    "    values.reverse()\n",
    "    new_values = []\n",
    "    for i, vals in enumerate(values):\n",
    "        rank = n - i\n",
    "        pvalue, index = vals\n",
    "        new_values.append((n/rank) * pvalue)\n",
    "    for i in range(0, int(n)-1):\n",
    "        if new_values[i] < new_values[i+1]:\n",
    "            new_values[i+1] = new_values[i]\n",
    "    for i, vals in enumerate(values):\n",
    "        pvalue, index = vals\n",
    "        new_pvalues[index] = new_values[i]\n",
    "    return new_pvalues"
   ]
  },
  {
   "cell_type": "code",
   "execution_count": 6,
   "metadata": {},
   "outputs": [],
   "source": [
    "###################\n",
    "# doublet calling #\n",
    "###################\n",
    "\n",
    "def bertie(adata_sample, sample):\n",
    "    \n",
    "    scorenames = ['scrublet_score','scrublet_cluster_score','bh_pval']\n",
    "    \n",
    "    adata_sample_copy = adata_sample.copy()\n",
    "    # set up and run Scrublet\n",
    "    scrub = scr.Scrublet(adata_sample_copy.X)\n",
    "    doublet_scores, predicted_doublets = scrub.scrub_doublets(verbose=False)\n",
    "    adata_sample_copy.obs['scrublet_score'] = doublet_scores\n",
    "    \n",
    "    # overcluster prep. run turbo basic scanpy pipeline\n",
    "    sc.pp.normalize_per_cell(adata_sample_copy, counts_per_cell_after=1e4)\n",
    "    sc.pp.log1p(adata_sample_copy)\n",
    "    sc.pp.highly_variable_genes(adata_sample_copy, min_mean=0.0125, max_mean=3, min_disp=0.5)\n",
    "    adata_sample_copy = adata_sample_copy[:, adata_sample_copy.var['highly_variable']]\n",
    "    adata_sample_copy = adata_sample_copy.copy()\n",
    "    sc.pp.scale(adata_sample_copy, max_value=10)\n",
    "    sc.tl.pca(adata_sample_copy, svd_solver='arpack')\n",
    "    sc.pp.neighbors(adata_sample_copy)\n",
    "    \n",
    "    # overclustering proper - do basic clustering first, then cluster each cluster\n",
    "    sc.tl.louvain(adata_sample_copy)\n",
    "    for clus in np.unique(adata_sample_copy.obs['louvain']):\n",
    "        sc.tl.louvain(adata_sample_copy, restrict_to=('louvain',[clus]))\n",
    "        adata_sample_copy.obs['louvain'] = adata_sample_copy.obs['louvain_R']\n",
    "        \n",
    "    # compute the cluster scores - the median of Scrublet scores per overclustered cluster\n",
    "    for clus in np.unique(adata_sample_copy.obs['louvain']):\n",
    "        adata_sample_copy.obs.loc[adata_sample_copy.obs['louvain']==clus, 'scrublet_cluster_score'] = \\\n",
    "            np.median(adata_sample_copy.obs.loc[adata_sample_copy.obs['louvain']==clus, 'scrublet_score'])\n",
    "        \n",
    "    # now compute doublet p-values. figure out the median and mad (from above-median values) for the distribution\n",
    "    med = np.median(adata_sample_copy.obs['scrublet_cluster_score'])\n",
    "    mask = adata_sample_copy.obs['scrublet_cluster_score']>med\n",
    "    mad = np.median(adata_sample_copy.obs['scrublet_cluster_score'][mask]-med)\n",
    "    \n",
    "    #let's do a one-sided test. the Bertie write-up does not address this but it makes sense\n",
    "    pvals = 1-scipy.stats.norm.cdf(adata_sample_copy.obs['scrublet_cluster_score'], loc=med, scale=1.4826*mad)\n",
    "    adata_sample_copy.obs['bh_pval'] = bh(pvals)\n",
    "    \n",
    "    # getting calculated values to the initial object with raw count values\n",
    "    for col in scorenames:\n",
    "        adata_sample.obs[col] = adata_sample_copy.obs[col]\n",
    "    \n",
    "    return adata_sample.obs[scorenames]"
   ]
  },
  {
   "cell_type": "markdown",
   "metadata": {},
   "source": [
    "### Reading and preprocessing"
   ]
  },
  {
   "cell_type": "code",
   "execution_count": 7,
   "metadata": {},
   "outputs": [],
   "source": [
    "samples_experiment_1 = ['6044STDY8640561',\n",
    "                      '6044STDY8640562',\n",
    "                      '6044STDY8640563',\n",
    "                      '6044STDY8640564',\n",
    "                      '6044STDY8640565',\n",
    "                      '6044STDY8640566'\n",
    "                       ]\n",
    "\n",
    "samples_experiment_2 = ['Pla_Camb10123928',\n",
    "                        'Pla_Camb10123929',\n",
    "                        'Pla_Camb10123930',\n",
    "                        'Pla_Camb10123931',\n",
    "                        'Pla_Camb10123932',\n",
    "                        'Pla_Camb10123933',\n",
    "                        'Pla_Camb10123934',\n",
    "                        'Pla_Camb10123935'\n",
    "                       ]\n",
    "\n"
   ]
  },
  {
   "cell_type": "code",
   "execution_count": 8,
   "metadata": {},
   "outputs": [],
   "source": [
    "# Annotation / metadata\n",
    "sample_to_timepoint_cytokine_medium = {}\n",
    "\n",
    "# medium is either EVT medium or TOM (undifferentiated control)\n",
    "# in all samples there are 3 individuals multiplexed:\n",
    "# donors 0, 1 and 2 in experiment 1 samples\n",
    "# donors 3, 4, 5 in experiment 2 samples \n",
    "# I. e. no donors are shared between experiment 1 and 2\n",
    "\n",
    "sample_to_timepoint_cytokine_medium['6044STDY8640561'] = ['3H', 'no_cytokines', 'EVTM']\n",
    "sample_to_timepoint_cytokine_medium['6044STDY8640562'] = ['3H', 'cytokines', 'EVTM']\n",
    "sample_to_timepoint_cytokine_medium['6044STDY8640563'] = ['24H', 'no_cytokines', 'EVTM']\n",
    "sample_to_timepoint_cytokine_medium['6044STDY8640564'] = ['24H', 'cytokines', 'EVTM']\n",
    "sample_to_timepoint_cytokine_medium['6044STDY8640565'] = ['48H', 'no_cytokines', 'EVTM']\n",
    "sample_to_timepoint_cytokine_medium['6044STDY8640566'] = ['48H', 'cytokines', 'EVTM']\n",
    "\n",
    "\n",
    "sample_to_timepoint_cytokine_medium['Pla_Camb10123928'] = ['-48H', 'no_cytokines', 'EVTM']\n",
    "sample_to_timepoint_cytokine_medium['Pla_Camb10123929'] = ['0H', 'no_cytokines', 'EVTM']\n",
    "sample_to_timepoint_cytokine_medium['Pla_Camb10123930'] = ['48H', 'no_cytokines', 'EVTM']\n",
    "sample_to_timepoint_cytokine_medium['Pla_Camb10123931'] = ['48H', 'cytokines', 'EVTM']\n",
    "sample_to_timepoint_cytokine_medium['Pla_Camb10123932'] = ['96H', 'no_cytokines', 'EVTM']\n",
    "sample_to_timepoint_cytokine_medium['Pla_Camb10123933'] = ['96H', 'cytokines', 'EVTM']\n",
    "sample_to_timepoint_cytokine_medium['Pla_Camb10123934'] = ['96H', 'no_cytokines', 'TOM'] # TOM, undiff control\n",
    "sample_to_timepoint_cytokine_medium['Pla_Camb10123935'] = ['96H', 'cytokines', 'TOM'] # TOM, undiff control\n",
    "\n"
   ]
  },
  {
   "cell_type": "code",
   "execution_count": 1,
   "metadata": {
    "tags": []
   },
   "outputs": [
    {
     "ename": "NameError",
     "evalue": "name 'samples_experiment_1' is not defined",
     "output_type": "error",
     "traceback": [
      "\u001b[0;31m---------------------------------------------------------------------------\u001b[0m",
      "\u001b[0;31mNameError\u001b[0m                                 Traceback (most recent call last)",
      "\u001b[0;32m<timed exec>\u001b[0m in \u001b[0;36m<module>\u001b[0;34m\u001b[0m\n",
      "\u001b[0;31mNameError\u001b[0m: name 'samples_experiment_1' is not defined"
     ]
    }
   ],
   "source": [
    "%%time\n",
    "\n",
    "# to see how many cells cellranger called\n",
    "\n",
    "holder = []\n",
    "\n",
    "all_samples = samples_experiment_1 + samples_experiment_2 #+ samples_Roser\n",
    "\n",
    "for sample in all_samples:\n",
    "    print('sample', sample,\n",
    "          \"from scRNA-seq samples\", list(all_samples).index(sample)+1,\n",
    "          'out of', len(all_samples))\n",
    "    \n",
    "    if sample in samples_experiment_1:\n",
    "        path = '/lustre/scratch117/cellgen/team292/aa22/data/201911_troph_organoids_experiment_1_cellranger/cellranger302_count_32734_' + sample + '_GRCh38-3_0_0/filtered_feature_bc_matrix.h5'\n",
    "    elif sample in samples_experiment_2:\n",
    "        path = '/lustre/scratch117/cellgen/team292/aa22/data/202104_placental_organoids_experiment_2/cellranger302_count_37295_' + sample + '_GRCh38-3_0_0/filtered_feature_bc_matrix.h5'\n",
    "    \n",
    "    holder.append(sc.read_10x_h5(path))\n",
    "    \n",
    "    holder[-1].var_names_make_unique()\n",
    "    \n",
    "adata_count_cellranger = holder[0].concatenate(holder[1:],join='outer',index_unique=None)"
   ]
  },
  {
   "cell_type": "code",
   "execution_count": 10,
   "metadata": {},
   "outputs": [
    {
     "data": {
      "text/plain": [
       "AnnData object with n_obs × n_vars = 130400 × 33538\n",
       "    obs: 'batch'\n",
       "    var: 'gene_ids', 'feature_types', 'genome'"
      ]
     },
     "execution_count": 10,
     "metadata": {},
     "output_type": "execute_result"
    }
   ],
   "source": [
    "adata_count_cellranger"
   ]
  },
  {
   "cell_type": "markdown",
   "metadata": {},
   "source": [
    "This is happening in the cell below:\n",
    "- read the raw file (output of cellranger)\n",
    "- call doublets according to bertie doublet caller and adding all the scores\n",
    "- Filter: 1) cells (< 500 genes); 2) genes (< 3 cells); \n",
    "- Add %mt genes\n",
    "- Add relevant annotation info"
   ]
  },
  {
   "cell_type": "code",
   "execution_count": 11,
   "metadata": {
    "collapsed": true,
    "jupyter": {
     "outputs_hidden": true
    },
    "tags": []
   },
   "outputs": [
    {
     "name": "stderr",
     "output_type": "stream",
     "text": [
      "reading /home/jovyan/notebooks/Vento_Lab/Placental_Organoids/201911_experiment_1_pilot/rawdata/filtered_feature_bc_matrix_6044STDY8640561.h5\n"
     ]
    },
    {
     "name": "stdout",
     "output_type": "stream",
     "text": [
      "sample 6044STDY8640561 from scRNA-seq samples 1 out of 14\n"
     ]
    },
    {
     "name": "stderr",
     "output_type": "stream",
     "text": [
      "Variable names are not unique. To make them unique, call `.var_names_make_unique`.\n",
      " (0:00:00)\n",
      "Variable names are not unique. To make them unique, call `.var_names_make_unique`.\n",
      "filtered out 967 cells that have less than 200 genes expressed\n",
      "filtered out 14419 genes that are detected in less than 3 cells\n"
     ]
    },
    {
     "name": "stdout",
     "output_type": "stream",
     "text": [
      "going on to call doublets (write doublet scores into tables) with bertie\n"
     ]
    },
    {
     "name": "stderr",
     "output_type": "stream",
     "text": [
      "normalizing by total count per cell\n",
      "    finished (0:00:00): normalized adata.X and added    'n_counts', counts per cell before normalization (adata.obs)\n",
      "extracting highly variable genes\n",
      "    finished (0:00:00)\n",
      "--> added\n",
      "    'highly_variable', boolean vector (adata.var)\n",
      "    'means', float vector (adata.var)\n",
      "    'dispersions', float vector (adata.var)\n",
      "    'dispersions_norm', float vector (adata.var)\n",
      "... as `zero_center=True`, sparse input is densified and may lead to large memory consumption\n",
      "computing PCA\n",
      "    on highly variable genes\n",
      "    with n_comps=50\n",
      "    finished (0:00:10)\n",
      "computing neighbors\n",
      "    using 'X_pca' with n_pcs = 50\n",
      "    finished: added to `.uns['neighbors']`\n",
      "    `.obsp['distances']`, distances for each pair of neighbors\n",
      "    `.obsp['connectivities']`, weighted adjacency matrix (0:00:13)\n",
      "running Louvain clustering\n",
      "    using the \"louvain\" package of Traag (2017)\n",
      "    finished: found 16 clusters and added\n",
      "    'louvain', the cluster labels (adata.obs, categorical) (0:00:00)\n",
      "running Louvain clustering\n",
      "    using the \"louvain\" package of Traag (2017)\n",
      "    finished: found 24 clusters and added\n",
      "    'louvain_R', the cluster labels (adata.obs, categorical) (0:00:00)\n",
      "running Louvain clustering\n",
      "    using the \"louvain\" package of Traag (2017)\n",
      "    finished: found 30 clusters and added\n",
      "    'louvain_R', the cluster labels (adata.obs, categorical) (0:00:00)\n",
      "running Louvain clustering\n",
      "    using the \"louvain\" package of Traag (2017)\n",
      "    finished: found 35 clusters and added\n",
      "    'louvain_R', the cluster labels (adata.obs, categorical) (0:00:00)\n",
      "running Louvain clustering\n",
      "    using the \"louvain\" package of Traag (2017)\n",
      "    finished: found 41 clusters and added\n",
      "    'louvain_R', the cluster labels (adata.obs, categorical) (0:00:00)\n",
      "running Louvain clustering\n",
      "    using the \"louvain\" package of Traag (2017)\n",
      "    finished: found 45 clusters and added\n",
      "    'louvain_R', the cluster labels (adata.obs, categorical) (0:00:00)\n",
      "running Louvain clustering\n",
      "    using the \"louvain\" package of Traag (2017)\n",
      "    finished: found 50 clusters and added\n",
      "    'louvain_R', the cluster labels (adata.obs, categorical) (0:00:00)\n",
      "running Louvain clustering\n",
      "    using the \"louvain\" package of Traag (2017)\n",
      "    finished: found 53 clusters and added\n",
      "    'louvain_R', the cluster labels (adata.obs, categorical) (0:00:00)\n",
      "running Louvain clustering\n",
      "    using the \"louvain\" package of Traag (2017)\n",
      "    finished: found 56 clusters and added\n",
      "    'louvain_R', the cluster labels (adata.obs, categorical) (0:00:00)\n",
      "running Louvain clustering\n",
      "    using the \"louvain\" package of Traag (2017)\n",
      "    finished: found 63 clusters and added\n",
      "    'louvain_R', the cluster labels (adata.obs, categorical) (0:00:00)\n",
      "running Louvain clustering\n",
      "    using the \"louvain\" package of Traag (2017)\n",
      "    finished: found 71 clusters and added\n",
      "    'louvain_R', the cluster labels (adata.obs, categorical) (0:00:00)\n",
      "running Louvain clustering\n",
      "    using the \"louvain\" package of Traag (2017)\n",
      "    finished: found 80 clusters and added\n",
      "    'louvain_R', the cluster labels (adata.obs, categorical) (0:00:00)\n",
      "running Louvain clustering\n",
      "    using the \"louvain\" package of Traag (2017)\n",
      "    finished: found 86 clusters and added\n",
      "    'louvain_R', the cluster labels (adata.obs, categorical) (0:00:00)\n",
      "running Louvain clustering\n",
      "    using the \"louvain\" package of Traag (2017)\n",
      "    finished: found 93 clusters and added\n",
      "    'louvain_R', the cluster labels (adata.obs, categorical) (0:00:00)\n",
      "running Louvain clustering\n",
      "    using the \"louvain\" package of Traag (2017)\n",
      "    finished: found 99 clusters and added\n",
      "    'louvain_R', the cluster labels (adata.obs, categorical) (0:00:00)\n",
      "running Louvain clustering\n",
      "    using the \"louvain\" package of Traag (2017)\n",
      "    finished: found 105 clusters and added\n",
      "    'louvain_R', the cluster labels (adata.obs, categorical) (0:00:00)\n",
      "running Louvain clustering\n",
      "    using the \"louvain\" package of Traag (2017)\n",
      "    finished: found 111 clusters and added\n",
      "    'louvain_R', the cluster labels (adata.obs, categorical) (0:00:00)\n",
      "reading /home/jovyan/notebooks/Vento_Lab/Placental_Organoids/201911_experiment_1_pilot/rawdata/filtered_feature_bc_matrix_6044STDY8640562.h5\n"
     ]
    },
    {
     "name": "stdout",
     "output_type": "stream",
     "text": [
      "indices in current bertie table and sample adata are matching, assigning scores\n",
      "sample 6044STDY8640562 from scRNA-seq samples 2 out of 14\n"
     ]
    },
    {
     "name": "stderr",
     "output_type": "stream",
     "text": [
      "Variable names are not unique. To make them unique, call `.var_names_make_unique`.\n",
      " (0:00:01)\n",
      "Variable names are not unique. To make them unique, call `.var_names_make_unique`.\n",
      "filtered out 35 cells that have less than 200 genes expressed\n",
      "filtered out 13668 genes that are detected in less than 3 cells\n"
     ]
    },
    {
     "name": "stdout",
     "output_type": "stream",
     "text": [
      "going on to call doublets (write doublet scores into tables) with bertie\n"
     ]
    },
    {
     "name": "stderr",
     "output_type": "stream",
     "text": [
      "normalizing by total count per cell\n",
      "    finished (0:00:00): normalized adata.X and added    'n_counts', counts per cell before normalization (adata.obs)\n",
      "extracting highly variable genes\n",
      "    finished (0:00:00)\n",
      "--> added\n",
      "    'highly_variable', boolean vector (adata.var)\n",
      "    'means', float vector (adata.var)\n",
      "    'dispersions', float vector (adata.var)\n",
      "    'dispersions_norm', float vector (adata.var)\n",
      "... as `zero_center=True`, sparse input is densified and may lead to large memory consumption\n",
      "computing PCA\n",
      "    on highly variable genes\n",
      "    with n_comps=50\n",
      "    finished (0:00:16)\n",
      "computing neighbors\n",
      "    using 'X_pca' with n_pcs = 50\n",
      "    finished: added to `.uns['neighbors']`\n",
      "    `.obsp['distances']`, distances for each pair of neighbors\n",
      "    `.obsp['connectivities']`, weighted adjacency matrix (0:00:01)\n",
      "running Louvain clustering\n",
      "    using the \"louvain\" package of Traag (2017)\n",
      "    finished: found 16 clusters and added\n",
      "    'louvain', the cluster labels (adata.obs, categorical) (0:00:00)\n",
      "running Louvain clustering\n",
      "    using the \"louvain\" package of Traag (2017)\n",
      "    finished: found 23 clusters and added\n",
      "    'louvain_R', the cluster labels (adata.obs, categorical) (0:00:00)\n",
      "running Louvain clustering\n",
      "    using the \"louvain\" package of Traag (2017)\n",
      "    finished: found 29 clusters and added\n",
      "    'louvain_R', the cluster labels (adata.obs, categorical) (0:00:00)\n",
      "running Louvain clustering\n",
      "    using the \"louvain\" package of Traag (2017)\n",
      "    finished: found 35 clusters and added\n",
      "    'louvain_R', the cluster labels (adata.obs, categorical) (0:00:00)\n",
      "running Louvain clustering\n",
      "    using the \"louvain\" package of Traag (2017)\n",
      "    finished: found 42 clusters and added\n",
      "    'louvain_R', the cluster labels (adata.obs, categorical) (0:00:00)\n",
      "running Louvain clustering\n",
      "    using the \"louvain\" package of Traag (2017)\n",
      "    finished: found 48 clusters and added\n",
      "    'louvain_R', the cluster labels (adata.obs, categorical) (0:00:00)\n",
      "running Louvain clustering\n",
      "    using the \"louvain\" package of Traag (2017)\n",
      "    finished: found 55 clusters and added\n",
      "    'louvain_R', the cluster labels (adata.obs, categorical) (0:00:00)\n",
      "running Louvain clustering\n",
      "    using the \"louvain\" package of Traag (2017)\n",
      "    finished: found 58 clusters and added\n",
      "    'louvain_R', the cluster labels (adata.obs, categorical) (0:00:00)\n",
      "running Louvain clustering\n",
      "    using the \"louvain\" package of Traag (2017)\n",
      "    finished: found 58 clusters and added\n",
      "    'louvain_R', the cluster labels (adata.obs, categorical) (0:00:00)\n",
      "running Louvain clustering\n",
      "    using the \"louvain\" package of Traag (2017)\n",
      "    finished: found 64 clusters and added\n",
      "    'louvain_R', the cluster labels (adata.obs, categorical) (0:00:00)\n",
      "running Louvain clustering\n",
      "    using the \"louvain\" package of Traag (2017)\n",
      "    finished: found 73 clusters and added\n",
      "    'louvain_R', the cluster labels (adata.obs, categorical) (0:00:00)\n",
      "running Louvain clustering\n",
      "    using the \"louvain\" package of Traag (2017)\n",
      "    finished: found 79 clusters and added\n",
      "    'louvain_R', the cluster labels (adata.obs, categorical) (0:00:00)\n",
      "running Louvain clustering\n",
      "    using the \"louvain\" package of Traag (2017)\n",
      "    finished: found 88 clusters and added\n",
      "    'louvain_R', the cluster labels (adata.obs, categorical) (0:00:00)\n",
      "running Louvain clustering\n",
      "    using the \"louvain\" package of Traag (2017)\n",
      "    finished: found 94 clusters and added\n",
      "    'louvain_R', the cluster labels (adata.obs, categorical) (0:00:00)\n",
      "running Louvain clustering\n",
      "    using the \"louvain\" package of Traag (2017)\n",
      "    finished: found 101 clusters and added\n",
      "    'louvain_R', the cluster labels (adata.obs, categorical) (0:00:00)\n",
      "running Louvain clustering\n",
      "    using the \"louvain\" package of Traag (2017)\n",
      "    finished: found 107 clusters and added\n",
      "    'louvain_R', the cluster labels (adata.obs, categorical) (0:00:00)\n",
      "running Louvain clustering\n",
      "    using the \"louvain\" package of Traag (2017)\n",
      "    finished: found 113 clusters and added\n",
      "    'louvain_R', the cluster labels (adata.obs, categorical) (0:00:00)\n",
      "reading /home/jovyan/notebooks/Vento_Lab/Placental_Organoids/201911_experiment_1_pilot/rawdata/filtered_feature_bc_matrix_6044STDY8640563.h5\n"
     ]
    },
    {
     "name": "stdout",
     "output_type": "stream",
     "text": [
      "indices in current bertie table and sample adata are matching, assigning scores\n",
      "sample 6044STDY8640563 from scRNA-seq samples 3 out of 14\n"
     ]
    },
    {
     "name": "stderr",
     "output_type": "stream",
     "text": [
      "Variable names are not unique. To make them unique, call `.var_names_make_unique`.\n",
      " (0:00:01)\n",
      "Variable names are not unique. To make them unique, call `.var_names_make_unique`.\n",
      "filtered out 522 cells that have less than 200 genes expressed\n",
      "filtered out 13990 genes that are detected in less than 3 cells\n"
     ]
    },
    {
     "name": "stdout",
     "output_type": "stream",
     "text": [
      "going on to call doublets (write doublet scores into tables) with bertie\n"
     ]
    },
    {
     "name": "stderr",
     "output_type": "stream",
     "text": [
      "normalizing by total count per cell\n",
      "    finished (0:00:00): normalized adata.X and added    'n_counts', counts per cell before normalization (adata.obs)\n",
      "extracting highly variable genes\n",
      "    finished (0:00:00)\n",
      "--> added\n",
      "    'highly_variable', boolean vector (adata.var)\n",
      "    'means', float vector (adata.var)\n",
      "    'dispersions', float vector (adata.var)\n",
      "    'dispersions_norm', float vector (adata.var)\n",
      "... as `zero_center=True`, sparse input is densified and may lead to large memory consumption\n",
      "computing PCA\n",
      "    on highly variable genes\n",
      "    with n_comps=50\n",
      "    finished (0:00:13)\n",
      "computing neighbors\n",
      "    using 'X_pca' with n_pcs = 50\n",
      "    finished: added to `.uns['neighbors']`\n",
      "    `.obsp['distances']`, distances for each pair of neighbors\n",
      "    `.obsp['connectivities']`, weighted adjacency matrix (0:00:01)\n",
      "running Louvain clustering\n",
      "    using the \"louvain\" package of Traag (2017)\n",
      "    finished: found 16 clusters and added\n",
      "    'louvain', the cluster labels (adata.obs, categorical) (0:00:00)\n",
      "running Louvain clustering\n",
      "    using the \"louvain\" package of Traag (2017)\n",
      "    finished: found 23 clusters and added\n",
      "    'louvain_R', the cluster labels (adata.obs, categorical) (0:00:00)\n",
      "running Louvain clustering\n",
      "    using the \"louvain\" package of Traag (2017)\n",
      "    finished: found 31 clusters and added\n",
      "    'louvain_R', the cluster labels (adata.obs, categorical) (0:00:00)\n",
      "running Louvain clustering\n",
      "    using the \"louvain\" package of Traag (2017)\n",
      "    finished: found 38 clusters and added\n",
      "    'louvain_R', the cluster labels (adata.obs, categorical) (0:00:00)\n",
      "running Louvain clustering\n",
      "    using the \"louvain\" package of Traag (2017)\n",
      "    finished: found 45 clusters and added\n",
      "    'louvain_R', the cluster labels (adata.obs, categorical) (0:00:00)\n",
      "running Louvain clustering\n",
      "    using the \"louvain\" package of Traag (2017)\n",
      "    finished: found 52 clusters and added\n",
      "    'louvain_R', the cluster labels (adata.obs, categorical) (0:00:00)\n",
      "running Louvain clustering\n",
      "    using the \"louvain\" package of Traag (2017)\n",
      "    finished: found 58 clusters and added\n",
      "    'louvain_R', the cluster labels (adata.obs, categorical) (0:00:00)\n",
      "running Louvain clustering\n",
      "    using the \"louvain\" package of Traag (2017)\n",
      "    finished: found 63 clusters and added\n",
      "    'louvain_R', the cluster labels (adata.obs, categorical) (0:00:00)\n",
      "running Louvain clustering\n",
      "    using the \"louvain\" package of Traag (2017)\n",
      "    finished: found 68 clusters and added\n",
      "    'louvain_R', the cluster labels (adata.obs, categorical) (0:00:00)\n",
      "running Louvain clustering\n",
      "    using the \"louvain\" package of Traag (2017)\n",
      "    finished: found 74 clusters and added\n",
      "    'louvain_R', the cluster labels (adata.obs, categorical) (0:00:00)\n",
      "running Louvain clustering\n",
      "    using the \"louvain\" package of Traag (2017)\n",
      "    finished: found 80 clusters and added\n",
      "    'louvain_R', the cluster labels (adata.obs, categorical) (0:00:00)\n",
      "running Louvain clustering\n",
      "    using the \"louvain\" package of Traag (2017)\n",
      "    finished: found 88 clusters and added\n",
      "    'louvain_R', the cluster labels (adata.obs, categorical) (0:00:00)\n",
      "running Louvain clustering\n",
      "    using the \"louvain\" package of Traag (2017)\n",
      "    finished: found 96 clusters and added\n",
      "    'louvain_R', the cluster labels (adata.obs, categorical) (0:00:00)\n",
      "running Louvain clustering\n",
      "    using the \"louvain\" package of Traag (2017)\n",
      "    finished: found 103 clusters and added\n",
      "    'louvain_R', the cluster labels (adata.obs, categorical) (0:00:00)\n",
      "running Louvain clustering\n",
      "    using the \"louvain\" package of Traag (2017)\n",
      "    finished: found 110 clusters and added\n",
      "    'louvain_R', the cluster labels (adata.obs, categorical) (0:00:00)\n",
      "running Louvain clustering\n",
      "    using the \"louvain\" package of Traag (2017)\n",
      "    finished: found 115 clusters and added\n",
      "    'louvain_R', the cluster labels (adata.obs, categorical) (0:00:00)\n",
      "running Louvain clustering\n",
      "    using the \"louvain\" package of Traag (2017)\n",
      "    finished: found 121 clusters and added\n",
      "    'louvain_R', the cluster labels (adata.obs, categorical) (0:00:00)\n",
      "reading /home/jovyan/notebooks/Vento_Lab/Placental_Organoids/201911_experiment_1_pilot/rawdata/filtered_feature_bc_matrix_6044STDY8640564.h5\n"
     ]
    },
    {
     "name": "stdout",
     "output_type": "stream",
     "text": [
      "indices in current bertie table and sample adata are matching, assigning scores\n",
      "sample 6044STDY8640564 from scRNA-seq samples 4 out of 14\n"
     ]
    },
    {
     "name": "stderr",
     "output_type": "stream",
     "text": [
      "Variable names are not unique. To make them unique, call `.var_names_make_unique`.\n",
      " (0:00:01)\n",
      "Variable names are not unique. To make them unique, call `.var_names_make_unique`.\n",
      "filtered out 599 cells that have less than 200 genes expressed\n",
      "filtered out 13686 genes that are detected in less than 3 cells\n"
     ]
    },
    {
     "name": "stdout",
     "output_type": "stream",
     "text": [
      "going on to call doublets (write doublet scores into tables) with bertie\n"
     ]
    },
    {
     "name": "stderr",
     "output_type": "stream",
     "text": [
      "normalizing by total count per cell\n",
      "    finished (0:00:00): normalized adata.X and added    'n_counts', counts per cell before normalization (adata.obs)\n",
      "extracting highly variable genes\n",
      "    finished (0:00:00)\n",
      "--> added\n",
      "    'highly_variable', boolean vector (adata.var)\n",
      "    'means', float vector (adata.var)\n",
      "    'dispersions', float vector (adata.var)\n",
      "    'dispersions_norm', float vector (adata.var)\n",
      "... as `zero_center=True`, sparse input is densified and may lead to large memory consumption\n",
      "computing PCA\n",
      "    on highly variable genes\n",
      "    with n_comps=50\n",
      "    finished (0:00:13)\n",
      "computing neighbors\n",
      "    using 'X_pca' with n_pcs = 50\n",
      "    finished: added to `.uns['neighbors']`\n",
      "    `.obsp['distances']`, distances for each pair of neighbors\n",
      "    `.obsp['connectivities']`, weighted adjacency matrix (0:00:01)\n",
      "running Louvain clustering\n",
      "    using the \"louvain\" package of Traag (2017)\n",
      "    finished: found 15 clusters and added\n",
      "    'louvain', the cluster labels (adata.obs, categorical) (0:00:00)\n",
      "running Louvain clustering\n",
      "    using the \"louvain\" package of Traag (2017)\n",
      "    finished: found 22 clusters and added\n",
      "    'louvain_R', the cluster labels (adata.obs, categorical) (0:00:00)\n",
      "running Louvain clustering\n",
      "    using the \"louvain\" package of Traag (2017)\n",
      "    finished: found 30 clusters and added\n",
      "    'louvain_R', the cluster labels (adata.obs, categorical) (0:00:00)\n",
      "running Louvain clustering\n",
      "    using the \"louvain\" package of Traag (2017)\n",
      "    finished: found 37 clusters and added\n",
      "    'louvain_R', the cluster labels (adata.obs, categorical) (0:00:00)\n",
      "running Louvain clustering\n",
      "    using the \"louvain\" package of Traag (2017)\n",
      "    finished: found 44 clusters and added\n",
      "    'louvain_R', the cluster labels (adata.obs, categorical) (0:00:00)\n",
      "running Louvain clustering\n",
      "    using the \"louvain\" package of Traag (2017)\n",
      "    finished: found 50 clusters and added\n",
      "    'louvain_R', the cluster labels (adata.obs, categorical) (0:00:00)\n",
      "running Louvain clustering\n",
      "    using the \"louvain\" package of Traag (2017)\n",
      "    finished: found 53 clusters and added\n",
      "    'louvain_R', the cluster labels (adata.obs, categorical) (0:00:00)\n",
      "running Louvain clustering\n",
      "    using the \"louvain\" package of Traag (2017)\n",
      "    finished: found 57 clusters and added\n",
      "    'louvain_R', the cluster labels (adata.obs, categorical) (0:00:00)\n",
      "running Louvain clustering\n",
      "    using the \"louvain\" package of Traag (2017)\n",
      "    finished: found 64 clusters and added\n",
      "    'louvain_R', the cluster labels (adata.obs, categorical) (0:00:00)\n",
      "running Louvain clustering\n",
      "    using the \"louvain\" package of Traag (2017)\n",
      "    finished: found 71 clusters and added\n",
      "    'louvain_R', the cluster labels (adata.obs, categorical) (0:00:00)\n",
      "running Louvain clustering\n",
      "    using the \"louvain\" package of Traag (2017)\n",
      "    finished: found 79 clusters and added\n",
      "    'louvain_R', the cluster labels (adata.obs, categorical) (0:00:00)\n",
      "running Louvain clustering\n",
      "    using the \"louvain\" package of Traag (2017)\n",
      "    finished: found 88 clusters and added\n",
      "    'louvain_R', the cluster labels (adata.obs, categorical) (0:00:00)\n",
      "running Louvain clustering\n",
      "    using the \"louvain\" package of Traag (2017)\n",
      "    finished: found 96 clusters and added\n",
      "    'louvain_R', the cluster labels (adata.obs, categorical) (0:00:00)\n",
      "running Louvain clustering\n",
      "    using the \"louvain\" package of Traag (2017)\n",
      "    finished: found 103 clusters and added\n",
      "    'louvain_R', the cluster labels (adata.obs, categorical) (0:00:00)\n",
      "running Louvain clustering\n",
      "    using the \"louvain\" package of Traag (2017)\n",
      "    finished: found 111 clusters and added\n",
      "    'louvain_R', the cluster labels (adata.obs, categorical) (0:00:00)\n",
      "running Louvain clustering\n",
      "    using the \"louvain\" package of Traag (2017)\n",
      "    finished: found 119 clusters and added\n",
      "    'louvain_R', the cluster labels (adata.obs, categorical) (0:00:00)\n",
      "reading /home/jovyan/notebooks/Vento_Lab/Placental_Organoids/201911_experiment_1_pilot/rawdata/filtered_feature_bc_matrix_6044STDY8640565.h5\n"
     ]
    },
    {
     "name": "stdout",
     "output_type": "stream",
     "text": [
      "indices in current bertie table and sample adata are matching, assigning scores\n",
      "sample 6044STDY8640565 from scRNA-seq samples 5 out of 14\n"
     ]
    },
    {
     "name": "stderr",
     "output_type": "stream",
     "text": [
      "Variable names are not unique. To make them unique, call `.var_names_make_unique`.\n",
      " (0:00:01)\n",
      "Variable names are not unique. To make them unique, call `.var_names_make_unique`.\n",
      "filtered out 265 cells that have less than 200 genes expressed\n",
      "filtered out 13882 genes that are detected in less than 3 cells\n"
     ]
    },
    {
     "name": "stdout",
     "output_type": "stream",
     "text": [
      "going on to call doublets (write doublet scores into tables) with bertie\n"
     ]
    },
    {
     "name": "stderr",
     "output_type": "stream",
     "text": [
      "normalizing by total count per cell\n",
      "    finished (0:00:00): normalized adata.X and added    'n_counts', counts per cell before normalization (adata.obs)\n",
      "extracting highly variable genes\n",
      "    finished (0:00:00)\n",
      "--> added\n",
      "    'highly_variable', boolean vector (adata.var)\n",
      "    'means', float vector (adata.var)\n",
      "    'dispersions', float vector (adata.var)\n",
      "    'dispersions_norm', float vector (adata.var)\n",
      "... as `zero_center=True`, sparse input is densified and may lead to large memory consumption\n",
      "computing PCA\n",
      "    on highly variable genes\n",
      "    with n_comps=50\n",
      "    finished (0:00:14)\n",
      "computing neighbors\n",
      "    using 'X_pca' with n_pcs = 50\n",
      "    finished: added to `.uns['neighbors']`\n",
      "    `.obsp['distances']`, distances for each pair of neighbors\n",
      "    `.obsp['connectivities']`, weighted adjacency matrix (0:00:01)\n",
      "running Louvain clustering\n",
      "    using the \"louvain\" package of Traag (2017)\n",
      "    finished: found 16 clusters and added\n",
      "    'louvain', the cluster labels (adata.obs, categorical) (0:00:00)\n",
      "running Louvain clustering\n",
      "    using the \"louvain\" package of Traag (2017)\n",
      "    finished: found 22 clusters and added\n",
      "    'louvain_R', the cluster labels (adata.obs, categorical) (0:00:00)\n",
      "running Louvain clustering\n",
      "    using the \"louvain\" package of Traag (2017)\n",
      "    finished: found 28 clusters and added\n",
      "    'louvain_R', the cluster labels (adata.obs, categorical) (0:00:00)\n",
      "running Louvain clustering\n",
      "    using the \"louvain\" package of Traag (2017)\n",
      "    finished: found 33 clusters and added\n",
      "    'louvain_R', the cluster labels (adata.obs, categorical) (0:00:00)\n",
      "running Louvain clustering\n",
      "    using the \"louvain\" package of Traag (2017)\n",
      "    finished: found 40 clusters and added\n",
      "    'louvain_R', the cluster labels (adata.obs, categorical) (0:00:00)\n",
      "running Louvain clustering\n",
      "    using the \"louvain\" package of Traag (2017)\n",
      "    finished: found 47 clusters and added\n",
      "    'louvain_R', the cluster labels (adata.obs, categorical) (0:00:00)\n",
      "running Louvain clustering\n",
      "    using the \"louvain\" package of Traag (2017)\n",
      "    finished: found 51 clusters and added\n",
      "    'louvain_R', the cluster labels (adata.obs, categorical) (0:00:00)\n",
      "running Louvain clustering\n",
      "    using the \"louvain\" package of Traag (2017)\n",
      "    finished: found 55 clusters and added\n",
      "    'louvain_R', the cluster labels (adata.obs, categorical) (0:00:00)\n",
      "running Louvain clustering\n",
      "    using the \"louvain\" package of Traag (2017)\n",
      "    finished: found 57 clusters and added\n",
      "    'louvain_R', the cluster labels (adata.obs, categorical) (0:00:00)\n",
      "running Louvain clustering\n",
      "    using the \"louvain\" package of Traag (2017)\n",
      "    finished: found 65 clusters and added\n",
      "    'louvain_R', the cluster labels (adata.obs, categorical) (0:00:00)\n",
      "running Louvain clustering\n",
      "    using the \"louvain\" package of Traag (2017)\n",
      "    finished: found 72 clusters and added\n",
      "    'louvain_R', the cluster labels (adata.obs, categorical) (0:00:00)\n",
      "running Louvain clustering\n",
      "    using the \"louvain\" package of Traag (2017)\n",
      "    finished: found 82 clusters and added\n",
      "    'louvain_R', the cluster labels (adata.obs, categorical) (0:00:00)\n",
      "running Louvain clustering\n",
      "    using the \"louvain\" package of Traag (2017)\n",
      "    finished: found 89 clusters and added\n",
      "    'louvain_R', the cluster labels (adata.obs, categorical) (0:00:00)\n",
      "running Louvain clustering\n",
      "    using the \"louvain\" package of Traag (2017)\n",
      "    finished: found 96 clusters and added\n",
      "    'louvain_R', the cluster labels (adata.obs, categorical) (0:00:00)\n",
      "running Louvain clustering\n",
      "    using the \"louvain\" package of Traag (2017)\n",
      "    finished: found 102 clusters and added\n",
      "    'louvain_R', the cluster labels (adata.obs, categorical) (0:00:00)\n",
      "running Louvain clustering\n",
      "    using the \"louvain\" package of Traag (2017)\n",
      "    finished: found 109 clusters and added\n",
      "    'louvain_R', the cluster labels (adata.obs, categorical) (0:00:00)\n",
      "running Louvain clustering\n",
      "    using the \"louvain\" package of Traag (2017)\n",
      "    finished: found 116 clusters and added\n",
      "    'louvain_R', the cluster labels (adata.obs, categorical) (0:00:00)\n",
      "reading /home/jovyan/notebooks/Vento_Lab/Placental_Organoids/201911_experiment_1_pilot/rawdata/filtered_feature_bc_matrix_6044STDY8640566.h5\n"
     ]
    },
    {
     "name": "stdout",
     "output_type": "stream",
     "text": [
      "indices in current bertie table and sample adata are matching, assigning scores\n",
      "sample 6044STDY8640566 from scRNA-seq samples 6 out of 14\n"
     ]
    },
    {
     "name": "stderr",
     "output_type": "stream",
     "text": [
      "Variable names are not unique. To make them unique, call `.var_names_make_unique`.\n",
      " (0:00:01)\n",
      "Variable names are not unique. To make them unique, call `.var_names_make_unique`.\n",
      "filtered out 720 cells that have less than 200 genes expressed\n",
      "filtered out 14188 genes that are detected in less than 3 cells\n"
     ]
    },
    {
     "name": "stdout",
     "output_type": "stream",
     "text": [
      "going on to call doublets (write doublet scores into tables) with bertie\n"
     ]
    },
    {
     "name": "stderr",
     "output_type": "stream",
     "text": [
      "normalizing by total count per cell\n",
      "    finished (0:00:00): normalized adata.X and added    'n_counts', counts per cell before normalization (adata.obs)\n",
      "extracting highly variable genes\n",
      "    finished (0:00:00)\n",
      "--> added\n",
      "    'highly_variable', boolean vector (adata.var)\n",
      "    'means', float vector (adata.var)\n",
      "    'dispersions', float vector (adata.var)\n",
      "    'dispersions_norm', float vector (adata.var)\n",
      "... as `zero_center=True`, sparse input is densified and may lead to large memory consumption\n",
      "computing PCA\n",
      "    on highly variable genes\n",
      "    with n_comps=50\n",
      "    finished (0:00:14)\n",
      "computing neighbors\n",
      "    using 'X_pca' with n_pcs = 50\n",
      "    finished: added to `.uns['neighbors']`\n",
      "    `.obsp['distances']`, distances for each pair of neighbors\n",
      "    `.obsp['connectivities']`, weighted adjacency matrix (0:00:01)\n",
      "running Louvain clustering\n",
      "    using the \"louvain\" package of Traag (2017)\n",
      "    finished: found 14 clusters and added\n",
      "    'louvain', the cluster labels (adata.obs, categorical) (0:00:00)\n",
      "running Louvain clustering\n",
      "    using the \"louvain\" package of Traag (2017)\n",
      "    finished: found 23 clusters and added\n",
      "    'louvain_R', the cluster labels (adata.obs, categorical) (0:00:00)\n",
      "running Louvain clustering\n",
      "    using the \"louvain\" package of Traag (2017)\n",
      "    finished: found 31 clusters and added\n",
      "    'louvain_R', the cluster labels (adata.obs, categorical) (0:00:00)\n",
      "running Louvain clustering\n",
      "    using the \"louvain\" package of Traag (2017)\n",
      "    finished: found 36 clusters and added\n",
      "    'louvain_R', the cluster labels (adata.obs, categorical) (0:00:00)\n",
      "running Louvain clustering\n",
      "    using the \"louvain\" package of Traag (2017)\n",
      "    finished: found 43 clusters and added\n",
      "    'louvain_R', the cluster labels (adata.obs, categorical) (0:00:00)\n",
      "running Louvain clustering\n",
      "    using the \"louvain\" package of Traag (2017)\n",
      "    finished: found 48 clusters and added\n",
      "    'louvain_R', the cluster labels (adata.obs, categorical) (0:00:00)\n",
      "running Louvain clustering\n",
      "    using the \"louvain\" package of Traag (2017)\n",
      "    finished: found 53 clusters and added\n",
      "    'louvain_R', the cluster labels (adata.obs, categorical) (0:00:00)\n",
      "running Louvain clustering\n",
      "    using the \"louvain\" package of Traag (2017)\n",
      "    finished: found 61 clusters and added\n",
      "    'louvain_R', the cluster labels (adata.obs, categorical) (0:00:00)\n",
      "running Louvain clustering\n",
      "    using the \"louvain\" package of Traag (2017)\n",
      "    finished: found 70 clusters and added\n",
      "    'louvain_R', the cluster labels (adata.obs, categorical) (0:00:00)\n",
      "running Louvain clustering\n",
      "    using the \"louvain\" package of Traag (2017)\n",
      "    finished: found 75 clusters and added\n",
      "    'louvain_R', the cluster labels (adata.obs, categorical) (0:00:00)\n",
      "running Louvain clustering\n",
      "    using the \"louvain\" package of Traag (2017)\n",
      "    finished: found 81 clusters and added\n",
      "    'louvain_R', the cluster labels (adata.obs, categorical) (0:00:00)\n",
      "running Louvain clustering\n",
      "    using the \"louvain\" package of Traag (2017)\n",
      "    finished: found 89 clusters and added\n",
      "    'louvain_R', the cluster labels (adata.obs, categorical) (0:00:00)\n",
      "running Louvain clustering\n",
      "    using the \"louvain\" package of Traag (2017)\n",
      "    finished: found 96 clusters and added\n",
      "    'louvain_R', the cluster labels (adata.obs, categorical) (0:00:00)\n",
      "running Louvain clustering\n",
      "    using the \"louvain\" package of Traag (2017)\n",
      "    finished: found 103 clusters and added\n",
      "    'louvain_R', the cluster labels (adata.obs, categorical) (0:00:00)\n",
      "running Louvain clustering\n",
      "    using the \"louvain\" package of Traag (2017)\n",
      "    finished: found 109 clusters and added\n",
      "    'louvain_R', the cluster labels (adata.obs, categorical) (0:00:00)\n",
      "reading /lustre/scratch117/cellgen/team292/aa22/data/202104_placental_organoids_experiment_2/cellranger302_count_37295_Pla_Camb10123928_GRCh38-3_0_0/filtered_feature_bc_matrix.h5\n"
     ]
    },
    {
     "name": "stdout",
     "output_type": "stream",
     "text": [
      "indices in current bertie table and sample adata are matching, assigning scores\n",
      "sample Pla_Camb10123928 from scRNA-seq samples 7 out of 14\n"
     ]
    },
    {
     "name": "stderr",
     "output_type": "stream",
     "text": [
      "Variable names are not unique. To make them unique, call `.var_names_make_unique`.\n",
      " (0:00:01)\n",
      "Variable names are not unique. To make them unique, call `.var_names_make_unique`.\n",
      "filtered out 7 cells that have less than 200 genes expressed\n",
      "filtered out 14043 genes that are detected in less than 3 cells\n"
     ]
    },
    {
     "name": "stdout",
     "output_type": "stream",
     "text": [
      "going on to call doublets (write doublet scores into tables) with bertie\n"
     ]
    },
    {
     "name": "stderr",
     "output_type": "stream",
     "text": [
      "normalizing by total count per cell\n",
      "    finished (0:00:00): normalized adata.X and added    'n_counts', counts per cell before normalization (adata.obs)\n",
      "extracting highly variable genes\n",
      "    finished (0:00:00)\n",
      "--> added\n",
      "    'highly_variable', boolean vector (adata.var)\n",
      "    'means', float vector (adata.var)\n",
      "    'dispersions', float vector (adata.var)\n",
      "    'dispersions_norm', float vector (adata.var)\n",
      "... as `zero_center=True`, sparse input is densified and may lead to large memory consumption\n",
      "computing PCA\n",
      "    on highly variable genes\n",
      "    with n_comps=50\n",
      "    finished (0:00:09)\n",
      "computing neighbors\n",
      "    using 'X_pca' with n_pcs = 50\n",
      "    finished: added to `.uns['neighbors']`\n",
      "    `.obsp['distances']`, distances for each pair of neighbors\n",
      "    `.obsp['connectivities']`, weighted adjacency matrix (0:00:01)\n",
      "running Louvain clustering\n",
      "    using the \"louvain\" package of Traag (2017)\n",
      "    finished: found 11 clusters and added\n",
      "    'louvain', the cluster labels (adata.obs, categorical) (0:00:00)\n",
      "running Louvain clustering\n",
      "    using the \"louvain\" package of Traag (2017)\n",
      "    finished: found 16 clusters and added\n",
      "    'louvain_R', the cluster labels (adata.obs, categorical) (0:00:00)\n",
      "running Louvain clustering\n",
      "    using the \"louvain\" package of Traag (2017)\n",
      "    finished: found 22 clusters and added\n",
      "    'louvain_R', the cluster labels (adata.obs, categorical) (0:00:00)\n",
      "running Louvain clustering\n",
      "    using the \"louvain\" package of Traag (2017)\n",
      "    finished: found 25 clusters and added\n",
      "    'louvain_R', the cluster labels (adata.obs, categorical) (0:00:00)\n",
      "running Louvain clustering\n",
      "    using the \"louvain\" package of Traag (2017)\n",
      "    finished: found 33 clusters and added\n",
      "    'louvain_R', the cluster labels (adata.obs, categorical) (0:00:00)\n",
      "running Louvain clustering\n",
      "    using the \"louvain\" package of Traag (2017)\n",
      "    finished: found 39 clusters and added\n",
      "    'louvain_R', the cluster labels (adata.obs, categorical) (0:00:00)\n",
      "running Louvain clustering\n",
      "    using the \"louvain\" package of Traag (2017)\n",
      "    finished: found 44 clusters and added\n",
      "    'louvain_R', the cluster labels (adata.obs, categorical) (0:00:00)\n",
      "running Louvain clustering\n",
      "    using the \"louvain\" package of Traag (2017)\n",
      "    finished: found 50 clusters and added\n",
      "    'louvain_R', the cluster labels (adata.obs, categorical) (0:00:00)\n",
      "running Louvain clustering\n",
      "    using the \"louvain\" package of Traag (2017)\n",
      "    finished: found 53 clusters and added\n",
      "    'louvain_R', the cluster labels (adata.obs, categorical) (0:00:00)\n",
      "running Louvain clustering\n",
      "    using the \"louvain\" package of Traag (2017)\n",
      "    finished: found 57 clusters and added\n",
      "    'louvain_R', the cluster labels (adata.obs, categorical) (0:00:00)\n",
      "running Louvain clustering\n",
      "    using the \"louvain\" package of Traag (2017)\n",
      "    finished: found 62 clusters and added\n",
      "    'louvain_R', the cluster labels (adata.obs, categorical) (0:00:00)\n",
      "running Louvain clustering\n",
      "    using the \"louvain\" package of Traag (2017)\n",
      "    finished: found 67 clusters and added\n",
      "    'louvain_R', the cluster labels (adata.obs, categorical) (0:00:00)\n",
      "reading /lustre/scratch117/cellgen/team292/aa22/data/202104_placental_organoids_experiment_2/cellranger302_count_37295_Pla_Camb10123929_GRCh38-3_0_0/filtered_feature_bc_matrix.h5\n"
     ]
    },
    {
     "name": "stdout",
     "output_type": "stream",
     "text": [
      "indices in current bertie table and sample adata are matching, assigning scores\n",
      "sample Pla_Camb10123929 from scRNA-seq samples 8 out of 14\n"
     ]
    },
    {
     "name": "stderr",
     "output_type": "stream",
     "text": [
      "Variable names are not unique. To make them unique, call `.var_names_make_unique`.\n",
      " (0:00:04)\n",
      "Variable names are not unique. To make them unique, call `.var_names_make_unique`.\n",
      "filtered out 10 cells that have less than 200 genes expressed\n",
      "filtered out 13165 genes that are detected in less than 3 cells\n"
     ]
    },
    {
     "name": "stdout",
     "output_type": "stream",
     "text": [
      "going on to call doublets (write doublet scores into tables) with bertie\n"
     ]
    },
    {
     "name": "stderr",
     "output_type": "stream",
     "text": [
      "normalizing by total count per cell\n",
      "    finished (0:00:00): normalized adata.X and added    'n_counts', counts per cell before normalization (adata.obs)\n",
      "extracting highly variable genes\n",
      "    finished (0:00:00)\n",
      "--> added\n",
      "    'highly_variable', boolean vector (adata.var)\n",
      "    'means', float vector (adata.var)\n",
      "    'dispersions', float vector (adata.var)\n",
      "    'dispersions_norm', float vector (adata.var)\n",
      "... as `zero_center=True`, sparse input is densified and may lead to large memory consumption\n",
      "computing PCA\n",
      "    on highly variable genes\n",
      "    with n_comps=50\n",
      "    finished (0:00:11)\n",
      "computing neighbors\n",
      "    using 'X_pca' with n_pcs = 50\n",
      "    finished: added to `.uns['neighbors']`\n",
      "    `.obsp['distances']`, distances for each pair of neighbors\n",
      "    `.obsp['connectivities']`, weighted adjacency matrix (0:00:02)\n",
      "running Louvain clustering\n",
      "    using the \"louvain\" package of Traag (2017)\n",
      "    finished: found 13 clusters and added\n",
      "    'louvain', the cluster labels (adata.obs, categorical) (0:00:00)\n",
      "running Louvain clustering\n",
      "    using the \"louvain\" package of Traag (2017)\n",
      "    finished: found 21 clusters and added\n",
      "    'louvain_R', the cluster labels (adata.obs, categorical) (0:00:00)\n",
      "running Louvain clustering\n",
      "    using the \"louvain\" package of Traag (2017)\n",
      "    finished: found 28 clusters and added\n",
      "    'louvain_R', the cluster labels (adata.obs, categorical) (0:00:00)\n",
      "running Louvain clustering\n",
      "    using the \"louvain\" package of Traag (2017)\n",
      "    finished: found 34 clusters and added\n",
      "    'louvain_R', the cluster labels (adata.obs, categorical) (0:00:00)\n",
      "running Louvain clustering\n",
      "    using the \"louvain\" package of Traag (2017)\n",
      "    finished: found 39 clusters and added\n",
      "    'louvain_R', the cluster labels (adata.obs, categorical) (0:00:00)\n",
      "running Louvain clustering\n",
      "    using the \"louvain\" package of Traag (2017)\n",
      "    finished: found 42 clusters and added\n",
      "    'louvain_R', the cluster labels (adata.obs, categorical) (0:00:00)\n",
      "running Louvain clustering\n",
      "    using the \"louvain\" package of Traag (2017)\n",
      "    finished: found 49 clusters and added\n",
      "    'louvain_R', the cluster labels (adata.obs, categorical) (0:00:00)\n",
      "running Louvain clustering\n",
      "    using the \"louvain\" package of Traag (2017)\n",
      "    finished: found 55 clusters and added\n",
      "    'louvain_R', the cluster labels (adata.obs, categorical) (0:00:00)\n",
      "running Louvain clustering\n",
      "    using the \"louvain\" package of Traag (2017)\n",
      "    finished: found 61 clusters and added\n",
      "    'louvain_R', the cluster labels (adata.obs, categorical) (0:00:00)\n",
      "running Louvain clustering\n",
      "    using the \"louvain\" package of Traag (2017)\n",
      "    finished: found 66 clusters and added\n",
      "    'louvain_R', the cluster labels (adata.obs, categorical) (0:00:00)\n",
      "running Louvain clustering\n",
      "    using the \"louvain\" package of Traag (2017)\n",
      "    finished: found 73 clusters and added\n",
      "    'louvain_R', the cluster labels (adata.obs, categorical) (0:00:00)\n",
      "running Louvain clustering\n",
      "    using the \"louvain\" package of Traag (2017)\n",
      "    finished: found 78 clusters and added\n",
      "    'louvain_R', the cluster labels (adata.obs, categorical) (0:00:00)\n",
      "running Louvain clustering\n",
      "    using the \"louvain\" package of Traag (2017)\n",
      "    finished: found 85 clusters and added\n",
      "    'louvain_R', the cluster labels (adata.obs, categorical) (0:00:00)\n",
      "running Louvain clustering\n",
      "    using the \"louvain\" package of Traag (2017)\n",
      "    finished: found 91 clusters and added\n",
      "    'louvain_R', the cluster labels (adata.obs, categorical) (0:00:00)\n",
      "reading /lustre/scratch117/cellgen/team292/aa22/data/202104_placental_organoids_experiment_2/cellranger302_count_37295_Pla_Camb10123930_GRCh38-3_0_0/filtered_feature_bc_matrix.h5\n"
     ]
    },
    {
     "name": "stdout",
     "output_type": "stream",
     "text": [
      "indices in current bertie table and sample adata are matching, assigning scores\n",
      "sample Pla_Camb10123930 from scRNA-seq samples 9 out of 14\n"
     ]
    },
    {
     "name": "stderr",
     "output_type": "stream",
     "text": [
      "Variable names are not unique. To make them unique, call `.var_names_make_unique`.\n",
      " (0:00:01)\n",
      "Variable names are not unique. To make them unique, call `.var_names_make_unique`.\n",
      "filtered out 14107 genes that are detected in less than 3 cells\n"
     ]
    },
    {
     "name": "stdout",
     "output_type": "stream",
     "text": [
      "going on to call doublets (write doublet scores into tables) with bertie\n"
     ]
    },
    {
     "name": "stderr",
     "output_type": "stream",
     "text": [
      "normalizing by total count per cell\n",
      "    finished (0:00:00): normalized adata.X and added    'n_counts', counts per cell before normalization (adata.obs)\n",
      "extracting highly variable genes\n",
      "    finished (0:00:00)\n",
      "--> added\n",
      "    'highly_variable', boolean vector (adata.var)\n",
      "    'means', float vector (adata.var)\n",
      "    'dispersions', float vector (adata.var)\n",
      "    'dispersions_norm', float vector (adata.var)\n",
      "... as `zero_center=True`, sparse input is densified and may lead to large memory consumption\n",
      "computing PCA\n",
      "    on highly variable genes\n",
      "    with n_comps=50\n",
      "    finished (0:00:10)\n",
      "computing neighbors\n",
      "    using 'X_pca' with n_pcs = 50\n",
      "    finished: added to `.uns['neighbors']`\n",
      "    `.obsp['distances']`, distances for each pair of neighbors\n",
      "    `.obsp['connectivities']`, weighted adjacency matrix (0:00:01)\n",
      "running Louvain clustering\n",
      "    using the \"louvain\" package of Traag (2017)\n",
      "    finished: found 15 clusters and added\n",
      "    'louvain', the cluster labels (adata.obs, categorical) (0:00:00)\n",
      "running Louvain clustering\n",
      "    using the \"louvain\" package of Traag (2017)\n",
      "    finished: found 21 clusters and added\n",
      "    'louvain_R', the cluster labels (adata.obs, categorical) (0:00:00)\n",
      "running Louvain clustering\n",
      "    using the \"louvain\" package of Traag (2017)\n",
      "    finished: found 31 clusters and added\n",
      "    'louvain_R', the cluster labels (adata.obs, categorical) (0:00:00)\n",
      "running Louvain clustering\n",
      "    using the \"louvain\" package of Traag (2017)\n",
      "    finished: found 35 clusters and added\n",
      "    'louvain_R', the cluster labels (adata.obs, categorical) (0:00:00)\n",
      "running Louvain clustering\n",
      "    using the \"louvain\" package of Traag (2017)\n",
      "    finished: found 40 clusters and added\n",
      "    'louvain_R', the cluster labels (adata.obs, categorical) (0:00:00)\n",
      "running Louvain clustering\n",
      "    using the \"louvain\" package of Traag (2017)\n",
      "    finished: found 45 clusters and added\n",
      "    'louvain_R', the cluster labels (adata.obs, categorical) (0:00:00)\n",
      "running Louvain clustering\n",
      "    using the \"louvain\" package of Traag (2017)\n",
      "    finished: found 49 clusters and added\n",
      "    'louvain_R', the cluster labels (adata.obs, categorical) (0:00:00)\n",
      "running Louvain clustering\n",
      "    using the \"louvain\" package of Traag (2017)\n",
      "    finished: found 53 clusters and added\n",
      "    'louvain_R', the cluster labels (adata.obs, categorical) (0:00:00)\n",
      "running Louvain clustering\n",
      "    using the \"louvain\" package of Traag (2017)\n",
      "    finished: found 60 clusters and added\n",
      "    'louvain_R', the cluster labels (adata.obs, categorical) (0:00:00)\n",
      "running Louvain clustering\n",
      "    using the \"louvain\" package of Traag (2017)\n",
      "    finished: found 66 clusters and added\n",
      "    'louvain_R', the cluster labels (adata.obs, categorical) (0:00:00)\n",
      "running Louvain clustering\n",
      "    using the \"louvain\" package of Traag (2017)\n",
      "    finished: found 73 clusters and added\n",
      "    'louvain_R', the cluster labels (adata.obs, categorical) (0:00:00)\n",
      "running Louvain clustering\n",
      "    using the \"louvain\" package of Traag (2017)\n",
      "    finished: found 78 clusters and added\n",
      "    'louvain_R', the cluster labels (adata.obs, categorical) (0:00:00)\n",
      "running Louvain clustering\n",
      "    using the \"louvain\" package of Traag (2017)\n",
      "    finished: found 85 clusters and added\n",
      "    'louvain_R', the cluster labels (adata.obs, categorical) (0:00:00)\n",
      "running Louvain clustering\n",
      "    using the \"louvain\" package of Traag (2017)\n",
      "    finished: found 92 clusters and added\n",
      "    'louvain_R', the cluster labels (adata.obs, categorical) (0:00:00)\n",
      "running Louvain clustering\n",
      "    using the \"louvain\" package of Traag (2017)\n",
      "    finished: found 98 clusters and added\n",
      "    'louvain_R', the cluster labels (adata.obs, categorical) (0:00:00)\n",
      "running Louvain clustering\n",
      "    using the \"louvain\" package of Traag (2017)\n",
      "    finished: found 105 clusters and added\n",
      "    'louvain_R', the cluster labels (adata.obs, categorical) (0:00:00)\n",
      "reading /lustre/scratch117/cellgen/team292/aa22/data/202104_placental_organoids_experiment_2/cellranger302_count_37295_Pla_Camb10123931_GRCh38-3_0_0/filtered_feature_bc_matrix.h5\n"
     ]
    },
    {
     "name": "stdout",
     "output_type": "stream",
     "text": [
      "indices in current bertie table and sample adata are matching, assigning scores\n",
      "sample Pla_Camb10123931 from scRNA-seq samples 10 out of 14\n"
     ]
    },
    {
     "name": "stderr",
     "output_type": "stream",
     "text": [
      "Variable names are not unique. To make them unique, call `.var_names_make_unique`.\n",
      " (0:00:07)\n",
      "Variable names are not unique. To make them unique, call `.var_names_make_unique`.\n",
      "filtered out 13734 genes that are detected in less than 3 cells\n"
     ]
    },
    {
     "name": "stdout",
     "output_type": "stream",
     "text": [
      "going on to call doublets (write doublet scores into tables) with bertie\n"
     ]
    },
    {
     "name": "stderr",
     "output_type": "stream",
     "text": [
      "normalizing by total count per cell\n",
      "    finished (0:00:00): normalized adata.X and added    'n_counts', counts per cell before normalization (adata.obs)\n",
      "extracting highly variable genes\n",
      "    finished (0:00:00)\n",
      "--> added\n",
      "    'highly_variable', boolean vector (adata.var)\n",
      "    'means', float vector (adata.var)\n",
      "    'dispersions', float vector (adata.var)\n",
      "    'dispersions_norm', float vector (adata.var)\n",
      "... as `zero_center=True`, sparse input is densified and may lead to large memory consumption\n",
      "computing PCA\n",
      "    on highly variable genes\n",
      "    with n_comps=50\n",
      "    finished (0:00:11)\n",
      "computing neighbors\n",
      "    using 'X_pca' with n_pcs = 50\n",
      "    finished: added to `.uns['neighbors']`\n",
      "    `.obsp['distances']`, distances for each pair of neighbors\n",
      "    `.obsp['connectivities']`, weighted adjacency matrix (0:00:01)\n",
      "running Louvain clustering\n",
      "    using the \"louvain\" package of Traag (2017)\n",
      "    finished: found 14 clusters and added\n",
      "    'louvain', the cluster labels (adata.obs, categorical) (0:00:00)\n",
      "running Louvain clustering\n",
      "    using the \"louvain\" package of Traag (2017)\n",
      "    finished: found 22 clusters and added\n",
      "    'louvain_R', the cluster labels (adata.obs, categorical) (0:00:00)\n",
      "running Louvain clustering\n",
      "    using the \"louvain\" package of Traag (2017)\n",
      "    finished: found 30 clusters and added\n",
      "    'louvain_R', the cluster labels (adata.obs, categorical) (0:00:00)\n",
      "running Louvain clustering\n",
      "    using the \"louvain\" package of Traag (2017)\n",
      "    finished: found 36 clusters and added\n",
      "    'louvain_R', the cluster labels (adata.obs, categorical) (0:00:00)\n",
      "running Louvain clustering\n",
      "    using the \"louvain\" package of Traag (2017)\n",
      "    finished: found 42 clusters and added\n",
      "    'louvain_R', the cluster labels (adata.obs, categorical) (0:00:00)\n",
      "running Louvain clustering\n",
      "    using the \"louvain\" package of Traag (2017)\n",
      "    finished: found 47 clusters and added\n",
      "    'louvain_R', the cluster labels (adata.obs, categorical) (0:00:00)\n",
      "running Louvain clustering\n",
      "    using the \"louvain\" package of Traag (2017)\n",
      "    finished: found 51 clusters and added\n",
      "    'louvain_R', the cluster labels (adata.obs, categorical) (0:00:00)\n",
      "running Louvain clustering\n",
      "    using the \"louvain\" package of Traag (2017)\n",
      "    finished: found 59 clusters and added\n",
      "    'louvain_R', the cluster labels (adata.obs, categorical) (0:00:00)\n",
      "running Louvain clustering\n",
      "    using the \"louvain\" package of Traag (2017)\n",
      "    finished: found 67 clusters and added\n",
      "    'louvain_R', the cluster labels (adata.obs, categorical) (0:00:00)\n",
      "running Louvain clustering\n",
      "    using the \"louvain\" package of Traag (2017)\n",
      "    finished: found 74 clusters and added\n",
      "    'louvain_R', the cluster labels (adata.obs, categorical) (0:00:00)\n",
      "running Louvain clustering\n",
      "    using the \"louvain\" package of Traag (2017)\n",
      "    finished: found 83 clusters and added\n",
      "    'louvain_R', the cluster labels (adata.obs, categorical) (0:00:00)\n",
      "running Louvain clustering\n",
      "    using the \"louvain\" package of Traag (2017)\n",
      "    finished: found 87 clusters and added\n",
      "    'louvain_R', the cluster labels (adata.obs, categorical) (0:00:00)\n",
      "running Louvain clustering\n",
      "    using the \"louvain\" package of Traag (2017)\n",
      "    finished: found 94 clusters and added\n",
      "    'louvain_R', the cluster labels (adata.obs, categorical) (0:00:00)\n",
      "running Louvain clustering\n",
      "    using the \"louvain\" package of Traag (2017)\n",
      "    finished: found 102 clusters and added\n",
      "    'louvain_R', the cluster labels (adata.obs, categorical) (0:00:00)\n",
      "running Louvain clustering\n",
      "    using the \"louvain\" package of Traag (2017)\n",
      "    finished: found 109 clusters and added\n",
      "    'louvain_R', the cluster labels (adata.obs, categorical) (0:00:00)\n",
      "reading /lustre/scratch117/cellgen/team292/aa22/data/202104_placental_organoids_experiment_2/cellranger302_count_37295_Pla_Camb10123932_GRCh38-3_0_0/filtered_feature_bc_matrix.h5\n"
     ]
    },
    {
     "name": "stdout",
     "output_type": "stream",
     "text": [
      "indices in current bertie table and sample adata are matching, assigning scores\n",
      "sample Pla_Camb10123932 from scRNA-seq samples 11 out of 14\n"
     ]
    },
    {
     "name": "stderr",
     "output_type": "stream",
     "text": [
      "Variable names are not unique. To make them unique, call `.var_names_make_unique`.\n",
      " (0:00:00)\n",
      "Variable names are not unique. To make them unique, call `.var_names_make_unique`.\n",
      "filtered out 3 cells that have less than 200 genes expressed\n",
      "filtered out 15276 genes that are detected in less than 3 cells\n"
     ]
    },
    {
     "name": "stdout",
     "output_type": "stream",
     "text": [
      "going on to call doublets (write doublet scores into tables) with bertie\n"
     ]
    },
    {
     "name": "stderr",
     "output_type": "stream",
     "text": [
      "normalizing by total count per cell\n",
      "    finished (0:00:00): normalized adata.X and added    'n_counts', counts per cell before normalization (adata.obs)\n",
      "extracting highly variable genes\n",
      "    finished (0:00:00)\n",
      "--> added\n",
      "    'highly_variable', boolean vector (adata.var)\n",
      "    'means', float vector (adata.var)\n",
      "    'dispersions', float vector (adata.var)\n",
      "    'dispersions_norm', float vector (adata.var)\n",
      "... as `zero_center=True`, sparse input is densified and may lead to large memory consumption\n",
      "computing PCA\n",
      "    on highly variable genes\n",
      "    with n_comps=50\n",
      "    finished (0:00:11)\n",
      "computing neighbors\n",
      "    using 'X_pca' with n_pcs = 50\n",
      "    finished: added to `.uns['neighbors']`\n",
      "    `.obsp['distances']`, distances for each pair of neighbors\n",
      "    `.obsp['connectivities']`, weighted adjacency matrix (0:00:01)\n",
      "running Louvain clustering\n",
      "    using the \"louvain\" package of Traag (2017)\n",
      "    finished: found 8 clusters and added\n",
      "    'louvain', the cluster labels (adata.obs, categorical) (0:00:00)\n",
      "running Louvain clustering\n",
      "    using the \"louvain\" package of Traag (2017)\n",
      "    finished: found 14 clusters and added\n",
      "    'louvain_R', the cluster labels (adata.obs, categorical) (0:00:00)\n",
      "running Louvain clustering\n",
      "    using the \"louvain\" package of Traag (2017)\n",
      "    finished: found 20 clusters and added\n",
      "    'louvain_R', the cluster labels (adata.obs, categorical) (0:00:00)\n",
      "running Louvain clustering\n",
      "    using the \"louvain\" package of Traag (2017)\n",
      "    finished: found 26 clusters and added\n",
      "    'louvain_R', the cluster labels (adata.obs, categorical) (0:00:00)\n",
      "running Louvain clustering\n",
      "    using the \"louvain\" package of Traag (2017)\n",
      "    finished: found 31 clusters and added\n",
      "    'louvain_R', the cluster labels (adata.obs, categorical) (0:00:00)\n",
      "running Louvain clustering\n",
      "    using the \"louvain\" package of Traag (2017)\n",
      "    finished: found 36 clusters and added\n",
      "    'louvain_R', the cluster labels (adata.obs, categorical) (0:00:00)\n",
      "running Louvain clustering\n",
      "    using the \"louvain\" package of Traag (2017)\n",
      "    finished: found 41 clusters and added\n",
      "    'louvain_R', the cluster labels (adata.obs, categorical) (0:00:00)\n",
      "running Louvain clustering\n",
      "    using the \"louvain\" package of Traag (2017)\n",
      "    finished: found 48 clusters and added\n",
      "    'louvain_R', the cluster labels (adata.obs, categorical) (0:00:00)\n",
      "running Louvain clustering\n",
      "    using the \"louvain\" package of Traag (2017)\n",
      "    finished: found 52 clusters and added\n",
      "    'louvain_R', the cluster labels (adata.obs, categorical) (0:00:00)\n",
      "reading /lustre/scratch117/cellgen/team292/aa22/data/202104_placental_organoids_experiment_2/cellranger302_count_37295_Pla_Camb10123933_GRCh38-3_0_0/filtered_feature_bc_matrix.h5\n"
     ]
    },
    {
     "name": "stdout",
     "output_type": "stream",
     "text": [
      "indices in current bertie table and sample adata are matching, assigning scores\n",
      "sample Pla_Camb10123933 from scRNA-seq samples 12 out of 14\n"
     ]
    },
    {
     "name": "stderr",
     "output_type": "stream",
     "text": [
      "Variable names are not unique. To make them unique, call `.var_names_make_unique`.\n",
      " (0:00:10)\n",
      "Variable names are not unique. To make them unique, call `.var_names_make_unique`.\n",
      "filtered out 2 cells that have less than 200 genes expressed\n",
      "filtered out 14577 genes that are detected in less than 3 cells\n"
     ]
    },
    {
     "name": "stdout",
     "output_type": "stream",
     "text": [
      "going on to call doublets (write doublet scores into tables) with bertie\n"
     ]
    },
    {
     "name": "stderr",
     "output_type": "stream",
     "text": [
      "normalizing by total count per cell\n",
      "    finished (0:00:00): normalized adata.X and added    'n_counts', counts per cell before normalization (adata.obs)\n",
      "extracting highly variable genes\n",
      "    finished (0:00:00)\n",
      "--> added\n",
      "    'highly_variable', boolean vector (adata.var)\n",
      "    'means', float vector (adata.var)\n",
      "    'dispersions', float vector (adata.var)\n",
      "    'dispersions_norm', float vector (adata.var)\n",
      "... as `zero_center=True`, sparse input is densified and may lead to large memory consumption\n",
      "computing PCA\n",
      "    on highly variable genes\n",
      "    with n_comps=50\n",
      "    finished (0:00:12)\n",
      "computing neighbors\n",
      "    using 'X_pca' with n_pcs = 50\n",
      "    finished: added to `.uns['neighbors']`\n",
      "    `.obsp['distances']`, distances for each pair of neighbors\n",
      "    `.obsp['connectivities']`, weighted adjacency matrix (0:00:02)\n",
      "running Louvain clustering\n",
      "    using the \"louvain\" package of Traag (2017)\n",
      "    finished: found 9 clusters and added\n",
      "    'louvain', the cluster labels (adata.obs, categorical) (0:00:00)\n",
      "running Louvain clustering\n",
      "    using the \"louvain\" package of Traag (2017)\n",
      "    finished: found 13 clusters and added\n",
      "    'louvain_R', the cluster labels (adata.obs, categorical) (0:00:00)\n",
      "running Louvain clustering\n",
      "    using the \"louvain\" package of Traag (2017)\n",
      "    finished: found 18 clusters and added\n",
      "    'louvain_R', the cluster labels (adata.obs, categorical) (0:00:00)\n",
      "running Louvain clustering\n",
      "    using the \"louvain\" package of Traag (2017)\n",
      "    finished: found 23 clusters and added\n",
      "    'louvain_R', the cluster labels (adata.obs, categorical) (0:00:00)\n",
      "running Louvain clustering\n",
      "    using the \"louvain\" package of Traag (2017)\n",
      "    finished: found 29 clusters and added\n",
      "    'louvain_R', the cluster labels (adata.obs, categorical) (0:00:00)\n",
      "running Louvain clustering\n",
      "    using the \"louvain\" package of Traag (2017)\n",
      "    finished: found 35 clusters and added\n",
      "    'louvain_R', the cluster labels (adata.obs, categorical) (0:00:00)\n",
      "running Louvain clustering\n",
      "    using the \"louvain\" package of Traag (2017)\n",
      "    finished: found 42 clusters and added\n",
      "    'louvain_R', the cluster labels (adata.obs, categorical) (0:00:00)\n",
      "running Louvain clustering\n",
      "    using the \"louvain\" package of Traag (2017)\n",
      "    finished: found 48 clusters and added\n",
      "    'louvain_R', the cluster labels (adata.obs, categorical) (0:00:00)\n",
      "running Louvain clustering\n",
      "    using the \"louvain\" package of Traag (2017)\n",
      "    finished: found 53 clusters and added\n",
      "    'louvain_R', the cluster labels (adata.obs, categorical) (0:00:00)\n",
      "running Louvain clustering\n",
      "    using the \"louvain\" package of Traag (2017)\n",
      "    finished: found 57 clusters and added\n",
      "    'louvain_R', the cluster labels (adata.obs, categorical) (0:00:00)\n",
      "reading /lustre/scratch117/cellgen/team292/aa22/data/202104_placental_organoids_experiment_2/cellranger302_count_37295_Pla_Camb10123934_GRCh38-3_0_0/filtered_feature_bc_matrix.h5\n"
     ]
    },
    {
     "name": "stdout",
     "output_type": "stream",
     "text": [
      "indices in current bertie table and sample adata are matching, assigning scores\n",
      "sample Pla_Camb10123934 from scRNA-seq samples 13 out of 14\n"
     ]
    },
    {
     "name": "stderr",
     "output_type": "stream",
     "text": [
      "Variable names are not unique. To make them unique, call `.var_names_make_unique`.\n",
      " (0:00:01)\n",
      "Variable names are not unique. To make them unique, call `.var_names_make_unique`.\n",
      "filtered out 244 cells that have less than 200 genes expressed\n",
      "filtered out 13753 genes that are detected in less than 3 cells\n"
     ]
    },
    {
     "name": "stdout",
     "output_type": "stream",
     "text": [
      "going on to call doublets (write doublet scores into tables) with bertie\n"
     ]
    },
    {
     "name": "stderr",
     "output_type": "stream",
     "text": [
      "normalizing by total count per cell\n",
      "    finished (0:00:00): normalized adata.X and added    'n_counts', counts per cell before normalization (adata.obs)\n",
      "extracting highly variable genes\n",
      "    finished (0:00:00)\n",
      "--> added\n",
      "    'highly_variable', boolean vector (adata.var)\n",
      "    'means', float vector (adata.var)\n",
      "    'dispersions', float vector (adata.var)\n",
      "    'dispersions_norm', float vector (adata.var)\n",
      "... as `zero_center=True`, sparse input is densified and may lead to large memory consumption\n",
      "computing PCA\n",
      "    on highly variable genes\n",
      "    with n_comps=50\n",
      "    finished (0:00:11)\n",
      "computing neighbors\n",
      "    using 'X_pca' with n_pcs = 50\n",
      "    finished: added to `.uns['neighbors']`\n",
      "    `.obsp['distances']`, distances for each pair of neighbors\n",
      "    `.obsp['connectivities']`, weighted adjacency matrix (0:00:01)\n",
      "running Louvain clustering\n",
      "    using the \"louvain\" package of Traag (2017)\n",
      "    finished: found 12 clusters and added\n",
      "    'louvain', the cluster labels (adata.obs, categorical) (0:00:00)\n",
      "running Louvain clustering\n",
      "    using the \"louvain\" package of Traag (2017)\n",
      "    finished: found 17 clusters and added\n",
      "    'louvain_R', the cluster labels (adata.obs, categorical) (0:00:00)\n",
      "running Louvain clustering\n",
      "    using the \"louvain\" package of Traag (2017)\n",
      "    finished: found 23 clusters and added\n",
      "    'louvain_R', the cluster labels (adata.obs, categorical) (0:00:00)\n",
      "running Louvain clustering\n",
      "    using the \"louvain\" package of Traag (2017)\n",
      "    finished: found 28 clusters and added\n",
      "    'louvain_R', the cluster labels (adata.obs, categorical) (0:00:00)\n",
      "running Louvain clustering\n",
      "    using the \"louvain\" package of Traag (2017)\n",
      "    finished: found 30 clusters and added\n",
      "    'louvain_R', the cluster labels (adata.obs, categorical) (0:00:00)\n",
      "running Louvain clustering\n",
      "    using the \"louvain\" package of Traag (2017)\n",
      "    finished: found 36 clusters and added\n",
      "    'louvain_R', the cluster labels (adata.obs, categorical) (0:00:00)\n",
      "running Louvain clustering\n",
      "    using the \"louvain\" package of Traag (2017)\n",
      "    finished: found 43 clusters and added\n",
      "    'louvain_R', the cluster labels (adata.obs, categorical) (0:00:00)\n",
      "running Louvain clustering\n",
      "    using the \"louvain\" package of Traag (2017)\n",
      "    finished: found 50 clusters and added\n",
      "    'louvain_R', the cluster labels (adata.obs, categorical) (0:00:00)\n",
      "running Louvain clustering\n",
      "    using the \"louvain\" package of Traag (2017)\n",
      "    finished: found 57 clusters and added\n",
      "    'louvain_R', the cluster labels (adata.obs, categorical) (0:00:00)\n",
      "running Louvain clustering\n",
      "    using the \"louvain\" package of Traag (2017)\n",
      "    finished: found 62 clusters and added\n",
      "    'louvain_R', the cluster labels (adata.obs, categorical) (0:00:00)\n",
      "running Louvain clustering\n",
      "    using the \"louvain\" package of Traag (2017)\n",
      "    finished: found 67 clusters and added\n",
      "    'louvain_R', the cluster labels (adata.obs, categorical) (0:00:00)\n",
      "running Louvain clustering\n",
      "    using the \"louvain\" package of Traag (2017)\n",
      "    finished: found 74 clusters and added\n",
      "    'louvain_R', the cluster labels (adata.obs, categorical) (0:00:00)\n",
      "running Louvain clustering\n",
      "    using the \"louvain\" package of Traag (2017)\n",
      "    finished: found 80 clusters and added\n",
      "    'louvain_R', the cluster labels (adata.obs, categorical) (0:00:00)\n",
      "reading /lustre/scratch117/cellgen/team292/aa22/data/202104_placental_organoids_experiment_2/cellranger302_count_37295_Pla_Camb10123935_GRCh38-3_0_0/filtered_feature_bc_matrix.h5\n"
     ]
    },
    {
     "name": "stdout",
     "output_type": "stream",
     "text": [
      "indices in current bertie table and sample adata are matching, assigning scores\n",
      "sample Pla_Camb10123935 from scRNA-seq samples 14 out of 14\n"
     ]
    },
    {
     "name": "stderr",
     "output_type": "stream",
     "text": [
      "Variable names are not unique. To make them unique, call `.var_names_make_unique`.\n",
      " (0:00:18)\n",
      "Variable names are not unique. To make them unique, call `.var_names_make_unique`.\n",
      "filtered out 167 cells that have less than 200 genes expressed\n",
      "filtered out 13620 genes that are detected in less than 3 cells\n"
     ]
    },
    {
     "name": "stdout",
     "output_type": "stream",
     "text": [
      "going on to call doublets (write doublet scores into tables) with bertie\n"
     ]
    },
    {
     "name": "stderr",
     "output_type": "stream",
     "text": [
      "normalizing by total count per cell\n",
      "    finished (0:00:00): normalized adata.X and added    'n_counts', counts per cell before normalization (adata.obs)\n",
      "extracting highly variable genes\n",
      "    finished (0:00:00)\n",
      "--> added\n",
      "    'highly_variable', boolean vector (adata.var)\n",
      "    'means', float vector (adata.var)\n",
      "    'dispersions', float vector (adata.var)\n",
      "    'dispersions_norm', float vector (adata.var)\n",
      "... as `zero_center=True`, sparse input is densified and may lead to large memory consumption\n",
      "computing PCA\n",
      "    on highly variable genes\n",
      "    with n_comps=50\n",
      "    finished (0:00:12)\n",
      "computing neighbors\n",
      "    using 'X_pca' with n_pcs = 50\n",
      "    finished: added to `.uns['neighbors']`\n",
      "    `.obsp['distances']`, distances for each pair of neighbors\n",
      "    `.obsp['connectivities']`, weighted adjacency matrix (0:00:01)\n",
      "running Louvain clustering\n",
      "    using the \"louvain\" package of Traag (2017)\n",
      "    finished: found 12 clusters and added\n",
      "    'louvain', the cluster labels (adata.obs, categorical) (0:00:00)\n",
      "running Louvain clustering\n",
      "    using the \"louvain\" package of Traag (2017)\n",
      "    finished: found 20 clusters and added\n",
      "    'louvain_R', the cluster labels (adata.obs, categorical) (0:00:00)\n",
      "running Louvain clustering\n",
      "    using the \"louvain\" package of Traag (2017)\n",
      "    finished: found 26 clusters and added\n",
      "    'louvain_R', the cluster labels (adata.obs, categorical) (0:00:00)\n",
      "running Louvain clustering\n",
      "    using the \"louvain\" package of Traag (2017)\n",
      "    finished: found 33 clusters and added\n",
      "    'louvain_R', the cluster labels (adata.obs, categorical) (0:00:00)\n",
      "running Louvain clustering\n",
      "    using the \"louvain\" package of Traag (2017)\n",
      "    finished: found 36 clusters and added\n",
      "    'louvain_R', the cluster labels (adata.obs, categorical) (0:00:00)\n",
      "running Louvain clustering\n",
      "    using the \"louvain\" package of Traag (2017)\n",
      "    finished: found 43 clusters and added\n",
      "    'louvain_R', the cluster labels (adata.obs, categorical) (0:00:00)\n",
      "running Louvain clustering\n",
      "    using the \"louvain\" package of Traag (2017)\n",
      "    finished: found 46 clusters and added\n",
      "    'louvain_R', the cluster labels (adata.obs, categorical) (0:00:00)\n",
      "running Louvain clustering\n",
      "    using the \"louvain\" package of Traag (2017)\n",
      "    finished: found 53 clusters and added\n",
      "    'louvain_R', the cluster labels (adata.obs, categorical) (0:00:00)\n",
      "running Louvain clustering\n",
      "    using the \"louvain\" package of Traag (2017)\n",
      "    finished: found 57 clusters and added\n",
      "    'louvain_R', the cluster labels (adata.obs, categorical) (0:00:00)\n",
      "running Louvain clustering\n",
      "    using the \"louvain\" package of Traag (2017)\n",
      "    finished: found 63 clusters and added\n",
      "    'louvain_R', the cluster labels (adata.obs, categorical) (0:00:00)\n",
      "running Louvain clustering\n",
      "    using the \"louvain\" package of Traag (2017)\n",
      "    finished: found 69 clusters and added\n",
      "    'louvain_R', the cluster labels (adata.obs, categorical) (0:00:00)\n",
      "running Louvain clustering\n",
      "    using the \"louvain\" package of Traag (2017)\n",
      "    finished: found 73 clusters and added\n",
      "    'louvain_R', the cluster labels (adata.obs, categorical) (0:00:00)\n",
      "running Louvain clustering\n",
      "    using the \"louvain\" package of Traag (2017)\n",
      "    finished: found 79 clusters and added\n",
      "    'louvain_R', the cluster labels (adata.obs, categorical) (0:00:00)\n"
     ]
    },
    {
     "name": "stdout",
     "output_type": "stream",
     "text": [
      "indices in current bertie table and sample adata are matching, assigning scores\n",
      "CPU times: user 36min 18s, sys: 17min 30s, total: 53min 49s\n",
      "Wall time: 9min 39s\n"
     ]
    }
   ],
   "source": [
    "%%time\n",
    "\n",
    "holder = []\n",
    "\n",
    "# for doublets\n",
    "scorenames = ['scrublet_score','scrublet_cluster_score','bh_pval']\n",
    "#os.makedirs('scrublet_scores')\n",
    "\n",
    "all_samples = samples_experiment_1 + samples_experiment_2 #+ samples_Roser\n",
    "\n",
    "for sample in all_samples:\n",
    "    print('sample', sample,\n",
    "          \"from scRNA-seq samples\", list(all_samples).index(sample)+1,\n",
    "          'out of', len(all_samples))\n",
    "    \n",
    "    if sample in samples_experiment_1:\n",
    "        path = '/lustre/scratch117/cellgen/team292/aa22/data/201911_troph_organoids_experiment_1_cellranger/cellranger302_count_32734_' + sample + '_GRCh38-3_0_0/filtered_feature_bc_matrix.h5'\n",
    "    elif sample in samples_experiment_2:\n",
    "        path = '/lustre/scratch117/cellgen/team292/aa22/data/202104_placental_organoids_experiment_2/cellranger302_count_37295_' + sample + '_GRCh38-3_0_0/filtered_feature_bc_matrix.h5'\n",
    "    \n",
    "    holder.append(sc.read_10x_h5(path))\n",
    "    \n",
    "    holder[-1].var_names_make_unique()\n",
    "    \n",
    "    # Filer cells with less than 200 genes expressed\n",
    "    sc.pp.filter_cells(holder[-1], min_genes=200)\n",
    "    \n",
    "    # Filer genes expressed in less than 3 cells\n",
    "    sc.pp.filter_genes(holder[-1], min_cells=3)\n",
    "    \n",
    "    # Adding metadata information\n",
    "    \n",
    "    curr_info = sample_to_timepoint_cytokine_medium[sample]\n",
    "    \n",
    "    holder[-1].obs['time_point'] = curr_info[0]\n",
    "    holder[-1].obs['activation_status'] = curr_info[1]\n",
    "    holder[-1].obs['media'] = curr_info[2]\n",
    "    #print('this was tissue block', block, 'sample:', sample)\n",
    "    \n",
    "    # Sample information\n",
    "    holder[-1].obs['sample'] = sample\n",
    "    # In cell_id we save barcode+sample index, to be unique in the future\n",
    "    holder[-1].obs['barcode_sample'] = [i+'_'+j for i,j in zip(holder[-1].obs.index, holder[-1].obs['sample'])]\n",
    "    \n",
    "    # Extract mitochondial genes\n",
    "    mito_genes = [name for name in holder[-1].var_names if name.startswith('MT-')]\n",
    "    #for each cell compute fraction of counts in mito genes vs. all genes\n",
    "    #the `.A1` is only necessary, as X is sparse - it transform to a dense array after summing\n",
    "    holder[-1].obs['percent_mito'] = np.sum(\n",
    "        holder[-1][:, mito_genes].X, axis=1).A1 / np.sum(holder[-1].X, axis=1).A1\n",
    "    \n",
    "    #add the total counts per cell as observations-annotation to adata\n",
    "    holder[-1].obs['n_counts'] = holder[-1].X.sum(axis=1).A1\n",
    "    \n",
    "    holder[-1].obs['dataset'] = 'scRNA-seq'\n",
    "    holder[-1].obs['technique'] = '10X'\n",
    "    \n",
    "    \n",
    "    # calling doublets on current sample's adata which is holder[-1]\n",
    "    print('going on to call doublets (write doublet scores into tables) with bertie')\n",
    "    scores_table = bertie(holder[-1], sample)\n",
    "    if list(scores_table.index) == list(holder[-1].obs.index):\n",
    "        print('indices in current bertie table and sample adata are matching, assigning scores')\n",
    "        for meta in scorenames:\n",
    "            holder[-1].obs[meta] = scores_table[meta]\n",
    "    else:\n",
    "        print('indices in current bertie table and sample adata are NOT matching')"
   ]
  },
  {
   "cell_type": "markdown",
   "metadata": {},
   "source": [
    "# QC, cutoff decisions and reading again"
   ]
  },
  {
   "cell_type": "code",
   "execution_count": 11,
   "metadata": {},
   "outputs": [
    {
     "name": "stderr",
     "output_type": "stream",
     "text": [
      "Observation names are not unique. To make them unique, call `.obs_names_make_unique`.\n",
      "Observation names are not unique. To make them unique, call `.obs_names_make_unique`.\n"
     ]
    },
    {
     "name": "stdout",
     "output_type": "stream",
     "text": [
      "CPU times: user 1.17 s, sys: 560 ms, total: 1.73 s\n",
      "Wall time: 1.72 s\n"
     ]
    }
   ],
   "source": [
    "%%time\n",
    "# concatenate all samples into 1 object\n",
    "# about 3 minutes\n",
    "adata = holder[0].concatenate(holder[1:],join='outer',index_unique=None)"
   ]
  },
  {
   "cell_type": "code",
   "execution_count": 12,
   "metadata": {},
   "outputs": [],
   "source": [
    "# Quality control - calculate QC covariates\n",
    "adata.obs['n_counts'] = adata.X.sum(1)\n",
    "adata.obs['log_counts'] = np.log(adata.obs['n_counts'])\n",
    "adata.obs['n_genes'] = (adata.X > 0).sum(1)  "
   ]
  },
  {
   "cell_type": "code",
   "execution_count": 13,
   "metadata": {},
   "outputs": [
    {
     "data": {
      "text/plain": [
       "2046.0"
      ]
     },
     "execution_count": 13,
     "metadata": {},
     "output_type": "execute_result"
    }
   ],
   "source": [
    "# median of dtected genes\n",
    "np.median(adata.obs['n_genes'])"
   ]
  },
  {
   "cell_type": "code",
   "execution_count": 14,
   "metadata": {},
   "outputs": [
    {
     "name": "stderr",
     "output_type": "stream",
     "text": [
      "... storing 'time_point' as categorical\n",
      "... storing 'activation_status' as categorical\n",
      "... storing 'media' as categorical\n",
      "... storing 'sample' as categorical\n",
      "... storing 'dataset' as categorical\n",
      "... storing 'technique' as categorical\n",
      "... storing 'feature_types' as categorical\n",
      "... storing 'genome' as categorical\n"
     ]
    },
    {
     "data": {
      "image/png": "[encoded data removed]",
      "text/plain": [
       "<Figure size 361x320 with 2 Axes>"
      ]
     },
     "metadata": {
      "image/png": {
       "height": 321,
       "width": 357
      },
      "needs_background": "light"
     },
     "output_type": "display_data"
    },
    {
     "name": "stderr",
     "output_type": "stream",
     "text": [
      "/opt/conda/lib/python3.8/site-packages/pandas/core/arrays/categorical.py:2487: FutureWarning: The `inplace` parameter in pandas.Categorical.remove_unused_categories is deprecated and will be removed in a future version.\n",
      "  res = method(*args, **kwargs)\n"
     ]
    },
    {
     "data": {
      "image/png": "[encoded data removed]",
      "text/plain": [
       "<Figure size 361x320 with 2 Axes>"
      ]
     },
     "metadata": {
      "image/png": {
       "height": 321,
       "width": 347
      },
      "needs_background": "light"
     },
     "output_type": "display_data"
    }
   ],
   "source": [
    "#Data quality summary plots\n",
    "p1 = sc.pl.scatter(adata, 'n_counts', 'n_genes', color='percent_mito')\n",
    "p2 = sc.pl.scatter(adata[adata.obs['n_counts']<10000], 'n_counts', 'n_genes', color='percent_mito')\n"
   ]
  },
  {
   "cell_type": "code",
   "execution_count": 15,
   "metadata": {},
   "outputs": [
    {
     "name": "stderr",
     "output_type": "stream",
     "text": [
      "/opt/conda/lib/python3.8/site-packages/seaborn/distributions.py:2557: FutureWarning: `distplot` is a deprecated function and will be removed in a future version. Please adapt your code to use either `displot` (a figure-level function with similar flexibility) or `histplot` (an axes-level function for histograms).\n",
      "  warnings.warn(msg, FutureWarning)\n"
     ]
    },
    {
     "data": {
      "image/png": "[encoded data removed]",
      "text/plain": [
       "<Figure size 320x320 with 1 Axes>"
      ]
     },
     "metadata": {
      "image/png": {
       "height": 305,
       "width": 331
      },
      "needs_background": "light"
     },
     "output_type": "display_data"
    }
   ],
   "source": [
    "p3 = sns.distplot(adata.obs['percent_mito'], kde=False)\n",
    "plt.show()"
   ]
  },
  {
   "cell_type": "code",
   "execution_count": 16,
   "metadata": {},
   "outputs": [
    {
     "data": {
      "text/plain": [
       "0.026714677736163147"
      ]
     },
     "execution_count": 16,
     "metadata": {},
     "output_type": "execute_result"
    }
   ],
   "source": [
    "np.percentile(list(adata.obs['percent_mito']),20)"
   ]
  },
  {
   "cell_type": "code",
   "execution_count": 17,
   "metadata": {},
   "outputs": [
    {
     "name": "stderr",
     "output_type": "stream",
     "text": [
      "/opt/conda/lib/python3.8/site-packages/pandas/core/arrays/categorical.py:2487: FutureWarning: The `inplace` parameter in pandas.Categorical.remove_unused_categories is deprecated and will be removed in a future version.\n",
      "  res = method(*args, **kwargs)\n"
     ]
    },
    {
     "data": {
      "text/plain": [
       "20278"
      ]
     },
     "execution_count": 17,
     "metadata": {},
     "output_type": "execute_result"
    }
   ],
   "source": [
    "len(adata[adata.obs['percent_mito'] > 0.2])"
   ]
  },
  {
   "cell_type": "code",
   "execution_count": 18,
   "metadata": {},
   "outputs": [
    {
     "name": "stderr",
     "output_type": "stream",
     "text": [
      "/opt/conda/lib/python3.8/site-packages/pandas/core/arrays/categorical.py:2487: FutureWarning: The `inplace` parameter in pandas.Categorical.remove_unused_categories is deprecated and will be removed in a future version.\n",
      "  res = method(*args, **kwargs)\n"
     ]
    },
    {
     "data": {
      "text/plain": [
       "0.15550613496932517"
      ]
     },
     "execution_count": 18,
     "metadata": {},
     "output_type": "execute_result"
    }
   ],
   "source": [
    "len(adata[adata.obs['percent_mito'] > 0.2])/len(adata.obs)"
   ]
  },
  {
   "cell_type": "code",
   "execution_count": 19,
   "metadata": {},
   "outputs": [
    {
     "name": "stderr",
     "output_type": "stream",
     "text": [
      "/opt/conda/lib/python3.8/site-packages/seaborn/distributions.py:2557: FutureWarning: `distplot` is a deprecated function and will be removed in a future version. Please adapt your code to use either `displot` (a figure-level function with similar flexibility) or `histplot` (an axes-level function for histograms).\n",
      "  warnings.warn(msg, FutureWarning)\n"
     ]
    },
    {
     "data": {
      "image/png": "[encoded data removed]",
      "text/plain": [
       "<Figure size 320x320 with 1 Axes>"
      ]
     },
     "metadata": {
      "image/png": {
       "height": 302,
       "width": 322
      },
      "needs_background": "light"
     },
     "output_type": "display_data"
    },
    {
     "name": "stderr",
     "output_type": "stream",
     "text": [
      "/opt/conda/lib/python3.8/site-packages/seaborn/distributions.py:2557: FutureWarning: `distplot` is a deprecated function and will be removed in a future version. Please adapt your code to use either `displot` (a figure-level function with similar flexibility) or `histplot` (an axes-level function for histograms).\n",
      "  warnings.warn(msg, FutureWarning)\n"
     ]
    },
    {
     "data": {
      "image/png": "[encoded data removed]",
      "text/plain": [
       "<Figure size 320x320 with 1 Axes>"
      ]
     },
     "metadata": {
      "image/png": {
       "height": 302,
       "width": 321
      },
      "needs_background": "light"
     },
     "output_type": "display_data"
    },
    {
     "name": "stderr",
     "output_type": "stream",
     "text": [
      "/opt/conda/lib/python3.8/site-packages/seaborn/distributions.py:2557: FutureWarning: `distplot` is a deprecated function and will be removed in a future version. Please adapt your code to use either `displot` (a figure-level function with similar flexibility) or `histplot` (an axes-level function for histograms).\n",
      "  warnings.warn(msg, FutureWarning)\n"
     ]
    },
    {
     "data": {
      "image/png": "[encoded data removed]",
      "text/plain": [
       "<Figure size 320x320 with 1 Axes>"
      ]
     },
     "metadata": {
      "image/png": {
       "height": 302,
       "width": 322
      },
      "needs_background": "light"
     },
     "output_type": "display_data"
    }
   ],
   "source": [
    "# Thresholding decision: counts\n",
    "p3 = sns.distplot(adata.obs['n_counts'], kde=False)\n",
    "plt.show()\n",
    "\n",
    "p4 = sns.distplot(adata.obs['n_counts'][adata.obs['n_counts']<4000], kde=False, bins=60)\n",
    "plt.show()\n",
    "\n",
    "p5 = sns.distplot(adata.obs['n_counts'][adata.obs['n_counts']>10000], kde=False, bins=60)\n",
    "plt.show()\n"
   ]
  },
  {
   "cell_type": "code",
   "execution_count": 20,
   "metadata": {},
   "outputs": [
    {
     "data": {
      "image/png": "[encoded data removed]",
      "text/plain": [
       "<Figure size 320x320 with 1 Axes>"
      ]
     },
     "metadata": {
      "image/png": {
       "height": 302,
       "width": 343
      },
      "needs_background": "light"
     },
     "output_type": "display_data"
    },
    {
     "name": "stderr",
     "output_type": "stream",
     "text": [
      "/opt/conda/lib/python3.8/site-packages/seaborn/distributions.py:2557: FutureWarning: `distplot` is a deprecated function and will be removed in a future version. Please adapt your code to use either `displot` (a figure-level function with similar flexibility) or `histplot` (an axes-level function for histograms).\n",
      "  warnings.warn(msg, FutureWarning)\n"
     ]
    },
    {
     "data": {
      "image/png": "[encoded data removed]",
      "text/plain": [
       "<Figure size 320x320 with 1 Axes>"
      ]
     },
     "metadata": {
      "image/png": {
       "height": 302,
       "width": 321
      },
      "needs_background": "light"
     },
     "output_type": "display_data"
    }
   ],
   "source": [
    "# Thresholding decision: genes\n",
    "p6 = sns.distplot(adata.obs['n_genes'], kde=False, bins=60)\n",
    "plt.show()\n",
    "\n",
    "p7 = sns.distplot(adata.obs['n_genes'][adata.obs['n_genes']<1000], kde=False, bins=60)\n",
    "plt.show()"
   ]
  },
  {
   "cell_type": "markdown",
   "metadata": {},
   "source": [
    "**Desicion**: gene cutoff: min_genes=200, min_cells=3, going back up to reread and filter there"
   ]
  },
  {
   "cell_type": "code",
   "execution_count": 21,
   "metadata": {},
   "outputs": [
    {
     "data": {
      "text/plain": [
       "array(['6044STDY8640561', '6044STDY8640562', '6044STDY8640563',\n",
       "       '6044STDY8640564', '6044STDY8640565', '6044STDY8640566',\n",
       "       'Pla_Camb10123928', 'Pla_Camb10123929', 'Pla_Camb10123930',\n",
       "       'Pla_Camb10123931', 'Pla_Camb10123932', 'Pla_Camb10123933',\n",
       "       'Pla_Camb10123934', 'Pla_Camb10123935'], dtype=object)"
      ]
     },
     "execution_count": 21,
     "metadata": {},
     "output_type": "execute_result"
    }
   ],
   "source": [
    "np.unique(adata.obs['sample'])"
   ]
  },
  {
   "cell_type": "code",
   "execution_count": 22,
   "metadata": {},
   "outputs": [
    {
     "name": "stderr",
     "output_type": "stream",
     "text": [
      "/opt/conda/lib/python3.8/site-packages/pandas/core/arrays/categorical.py:2487: FutureWarning: The `inplace` parameter in pandas.Categorical.remove_unused_categories is deprecated and will be removed in a future version.\n",
      "  res = method(*args, **kwargs)\n"
     ]
    }
   ],
   "source": [
    "# quick check to see if raw is raw or not\n",
    "expr_mtx_dense = adata[adata.obs['sample'] == 'Pla_Camb10123928'].X.todense()"
   ]
  },
  {
   "cell_type": "code",
   "execution_count": 23,
   "metadata": {},
   "outputs": [
    {
     "data": {
      "text/plain": [
       "matrix([[    0.,     0.,     0., ..., 13146., 26412., 30230.]],\n",
       "       dtype=float32)"
      ]
     },
     "execution_count": 23,
     "metadata": {},
     "output_type": "execute_result"
    }
   ],
   "source": [
    "# YAS we all good\n",
    "np.unique(expr_mtx_dense)"
   ]
  },
  {
   "cell_type": "markdown",
   "metadata": {},
   "source": [
    "____________________________________________________________________________________________________________"
   ]
  },
  {
   "cell_type": "markdown",
   "metadata": {},
   "source": [
    "Carrying on to:\n",
    "- Concatenate"
   ]
  },
  {
   "cell_type": "code",
   "execution_count": 12,
   "metadata": {},
   "outputs": [
    {
     "name": "stderr",
     "output_type": "stream",
     "text": [
      "Observation names are not unique. To make them unique, call `.obs_names_make_unique`.\n",
      "Observation names are not unique. To make them unique, call `.obs_names_make_unique`.\n"
     ]
    },
    {
     "name": "stdout",
     "output_type": "stream",
     "text": [
      "CPU times: user 4.76 s, sys: 766 ms, total: 5.53 s\n",
      "Wall time: 5.53 s\n"
     ]
    }
   ],
   "source": [
    "%%time\n",
    "\n",
    "adata = holder[0].concatenate(holder[1:],join='outer',index_unique=None)\n",
    "adata.X = adata.X.tocsr()"
   ]
  },
  {
   "cell_type": "code",
   "execution_count": 13,
   "metadata": {},
   "outputs": [],
   "source": [
    "# saving corrected metadata table\n",
    "#metadata_corrected = adata.obs\n",
    "#metadata_corrected.to_csv('metadata_corrected_20200630.csv')"
   ]
  },
  {
   "cell_type": "markdown",
   "metadata": {},
   "source": [
    "Carrying on to \n",
    "- Filter MT-high cells (>20%)\n",
    "- Save raw attribute\n",
    "- Make cell names (obs) and gene names (var) unique"
   ]
  },
  {
   "cell_type": "code",
   "execution_count": 14,
   "metadata": {},
   "outputs": [
    {
     "name": "stderr",
     "output_type": "stream",
     "text": [
      "/opt/conda/lib/python3.8/site-packages/pandas/core/arrays/categorical.py:2487: FutureWarning: The `inplace` parameter in pandas.Categorical.remove_unused_categories is deprecated and will be removed in a future version.\n",
      "  res = method(*args, **kwargs)\n",
      "Observation names are not unique. To make them unique, call `.obs_names_make_unique`.\n",
      "Observation names are not unique. To make them unique, call `.obs_names_make_unique`.\n",
      "Observation names are not unique. To make them unique, call `.obs_names_make_unique`.\n"
     ]
    }
   ],
   "source": [
    "# mt % filtering\n",
    "adata = adata[adata.obs['percent_mito'] < 0.2]\n",
    "\n",
    "# saving the raw attribute\n",
    "adata.raw = adata.copy()\n",
    "\n",
    "adata.var_names_make_unique()\n",
    "adata.obs_names_make_unique()"
   ]
  },
  {
   "cell_type": "code",
   "execution_count": 15,
   "metadata": {},
   "outputs": [],
   "source": [
    "# adding 'is_doublet' annotation by throsholding the bh_pvalue, this is not the end of doublet calling\n",
    "# this parameter can be tweaked according to how harsh the detection needs to be\n",
    "# the less it is, the less doublets it will call\n",
    "adata.obs['is_doublet'] = adata.obs['bh_pval'] < 0.1"
   ]
  },
  {
   "cell_type": "markdown",
   "metadata": {},
   "source": [
    "Second step of bertie doublet removal - will be done later in the pipeline"
   ]
  },
  {
   "cell_type": "markdown",
   "metadata": {},
   "source": [
    "_____________________________________________________________________________________________________________________________________________________________"
   ]
  },
  {
   "cell_type": "code",
   "execution_count": 16,
   "metadata": {},
   "outputs": [
    {
     "data": {
      "text/plain": [
       "AnnData object with n_obs × n_vars = 110095 × 23281\n",
       "    obs: 'n_genes', 'time_point', 'activation_status', 'media', 'sample', 'barcode_sample', 'percent_mito', 'n_counts', 'dataset', 'technique', 'scrublet_score', 'scrublet_cluster_score', 'bh_pval', 'batch', 'is_doublet'\n",
       "    var: 'gene_ids-0', 'feature_types-0', 'genome-0', 'n_cells-0', 'gene_ids-1', 'feature_types-1', 'genome-1', 'n_cells-1', 'gene_ids-10', 'feature_types-10', 'genome-10', 'n_cells-10', 'gene_ids-11', 'feature_types-11', 'genome-11', 'n_cells-11', 'gene_ids-12', 'feature_types-12', 'genome-12', 'n_cells-12', 'gene_ids-13', 'feature_types-13', 'genome-13', 'n_cells-13', 'gene_ids-2', 'feature_types-2', 'genome-2', 'n_cells-2', 'gene_ids-3', 'feature_types-3', 'genome-3', 'n_cells-3', 'gene_ids-4', 'feature_types-4', 'genome-4', 'n_cells-4', 'gene_ids-5', 'feature_types-5', 'genome-5', 'n_cells-5', 'gene_ids-6', 'feature_types-6', 'genome-6', 'n_cells-6', 'gene_ids-7', 'feature_types-7', 'genome-7', 'n_cells-7', 'gene_ids-8', 'feature_types-8', 'genome-8', 'n_cells-8', 'gene_ids-9', 'feature_types-9', 'genome-9', 'n_cells-9'"
      ]
     },
     "execution_count": 16,
     "metadata": {},
     "output_type": "execute_result"
    }
   ],
   "source": [
    "adata"
   ]
  },
  {
   "cell_type": "code",
   "execution_count": 17,
   "metadata": {},
   "outputs": [
    {
     "data": {
      "text/plain": [
       "array(['6044STDY8640561', '6044STDY8640562', '6044STDY8640563',\n",
       "       '6044STDY8640564', '6044STDY8640565', '6044STDY8640566',\n",
       "       'Pla_Camb10123928', 'Pla_Camb10123929', 'Pla_Camb10123930',\n",
       "       'Pla_Camb10123931', 'Pla_Camb10123932', 'Pla_Camb10123933',\n",
       "       'Pla_Camb10123934', 'Pla_Camb10123935'], dtype=object)"
      ]
     },
     "execution_count": 17,
     "metadata": {},
     "output_type": "execute_result"
    }
   ],
   "source": [
    "np.unique(adata.obs['sample'])"
   ]
  },
  {
   "cell_type": "code",
   "execution_count": 18,
   "metadata": {},
   "outputs": [],
   "source": [
    "# also add experiment batch\n",
    "adata.obs['experiment'] = ['1' if elem in ['6044STDY8640561', '6044STDY8640562', '6044STDY8640563',\n",
    "       '6044STDY8640564', '6044STDY8640565', '6044STDY8640566'] else '2' for elem in list(adata.obs['sample'])]"
   ]
  },
  {
   "cell_type": "code",
   "execution_count": 19,
   "metadata": {},
   "outputs": [
    {
     "data": {
      "text/plain": [
       "(array(['1', '2'], dtype=object), array([50495, 59600]))"
      ]
     },
     "execution_count": 19,
     "metadata": {},
     "output_type": "execute_result"
    }
   ],
   "source": [
    "np.unique(adata.obs['experiment'], return_counts=True)"
   ]
  },
  {
   "cell_type": "code",
   "execution_count": 20,
   "metadata": {},
   "outputs": [
    {
     "name": "stderr",
     "output_type": "stream",
     "text": [
      "/opt/conda/lib/python3.8/site-packages/pandas/core/arrays/categorical.py:2487: FutureWarning: The `inplace` parameter in pandas.Categorical.remove_unused_categories is deprecated and will be removed in a future version.\n",
      "  res = method(*args, **kwargs)\n"
     ]
    }
   ],
   "source": [
    "expr_mtx_dense = adata[adata.obs['sample'] == 'Pla_Camb10123928'].X.todense()"
   ]
  },
  {
   "cell_type": "code",
   "execution_count": 21,
   "metadata": {},
   "outputs": [
    {
     "data": {
      "text/plain": [
       "matrix([[    0.,     0.,     0., ..., 13146., 26412., 30230.]],\n",
       "       dtype=float32)"
      ]
     },
     "execution_count": 21,
     "metadata": {},
     "output_type": "execute_result"
    }
   ],
   "source": [
    "# YAS we good!\n",
    "np.unique(expr_mtx_dense)"
   ]
  },
  {
   "cell_type": "code",
   "execution_count": 22,
   "metadata": {
    "collapsed": true,
    "jupyter": {
     "outputs_hidden": true
    },
    "tags": []
   },
   "outputs": [
    {
     "name": "stderr",
     "output_type": "stream",
     "text": [
      "... storing 'time_point' as categorical\n",
      "... storing 'activation_status' as categorical\n",
      "... storing 'media' as categorical\n",
      "... storing 'sample' as categorical\n",
      "... storing 'dataset' as categorical\n",
      "... storing 'technique' as categorical\n",
      "... storing 'experiment' as categorical\n",
      "... storing 'gene_ids-0' as categorical\n",
      "... storing 'feature_types-0' as categorical\n",
      "... storing 'genome-0' as categorical\n",
      "... storing 'gene_ids-1' as categorical\n",
      "... storing 'feature_types-1' as categorical\n",
      "... storing 'genome-1' as categorical\n",
      "... storing 'gene_ids-10' as categorical\n",
      "... storing 'feature_types-10' as categorical\n",
      "... storing 'genome-10' as categorical\n",
      "... storing 'gene_ids-11' as categorical\n",
      "... storing 'feature_types-11' as categorical\n",
      "... storing 'genome-11' as categorical\n",
      "... storing 'gene_ids-12' as categorical\n",
      "... storing 'feature_types-12' as categorical\n",
      "... storing 'genome-12' as categorical\n",
      "... storing 'gene_ids-13' as categorical\n",
      "... storing 'feature_types-13' as categorical\n",
      "... storing 'genome-13' as categorical\n",
      "... storing 'gene_ids-2' as categorical\n",
      "... storing 'feature_types-2' as categorical\n",
      "... storing 'genome-2' as categorical\n",
      "... storing 'gene_ids-3' as categorical\n",
      "... storing 'feature_types-3' as categorical\n",
      "... storing 'genome-3' as categorical\n",
      "... storing 'gene_ids-4' as categorical\n",
      "... storing 'feature_types-4' as categorical\n",
      "... storing 'genome-4' as categorical\n",
      "... storing 'gene_ids-5' as categorical\n",
      "... storing 'feature_types-5' as categorical\n",
      "... storing 'genome-5' as categorical\n",
      "... storing 'gene_ids-6' as categorical\n",
      "... storing 'feature_types-6' as categorical\n",
      "... storing 'genome-6' as categorical\n",
      "... storing 'gene_ids-7' as categorical\n",
      "... storing 'feature_types-7' as categorical\n",
      "... storing 'genome-7' as categorical\n",
      "... storing 'gene_ids-8' as categorical\n",
      "... storing 'feature_types-8' as categorical\n",
      "... storing 'genome-8' as categorical\n",
      "... storing 'gene_ids-9' as categorical\n",
      "... storing 'feature_types-9' as categorical\n",
      "... storing 'genome-9' as categorical\n",
      "... storing 'gene_ids-0' as categorical\n",
      "... storing 'feature_types-0' as categorical\n",
      "... storing 'genome-0' as categorical\n",
      "... storing 'gene_ids-1' as categorical\n",
      "... storing 'feature_types-1' as categorical\n",
      "... storing 'genome-1' as categorical\n",
      "... storing 'gene_ids-10' as categorical\n",
      "... storing 'feature_types-10' as categorical\n",
      "... storing 'genome-10' as categorical\n",
      "... storing 'gene_ids-11' as categorical\n",
      "... storing 'feature_types-11' as categorical\n",
      "... storing 'genome-11' as categorical\n",
      "... storing 'gene_ids-12' as categorical\n",
      "... storing 'feature_types-12' as categorical\n",
      "... storing 'genome-12' as categorical\n",
      "... storing 'gene_ids-13' as categorical\n",
      "... storing 'feature_types-13' as categorical\n",
      "... storing 'genome-13' as categorical\n",
      "... storing 'gene_ids-2' as categorical\n",
      "... storing 'feature_types-2' as categorical\n",
      "... storing 'genome-2' as categorical\n",
      "... storing 'gene_ids-3' as categorical\n",
      "... storing 'feature_types-3' as categorical\n",
      "... storing 'genome-3' as categorical\n",
      "... storing 'gene_ids-4' as categorical\n",
      "... storing 'feature_types-4' as categorical\n",
      "... storing 'genome-4' as categorical\n",
      "... storing 'gene_ids-5' as categorical\n",
      "... storing 'feature_types-5' as categorical\n",
      "... storing 'genome-5' as categorical\n",
      "... storing 'gene_ids-6' as categorical\n",
      "... storing 'feature_types-6' as categorical\n",
      "... storing 'genome-6' as categorical\n",
      "... storing 'gene_ids-7' as categorical\n",
      "... storing 'feature_types-7' as categorical\n",
      "... storing 'genome-7' as categorical\n",
      "... storing 'gene_ids-8' as categorical\n",
      "... storing 'feature_types-8' as categorical\n",
      "... storing 'genome-8' as categorical\n",
      "... storing 'gene_ids-9' as categorical\n",
      "... storing 'feature_types-9' as categorical\n",
      "... storing 'genome-9' as categorical\n"
     ]
    }
   ],
   "source": [
    "# let's save the object here before calling any doublets\n",
    "adata.write(save_path + 'adata_raw_filtered_before_any_doublet_exclusion.h5ad')"
   ]
  },
  {
   "cell_type": "code",
   "execution_count": 23,
   "metadata": {},
   "outputs": [
    {
     "data": {
      "text/plain": [
       "'/lustre/scratch117/cellgen/team292/aa22/adata_objects/202105_troph_organoids_exp_1_2/'"
      ]
     },
     "execution_count": 23,
     "metadata": {},
     "output_type": "execute_result"
    }
   ],
   "source": [
    "save_path"
   ]
  },
  {
   "cell_type": "code",
   "execution_count": null,
   "metadata": {},
   "outputs": [],
   "source": []
  },
  {
   "cell_type": "markdown",
   "metadata": {},
   "source": [
    "# Adding donor deconvolution"
   ]
  },
  {
   "cell_type": "markdown",
   "metadata": {},
   "source": [
    "### Adding `souporcell` results"
   ]
  },
  {
   "cell_type": "markdown",
   "metadata": {},
   "source": [
    "#### Without remapping reads, using common variants file\n",
    "\n",
    "(with Simon Murray from cellgen IT, 05.2021)"
   ]
  },
  {
   "cell_type": "code",
   "execution_count": 22,
   "metadata": {},
   "outputs": [
    {
     "data": {
      "text/plain": [
       "(array(['6044STDY8640561', '6044STDY8640562', '6044STDY8640563',\n",
       "        '6044STDY8640564', '6044STDY8640565', '6044STDY8640566',\n",
       "        'Pla_Camb10123928', 'Pla_Camb10123929', 'Pla_Camb10123930',\n",
       "        'Pla_Camb10123931', 'Pla_Camb10123932', 'Pla_Camb10123933',\n",
       "        'Pla_Camb10123934', 'Pla_Camb10123935'], dtype=object),\n",
       " array([ 7019,  8242,  9150,  8538,  8642,  8904,  4196,  7640,  9295,\n",
       "        12541,  4417,  6562,  7383,  7566]))"
      ]
     },
     "execution_count": 22,
     "metadata": {},
     "output_type": "execute_result"
    }
   ],
   "source": [
    "np.unique(adata.obs['sample'], return_counts=True)"
   ]
  },
  {
   "cell_type": "code",
   "execution_count": 30,
   "metadata": {},
   "outputs": [],
   "source": [
    "souporcell_dirs = {}\n",
    "\n",
    "prefix_experiment_1 = '/lustre/scratch117/cellgen/team292/aa22/souporcell_analyses/souporcell_scRNA-seq_pilot_experiment_organoids_201911_with_common_variants/no-remap/souporcell/'\n",
    "prefix_experiment_2 = '/lustre/scratch117/cellgen/team292/aa22/souporcell_analyses/souporcell_scRNA-seq_troph_organoids_experiment_2_with_common_variants/results/souporcell/'\n",
    "\n",
    "souporcell_dirs['6044STDY8640561'] = prefix_experiment_1 + '6044STDY8640561/'\n",
    "souporcell_dirs['6044STDY8640562'] = prefix_experiment_1 + '6044STDY8640562/'\n",
    "souporcell_dirs['6044STDY8640563'] = prefix_experiment_1 + '6044STDY8640563/'\n",
    "souporcell_dirs['6044STDY8640564'] = prefix_experiment_1 + '6044STDY8640564/'\n",
    "souporcell_dirs['6044STDY8640565'] = prefix_experiment_1 + '6044STDY8640565/'\n",
    "souporcell_dirs['6044STDY8640566'] = prefix_experiment_1 + '6044STDY8640566/'\n",
    "\n",
    "souporcell_dirs['Pla_Camb10123928'] = prefix_experiment_2 + 'Pla_Camb10123928/'\n",
    "souporcell_dirs['Pla_Camb10123929'] = prefix_experiment_2 + 'Pla_Camb10123929/'\n",
    "souporcell_dirs['Pla_Camb10123930'] = prefix_experiment_2 + 'Pla_Camb10123930/'\n",
    "souporcell_dirs['Pla_Camb10123931'] = prefix_experiment_2 + 'Pla_Camb10123931/'\n",
    "souporcell_dirs['Pla_Camb10123932'] = prefix_experiment_2 + 'Pla_Camb10123932/'\n",
    "souporcell_dirs['Pla_Camb10123933'] = prefix_experiment_2 + 'Pla_Camb10123933/'\n",
    "souporcell_dirs['Pla_Camb10123934'] = prefix_experiment_2 + 'Pla_Camb10123934/'\n",
    "souporcell_dirs['Pla_Camb10123935'] = prefix_experiment_2 + 'Pla_Camb10123935/'"
   ]
  },
  {
   "cell_type": "code",
   "execution_count": 31,
   "metadata": {},
   "outputs": [
    {
     "name": "stdout",
     "output_type": "stream",
     "text": [
      "sample  6044STDY8640561\n",
      "len of curr table is 9799\n",
      "sample  6044STDY8640562\n",
      "len of curr table is 11474\n",
      "sample  6044STDY8640563\n",
      "len of curr table is 11035\n",
      "sample  6044STDY8640564\n",
      "len of curr table is 10503\n",
      "sample  6044STDY8640565\n",
      "len of curr table is 10735\n",
      "sample  6044STDY8640566\n",
      "len of curr table is 10975\n",
      "sample  Pla_Camb10123928\n",
      "len of curr table is 5171\n",
      "sample  Pla_Camb10123929\n",
      "len of curr table is 8071\n",
      "sample  Pla_Camb10123930\n",
      "len of curr table is 9886\n",
      "sample  Pla_Camb10123931\n",
      "len of curr table is 13357\n",
      "sample  Pla_Camb10123932\n",
      "len of curr table is 4806\n",
      "sample  Pla_Camb10123933\n",
      "len of curr table is 7364\n",
      "sample  Pla_Camb10123934\n",
      "len of curr table is 8492\n",
      "sample  Pla_Camb10123935\n",
      "len of curr table is 8732\n"
     ]
    }
   ],
   "source": [
    "holder = []\n",
    "\n",
    "for sample in list(souporcell_dirs.keys()):\n",
    "    print('sample ', sample)\n",
    "    curr_table = pd.read_csv(souporcell_dirs[sample]+'clusters.tsv', sep='\\t', index_col=0)\n",
    "    curr_table['barcode_sample'] = [i+'_'+sample for i in curr_table.index]\n",
    "    print('len of curr table is', len(curr_table))\n",
    "    holder.append(curr_table)\n",
    "    "
   ]
  },
  {
   "cell_type": "code",
   "execution_count": 32,
   "metadata": {},
   "outputs": [],
   "source": [
    "souporcell_meta_table = pd.concat(holder,join='outer')"
   ]
  },
  {
   "cell_type": "code",
   "execution_count": 33,
   "metadata": {},
   "outputs": [
    {
     "data": {
      "text/html": [
       "<div>\n",
       "<style scoped>\n",
       "    .dataframe tbody tr th:only-of-type {\n",
       "        vertical-align: middle;\n",
       "    }\n",
       "\n",
       "    .dataframe tbody tr th {\n",
       "        vertical-align: top;\n",
       "    }\n",
       "\n",
       "    .dataframe thead th {\n",
       "        text-align: right;\n",
       "    }\n",
       "</style>\n",
       "<table border=\"1\" class=\"dataframe\">\n",
       "  <thead>\n",
       "    <tr style=\"text-align: right;\">\n",
       "      <th></th>\n",
       "      <th>status</th>\n",
       "      <th>assignment</th>\n",
       "      <th>log_prob_singleton</th>\n",
       "      <th>log_prob_doublet</th>\n",
       "      <th>cluster0</th>\n",
       "      <th>cluster1</th>\n",
       "      <th>cluster2</th>\n",
       "      <th>barcode_sample</th>\n",
       "    </tr>\n",
       "    <tr>\n",
       "      <th>barcode</th>\n",
       "      <th></th>\n",
       "      <th></th>\n",
       "      <th></th>\n",
       "      <th></th>\n",
       "      <th></th>\n",
       "      <th></th>\n",
       "      <th></th>\n",
       "      <th></th>\n",
       "    </tr>\n",
       "  </thead>\n",
       "  <tbody>\n",
       "    <tr>\n",
       "      <th>AAACCCAAGCTAGTTC-1</th>\n",
       "      <td>singlet</td>\n",
       "      <td>1</td>\n",
       "      <td>-140.994785</td>\n",
       "      <td>-152.048246</td>\n",
       "      <td>-416.244267</td>\n",
       "      <td>-140.994785</td>\n",
       "      <td>-357.576766</td>\n",
       "      <td>AAACCCAAGCTAGTTC-1_6044STDY8640561</td>\n",
       "    </tr>\n",
       "    <tr>\n",
       "      <th>AAACCCAAGGACATCG-1</th>\n",
       "      <td>doublet</td>\n",
       "      <td>2/0</td>\n",
       "      <td>-97.629486</td>\n",
       "      <td>-78.549165</td>\n",
       "      <td>-133.901851</td>\n",
       "      <td>-165.845238</td>\n",
       "      <td>-97.629486</td>\n",
       "      <td>AAACCCAAGGACATCG-1_6044STDY8640561</td>\n",
       "    </tr>\n",
       "    <tr>\n",
       "      <th>AAACCCACAAAGTGTA-1</th>\n",
       "      <td>singlet</td>\n",
       "      <td>1</td>\n",
       "      <td>-499.827264</td>\n",
       "      <td>-582.087357</td>\n",
       "      <td>-2354.063643</td>\n",
       "      <td>-499.827264</td>\n",
       "      <td>-1895.611152</td>\n",
       "      <td>AAACCCACAAAGTGTA-1_6044STDY8640561</td>\n",
       "    </tr>\n",
       "    <tr>\n",
       "      <th>AAACCCAGTGCACGCT-1</th>\n",
       "      <td>singlet</td>\n",
       "      <td>1</td>\n",
       "      <td>-170.345683</td>\n",
       "      <td>-190.344043</td>\n",
       "      <td>-686.949730</td>\n",
       "      <td>-170.345683</td>\n",
       "      <td>-539.492288</td>\n",
       "      <td>AAACCCAGTGCACGCT-1_6044STDY8640561</td>\n",
       "    </tr>\n",
       "    <tr>\n",
       "      <th>AAACCCAGTTGGCCTG-1</th>\n",
       "      <td>singlet</td>\n",
       "      <td>1</td>\n",
       "      <td>-278.332563</td>\n",
       "      <td>-303.750103</td>\n",
       "      <td>-1005.031905</td>\n",
       "      <td>-278.332563</td>\n",
       "      <td>-848.976918</td>\n",
       "      <td>AAACCCAGTTGGCCTG-1_6044STDY8640561</td>\n",
       "    </tr>\n",
       "    <tr>\n",
       "      <th>...</th>\n",
       "      <td>...</td>\n",
       "      <td>...</td>\n",
       "      <td>...</td>\n",
       "      <td>...</td>\n",
       "      <td>...</td>\n",
       "      <td>...</td>\n",
       "      <td>...</td>\n",
       "      <td>...</td>\n",
       "    </tr>\n",
       "    <tr>\n",
       "      <th>TTTGTTGCATGATAGA-1</th>\n",
       "      <td>singlet</td>\n",
       "      <td>0</td>\n",
       "      <td>-560.657000</td>\n",
       "      <td>-652.025537</td>\n",
       "      <td>-560.657000</td>\n",
       "      <td>-1921.420601</td>\n",
       "      <td>-2086.702406</td>\n",
       "      <td>TTTGTTGCATGATAGA-1_Pla_Camb10123935</td>\n",
       "    </tr>\n",
       "    <tr>\n",
       "      <th>TTTGTTGCATTAGGAA-1</th>\n",
       "      <td>doublet</td>\n",
       "      <td>1/0</td>\n",
       "      <td>-46.316364</td>\n",
       "      <td>-38.700523</td>\n",
       "      <td>-79.981618</td>\n",
       "      <td>-46.316364</td>\n",
       "      <td>-111.592485</td>\n",
       "      <td>TTTGTTGCATTAGGAA-1_Pla_Camb10123935</td>\n",
       "    </tr>\n",
       "    <tr>\n",
       "      <th>TTTGTTGGTGCTCCGA-1</th>\n",
       "      <td>singlet</td>\n",
       "      <td>2</td>\n",
       "      <td>-775.049378</td>\n",
       "      <td>-1309.068771</td>\n",
       "      <td>-2550.791183</td>\n",
       "      <td>-2171.371980</td>\n",
       "      <td>-775.049378</td>\n",
       "      <td>TTTGTTGGTGCTCCGA-1_Pla_Camb10123935</td>\n",
       "    </tr>\n",
       "    <tr>\n",
       "      <th>TTTGTTGTCCCAACTC-1</th>\n",
       "      <td>singlet</td>\n",
       "      <td>0</td>\n",
       "      <td>-102.026128</td>\n",
       "      <td>-113.050086</td>\n",
       "      <td>-102.026128</td>\n",
       "      <td>-228.688273</td>\n",
       "      <td>-275.126327</td>\n",
       "      <td>TTTGTTGTCCCAACTC-1_Pla_Camb10123935</td>\n",
       "    </tr>\n",
       "    <tr>\n",
       "      <th>TTTGTTGTCTTTGCTA-1</th>\n",
       "      <td>singlet</td>\n",
       "      <td>0</td>\n",
       "      <td>-261.131944</td>\n",
       "      <td>-305.693301</td>\n",
       "      <td>-261.131944</td>\n",
       "      <td>-801.822703</td>\n",
       "      <td>-873.725453</td>\n",
       "      <td>TTTGTTGTCTTTGCTA-1_Pla_Camb10123935</td>\n",
       "    </tr>\n",
       "  </tbody>\n",
       "</table>\n",
       "<p>130400 rows × 8 columns</p>\n",
       "</div>"
      ],
      "text/plain": [
       "                     status assignment  log_prob_singleton  log_prob_doublet  \\\n",
       "barcode                                                                        \n",
       "AAACCCAAGCTAGTTC-1  singlet          1         -140.994785       -152.048246   \n",
       "AAACCCAAGGACATCG-1  doublet        2/0          -97.629486        -78.549165   \n",
       "AAACCCACAAAGTGTA-1  singlet          1         -499.827264       -582.087357   \n",
       "AAACCCAGTGCACGCT-1  singlet          1         -170.345683       -190.344043   \n",
       "AAACCCAGTTGGCCTG-1  singlet          1         -278.332563       -303.750103   \n",
       "...                     ...        ...                 ...               ...   \n",
       "TTTGTTGCATGATAGA-1  singlet          0         -560.657000       -652.025537   \n",
       "TTTGTTGCATTAGGAA-1  doublet        1/0          -46.316364        -38.700523   \n",
       "TTTGTTGGTGCTCCGA-1  singlet          2         -775.049378      -1309.068771   \n",
       "TTTGTTGTCCCAACTC-1  singlet          0         -102.026128       -113.050086   \n",
       "TTTGTTGTCTTTGCTA-1  singlet          0         -261.131944       -305.693301   \n",
       "\n",
       "                       cluster0     cluster1     cluster2  \\\n",
       "barcode                                                     \n",
       "AAACCCAAGCTAGTTC-1  -416.244267  -140.994785  -357.576766   \n",
       "AAACCCAAGGACATCG-1  -133.901851  -165.845238   -97.629486   \n",
       "AAACCCACAAAGTGTA-1 -2354.063643  -499.827264 -1895.611152   \n",
       "AAACCCAGTGCACGCT-1  -686.949730  -170.345683  -539.492288   \n",
       "AAACCCAGTTGGCCTG-1 -1005.031905  -278.332563  -848.976918   \n",
       "...                         ...          ...          ...   \n",
       "TTTGTTGCATGATAGA-1  -560.657000 -1921.420601 -2086.702406   \n",
       "TTTGTTGCATTAGGAA-1   -79.981618   -46.316364  -111.592485   \n",
       "TTTGTTGGTGCTCCGA-1 -2550.791183 -2171.371980  -775.049378   \n",
       "TTTGTTGTCCCAACTC-1  -102.026128  -228.688273  -275.126327   \n",
       "TTTGTTGTCTTTGCTA-1  -261.131944  -801.822703  -873.725453   \n",
       "\n",
       "                                         barcode_sample  \n",
       "barcode                                                  \n",
       "AAACCCAAGCTAGTTC-1   AAACCCAAGCTAGTTC-1_6044STDY8640561  \n",
       "AAACCCAAGGACATCG-1   AAACCCAAGGACATCG-1_6044STDY8640561  \n",
       "AAACCCACAAAGTGTA-1   AAACCCACAAAGTGTA-1_6044STDY8640561  \n",
       "AAACCCAGTGCACGCT-1   AAACCCAGTGCACGCT-1_6044STDY8640561  \n",
       "AAACCCAGTTGGCCTG-1   AAACCCAGTTGGCCTG-1_6044STDY8640561  \n",
       "...                                                 ...  \n",
       "TTTGTTGCATGATAGA-1  TTTGTTGCATGATAGA-1_Pla_Camb10123935  \n",
       "TTTGTTGCATTAGGAA-1  TTTGTTGCATTAGGAA-1_Pla_Camb10123935  \n",
       "TTTGTTGGTGCTCCGA-1  TTTGTTGGTGCTCCGA-1_Pla_Camb10123935  \n",
       "TTTGTTGTCCCAACTC-1  TTTGTTGTCCCAACTC-1_Pla_Camb10123935  \n",
       "TTTGTTGTCTTTGCTA-1  TTTGTTGTCTTTGCTA-1_Pla_Camb10123935  \n",
       "\n",
       "[130400 rows x 8 columns]"
      ]
     },
     "execution_count": 33,
     "metadata": {},
     "output_type": "execute_result"
    }
   ],
   "source": [
    "souporcell_meta_table"
   ]
  },
  {
   "cell_type": "code",
   "execution_count": 34,
   "metadata": {},
   "outputs": [],
   "source": [
    "souporcell_meta_table.set_index('barcode_sample', inplace=True, drop=False)"
   ]
  },
  {
   "cell_type": "code",
   "execution_count": 35,
   "metadata": {},
   "outputs": [
    {
     "data": {
      "text/plain": [
       "Index(['AAACCCAAGCTAGTTC-1_6044STDY8640561',\n",
       "       'AAACCCAAGGACATCG-1_6044STDY8640561',\n",
       "       'AAACCCACAAAGTGTA-1_6044STDY8640561',\n",
       "       'AAACCCAGTGCACGCT-1_6044STDY8640561',\n",
       "       'AAACCCAGTTGGCCTG-1_6044STDY8640561',\n",
       "       'AAACCCATCTCGACGG-1_6044STDY8640561',\n",
       "       'AAACGAAAGCGCCTTG-1_6044STDY8640561',\n",
       "       'AAACGAAAGCTCCACG-1_6044STDY8640561',\n",
       "       'AAACGAAAGTCTCGTA-1_6044STDY8640561',\n",
       "       'AAACGAACAACCACGC-1_6044STDY8640561',\n",
       "       ...\n",
       "       'TTTGTTGCAAGCCTGC-1_Pla_Camb10123935',\n",
       "       'TTTGTTGCACAACGCC-1_Pla_Camb10123935',\n",
       "       'TTTGTTGCACCTGATA-1_Pla_Camb10123935',\n",
       "       'TTTGTTGCAGGTTCGC-1_Pla_Camb10123935',\n",
       "       'TTTGTTGCAGTTGCGC-1_Pla_Camb10123935',\n",
       "       'TTTGTTGCATGATAGA-1_Pla_Camb10123935',\n",
       "       'TTTGTTGCATTAGGAA-1_Pla_Camb10123935',\n",
       "       'TTTGTTGGTGCTCCGA-1_Pla_Camb10123935',\n",
       "       'TTTGTTGTCCCAACTC-1_Pla_Camb10123935',\n",
       "       'TTTGTTGTCTTTGCTA-1_Pla_Camb10123935'],\n",
       "      dtype='object', name='barcode_sample', length=130400)"
      ]
     },
     "execution_count": 35,
     "metadata": {},
     "output_type": "execute_result"
    }
   ],
   "source": [
    "souporcell_meta_table.index"
   ]
  },
  {
   "cell_type": "code",
   "execution_count": 36,
   "metadata": {},
   "outputs": [
    {
     "data": {
      "text/html": [
       "<div>\n",
       "<style scoped>\n",
       "    .dataframe tbody tr th:only-of-type {\n",
       "        vertical-align: middle;\n",
       "    }\n",
       "\n",
       "    .dataframe tbody tr th {\n",
       "        vertical-align: top;\n",
       "    }\n",
       "\n",
       "    .dataframe thead th {\n",
       "        text-align: right;\n",
       "    }\n",
       "</style>\n",
       "<table border=\"1\" class=\"dataframe\">\n",
       "  <thead>\n",
       "    <tr style=\"text-align: right;\">\n",
       "      <th></th>\n",
       "      <th>n_genes</th>\n",
       "      <th>time_point</th>\n",
       "      <th>activation_status</th>\n",
       "      <th>media</th>\n",
       "      <th>sample</th>\n",
       "      <th>barcode_sample</th>\n",
       "      <th>percent_mito</th>\n",
       "      <th>n_counts</th>\n",
       "      <th>dataset</th>\n",
       "      <th>technique</th>\n",
       "      <th>scrublet_score</th>\n",
       "      <th>scrublet_cluster_score</th>\n",
       "      <th>bh_pval</th>\n",
       "      <th>batch</th>\n",
       "      <th>is_doublet</th>\n",
       "      <th>experiment</th>\n",
       "    </tr>\n",
       "  </thead>\n",
       "  <tbody>\n",
       "    <tr>\n",
       "      <th>AAACCCAAGCTAGTTC-1</th>\n",
       "      <td>715</td>\n",
       "      <td>3H</td>\n",
       "      <td>no_cytokines</td>\n",
       "      <td>EVTM</td>\n",
       "      <td>6044STDY8640561</td>\n",
       "      <td>AAACCCAAGCTAGTTC-1_6044STDY8640561</td>\n",
       "      <td>0.016393</td>\n",
       "      <td>1220.0</td>\n",
       "      <td>scRNA-seq</td>\n",
       "      <td>10X</td>\n",
       "      <td>0.025670</td>\n",
       "      <td>0.050578</td>\n",
       "      <td>0.997454</td>\n",
       "      <td>0</td>\n",
       "      <td>False</td>\n",
       "      <td>1</td>\n",
       "    </tr>\n",
       "    <tr>\n",
       "      <th>AAACCCAAGGACATCG-1</th>\n",
       "      <td>1319</td>\n",
       "      <td>3H</td>\n",
       "      <td>no_cytokines</td>\n",
       "      <td>EVTM</td>\n",
       "      <td>6044STDY8640561</td>\n",
       "      <td>AAACCCAAGGACATCG-1_6044STDY8640561</td>\n",
       "      <td>0.175336</td>\n",
       "      <td>2749.0</td>\n",
       "      <td>scRNA-seq</td>\n",
       "      <td>10X</td>\n",
       "      <td>0.200000</td>\n",
       "      <td>0.225007</td>\n",
       "      <td>0.000664</td>\n",
       "      <td>0</td>\n",
       "      <td>True</td>\n",
       "      <td>1</td>\n",
       "    </tr>\n",
       "    <tr>\n",
       "      <th>AAACCCACAAAGTGTA-1</th>\n",
       "      <td>3765</td>\n",
       "      <td>3H</td>\n",
       "      <td>no_cytokines</td>\n",
       "      <td>EVTM</td>\n",
       "      <td>6044STDY8640561</td>\n",
       "      <td>AAACCCACAAAGTGTA-1_6044STDY8640561</td>\n",
       "      <td>0.067086</td>\n",
       "      <td>18931.0</td>\n",
       "      <td>scRNA-seq</td>\n",
       "      <td>10X</td>\n",
       "      <td>0.173047</td>\n",
       "      <td>0.088608</td>\n",
       "      <td>0.997454</td>\n",
       "      <td>0</td>\n",
       "      <td>False</td>\n",
       "      <td>1</td>\n",
       "    </tr>\n",
       "    <tr>\n",
       "      <th>AAACCCAGTGCACGCT-1</th>\n",
       "      <td>2116</td>\n",
       "      <td>3H</td>\n",
       "      <td>no_cytokines</td>\n",
       "      <td>EVTM</td>\n",
       "      <td>6044STDY8640561</td>\n",
       "      <td>AAACCCAGTGCACGCT-1_6044STDY8640561</td>\n",
       "      <td>0.005407</td>\n",
       "      <td>6288.0</td>\n",
       "      <td>scRNA-seq</td>\n",
       "      <td>10X</td>\n",
       "      <td>0.056231</td>\n",
       "      <td>0.101911</td>\n",
       "      <td>0.966822</td>\n",
       "      <td>0</td>\n",
       "      <td>False</td>\n",
       "      <td>1</td>\n",
       "    </tr>\n",
       "    <tr>\n",
       "      <th>AAACCCAGTTGGCCTG-1</th>\n",
       "      <td>2672</td>\n",
       "      <td>3H</td>\n",
       "      <td>no_cytokines</td>\n",
       "      <td>EVTM</td>\n",
       "      <td>6044STDY8640561</td>\n",
       "      <td>AAACCCAGTTGGCCTG-1_6044STDY8640561</td>\n",
       "      <td>0.111556</td>\n",
       "      <td>10999.0</td>\n",
       "      <td>scRNA-seq</td>\n",
       "      <td>10X</td>\n",
       "      <td>0.054764</td>\n",
       "      <td>0.099062</td>\n",
       "      <td>0.966822</td>\n",
       "      <td>0</td>\n",
       "      <td>False</td>\n",
       "      <td>1</td>\n",
       "    </tr>\n",
       "    <tr>\n",
       "      <th>...</th>\n",
       "      <td>...</td>\n",
       "      <td>...</td>\n",
       "      <td>...</td>\n",
       "      <td>...</td>\n",
       "      <td>...</td>\n",
       "      <td>...</td>\n",
       "      <td>...</td>\n",
       "      <td>...</td>\n",
       "      <td>...</td>\n",
       "      <td>...</td>\n",
       "      <td>...</td>\n",
       "      <td>...</td>\n",
       "      <td>...</td>\n",
       "      <td>...</td>\n",
       "      <td>...</td>\n",
       "      <td>...</td>\n",
       "    </tr>\n",
       "    <tr>\n",
       "      <th>TTTGTTGCAGGTTCGC-1</th>\n",
       "      <td>3703</td>\n",
       "      <td>96H</td>\n",
       "      <td>cytokines</td>\n",
       "      <td>TOM</td>\n",
       "      <td>Pla_Camb10123935</td>\n",
       "      <td>TTTGTTGCAGGTTCGC-1_Pla_Camb10123935</td>\n",
       "      <td>0.165256</td>\n",
       "      <td>14063.0</td>\n",
       "      <td>scRNA-seq</td>\n",
       "      <td>10X</td>\n",
       "      <td>0.142857</td>\n",
       "      <td>0.152639</td>\n",
       "      <td>0.773329</td>\n",
       "      <td>13</td>\n",
       "      <td>False</td>\n",
       "      <td>2</td>\n",
       "    </tr>\n",
       "    <tr>\n",
       "      <th>TTTGTTGCAGTTGCGC-1</th>\n",
       "      <td>4898</td>\n",
       "      <td>96H</td>\n",
       "      <td>cytokines</td>\n",
       "      <td>TOM</td>\n",
       "      <td>Pla_Camb10123935</td>\n",
       "      <td>TTTGTTGCAGTTGCGC-1_Pla_Camb10123935</td>\n",
       "      <td>0.075124</td>\n",
       "      <td>22616.0</td>\n",
       "      <td>scRNA-seq</td>\n",
       "      <td>10X</td>\n",
       "      <td>0.169231</td>\n",
       "      <td>0.211679</td>\n",
       "      <td>0.773329</td>\n",
       "      <td>13</td>\n",
       "      <td>False</td>\n",
       "      <td>2</td>\n",
       "    </tr>\n",
       "    <tr>\n",
       "      <th>TTTGTTGCATGATAGA-1-1</th>\n",
       "      <td>3912</td>\n",
       "      <td>96H</td>\n",
       "      <td>cytokines</td>\n",
       "      <td>TOM</td>\n",
       "      <td>Pla_Camb10123935</td>\n",
       "      <td>TTTGTTGCATGATAGA-1_Pla_Camb10123935</td>\n",
       "      <td>0.050489</td>\n",
       "      <td>15231.0</td>\n",
       "      <td>scRNA-seq</td>\n",
       "      <td>10X</td>\n",
       "      <td>0.072824</td>\n",
       "      <td>0.081285</td>\n",
       "      <td>0.970709</td>\n",
       "      <td>13</td>\n",
       "      <td>False</td>\n",
       "      <td>2</td>\n",
       "    </tr>\n",
       "    <tr>\n",
       "      <th>TTTGTTGGTGCTCCGA-1</th>\n",
       "      <td>5572</td>\n",
       "      <td>96H</td>\n",
       "      <td>cytokines</td>\n",
       "      <td>TOM</td>\n",
       "      <td>Pla_Camb10123935</td>\n",
       "      <td>TTTGTTGGTGCTCCGA-1_Pla_Camb10123935</td>\n",
       "      <td>0.144372</td>\n",
       "      <td>27540.0</td>\n",
       "      <td>scRNA-seq</td>\n",
       "      <td>10X</td>\n",
       "      <td>0.118280</td>\n",
       "      <td>0.150136</td>\n",
       "      <td>0.773329</td>\n",
       "      <td>13</td>\n",
       "      <td>False</td>\n",
       "      <td>2</td>\n",
       "    </tr>\n",
       "    <tr>\n",
       "      <th>TTTGTTGTCTTTGCTA-1</th>\n",
       "      <td>2840</td>\n",
       "      <td>96H</td>\n",
       "      <td>cytokines</td>\n",
       "      <td>TOM</td>\n",
       "      <td>Pla_Camb10123935</td>\n",
       "      <td>TTTGTTGTCTTTGCTA-1_Pla_Camb10123935</td>\n",
       "      <td>0.166763</td>\n",
       "      <td>6956.0</td>\n",
       "      <td>scRNA-seq</td>\n",
       "      <td>10X</td>\n",
       "      <td>0.125778</td>\n",
       "      <td>0.192262</td>\n",
       "      <td>0.773329</td>\n",
       "      <td>13</td>\n",
       "      <td>False</td>\n",
       "      <td>2</td>\n",
       "    </tr>\n",
       "  </tbody>\n",
       "</table>\n",
       "<p>110095 rows × 16 columns</p>\n",
       "</div>"
      ],
      "text/plain": [
       "                      n_genes time_point activation_status media  \\\n",
       "AAACCCAAGCTAGTTC-1        715         3H      no_cytokines  EVTM   \n",
       "AAACCCAAGGACATCG-1       1319         3H      no_cytokines  EVTM   \n",
       "AAACCCACAAAGTGTA-1       3765         3H      no_cytokines  EVTM   \n",
       "AAACCCAGTGCACGCT-1       2116         3H      no_cytokines  EVTM   \n",
       "AAACCCAGTTGGCCTG-1       2672         3H      no_cytokines  EVTM   \n",
       "...                       ...        ...               ...   ...   \n",
       "TTTGTTGCAGGTTCGC-1       3703        96H         cytokines   TOM   \n",
       "TTTGTTGCAGTTGCGC-1       4898        96H         cytokines   TOM   \n",
       "TTTGTTGCATGATAGA-1-1     3912        96H         cytokines   TOM   \n",
       "TTTGTTGGTGCTCCGA-1       5572        96H         cytokines   TOM   \n",
       "TTTGTTGTCTTTGCTA-1       2840        96H         cytokines   TOM   \n",
       "\n",
       "                                sample                       barcode_sample  \\\n",
       "AAACCCAAGCTAGTTC-1     6044STDY8640561   AAACCCAAGCTAGTTC-1_6044STDY8640561   \n",
       "AAACCCAAGGACATCG-1     6044STDY8640561   AAACCCAAGGACATCG-1_6044STDY8640561   \n",
       "AAACCCACAAAGTGTA-1     6044STDY8640561   AAACCCACAAAGTGTA-1_6044STDY8640561   \n",
       "AAACCCAGTGCACGCT-1     6044STDY8640561   AAACCCAGTGCACGCT-1_6044STDY8640561   \n",
       "AAACCCAGTTGGCCTG-1     6044STDY8640561   AAACCCAGTTGGCCTG-1_6044STDY8640561   \n",
       "...                                ...                                  ...   \n",
       "TTTGTTGCAGGTTCGC-1    Pla_Camb10123935  TTTGTTGCAGGTTCGC-1_Pla_Camb10123935   \n",
       "TTTGTTGCAGTTGCGC-1    Pla_Camb10123935  TTTGTTGCAGTTGCGC-1_Pla_Camb10123935   \n",
       "TTTGTTGCATGATAGA-1-1  Pla_Camb10123935  TTTGTTGCATGATAGA-1_Pla_Camb10123935   \n",
       "TTTGTTGGTGCTCCGA-1    Pla_Camb10123935  TTTGTTGGTGCTCCGA-1_Pla_Camb10123935   \n",
       "TTTGTTGTCTTTGCTA-1    Pla_Camb10123935  TTTGTTGTCTTTGCTA-1_Pla_Camb10123935   \n",
       "\n",
       "                      percent_mito  n_counts    dataset technique  \\\n",
       "AAACCCAAGCTAGTTC-1        0.016393    1220.0  scRNA-seq       10X   \n",
       "AAACCCAAGGACATCG-1        0.175336    2749.0  scRNA-seq       10X   \n",
       "AAACCCACAAAGTGTA-1        0.067086   18931.0  scRNA-seq       10X   \n",
       "AAACCCAGTGCACGCT-1        0.005407    6288.0  scRNA-seq       10X   \n",
       "AAACCCAGTTGGCCTG-1        0.111556   10999.0  scRNA-seq       10X   \n",
       "...                            ...       ...        ...       ...   \n",
       "TTTGTTGCAGGTTCGC-1        0.165256   14063.0  scRNA-seq       10X   \n",
       "TTTGTTGCAGTTGCGC-1        0.075124   22616.0  scRNA-seq       10X   \n",
       "TTTGTTGCATGATAGA-1-1      0.050489   15231.0  scRNA-seq       10X   \n",
       "TTTGTTGGTGCTCCGA-1        0.144372   27540.0  scRNA-seq       10X   \n",
       "TTTGTTGTCTTTGCTA-1        0.166763    6956.0  scRNA-seq       10X   \n",
       "\n",
       "                      scrublet_score  scrublet_cluster_score   bh_pval batch  \\\n",
       "AAACCCAAGCTAGTTC-1          0.025670                0.050578  0.997454     0   \n",
       "AAACCCAAGGACATCG-1          0.200000                0.225007  0.000664     0   \n",
       "AAACCCACAAAGTGTA-1          0.173047                0.088608  0.997454     0   \n",
       "AAACCCAGTGCACGCT-1          0.056231                0.101911  0.966822     0   \n",
       "AAACCCAGTTGGCCTG-1          0.054764                0.099062  0.966822     0   \n",
       "...                              ...                     ...       ...   ...   \n",
       "TTTGTTGCAGGTTCGC-1          0.142857                0.152639  0.773329    13   \n",
       "TTTGTTGCAGTTGCGC-1          0.169231                0.211679  0.773329    13   \n",
       "TTTGTTGCATGATAGA-1-1        0.072824                0.081285  0.970709    13   \n",
       "TTTGTTGGTGCTCCGA-1          0.118280                0.150136  0.773329    13   \n",
       "TTTGTTGTCTTTGCTA-1          0.125778                0.192262  0.773329    13   \n",
       "\n",
       "                      is_doublet experiment  \n",
       "AAACCCAAGCTAGTTC-1         False          1  \n",
       "AAACCCAAGGACATCG-1          True          1  \n",
       "AAACCCACAAAGTGTA-1         False          1  \n",
       "AAACCCAGTGCACGCT-1         False          1  \n",
       "AAACCCAGTTGGCCTG-1         False          1  \n",
       "...                          ...        ...  \n",
       "TTTGTTGCAGGTTCGC-1         False          2  \n",
       "TTTGTTGCAGTTGCGC-1         False          2  \n",
       "TTTGTTGCATGATAGA-1-1       False          2  \n",
       "TTTGTTGGTGCTCCGA-1         False          2  \n",
       "TTTGTTGTCTTTGCTA-1         False          2  \n",
       "\n",
       "[110095 rows x 16 columns]"
      ]
     },
     "execution_count": 36,
     "metadata": {},
     "output_type": "execute_result"
    }
   ],
   "source": [
    "adata.obs"
   ]
  },
  {
   "cell_type": "code",
   "execution_count": 37,
   "metadata": {},
   "outputs": [
    {
     "data": {
      "text/plain": [
       "AAACCCAAGCTAGTTC-1       AAACCCAAGCTAGTTC-1_6044STDY8640561\n",
       "AAACCCAAGGACATCG-1       AAACCCAAGGACATCG-1_6044STDY8640561\n",
       "AAACCCACAAAGTGTA-1       AAACCCACAAAGTGTA-1_6044STDY8640561\n",
       "AAACCCAGTGCACGCT-1       AAACCCAGTGCACGCT-1_6044STDY8640561\n",
       "AAACCCAGTTGGCCTG-1       AAACCCAGTTGGCCTG-1_6044STDY8640561\n",
       "                                       ...                 \n",
       "TTTGTTGCAGGTTCGC-1      TTTGTTGCAGGTTCGC-1_Pla_Camb10123935\n",
       "TTTGTTGCAGTTGCGC-1      TTTGTTGCAGTTGCGC-1_Pla_Camb10123935\n",
       "TTTGTTGCATGATAGA-1-1    TTTGTTGCATGATAGA-1_Pla_Camb10123935\n",
       "TTTGTTGGTGCTCCGA-1      TTTGTTGGTGCTCCGA-1_Pla_Camb10123935\n",
       "TTTGTTGTCTTTGCTA-1      TTTGTTGTCTTTGCTA-1_Pla_Camb10123935\n",
       "Name: barcode_sample, Length: 110095, dtype: object"
      ]
     },
     "execution_count": 37,
     "metadata": {},
     "output_type": "execute_result"
    }
   ],
   "source": [
    "adata.obs['barcode_sample']"
   ]
  },
  {
   "cell_type": "code",
   "execution_count": 38,
   "metadata": {},
   "outputs": [
    {
     "data": {
      "text/plain": [
       "110095"
      ]
     },
     "execution_count": 38,
     "metadata": {},
     "output_type": "execute_result"
    }
   ],
   "source": [
    "len(set(adata.obs['barcode_sample']) & set(souporcell_meta_table.index))"
   ]
  },
  {
   "cell_type": "code",
   "execution_count": 39,
   "metadata": {},
   "outputs": [
    {
     "data": {
      "text/plain": [
       "AnnData object with n_obs × n_vars = 110095 × 23281\n",
       "    obs: 'n_genes', 'time_point', 'activation_status', 'media', 'sample', 'barcode_sample', 'percent_mito', 'n_counts', 'dataset', 'technique', 'scrublet_score', 'scrublet_cluster_score', 'bh_pval', 'batch', 'is_doublet', 'experiment'\n",
       "    var: 'gene_ids-0', 'feature_types-0', 'genome-0', 'n_cells-0', 'gene_ids-1', 'feature_types-1', 'genome-1', 'n_cells-1', 'gene_ids-10', 'feature_types-10', 'genome-10', 'n_cells-10', 'gene_ids-11', 'feature_types-11', 'genome-11', 'n_cells-11', 'gene_ids-12', 'feature_types-12', 'genome-12', 'n_cells-12', 'gene_ids-13', 'feature_types-13', 'genome-13', 'n_cells-13', 'gene_ids-2', 'feature_types-2', 'genome-2', 'n_cells-2', 'gene_ids-3', 'feature_types-3', 'genome-3', 'n_cells-3', 'gene_ids-4', 'feature_types-4', 'genome-4', 'n_cells-4', 'gene_ids-5', 'feature_types-5', 'genome-5', 'n_cells-5', 'gene_ids-6', 'feature_types-6', 'genome-6', 'n_cells-6', 'gene_ids-7', 'feature_types-7', 'genome-7', 'n_cells-7', 'gene_ids-8', 'feature_types-8', 'genome-8', 'n_cells-8', 'gene_ids-9', 'feature_types-9', 'genome-9', 'n_cells-9'"
      ]
     },
     "execution_count": 39,
     "metadata": {},
     "output_type": "execute_result"
    }
   ],
   "source": [
    "adata"
   ]
  },
  {
   "cell_type": "code",
   "execution_count": 40,
   "metadata": {},
   "outputs": [
    {
     "data": {
      "text/plain": [
       "Index(['AAACCCAAGCTAGTTC-1_6044STDY8640561',\n",
       "       'AAACCCAAGGACATCG-1_6044STDY8640561',\n",
       "       'AAACCCACAAAGTGTA-1_6044STDY8640561',\n",
       "       'AAACCCAGTGCACGCT-1_6044STDY8640561',\n",
       "       'AAACCCAGTTGGCCTG-1_6044STDY8640561',\n",
       "       'AAACCCATCTCGACGG-1_6044STDY8640561',\n",
       "       'AAACGAAAGCGCCTTG-1_6044STDY8640561',\n",
       "       'AAACGAAAGCTCCACG-1_6044STDY8640561',\n",
       "       'AAACGAAAGTCTCGTA-1_6044STDY8640561',\n",
       "       'AAACGAACAACCACGC-1_6044STDY8640561',\n",
       "       ...\n",
       "       'TTTGTTGCAAGCCTGC-1_Pla_Camb10123935',\n",
       "       'TTTGTTGCACAACGCC-1_Pla_Camb10123935',\n",
       "       'TTTGTTGCACCTGATA-1_Pla_Camb10123935',\n",
       "       'TTTGTTGCAGGTTCGC-1_Pla_Camb10123935',\n",
       "       'TTTGTTGCAGTTGCGC-1_Pla_Camb10123935',\n",
       "       'TTTGTTGCATGATAGA-1_Pla_Camb10123935',\n",
       "       'TTTGTTGCATTAGGAA-1_Pla_Camb10123935',\n",
       "       'TTTGTTGGTGCTCCGA-1_Pla_Camb10123935',\n",
       "       'TTTGTTGTCCCAACTC-1_Pla_Camb10123935',\n",
       "       'TTTGTTGTCTTTGCTA-1_Pla_Camb10123935'],\n",
       "      dtype='object', name='barcode_sample', length=130400)"
      ]
     },
     "execution_count": 40,
     "metadata": {},
     "output_type": "execute_result"
    }
   ],
   "source": [
    "souporcell_meta_table.index"
   ]
  },
  {
   "cell_type": "code",
   "execution_count": 41,
   "metadata": {},
   "outputs": [],
   "source": [
    "def add_souporcell(adata_obj, barcode):\n",
    "    \n",
    "    # cell_id column here is barcode_sample column (unique IDs)\n",
    "    curr_barcode_sample = adata_obj.obs.loc[barcode,'barcode_sample']\n",
    "    curr_sample = adata_obj.obs.loc[barcode,'sample']\n",
    "    \n",
    "    #print('curr_barcode_sample:', curr_barcode_sample)\n",
    "\n",
    "    if curr_barcode_sample in souporcell_meta_table.index:\n",
    "        assignment = curr_sample+'_'+souporcell_meta_table.loc[curr_barcode_sample,'assignment']\n",
    "        return(assignment)\n",
    "    else:\n",
    "        return('no_deconv_yet')"
   ]
  },
  {
   "cell_type": "code",
   "execution_count": 42,
   "metadata": {},
   "outputs": [],
   "source": [
    "adata.obs['barcode'] = adata.obs.index"
   ]
  },
  {
   "cell_type": "code",
   "execution_count": 43,
   "metadata": {},
   "outputs": [],
   "source": [
    "adata.obs['souporcell_assignment'] = adata.obs['barcode'].apply(lambda x: add_souporcell(adata,x))"
   ]
  },
  {
   "cell_type": "code",
   "execution_count": 44,
   "metadata": {
    "tags": []
   },
   "outputs": [
    {
     "data": {
      "text/plain": [
       "(array(['6044STDY8640561_0', '6044STDY8640561_0/1', '6044STDY8640561_0/2',\n",
       "        '6044STDY8640561_1', '6044STDY8640561_1/0', '6044STDY8640561_1/2',\n",
       "        '6044STDY8640561_2', '6044STDY8640561_2/0', '6044STDY8640561_2/1',\n",
       "        '6044STDY8640562_0', '6044STDY8640562_0/1', '6044STDY8640562_0/2',\n",
       "        '6044STDY8640562_1', '6044STDY8640562_1/0', '6044STDY8640562_1/2',\n",
       "        '6044STDY8640562_2', '6044STDY8640562_2/0', '6044STDY8640562_2/1',\n",
       "        '6044STDY8640563_0', '6044STDY8640563_0/1', '6044STDY8640563_0/2',\n",
       "        '6044STDY8640563_1', '6044STDY8640563_1/0', '6044STDY8640563_1/2',\n",
       "        '6044STDY8640563_2', '6044STDY8640563_2/0', '6044STDY8640563_2/1',\n",
       "        '6044STDY8640564_0', '6044STDY8640564_0/1', '6044STDY8640564_0/2',\n",
       "        '6044STDY8640564_1', '6044STDY8640564_1/0', '6044STDY8640564_1/2',\n",
       "        '6044STDY8640564_2', '6044STDY8640564_2/0', '6044STDY8640564_2/1',\n",
       "        '6044STDY8640565_0', '6044STDY8640565_0/1', '6044STDY8640565_0/2',\n",
       "        '6044STDY8640565_1', '6044STDY8640565_1/0', '6044STDY8640565_1/2',\n",
       "        '6044STDY8640565_2', '6044STDY8640565_2/0', '6044STDY8640565_2/1',\n",
       "        '6044STDY8640566_0', '6044STDY8640566_0/1', '6044STDY8640566_0/2',\n",
       "        '6044STDY8640566_1', '6044STDY8640566_1/0', '6044STDY8640566_1/2',\n",
       "        '6044STDY8640566_2', '6044STDY8640566_2/0', '6044STDY8640566_2/1',\n",
       "        'Pla_Camb10123928_0', 'Pla_Camb10123928_0/1',\n",
       "        'Pla_Camb10123928_0/2', 'Pla_Camb10123928_1',\n",
       "        'Pla_Camb10123928_1/0', 'Pla_Camb10123928_1/2',\n",
       "        'Pla_Camb10123928_2', 'Pla_Camb10123928_2/0',\n",
       "        'Pla_Camb10123928_2/1', 'Pla_Camb10123929_0',\n",
       "        'Pla_Camb10123929_0/1', 'Pla_Camb10123929_0/2',\n",
       "        'Pla_Camb10123929_1', 'Pla_Camb10123929_1/0',\n",
       "        'Pla_Camb10123929_1/2', 'Pla_Camb10123929_2',\n",
       "        'Pla_Camb10123929_2/0', 'Pla_Camb10123929_2/1',\n",
       "        'Pla_Camb10123930_0', 'Pla_Camb10123930_0/1',\n",
       "        'Pla_Camb10123930_0/2', 'Pla_Camb10123930_1',\n",
       "        'Pla_Camb10123930_1/0', 'Pla_Camb10123930_1/2',\n",
       "        'Pla_Camb10123930_2', 'Pla_Camb10123930_2/0',\n",
       "        'Pla_Camb10123930_2/1', 'Pla_Camb10123931_0',\n",
       "        'Pla_Camb10123931_0/1', 'Pla_Camb10123931_0/2',\n",
       "        'Pla_Camb10123931_1', 'Pla_Camb10123931_1/0', 'Pla_Camb10123931_2',\n",
       "        'Pla_Camb10123931_2/0', 'Pla_Camb10123931_2/1',\n",
       "        'Pla_Camb10123932_0', 'Pla_Camb10123932_0/1',\n",
       "        'Pla_Camb10123932_0/2', 'Pla_Camb10123932_1',\n",
       "        'Pla_Camb10123932_1/0', 'Pla_Camb10123932_1/2',\n",
       "        'Pla_Camb10123932_2', 'Pla_Camb10123932_2/0',\n",
       "        'Pla_Camb10123932_2/1', 'Pla_Camb10123933_0',\n",
       "        'Pla_Camb10123933_0/1', 'Pla_Camb10123933_0/2',\n",
       "        'Pla_Camb10123933_1', 'Pla_Camb10123933_1/0',\n",
       "        'Pla_Camb10123933_1/2', 'Pla_Camb10123933_2',\n",
       "        'Pla_Camb10123933_2/0', 'Pla_Camb10123933_2/1',\n",
       "        'Pla_Camb10123934_0', 'Pla_Camb10123934_0/1',\n",
       "        'Pla_Camb10123934_0/2', 'Pla_Camb10123934_1',\n",
       "        'Pla_Camb10123934_1/0', 'Pla_Camb10123934_1/2',\n",
       "        'Pla_Camb10123934_2', 'Pla_Camb10123934_2/0',\n",
       "        'Pla_Camb10123934_2/1', 'Pla_Camb10123935_0',\n",
       "        'Pla_Camb10123935_0/1', 'Pla_Camb10123935_0/2',\n",
       "        'Pla_Camb10123935_1', 'Pla_Camb10123935_1/0',\n",
       "        'Pla_Camb10123935_1/2', 'Pla_Camb10123935_2',\n",
       "        'Pla_Camb10123935_2/0', 'Pla_Camb10123935_2/1'], dtype=object),\n",
       " array([ 323,   15,   11, 4753,   57,  135, 1565,   57,  103, 6146,  171,\n",
       "         382,   17,    6,    1, 1219,  130,  170, 2697,   57,  175,  798,\n",
       "          18,   24, 5241,   97,   43, 1332,   60,   56, 1218,   36,   61,\n",
       "        5579,  109,   87, 1698,  129,   61, 4040,  151,  521, 1625,  157,\n",
       "         260,  706,   25,   22, 2499,   83,  133, 5249,   82,  105, 1754,\n",
       "         249,  123, 1487,  239,  159,  163,   11,   11,  274,   20,   10,\n",
       "        6067,  140,  305,  786,    8,   30, 4065,  913,  374, 2582,  943,\n",
       "         175,  220,   18,    5, 4484,  936, 1481,  146,    4, 4014,  915,\n",
       "         561, 1051,  136,  174, 2288,  371,  328,   64,    3,    2, 3029,\n",
       "         749,  799,  166,    3,    7, 1190,  221,  398, 1035,   60,   32,\n",
       "        4522,  126,  149, 1329,   42,   88, 3925,  182,  118, 2319,  158,\n",
       "         125,  692,   27,   20]))"
      ]
     },
     "execution_count": 44,
     "metadata": {},
     "output_type": "execute_result"
    }
   ],
   "source": [
    "np.unique(adata.obs['souporcell_assignment'], return_counts=True)"
   ]
  },
  {
   "cell_type": "code",
   "execution_count": 45,
   "metadata": {},
   "outputs": [
    {
     "data": {
      "text/plain": [
       "array(['6044STDY8640561', '6044STDY8640562', '6044STDY8640563',\n",
       "       '6044STDY8640564', '6044STDY8640565', '6044STDY8640566',\n",
       "       'Pla_Camb10123928', 'Pla_Camb10123929', 'Pla_Camb10123930',\n",
       "       'Pla_Camb10123931', 'Pla_Camb10123932', 'Pla_Camb10123933',\n",
       "       'Pla_Camb10123934', 'Pla_Camb10123935'], dtype=object)"
      ]
     },
     "execution_count": 45,
     "metadata": {},
     "output_type": "execute_result"
    }
   ],
   "source": [
    "np.unique(adata.obs['sample'])"
   ]
  },
  {
   "cell_type": "code",
   "execution_count": 46,
   "metadata": {},
   "outputs": [],
   "source": [
    "# flagging inter-individual doublets\n",
    "adata.obs['inter_ind_doublet'] = [1 if '/' in elem else 0 for elem in adata.obs['souporcell_assignment']]\n"
   ]
  },
  {
   "cell_type": "code",
   "execution_count": 47,
   "metadata": {},
   "outputs": [
    {
     "data": {
      "text/plain": [
       "(array([0, 1]), array([94357, 15738]))"
      ]
     },
     "execution_count": 47,
     "metadata": {},
     "output_type": "execute_result"
    }
   ],
   "source": [
    "# checking if it all adds up\n",
    "np.unique(adata.obs['inter_ind_doublet'], return_counts=True)"
   ]
  },
  {
   "cell_type": "code",
   "execution_count": 48,
   "metadata": {},
   "outputs": [
    {
     "data": {
      "text/plain": [
       "(array(['1', '2'], dtype=object), array([50495, 59600]))"
      ]
     },
     "execution_count": 48,
     "metadata": {},
     "output_type": "execute_result"
    }
   ],
   "source": [
    "np.unique(adata.obs['experiment'], return_counts=True)"
   ]
  },
  {
   "cell_type": "code",
   "execution_count": 49,
   "metadata": {},
   "outputs": [
    {
     "name": "stderr",
     "output_type": "stream",
     "text": [
      "/opt/conda/lib/python3.8/site-packages/pandas/core/arrays/categorical.py:2487: FutureWarning: The `inplace` parameter in pandas.Categorical.remove_unused_categories is deprecated and will be removed in a future version.\n",
      "  res = method(*args, **kwargs)\n"
     ]
    },
    {
     "name": "stdout",
     "output_type": "stream",
     "text": [
      "experiment 1 : 50495 total cells\n",
      "(array([0, 1]), array([46705,  3790]))\n",
      "experiment 2 : 59600 total cells\n",
      "(array([0, 1]), array([47652, 11948]))\n"
     ]
    }
   ],
   "source": [
    "for exp_batch in np.unique(adata.obs['experiment']):\n",
    "    curr_adata = adata[adata.obs['experiment'] == exp_batch]\n",
    "    print('experiment', exp_batch, ':', curr_adata.X.shape[0], 'total cells')\n",
    "    \n",
    "    print(np.unique(curr_adata.obs['inter_ind_doublet'], return_counts=True))\n",
    "    "
   ]
  },
  {
   "cell_type": "code",
   "execution_count": 50,
   "metadata": {},
   "outputs": [
    {
     "data": {
      "text/plain": [
       "AnnData object with n_obs × n_vars = 110095 × 23281\n",
       "    obs: 'n_genes', 'time_point', 'activation_status', 'media', 'sample', 'barcode_sample', 'percent_mito', 'n_counts', 'dataset', 'technique', 'scrublet_score', 'scrublet_cluster_score', 'bh_pval', 'batch', 'is_doublet', 'experiment', 'barcode', 'souporcell_assignment', 'inter_ind_doublet'\n",
       "    var: 'gene_ids-0', 'feature_types-0', 'genome-0', 'n_cells-0', 'gene_ids-1', 'feature_types-1', 'genome-1', 'n_cells-1', 'gene_ids-10', 'feature_types-10', 'genome-10', 'n_cells-10', 'gene_ids-11', 'feature_types-11', 'genome-11', 'n_cells-11', 'gene_ids-12', 'feature_types-12', 'genome-12', 'n_cells-12', 'gene_ids-13', 'feature_types-13', 'genome-13', 'n_cells-13', 'gene_ids-2', 'feature_types-2', 'genome-2', 'n_cells-2', 'gene_ids-3', 'feature_types-3', 'genome-3', 'n_cells-3', 'gene_ids-4', 'feature_types-4', 'genome-4', 'n_cells-4', 'gene_ids-5', 'feature_types-5', 'genome-5', 'n_cells-5', 'gene_ids-6', 'feature_types-6', 'genome-6', 'n_cells-6', 'gene_ids-7', 'feature_types-7', 'genome-7', 'n_cells-7', 'gene_ids-8', 'feature_types-8', 'genome-8', 'n_cells-8', 'gene_ids-9', 'feature_types-9', 'genome-9', 'n_cells-9'"
      ]
     },
     "execution_count": 50,
     "metadata": {},
     "output_type": "execute_result"
    }
   ],
   "source": [
    "adata"
   ]
  },
  {
   "cell_type": "code",
   "execution_count": 51,
   "metadata": {},
   "outputs": [
    {
     "data": {
      "text/plain": [
       "15738"
      ]
     },
     "execution_count": 51,
     "metadata": {},
     "output_type": "execute_result"
    }
   ],
   "source": [
    "np.unique(adata.obs['inter_ind_doublet'], return_counts=True)[1][1]"
   ]
  },
  {
   "cell_type": "code",
   "execution_count": 52,
   "metadata": {},
   "outputs": [
    {
     "data": {
      "text/plain": [
       "0.14294927108406377"
      ]
     },
     "execution_count": 52,
     "metadata": {},
     "output_type": "execute_result"
    }
   ],
   "source": [
    "# so about 14% doubets (inter-individual)\n",
    "np.unique(adata.obs['inter_ind_doublet'], return_counts=True)[1][1] / adata.X.shape[0]\n"
   ]
  },
  {
   "cell_type": "code",
   "execution_count": 53,
   "metadata": {},
   "outputs": [
    {
     "name": "stderr",
     "output_type": "stream",
     "text": [
      "/opt/conda/lib/python3.8/site-packages/pandas/core/arrays/categorical.py:2487: FutureWarning: The `inplace` parameter in pandas.Categorical.remove_unused_categories is deprecated and will be removed in a future version.\n",
      "  res = method(*args, **kwargs)\n"
     ]
    }
   ],
   "source": [
    "# discarding inter-individual doublets\n",
    "adata = adata[adata.obs['inter_ind_doublet'] == 0].copy()"
   ]
  },
  {
   "cell_type": "code",
   "execution_count": 54,
   "metadata": {},
   "outputs": [
    {
     "data": {
      "text/plain": [
       "AnnData object with n_obs × n_vars = 94357 × 23281\n",
       "    obs: 'n_genes', 'time_point', 'activation_status', 'media', 'sample', 'barcode_sample', 'percent_mito', 'n_counts', 'dataset', 'technique', 'scrublet_score', 'scrublet_cluster_score', 'bh_pval', 'batch', 'is_doublet', 'experiment', 'barcode', 'souporcell_assignment', 'inter_ind_doublet'\n",
       "    var: 'gene_ids-0', 'feature_types-0', 'genome-0', 'n_cells-0', 'gene_ids-1', 'feature_types-1', 'genome-1', 'n_cells-1', 'gene_ids-10', 'feature_types-10', 'genome-10', 'n_cells-10', 'gene_ids-11', 'feature_types-11', 'genome-11', 'n_cells-11', 'gene_ids-12', 'feature_types-12', 'genome-12', 'n_cells-12', 'gene_ids-13', 'feature_types-13', 'genome-13', 'n_cells-13', 'gene_ids-2', 'feature_types-2', 'genome-2', 'n_cells-2', 'gene_ids-3', 'feature_types-3', 'genome-3', 'n_cells-3', 'gene_ids-4', 'feature_types-4', 'genome-4', 'n_cells-4', 'gene_ids-5', 'feature_types-5', 'genome-5', 'n_cells-5', 'gene_ids-6', 'feature_types-6', 'genome-6', 'n_cells-6', 'gene_ids-7', 'feature_types-7', 'genome-7', 'n_cells-7', 'gene_ids-8', 'feature_types-8', 'genome-8', 'n_cells-8', 'gene_ids-9', 'feature_types-9', 'genome-9', 'n_cells-9'"
      ]
     },
     "execution_count": 54,
     "metadata": {},
     "output_type": "execute_result"
    }
   ],
   "source": [
    "adata"
   ]
  },
  {
   "cell_type": "code",
   "execution_count": 55,
   "metadata": {},
   "outputs": [
    {
     "data": {
      "text/plain": [
       "(array(['6044STDY8640561_0', '6044STDY8640561_1', '6044STDY8640561_2',\n",
       "        '6044STDY8640562_0', '6044STDY8640562_1', '6044STDY8640562_2',\n",
       "        '6044STDY8640563_0', '6044STDY8640563_1', '6044STDY8640563_2',\n",
       "        '6044STDY8640564_0', '6044STDY8640564_1', '6044STDY8640564_2',\n",
       "        '6044STDY8640565_0', '6044STDY8640565_1', '6044STDY8640565_2',\n",
       "        '6044STDY8640566_0', '6044STDY8640566_1', '6044STDY8640566_2',\n",
       "        'Pla_Camb10123928_0', 'Pla_Camb10123928_1', 'Pla_Camb10123928_2',\n",
       "        'Pla_Camb10123929_0', 'Pla_Camb10123929_1', 'Pla_Camb10123929_2',\n",
       "        'Pla_Camb10123930_0', 'Pla_Camb10123930_1', 'Pla_Camb10123930_2',\n",
       "        'Pla_Camb10123931_0', 'Pla_Camb10123931_1', 'Pla_Camb10123931_2',\n",
       "        'Pla_Camb10123932_0', 'Pla_Camb10123932_1', 'Pla_Camb10123932_2',\n",
       "        'Pla_Camb10123933_0', 'Pla_Camb10123933_1', 'Pla_Camb10123933_2',\n",
       "        'Pla_Camb10123934_0', 'Pla_Camb10123934_1', 'Pla_Camb10123934_2',\n",
       "        'Pla_Camb10123935_0', 'Pla_Camb10123935_1', 'Pla_Camb10123935_2'],\n",
       "       dtype=object),\n",
       " array([ 323, 4753, 1565, 6146,   17, 1219, 2697,  798, 5241, 1332, 1218,\n",
       "        5579, 1698, 4040, 1625,  706, 2499, 5249, 1754, 1487,  163,  274,\n",
       "        6067,  786, 4065, 2582,  220, 4484,  146, 4014, 1051, 2288,   64,\n",
       "        3029,  166, 1190, 1035, 4522, 1329, 3925, 2319,  692]))"
      ]
     },
     "execution_count": 55,
     "metadata": {},
     "output_type": "execute_result"
    }
   ],
   "source": [
    "np.unique(adata.obs['souporcell_assignment'], return_counts=True)"
   ]
  },
  {
   "cell_type": "code",
   "execution_count": 56,
   "metadata": {
    "tags": []
   },
   "outputs": [
    {
     "name": "stdout",
     "output_type": "stream",
     "text": [
      "6044STDY8640561_0 323\n",
      "6044STDY8640561_1 4753\n",
      "6044STDY8640561_2 1565\n",
      "6044STDY8640562_0 6146\n",
      "6044STDY8640562_1 17\n",
      "6044STDY8640562_2 1219\n",
      "6044STDY8640563_0 2697\n",
      "6044STDY8640563_1 798\n",
      "6044STDY8640563_2 5241\n",
      "6044STDY8640564_0 1332\n",
      "6044STDY8640564_1 1218\n",
      "6044STDY8640564_2 5579\n",
      "6044STDY8640565_0 1698\n",
      "6044STDY8640565_1 4040\n",
      "6044STDY8640565_2 1625\n",
      "6044STDY8640566_0 706\n",
      "6044STDY8640566_1 2499\n",
      "6044STDY8640566_2 5249\n",
      "Pla_Camb10123928_0 1754\n",
      "Pla_Camb10123928_1 1487\n",
      "Pla_Camb10123928_2 163\n",
      "Pla_Camb10123929_0 274\n",
      "Pla_Camb10123929_1 6067\n",
      "Pla_Camb10123929_2 786\n",
      "Pla_Camb10123930_0 4065\n",
      "Pla_Camb10123930_1 2582\n",
      "Pla_Camb10123930_2 220\n",
      "Pla_Camb10123931_0 4484\n",
      "Pla_Camb10123931_1 146\n",
      "Pla_Camb10123931_2 4014\n",
      "Pla_Camb10123932_0 1051\n",
      "Pla_Camb10123932_1 2288\n",
      "Pla_Camb10123932_2 64\n",
      "Pla_Camb10123933_0 3029\n",
      "Pla_Camb10123933_1 166\n",
      "Pla_Camb10123933_2 1190\n",
      "Pla_Camb10123934_0 1035\n",
      "Pla_Camb10123934_1 4522\n",
      "Pla_Camb10123934_2 1329\n",
      "Pla_Camb10123935_0 3925\n",
      "Pla_Camb10123935_1 2319\n",
      "Pla_Camb10123935_2 692\n"
     ]
    }
   ],
   "source": [
    "donor_counts = np.unique(adata.obs['souporcell_assignment'], return_counts=True)\n",
    "\n",
    "for i in range(len(donor_counts[0])):\n",
    "    print(donor_counts[0][i], donor_counts[1][i])\n",
    "    "
   ]
  },
  {
   "cell_type": "markdown",
   "metadata": {},
   "source": [
    "##### matching of souporcell IDs was done manually, csv files are in this directory\n",
    "##### in the experiment 1 samples donor 6044STDY8640561_0 was not really viable (has low numbers of cells detected in other samples, almost no cells (17) in sample 6044STDY8640562)\n",
    "\n"
   ]
  },
  {
   "cell_type": "markdown",
   "metadata": {},
   "source": [
    "## Coming to temporary donor IDs matched across all samples"
   ]
  },
  {
   "cell_type": "code",
   "execution_count": 57,
   "metadata": {},
   "outputs": [
    {
     "data": {
      "text/plain": [
       "array(['6044STDY8640561_0', '6044STDY8640561_1', '6044STDY8640561_2',\n",
       "       '6044STDY8640562_0', '6044STDY8640562_1', '6044STDY8640562_2',\n",
       "       '6044STDY8640563_0', '6044STDY8640563_1', '6044STDY8640563_2',\n",
       "       '6044STDY8640564_0', '6044STDY8640564_1', '6044STDY8640564_2',\n",
       "       '6044STDY8640565_0', '6044STDY8640565_1', '6044STDY8640565_2',\n",
       "       '6044STDY8640566_0', '6044STDY8640566_1', '6044STDY8640566_2',\n",
       "       'Pla_Camb10123928_0', 'Pla_Camb10123928_1', 'Pla_Camb10123928_2',\n",
       "       'Pla_Camb10123929_0', 'Pla_Camb10123929_1', 'Pla_Camb10123929_2',\n",
       "       'Pla_Camb10123930_0', 'Pla_Camb10123930_1', 'Pla_Camb10123930_2',\n",
       "       'Pla_Camb10123931_0', 'Pla_Camb10123931_1', 'Pla_Camb10123931_2',\n",
       "       'Pla_Camb10123932_0', 'Pla_Camb10123932_1', 'Pla_Camb10123932_2',\n",
       "       'Pla_Camb10123933_0', 'Pla_Camb10123933_1', 'Pla_Camb10123933_2',\n",
       "       'Pla_Camb10123934_0', 'Pla_Camb10123934_1', 'Pla_Camb10123934_2',\n",
       "       'Pla_Camb10123935_0', 'Pla_Camb10123935_1', 'Pla_Camb10123935_2'],\n",
       "      dtype=object)"
      ]
     },
     "execution_count": 57,
     "metadata": {},
     "output_type": "execute_result"
    }
   ],
   "source": [
    "np.unique(adata.obs['souporcell_assignment'])"
   ]
  },
  {
   "cell_type": "code",
   "execution_count": 60,
   "metadata": {},
   "outputs": [],
   "source": [
    "def annot_temp_donor_ID(adata_obj, barcode):\n",
    "    \n",
    "    curr_souporcell_assignment = adata_obj.obs.loc[barcode, 'souporcell_assignment']\n",
    "    \n",
    "    if curr_souporcell_assignment in ['6044STDY8640561_0',\n",
    "                                      '6044STDY8640562_1',\n",
    "                                      '6044STDY8640563_1',\n",
    "                                      '6044STDY8640564_0',\n",
    "                                      '6044STDY8640565_2',\n",
    "                                      '6044STDY8640566_0']:\n",
    "        # problematic donor?\n",
    "        return('1')\n",
    "    \n",
    "    elif curr_souporcell_assignment in ['6044STDY8640561_1',\n",
    "                                      '6044STDY8640562_0',\n",
    "                                      '6044STDY8640563_2',\n",
    "                                      '6044STDY8640564_2',\n",
    "                                      '6044STDY8640565_1',\n",
    "                                      '6044STDY8640566_2']:\n",
    "        return('2')\n",
    "    \n",
    "    elif curr_souporcell_assignment in ['6044STDY8640561_2',\n",
    "                                      '6044STDY8640562_2',\n",
    "                                      '6044STDY8640563_0',\n",
    "                                      '6044STDY8640564_1',\n",
    "                                      '6044STDY8640565_0',\n",
    "                                      '6044STDY8640566_1']:\n",
    "        return('3')\n",
    "    \n",
    "    \n",
    "    elif curr_souporcell_assignment in ['Pla_Camb10123928_0',\n",
    "                                        'Pla_Camb10123929_1',\n",
    "                                        'Pla_Camb10123930_1',\n",
    "                                        'Pla_Camb10123931_2',\n",
    "                                        'Pla_Camb10123932_1',\n",
    "                                        'Pla_Camb10123933_0',\n",
    "                                        'Pla_Camb10123934_1',\n",
    "                                        'Pla_Camb10123935_0']:\n",
    "        return('4')\n",
    "    \n",
    "    elif curr_souporcell_assignment in ['Pla_Camb10123928_1',\n",
    "                                        'Pla_Camb10123929_2',\n",
    "                                        'Pla_Camb10123930_0',\n",
    "                                        'Pla_Camb10123931_0',\n",
    "                                        'Pla_Camb10123932_0',\n",
    "                                        'Pla_Camb10123933_2',\n",
    "                                        'Pla_Camb10123934_0',\n",
    "                                        'Pla_Camb10123935_1']:\n",
    "        return('5')\n",
    "    \n",
    "    elif curr_souporcell_assignment in ['Pla_Camb10123928_2',\n",
    "                                        'Pla_Camb10123929_0',\n",
    "                                        'Pla_Camb10123930_2',\n",
    "                                        'Pla_Camb10123931_1',\n",
    "                                        'Pla_Camb10123932_2',\n",
    "                                        'Pla_Camb10123933_1',\n",
    "                                        'Pla_Camb10123934_2',\n",
    "                                        'Pla_Camb10123935_2']:\n",
    "        return('6')\n",
    "    \n",
    "    \n",
    "    else:\n",
    "        #print('in exception, curr_souporcell_assignment is', curr_souporcell_assignment)\n",
    "        return('not_assigned')\n",
    "    \n",
    "\n",
    "    "
   ]
  },
  {
   "cell_type": "code",
   "execution_count": 61,
   "metadata": {},
   "outputs": [],
   "source": [
    "adata.obs['donor'] = adata.obs['barcode'].apply(lambda x: annot_temp_donor_ID(adata, x))"
   ]
  },
  {
   "cell_type": "code",
   "execution_count": 62,
   "metadata": {},
   "outputs": [
    {
     "data": {
      "text/plain": [
       "(array(['1', '2', '3', '4', '5', '6'], dtype=object),\n",
       " array([ 4801, 31008, 10896, 28181, 16417,  3054]))"
      ]
     },
     "execution_count": 62,
     "metadata": {},
     "output_type": "execute_result"
    }
   ],
   "source": [
    "np.unique(adata.obs['donor'], return_counts=True)"
   ]
  },
  {
   "cell_type": "code",
   "execution_count": 63,
   "metadata": {},
   "outputs": [
    {
     "data": {
      "text/plain": [
       "AnnData object with n_obs × n_vars = 94357 × 23281\n",
       "    obs: 'n_genes', 'time_point', 'activation_status', 'media', 'sample', 'barcode_sample', 'percent_mito', 'n_counts', 'dataset', 'technique', 'scrublet_score', 'scrublet_cluster_score', 'bh_pval', 'batch', 'is_doublet', 'experiment', 'barcode', 'souporcell_assignment', 'inter_ind_doublet', 'donor'\n",
       "    var: 'gene_ids-0', 'feature_types-0', 'genome-0', 'n_cells-0', 'gene_ids-1', 'feature_types-1', 'genome-1', 'n_cells-1', 'gene_ids-10', 'feature_types-10', 'genome-10', 'n_cells-10', 'gene_ids-11', 'feature_types-11', 'genome-11', 'n_cells-11', 'gene_ids-12', 'feature_types-12', 'genome-12', 'n_cells-12', 'gene_ids-13', 'feature_types-13', 'genome-13', 'n_cells-13', 'gene_ids-2', 'feature_types-2', 'genome-2', 'n_cells-2', 'gene_ids-3', 'feature_types-3', 'genome-3', 'n_cells-3', 'gene_ids-4', 'feature_types-4', 'genome-4', 'n_cells-4', 'gene_ids-5', 'feature_types-5', 'genome-5', 'n_cells-5', 'gene_ids-6', 'feature_types-6', 'genome-6', 'n_cells-6', 'gene_ids-7', 'feature_types-7', 'genome-7', 'n_cells-7', 'gene_ids-8', 'feature_types-8', 'genome-8', 'n_cells-8', 'gene_ids-9', 'feature_types-9', 'genome-9', 'n_cells-9'"
      ]
     },
     "execution_count": 63,
     "metadata": {},
     "output_type": "execute_result"
    }
   ],
   "source": [
    "adata"
   ]
  },
  {
   "cell_type": "code",
   "execution_count": 64,
   "metadata": {},
   "outputs": [
    {
     "name": "stdout",
     "output_type": "stream",
     "text": [
      "donor 1 total number of cells: 4801\n",
      "distribution across activation: (array(['cytokines', 'no_cytokines'], dtype=object), array([2055, 2746]))\n",
      "distribution across time point: (array(['24H', '3H', '48H'], dtype=object), array([2130,  340, 2331]))\n",
      "distribution across samples: (array(['6044STDY8640561', '6044STDY8640562', '6044STDY8640563',\n",
      "       '6044STDY8640564', '6044STDY8640565', '6044STDY8640566'],\n",
      "      dtype=object), array([ 323,   17,  798, 1332, 1625,  706])) \n",
      "\n",
      "donor 2 total number of cells: 31008\n",
      "distribution across activation: (array(['cytokines', 'no_cytokines'], dtype=object), array([16974, 14034]))\n",
      "distribution across time point: (array(['24H', '3H', '48H'], dtype=object), array([10820, 10899,  9289]))\n",
      "distribution across samples: (array(['6044STDY8640561', '6044STDY8640562', '6044STDY8640563',\n",
      "       '6044STDY8640564', '6044STDY8640565', '6044STDY8640566'],\n",
      "      dtype=object), array([4753, 6146, 5241, 5579, 4040, 5249])) \n",
      "\n",
      "donor 3 total number of cells: 10896\n",
      "distribution across activation: (array(['cytokines', 'no_cytokines'], dtype=object), array([4936, 5960]))\n",
      "distribution across time point: (array(['24H', '3H', '48H'], dtype=object), array([3915, 2784, 4197]))\n",
      "distribution across samples: (array(['6044STDY8640561', '6044STDY8640562', '6044STDY8640563',\n",
      "       '6044STDY8640564', '6044STDY8640565', '6044STDY8640566'],\n",
      "      dtype=object), array([1565, 1219, 2697, 1218, 1698, 2499])) \n",
      "\n",
      "donor 4 total number of cells: 28181\n",
      "distribution across activation: (array(['cytokines', 'no_cytokines'], dtype=object), array([10968, 17213]))\n",
      "distribution across time point: (array(['-48H', '0H', '48H', '96H'], dtype=object), array([ 1754,  6067,  6596, 13764]))\n",
      "distribution across samples: (array(['Pla_Camb10123928', 'Pla_Camb10123929', 'Pla_Camb10123930',\n",
      "       'Pla_Camb10123931', 'Pla_Camb10123932', 'Pla_Camb10123933',\n",
      "       'Pla_Camb10123934', 'Pla_Camb10123935'], dtype=object), array([1754, 6067, 2582, 4014, 2288, 3029, 4522, 3925])) \n",
      "\n",
      "donor 5 total number of cells: 16417\n",
      "distribution across activation: (array(['cytokines', 'no_cytokines'], dtype=object), array([7993, 8424]))\n",
      "distribution across time point: (array(['-48H', '0H', '48H', '96H'], dtype=object), array([1487,  786, 8549, 5595]))\n",
      "distribution across samples: (array(['Pla_Camb10123928', 'Pla_Camb10123929', 'Pla_Camb10123930',\n",
      "       'Pla_Camb10123931', 'Pla_Camb10123932', 'Pla_Camb10123933',\n",
      "       'Pla_Camb10123934', 'Pla_Camb10123935'], dtype=object), array([1487,  786, 4065, 4484, 1051, 1190, 1035, 2319])) \n",
      "\n",
      "donor 6 total number of cells: 3054\n",
      "distribution across activation: (array(['cytokines', 'no_cytokines'], dtype=object), array([1004, 2050]))\n",
      "distribution across time point: (array(['-48H', '0H', '48H', '96H'], dtype=object), array([ 163,  274,  366, 2251]))\n",
      "distribution across samples: (array(['Pla_Camb10123928', 'Pla_Camb10123929', 'Pla_Camb10123930',\n",
      "       'Pla_Camb10123931', 'Pla_Camb10123932', 'Pla_Camb10123933',\n",
      "       'Pla_Camb10123934', 'Pla_Camb10123935'], dtype=object), array([ 163,  274,  220,  146,   64,  166, 1329,  692])) \n",
      "\n"
     ]
    }
   ],
   "source": [
    "donor_counts = np.unique(adata.obs['donor'], return_counts=True)\n",
    "\n",
    "for i in range(len(donor_counts[0])):\n",
    "    curr_donor = donor_counts[0][i]\n",
    "    curr_donor_count = donor_counts[1][i]\n",
    "    \n",
    "    curr_adata = adata[adata.obs['donor'] == curr_donor]\n",
    "    \n",
    "    print('donor', curr_donor, 'total number of cells:', curr_donor_count)\n",
    "    print('distribution across activation:', np.unique(curr_adata.obs['activation_status'], return_counts=True))\n",
    "    print('distribution across time point:', np.unique(curr_adata.obs['time_point'], return_counts=True))\n",
    "    #print('distribution across media:', np.unique(curr_adata.obs['media'], return_counts=True), '\\n')\n",
    "    print('distribution across samples:', np.unique(curr_adata.obs['sample'], return_counts=True), '\\n')\n",
    "\n"
   ]
  },
  {
   "cell_type": "markdown",
   "metadata": {},
   "source": [
    "### Plotting per sample donor stats"
   ]
  },
  {
   "cell_type": "code",
   "execution_count": 65,
   "metadata": {},
   "outputs": [],
   "source": [
    "# let's produce donor x sample histogram"
   ]
  },
  {
   "cell_type": "code",
   "execution_count": 66,
   "metadata": {},
   "outputs": [],
   "source": [
    "df_stats = pd.DataFrame(columns=list(np.unique(adata.obs['donor'])),\n",
    "                     index=list(np.unique(adata.obs['sample'])))"
   ]
  },
  {
   "cell_type": "code",
   "execution_count": 67,
   "metadata": {},
   "outputs": [
    {
     "data": {
      "text/html": [
       "<div>\n",
       "<style scoped>\n",
       "    .dataframe tbody tr th:only-of-type {\n",
       "        vertical-align: middle;\n",
       "    }\n",
       "\n",
       "    .dataframe tbody tr th {\n",
       "        vertical-align: top;\n",
       "    }\n",
       "\n",
       "    .dataframe thead th {\n",
       "        text-align: right;\n",
       "    }\n",
       "</style>\n",
       "<table border=\"1\" class=\"dataframe\">\n",
       "  <thead>\n",
       "    <tr style=\"text-align: right;\">\n",
       "      <th></th>\n",
       "      <th>1</th>\n",
       "      <th>2</th>\n",
       "      <th>3</th>\n",
       "      <th>4</th>\n",
       "      <th>5</th>\n",
       "      <th>6</th>\n",
       "    </tr>\n",
       "  </thead>\n",
       "  <tbody>\n",
       "    <tr>\n",
       "      <th>6044STDY8640561</th>\n",
       "      <td>NaN</td>\n",
       "      <td>NaN</td>\n",
       "      <td>NaN</td>\n",
       "      <td>NaN</td>\n",
       "      <td>NaN</td>\n",
       "      <td>NaN</td>\n",
       "    </tr>\n",
       "    <tr>\n",
       "      <th>6044STDY8640562</th>\n",
       "      <td>NaN</td>\n",
       "      <td>NaN</td>\n",
       "      <td>NaN</td>\n",
       "      <td>NaN</td>\n",
       "      <td>NaN</td>\n",
       "      <td>NaN</td>\n",
       "    </tr>\n",
       "    <tr>\n",
       "      <th>6044STDY8640563</th>\n",
       "      <td>NaN</td>\n",
       "      <td>NaN</td>\n",
       "      <td>NaN</td>\n",
       "      <td>NaN</td>\n",
       "      <td>NaN</td>\n",
       "      <td>NaN</td>\n",
       "    </tr>\n",
       "    <tr>\n",
       "      <th>6044STDY8640564</th>\n",
       "      <td>NaN</td>\n",
       "      <td>NaN</td>\n",
       "      <td>NaN</td>\n",
       "      <td>NaN</td>\n",
       "      <td>NaN</td>\n",
       "      <td>NaN</td>\n",
       "    </tr>\n",
       "    <tr>\n",
       "      <th>6044STDY8640565</th>\n",
       "      <td>NaN</td>\n",
       "      <td>NaN</td>\n",
       "      <td>NaN</td>\n",
       "      <td>NaN</td>\n",
       "      <td>NaN</td>\n",
       "      <td>NaN</td>\n",
       "    </tr>\n",
       "    <tr>\n",
       "      <th>6044STDY8640566</th>\n",
       "      <td>NaN</td>\n",
       "      <td>NaN</td>\n",
       "      <td>NaN</td>\n",
       "      <td>NaN</td>\n",
       "      <td>NaN</td>\n",
       "      <td>NaN</td>\n",
       "    </tr>\n",
       "    <tr>\n",
       "      <th>Pla_Camb10123928</th>\n",
       "      <td>NaN</td>\n",
       "      <td>NaN</td>\n",
       "      <td>NaN</td>\n",
       "      <td>NaN</td>\n",
       "      <td>NaN</td>\n",
       "      <td>NaN</td>\n",
       "    </tr>\n",
       "    <tr>\n",
       "      <th>Pla_Camb10123929</th>\n",
       "      <td>NaN</td>\n",
       "      <td>NaN</td>\n",
       "      <td>NaN</td>\n",
       "      <td>NaN</td>\n",
       "      <td>NaN</td>\n",
       "      <td>NaN</td>\n",
       "    </tr>\n",
       "    <tr>\n",
       "      <th>Pla_Camb10123930</th>\n",
       "      <td>NaN</td>\n",
       "      <td>NaN</td>\n",
       "      <td>NaN</td>\n",
       "      <td>NaN</td>\n",
       "      <td>NaN</td>\n",
       "      <td>NaN</td>\n",
       "    </tr>\n",
       "    <tr>\n",
       "      <th>Pla_Camb10123931</th>\n",
       "      <td>NaN</td>\n",
       "      <td>NaN</td>\n",
       "      <td>NaN</td>\n",
       "      <td>NaN</td>\n",
       "      <td>NaN</td>\n",
       "      <td>NaN</td>\n",
       "    </tr>\n",
       "    <tr>\n",
       "      <th>Pla_Camb10123932</th>\n",
       "      <td>NaN</td>\n",
       "      <td>NaN</td>\n",
       "      <td>NaN</td>\n",
       "      <td>NaN</td>\n",
       "      <td>NaN</td>\n",
       "      <td>NaN</td>\n",
       "    </tr>\n",
       "    <tr>\n",
       "      <th>Pla_Camb10123933</th>\n",
       "      <td>NaN</td>\n",
       "      <td>NaN</td>\n",
       "      <td>NaN</td>\n",
       "      <td>NaN</td>\n",
       "      <td>NaN</td>\n",
       "      <td>NaN</td>\n",
       "    </tr>\n",
       "    <tr>\n",
       "      <th>Pla_Camb10123934</th>\n",
       "      <td>NaN</td>\n",
       "      <td>NaN</td>\n",
       "      <td>NaN</td>\n",
       "      <td>NaN</td>\n",
       "      <td>NaN</td>\n",
       "      <td>NaN</td>\n",
       "    </tr>\n",
       "    <tr>\n",
       "      <th>Pla_Camb10123935</th>\n",
       "      <td>NaN</td>\n",
       "      <td>NaN</td>\n",
       "      <td>NaN</td>\n",
       "      <td>NaN</td>\n",
       "      <td>NaN</td>\n",
       "      <td>NaN</td>\n",
       "    </tr>\n",
       "  </tbody>\n",
       "</table>\n",
       "</div>"
      ],
      "text/plain": [
       "                    1    2    3    4    5    6\n",
       "6044STDY8640561   NaN  NaN  NaN  NaN  NaN  NaN\n",
       "6044STDY8640562   NaN  NaN  NaN  NaN  NaN  NaN\n",
       "6044STDY8640563   NaN  NaN  NaN  NaN  NaN  NaN\n",
       "6044STDY8640564   NaN  NaN  NaN  NaN  NaN  NaN\n",
       "6044STDY8640565   NaN  NaN  NaN  NaN  NaN  NaN\n",
       "6044STDY8640566   NaN  NaN  NaN  NaN  NaN  NaN\n",
       "Pla_Camb10123928  NaN  NaN  NaN  NaN  NaN  NaN\n",
       "Pla_Camb10123929  NaN  NaN  NaN  NaN  NaN  NaN\n",
       "Pla_Camb10123930  NaN  NaN  NaN  NaN  NaN  NaN\n",
       "Pla_Camb10123931  NaN  NaN  NaN  NaN  NaN  NaN\n",
       "Pla_Camb10123932  NaN  NaN  NaN  NaN  NaN  NaN\n",
       "Pla_Camb10123933  NaN  NaN  NaN  NaN  NaN  NaN\n",
       "Pla_Camb10123934  NaN  NaN  NaN  NaN  NaN  NaN\n",
       "Pla_Camb10123935  NaN  NaN  NaN  NaN  NaN  NaN"
      ]
     },
     "execution_count": 67,
     "metadata": {},
     "output_type": "execute_result"
    }
   ],
   "source": [
    "df_stats"
   ]
  },
  {
   "cell_type": "code",
   "execution_count": 68,
   "metadata": {},
   "outputs": [
    {
     "name": "stdout",
     "output_type": "stream",
     "text": [
      "donor 1\n"
     ]
    },
    {
     "name": "stderr",
     "output_type": "stream",
     "text": [
      "/opt/conda/lib/python3.8/site-packages/pandas/core/arrays/categorical.py:2487: FutureWarning: The `inplace` parameter in pandas.Categorical.remove_unused_categories is deprecated and will be removed in a future version.\n",
      "  res = method(*args, **kwargs)\n"
     ]
    },
    {
     "name": "stdout",
     "output_type": "stream",
     "text": [
      "donor 2\n",
      "donor 3\n",
      "donor 4\n",
      "donor 5\n",
      "donor 6\n"
     ]
    }
   ],
   "source": [
    "for donor in df_stats.columns:\n",
    "    print('donor', donor)\n",
    "    for sample in df_stats.index:\n",
    "        #print(sample)\n",
    "        df_stats.loc[sample, donor] = adata[(adata.obs['donor'] == donor)\n",
    "                                         & (adata.obs['sample'] == sample)].X.shape[0]"
   ]
  },
  {
   "cell_type": "code",
   "execution_count": 69,
   "metadata": {},
   "outputs": [
    {
     "data": {
      "text/html": [
       "<div>\n",
       "<style scoped>\n",
       "    .dataframe tbody tr th:only-of-type {\n",
       "        vertical-align: middle;\n",
       "    }\n",
       "\n",
       "    .dataframe tbody tr th {\n",
       "        vertical-align: top;\n",
       "    }\n",
       "\n",
       "    .dataframe thead th {\n",
       "        text-align: right;\n",
       "    }\n",
       "</style>\n",
       "<table border=\"1\" class=\"dataframe\">\n",
       "  <thead>\n",
       "    <tr style=\"text-align: right;\">\n",
       "      <th></th>\n",
       "      <th>1</th>\n",
       "      <th>2</th>\n",
       "      <th>3</th>\n",
       "      <th>4</th>\n",
       "      <th>5</th>\n",
       "      <th>6</th>\n",
       "    </tr>\n",
       "  </thead>\n",
       "  <tbody>\n",
       "    <tr>\n",
       "      <th>6044STDY8640561</th>\n",
       "      <td>323</td>\n",
       "      <td>4753</td>\n",
       "      <td>1565</td>\n",
       "      <td>0</td>\n",
       "      <td>0</td>\n",
       "      <td>0</td>\n",
       "    </tr>\n",
       "    <tr>\n",
       "      <th>6044STDY8640562</th>\n",
       "      <td>17</td>\n",
       "      <td>6146</td>\n",
       "      <td>1219</td>\n",
       "      <td>0</td>\n",
       "      <td>0</td>\n",
       "      <td>0</td>\n",
       "    </tr>\n",
       "    <tr>\n",
       "      <th>6044STDY8640563</th>\n",
       "      <td>798</td>\n",
       "      <td>5241</td>\n",
       "      <td>2697</td>\n",
       "      <td>0</td>\n",
       "      <td>0</td>\n",
       "      <td>0</td>\n",
       "    </tr>\n",
       "    <tr>\n",
       "      <th>6044STDY8640564</th>\n",
       "      <td>1332</td>\n",
       "      <td>5579</td>\n",
       "      <td>1218</td>\n",
       "      <td>0</td>\n",
       "      <td>0</td>\n",
       "      <td>0</td>\n",
       "    </tr>\n",
       "    <tr>\n",
       "      <th>6044STDY8640565</th>\n",
       "      <td>1625</td>\n",
       "      <td>4040</td>\n",
       "      <td>1698</td>\n",
       "      <td>0</td>\n",
       "      <td>0</td>\n",
       "      <td>0</td>\n",
       "    </tr>\n",
       "    <tr>\n",
       "      <th>6044STDY8640566</th>\n",
       "      <td>706</td>\n",
       "      <td>5249</td>\n",
       "      <td>2499</td>\n",
       "      <td>0</td>\n",
       "      <td>0</td>\n",
       "      <td>0</td>\n",
       "    </tr>\n",
       "    <tr>\n",
       "      <th>Pla_Camb10123928</th>\n",
       "      <td>0</td>\n",
       "      <td>0</td>\n",
       "      <td>0</td>\n",
       "      <td>1754</td>\n",
       "      <td>1487</td>\n",
       "      <td>163</td>\n",
       "    </tr>\n",
       "    <tr>\n",
       "      <th>Pla_Camb10123929</th>\n",
       "      <td>0</td>\n",
       "      <td>0</td>\n",
       "      <td>0</td>\n",
       "      <td>6067</td>\n",
       "      <td>786</td>\n",
       "      <td>274</td>\n",
       "    </tr>\n",
       "    <tr>\n",
       "      <th>Pla_Camb10123930</th>\n",
       "      <td>0</td>\n",
       "      <td>0</td>\n",
       "      <td>0</td>\n",
       "      <td>2582</td>\n",
       "      <td>4065</td>\n",
       "      <td>220</td>\n",
       "    </tr>\n",
       "    <tr>\n",
       "      <th>Pla_Camb10123931</th>\n",
       "      <td>0</td>\n",
       "      <td>0</td>\n",
       "      <td>0</td>\n",
       "      <td>4014</td>\n",
       "      <td>4484</td>\n",
       "      <td>146</td>\n",
       "    </tr>\n",
       "    <tr>\n",
       "      <th>Pla_Camb10123932</th>\n",
       "      <td>0</td>\n",
       "      <td>0</td>\n",
       "      <td>0</td>\n",
       "      <td>2288</td>\n",
       "      <td>1051</td>\n",
       "      <td>64</td>\n",
       "    </tr>\n",
       "    <tr>\n",
       "      <th>Pla_Camb10123933</th>\n",
       "      <td>0</td>\n",
       "      <td>0</td>\n",
       "      <td>0</td>\n",
       "      <td>3029</td>\n",
       "      <td>1190</td>\n",
       "      <td>166</td>\n",
       "    </tr>\n",
       "    <tr>\n",
       "      <th>Pla_Camb10123934</th>\n",
       "      <td>0</td>\n",
       "      <td>0</td>\n",
       "      <td>0</td>\n",
       "      <td>4522</td>\n",
       "      <td>1035</td>\n",
       "      <td>1329</td>\n",
       "    </tr>\n",
       "    <tr>\n",
       "      <th>Pla_Camb10123935</th>\n",
       "      <td>0</td>\n",
       "      <td>0</td>\n",
       "      <td>0</td>\n",
       "      <td>3925</td>\n",
       "      <td>2319</td>\n",
       "      <td>692</td>\n",
       "    </tr>\n",
       "  </tbody>\n",
       "</table>\n",
       "</div>"
      ],
      "text/plain": [
       "                     1     2     3     4     5     6\n",
       "6044STDY8640561    323  4753  1565     0     0     0\n",
       "6044STDY8640562     17  6146  1219     0     0     0\n",
       "6044STDY8640563    798  5241  2697     0     0     0\n",
       "6044STDY8640564   1332  5579  1218     0     0     0\n",
       "6044STDY8640565   1625  4040  1698     0     0     0\n",
       "6044STDY8640566    706  5249  2499     0     0     0\n",
       "Pla_Camb10123928     0     0     0  1754  1487   163\n",
       "Pla_Camb10123929     0     0     0  6067   786   274\n",
       "Pla_Camb10123930     0     0     0  2582  4065   220\n",
       "Pla_Camb10123931     0     0     0  4014  4484   146\n",
       "Pla_Camb10123932     0     0     0  2288  1051    64\n",
       "Pla_Camb10123933     0     0     0  3029  1190   166\n",
       "Pla_Camb10123934     0     0     0  4522  1035  1329\n",
       "Pla_Camb10123935     0     0     0  3925  2319   692"
      ]
     },
     "execution_count": 69,
     "metadata": {},
     "output_type": "execute_result"
    }
   ],
   "source": [
    "df_stats"
   ]
  },
  {
   "cell_type": "code",
   "execution_count": 70,
   "metadata": {},
   "outputs": [],
   "source": [
    "# saving for later\n",
    "df_stats.to_csv('./donor_sample_stats_without_remapping_final.csv')"
   ]
  },
  {
   "cell_type": "code",
   "execution_count": 71,
   "metadata": {},
   "outputs": [
    {
     "data": {
      "text/plain": [
       "6"
      ]
     },
     "execution_count": 71,
     "metadata": {},
     "output_type": "execute_result"
    }
   ],
   "source": [
    "len(np.unique(adata.obs['donor']))"
   ]
  },
  {
   "cell_type": "code",
   "execution_count": 72,
   "metadata": {},
   "outputs": [
    {
     "data": {
      "text/plain": [
       "14"
      ]
     },
     "execution_count": 72,
     "metadata": {},
     "output_type": "execute_result"
    }
   ],
   "source": [
    "len(np.unique(adata.obs['sample']))"
   ]
  },
  {
   "cell_type": "code",
   "execution_count": 73,
   "metadata": {},
   "outputs": [
    {
     "data": {
      "text/plain": [
       "array(['6044STDY8640561', '6044STDY8640562', '6044STDY8640563',\n",
       "       '6044STDY8640564', '6044STDY8640565', '6044STDY8640566',\n",
       "       'Pla_Camb10123928', 'Pla_Camb10123929', 'Pla_Camb10123930',\n",
       "       'Pla_Camb10123931', 'Pla_Camb10123932', 'Pla_Camb10123933',\n",
       "       'Pla_Camb10123934', 'Pla_Camb10123935'], dtype=object)"
      ]
     },
     "execution_count": 73,
     "metadata": {},
     "output_type": "execute_result"
    }
   ],
   "source": [
    "np.unique(adata.obs['sample'])"
   ]
  },
  {
   "cell_type": "code",
   "execution_count": 74,
   "metadata": {},
   "outputs": [
    {
     "data": {
      "image/png": "[encoded data removed]",
      "text/plain": [
       "<Figure size 560x560 with 1 Axes>"
      ]
     },
     "metadata": {
      "image/png": {
       "height": 643,
       "width": 708
      },
      "needs_background": "light"
     },
     "output_type": "display_data"
    }
   ],
   "source": [
    "# this is for final cells only\n",
    "\n",
    "ax = df_stats.plot.bar(stacked=True, figsize=(7,7), width=0.8)\n",
    "\n",
    "handles, labels = ax.get_legend_handles_labels()\n",
    "\n",
    "ax.legend(handles,\n",
    "          labels, title='Donors (6)',\n",
    "          bbox_to_anchor=(1.20, 1.05))\n",
    "\n",
    "ax.set_xticklabels(labels=['6044STDY8640561', '6044STDY8640562', '6044STDY8640563',\n",
    "       '6044STDY8640564', '6044STDY8640565', '6044STDY8640566',\n",
    "       'Pla_Camb10123928', 'Pla_Camb10123929', 'Pla_Camb10123930',\n",
    "       'Pla_Camb10123931', 'Pla_Camb10123932', 'Pla_Camb10123933',\n",
    "       'Pla_Camb10123934', 'Pla_Camb10123935'])\n",
    "ax.tick_params(axis='x', rotation=90)\n",
    "\n",
    "# to turn off the grid\n",
    "plt.grid(b=None)\n",
    "\n",
    "plt.title('Sample composition')\n",
    "plt.ylabel('# of cells')\n",
    "plt.xlabel('sample')\n",
    "\n",
    "#plt.savefig('./figures/sample_composition_all_samples_by_donor_20210518_final_preprocessing.pdf',\n",
    "#           bbox_inches='tight')"
   ]
  },
  {
   "cell_type": "code",
   "execution_count": null,
   "metadata": {},
   "outputs": [],
   "source": []
  },
  {
   "cell_type": "code",
   "execution_count": 75,
   "metadata": {},
   "outputs": [
    {
     "data": {
      "text/plain": [
       "'/lustre/scratch117/cellgen/team292/aa22/adata_objects/202105_troph_organoids_exp_1_2/'"
      ]
     },
     "execution_count": 75,
     "metadata": {},
     "output_type": "execute_result"
    }
   ],
   "source": [
    "save_path"
   ]
  },
  {
   "cell_type": "code",
   "execution_count": 76,
   "metadata": {
    "collapsed": true,
    "jupyter": {
     "outputs_hidden": true
    },
    "tags": []
   },
   "outputs": [
    {
     "name": "stderr",
     "output_type": "stream",
     "text": [
      "... storing 'time_point' as categorical\n",
      "... storing 'activation_status' as categorical\n",
      "... storing 'media' as categorical\n",
      "... storing 'sample' as categorical\n",
      "... storing 'dataset' as categorical\n",
      "... storing 'technique' as categorical\n",
      "... storing 'experiment' as categorical\n",
      "... storing 'souporcell_assignment' as categorical\n",
      "... storing 'donor' as categorical\n",
      "... storing 'gene_ids-0' as categorical\n",
      "... storing 'feature_types-0' as categorical\n",
      "... storing 'genome-0' as categorical\n",
      "... storing 'gene_ids-1' as categorical\n",
      "... storing 'feature_types-1' as categorical\n",
      "... storing 'genome-1' as categorical\n",
      "... storing 'gene_ids-10' as categorical\n",
      "... storing 'feature_types-10' as categorical\n",
      "... storing 'genome-10' as categorical\n",
      "... storing 'gene_ids-11' as categorical\n",
      "... storing 'feature_types-11' as categorical\n",
      "... storing 'genome-11' as categorical\n",
      "... storing 'gene_ids-12' as categorical\n",
      "... storing 'feature_types-12' as categorical\n",
      "... storing 'genome-12' as categorical\n",
      "... storing 'gene_ids-13' as categorical\n",
      "... storing 'feature_types-13' as categorical\n",
      "... storing 'genome-13' as categorical\n",
      "... storing 'gene_ids-2' as categorical\n",
      "... storing 'feature_types-2' as categorical\n",
      "... storing 'genome-2' as categorical\n",
      "... storing 'gene_ids-3' as categorical\n",
      "... storing 'feature_types-3' as categorical\n",
      "... storing 'genome-3' as categorical\n",
      "... storing 'gene_ids-4' as categorical\n",
      "... storing 'feature_types-4' as categorical\n",
      "... storing 'genome-4' as categorical\n",
      "... storing 'gene_ids-5' as categorical\n",
      "... storing 'feature_types-5' as categorical\n",
      "... storing 'genome-5' as categorical\n",
      "... storing 'gene_ids-6' as categorical\n",
      "... storing 'feature_types-6' as categorical\n",
      "... storing 'genome-6' as categorical\n",
      "... storing 'gene_ids-7' as categorical\n",
      "... storing 'feature_types-7' as categorical\n",
      "... storing 'genome-7' as categorical\n",
      "... storing 'gene_ids-8' as categorical\n",
      "... storing 'feature_types-8' as categorical\n",
      "... storing 'genome-8' as categorical\n",
      "... storing 'gene_ids-9' as categorical\n",
      "... storing 'feature_types-9' as categorical\n",
      "... storing 'genome-9' as categorical\n",
      "... storing 'gene_ids-0' as categorical\n",
      "... storing 'feature_types-0' as categorical\n",
      "... storing 'genome-0' as categorical\n",
      "... storing 'gene_ids-1' as categorical\n",
      "... storing 'feature_types-1' as categorical\n",
      "... storing 'genome-1' as categorical\n",
      "... storing 'gene_ids-10' as categorical\n",
      "... storing 'feature_types-10' as categorical\n",
      "... storing 'genome-10' as categorical\n",
      "... storing 'gene_ids-11' as categorical\n",
      "... storing 'feature_types-11' as categorical\n",
      "... storing 'genome-11' as categorical\n",
      "... storing 'gene_ids-12' as categorical\n",
      "... storing 'feature_types-12' as categorical\n",
      "... storing 'genome-12' as categorical\n",
      "... storing 'gene_ids-13' as categorical\n",
      "... storing 'feature_types-13' as categorical\n",
      "... storing 'genome-13' as categorical\n",
      "... storing 'gene_ids-2' as categorical\n",
      "... storing 'feature_types-2' as categorical\n",
      "... storing 'genome-2' as categorical\n",
      "... storing 'gene_ids-3' as categorical\n",
      "... storing 'feature_types-3' as categorical\n",
      "... storing 'genome-3' as categorical\n",
      "... storing 'gene_ids-4' as categorical\n",
      "... storing 'feature_types-4' as categorical\n",
      "... storing 'genome-4' as categorical\n",
      "... storing 'gene_ids-5' as categorical\n",
      "... storing 'feature_types-5' as categorical\n",
      "... storing 'genome-5' as categorical\n",
      "... storing 'gene_ids-6' as categorical\n",
      "... storing 'feature_types-6' as categorical\n",
      "... storing 'genome-6' as categorical\n",
      "... storing 'gene_ids-7' as categorical\n",
      "... storing 'feature_types-7' as categorical\n",
      "... storing 'genome-7' as categorical\n",
      "... storing 'gene_ids-8' as categorical\n",
      "... storing 'feature_types-8' as categorical\n",
      "... storing 'genome-8' as categorical\n",
      "... storing 'gene_ids-9' as categorical\n",
      "... storing 'feature_types-9' as categorical\n",
      "... storing 'genome-9' as categorical\n"
     ]
    }
   ],
   "source": [
    "adata.write(save_path + 'adata_raw_filtered.h5ad')"
   ]
  },
  {
   "cell_type": "code",
   "execution_count": 5,
   "metadata": {},
   "outputs": [],
   "source": [
    "# reading\n",
    "adata = sc.read(save_path + 'adata_raw_filtered.h5ad')"
   ]
  },
  {
   "cell_type": "code",
   "execution_count": 77,
   "metadata": {},
   "outputs": [
    {
     "data": {
      "text/plain": [
       "AnnData object with n_obs × n_vars = 94357 × 23281\n",
       "    obs: 'n_genes', 'time_point', 'activation_status', 'media', 'sample', 'barcode_sample', 'percent_mito', 'n_counts', 'dataset', 'technique', 'scrublet_score', 'scrublet_cluster_score', 'bh_pval', 'batch', 'is_doublet', 'experiment', 'barcode', 'souporcell_assignment', 'inter_ind_doublet', 'donor'\n",
       "    var: 'gene_ids-0', 'feature_types-0', 'genome-0', 'n_cells-0', 'gene_ids-1', 'feature_types-1', 'genome-1', 'n_cells-1', 'gene_ids-10', 'feature_types-10', 'genome-10', 'n_cells-10', 'gene_ids-11', 'feature_types-11', 'genome-11', 'n_cells-11', 'gene_ids-12', 'feature_types-12', 'genome-12', 'n_cells-12', 'gene_ids-13', 'feature_types-13', 'genome-13', 'n_cells-13', 'gene_ids-2', 'feature_types-2', 'genome-2', 'n_cells-2', 'gene_ids-3', 'feature_types-3', 'genome-3', 'n_cells-3', 'gene_ids-4', 'feature_types-4', 'genome-4', 'n_cells-4', 'gene_ids-5', 'feature_types-5', 'genome-5', 'n_cells-5', 'gene_ids-6', 'feature_types-6', 'genome-6', 'n_cells-6', 'gene_ids-7', 'feature_types-7', 'genome-7', 'n_cells-7', 'gene_ids-8', 'feature_types-8', 'genome-8', 'n_cells-8', 'gene_ids-9', 'feature_types-9', 'genome-9', 'n_cells-9'"
      ]
     },
     "execution_count": 77,
     "metadata": {},
     "output_type": "execute_result"
    }
   ],
   "source": [
    "adata"
   ]
  },
  {
   "cell_type": "code",
   "execution_count": null,
   "metadata": {},
   "outputs": [],
   "source": []
  },
  {
   "cell_type": "code",
   "execution_count": null,
   "metadata": {},
   "outputs": [],
   "source": []
  },
  {
   "cell_type": "code",
   "execution_count": null,
   "metadata": {},
   "outputs": [],
   "source": []
  },
  {
   "cell_type": "code",
   "execution_count": null,
   "metadata": {},
   "outputs": [],
   "source": []
  },
  {
   "cell_type": "code",
   "execution_count": null,
   "metadata": {},
   "outputs": [],
   "source": []
  },
  {
   "cell_type": "code",
   "execution_count": null,
   "metadata": {},
   "outputs": [],
   "source": []
  },
  {
   "cell_type": "code",
   "execution_count": null,
   "metadata": {},
   "outputs": [],
   "source": []
  },
  {
   "cell_type": "code",
   "execution_count": null,
   "metadata": {},
   "outputs": [],
   "source": []
  }
 ],
 "metadata": {
  "kernelspec": {
   "display_name": "Python 3",
   "language": "python",
   "name": "python3"
  },
  "language_info": {
   "codemirror_mode": {
    "name": "ipython",
    "version": 3
   },
   "file_extension": ".py",
   "mimetype": "text/x-python",
   "name": "python",
   "nbconvert_exporter": "python",
   "pygments_lexer": "ipython3",
   "version": "3.8.8"
  }
 },
 "nbformat": 4,
 "nbformat_minor": 4
}
