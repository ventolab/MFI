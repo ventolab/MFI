{
 "cells": [
  {
   "cell_type": "markdown",
   "id": "underlying-kingston",
   "metadata": {},
   "source": [
    "# Running DoRothEA \"along\" the organoid states (According to trajectory progression)"
   ]
  },
  {
   "cell_type": "markdown",
   "id": "tough-skirt",
   "metadata": {},
   "source": [
    "## Previously DE analysis has been performed in the following way:\n",
    "\n",
    "- VCT_CCC vs [VCT + VCT_p]\n",
    "- EVT_1_like vs VCT_CCC\n",
    "- EVT_early vs VCT_CCC\n",
    "- EVT_mid vs [EVT_early and EVT_1_like]\n",
    "- iEVT vs [EVT_mid and EVT_late]\n",
    "- EVT_late vs EVT_mid\n",
    "\n",
    "This is annotation `final_annot_v9`"
   ]
  },
  {
   "cell_type": "code",
   "execution_count": 1,
   "id": "alpine-delhi",
   "metadata": {},
   "outputs": [],
   "source": [
    "%load_ext rpy2.ipython"
   ]
  },
  {
   "cell_type": "code",
   "execution_count": 2,
   "id": "lonely-munich",
   "metadata": {},
   "outputs": [
    {
     "name": "stdout",
     "output_type": "stream",
     "text": [
      "R version 4.0.4 (2021-02-15)\n",
      "Platform: x86_64-pc-linux-gnu (64-bit)\n",
      "Running under: Ubuntu 20.04.1 LTS\n",
      "\n",
      "Matrix products: default\n",
      "BLAS/LAPACK: /opt/conda/lib/libopenblasp-r0.3.12.so\n",
      "\n",
      "locale:\n",
      " [1] LC_CTYPE=en_US.UTF-8       LC_NUMERIC=C              \n",
      " [3] LC_TIME=en_US.UTF-8        LC_COLLATE=en_US.UTF-8    \n",
      " [5] LC_MONETARY=en_US.UTF-8    LC_MESSAGES=en_US.UTF-8   \n",
      " [7] LC_PAPER=en_US.UTF-8       LC_NAME=C                 \n",
      " [9] LC_ADDRESS=C               LC_TELEPHONE=C            \n",
      "[11] LC_MEASUREMENT=en_US.UTF-8 LC_IDENTIFICATION=C       \n",
      "\n",
      "attached base packages:\n",
      "[1] tools     stats     graphics  grDevices utils     datasets  methods  \n",
      "[8] base     \n",
      "\n",
      "loaded via a namespace (and not attached):\n",
      "[1] compiler_4.0.4\n"
     ]
    }
   ],
   "source": [
    "%%R\n",
    "\n",
    "# checking limma and edgeR versions in R\n",
    "\n",
    "sessionInfo()"
   ]
  },
  {
   "cell_type": "code",
   "execution_count": 3,
   "id": "plastic-hypothetical",
   "metadata": {},
   "outputs": [],
   "source": [
    "outpath = './'"
   ]
  },
  {
   "cell_type": "code",
   "execution_count": 4,
   "id": "annual-singapore",
   "metadata": {
    "tags": []
   },
   "outputs": [
    {
     "name": "stderr",
     "output_type": "stream",
     "text": [
      "R[write to console]: Loading required package: viper\n",
      "\n",
      "R[write to console]: Loading required package: Biobase\n",
      "\n",
      "R[write to console]: Loading required package: BiocGenerics\n",
      "\n",
      "R[write to console]: \n",
      "Attaching package: ‘BiocGenerics’\n",
      "\n",
      "\n",
      "R[write to console]: The following objects are masked from ‘package:stats’:\n",
      "\n",
      "    IQR, mad, sd, var, xtabs\n",
      "\n",
      "\n",
      "R[write to console]: The following objects are masked from ‘package:base’:\n",
      "\n",
      "    anyDuplicated, append, as.data.frame, basename, cbind, colnames,\n",
      "    dirname, do.call, duplicated, eval, evalq, Filter, Find, get, grep,\n",
      "    grepl, intersect, is.unsorted, lapply, Map, mapply, match, mget,\n",
      "    order, paste, pmax, pmax.int, pmin, pmin.int, Position, rank,\n",
      "    rbind, Reduce, rownames, sapply, setdiff, sort, table, tapply,\n",
      "    union, unique, unsplit, which.max, which.min\n",
      "\n",
      "\n",
      "R[write to console]: Welcome to Bioconductor\n",
      "\n",
      "    Vignettes contain introductory material; view with\n",
      "    'browseVignettes()'. To cite Bioconductor, see\n",
      "    'citation(\"Biobase\")', and for packages 'citation(\"pkgname\")'.\n",
      "\n",
      "\n",
      "R[write to console]: Loading required package: data.table\n",
      "\n",
      "R[write to console]: data.table 1.14.2 using 30 threads (see ?getDTthreads).  Latest news: r-datatable.com\n",
      "\n",
      "R[write to console]: Loading required package: ggplot2\n",
      "\n",
      "R[write to console]: Loading required package: ggpubr\n",
      "\n"
     ]
    }
   ],
   "source": [
    "%%R\n",
    "require(viper)\n",
    "require(data.table)\n",
    "require(ggplot2)\n",
    "require(ggpubr)\n"
   ]
  },
  {
   "cell_type": "code",
   "execution_count": 5,
   "id": "handled-egypt",
   "metadata": {
    "collapsed": true,
    "jupyter": {
     "outputs_hidden": true
    },
    "tags": []
   },
   "outputs": [
    {
     "name": "stdout",
     "output_type": "stream",
     "text": [
      "$tfmode\n",
      "      ABCC1       ABCC6       ABHD5        ABT1  AC002066.1  AC002069.2 \n",
      "          1           1           1           1           1           1 \n",
      " AC004231.3  AC004917.1  AC005514.1  AC005622.1  AC006076.1  AC006483.2 \n",
      "          1           1           1           1           1           1 \n",
      " AC007220.1  AC007319.1  AC007792.1  AC010649.1  AC010768.3  AC011257.1 \n",
      "          1           1           1           1           1           1 \n",
      " AC011287.1  AC011509.1  AC012085.2  AC012464.1  AC016586.1  AC016954.1 \n",
      "          1           1           1           1           1           1 \n",
      " AC016957.1  AC023232.1  AC024084.1  AC026316.2  AC073284.1  AC073592.1 \n",
      "          1           1           1           1           1           1 \n",
      " AC073593.1  AC073863.1  AC079316.2  AC079384.1  AC084083.1  AC091114.1 \n",
      "          1           1           1           1           1           1 \n",
      " AC091806.1  AC092127.2  AC092171.2  AC098587.1  AC099489.1  AC105265.3 \n",
      "          1           1           1           1           1           1 \n",
      " AC108134.2  AC124947.2  AC130454.1  AC134508.1       ACBD6        ACP7 \n",
      "          1           1           1           1           1           1 \n",
      "   ADAMTS10    ADAMTS14       ADCY7      ADGRG1      ADGRV1  AF111167.1 \n",
      "          1           1           1           1           1           1 \n",
      "       AHCY       AIF1L        AKNA        AKT2  AL009179.1  AL021808.1 \n",
      "          1           1           1           1           1           1 \n",
      " AL021918.2  AL022326.1  AL031229.1  AL031577.1  AL049597.1  AL121785.1 \n",
      "          1           1           1           1           1           1 \n",
      " AL133342.1  AL133343.1  AL139246.5  AL157373.1  AL158817.1  AL353803.1 \n",
      "          1           1           1           1           1           1 \n",
      " AL355870.1  AL359999.1  AL390066.1  AL390729.1  AL590556.1  AL662890.1 \n",
      "          1           1           1           1           1           1 \n",
      "    ALDH1A1     ALDH1A2        ALX4      ANGPT1     ANGPTL2     ANKRD24 \n",
      "          1           1           1           1           1           1 \n",
      "       ANO6      ANTXR2       AP1M1       AP3S2     ARHGEF1   ARHGEF10L \n",
      "          1           1           1           1           1           1 \n",
      "   ARHGEF37      ARID3A      ARID5B       ARL5A     ARPC3P5       ASAP1 \n",
      "          1           1           1           1           1           1 \n",
      "      ASCC2      ATF7IP       ATG14      ATP2B1      ATP8B3         AXL \n",
      "          1           1           1           1           1           1 \n",
      "       BBC3     BHLHE40      BMERB1    C12orf76    C1orf100    C1orf127 \n",
      "          1           1           1           1           1           1 \n",
      "   C1orf167    C6orf223     CACNA1A     CACNA1I     CCDC187      CCDC26 \n",
      "          1           1           1           1           1           1 \n",
      "       CCNY      CD83P1       CDCP1        CDH1       CDH23       CDHR3 \n",
      "          1           1           1           1           1           1 \n",
      "   CDK5RAP2   CEBPB-AS1   CERS6-AS1     CFAP157      CHST11       CHST3 \n",
      "          1           1           1           1           1           1 \n",
      "      CIITA         CKM       CLIP1       CLIP2        CMIP      CMKLR1 \n",
      "          1           1           1           1           1           1 \n",
      "      CNGB1      CNKSR3        CNN1     COL26A1     COL27A1    COLGALT2 \n",
      "          1           1           1           1           1           1 \n",
      "     CORO2A    COX6A1P2       CPEB4       CPNE2      CPPED1       CRADD \n",
      "          1           1           1           1           1           1 \n",
      "       CRB2    CRISPLD2   CRPPA-AS1      CRYBG2       CSF3R        CTRC \n",
      "          1           1           1           1           1           1 \n",
      "       CUX1        CUX2       DAPK2   DDIT4-AS1     DENND1A      DEPDC5 \n",
      "          1           1           1           1           1           1 \n",
      "      DISP3      DLGAP4     DNAJB12      DNAJC6        DNM1        DNM2 \n",
      "          1           1           1           1           1           1 \n",
      "      DOCK6        DPP3      DYRK1A        E2F2        EBI3        ECE1 \n",
      "          1           1           1           1           1           1 \n",
      "      EEF2K         EHF       EIF4E      EIF4G3       ELFN1        ELL2 \n",
      "          1           1           1           1           1           1 \n",
      "        ENG       EPB41     EPB41L1       EPHA2       EPHB4       ERCC1 \n",
      "          1           1           1           1           1           1 \n",
      "      ERCC2        ERN2        FAF1     FAM222A      FAM49B        FBN3 \n",
      "          1           1           1           1           1           1 \n",
      "     FBXW11       FCHO1       FHAD1      FIBCD1        FLNB       FNIP2 \n",
      "          1           1           1           1           1           1 \n",
      "        FXN      GABBR2     GADD45B       GDF15       GDPD5       GFI1B \n",
      "          1           1           1           1           1           1 \n",
      "       GMPR       GNA15       GON4L      GPR160      GPR89P      GRIFIN \n",
      "          1           1           1           1           1           1 \n",
      "      GRIP2        GRM4        GSE1         GSN       GTDC1    GTF2IRD1 \n",
      "          1           1           1           1           1           1 \n",
      "      HBS1L        HIP1  HIST1H3PS1         HJV     HMGA1P3     HMGB1P1 \n",
      "          1           1           1           1           1           1 \n",
      "   HMGB3P32    HMGN2P13    HMGN2P25    HMGN2P47       HMGN4   HNF1A-AS1 \n",
      "          1           1           1           1           1           1 \n",
      "  HNRNPA1P1    HSD17B12       HTR1D         ID1       IFFO2     IGF2BP2 \n",
      "          1           1           1           1           1           1 \n",
      "    IL12RB1       IL21R      INPP5B      INPP5D        INSR      IQSEC1 \n",
      "          1           1           1           1           1           1 \n",
      "    IRF2BP1       ITPR1        JAK3        KAZN       KCNK1       KCNK3 \n",
      "          1           1           1           1           1           1 \n",
      "      KCNN3    KIAA0232      KIF13A        KSR1       LAMC3      LAPTM5 \n",
      "          1           1           1           1           1           1 \n",
      "      LASP1     LDLRAP1        LGR4        LHPP     LHX1-DT   LINC00324 \n",
      "          1           1           1           1           1           1 \n",
      "  LINC00534   LINC00870   LINC00877   LINC00963   LINC01234   LINC01267 \n",
      "          1           1           1           1           1           1 \n",
      "  LINC01270   LINC01315   LINC01412   LINC01485   LINC01503   LINC01556 \n",
      "          1           1           1           1           1           1 \n",
      "  LINC01623   LINC01685   LINC01756   LINC01942   LINC01962   LINC01992 \n",
      "          1           1           1           1           1           1 \n",
      "  LINC02260   LINC02356   LINC02391   LINC02453   LINC02568   LINC02625 \n",
      "          1           1           1           1           1           1 \n",
      "  LINC02739   LINC02761   LINC02766   LINC02777      LINGO1        LIPC \n",
      "          1           1           1           1           1           1 \n",
      "      LITAF        LMO2      LUC7L2       MAGI1       MAP11      MAP3K7 \n",
      "          1           1           1           1           1           1 \n",
      "     MAPRE2       MARK4       MAST3        MATK          MB       MBNL1 \n",
      "          1           1           1           1           1           1 \n",
      "       MDM4        MDS2       MED18 Metazoa_SRP      MICAL2       MIER1 \n",
      "          1           1           1           1           1           1 \n",
      "    MIR1205     MIR1303      MIR145     MIR3143     MIR3194   MIR3681HG \n",
      "          1           1           1           1           1           1 \n",
      "    MIR3922     MIR4418     MIR4425   MIR4472-2     MIR5093     MIR5189 \n",
      "          1           1           1           1           1           1 \n",
      "    MIR7854      MLXIPL         MN1        MRC2      MRPS22       MTSS1 \n",
      "          1           1           1           1           1           1 \n",
      "        MYB       MYL10       NCAM2        NCLN       NCOR2       NDST1 \n",
      "          1           1           1           1           1           1 \n",
      "       NEBL        NEK6       NFAT5      NFATC2        NFIA    NFIA-AS1 \n",
      "          1           1           1           1           1           1 \n",
      "   NFIA-AS2        NFIC      NIBAN2      NIBAN3    NOL4L-DT     NOP56P1 \n",
      "          1           1           1           1           1           1 \n",
      "    NOSTRIN       NPRL3      NUP210        OAS3     PACSIN1       PADI4 \n",
      "          1           1           1           1           1           1 \n",
      "  PCBP1-AS1       PDE4A       PDGFB      PECAM1       PHF20     PKHD1L1 \n",
      "          1           1           1           1           1           1 \n",
      "       PKN1       PLCG2        PLD1       PLIN3       PLPP7      PLXNA2 \n",
      "          1           1           1           1           1           1 \n",
      "     PLXND1    POM121L2       PPIL3    PPP1R16B        PRCP       PREX1 \n",
      "          1           1           1           1           1           1 \n",
      "       PRF1     PRKAR2B       PRKCB        PRR5      PRSS16         PRX \n",
      "          1           1           1           1           1           1 \n",
      "      PTGIS      PTP4A2      PTP4A3       PTPRJ       PTPRS        PVT1 \n",
      "          1           1           1           1           1           1 \n",
      "     R3HDM2      R3HDM4     RALGPS1      RANBP9     RAP1GAP     RAPGEF5 \n",
      "          1           1           1           1           1           1 \n",
      "     RASAL1       RBM19        RELB        RFX1     RHOBTB1        RHOH \n",
      "          1           1           1           1           1           1 \n",
      "     RICTOR   RN7SL121P   RN7SL636P     RNF10P1      RNF216    RNU1-94P \n",
      "          1           1           1           1           1           1 \n",
      "  RNU6-392P   RNU6-471P   RNU6-560P   RNU6-797P   RNU6-919P    RNU7-14P \n",
      "          1           1           1           1           1           1 \n",
      "      RPH3A     RPL10P2    RPL12P33    RPS4XP19      RPSAP2       RRAGC \n",
      "          1           1           1           1           1           1 \n",
      "       RTN4       RUNX1      SAMSN1      SCARB1       SCN1B        SDC3 \n",
      "          1           1           1           1           1           1 \n",
      "        SDS        SDSL     SEC14L1      SELPLG      SEMA6B     SEPTIN9 \n",
      "          1           1           1           1           1           1 \n",
      "    SERINC5    SERPINH1       SGSM1       SH2B1        SHFL     SIPA1L3 \n",
      "          1           1           1           1           1           1 \n",
      "    SLC13A3      SLC1A7    SLC22A23    SLC25A25     SLC29A3     SLC44A2 \n",
      "          1           1           1           1           1           1 \n",
      "     SLC4A1      SLC6A6     SLC7A11      SLC8B1     SLCO2B1     SMARCC1 \n",
      "          1           1           1           1           1           1 \n",
      "     SMIM25      SMURF1       SMYD3       SNUPN        SNX9       SOGA1 \n",
      "          1           1           1           1           1           1 \n",
      "       SOX5       SPC24      SPINT2      SPOCD1       SPPL3         SRC \n",
      "          1           1           1           1           1           1 \n",
      "      STK10   STX18-AS1     SULT2B1     SUMO1P1        SYCN        SYN3 \n",
      "          1           1           1           1           1           1 \n",
      "      SYNJ2        SYT3       TAF1B       TAOK3      TBXAS1        TCF3 \n",
      "          1           1           1           1           1           1 \n",
      "     TENT5B        TESC        TGM2        TJP3        TLE2        TLK1 \n",
      "          1           1           1           1           1           1 \n",
      "       TMC8     TMEM119    TMEM132B     TMEM212      TMEM40    TNFRSF1B \n",
      "          1           1           1           1           1           1 \n",
      "    TPD52L1      TRANK1     TRERNA1       TRIB1      TRIM41       TRPV4 \n",
      "          1           1           1           1           1           1 \n",
      "      TSHZ2     TSPAN18      TTC39A        TUT4      TXNRD1       UBE2F \n",
      "          1           1           1           1           1           1 \n",
      "       UBR3      UNC13A        UTRN         VCL        VWCE        WNT4 \n",
      "          1           1           1           1           1           1 \n",
      "      WSCD2        XPR1      XXYLT1       Y_RNA     ZDHHC14     ZFP36L2 \n",
      "          1           1           1           1           1           1 \n",
      "      ZMIZ1   ZMIZ1-AS1       ZMYM4      ZMYND8      ZNF217      ZNF618 \n",
      "          1           1           1           1           1           1 \n",
      "\n",
      "$likelihood\n",
      "  [1] 1 1 1 1 1 1 1 1 1 1 1 1 1 1 1 1 1 1 1 1 1 1 1 1 1 1 1 1 1 1 1 1 1 1 1 1 1\n",
      " [38] 1 1 1 1 1 1 1 1 1 1 1 1 1 1 1 1 1 1 1 1 1 1 1 1 1 1 1 1 1 1 1 1 1 1 1 1 1\n",
      " [75] 1 1 1 1 1 1 1 1 1 1 1 1 1 1 1 1 1 1 1 1 1 1 1 1 1 1 1 1 1 1 1 1 1 1 1 1 1\n",
      "[112] 1 1 1 1 1 1 1 1 1 1 1 1 1 1 1 1 1 1 1 1 1 1 1 1 1 1 1 1 1 1 1 1 1 1 1 1 1\n",
      "[149] 1 1 1 1 1 1 1 1 1 1 1 1 1 1 1 1 1 1 1 1 1 1 1 1 1 1 1 1 1 1 1 1 1 1 1 1 1\n",
      "[186] 1 1 1 1 1 1 1 1 1 1 1 1 1 1 1 1 1 1 1 1 1 1 1 1 1 1 1 1 1 1 1 1 1 1 1 1 1\n",
      "[223] 1 1 1 1 1 1 1 1 1 1 1 1 1 1 1 1 1 1 1 1 1 1 1 1 1 1 1 1 1 1 1 1 1 1 1 1 1\n",
      "[260] 1 1 1 1 1 1 1 1 1 1 1 1 1 1 1 1 1 1 1 1 1 1 1 1 1 1 1 1 1 1 1 1 1 1 1 1 1\n",
      "[297] 1 1 1 1 1 1 1 1 1 1 1 1 1 1 1 1 1 1 1 1 1 1 1 1 1 1 1 1 1 1 1 1 1 1 1 1 1\n",
      "[334] 1 1 1 1 1 1 1 1 1 1 1 1 1 1 1 1 1 1 1 1 1 1 1 1 1 1 1 1 1 1 1 1 1 1 1 1 1\n",
      "[371] 1 1 1 1 1 1 1 1 1 1 1 1 1 1 1 1 1 1 1 1 1 1 1 1 1 1 1 1 1 1 1 1 1 1 1 1 1\n",
      "[408] 1 1 1 1 1 1 1 1 1 1 1 1 1 1 1 1 1 1 1 1 1 1 1 1 1 1 1 1 1 1 1 1 1 1 1 1 1\n",
      "[445] 1 1 1 1 1 1 1 1 1 1 1 1 1 1 1 1 1 1 1 1 1 1 1 1 1 1 1 1 1 1 1 1 1 1 1 1 1\n",
      "[482] 1 1 1 1 1 1 1 1 1 1 1 1 1 1 1 1 1\n",
      "\n"
     ]
    }
   ],
   "source": [
    "%%R\n",
    "\n",
    "# Load TF regulon genesets in VIPER format\n",
    "load('./dorotheav2-top10scoring_VentoLab20201111.rdata')\n",
    "# Clean TF names & explore object\n",
    "#names(viper_regulon) = sapply(strsplit(names(viper_regulon), split = ' - '), head, 1)\n",
    "# Explore the regulons object\n",
    "names(viper_regulon)[1:10]\n",
    "viper_regulon[[1]]"
   ]
  },
  {
   "cell_type": "code",
   "execution_count": null,
   "id": "fixed-gender",
   "metadata": {},
   "outputs": [],
   "source": []
  },
  {
   "cell_type": "code",
   "execution_count": 27,
   "id": "latin-drink",
   "metadata": {},
   "outputs": [],
   "source": [
    "%%R\n",
    "\n",
    "##########################################################################################\n",
    "## Example 2: Computing TF activity changes from a differential gene expression signature\n",
    "##########################################################################################\n",
    "# Load differential expression signature\n",
    "\n",
    "# Explore the signature\n",
    "# EVT vs EVT_early\n",
    "file <- fread('/home/jovyan/notebooks/Vento_Lab/MFI_spatial/Trophoblast_Organoids/202105_joint_analysis/no_cytokine_analysis/limma_DEGs/20220218_with_donor_covariate/20220218_iEVT_no_cytokines_limma_DEGs.csv')\n",
    "\n",
    "# Exclude probes with unknown or duplicated gene symbol\n",
    "DEsignature = subset(file, Gene != \"\" )\n",
    "DEsignature = subset(DEsignature, ! duplicated(Gene))"
   ]
  },
  {
   "cell_type": "code",
   "execution_count": 28,
   "id": "grateful-brain",
   "metadata": {},
   "outputs": [],
   "source": [
    "%%R\n",
    "\n",
    "# Estimate z-score values for the GES. Cheeck VIPER manual for details\n",
    "myStatistics = matrix(DEsignature$logFC, dimnames = list(DEsignature$Gene, 'logFC') )\n",
    "myPvalue = matrix(DEsignature$adj.P.Val, dimnames = list(DEsignature$Gene, 'P.Value') )\n",
    "mySignature = (qnorm(myPvalue/2, lower.tail = FALSE) * sign(myStatistics))[, 1]\n",
    "mySignature = mySignature[order(mySignature, decreasing = T)]"
   ]
  },
  {
   "cell_type": "code",
   "execution_count": 29,
   "id": "cheap-mandate",
   "metadata": {
    "tags": []
   },
   "outputs": [
    {
     "name": "stderr",
     "output_type": "stream",
     "text": [
      "R[write to console]: Computing regulon enrichment with aREA algorithm\n",
      "\n"
     ]
    },
    {
     "name": "stdout",
     "output_type": "stream",
     "text": [
      "  |======================================================================| 100%"
     ]
    },
    {
     "data": {
      "image/png": "[encoded data removed]"
     },
     "metadata": {},
     "output_type": "display_data"
    }
   ],
   "source": [
    "%%R\n",
    "# Estimate TF activities\n",
    "mrs = msviper(ges = mySignature, regulon = viper_regulon, minsize = 4, ges.filter = F)\n",
    "TF_activities = data.frame(Regulon = names(mrs$es$nes),\n",
    "                           Size = mrs$es$size[ names(mrs$es$nes) ],\n",
    "                           NES = mrs$es$nes,\n",
    "                           p.value = mrs$es$p.value,\n",
    "                           FDR = p.adjust(mrs$es$p.value, method = 'fdr'))\n",
    "TF_activities = TF_activities[ order(TF_activities$p.value), ]\n",
    "\n",
    "\n",
    "plot = TF_activities[TF_activities$FDR < 0.05,]\n",
    "plot = plot[order(plot$NES, decreasing = T),]\n",
    "plot$Regulon = reorder(plot$Regulon, plot$NES*-1)\n",
    "ggplot(plot, aes(fill=-log10(FDR), x=Regulon, y=NES, color=\"black\")) + \n",
    "  geom_col(color=\"black\", size=0.2) + theme_bw() + scale_fill_gradient(high = \"#132B43\", low = \"#56B1F7\") + coord_flip()\n"
   ]
  },
  {
   "cell_type": "code",
   "execution_count": 30,
   "id": "pharmaceutical-stylus",
   "metadata": {},
   "outputs": [],
   "source": [
    "%%R\n",
    "\n",
    "# need to save this for plotting later, per comparison\n",
    "write.table(TF_activities, './results/20220218/20220218_TF_activities_iEVT.csv', append = FALSE, sep = \"\\t\",\n",
    "            row.names = TRUE, col.names = TRUE)"
   ]
  },
  {
   "cell_type": "code",
   "execution_count": null,
   "id": "general-voltage",
   "metadata": {},
   "outputs": [],
   "source": []
  },
  {
   "cell_type": "code",
   "execution_count": null,
   "id": "alternative-liberia",
   "metadata": {},
   "outputs": [],
   "source": []
  },
  {
   "cell_type": "code",
   "execution_count": null,
   "id": "wooden-american",
   "metadata": {},
   "outputs": [],
   "source": []
  },
  {
   "cell_type": "code",
   "execution_count": null,
   "id": "acoustic-hardware",
   "metadata": {},
   "outputs": [],
   "source": []
  },
  {
   "cell_type": "code",
   "execution_count": null,
   "id": "broad-diploma",
   "metadata": {},
   "outputs": [],
   "source": []
  },
  {
   "cell_type": "code",
   "execution_count": null,
   "id": "future-lyric",
   "metadata": {},
   "outputs": [],
   "source": []
  },
  {
   "cell_type": "code",
   "execution_count": null,
   "id": "formal-title",
   "metadata": {},
   "outputs": [],
   "source": []
  },
  {
   "cell_type": "code",
   "execution_count": null,
   "id": "regional-sheep",
   "metadata": {},
   "outputs": [],
   "source": []
  },
  {
   "cell_type": "code",
   "execution_count": null,
   "id": "individual-collector",
   "metadata": {},
   "outputs": [],
   "source": []
  },
  {
   "cell_type": "code",
   "execution_count": null,
   "id": "appointed-nancy",
   "metadata": {},
   "outputs": [],
   "source": []
  },
  {
   "cell_type": "code",
   "execution_count": null,
   "id": "champion-anaheim",
   "metadata": {},
   "outputs": [],
   "source": []
  },
  {
   "cell_type": "code",
   "execution_count": null,
   "id": "presidential-package",
   "metadata": {},
   "outputs": [],
   "source": []
  },
  {
   "cell_type": "code",
   "execution_count": null,
   "id": "tired-communication",
   "metadata": {},
   "outputs": [],
   "source": []
  }
 ],
 "metadata": {
  "kernelspec": {
   "display_name": "Python 3",
   "language": "python",
   "name": "python3"
  },
  "language_info": {
   "codemirror_mode": {
    "name": "ipython",
    "version": 3
   },
   "file_extension": ".py",
   "mimetype": "text/x-python",
   "name": "python",
   "nbconvert_exporter": "python",
   "pygments_lexer": "ipython3",
   "version": "3.8.8"
  }
 },
 "nbformat": 4,
 "nbformat_minor": 5
}
