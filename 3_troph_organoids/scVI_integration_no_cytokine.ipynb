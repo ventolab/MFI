{
 "cells": [
  {
   "cell_type": "markdown",
   "metadata": {},
   "source": [
    "# Running scVI on troph organoid data\n",
    "\n",
    "### No cytokine data here\n",
    "\n",
    "In 2 versions of correction: by `donor` or by `sample` + `donor`"
   ]
  },
  {
   "cell_type": "code",
   "execution_count": 1,
   "metadata": {},
   "outputs": [],
   "source": [
    "from __future__ import print_function\n",
    "import torch"
   ]
  },
  {
   "cell_type": "code",
   "execution_count": 2,
   "metadata": {},
   "outputs": [],
   "source": [
    "import sys, os\n",
    "data_type = 'float32'\n",
    "os.environ[\"THEANO_FLAGS\"] = 'device=cuda,floatX=' + data_type + ',force_device=True'\n",
    "sys.path.insert(1, '/nfs/team292/aa22/scVI_related/202105_troph_organoids/')"
   ]
  },
  {
   "cell_type": "markdown",
   "metadata": {},
   "source": [
    "**Set up scVI environment**"
   ]
  },
  {
   "cell_type": "code",
   "execution_count": 3,
   "metadata": {},
   "outputs": [],
   "source": [
    "import scvi\n",
    "import scanpy as sc\n",
    "\n",
    "sc.set_figure_params(figsize=(4, 4))"
   ]
  },
  {
   "cell_type": "code",
   "execution_count": 4,
   "metadata": {},
   "outputs": [],
   "source": [
    "import pandas as pd \n",
    "import numpy as np"
   ]
  },
  {
   "cell_type": "markdown",
   "metadata": {},
   "source": [
    "**Read in raw counts of the trophoblast organoids**"
   ]
  },
  {
   "cell_type": "code",
   "execution_count": 52,
   "metadata": {},
   "outputs": [],
   "source": [
    "path = '/lustre/scratch117/cellgen/team292/aa22/adata_objects/202105_troph_organoids_exp_1_2/'\n",
    "\n",
    "# Loading object with raw counts, filtered cells and genes object\n",
    "# after exclusion of doublets by genotype but not by GEX yet\n",
    "adata = sc.read_h5ad(path + 'adata_raw_filtered.h5ad')"
   ]
  },
  {
   "cell_type": "code",
   "execution_count": 53,
   "metadata": {},
   "outputs": [
    {
     "data": {
      "text/html": [
       "<div>\n",
       "<style scoped>\n",
       "    .dataframe tbody tr th:only-of-type {\n",
       "        vertical-align: middle;\n",
       "    }\n",
       "\n",
       "    .dataframe tbody tr th {\n",
       "        vertical-align: top;\n",
       "    }\n",
       "\n",
       "    .dataframe thead th {\n",
       "        text-align: right;\n",
       "    }\n",
       "</style>\n",
       "<table border=\"1\" class=\"dataframe\">\n",
       "  <thead>\n",
       "    <tr style=\"text-align: right;\">\n",
       "      <th></th>\n",
       "    </tr>\n",
       "    <tr>\n",
       "      <th>barcode_sample</th>\n",
       "    </tr>\n",
       "  </thead>\n",
       "  <tbody>\n",
       "    <tr>\n",
       "      <th>AAACCCAAGCTAGTTC-1_6044STDY8640561</th>\n",
       "    </tr>\n",
       "    <tr>\n",
       "      <th>AAACCCACAAAGTGTA-1_6044STDY8640561</th>\n",
       "    </tr>\n",
       "    <tr>\n",
       "      <th>AAACCCAGTGCACGCT-1_6044STDY8640561</th>\n",
       "    </tr>\n",
       "    <tr>\n",
       "      <th>AAACCCAGTTGGCCTG-1_6044STDY8640561</th>\n",
       "    </tr>\n",
       "    <tr>\n",
       "      <th>AAACGAAAGCTCCACG-1_6044STDY8640561</th>\n",
       "    </tr>\n",
       "    <tr>\n",
       "      <th>...</th>\n",
       "    </tr>\n",
       "    <tr>\n",
       "      <th>TTTGTTGCAGGTTCGC-1_Pla_Camb10123935</th>\n",
       "    </tr>\n",
       "    <tr>\n",
       "      <th>TTTGTTGCAGTTGCGC-1_Pla_Camb10123935</th>\n",
       "    </tr>\n",
       "    <tr>\n",
       "      <th>TTTGTTGCATGATAGA-1_Pla_Camb10123935</th>\n",
       "    </tr>\n",
       "    <tr>\n",
       "      <th>TTTGTTGGTGCTCCGA-1_Pla_Camb10123935</th>\n",
       "    </tr>\n",
       "    <tr>\n",
       "      <th>TTTGTTGTCTTTGCTA-1_Pla_Camb10123935</th>\n",
       "    </tr>\n",
       "  </tbody>\n",
       "</table>\n",
       "<p>92045 rows × 0 columns</p>\n",
       "</div>"
      ],
      "text/plain": [
       "Empty DataFrame\n",
       "Columns: []\n",
       "Index: [AAACCCAAGCTAGTTC-1_6044STDY8640561, AAACCCACAAAGTGTA-1_6044STDY8640561, AAACCCAGTGCACGCT-1_6044STDY8640561, AAACCCAGTTGGCCTG-1_6044STDY8640561, AAACGAAAGCTCCACG-1_6044STDY8640561, AAACGAACAAGTCGTT-1_6044STDY8640561, AAACGAACACCGCTGA-1_6044STDY8640561, AAACGAACATAGATCC-1_6044STDY8640561, AAACGAAGTGCATTAC-1_6044STDY8640561, AAACGAAGTGGCGTAA-1_6044STDY8640561, AAACGCTAGTTCCGTA-1_6044STDY8640561, AAACGCTAGTTGAAGT-1_6044STDY8640561, AAACGCTCACTATCCC-1_6044STDY8640561, AAACGCTGTTGACTAC-1_6044STDY8640561, AAACGCTTCCCAGGCA-1_6044STDY8640561, AAACGCTTCTGCATGA-1_6044STDY8640561, AAAGAACAGCGAGTAC-1_6044STDY8640561, AAAGAACAGTCATGAA-1_6044STDY8640561, AAAGAACCATGTGGCC-1_6044STDY8640561, AAAGGATAGTTGAATG-1_6044STDY8640561, AAAGGATCACAAAGTA-1_6044STDY8640561, AAAGGATCAGCTGGTC-1_6044STDY8640561, AAAGGATGTACTCCCT-1_6044STDY8640561, AAAGGATGTCACGCTG-1_6044STDY8640561, AAAGGATGTGCTCTTC-1_6044STDY8640561, AAAGGATGTTCGAGCC-1_6044STDY8640561, AAAGGGCAGAGTTGTA-1_6044STDY8640561, AAAGGGCAGCGAAACC-1_6044STDY8640561, AAAGGGCAGTCACACT-1_6044STDY8640561, AAAGGGCAGTTGTCAC-1_6044STDY8640561, AAAGGGCCATATCTGG-1_6044STDY8640561, AAAGGGCCATCCTAAG-1_6044STDY8640561, AAAGGGCTCGGAACTT-1_6044STDY8640561, AAAGGTACACATATGC-1_6044STDY8640561, AAAGGTACATTGCTGA-1_6044STDY8640561, AAAGGTATCTAGATCG-1_6044STDY8640561, AAAGTCCAGGTAAACT-1_6044STDY8640561, AAAGTCCAGTATGTAG-1_6044STDY8640561, AAAGTCCAGTGTTCAC-1_6044STDY8640561, AAAGTCCCAACTCCCT-1_6044STDY8640561, AAAGTCCGTCACCGCA-1_6044STDY8640561, AAAGTCCGTTGACTGT-1_6044STDY8640561, AAAGTCCTCGTAGGGA-1_6044STDY8640561, AAAGTGATCAGCCTTC-1_6044STDY8640561, AAAGTGATCGATACAC-1_6044STDY8640561, AAAGTGATCGCACGGT-1_6044STDY8640561, AAAGTGATCGTAGCCG-1_6044STDY8640561, AAATGGAAGACGCAGT-1_6044STDY8640561, AAATGGAAGGCTAGCA-1_6044STDY8640561, AAATGGAGTCCTGTCT-1_6044STDY8640561, AAATGGATCATAGAGA-1_6044STDY8640561, AAATGGATCGGAGCAA-1_6044STDY8640561, AACAAAGAGAAATTGC-1_6044STDY8640561, AACAAAGCAAGTGCAG-1_6044STDY8640561, AACAAAGCAGGCCTGT-1_6044STDY8640561, AACAAAGCAGGTAGTG-1_6044STDY8640561, AACAAAGGTATCCTTT-1_6044STDY8640561, AACAAAGGTCCCTGTT-1_6044STDY8640561, AACAAAGGTCGCTTAA-1_6044STDY8640561, AACAAAGTCATTACGG-1_6044STDY8640561, AACAAAGTCGTGCATA-1_6044STDY8640561, AACAACCAGGGAGGCA-1_6044STDY8640561, AACAACCCAAATGGTA-1_6044STDY8640561, AACAACCCACACTGGC-1_6044STDY8640561, AACAACCCAGTTCACA-1_6044STDY8640561, AACAACCGTCCCGCAA-1_6044STDY8640561, AACAACCGTTCAAGTC-1_6044STDY8640561, AACAACCTCTGAGGCC-1_6044STDY8640561, AACAAGAAGCCGCTTG-1_6044STDY8640561, AACAAGAAGTCGAGGT-1_6044STDY8640561, AACAAGAGTGAGCAGT-1_6044STDY8640561, AACAAGATCACCCATC-1_6044STDY8640561, AACAAGATCCAACCAA-1_6044STDY8640561, AACAAGATCTCATTGT-1_6044STDY8640561, AACAAGATCTGGACTA-1_6044STDY8640561, AACAAGATCTTGCAAG-1_6044STDY8640561, AACACACAGCCGAACA-1_6044STDY8640561, AACACACCAATCACGT-1_6044STDY8640561, AACACACCACAAGCCC-1_6044STDY8640561, AACACACCAGGGCTTC-1_6044STDY8640561, AACACACGTATTAAGG-1_6044STDY8640561, AACACACTCTCGGCTT-1_6044STDY8640561, AACAGGGAGGTCCAGA-1_6044STDY8640561, AACAGGGGTACCGCGT-1_6044STDY8640561, AACAGGGTCACTACTT-1_6044STDY8640561, AACCAACAGAAAGTCT-1_6044STDY8640561, AACCAACCACTAACGT-1_6044STDY8640561, AACCAACCAGACCTAT-1_6044STDY8640561, AACCAACGTAACTAAG-1_6044STDY8640561, AACCAACGTATACAGA-1_6044STDY8640561, AACCAACGTCGAATGG-1_6044STDY8640561, AACCAACGTCGCAACC-1_6044STDY8640561, AACCAACGTTCTGAGT-1_6044STDY8640561, AACCAACGTTGGTGTT-1_6044STDY8640561, AACCACACACGGGTAA-1_6044STDY8640561, AACCACACACTTTAGG-1_6044STDY8640561, AACCACACAGCTACAT-1_6044STDY8640561, AACCACAGTCGGCACT-1_6044STDY8640561, AACCACAGTGTTTGCA-1_6044STDY8640561, AACCACAGTTCAACGT-1_6044STDY8640561, ...]\n",
       "\n",
       "[92045 rows x 0 columns]"
      ]
     },
     "execution_count": 53,
     "metadata": {},
     "output_type": "execute_result"
    }
   ],
   "source": [
    "# reading IDs of final cells to keep (after also excluding doublets by GEX, done in notebook M3)\n",
    "final_cell_IDs = pd.read_csv(path + '20210521_final_cell_IDs.csv', index_col=0)\n",
    "final_cell_IDs"
   ]
  },
  {
   "cell_type": "code",
   "execution_count": 54,
   "metadata": {},
   "outputs": [],
   "source": [
    "# setting obs_names and obs.index to 'barcode_sample'\n",
    "adata.obs.set_index('barcode_sample', inplace=True)"
   ]
  },
  {
   "cell_type": "code",
   "execution_count": 55,
   "metadata": {},
   "outputs": [
    {
     "data": {
      "text/plain": [
       "AnnData object with n_obs × n_vars = 92045 × 23281\n",
       "    obs: 'n_genes', 'time_point', 'activation_status', 'media', 'sample', 'percent_mito', 'n_counts', 'dataset', 'technique', 'scrublet_score', 'scrublet_cluster_score', 'bh_pval', 'batch', 'is_doublet', 'experiment', 'barcode', 'souporcell_assignment', 'inter_ind_doublet', 'donor'\n",
       "    var: 'gene_ids-0', 'feature_types-0', 'genome-0', 'n_cells-0', 'gene_ids-1', 'feature_types-1', 'genome-1', 'n_cells-1', 'gene_ids-10', 'feature_types-10', 'genome-10', 'n_cells-10', 'gene_ids-11', 'feature_types-11', 'genome-11', 'n_cells-11', 'gene_ids-12', 'feature_types-12', 'genome-12', 'n_cells-12', 'gene_ids-13', 'feature_types-13', 'genome-13', 'n_cells-13', 'gene_ids-2', 'feature_types-2', 'genome-2', 'n_cells-2', 'gene_ids-3', 'feature_types-3', 'genome-3', 'n_cells-3', 'gene_ids-4', 'feature_types-4', 'genome-4', 'n_cells-4', 'gene_ids-5', 'feature_types-5', 'genome-5', 'n_cells-5', 'gene_ids-6', 'feature_types-6', 'genome-6', 'n_cells-6', 'gene_ids-7', 'feature_types-7', 'genome-7', 'n_cells-7', 'gene_ids-8', 'feature_types-8', 'genome-8', 'n_cells-8', 'gene_ids-9', 'feature_types-9', 'genome-9', 'n_cells-9'"
      ]
     },
     "execution_count": 55,
     "metadata": {},
     "output_type": "execute_result"
    }
   ],
   "source": [
    "# subsetting the adata object to final cells\n",
    "adata = adata[list(final_cell_IDs.index), :].copy()\n",
    "adata"
   ]
  },
  {
   "cell_type": "code",
   "execution_count": 56,
   "metadata": {},
   "outputs": [
    {
     "data": {
      "text/html": [
       "<div>\n",
       "<style scoped>\n",
       "    .dataframe tbody tr th:only-of-type {\n",
       "        vertical-align: middle;\n",
       "    }\n",
       "\n",
       "    .dataframe tbody tr th {\n",
       "        vertical-align: top;\n",
       "    }\n",
       "\n",
       "    .dataframe thead th {\n",
       "        text-align: right;\n",
       "    }\n",
       "</style>\n",
       "<table border=\"1\" class=\"dataframe\">\n",
       "  <thead>\n",
       "    <tr style=\"text-align: right;\">\n",
       "      <th></th>\n",
       "      <th>gene_ids-0</th>\n",
       "      <th>feature_types-0</th>\n",
       "      <th>genome-0</th>\n",
       "      <th>n_cells-0</th>\n",
       "      <th>gene_ids-1</th>\n",
       "      <th>feature_types-1</th>\n",
       "      <th>genome-1</th>\n",
       "      <th>n_cells-1</th>\n",
       "      <th>gene_ids-10</th>\n",
       "      <th>feature_types-10</th>\n",
       "      <th>...</th>\n",
       "      <th>genome-7</th>\n",
       "      <th>n_cells-7</th>\n",
       "      <th>gene_ids-8</th>\n",
       "      <th>feature_types-8</th>\n",
       "      <th>genome-8</th>\n",
       "      <th>n_cells-8</th>\n",
       "      <th>gene_ids-9</th>\n",
       "      <th>feature_types-9</th>\n",
       "      <th>genome-9</th>\n",
       "      <th>n_cells-9</th>\n",
       "    </tr>\n",
       "  </thead>\n",
       "  <tbody>\n",
       "    <tr>\n",
       "      <th>A1BG</th>\n",
       "      <td>ENSG00000121410</td>\n",
       "      <td>Gene Expression</td>\n",
       "      <td>GRCh38</td>\n",
       "      <td>609.0</td>\n",
       "      <td>ENSG00000121410</td>\n",
       "      <td>Gene Expression</td>\n",
       "      <td>GRCh38</td>\n",
       "      <td>861.0</td>\n",
       "      <td>ENSG00000121410</td>\n",
       "      <td>Gene Expression</td>\n",
       "      <td>...</td>\n",
       "      <td>GRCh38</td>\n",
       "      <td>280.0</td>\n",
       "      <td>ENSG00000121410</td>\n",
       "      <td>Gene Expression</td>\n",
       "      <td>GRCh38</td>\n",
       "      <td>381.0</td>\n",
       "      <td>ENSG00000121410</td>\n",
       "      <td>Gene Expression</td>\n",
       "      <td>GRCh38</td>\n",
       "      <td>602.0</td>\n",
       "    </tr>\n",
       "    <tr>\n",
       "      <th>A1BG-AS1</th>\n",
       "      <td>ENSG00000268895</td>\n",
       "      <td>Gene Expression</td>\n",
       "      <td>GRCh38</td>\n",
       "      <td>116.0</td>\n",
       "      <td>ENSG00000268895</td>\n",
       "      <td>Gene Expression</td>\n",
       "      <td>GRCh38</td>\n",
       "      <td>174.0</td>\n",
       "      <td>ENSG00000268895</td>\n",
       "      <td>Gene Expression</td>\n",
       "      <td>...</td>\n",
       "      <td>GRCh38</td>\n",
       "      <td>90.0</td>\n",
       "      <td>ENSG00000268895</td>\n",
       "      <td>Gene Expression</td>\n",
       "      <td>GRCh38</td>\n",
       "      <td>59.0</td>\n",
       "      <td>ENSG00000268895</td>\n",
       "      <td>Gene Expression</td>\n",
       "      <td>GRCh38</td>\n",
       "      <td>116.0</td>\n",
       "    </tr>\n",
       "    <tr>\n",
       "      <th>A2M</th>\n",
       "      <td>NaN</td>\n",
       "      <td>NaN</td>\n",
       "      <td>NaN</td>\n",
       "      <td>NaN</td>\n",
       "      <td>NaN</td>\n",
       "      <td>NaN</td>\n",
       "      <td>NaN</td>\n",
       "      <td>NaN</td>\n",
       "      <td>NaN</td>\n",
       "      <td>NaN</td>\n",
       "      <td>...</td>\n",
       "      <td>NaN</td>\n",
       "      <td>NaN</td>\n",
       "      <td>ENSG00000175899</td>\n",
       "      <td>Gene Expression</td>\n",
       "      <td>GRCh38</td>\n",
       "      <td>3.0</td>\n",
       "      <td>NaN</td>\n",
       "      <td>NaN</td>\n",
       "      <td>NaN</td>\n",
       "      <td>NaN</td>\n",
       "    </tr>\n",
       "    <tr>\n",
       "      <th>A2M-AS1</th>\n",
       "      <td>ENSG00000245105</td>\n",
       "      <td>Gene Expression</td>\n",
       "      <td>GRCh38</td>\n",
       "      <td>13.0</td>\n",
       "      <td>ENSG00000245105</td>\n",
       "      <td>Gene Expression</td>\n",
       "      <td>GRCh38</td>\n",
       "      <td>13.0</td>\n",
       "      <td>ENSG00000245105</td>\n",
       "      <td>Gene Expression</td>\n",
       "      <td>...</td>\n",
       "      <td>GRCh38</td>\n",
       "      <td>20.0</td>\n",
       "      <td>ENSG00000245105</td>\n",
       "      <td>Gene Expression</td>\n",
       "      <td>GRCh38</td>\n",
       "      <td>5.0</td>\n",
       "      <td>ENSG00000245105</td>\n",
       "      <td>Gene Expression</td>\n",
       "      <td>GRCh38</td>\n",
       "      <td>9.0</td>\n",
       "    </tr>\n",
       "    <tr>\n",
       "      <th>A2ML1</th>\n",
       "      <td>ENSG00000166535</td>\n",
       "      <td>Gene Expression</td>\n",
       "      <td>GRCh38</td>\n",
       "      <td>53.0</td>\n",
       "      <td>ENSG00000166535</td>\n",
       "      <td>Gene Expression</td>\n",
       "      <td>GRCh38</td>\n",
       "      <td>49.0</td>\n",
       "      <td>ENSG00000166535</td>\n",
       "      <td>Gene Expression</td>\n",
       "      <td>...</td>\n",
       "      <td>GRCh38</td>\n",
       "      <td>99.0</td>\n",
       "      <td>ENSG00000166535</td>\n",
       "      <td>Gene Expression</td>\n",
       "      <td>GRCh38</td>\n",
       "      <td>40.0</td>\n",
       "      <td>ENSG00000166535</td>\n",
       "      <td>Gene Expression</td>\n",
       "      <td>GRCh38</td>\n",
       "      <td>51.0</td>\n",
       "    </tr>\n",
       "    <tr>\n",
       "      <th>...</th>\n",
       "      <td>...</td>\n",
       "      <td>...</td>\n",
       "      <td>...</td>\n",
       "      <td>...</td>\n",
       "      <td>...</td>\n",
       "      <td>...</td>\n",
       "      <td>...</td>\n",
       "      <td>...</td>\n",
       "      <td>...</td>\n",
       "      <td>...</td>\n",
       "      <td>...</td>\n",
       "      <td>...</td>\n",
       "      <td>...</td>\n",
       "      <td>...</td>\n",
       "      <td>...</td>\n",
       "      <td>...</td>\n",
       "      <td>...</td>\n",
       "      <td>...</td>\n",
       "      <td>...</td>\n",
       "      <td>...</td>\n",
       "      <td>...</td>\n",
       "    </tr>\n",
       "    <tr>\n",
       "      <th>ZXDC</th>\n",
       "      <td>ENSG00000070476</td>\n",
       "      <td>Gene Expression</td>\n",
       "      <td>GRCh38</td>\n",
       "      <td>466.0</td>\n",
       "      <td>ENSG00000070476</td>\n",
       "      <td>Gene Expression</td>\n",
       "      <td>GRCh38</td>\n",
       "      <td>630.0</td>\n",
       "      <td>ENSG00000070476</td>\n",
       "      <td>Gene Expression</td>\n",
       "      <td>...</td>\n",
       "      <td>GRCh38</td>\n",
       "      <td>446.0</td>\n",
       "      <td>ENSG00000070476</td>\n",
       "      <td>Gene Expression</td>\n",
       "      <td>GRCh38</td>\n",
       "      <td>206.0</td>\n",
       "      <td>ENSG00000070476</td>\n",
       "      <td>Gene Expression</td>\n",
       "      <td>GRCh38</td>\n",
       "      <td>269.0</td>\n",
       "    </tr>\n",
       "    <tr>\n",
       "      <th>ZYG11A</th>\n",
       "      <td>ENSG00000203995</td>\n",
       "      <td>Gene Expression</td>\n",
       "      <td>GRCh38</td>\n",
       "      <td>99.0</td>\n",
       "      <td>ENSG00000203995</td>\n",
       "      <td>Gene Expression</td>\n",
       "      <td>GRCh38</td>\n",
       "      <td>156.0</td>\n",
       "      <td>ENSG00000203995</td>\n",
       "      <td>Gene Expression</td>\n",
       "      <td>...</td>\n",
       "      <td>GRCh38</td>\n",
       "      <td>121.0</td>\n",
       "      <td>ENSG00000203995</td>\n",
       "      <td>Gene Expression</td>\n",
       "      <td>GRCh38</td>\n",
       "      <td>44.0</td>\n",
       "      <td>ENSG00000203995</td>\n",
       "      <td>Gene Expression</td>\n",
       "      <td>GRCh38</td>\n",
       "      <td>74.0</td>\n",
       "    </tr>\n",
       "    <tr>\n",
       "      <th>ZYG11B</th>\n",
       "      <td>ENSG00000162378</td>\n",
       "      <td>Gene Expression</td>\n",
       "      <td>GRCh38</td>\n",
       "      <td>1648.0</td>\n",
       "      <td>ENSG00000162378</td>\n",
       "      <td>Gene Expression</td>\n",
       "      <td>GRCh38</td>\n",
       "      <td>2233.0</td>\n",
       "      <td>ENSG00000162378</td>\n",
       "      <td>Gene Expression</td>\n",
       "      <td>...</td>\n",
       "      <td>GRCh38</td>\n",
       "      <td>2235.0</td>\n",
       "      <td>ENSG00000162378</td>\n",
       "      <td>Gene Expression</td>\n",
       "      <td>GRCh38</td>\n",
       "      <td>1442.0</td>\n",
       "      <td>ENSG00000162378</td>\n",
       "      <td>Gene Expression</td>\n",
       "      <td>GRCh38</td>\n",
       "      <td>1862.0</td>\n",
       "    </tr>\n",
       "    <tr>\n",
       "      <th>ZYX</th>\n",
       "      <td>ENSG00000159840</td>\n",
       "      <td>Gene Expression</td>\n",
       "      <td>GRCh38</td>\n",
       "      <td>2152.0</td>\n",
       "      <td>ENSG00000159840</td>\n",
       "      <td>Gene Expression</td>\n",
       "      <td>GRCh38</td>\n",
       "      <td>3590.0</td>\n",
       "      <td>ENSG00000159840</td>\n",
       "      <td>Gene Expression</td>\n",
       "      <td>...</td>\n",
       "      <td>GRCh38</td>\n",
       "      <td>2223.0</td>\n",
       "      <td>ENSG00000159840</td>\n",
       "      <td>Gene Expression</td>\n",
       "      <td>GRCh38</td>\n",
       "      <td>2277.0</td>\n",
       "      <td>ENSG00000159840</td>\n",
       "      <td>Gene Expression</td>\n",
       "      <td>GRCh38</td>\n",
       "      <td>3658.0</td>\n",
       "    </tr>\n",
       "    <tr>\n",
       "      <th>ZZEF1</th>\n",
       "      <td>ENSG00000074755</td>\n",
       "      <td>Gene Expression</td>\n",
       "      <td>GRCh38</td>\n",
       "      <td>866.0</td>\n",
       "      <td>ENSG00000074755</td>\n",
       "      <td>Gene Expression</td>\n",
       "      <td>GRCh38</td>\n",
       "      <td>1211.0</td>\n",
       "      <td>ENSG00000074755</td>\n",
       "      <td>Gene Expression</td>\n",
       "      <td>...</td>\n",
       "      <td>GRCh38</td>\n",
       "      <td>1341.0</td>\n",
       "      <td>ENSG00000074755</td>\n",
       "      <td>Gene Expression</td>\n",
       "      <td>GRCh38</td>\n",
       "      <td>904.0</td>\n",
       "      <td>ENSG00000074755</td>\n",
       "      <td>Gene Expression</td>\n",
       "      <td>GRCh38</td>\n",
       "      <td>1164.0</td>\n",
       "    </tr>\n",
       "  </tbody>\n",
       "</table>\n",
       "<p>23015 rows × 56 columns</p>\n",
       "</div>"
      ],
      "text/plain": [
       "               gene_ids-0  feature_types-0 genome-0  n_cells-0  \\\n",
       "A1BG      ENSG00000121410  Gene Expression   GRCh38      609.0   \n",
       "A1BG-AS1  ENSG00000268895  Gene Expression   GRCh38      116.0   \n",
       "A2M                   NaN              NaN      NaN        NaN   \n",
       "A2M-AS1   ENSG00000245105  Gene Expression   GRCh38       13.0   \n",
       "A2ML1     ENSG00000166535  Gene Expression   GRCh38       53.0   \n",
       "...                   ...              ...      ...        ...   \n",
       "ZXDC      ENSG00000070476  Gene Expression   GRCh38      466.0   \n",
       "ZYG11A    ENSG00000203995  Gene Expression   GRCh38       99.0   \n",
       "ZYG11B    ENSG00000162378  Gene Expression   GRCh38     1648.0   \n",
       "ZYX       ENSG00000159840  Gene Expression   GRCh38     2152.0   \n",
       "ZZEF1     ENSG00000074755  Gene Expression   GRCh38      866.0   \n",
       "\n",
       "               gene_ids-1  feature_types-1 genome-1  n_cells-1  \\\n",
       "A1BG      ENSG00000121410  Gene Expression   GRCh38      861.0   \n",
       "A1BG-AS1  ENSG00000268895  Gene Expression   GRCh38      174.0   \n",
       "A2M                   NaN              NaN      NaN        NaN   \n",
       "A2M-AS1   ENSG00000245105  Gene Expression   GRCh38       13.0   \n",
       "A2ML1     ENSG00000166535  Gene Expression   GRCh38       49.0   \n",
       "...                   ...              ...      ...        ...   \n",
       "ZXDC      ENSG00000070476  Gene Expression   GRCh38      630.0   \n",
       "ZYG11A    ENSG00000203995  Gene Expression   GRCh38      156.0   \n",
       "ZYG11B    ENSG00000162378  Gene Expression   GRCh38     2233.0   \n",
       "ZYX       ENSG00000159840  Gene Expression   GRCh38     3590.0   \n",
       "ZZEF1     ENSG00000074755  Gene Expression   GRCh38     1211.0   \n",
       "\n",
       "              gene_ids-10 feature_types-10  ... genome-7  n_cells-7  \\\n",
       "A1BG      ENSG00000121410  Gene Expression  ...   GRCh38      280.0   \n",
       "A1BG-AS1  ENSG00000268895  Gene Expression  ...   GRCh38       90.0   \n",
       "A2M                   NaN              NaN  ...      NaN        NaN   \n",
       "A2M-AS1   ENSG00000245105  Gene Expression  ...   GRCh38       20.0   \n",
       "A2ML1     ENSG00000166535  Gene Expression  ...   GRCh38       99.0   \n",
       "...                   ...              ...  ...      ...        ...   \n",
       "ZXDC      ENSG00000070476  Gene Expression  ...   GRCh38      446.0   \n",
       "ZYG11A    ENSG00000203995  Gene Expression  ...   GRCh38      121.0   \n",
       "ZYG11B    ENSG00000162378  Gene Expression  ...   GRCh38     2235.0   \n",
       "ZYX       ENSG00000159840  Gene Expression  ...   GRCh38     2223.0   \n",
       "ZZEF1     ENSG00000074755  Gene Expression  ...   GRCh38     1341.0   \n",
       "\n",
       "               gene_ids-8  feature_types-8 genome-8  n_cells-8  \\\n",
       "A1BG      ENSG00000121410  Gene Expression   GRCh38      381.0   \n",
       "A1BG-AS1  ENSG00000268895  Gene Expression   GRCh38       59.0   \n",
       "A2M       ENSG00000175899  Gene Expression   GRCh38        3.0   \n",
       "A2M-AS1   ENSG00000245105  Gene Expression   GRCh38        5.0   \n",
       "A2ML1     ENSG00000166535  Gene Expression   GRCh38       40.0   \n",
       "...                   ...              ...      ...        ...   \n",
       "ZXDC      ENSG00000070476  Gene Expression   GRCh38      206.0   \n",
       "ZYG11A    ENSG00000203995  Gene Expression   GRCh38       44.0   \n",
       "ZYG11B    ENSG00000162378  Gene Expression   GRCh38     1442.0   \n",
       "ZYX       ENSG00000159840  Gene Expression   GRCh38     2277.0   \n",
       "ZZEF1     ENSG00000074755  Gene Expression   GRCh38      904.0   \n",
       "\n",
       "               gene_ids-9  feature_types-9 genome-9  n_cells-9  \n",
       "A1BG      ENSG00000121410  Gene Expression   GRCh38      602.0  \n",
       "A1BG-AS1  ENSG00000268895  Gene Expression   GRCh38      116.0  \n",
       "A2M                   NaN              NaN      NaN        NaN  \n",
       "A2M-AS1   ENSG00000245105  Gene Expression   GRCh38        9.0  \n",
       "A2ML1     ENSG00000166535  Gene Expression   GRCh38       51.0  \n",
       "...                   ...              ...      ...        ...  \n",
       "ZXDC      ENSG00000070476  Gene Expression   GRCh38      269.0  \n",
       "ZYG11A    ENSG00000203995  Gene Expression   GRCh38       74.0  \n",
       "ZYG11B    ENSG00000162378  Gene Expression   GRCh38     1862.0  \n",
       "ZYX       ENSG00000159840  Gene Expression   GRCh38     3658.0  \n",
       "ZZEF1     ENSG00000074755  Gene Expression   GRCh38     1164.0  \n",
       "\n",
       "[23015 rows x 56 columns]"
      ]
     },
     "execution_count": 56,
     "metadata": {},
     "output_type": "execute_result"
    }
   ],
   "source": [
    "# addition - subsetting to genes after cell cycle-associated gene removal\n",
    "# read in cleaned up genes, after all doublet exclusion\n",
    "# these genes have been calculated in the course of analysis of all organoids data (stimulated and unstimulated)\n",
    "cleaned_up_genes = pd.read_csv('/nfs/team292/aa22/scVI_related/202105_troph_organoids/genes_for_scVI_after_CCGs_removal_after_all_doublet_exclusion.csv', \n",
    "                              index_col=0)\n",
    "cleaned_up_genes"
   ]
  },
  {
   "cell_type": "code",
   "execution_count": 57,
   "metadata": {},
   "outputs": [],
   "source": [
    "# subsetting to only cleaned up genes\n",
    "adata = adata[:, list(cleaned_up_genes.index)].copy()"
   ]
  },
  {
   "cell_type": "code",
   "execution_count": 58,
   "metadata": {},
   "outputs": [
    {
     "data": {
      "text/html": [
       "<div>\n",
       "<style scoped>\n",
       "    .dataframe tbody tr th:only-of-type {\n",
       "        vertical-align: middle;\n",
       "    }\n",
       "\n",
       "    .dataframe tbody tr th {\n",
       "        vertical-align: top;\n",
       "    }\n",
       "\n",
       "    .dataframe thead th {\n",
       "        text-align: right;\n",
       "    }\n",
       "</style>\n",
       "<table border=\"1\" class=\"dataframe\">\n",
       "  <thead>\n",
       "    <tr style=\"text-align: right;\">\n",
       "      <th></th>\n",
       "      <th>Empty_droplet_sum</th>\n",
       "      <th>Cell_sum</th>\n",
       "      <th>Soup_probability</th>\n",
       "      <th>Selected</th>\n",
       "    </tr>\n",
       "  </thead>\n",
       "  <tbody>\n",
       "    <tr>\n",
       "      <th>RTN4RL1</th>\n",
       "      <td>1.0</td>\n",
       "      <td>0.0</td>\n",
       "      <td>1.000000</td>\n",
       "      <td>False</td>\n",
       "    </tr>\n",
       "    <tr>\n",
       "      <th>TEX2</th>\n",
       "      <td>341.0</td>\n",
       "      <td>181.0</td>\n",
       "      <td>0.653257</td>\n",
       "      <td>False</td>\n",
       "    </tr>\n",
       "    <tr>\n",
       "      <th>PRRG1</th>\n",
       "      <td>3682.0</td>\n",
       "      <td>2230.0</td>\n",
       "      <td>0.622801</td>\n",
       "      <td>True</td>\n",
       "    </tr>\n",
       "    <tr>\n",
       "      <th>HHATL</th>\n",
       "      <td>1.0</td>\n",
       "      <td>0.0</td>\n",
       "      <td>1.000000</td>\n",
       "      <td>False</td>\n",
       "    </tr>\n",
       "    <tr>\n",
       "      <th>AC011287.2</th>\n",
       "      <td>6.0</td>\n",
       "      <td>4.0</td>\n",
       "      <td>0.600000</td>\n",
       "      <td>True</td>\n",
       "    </tr>\n",
       "    <tr>\n",
       "      <th>...</th>\n",
       "      <td>...</td>\n",
       "      <td>...</td>\n",
       "      <td>...</td>\n",
       "      <td>...</td>\n",
       "    </tr>\n",
       "    <tr>\n",
       "      <th>UBLCP1</th>\n",
       "      <td>2175.0</td>\n",
       "      <td>1221.0</td>\n",
       "      <td>0.640459</td>\n",
       "      <td>False</td>\n",
       "    </tr>\n",
       "    <tr>\n",
       "      <th>AL117336.1</th>\n",
       "      <td>1.0</td>\n",
       "      <td>0.0</td>\n",
       "      <td>1.000000</td>\n",
       "      <td>False</td>\n",
       "    </tr>\n",
       "    <tr>\n",
       "      <th>A2M-AS1</th>\n",
       "      <td>10.0</td>\n",
       "      <td>5.0</td>\n",
       "      <td>0.666667</td>\n",
       "      <td>False</td>\n",
       "    </tr>\n",
       "    <tr>\n",
       "      <th>KRTAP19-3</th>\n",
       "      <td>2.0</td>\n",
       "      <td>0.0</td>\n",
       "      <td>1.000000</td>\n",
       "      <td>False</td>\n",
       "    </tr>\n",
       "    <tr>\n",
       "      <th>DAW1</th>\n",
       "      <td>1152.0</td>\n",
       "      <td>509.0</td>\n",
       "      <td>0.693558</td>\n",
       "      <td>False</td>\n",
       "    </tr>\n",
       "  </tbody>\n",
       "</table>\n",
       "<p>24755 rows × 4 columns</p>\n",
       "</div>"
      ],
      "text/plain": [
       "            Empty_droplet_sum  Cell_sum  Soup_probability  Selected\n",
       "RTN4RL1                   1.0       0.0          1.000000     False\n",
       "TEX2                    341.0     181.0          0.653257     False\n",
       "PRRG1                  3682.0    2230.0          0.622801      True\n",
       "HHATL                     1.0       0.0          1.000000     False\n",
       "AC011287.2                6.0       4.0          0.600000      True\n",
       "...                       ...       ...               ...       ...\n",
       "UBLCP1                 2175.0    1221.0          0.640459     False\n",
       "AL117336.1                1.0       0.0          1.000000     False\n",
       "A2M-AS1                  10.0       5.0          0.666667     False\n",
       "KRTAP19-3                 2.0       0.0          1.000000     False\n",
       "DAW1                   1152.0     509.0          0.693558     False\n",
       "\n",
       "[24755 rows x 4 columns]"
      ]
     },
     "execution_count": 58,
     "metadata": {},
     "output_type": "execute_result"
    }
   ],
   "source": [
    "# also getting rid of soupy genes calc in notebook S3 (based on 1 soupy sample)\n",
    "gene_stats = pd.read_csv('./gene_filter_cells_by_sample_Pla_Camb10123930.csv', index_col=0)\n",
    "gene_stats"
   ]
  },
  {
   "cell_type": "code",
   "execution_count": 59,
   "metadata": {},
   "outputs": [
    {
     "data": {
      "text/plain": [
       "(array([False,  True]), array([15040,  9715]))"
      ]
     },
     "execution_count": 59,
     "metadata": {},
     "output_type": "execute_result"
    }
   ],
   "source": [
    "np.unique(gene_stats['Selected'], return_counts=True)"
   ]
  },
  {
   "cell_type": "code",
   "execution_count": 60,
   "metadata": {},
   "outputs": [
    {
     "data": {
      "text/plain": [
       "['PRRG1',\n",
       " 'AC011287.2',\n",
       " 'NIPAL1',\n",
       " 'PI16',\n",
       " 'PKD2L2',\n",
       " 'GATD3A',\n",
       " 'OSBPL7',\n",
       " 'SLC25A17',\n",
       " 'SCAI',\n",
       " 'LINC01748',\n",
       " 'CHGB',\n",
       " 'BSG',\n",
       " 'AL645940.1',\n",
       " 'C12orf56',\n",
       " 'ITFG2',\n",
       " 'EN2',\n",
       " 'ELOVL1',\n",
       " 'AC097478.3',\n",
       " 'GCOM1',\n",
       " 'DDR2',\n",
       " 'TH',\n",
       " 'AC103764.1',\n",
       " 'AL050343.2',\n",
       " 'OTULINL',\n",
       " 'GPSM3',\n",
       " 'KLHL7-DT',\n",
       " 'AC096582.3',\n",
       " 'TDRD12',\n",
       " 'TMEM98',\n",
       " 'AC012157.1',\n",
       " 'GAS2L3',\n",
       " 'ZNF552',\n",
       " 'AL136962.1',\n",
       " 'PRSS57',\n",
       " 'TOMM22',\n",
       " 'ABCG8',\n",
       " 'PMS1',\n",
       " 'ANKS3',\n",
       " 'IFT172',\n",
       " 'ALDH1A1',\n",
       " 'FBXO17',\n",
       " 'AL022476.1',\n",
       " 'FAM241B',\n",
       " 'AC245060.5',\n",
       " 'FAAP24',\n",
       " 'HOXA-AS3',\n",
       " 'AC126773.4',\n",
       " 'ASAP2',\n",
       " 'AC009065.8',\n",
       " 'AC005899.8',\n",
       " 'HSPBAP1',\n",
       " 'SELENOT',\n",
       " 'SHANK2-AS1',\n",
       " 'RRM1-AS1',\n",
       " 'NALCN-AS1',\n",
       " 'HEG1',\n",
       " 'AC010680.5',\n",
       " 'XPC',\n",
       " 'RTN2',\n",
       " 'AC106786.2',\n",
       " 'TRPM2-AS',\n",
       " 'AHNAK',\n",
       " 'PDGFRL',\n",
       " 'LINC01591',\n",
       " 'SCN5A',\n",
       " 'DDX24',\n",
       " 'FUCA2',\n",
       " 'AC011921.1',\n",
       " 'TAB3-AS2',\n",
       " 'AMT',\n",
       " 'PICK1',\n",
       " 'AP000894.4',\n",
       " 'PCDHGA5',\n",
       " 'ZNF213-AS1',\n",
       " 'INE2',\n",
       " 'RIT2',\n",
       " 'TBC1D32',\n",
       " 'OR2C3',\n",
       " 'EEA1',\n",
       " 'RSBN1',\n",
       " 'CUL7',\n",
       " 'CPEB1',\n",
       " 'KCNQ1OT1',\n",
       " 'MIR181A2HG',\n",
       " 'PTCHD1',\n",
       " 'SMPX',\n",
       " 'SH3PXD2A',\n",
       " 'AC006206.1',\n",
       " 'SEC31B',\n",
       " 'FUOM',\n",
       " 'LINC01679',\n",
       " 'ZNF710-AS1',\n",
       " 'LINC00667',\n",
       " 'AC002116.2',\n",
       " 'RALGAPA2',\n",
       " 'LRRC37B',\n",
       " 'LINC00880',\n",
       " 'MOSPD3',\n",
       " 'AC002480.2',\n",
       " 'MUC16',\n",
       " 'MUC20-OT1',\n",
       " 'CTSA',\n",
       " 'BEX2',\n",
       " 'TMEM56-RWDD3',\n",
       " 'DNHD1',\n",
       " 'SPIDR',\n",
       " 'RRAGC',\n",
       " 'TMEM254-AS1',\n",
       " 'CPEB2-DT',\n",
       " 'SKAP2',\n",
       " 'AC004158.1',\n",
       " 'TK1',\n",
       " 'MYOCOS',\n",
       " 'LINC00592',\n",
       " 'HIST1H2BL',\n",
       " 'SETD5',\n",
       " 'TBRG1',\n",
       " 'SNRK-AS1',\n",
       " 'ZGRF1',\n",
       " 'SNTG2',\n",
       " 'KLHDC2',\n",
       " 'SATB1',\n",
       " 'ACBD6',\n",
       " 'PDE7A',\n",
       " 'OSBPL10-AS1',\n",
       " 'PSENEN',\n",
       " 'TOMM20',\n",
       " 'DICER1',\n",
       " 'REEP5',\n",
       " 'NPPB',\n",
       " 'SLC17A9',\n",
       " 'CD300A',\n",
       " 'AC011472.4',\n",
       " 'RLF',\n",
       " 'AL139099.1',\n",
       " 'SMIM19',\n",
       " 'AL136040.1',\n",
       " 'AC244034.2',\n",
       " 'AC007823.1',\n",
       " 'PHC1',\n",
       " 'CASQ2',\n",
       " 'AC010745.2',\n",
       " 'GPC2',\n",
       " 'AC023908.3',\n",
       " 'CYP51A1-AS1',\n",
       " 'CCDC149',\n",
       " 'PTPRK',\n",
       " 'ZNF557',\n",
       " 'RAPSN',\n",
       " 'RMRP',\n",
       " 'FOXRED2',\n",
       " 'EIF4EBP3',\n",
       " 'CEP170',\n",
       " 'TMPRSS5',\n",
       " 'AP003086.1',\n",
       " 'HOXA4',\n",
       " 'SOCS5',\n",
       " 'CYP7A1',\n",
       " 'AL358781.2',\n",
       " 'AC068338.3',\n",
       " 'C6orf118',\n",
       " 'NPIPB13',\n",
       " 'CNTRL',\n",
       " 'ZNF350',\n",
       " 'ZNF425',\n",
       " 'RGMA',\n",
       " 'AC008906.2',\n",
       " 'TMEM41A',\n",
       " 'CYBC1',\n",
       " 'CYB5A',\n",
       " 'AC136475.1',\n",
       " 'IGHMBP2',\n",
       " 'U91328.1',\n",
       " 'AP000851.1',\n",
       " 'ZNF558',\n",
       " 'BAALC-AS1',\n",
       " 'AC016590.3',\n",
       " 'HIST2H2AB',\n",
       " 'AL513218.1',\n",
       " 'FAM156A',\n",
       " 'AC004012.1',\n",
       " 'TPTE2',\n",
       " 'MCOLN3',\n",
       " 'IRF1',\n",
       " 'AP000552.1',\n",
       " 'MPLKIP',\n",
       " 'SYT2',\n",
       " 'LINC02434',\n",
       " 'KCNJ14',\n",
       " 'NCBP2-AS1',\n",
       " 'AL031963.3',\n",
       " 'SS18L1',\n",
       " 'ACKR4',\n",
       " 'SLC39A10',\n",
       " 'AL033528.2',\n",
       " 'TCIRG1',\n",
       " 'BSCL2',\n",
       " 'ALDH1A2',\n",
       " 'TM4SF5',\n",
       " 'LINC00884',\n",
       " 'STX18-AS1',\n",
       " 'AP003059.1',\n",
       " 'Z69720.1',\n",
       " 'MUTYH',\n",
       " 'ITGB6',\n",
       " 'AC072061.1',\n",
       " 'ARRDC1',\n",
       " 'LRRC37A',\n",
       " 'ELOVL3',\n",
       " 'AC098828.2',\n",
       " 'AC010978.1',\n",
       " 'HPS1',\n",
       " 'CLCNKB',\n",
       " 'CDC42',\n",
       " 'CLDN34',\n",
       " 'NR2E3',\n",
       " 'RDH10-AS1',\n",
       " 'LINC01551',\n",
       " 'KHDRBS1',\n",
       " 'RAP2C-AS1',\n",
       " 'CTNNB1',\n",
       " 'TM9SF4',\n",
       " 'SLC1A5',\n",
       " 'TBR1',\n",
       " 'REELD1',\n",
       " 'TMEM120A',\n",
       " 'OTUD3',\n",
       " 'S100A4',\n",
       " 'TRIM47',\n",
       " 'AC116535.1',\n",
       " 'IL11',\n",
       " 'ZNF324B',\n",
       " 'FKBP1B',\n",
       " 'SIRT4',\n",
       " 'NFAT5',\n",
       " 'RBM34',\n",
       " 'PDLIM1',\n",
       " 'AC073263.1',\n",
       " 'LRGUK',\n",
       " 'ADGRL3',\n",
       " 'FJX1',\n",
       " 'AC090844.2',\n",
       " 'ZFX',\n",
       " 'LRFN1',\n",
       " 'NEAT1',\n",
       " 'AL603910.1',\n",
       " 'SBNO1',\n",
       " 'TRPM4',\n",
       " 'AC130650.2',\n",
       " 'RPS28',\n",
       " 'DDX58',\n",
       " 'C1orf174',\n",
       " 'Z83844.2',\n",
       " 'FA2H',\n",
       " 'TMEM38A',\n",
       " 'FTX',\n",
       " 'AC138819.1',\n",
       " 'AC105411.1',\n",
       " 'DDN-AS1',\n",
       " 'AC092123.1',\n",
       " 'CCDC3',\n",
       " 'OR4D9',\n",
       " 'AC022960.1',\n",
       " 'AGXT',\n",
       " 'DISP2',\n",
       " 'LINC00513',\n",
       " 'AC010595.1',\n",
       " 'PLD6',\n",
       " 'HAPLN3',\n",
       " 'BRI3',\n",
       " 'SETSIP',\n",
       " 'AL512604.3',\n",
       " 'FAM229A',\n",
       " 'RBAK',\n",
       " 'WDR54',\n",
       " 'TOR4A',\n",
       " 'FBXL22',\n",
       " 'MTFR2',\n",
       " 'DENND6B',\n",
       " 'CDK2AP1',\n",
       " 'LINC01099',\n",
       " 'TCTE3',\n",
       " 'PEBP1',\n",
       " 'AL671710.1',\n",
       " 'TMEM69',\n",
       " 'SLC7A1',\n",
       " 'LINC01003',\n",
       " 'XCL1',\n",
       " 'CYP2W1',\n",
       " 'SHROOM3',\n",
       " 'AC138028.2',\n",
       " 'MFSD10',\n",
       " 'LINC02043',\n",
       " 'RNFT1-DT',\n",
       " 'AP001469.3',\n",
       " 'AC025287.4',\n",
       " 'TSHZ2',\n",
       " 'HIST1H2AD',\n",
       " 'AC008124.1',\n",
       " 'SEPT1',\n",
       " 'PDE3B',\n",
       " 'THRIL',\n",
       " 'AC100835.2',\n",
       " 'SH3BP5-AS1',\n",
       " 'PRODH',\n",
       " 'CTCF',\n",
       " 'MOB2',\n",
       " 'AC016394.1',\n",
       " 'DEK',\n",
       " 'AP002360.1',\n",
       " 'AC009065.4',\n",
       " 'FUT8-AS1',\n",
       " 'HAS3',\n",
       " 'AC073896.3',\n",
       " 'CERS1',\n",
       " 'ZNF253',\n",
       " 'LINC01290',\n",
       " 'ZFP41',\n",
       " 'AC127070.1',\n",
       " 'AC097358.2',\n",
       " 'AC069360.1',\n",
       " 'PEX5L',\n",
       " 'HLA-C',\n",
       " 'PLEKHH2',\n",
       " 'DCDC1',\n",
       " 'CKAP4',\n",
       " 'ADAMTS15',\n",
       " 'LETM2',\n",
       " 'ABHD12B',\n",
       " 'NLGN4X',\n",
       " 'NMUR2',\n",
       " 'LRRFIP1',\n",
       " 'FAHD1',\n",
       " 'SPAG9',\n",
       " 'AC079209.2',\n",
       " 'AL627422.2',\n",
       " 'ZSCAN18',\n",
       " 'B3GLCT',\n",
       " 'PLOD3',\n",
       " 'TRIM7',\n",
       " 'AC109587.1',\n",
       " 'FAM162A',\n",
       " 'LINC01508',\n",
       " 'ATP6V1G1',\n",
       " 'LINC02562',\n",
       " 'CCDC171',\n",
       " 'VPS13D',\n",
       " 'AL021368.3',\n",
       " 'ZNF736',\n",
       " 'BX005040.1',\n",
       " 'AC073896.2',\n",
       " 'KIAA0895',\n",
       " 'RAB44',\n",
       " 'TLE2',\n",
       " 'GARNL3',\n",
       " 'IKZF2',\n",
       " 'RXYLT1-AS1',\n",
       " 'VAC14',\n",
       " 'TMEM191B',\n",
       " 'AC002306.1',\n",
       " 'RPL5',\n",
       " 'GOLGA8N',\n",
       " 'MYO7B',\n",
       " 'SPC24',\n",
       " 'AC005034.4',\n",
       " 'AC098820.3',\n",
       " 'UPK1A-AS1',\n",
       " 'AC016722.3',\n",
       " 'ERICH4',\n",
       " 'PCYOX1',\n",
       " 'AC005840.2',\n",
       " 'AP000426.1',\n",
       " 'AC008080.1',\n",
       " 'GAS2L1',\n",
       " 'OGFR-AS1',\n",
       " 'BRD7',\n",
       " 'ME3',\n",
       " 'TSPAN4',\n",
       " 'RILPL2',\n",
       " 'BOLA2',\n",
       " 'LYPD3',\n",
       " 'AC003681.1',\n",
       " 'INTU',\n",
       " 'HES4',\n",
       " 'BAG1',\n",
       " 'AC009118.2',\n",
       " 'TCF15',\n",
       " 'AC024337.1',\n",
       " 'C4orf46',\n",
       " 'SETDB1',\n",
       " 'AC020741.1',\n",
       " 'VWCE',\n",
       " 'ITGAM',\n",
       " 'AC090739.1',\n",
       " 'ZNF846',\n",
       " 'IL27RA',\n",
       " 'AC098934.4',\n",
       " 'ARHGEF38',\n",
       " 'VSIG10L',\n",
       " 'MPP3',\n",
       " 'CREB5',\n",
       " 'LINC01686',\n",
       " 'AL590226.2',\n",
       " 'SUCO',\n",
       " 'AC061975.1',\n",
       " 'ZNF766',\n",
       " 'AP000532.2',\n",
       " 'AC233280.1',\n",
       " 'TSC1',\n",
       " 'AC114760.2',\n",
       " 'CRBN',\n",
       " 'ST6GALNAC6',\n",
       " 'PARP2',\n",
       " 'ADGRL2',\n",
       " 'CA9',\n",
       " 'LMNTD2',\n",
       " 'AC009812.3',\n",
       " 'AC064801.1',\n",
       " 'KCTD16',\n",
       " 'ARHGEF7-AS2',\n",
       " 'ATXN2',\n",
       " 'EPB41L4A-AS1',\n",
       " 'AC244021.2',\n",
       " 'RRS1-AS1',\n",
       " 'CLEC2B',\n",
       " 'MOK',\n",
       " 'GJB3',\n",
       " 'GNRH1',\n",
       " 'NCOA1',\n",
       " 'ZAR1L',\n",
       " 'ZNF205',\n",
       " 'AC010335.1',\n",
       " 'SLC41A1',\n",
       " 'ARHGAP22',\n",
       " 'STON1',\n",
       " 'BCO2',\n",
       " 'HELB',\n",
       " 'SP4',\n",
       " 'MTTP',\n",
       " 'LARS',\n",
       " 'ANKRD34B',\n",
       " 'AC025171.3',\n",
       " 'ITGB4',\n",
       " 'OGT',\n",
       " 'SDF2',\n",
       " 'APC',\n",
       " 'AC112220.2',\n",
       " 'AP000527.1',\n",
       " 'LENG8',\n",
       " 'SCYL3',\n",
       " 'SFT2D1',\n",
       " 'MGAM',\n",
       " 'AL590708.1',\n",
       " 'TRPV3',\n",
       " 'AC003101.2',\n",
       " 'PPDPF',\n",
       " 'AC130469.1',\n",
       " 'MCM3AP-AS1',\n",
       " 'ELF2',\n",
       " 'KDM5B',\n",
       " 'AL354949.1',\n",
       " 'ARHGEF28',\n",
       " 'COL4A2-AS2',\n",
       " 'AC007262.2',\n",
       " 'DPM3',\n",
       " 'TSPAN10',\n",
       " 'AC018464.1',\n",
       " 'VPS50',\n",
       " 'HDAC10',\n",
       " 'AZU1',\n",
       " 'DOCK9',\n",
       " 'RNF213',\n",
       " 'AC004054.1',\n",
       " 'DGKE',\n",
       " 'DENND3',\n",
       " 'AC104118.1',\n",
       " 'GFOD1',\n",
       " 'ANKAR',\n",
       " 'ZBTB20-AS4',\n",
       " 'BPTF',\n",
       " 'UXT-AS1',\n",
       " 'LINC00923',\n",
       " 'ZNF189',\n",
       " 'HSF2BP',\n",
       " 'TNFRSF9',\n",
       " 'AC009097.3',\n",
       " 'TSEN2',\n",
       " 'PEX3',\n",
       " 'AC012636.1',\n",
       " 'SMIM22',\n",
       " 'TP53TG3D',\n",
       " 'AC006441.1',\n",
       " 'UBAP2',\n",
       " 'RICTOR',\n",
       " 'RIC1',\n",
       " 'TMED7-TICAM2',\n",
       " 'MTMR8',\n",
       " 'NME9',\n",
       " 'ZCCHC14',\n",
       " 'AC092295.2',\n",
       " 'PTBP2',\n",
       " 'POLQ',\n",
       " 'AP000919.2',\n",
       " 'NSMCE1',\n",
       " 'CD164L2',\n",
       " 'C9orf135',\n",
       " 'ZNF26',\n",
       " 'TMCC2',\n",
       " 'DHX33',\n",
       " 'RAB30',\n",
       " 'GATAD1',\n",
       " 'DGKD',\n",
       " 'THEM6',\n",
       " 'AL451060.1',\n",
       " 'HS3ST1',\n",
       " 'AC013640.1',\n",
       " 'ZNF155',\n",
       " 'EFHB',\n",
       " 'AL049629.1',\n",
       " 'PDE8B',\n",
       " 'CCDC68',\n",
       " 'TNK2-AS1',\n",
       " 'ITGA3',\n",
       " 'C9orf47',\n",
       " 'PPP1R3G',\n",
       " 'MEGF11',\n",
       " 'COMT',\n",
       " 'CPA5',\n",
       " 'DNAJB5-DT',\n",
       " 'MARC1',\n",
       " 'TRIM14',\n",
       " 'SLC22A31',\n",
       " 'AC068234.2',\n",
       " 'AC011445.2',\n",
       " 'COL6A1',\n",
       " 'AL136418.1',\n",
       " 'OAS3',\n",
       " 'RNF149',\n",
       " 'CTPS1',\n",
       " 'AC142472.1',\n",
       " 'E2F1',\n",
       " 'AC231533.1',\n",
       " 'LINC00266-4P',\n",
       " 'NR3C1',\n",
       " 'SLC9A3R2',\n",
       " 'LAMB4',\n",
       " 'RAG1',\n",
       " 'SLC26A6',\n",
       " 'AC137723.1',\n",
       " 'AC106754.1',\n",
       " 'CELF1',\n",
       " 'AP002748.3',\n",
       " 'DNAJB7',\n",
       " 'ZBED5-AS1',\n",
       " 'AC078883.3',\n",
       " 'CLDN6',\n",
       " 'LINC00115',\n",
       " 'KCNA7',\n",
       " 'C10orf82',\n",
       " 'AC017002.3',\n",
       " 'AC080038.2',\n",
       " 'OXLD1',\n",
       " 'AL035461.2',\n",
       " 'CLDN12',\n",
       " 'AL138689.2',\n",
       " 'PROSER3',\n",
       " 'TPM1',\n",
       " 'VLDLR-AS1',\n",
       " 'AC092809.4',\n",
       " 'LEFTY1',\n",
       " 'CYP3A7',\n",
       " 'C19orf18',\n",
       " 'ELMSAN1',\n",
       " 'PKD1',\n",
       " 'CALR',\n",
       " 'AL683807.1',\n",
       " 'ARNTL',\n",
       " 'AL162311.3',\n",
       " 'RORA',\n",
       " 'MIR3945HG',\n",
       " 'MOSMO',\n",
       " 'AC079906.1',\n",
       " 'AL139385.1',\n",
       " 'LMX1B',\n",
       " 'AC005757.1',\n",
       " 'AC010680.2',\n",
       " 'CIT',\n",
       " 'AC026461.4',\n",
       " 'RAB28',\n",
       " 'ST8SIA4',\n",
       " 'CCL27',\n",
       " 'LINC01001',\n",
       " 'PBX1',\n",
       " 'CYB561D2',\n",
       " 'SPDYA',\n",
       " 'AC073389.1',\n",
       " 'MARVELD2',\n",
       " 'AL590867.1',\n",
       " 'PHF3',\n",
       " 'C14orf178',\n",
       " 'AC104170.2',\n",
       " 'KCNAB1',\n",
       " 'TAPBP',\n",
       " 'AC026167.1',\n",
       " 'AC100827.4',\n",
       " 'MAP3K1',\n",
       " 'LBHD1',\n",
       " 'AL391421.1',\n",
       " 'AC068491.3',\n",
       " 'SLC12A9',\n",
       " 'CNBD2',\n",
       " 'RPL19',\n",
       " 'AGRN',\n",
       " 'AP002884.1',\n",
       " 'AL139317.3',\n",
       " 'KRTAP1-5',\n",
       " 'COBL',\n",
       " 'SOWAHC',\n",
       " 'TMBIM4',\n",
       " 'TRIM59',\n",
       " 'CTNNBIP1',\n",
       " 'AL158835.1',\n",
       " 'TKFC',\n",
       " 'LINC00470',\n",
       " 'SON',\n",
       " 'IFITM1',\n",
       " 'LINC02009',\n",
       " 'VTCN1',\n",
       " 'SLCO4A1-AS1',\n",
       " 'DNAH11',\n",
       " 'N4BP2L2',\n",
       " 'IGF2',\n",
       " 'KDM5A',\n",
       " 'RFX1',\n",
       " 'KYAT1',\n",
       " 'MANBA',\n",
       " 'ZNF284',\n",
       " 'USP50',\n",
       " 'AL451050.2',\n",
       " 'SLC44A4',\n",
       " 'SOCS1',\n",
       " 'AQR',\n",
       " 'MZF1-AS1',\n",
       " 'SERPINE3',\n",
       " 'TEDC2',\n",
       " 'FOXQ1',\n",
       " 'FAM227A',\n",
       " 'AL162741.1',\n",
       " 'NBPF3',\n",
       " 'TRIM22',\n",
       " 'ADGRB2',\n",
       " 'LINC02527',\n",
       " 'AC068831.1',\n",
       " 'AC004846.2',\n",
       " 'ARL14EPL',\n",
       " 'RNF115',\n",
       " 'SPON1',\n",
       " 'ZDHHC11',\n",
       " 'LEMD3',\n",
       " 'AC100810.1',\n",
       " 'ANKRD2',\n",
       " 'ZC3H12B',\n",
       " 'OR2AG1',\n",
       " 'AC095055.1',\n",
       " 'LINC01238',\n",
       " 'HSPB2',\n",
       " 'AC145207.3',\n",
       " 'SARS2',\n",
       " 'MED10',\n",
       " 'OTUD7A',\n",
       " 'CCNA1',\n",
       " 'FAM228A',\n",
       " 'FST',\n",
       " 'XAGE5',\n",
       " 'AL391834.1',\n",
       " 'FGL1',\n",
       " 'ZNF605',\n",
       " 'AC007038.2',\n",
       " 'SGCG',\n",
       " 'SLC25A34',\n",
       " 'ADAD1',\n",
       " 'SPOCK2',\n",
       " 'AC009720.1',\n",
       " 'ABCC1',\n",
       " 'ANO9',\n",
       " 'SLC28A3',\n",
       " 'SNHG7',\n",
       " 'ASPHD2',\n",
       " 'TACSTD2',\n",
       " 'LAPTM4A',\n",
       " 'LINC01415',\n",
       " 'SLC4A5',\n",
       " 'AC022382.1',\n",
       " 'KIAA1109',\n",
       " 'UBXN10-AS1',\n",
       " 'STAC2',\n",
       " 'SPAG4',\n",
       " 'PCID2',\n",
       " 'LINC01990',\n",
       " 'NOS1AP',\n",
       " 'MYEF2',\n",
       " 'AC037459.3',\n",
       " 'RNF122',\n",
       " 'MCOLN1',\n",
       " 'FAM183A',\n",
       " 'INSL5',\n",
       " 'RNF217',\n",
       " 'SIT1',\n",
       " 'WDFY2',\n",
       " 'C15orf41',\n",
       " 'LENG8-AS1',\n",
       " 'AC103810.2',\n",
       " 'STBD1',\n",
       " 'AC092171.4',\n",
       " 'HCFC1R1',\n",
       " 'MGAT3',\n",
       " 'AC093732.1',\n",
       " 'AC073349.1',\n",
       " 'SMIM10L2B',\n",
       " 'PROM2',\n",
       " 'AC003070.2',\n",
       " 'PCSK4',\n",
       " 'CGN',\n",
       " 'AP001107.4',\n",
       " 'TXNRD2',\n",
       " 'ASPM',\n",
       " 'TAS2R20',\n",
       " 'PLEKHA2',\n",
       " 'FBN1',\n",
       " 'ITPKA',\n",
       " 'TCFL5',\n",
       " 'CSPP1',\n",
       " 'TYW5',\n",
       " 'AC015727.1',\n",
       " 'RNASE1',\n",
       " 'PCSK6-AS1',\n",
       " 'ZNF790',\n",
       " 'AL353708.1',\n",
       " 'CERK',\n",
       " 'NR2F1',\n",
       " 'AC015563.2',\n",
       " 'NFKBID',\n",
       " 'SLC10A5',\n",
       " 'TRIM52',\n",
       " 'RABEP1',\n",
       " 'ZNF487',\n",
       " 'LY6E-DT',\n",
       " 'AC013468.1',\n",
       " 'AC011825.4',\n",
       " 'LMO3',\n",
       " 'IQCH',\n",
       " 'AC005229.4',\n",
       " 'SLC38A4',\n",
       " 'AC036108.4',\n",
       " 'MRPL43',\n",
       " 'ATP7B',\n",
       " 'AC100821.2',\n",
       " 'PYURF',\n",
       " 'ANKRD23',\n",
       " 'TMEM154',\n",
       " 'BHMG1',\n",
       " 'ODF3B',\n",
       " 'CCDC18',\n",
       " 'FLVCR1-DT',\n",
       " 'IFRD1',\n",
       " 'MFSD2B',\n",
       " 'NBPF26',\n",
       " 'ZNF563',\n",
       " 'CMYA5',\n",
       " 'SLC11A2',\n",
       " 'DNA2',\n",
       " 'IDUA',\n",
       " 'ARMCX4',\n",
       " 'ITGA2',\n",
       " 'GEN1',\n",
       " 'CLDN3',\n",
       " 'AL161757.2',\n",
       " 'ARFIP2',\n",
       " 'AC019205.1',\n",
       " 'EEF1G',\n",
       " 'TTLL7',\n",
       " 'SPDYE5',\n",
       " 'ETNK1',\n",
       " 'AL139412.1',\n",
       " 'SLC12A2',\n",
       " 'GK5',\n",
       " 'AC103923.1',\n",
       " 'CTSH',\n",
       " 'STAG3',\n",
       " 'AC109809.1',\n",
       " 'SYN3',\n",
       " 'UPF2',\n",
       " 'SLC13A3',\n",
       " 'CD6',\n",
       " 'MYDGF',\n",
       " 'AC091153.3',\n",
       " 'AC019080.4',\n",
       " 'ZFP3',\n",
       " 'TNFRSF11A',\n",
       " 'LINC00886',\n",
       " 'MIR181A1HG',\n",
       " 'MMP3',\n",
       " 'FAM208A',\n",
       " 'WDPCP',\n",
       " 'STX10',\n",
       " 'PAGE5',\n",
       " 'C1GALT1C1',\n",
       " 'METTL26',\n",
       " 'Z83851.2',\n",
       " 'AC011503.1',\n",
       " 'AP003555.2',\n",
       " 'AL807761.4',\n",
       " 'MSANTD1',\n",
       " 'AL157392.4',\n",
       " 'CYC1',\n",
       " 'ZNF397',\n",
       " 'AL049840.2',\n",
       " 'CEP295NL',\n",
       " 'AC016065.1',\n",
       " 'DHRS4-AS1',\n",
       " 'BEAN1-AS1',\n",
       " 'PARD3-AS1',\n",
       " 'PDGFD',\n",
       " 'AL354707.1',\n",
       " 'AL031846.2',\n",
       " 'CLASP2',\n",
       " 'AC008687.2',\n",
       " 'TGFB1I1',\n",
       " 'JADE1',\n",
       " 'APEX1',\n",
       " 'ZNF682',\n",
       " 'GABRG2',\n",
       " 'AL645568.1',\n",
       " 'ALDH7A1',\n",
       " 'ELAVL3',\n",
       " 'TCEA3',\n",
       " 'SENP7',\n",
       " 'ACAP3',\n",
       " 'WRB',\n",
       " 'AL133467.1',\n",
       " 'LINC01301',\n",
       " 'C10orf91',\n",
       " 'ZNF500',\n",
       " 'AC011511.5',\n",
       " 'WNT7B',\n",
       " 'RFC4',\n",
       " 'AC004232.2',\n",
       " 'AC093151.2',\n",
       " 'PELI3',\n",
       " 'CENPS',\n",
       " 'CSF1R',\n",
       " 'BBIP1',\n",
       " 'AC025181.2',\n",
       " 'AL109955.1',\n",
       " 'LINC00954',\n",
       " 'PMEPA1',\n",
       " 'PABPC4L',\n",
       " 'PIGL',\n",
       " 'VCAN-AS1',\n",
       " 'NGLY1',\n",
       " 'GTF2IRD1',\n",
       " 'RFX3-AS1',\n",
       " 'RAB6C',\n",
       " 'ZNF770',\n",
       " 'AL121917.2',\n",
       " 'ZNF524',\n",
       " 'ERLIN2',\n",
       " 'NF1',\n",
       " 'LINC00847',\n",
       " 'LINC01134',\n",
       " 'AL162431.2',\n",
       " 'ZNF350-AS1',\n",
       " 'U52111.1',\n",
       " 'MANEA-DT',\n",
       " 'FAM96A',\n",
       " 'BCS1L',\n",
       " 'AL132780.2',\n",
       " 'ALG13',\n",
       " 'ZNF407',\n",
       " 'AC138781.1',\n",
       " 'AC004803.1',\n",
       " 'ZNF93',\n",
       " 'AC007378.1',\n",
       " 'TMEM242',\n",
       " 'AC008105.3',\n",
       " 'GGCX',\n",
       " 'AC087752.4',\n",
       " 'C2-AS1',\n",
       " 'AC009630.2',\n",
       " 'LINC02050',\n",
       " 'FNDC9',\n",
       " 'RASSF10',\n",
       " 'CAPN8',\n",
       " 'NXT1',\n",
       " 'AC044849.1',\n",
       " 'AC009309.1',\n",
       " 'WHRN',\n",
       " 'RABL2B',\n",
       " 'DLGAP5',\n",
       " 'FASN',\n",
       " 'TEX46',\n",
       " 'DHRS7B',\n",
       " 'SPC25',\n",
       " 'MCM3AP',\n",
       " 'FAM45A',\n",
       " 'AC005520.5',\n",
       " 'IGSF9',\n",
       " 'AL139286.2',\n",
       " 'OXER1',\n",
       " 'CAMK4',\n",
       " 'ESCO1',\n",
       " 'RAPGEF5',\n",
       " 'MBTD1',\n",
       " 'SETDB2',\n",
       " 'SMAP1',\n",
       " 'MUC3A',\n",
       " 'AC108047.1',\n",
       " 'HIBCH',\n",
       " 'LINC01611',\n",
       " 'CFLAR-AS1',\n",
       " 'AL451062.1',\n",
       " 'SMOC1',\n",
       " 'MYO1F',\n",
       " 'AC104653.1',\n",
       " 'AC007952.4',\n",
       " 'ZNF700',\n",
       " 'AC002553.1',\n",
       " 'OR52N5',\n",
       " 'THG1L',\n",
       " 'GEMIN7',\n",
       " 'PCDHGA10',\n",
       " 'GNG2',\n",
       " 'MSTN',\n",
       " 'FCRLA',\n",
       " 'ERBB3',\n",
       " 'TTC36',\n",
       " 'INTS11',\n",
       " 'AC011451.1',\n",
       " 'DPH6-DT',\n",
       " 'SMAD5',\n",
       " 'SCHIP1',\n",
       " 'C12orf65',\n",
       " 'AC007879.3',\n",
       " 'RPS18',\n",
       " 'PACRG',\n",
       " 'HTRA1',\n",
       " 'SCPEP1',\n",
       " 'MACROD2',\n",
       " 'BID',\n",
       " 'UNC93B1',\n",
       " 'SDCBP2',\n",
       " 'AC012615.1',\n",
       " 'PNPLA6',\n",
       " 'AL592071.1',\n",
       " 'AC079226.2',\n",
       " 'ARHGEF16',\n",
       " 'APBB1IP',\n",
       " 'MAN1A1',\n",
       " 'AC008758.4',\n",
       " 'AP001347.1',\n",
       " 'RAB17',\n",
       " 'IFNB1',\n",
       " 'ANAPC4',\n",
       " 'AL138899.1',\n",
       " 'MIOX',\n",
       " 'PHF19',\n",
       " 'SPRED3',\n",
       " 'NUDT14',\n",
       " 'LRP6',\n",
       " 'RIOK3',\n",
       " 'AC099062.1',\n",
       " 'ZNF426-DT',\n",
       " 'ZGLP1',\n",
       " 'OR8G1',\n",
       " 'AL031590.1',\n",
       " 'EYS',\n",
       " 'AL390728.6',\n",
       " 'MSH5',\n",
       " 'AC093330.1',\n",
       " 'NCOA7',\n",
       " 'ZNF609',\n",
       " 'SLC12A9-AS1',\n",
       " 'AC024267.3',\n",
       " 'AC078881.1',\n",
       " 'WNT4',\n",
       " 'FAM239B',\n",
       " 'B3GALT1',\n",
       " 'PLSCR2',\n",
       " 'CATSPERE',\n",
       " 'AL136985.3',\n",
       " 'FMO4',\n",
       " 'ZNF607',\n",
       " 'NSD1',\n",
       " 'HELZ2',\n",
       " 'CSNK1G2-AS1',\n",
       " 'YEATS2-AS1',\n",
       " 'DDX51',\n",
       " 'CCDC194',\n",
       " 'DCHS1',\n",
       " 'TOB1',\n",
       " ...]"
      ]
     },
     "execution_count": 60,
     "metadata": {},
     "output_type": "execute_result"
    }
   ],
   "source": [
    "genes2keep = list(gene_stats[gene_stats['Selected'] == True].index)\n",
    "genes2keep"
   ]
  },
  {
   "cell_type": "code",
   "execution_count": 61,
   "metadata": {},
   "outputs": [
    {
     "data": {
      "text/plain": [
       "AnnData object with n_obs × n_vars = 92045 × 23015\n",
       "    obs: 'n_genes', 'time_point', 'activation_status', 'media', 'sample', 'percent_mito', 'n_counts', 'dataset', 'technique', 'scrublet_score', 'scrublet_cluster_score', 'bh_pval', 'batch', 'is_doublet', 'experiment', 'barcode', 'souporcell_assignment', 'inter_ind_doublet', 'donor'\n",
       "    var: 'gene_ids-0', 'feature_types-0', 'genome-0', 'n_cells-0', 'gene_ids-1', 'feature_types-1', 'genome-1', 'n_cells-1', 'gene_ids-10', 'feature_types-10', 'genome-10', 'n_cells-10', 'gene_ids-11', 'feature_types-11', 'genome-11', 'n_cells-11', 'gene_ids-12', 'feature_types-12', 'genome-12', 'n_cells-12', 'gene_ids-13', 'feature_types-13', 'genome-13', 'n_cells-13', 'gene_ids-2', 'feature_types-2', 'genome-2', 'n_cells-2', 'gene_ids-3', 'feature_types-3', 'genome-3', 'n_cells-3', 'gene_ids-4', 'feature_types-4', 'genome-4', 'n_cells-4', 'gene_ids-5', 'feature_types-5', 'genome-5', 'n_cells-5', 'gene_ids-6', 'feature_types-6', 'genome-6', 'n_cells-6', 'gene_ids-7', 'feature_types-7', 'genome-7', 'n_cells-7', 'gene_ids-8', 'feature_types-8', 'genome-8', 'n_cells-8', 'gene_ids-9', 'feature_types-9', 'genome-9', 'n_cells-9'"
      ]
     },
     "execution_count": 61,
     "metadata": {},
     "output_type": "execute_result"
    }
   ],
   "source": [
    "adata"
   ]
  },
  {
   "cell_type": "code",
   "execution_count": 62,
   "metadata": {},
   "outputs": [],
   "source": [
    "# subsetting to only cleaned up genes\n",
    "adata = adata[:, list(set(genes2keep) & set(adata.var_names))].copy()"
   ]
  },
  {
   "cell_type": "code",
   "execution_count": 63,
   "metadata": {},
   "outputs": [],
   "source": [
    "# additionally: excluding genes that are common b/w mix population (annotated in notebook S4) and empty droplets\n",
    "# these genes are derived on a per sample basis in notebook S5\n",
    "#genes_common_bw_mix_and_empty_droplets = list(pd.read_csv('./20210729_common_genes_bw_mix_population_and_empty_droplets.csv',\n",
    "#                                                    index_col=0)['0'])\n",
    "#len(genes_common_bw_mix_and_empty_droplets)\n"
   ]
  },
  {
   "cell_type": "code",
   "execution_count": 64,
   "metadata": {},
   "outputs": [],
   "source": [
    "#len(set(genes_common_bw_mix_and_empty_droplets))"
   ]
  },
  {
   "cell_type": "code",
   "execution_count": 65,
   "metadata": {},
   "outputs": [],
   "source": [
    "# I kind of doubt that excuding these 564 genes with drastically change smth but let's try\n",
    "#len(set(adata.var_names) & set(genes_common_bw_mix_and_empty_droplets))"
   ]
  },
  {
   "cell_type": "code",
   "execution_count": 66,
   "metadata": {},
   "outputs": [],
   "source": [
    "#genes2exclude = set(adata.var_names) & set(genes_common_bw_mix_and_empty_droplets)"
   ]
  },
  {
   "cell_type": "code",
   "execution_count": 67,
   "metadata": {},
   "outputs": [],
   "source": [
    "#len(list(set(adata.var_names) - genes2exclude))"
   ]
  },
  {
   "cell_type": "code",
   "execution_count": 68,
   "metadata": {},
   "outputs": [],
   "source": [
    "#adata = adata[:, list(set(adata.var_names) - genes2exclude)].copy()"
   ]
  },
  {
   "cell_type": "code",
   "execution_count": 69,
   "metadata": {},
   "outputs": [
    {
     "data": {
      "text/plain": [
       "AnnData object with n_obs × n_vars = 92045 × 9555\n",
       "    obs: 'n_genes', 'time_point', 'activation_status', 'media', 'sample', 'percent_mito', 'n_counts', 'dataset', 'technique', 'scrublet_score', 'scrublet_cluster_score', 'bh_pval', 'batch', 'is_doublet', 'experiment', 'barcode', 'souporcell_assignment', 'inter_ind_doublet', 'donor'\n",
       "    var: 'gene_ids-0', 'feature_types-0', 'genome-0', 'n_cells-0', 'gene_ids-1', 'feature_types-1', 'genome-1', 'n_cells-1', 'gene_ids-10', 'feature_types-10', 'genome-10', 'n_cells-10', 'gene_ids-11', 'feature_types-11', 'genome-11', 'n_cells-11', 'gene_ids-12', 'feature_types-12', 'genome-12', 'n_cells-12', 'gene_ids-13', 'feature_types-13', 'genome-13', 'n_cells-13', 'gene_ids-2', 'feature_types-2', 'genome-2', 'n_cells-2', 'gene_ids-3', 'feature_types-3', 'genome-3', 'n_cells-3', 'gene_ids-4', 'feature_types-4', 'genome-4', 'n_cells-4', 'gene_ids-5', 'feature_types-5', 'genome-5', 'n_cells-5', 'gene_ids-6', 'feature_types-6', 'genome-6', 'n_cells-6', 'gene_ids-7', 'feature_types-7', 'genome-7', 'n_cells-7', 'gene_ids-8', 'feature_types-8', 'genome-8', 'n_cells-8', 'gene_ids-9', 'feature_types-9', 'genome-9', 'n_cells-9'"
      ]
     },
     "execution_count": 69,
     "metadata": {},
     "output_type": "execute_result"
    }
   ],
   "source": [
    "adata"
   ]
  },
  {
   "cell_type": "markdown",
   "metadata": {},
   "source": [
    "## Taking only data for organoids without stimulation"
   ]
  },
  {
   "cell_type": "code",
   "execution_count": 70,
   "metadata": {},
   "outputs": [
    {
     "data": {
      "text/plain": [
       "(array(['cytokines', 'no_cytokines'], dtype=object), array([43369, 48676]))"
      ]
     },
     "execution_count": 70,
     "metadata": {},
     "output_type": "execute_result"
    }
   ],
   "source": [
    "np.unique(adata.obs['activation_status'], return_counts=True)"
   ]
  },
  {
   "cell_type": "code",
   "execution_count": 71,
   "metadata": {},
   "outputs": [],
   "source": [
    "adata = adata[adata.obs['activation_status'] == 'no_cytokines'].copy()"
   ]
  },
  {
   "cell_type": "code",
   "execution_count": 72,
   "metadata": {},
   "outputs": [
    {
     "data": {
      "text/plain": [
       "(array(['1', '2', '3', '4', '5', '6'], dtype=object),\n",
       " array([ 2710, 13143,  5623, 16892,  8269,  2039]))"
      ]
     },
     "execution_count": 72,
     "metadata": {},
     "output_type": "execute_result"
    }
   ],
   "source": [
    "# going to correct by donor or by donor+sample here\n",
    "np.unique(adata.obs['donor'], return_counts=True)"
   ]
  },
  {
   "cell_type": "code",
   "execution_count": 73,
   "metadata": {},
   "outputs": [
    {
     "data": {
      "text/plain": [
       "(array(['6044STDY8640561', '6044STDY8640563', '6044STDY8640565',\n",
       "        'Pla_Camb10123928', 'Pla_Camb10123929', 'Pla_Camb10123930',\n",
       "        'Pla_Camb10123932', 'Pla_Camb10123934'], dtype=object),\n",
       " array([5586, 8527, 7363, 3404, 6968, 6539, 3403, 6886]))"
      ]
     },
     "execution_count": 73,
     "metadata": {},
     "output_type": "execute_result"
    }
   ],
   "source": [
    "np.unique(adata.obs['sample'], return_counts=True)"
   ]
  },
  {
   "cell_type": "code",
   "execution_count": 74,
   "metadata": {
    "scrolled": true
   },
   "outputs": [
    {
     "data": {
      "text/plain": [
       "AnnData object with n_obs × n_vars = 48676 × 9555\n",
       "    obs: 'n_genes', 'time_point', 'activation_status', 'media', 'sample', 'percent_mito', 'n_counts', 'dataset', 'technique', 'scrublet_score', 'scrublet_cluster_score', 'bh_pval', 'batch', 'is_doublet', 'experiment', 'barcode', 'souporcell_assignment', 'inter_ind_doublet', 'donor'\n",
       "    var: 'gene_ids-0', 'feature_types-0', 'genome-0', 'n_cells-0', 'gene_ids-1', 'feature_types-1', 'genome-1', 'n_cells-1', 'gene_ids-10', 'feature_types-10', 'genome-10', 'n_cells-10', 'gene_ids-11', 'feature_types-11', 'genome-11', 'n_cells-11', 'gene_ids-12', 'feature_types-12', 'genome-12', 'n_cells-12', 'gene_ids-13', 'feature_types-13', 'genome-13', 'n_cells-13', 'gene_ids-2', 'feature_types-2', 'genome-2', 'n_cells-2', 'gene_ids-3', 'feature_types-3', 'genome-3', 'n_cells-3', 'gene_ids-4', 'feature_types-4', 'genome-4', 'n_cells-4', 'gene_ids-5', 'feature_types-5', 'genome-5', 'n_cells-5', 'gene_ids-6', 'feature_types-6', 'genome-6', 'n_cells-6', 'gene_ids-7', 'feature_types-7', 'genome-7', 'n_cells-7', 'gene_ids-8', 'feature_types-8', 'genome-8', 'n_cells-8', 'gene_ids-9', 'feature_types-9', 'genome-9', 'n_cells-9'"
      ]
     },
     "execution_count": 74,
     "metadata": {},
     "output_type": "execute_result"
    }
   ],
   "source": [
    "adata"
   ]
  },
  {
   "cell_type": "code",
   "execution_count": 75,
   "metadata": {},
   "outputs": [
    {
     "data": {
      "text/html": [
       "<div>\n",
       "<style scoped>\n",
       "    .dataframe tbody tr th:only-of-type {\n",
       "        vertical-align: middle;\n",
       "    }\n",
       "\n",
       "    .dataframe tbody tr th {\n",
       "        vertical-align: top;\n",
       "    }\n",
       "\n",
       "    .dataframe thead th {\n",
       "        text-align: right;\n",
       "    }\n",
       "</style>\n",
       "<table border=\"1\" class=\"dataframe\">\n",
       "  <thead>\n",
       "    <tr style=\"text-align: right;\">\n",
       "      <th></th>\n",
       "      <th>barcode_sample_copy</th>\n",
       "      <th>prelim_annot_v3</th>\n",
       "    </tr>\n",
       "    <tr>\n",
       "      <th>barcode_sample</th>\n",
       "      <th></th>\n",
       "      <th></th>\n",
       "    </tr>\n",
       "  </thead>\n",
       "  <tbody>\n",
       "    <tr>\n",
       "      <th>AAACCCACAAAGTGTA-1_6044STDY8640561</th>\n",
       "      <td>AAACCCACAAAGTGTA-1_6044STDY8640561</td>\n",
       "      <td>EVT</td>\n",
       "    </tr>\n",
       "    <tr>\n",
       "      <th>AAACCCAGTGCACGCT-1_6044STDY8640561</th>\n",
       "      <td>AAACCCAGTGCACGCT-1_6044STDY8640561</td>\n",
       "      <td>EVT</td>\n",
       "    </tr>\n",
       "    <tr>\n",
       "      <th>AAACCCAGTTGGCCTG-1_6044STDY8640561</th>\n",
       "      <td>AAACCCAGTTGGCCTG-1_6044STDY8640561</td>\n",
       "      <td>EVT_p</td>\n",
       "    </tr>\n",
       "    <tr>\n",
       "      <th>AAACGAAAGCTCCACG-1_6044STDY8640561</th>\n",
       "      <td>AAACGAAAGCTCCACG-1_6044STDY8640561</td>\n",
       "      <td>EVT_p</td>\n",
       "    </tr>\n",
       "    <tr>\n",
       "      <th>AAACGAACAAGTCGTT-1_6044STDY8640561</th>\n",
       "      <td>AAACGAACAAGTCGTT-1_6044STDY8640561</td>\n",
       "      <td>EVT</td>\n",
       "    </tr>\n",
       "    <tr>\n",
       "      <th>...</th>\n",
       "      <td>...</td>\n",
       "      <td>...</td>\n",
       "    </tr>\n",
       "    <tr>\n",
       "      <th>TTTGTTGGTATCGGTT-1_Pla_Camb10123934</th>\n",
       "      <td>TTTGTTGGTATCGGTT-1_Pla_Camb10123934</td>\n",
       "      <td>VCT</td>\n",
       "    </tr>\n",
       "    <tr>\n",
       "      <th>TTTGTTGGTTGTGGCC-1_Pla_Camb10123934</th>\n",
       "      <td>TTTGTTGGTTGTGGCC-1_Pla_Camb10123934</td>\n",
       "      <td>VCT_fusing</td>\n",
       "    </tr>\n",
       "    <tr>\n",
       "      <th>TTTGTTGTCAAGAGTA-1_Pla_Camb10123934</th>\n",
       "      <td>TTTGTTGTCAAGAGTA-1_Pla_Camb10123934</td>\n",
       "      <td>SCT</td>\n",
       "    </tr>\n",
       "    <tr>\n",
       "      <th>TTTGTTGTCCAATCTT-1_Pla_Camb10123934</th>\n",
       "      <td>TTTGTTGTCCAATCTT-1_Pla_Camb10123934</td>\n",
       "      <td>SCT</td>\n",
       "    </tr>\n",
       "    <tr>\n",
       "      <th>TTTGTTGTCGCATTAG-1_Pla_Camb10123934</th>\n",
       "      <td>TTTGTTGTCGCATTAG-1_Pla_Camb10123934</td>\n",
       "      <td>VCT</td>\n",
       "    </tr>\n",
       "  </tbody>\n",
       "</table>\n",
       "<p>37480 rows × 2 columns</p>\n",
       "</div>"
      ],
      "text/plain": [
       "                                                     barcode_sample_copy  \\\n",
       "barcode_sample                                                             \n",
       "AAACCCACAAAGTGTA-1_6044STDY8640561    AAACCCACAAAGTGTA-1_6044STDY8640561   \n",
       "AAACCCAGTGCACGCT-1_6044STDY8640561    AAACCCAGTGCACGCT-1_6044STDY8640561   \n",
       "AAACCCAGTTGGCCTG-1_6044STDY8640561    AAACCCAGTTGGCCTG-1_6044STDY8640561   \n",
       "AAACGAAAGCTCCACG-1_6044STDY8640561    AAACGAAAGCTCCACG-1_6044STDY8640561   \n",
       "AAACGAACAAGTCGTT-1_6044STDY8640561    AAACGAACAAGTCGTT-1_6044STDY8640561   \n",
       "...                                                                  ...   \n",
       "TTTGTTGGTATCGGTT-1_Pla_Camb10123934  TTTGTTGGTATCGGTT-1_Pla_Camb10123934   \n",
       "TTTGTTGGTTGTGGCC-1_Pla_Camb10123934  TTTGTTGGTTGTGGCC-1_Pla_Camb10123934   \n",
       "TTTGTTGTCAAGAGTA-1_Pla_Camb10123934  TTTGTTGTCAAGAGTA-1_Pla_Camb10123934   \n",
       "TTTGTTGTCCAATCTT-1_Pla_Camb10123934  TTTGTTGTCCAATCTT-1_Pla_Camb10123934   \n",
       "TTTGTTGTCGCATTAG-1_Pla_Camb10123934  TTTGTTGTCGCATTAG-1_Pla_Camb10123934   \n",
       "\n",
       "                                    prelim_annot_v3  \n",
       "barcode_sample                                       \n",
       "AAACCCACAAAGTGTA-1_6044STDY8640561              EVT  \n",
       "AAACCCAGTGCACGCT-1_6044STDY8640561              EVT  \n",
       "AAACCCAGTTGGCCTG-1_6044STDY8640561            EVT_p  \n",
       "AAACGAAAGCTCCACG-1_6044STDY8640561            EVT_p  \n",
       "AAACGAACAAGTCGTT-1_6044STDY8640561              EVT  \n",
       "...                                             ...  \n",
       "TTTGTTGGTATCGGTT-1_Pla_Camb10123934             VCT  \n",
       "TTTGTTGGTTGTGGCC-1_Pla_Camb10123934      VCT_fusing  \n",
       "TTTGTTGTCAAGAGTA-1_Pla_Camb10123934             SCT  \n",
       "TTTGTTGTCCAATCTT-1_Pla_Camb10123934             SCT  \n",
       "TTTGTTGTCGCATTAG-1_Pla_Camb10123934             VCT  \n",
       "\n",
       "[37480 rows x 2 columns]"
      ]
     },
     "execution_count": 75,
     "metadata": {},
     "output_type": "execute_result"
    }
   ],
   "source": [
    "# 01.08.2021: 3) calculating scVI embedding for only VCT --> EVT branch for later use in trajectories, now from updated annotation in notebook S7 (v3)\n",
    "\n",
    "# reading the prelim_annot_v3 table\n",
    "prelim_annot_v3 = pd.read_csv('/lustre/scratch117/cellgen/team292/aa22/adata_objects/202105_troph_organoids_exp_1_2/no_cytokine_analysis_prelim_annot_v3_20210801.csv',\n",
    "                             index_col=0)\n",
    "prelim_annot_v3"
   ]
  },
  {
   "cell_type": "code",
   "execution_count": 76,
   "metadata": {},
   "outputs": [
    {
     "data": {
      "text/plain": [
       "AnnData object with n_obs × n_vars = 48676 × 9555\n",
       "    obs: 'n_genes', 'time_point', 'activation_status', 'media', 'sample', 'percent_mito', 'n_counts', 'dataset', 'technique', 'scrublet_score', 'scrublet_cluster_score', 'bh_pval', 'batch', 'is_doublet', 'experiment', 'barcode', 'souporcell_assignment', 'inter_ind_doublet', 'donor'\n",
       "    var: 'gene_ids-0', 'feature_types-0', 'genome-0', 'n_cells-0', 'gene_ids-1', 'feature_types-1', 'genome-1', 'n_cells-1', 'gene_ids-10', 'feature_types-10', 'genome-10', 'n_cells-10', 'gene_ids-11', 'feature_types-11', 'genome-11', 'n_cells-11', 'gene_ids-12', 'feature_types-12', 'genome-12', 'n_cells-12', 'gene_ids-13', 'feature_types-13', 'genome-13', 'n_cells-13', 'gene_ids-2', 'feature_types-2', 'genome-2', 'n_cells-2', 'gene_ids-3', 'feature_types-3', 'genome-3', 'n_cells-3', 'gene_ids-4', 'feature_types-4', 'genome-4', 'n_cells-4', 'gene_ids-5', 'feature_types-5', 'genome-5', 'n_cells-5', 'gene_ids-6', 'feature_types-6', 'genome-6', 'n_cells-6', 'gene_ids-7', 'feature_types-7', 'genome-7', 'n_cells-7', 'gene_ids-8', 'feature_types-8', 'genome-8', 'n_cells-8', 'gene_ids-9', 'feature_types-9', 'genome-9', 'n_cells-9'"
      ]
     },
     "execution_count": 76,
     "metadata": {},
     "output_type": "execute_result"
    }
   ],
   "source": [
    "adata"
   ]
  },
  {
   "cell_type": "code",
   "execution_count": 77,
   "metadata": {},
   "outputs": [
    {
     "data": {
      "text/plain": [
       "37480"
      ]
     },
     "execution_count": 77,
     "metadata": {},
     "output_type": "execute_result"
    }
   ],
   "source": [
    "len(set(adata.obs_names) & set(prelim_annot_v3.index))"
   ]
  },
  {
   "cell_type": "code",
   "execution_count": 78,
   "metadata": {},
   "outputs": [],
   "source": [
    "# subsetting to only barcodes in prelim_annot_v3 = aka without the mix cluster (as annot in S4 notebook)\n",
    "adata = adata[list(prelim_annot_v3.index),:].copy()"
   ]
  },
  {
   "cell_type": "code",
   "execution_count": 79,
   "metadata": {},
   "outputs": [],
   "source": [
    "adata.obs['prelim_annot_v3'] = prelim_annot_v3.loc[list(adata.obs_names), 'prelim_annot_v3']"
   ]
  },
  {
   "cell_type": "code",
   "execution_count": 80,
   "metadata": {},
   "outputs": [
    {
     "data": {
      "text/plain": [
       "EVT             11400\n",
       "VCT              8627\n",
       "SCT              5373\n",
       "VCT_CCC_EVT?     5158\n",
       "EVT_p            2660\n",
       "VCT_p            2408\n",
       "eEVT?            1025\n",
       "VCT_fusing        829\n",
       "Name: prelim_annot_v3, dtype: int64"
      ]
     },
     "execution_count": 80,
     "metadata": {},
     "output_type": "execute_result"
    }
   ],
   "source": [
    "adata.obs['prelim_annot_v3'].value_counts()"
   ]
  },
  {
   "cell_type": "code",
   "execution_count": 81,
   "metadata": {},
   "outputs": [
    {
     "data": {
      "text/plain": [
       "array(['EVT', 'EVT_p', 'SCT', 'VCT', 'VCT_CCC_EVT?', 'VCT_fusing',\n",
       "       'VCT_p', 'eEVT?'], dtype=object)"
      ]
     },
     "execution_count": 81,
     "metadata": {},
     "output_type": "execute_result"
    }
   ],
   "source": [
    "np.unique(adata.obs['prelim_annot_v3'])"
   ]
  },
  {
   "cell_type": "code",
   "execution_count": 82,
   "metadata": {},
   "outputs": [],
   "source": [
    "adata = adata[adata.obs['prelim_annot_v3'].isin(['EVT', 'EVT_p', \n",
    "                                                 #'SCT', \n",
    "                                                 'VCT', 'VCT_CCC_EVT?', \n",
    "                                                 #'VCT_fusing',\n",
    "                                                 'VCT_p', 'eEVT?'])].copy()"
   ]
  },
  {
   "cell_type": "code",
   "execution_count": 83,
   "metadata": {
    "scrolled": true
   },
   "outputs": [
    {
     "data": {
      "text/plain": [
       "AnnData object with n_obs × n_vars = 31278 × 9555\n",
       "    obs: 'n_genes', 'time_point', 'activation_status', 'media', 'sample', 'percent_mito', 'n_counts', 'dataset', 'technique', 'scrublet_score', 'scrublet_cluster_score', 'bh_pval', 'batch', 'is_doublet', 'experiment', 'barcode', 'souporcell_assignment', 'inter_ind_doublet', 'donor', 'prelim_annot_v3'\n",
       "    var: 'gene_ids-0', 'feature_types-0', 'genome-0', 'n_cells-0', 'gene_ids-1', 'feature_types-1', 'genome-1', 'n_cells-1', 'gene_ids-10', 'feature_types-10', 'genome-10', 'n_cells-10', 'gene_ids-11', 'feature_types-11', 'genome-11', 'n_cells-11', 'gene_ids-12', 'feature_types-12', 'genome-12', 'n_cells-12', 'gene_ids-13', 'feature_types-13', 'genome-13', 'n_cells-13', 'gene_ids-2', 'feature_types-2', 'genome-2', 'n_cells-2', 'gene_ids-3', 'feature_types-3', 'genome-3', 'n_cells-3', 'gene_ids-4', 'feature_types-4', 'genome-4', 'n_cells-4', 'gene_ids-5', 'feature_types-5', 'genome-5', 'n_cells-5', 'gene_ids-6', 'feature_types-6', 'genome-6', 'n_cells-6', 'gene_ids-7', 'feature_types-7', 'genome-7', 'n_cells-7', 'gene_ids-8', 'feature_types-8', 'genome-8', 'n_cells-8', 'gene_ids-9', 'feature_types-9', 'genome-9', 'n_cells-9'"
      ]
     },
     "execution_count": 83,
     "metadata": {},
     "output_type": "execute_result"
    }
   ],
   "source": [
    "adata"
   ]
  },
  {
   "cell_type": "raw",
   "metadata": {},
   "source": [
    "# 20.08.2021: also additionally ignoring louvain cluster 11 since it is SCT contaminants\n",
    "\n",
    "# reading it table with louvain labels\n",
    "louvain_labels = pd.read_csv('/lustre/scratch117/cellgen/team292/aa22/adata_objects/202105_troph_organoids_exp_1_2/20210820_no_cytokine_analysis_VCT_EVT_zoomin_louvain_labels_v1.csv',\n",
    "                            index_col=0)\n",
    "louvain_labels\n"
   ]
  },
  {
   "cell_type": "raw",
   "metadata": {},
   "source": [
    "adata.obs['louvain'] = louvain_labels.loc[adata.obs_names,'louvain']\n",
    "adata.obs['louvain'].value_counts()"
   ]
  },
  {
   "cell_type": "raw",
   "metadata": {},
   "source": [
    "adata"
   ]
  },
  {
   "cell_type": "raw",
   "metadata": {},
   "source": [
    "adata[adata.obs['louvain'] != 11]"
   ]
  },
  {
   "cell_type": "raw",
   "metadata": {},
   "source": [
    "# labels became ints\n",
    "adata = adata[adata.obs['louvain'] != 11].copy()"
   ]
  },
  {
   "cell_type": "raw",
   "metadata": {},
   "source": [
    "adata"
   ]
  },
  {
   "cell_type": "code",
   "execution_count": 84,
   "metadata": {},
   "outputs": [
    {
     "data": {
      "text/html": [
       "<div>\n",
       "<style scoped>\n",
       "    .dataframe tbody tr th:only-of-type {\n",
       "        vertical-align: middle;\n",
       "    }\n",
       "\n",
       "    .dataframe tbody tr th {\n",
       "        vertical-align: top;\n",
       "    }\n",
       "\n",
       "    .dataframe thead th {\n",
       "        text-align: right;\n",
       "    }\n",
       "</style>\n",
       "<table border=\"1\" class=\"dataframe\">\n",
       "  <thead>\n",
       "    <tr style=\"text-align: right;\">\n",
       "      <th></th>\n",
       "      <th>louvain_R</th>\n",
       "    </tr>\n",
       "    <tr>\n",
       "      <th>barcode_sample</th>\n",
       "      <th></th>\n",
       "    </tr>\n",
       "  </thead>\n",
       "  <tbody>\n",
       "    <tr>\n",
       "      <th>AAACCCACAAAGTGTA-1_6044STDY8640561</th>\n",
       "      <td>2</td>\n",
       "    </tr>\n",
       "    <tr>\n",
       "      <th>AAACCCAGTGCACGCT-1_6044STDY8640561</th>\n",
       "      <td>2</td>\n",
       "    </tr>\n",
       "    <tr>\n",
       "      <th>AAACCCAGTTGGCCTG-1_6044STDY8640561</th>\n",
       "      <td>4</td>\n",
       "    </tr>\n",
       "    <tr>\n",
       "      <th>AAACGAAAGCTCCACG-1_6044STDY8640561</th>\n",
       "      <td>0</td>\n",
       "    </tr>\n",
       "    <tr>\n",
       "      <th>AAACGAACAAGTCGTT-1_6044STDY8640561</th>\n",
       "      <td>2</td>\n",
       "    </tr>\n",
       "    <tr>\n",
       "      <th>...</th>\n",
       "      <td>...</td>\n",
       "    </tr>\n",
       "    <tr>\n",
       "      <th>TTTGTTGAGATGAAGG-1_Pla_Camb10123934</th>\n",
       "      <td>1</td>\n",
       "    </tr>\n",
       "    <tr>\n",
       "      <th>TTTGTTGCACTTGAGT-1_Pla_Camb10123934</th>\n",
       "      <td>1</td>\n",
       "    </tr>\n",
       "    <tr>\n",
       "      <th>TTTGTTGGTACGATTC-1_Pla_Camb10123934</th>\n",
       "      <td>1</td>\n",
       "    </tr>\n",
       "    <tr>\n",
       "      <th>TTTGTTGGTATCGGTT-1_Pla_Camb10123934</th>\n",
       "      <td>1</td>\n",
       "    </tr>\n",
       "    <tr>\n",
       "      <th>TTTGTTGTCGCATTAG-1_Pla_Camb10123934</th>\n",
       "      <td>1</td>\n",
       "    </tr>\n",
       "  </tbody>\n",
       "</table>\n",
       "<p>30894 rows × 1 columns</p>\n",
       "</div>"
      ],
      "text/plain": [
       "                                    louvain_R\n",
       "barcode_sample                               \n",
       "AAACCCACAAAGTGTA-1_6044STDY8640561          2\n",
       "AAACCCAGTGCACGCT-1_6044STDY8640561          2\n",
       "AAACCCAGTTGGCCTG-1_6044STDY8640561          4\n",
       "AAACGAAAGCTCCACG-1_6044STDY8640561          0\n",
       "AAACGAACAAGTCGTT-1_6044STDY8640561          2\n",
       "...                                       ...\n",
       "TTTGTTGAGATGAAGG-1_Pla_Camb10123934         1\n",
       "TTTGTTGCACTTGAGT-1_Pla_Camb10123934         1\n",
       "TTTGTTGGTACGATTC-1_Pla_Camb10123934         1\n",
       "TTTGTTGGTATCGGTT-1_Pla_Camb10123934         1\n",
       "TTTGTTGTCGCATTAG-1_Pla_Camb10123934         1\n",
       "\n",
       "[30894 rows x 1 columns]"
      ]
     },
     "execution_count": 84,
     "metadata": {},
     "output_type": "execute_result"
    }
   ],
   "source": [
    "# 20.08.2021 v2: also additionally ignoring louvain cluster 9 since it is SCT contaminants (as per notebook S9)\n",
    "\n",
    "# reading it table with louvain_R labels\n",
    "louvain_labels = pd.read_csv('/lustre/scratch117/cellgen/team292/aa22/adata_objects/202105_troph_organoids_exp_1_2/20210820_no_cytokine_analysis_VCT_EVT_zoomin_louvain_labels_v2.csv',\n",
    "                            index_col=0)\n",
    "louvain_labels\n"
   ]
  },
  {
   "cell_type": "code",
   "execution_count": 86,
   "metadata": {},
   "outputs": [
    {
     "data": {
      "text/plain": [
       "0      5585\n",
       "1      5364\n",
       "2      5181\n",
       "3      4516\n",
       "4      4137\n",
       "5      3358\n",
       "7       878\n",
       "6,0     720\n",
       "8       297\n",
       "9       257\n",
       "10      239\n",
       "6,1     169\n",
       "6,2     151\n",
       "6,3      42\n",
       "Name: louvain, dtype: int64"
      ]
     },
     "execution_count": 86,
     "metadata": {},
     "output_type": "execute_result"
    }
   ],
   "source": [
    "# firstly, subst to only barcodes in the louvain_labels table (that is after first cleanup)\n",
    "adata = adata[louvain_labels.index,:].copy()\n",
    "\n",
    "# then add the louvain_R labels\n",
    "adata.obs['louvain'] = louvain_labels.loc[adata.obs_names,'louvain_R']\n",
    "adata.obs['louvain'].value_counts()"
   ]
  },
  {
   "cell_type": "code",
   "execution_count": 87,
   "metadata": {},
   "outputs": [
    {
     "data": {
      "text/plain": [
       "AnnData object with n_obs × n_vars = 30894 × 9555\n",
       "    obs: 'n_genes', 'time_point', 'activation_status', 'media', 'sample', 'percent_mito', 'n_counts', 'dataset', 'technique', 'scrublet_score', 'scrublet_cluster_score', 'bh_pval', 'batch', 'is_doublet', 'experiment', 'barcode', 'souporcell_assignment', 'inter_ind_doublet', 'donor', 'prelim_annot_v3', 'louvain'\n",
       "    var: 'gene_ids-0', 'feature_types-0', 'genome-0', 'n_cells-0', 'gene_ids-1', 'feature_types-1', 'genome-1', 'n_cells-1', 'gene_ids-10', 'feature_types-10', 'genome-10', 'n_cells-10', 'gene_ids-11', 'feature_types-11', 'genome-11', 'n_cells-11', 'gene_ids-12', 'feature_types-12', 'genome-12', 'n_cells-12', 'gene_ids-13', 'feature_types-13', 'genome-13', 'n_cells-13', 'gene_ids-2', 'feature_types-2', 'genome-2', 'n_cells-2', 'gene_ids-3', 'feature_types-3', 'genome-3', 'n_cells-3', 'gene_ids-4', 'feature_types-4', 'genome-4', 'n_cells-4', 'gene_ids-5', 'feature_types-5', 'genome-5', 'n_cells-5', 'gene_ids-6', 'feature_types-6', 'genome-6', 'n_cells-6', 'gene_ids-7', 'feature_types-7', 'genome-7', 'n_cells-7', 'gene_ids-8', 'feature_types-8', 'genome-8', 'n_cells-8', 'gene_ids-9', 'feature_types-9', 'genome-9', 'n_cells-9'"
      ]
     },
     "execution_count": 87,
     "metadata": {},
     "output_type": "execute_result"
    }
   ],
   "source": [
    "adata"
   ]
  },
  {
   "cell_type": "code",
   "execution_count": 89,
   "metadata": {},
   "outputs": [
    {
     "data": {
      "text/plain": [
       "View of AnnData object with n_obs × n_vars = 30637 × 9555\n",
       "    obs: 'n_genes', 'time_point', 'activation_status', 'media', 'sample', 'percent_mito', 'n_counts', 'dataset', 'technique', 'scrublet_score', 'scrublet_cluster_score', 'bh_pval', 'batch', 'is_doublet', 'experiment', 'barcode', 'souporcell_assignment', 'inter_ind_doublet', 'donor', 'prelim_annot_v3', 'louvain'\n",
       "    var: 'gene_ids-0', 'feature_types-0', 'genome-0', 'n_cells-0', 'gene_ids-1', 'feature_types-1', 'genome-1', 'n_cells-1', 'gene_ids-10', 'feature_types-10', 'genome-10', 'n_cells-10', 'gene_ids-11', 'feature_types-11', 'genome-11', 'n_cells-11', 'gene_ids-12', 'feature_types-12', 'genome-12', 'n_cells-12', 'gene_ids-13', 'feature_types-13', 'genome-13', 'n_cells-13', 'gene_ids-2', 'feature_types-2', 'genome-2', 'n_cells-2', 'gene_ids-3', 'feature_types-3', 'genome-3', 'n_cells-3', 'gene_ids-4', 'feature_types-4', 'genome-4', 'n_cells-4', 'gene_ids-5', 'feature_types-5', 'genome-5', 'n_cells-5', 'gene_ids-6', 'feature_types-6', 'genome-6', 'n_cells-6', 'gene_ids-7', 'feature_types-7', 'genome-7', 'n_cells-7', 'gene_ids-8', 'feature_types-8', 'genome-8', 'n_cells-8', 'gene_ids-9', 'feature_types-9', 'genome-9', 'n_cells-9'"
      ]
     },
     "execution_count": 89,
     "metadata": {},
     "output_type": "execute_result"
    }
   ],
   "source": [
    "adata[adata.obs['louvain'] != '9']"
   ]
  },
  {
   "cell_type": "code",
   "execution_count": 90,
   "metadata": {},
   "outputs": [],
   "source": [
    "adata = adata[adata.obs['louvain'] != '9'].copy()"
   ]
  },
  {
   "cell_type": "code",
   "execution_count": 91,
   "metadata": {},
   "outputs": [
    {
     "data": {
      "text/plain": [
       "AnnData object with n_obs × n_vars = 30637 × 9555\n",
       "    obs: 'n_genes', 'time_point', 'activation_status', 'media', 'sample', 'percent_mito', 'n_counts', 'dataset', 'technique', 'scrublet_score', 'scrublet_cluster_score', 'bh_pval', 'batch', 'is_doublet', 'experiment', 'barcode', 'souporcell_assignment', 'inter_ind_doublet', 'donor', 'prelim_annot_v3', 'louvain'\n",
       "    var: 'gene_ids-0', 'feature_types-0', 'genome-0', 'n_cells-0', 'gene_ids-1', 'feature_types-1', 'genome-1', 'n_cells-1', 'gene_ids-10', 'feature_types-10', 'genome-10', 'n_cells-10', 'gene_ids-11', 'feature_types-11', 'genome-11', 'n_cells-11', 'gene_ids-12', 'feature_types-12', 'genome-12', 'n_cells-12', 'gene_ids-13', 'feature_types-13', 'genome-13', 'n_cells-13', 'gene_ids-2', 'feature_types-2', 'genome-2', 'n_cells-2', 'gene_ids-3', 'feature_types-3', 'genome-3', 'n_cells-3', 'gene_ids-4', 'feature_types-4', 'genome-4', 'n_cells-4', 'gene_ids-5', 'feature_types-5', 'genome-5', 'n_cells-5', 'gene_ids-6', 'feature_types-6', 'genome-6', 'n_cells-6', 'gene_ids-7', 'feature_types-7', 'genome-7', 'n_cells-7', 'gene_ids-8', 'feature_types-8', 'genome-8', 'n_cells-8', 'gene_ids-9', 'feature_types-9', 'genome-9', 'n_cells-9'"
      ]
     },
     "execution_count": 91,
     "metadata": {},
     "output_type": "execute_result"
    }
   ],
   "source": [
    "adata"
   ]
  },
  {
   "cell_type": "code",
   "execution_count": 92,
   "metadata": {},
   "outputs": [],
   "source": [
    "# do some basic preprocessing\n",
    "adata.layers[\"raw_counts\"] = adata.X.copy() # preserve counts\n",
    "sc.pp.normalize_total(adata, target_sum=1e4)\n",
    "sc.pp.log1p(adata)\n",
    "adata.raw = adata.copy()"
   ]
  },
  {
   "cell_type": "code",
   "execution_count": 93,
   "metadata": {},
   "outputs": [],
   "source": [
    "# creating a joint donor + sample key for the most correct HVG calculation in case of donor + sample correction\n",
    "adata.obs['donor_sample'] = [i + '_' + j for i,j in zip(adata.obs['donor'], adata.obs['sample'])]"
   ]
  },
  {
   "cell_type": "code",
   "execution_count": 94,
   "metadata": {},
   "outputs": [
    {
     "name": "stderr",
     "output_type": "stream",
     "text": [
      "... storing 'prelim_annot_v3' as categorical\n",
      "... storing 'louvain' as categorical\n",
      "... storing 'donor_sample' as categorical\n",
      "/opt/conda/envs/scvi-singularity/lib/python3.8/site-packages/pandas/core/indexing.py:1637: SettingWithCopyWarning: \n",
      "A value is trying to be set on a copy of a slice from a DataFrame\n",
      "\n",
      "See the caveats in the documentation: https://pandas.pydata.org/pandas-docs/stable/user_guide/indexing.html#returning-a-view-versus-a-copy\n",
      "  self._setitem_single_block(indexer, value, name)\n"
     ]
    }
   ],
   "source": [
    "# here we subset to HVGs, accounting for donor batch\n",
    "sc.pp.highly_variable_genes(\n",
    "    adata,\n",
    "    n_top_genes=2000,\n",
    "    subset=True,\n",
    "    #layer=\"raw_counts\",\n",
    "    flavor=\"seurat\",\n",
    "    batch_key=\"donor_sample\"\n",
    ")"
   ]
  },
  {
   "cell_type": "code",
   "execution_count": 95,
   "metadata": {
    "scrolled": false
   },
   "outputs": [
    {
     "data": {
      "text/plain": [
       "AnnData object with n_obs × n_vars = 30637 × 2000\n",
       "    obs: 'n_genes', 'time_point', 'activation_status', 'media', 'sample', 'percent_mito', 'n_counts', 'dataset', 'technique', 'scrublet_score', 'scrublet_cluster_score', 'bh_pval', 'batch', 'is_doublet', 'experiment', 'barcode', 'souporcell_assignment', 'inter_ind_doublet', 'donor', 'prelim_annot_v3', 'louvain', 'donor_sample'\n",
       "    var: 'gene_ids-0', 'feature_types-0', 'genome-0', 'n_cells-0', 'gene_ids-1', 'feature_types-1', 'genome-1', 'n_cells-1', 'gene_ids-10', 'feature_types-10', 'genome-10', 'n_cells-10', 'gene_ids-11', 'feature_types-11', 'genome-11', 'n_cells-11', 'gene_ids-12', 'feature_types-12', 'genome-12', 'n_cells-12', 'gene_ids-13', 'feature_types-13', 'genome-13', 'n_cells-13', 'gene_ids-2', 'feature_types-2', 'genome-2', 'n_cells-2', 'gene_ids-3', 'feature_types-3', 'genome-3', 'n_cells-3', 'gene_ids-4', 'feature_types-4', 'genome-4', 'n_cells-4', 'gene_ids-5', 'feature_types-5', 'genome-5', 'n_cells-5', 'gene_ids-6', 'feature_types-6', 'genome-6', 'n_cells-6', 'gene_ids-7', 'feature_types-7', 'genome-7', 'n_cells-7', 'gene_ids-8', 'feature_types-8', 'genome-8', 'n_cells-8', 'gene_ids-9', 'feature_types-9', 'genome-9', 'n_cells-9', 'highly_variable', 'means', 'dispersions', 'dispersions_norm', 'highly_variable_nbatches', 'highly_variable_intersection'\n",
       "    uns: 'log1p', 'hvg'\n",
       "    layers: 'raw_counts'"
      ]
     },
     "execution_count": 95,
     "metadata": {},
     "output_type": "execute_result"
    }
   ],
   "source": [
    "adata"
   ]
  },
  {
   "cell_type": "markdown",
   "metadata": {},
   "source": [
    "#### Here you can specify your covariates you want to correct for (categorical or continuous)"
   ]
  },
  {
   "cell_type": "code",
   "execution_count": 96,
   "metadata": {
    "scrolled": true
   },
   "outputs": [
    {
     "name": "stdout",
     "output_type": "stream",
     "text": [
      "\u001b[34mINFO    \u001b[0m No batch_key inputted, assuming all cells are same batch                            \n",
      "\u001b[34mINFO    \u001b[0m No label_key inputted, assuming all cells have same label                           \n",
      "\u001b[34mINFO    \u001b[0m Using data from adata.layers\u001b[1m[\u001b[0m\u001b[32m\"raw_counts\"\u001b[0m\u001b[1m]\u001b[0m                                          \n",
      "\u001b[34mINFO    \u001b[0m Computing library size prior per batch                                              \n",
      "\u001b[34mINFO    \u001b[0m Successfully registered anndata object containing \u001b[1;36m30637\u001b[0m cells, \u001b[1;36m2000\u001b[0m vars, \u001b[1;36m1\u001b[0m batches,\n",
      "         \u001b[1;36m1\u001b[0m labels, and \u001b[1;36m0\u001b[0m proteins. Also registered \u001b[1;36m2\u001b[0m extra categorical covariates and \u001b[1;36m0\u001b[0m extra\n",
      "         continuous covariates.                                                              \n",
      "\u001b[34mINFO    \u001b[0m Please do not further modify adata until model is trained.                          \n"
     ]
    }
   ],
   "source": [
    "scvi.data.setup_anndata(\n",
    "    adata,\n",
    "    layer=\"raw_counts\",\n",
    "    categorical_covariate_keys=[\"donor\",\"sample\"],\n",
    "    #continuous_covariate_keys=[\"\"] # could try and regress n_genes in the future? not for now\n",
    ")"
   ]
  },
  {
   "cell_type": "markdown",
   "metadata": {},
   "source": [
    "### 20.08.2021, running scVI after excluding soupy genes based on sample 30 and only for VCT -> EVT branch populations (acc to annotation done in notebook S7) AND excluding louvain cluster 9 (SCT contaminants) according to analysis in notebook S9, cleanup v2"
   ]
  },
  {
   "cell_type": "code",
   "execution_count": 97,
   "metadata": {},
   "outputs": [
    {
     "name": "stdout",
     "output_type": "stream",
     "text": [
      "n_latent_value 5\n",
      "n_latent_value 10\n",
      "n_latent_value 15\n",
      "n_latent_value 20\n",
      "n_latent_value 30\n",
      "n_latent_value 40\n"
     ]
    }
   ],
   "source": [
    "models = {}\n",
    "\n",
    "# Valentina said n_latent = 10 worked for her well, let's try a few values\n",
    "n_latent_values = [5, 10, 15, 20, 30, 40]\n",
    "\n",
    "for n_latent_value in n_latent_values:\n",
    "    print('n_latent_value', n_latent_value)\n",
    "    models[n_latent_value] = scvi.model.SCVI(adata, n_latent = n_latent_value)"
   ]
  },
  {
   "cell_type": "code",
   "execution_count": 98,
   "metadata": {
    "scrolled": true
   },
   "outputs": [
    {
     "data": {
      "text/html": [
       "<pre style=\"white-space:pre;overflow-x:auto;line-height:normal;font-family:Menlo,'DejaVu Sans Mono',consolas,'Courier New',monospace\">SCVI Model with the following params: \n",
       "n_hidden: <span style=\"color: #008080; text-decoration-color: #008080; font-weight: bold\">128</span>, n_latent: <span style=\"color: #008080; text-decoration-color: #008080; font-weight: bold\">5</span>, n_layers: <span style=\"color: #008080; text-decoration-color: #008080; font-weight: bold\">1</span>, dropout_rate: <span style=\"color: #008080; text-decoration-color: #008080; font-weight: bold\">0.1</span>, dispersion: gene, \n",
       "gene_likelihood: zinb, latent_distribution: normal\n",
       "Training status: Not Trained\n",
       "</pre>\n"
      ],
      "text/plain": [
       "SCVI Model with the following params: \n",
       "n_hidden: \u001b[1;36m128\u001b[0m, n_latent: \u001b[1;36m5\u001b[0m, n_layers: \u001b[1;36m1\u001b[0m, dropout_rate: \u001b[1;36m0.1\u001b[0m, dispersion: gene, \n",
       "gene_likelihood: zinb, latent_distribution: normal\n",
       "Training status: Not Trained\n"
      ]
     },
     "metadata": {},
     "output_type": "display_data"
    },
    {
     "data": {
      "text/html": [
       "<pre style=\"white-space:pre;overflow-x:auto;line-height:normal;font-family:Menlo,'DejaVu Sans Mono',consolas,'Courier New',monospace\">\n",
       "\n",
       "To print summary of associated AnnData, use: <span style=\"color: #af00d7; text-decoration-color: #af00d7\">scvi.data.view_anndata_setup(model.adata)</span>\n",
       "</pre>\n"
      ],
      "text/plain": [
       "\n",
       "\n",
       "To print summary of associated AnnData, use: \u001b[38;5;128mscvi.data.view_anndata_setup(model.adata)\u001b[0m\n"
      ]
     },
     "metadata": {},
     "output_type": "display_data"
    },
    {
     "data": {
      "text/plain": []
     },
     "execution_count": 98,
     "metadata": {},
     "output_type": "execute_result"
    }
   ],
   "source": [
    "models[5]"
   ]
  },
  {
   "cell_type": "code",
   "execution_count": 99,
   "metadata": {},
   "outputs": [
    {
     "data": {
      "text/html": [
       "<pre style=\"white-space:pre;overflow-x:auto;line-height:normal;font-family:Menlo,'DejaVu Sans Mono',consolas,'Courier New',monospace\">SCVI Model with the following params: \n",
       "n_hidden: <span style=\"color: #008080; text-decoration-color: #008080; font-weight: bold\">128</span>, n_latent: <span style=\"color: #008080; text-decoration-color: #008080; font-weight: bold\">10</span>, n_layers: <span style=\"color: #008080; text-decoration-color: #008080; font-weight: bold\">1</span>, dropout_rate: <span style=\"color: #008080; text-decoration-color: #008080; font-weight: bold\">0.1</span>, dispersion: gene, \n",
       "gene_likelihood: zinb, latent_distribution: normal\n",
       "Training status: Not Trained\n",
       "</pre>\n"
      ],
      "text/plain": [
       "SCVI Model with the following params: \n",
       "n_hidden: \u001b[1;36m128\u001b[0m, n_latent: \u001b[1;36m10\u001b[0m, n_layers: \u001b[1;36m1\u001b[0m, dropout_rate: \u001b[1;36m0.1\u001b[0m, dispersion: gene, \n",
       "gene_likelihood: zinb, latent_distribution: normal\n",
       "Training status: Not Trained\n"
      ]
     },
     "metadata": {},
     "output_type": "display_data"
    },
    {
     "data": {
      "text/html": [
       "<pre style=\"white-space:pre;overflow-x:auto;line-height:normal;font-family:Menlo,'DejaVu Sans Mono',consolas,'Courier New',monospace\">\n",
       "\n",
       "To print summary of associated AnnData, use: <span style=\"color: #af00d7; text-decoration-color: #af00d7\">scvi.data.view_anndata_setup(model.adata)</span>\n",
       "</pre>\n"
      ],
      "text/plain": [
       "\n",
       "\n",
       "To print summary of associated AnnData, use: \u001b[38;5;128mscvi.data.view_anndata_setup(model.adata)\u001b[0m\n"
      ]
     },
     "metadata": {},
     "output_type": "display_data"
    },
    {
     "data": {
      "text/plain": []
     },
     "execution_count": 99,
     "metadata": {},
     "output_type": "execute_result"
    }
   ],
   "source": [
    "models[10]"
   ]
  },
  {
   "cell_type": "code",
   "execution_count": 100,
   "metadata": {},
   "outputs": [
    {
     "data": {
      "text/html": [
       "<pre style=\"white-space:pre;overflow-x:auto;line-height:normal;font-family:Menlo,'DejaVu Sans Mono',consolas,'Courier New',monospace\">SCVI Model with the following params: \n",
       "n_hidden: <span style=\"color: #008080; text-decoration-color: #008080; font-weight: bold\">128</span>, n_latent: <span style=\"color: #008080; text-decoration-color: #008080; font-weight: bold\">15</span>, n_layers: <span style=\"color: #008080; text-decoration-color: #008080; font-weight: bold\">1</span>, dropout_rate: <span style=\"color: #008080; text-decoration-color: #008080; font-weight: bold\">0.1</span>, dispersion: gene, \n",
       "gene_likelihood: zinb, latent_distribution: normal\n",
       "Training status: Not Trained\n",
       "</pre>\n"
      ],
      "text/plain": [
       "SCVI Model with the following params: \n",
       "n_hidden: \u001b[1;36m128\u001b[0m, n_latent: \u001b[1;36m15\u001b[0m, n_layers: \u001b[1;36m1\u001b[0m, dropout_rate: \u001b[1;36m0.1\u001b[0m, dispersion: gene, \n",
       "gene_likelihood: zinb, latent_distribution: normal\n",
       "Training status: Not Trained\n"
      ]
     },
     "metadata": {},
     "output_type": "display_data"
    },
    {
     "data": {
      "text/html": [
       "<pre style=\"white-space:pre;overflow-x:auto;line-height:normal;font-family:Menlo,'DejaVu Sans Mono',consolas,'Courier New',monospace\">\n",
       "\n",
       "To print summary of associated AnnData, use: <span style=\"color: #af00d7; text-decoration-color: #af00d7\">scvi.data.view_anndata_setup(model.adata)</span>\n",
       "</pre>\n"
      ],
      "text/plain": [
       "\n",
       "\n",
       "To print summary of associated AnnData, use: \u001b[38;5;128mscvi.data.view_anndata_setup(model.adata)\u001b[0m\n"
      ]
     },
     "metadata": {},
     "output_type": "display_data"
    },
    {
     "data": {
      "text/plain": []
     },
     "execution_count": 100,
     "metadata": {},
     "output_type": "execute_result"
    }
   ],
   "source": [
    "models[15]"
   ]
  },
  {
   "cell_type": "code",
   "execution_count": 101,
   "metadata": {},
   "outputs": [
    {
     "data": {
      "text/html": [
       "<pre style=\"white-space:pre;overflow-x:auto;line-height:normal;font-family:Menlo,'DejaVu Sans Mono',consolas,'Courier New',monospace\">SCVI Model with the following params: \n",
       "n_hidden: <span style=\"color: #008080; text-decoration-color: #008080; font-weight: bold\">128</span>, n_latent: <span style=\"color: #008080; text-decoration-color: #008080; font-weight: bold\">20</span>, n_layers: <span style=\"color: #008080; text-decoration-color: #008080; font-weight: bold\">1</span>, dropout_rate: <span style=\"color: #008080; text-decoration-color: #008080; font-weight: bold\">0.1</span>, dispersion: gene, \n",
       "gene_likelihood: zinb, latent_distribution: normal\n",
       "Training status: Not Trained\n",
       "</pre>\n"
      ],
      "text/plain": [
       "SCVI Model with the following params: \n",
       "n_hidden: \u001b[1;36m128\u001b[0m, n_latent: \u001b[1;36m20\u001b[0m, n_layers: \u001b[1;36m1\u001b[0m, dropout_rate: \u001b[1;36m0.1\u001b[0m, dispersion: gene, \n",
       "gene_likelihood: zinb, latent_distribution: normal\n",
       "Training status: Not Trained\n"
      ]
     },
     "metadata": {},
     "output_type": "display_data"
    },
    {
     "data": {
      "text/html": [
       "<pre style=\"white-space:pre;overflow-x:auto;line-height:normal;font-family:Menlo,'DejaVu Sans Mono',consolas,'Courier New',monospace\">\n",
       "\n",
       "To print summary of associated AnnData, use: <span style=\"color: #af00d7; text-decoration-color: #af00d7\">scvi.data.view_anndata_setup(model.adata)</span>\n",
       "</pre>\n"
      ],
      "text/plain": [
       "\n",
       "\n",
       "To print summary of associated AnnData, use: \u001b[38;5;128mscvi.data.view_anndata_setup(model.adata)\u001b[0m\n"
      ]
     },
     "metadata": {},
     "output_type": "display_data"
    },
    {
     "data": {
      "text/plain": []
     },
     "execution_count": 101,
     "metadata": {},
     "output_type": "execute_result"
    }
   ],
   "source": [
    "models[20]"
   ]
  },
  {
   "cell_type": "code",
   "execution_count": 102,
   "metadata": {},
   "outputs": [
    {
     "data": {
      "text/html": [
       "<pre style=\"white-space:pre;overflow-x:auto;line-height:normal;font-family:Menlo,'DejaVu Sans Mono',consolas,'Courier New',monospace\">SCVI Model with the following params: \n",
       "n_hidden: <span style=\"color: #008080; text-decoration-color: #008080; font-weight: bold\">128</span>, n_latent: <span style=\"color: #008080; text-decoration-color: #008080; font-weight: bold\">30</span>, n_layers: <span style=\"color: #008080; text-decoration-color: #008080; font-weight: bold\">1</span>, dropout_rate: <span style=\"color: #008080; text-decoration-color: #008080; font-weight: bold\">0.1</span>, dispersion: gene, \n",
       "gene_likelihood: zinb, latent_distribution: normal\n",
       "Training status: Not Trained\n",
       "</pre>\n"
      ],
      "text/plain": [
       "SCVI Model with the following params: \n",
       "n_hidden: \u001b[1;36m128\u001b[0m, n_latent: \u001b[1;36m30\u001b[0m, n_layers: \u001b[1;36m1\u001b[0m, dropout_rate: \u001b[1;36m0.1\u001b[0m, dispersion: gene, \n",
       "gene_likelihood: zinb, latent_distribution: normal\n",
       "Training status: Not Trained\n"
      ]
     },
     "metadata": {},
     "output_type": "display_data"
    },
    {
     "data": {
      "text/html": [
       "<pre style=\"white-space:pre;overflow-x:auto;line-height:normal;font-family:Menlo,'DejaVu Sans Mono',consolas,'Courier New',monospace\">\n",
       "\n",
       "To print summary of associated AnnData, use: <span style=\"color: #af00d7; text-decoration-color: #af00d7\">scvi.data.view_anndata_setup(model.adata)</span>\n",
       "</pre>\n"
      ],
      "text/plain": [
       "\n",
       "\n",
       "To print summary of associated AnnData, use: \u001b[38;5;128mscvi.data.view_anndata_setup(model.adata)\u001b[0m\n"
      ]
     },
     "metadata": {},
     "output_type": "display_data"
    },
    {
     "data": {
      "text/plain": []
     },
     "execution_count": 102,
     "metadata": {},
     "output_type": "execute_result"
    }
   ],
   "source": [
    "models[30]"
   ]
  },
  {
   "cell_type": "code",
   "execution_count": 103,
   "metadata": {},
   "outputs": [
    {
     "data": {
      "text/html": [
       "<pre style=\"white-space:pre;overflow-x:auto;line-height:normal;font-family:Menlo,'DejaVu Sans Mono',consolas,'Courier New',monospace\">SCVI Model with the following params: \n",
       "n_hidden: <span style=\"color: #008080; text-decoration-color: #008080; font-weight: bold\">128</span>, n_latent: <span style=\"color: #008080; text-decoration-color: #008080; font-weight: bold\">40</span>, n_layers: <span style=\"color: #008080; text-decoration-color: #008080; font-weight: bold\">1</span>, dropout_rate: <span style=\"color: #008080; text-decoration-color: #008080; font-weight: bold\">0.1</span>, dispersion: gene, \n",
       "gene_likelihood: zinb, latent_distribution: normal\n",
       "Training status: Not Trained\n",
       "</pre>\n"
      ],
      "text/plain": [
       "SCVI Model with the following params: \n",
       "n_hidden: \u001b[1;36m128\u001b[0m, n_latent: \u001b[1;36m40\u001b[0m, n_layers: \u001b[1;36m1\u001b[0m, dropout_rate: \u001b[1;36m0.1\u001b[0m, dispersion: gene, \n",
       "gene_likelihood: zinb, latent_distribution: normal\n",
       "Training status: Not Trained\n"
      ]
     },
     "metadata": {},
     "output_type": "display_data"
    },
    {
     "data": {
      "text/html": [
       "<pre style=\"white-space:pre;overflow-x:auto;line-height:normal;font-family:Menlo,'DejaVu Sans Mono',consolas,'Courier New',monospace\">\n",
       "\n",
       "To print summary of associated AnnData, use: <span style=\"color: #af00d7; text-decoration-color: #af00d7\">scvi.data.view_anndata_setup(model.adata)</span>\n",
       "</pre>\n"
      ],
      "text/plain": [
       "\n",
       "\n",
       "To print summary of associated AnnData, use: \u001b[38;5;128mscvi.data.view_anndata_setup(model.adata)\u001b[0m\n"
      ]
     },
     "metadata": {},
     "output_type": "display_data"
    },
    {
     "data": {
      "text/plain": []
     },
     "execution_count": 103,
     "metadata": {},
     "output_type": "execute_result"
    }
   ],
   "source": [
    "models[40]"
   ]
  },
  {
   "cell_type": "code",
   "execution_count": 104,
   "metadata": {
    "scrolled": false
   },
   "outputs": [
    {
     "name": "stderr",
     "output_type": "stream",
     "text": [
      "GPU available: True, used: True\n",
      "TPU available: False, using: 0 TPU cores\n",
      "LOCAL_RANK: 0 - CUDA_VISIBLE_DEVICES: [0]\n"
     ]
    },
    {
     "name": "stdout",
     "output_type": "stream",
     "text": [
      "training model for n_latent_value: 5\n",
      "Epoch 261/261: 100%|█████████████████████████████████████████████████████████████████████████████████████████████████████████████████████████████████| 261/261 [07:04<00:00,  1.63s/it, loss=996, v_num=1]\n"
     ]
    },
    {
     "name": "stderr",
     "output_type": "stream",
     "text": [
      "GPU available: True, used: True\n",
      "TPU available: False, using: 0 TPU cores\n",
      "LOCAL_RANK: 0 - CUDA_VISIBLE_DEVICES: [0]\n"
     ]
    },
    {
     "name": "stdout",
     "output_type": "stream",
     "text": [
      "training model for n_latent_value: 10\n",
      "Epoch 261/261: 100%|█████████████████████████████████████████████████████████████████████████████████████████████████████████████████████████████████| 261/261 [07:04<00:00,  1.63s/it, loss=981, v_num=1]\n"
     ]
    },
    {
     "name": "stderr",
     "output_type": "stream",
     "text": [
      "GPU available: True, used: True\n",
      "TPU available: False, using: 0 TPU cores\n",
      "LOCAL_RANK: 0 - CUDA_VISIBLE_DEVICES: [0]\n"
     ]
    },
    {
     "name": "stdout",
     "output_type": "stream",
     "text": [
      "training model for n_latent_value: 15\n",
      "Epoch 261/261: 100%|█████████████████████████████████████████████████████████████████████████████████████████████████████████████████████████████████| 261/261 [07:06<00:00,  1.63s/it, loss=982, v_num=1]\n"
     ]
    },
    {
     "name": "stderr",
     "output_type": "stream",
     "text": [
      "GPU available: True, used: True\n",
      "TPU available: False, using: 0 TPU cores\n",
      "LOCAL_RANK: 0 - CUDA_VISIBLE_DEVICES: [0]\n"
     ]
    },
    {
     "name": "stdout",
     "output_type": "stream",
     "text": [
      "training model for n_latent_value: 20\n",
      "Epoch 261/261: 100%|█████████████████████████████████████████████████████████████████████████████████████████████████████████████████████████████████| 261/261 [07:05<00:00,  1.63s/it, loss=993, v_num=1]\n"
     ]
    },
    {
     "name": "stderr",
     "output_type": "stream",
     "text": [
      "GPU available: True, used: True\n",
      "TPU available: False, using: 0 TPU cores\n",
      "LOCAL_RANK: 0 - CUDA_VISIBLE_DEVICES: [0]\n"
     ]
    },
    {
     "name": "stdout",
     "output_type": "stream",
     "text": [
      "training model for n_latent_value: 30\n",
      "Epoch 261/261: 100%|█████████████████████████████████████████████████████████████████████████████████████████████████████████████████████████████████| 261/261 [07:05<00:00,  1.63s/it, loss=980, v_num=1]\n"
     ]
    },
    {
     "name": "stderr",
     "output_type": "stream",
     "text": [
      "GPU available: True, used: True\n",
      "TPU available: False, using: 0 TPU cores\n",
      "LOCAL_RANK: 0 - CUDA_VISIBLE_DEVICES: [0]\n"
     ]
    },
    {
     "name": "stdout",
     "output_type": "stream",
     "text": [
      "training model for n_latent_value: 40\n",
      "Epoch 261/261: 100%|█████████████████████████████████████████████████████████████████████████████████████████████████████████████████████████████████| 261/261 [07:05<00:00,  1.63s/it, loss=993, v_num=1]\n"
     ]
    }
   ],
   "source": [
    "latent_representations = {}\n",
    "\n",
    "for n_latent_value in n_latent_values:\n",
    "    print('training model for n_latent_value:', n_latent_value)\n",
    "    models[n_latent_value].train()\n",
    "    \n",
    "    # get latent representation as a dataframe\n",
    "    latent_representations[n_latent_value] = models[n_latent_value].get_latent_representation()\n",
    "    \n",
    "    # add it to the adata object\n",
    "    adata.obsm[\"X_scVI_n_latent_\" + str(n_latent_value)] = latent_representations[n_latent_value]\n",
    "    curr_df = pd.DataFrame(adata.obsm[\"X_scVI_n_latent_\" + str(n_latent_value)])\n",
    "    \n",
    "    # save the latent representation\n",
    "    curr_df.to_csv('./20210820_obsm_with_scVI_latent_representation_n_' + str(n_latent_value) + '_NO_CYTONIKE_after_CCG_removal_and_all_doublet_exclusion_with_LF_gene_filter_only_VCT_EVT_branch_proper_no_SCT_contaminants_v2.csv')\n",
    "    "
   ]
  },
  {
   "cell_type": "code",
   "execution_count": null,
   "metadata": {},
   "outputs": [],
   "source": []
  },
  {
   "cell_type": "code",
   "execution_count": null,
   "metadata": {},
   "outputs": [],
   "source": []
  },
  {
   "cell_type": "code",
   "execution_count": null,
   "metadata": {},
   "outputs": [],
   "source": []
  },
  {
   "cell_type": "markdown",
   "metadata": {},
   "source": [
    "### 20.08.2021, running scVI after excluding soupy genes based on sample 30 and only for VCT -> EVT branch populations (acc to annotation done in notebook S7) AND excluding louvain cluster 11 (SCT contaminants) according to analysis in notebook S8"
   ]
  },
  {
   "cell_type": "code",
   "execution_count": 44,
   "metadata": {},
   "outputs": [
    {
     "name": "stdout",
     "output_type": "stream",
     "text": [
      "n_latent_value 5\n",
      "n_latent_value 10\n",
      "n_latent_value 15\n",
      "n_latent_value 20\n",
      "n_latent_value 30\n",
      "n_latent_value 40\n"
     ]
    }
   ],
   "source": [
    "models = {}\n",
    "\n",
    "# Valentina said n_latent = 10 worked for her well, let's try a few values\n",
    "n_latent_values = [5, 10, 15, 20, 30, 40]\n",
    "\n",
    "for n_latent_value in n_latent_values:\n",
    "    print('n_latent_value', n_latent_value)\n",
    "    models[n_latent_value] = scvi.model.SCVI(adata, n_latent = n_latent_value)"
   ]
  },
  {
   "cell_type": "code",
   "execution_count": 45,
   "metadata": {
    "scrolled": true
   },
   "outputs": [
    {
     "data": {
      "text/html": [
       "<pre style=\"white-space:pre;overflow-x:auto;line-height:normal;font-family:Menlo,'DejaVu Sans Mono',consolas,'Courier New',monospace\">SCVI Model with the following params: \n",
       "n_hidden: <span style=\"color: #008080; text-decoration-color: #008080; font-weight: bold\">128</span>, n_latent: <span style=\"color: #008080; text-decoration-color: #008080; font-weight: bold\">5</span>, n_layers: <span style=\"color: #008080; text-decoration-color: #008080; font-weight: bold\">1</span>, dropout_rate: <span style=\"color: #008080; text-decoration-color: #008080; font-weight: bold\">0.1</span>, dispersion: gene, \n",
       "gene_likelihood: zinb, latent_distribution: normal\n",
       "Training status: Not Trained\n",
       "</pre>\n"
      ],
      "text/plain": [
       "SCVI Model with the following params: \n",
       "n_hidden: \u001b[1;36m128\u001b[0m, n_latent: \u001b[1;36m5\u001b[0m, n_layers: \u001b[1;36m1\u001b[0m, dropout_rate: \u001b[1;36m0.1\u001b[0m, dispersion: gene, \n",
       "gene_likelihood: zinb, latent_distribution: normal\n",
       "Training status: Not Trained\n"
      ]
     },
     "metadata": {},
     "output_type": "display_data"
    },
    {
     "data": {
      "text/html": [
       "<pre style=\"white-space:pre;overflow-x:auto;line-height:normal;font-family:Menlo,'DejaVu Sans Mono',consolas,'Courier New',monospace\">\n",
       "\n",
       "To print summary of associated AnnData, use: <span style=\"color: #af00d7; text-decoration-color: #af00d7\">scvi.data.view_anndata_setup(model.adata)</span>\n",
       "</pre>\n"
      ],
      "text/plain": [
       "\n",
       "\n",
       "To print summary of associated AnnData, use: \u001b[38;5;128mscvi.data.view_anndata_setup(model.adata)\u001b[0m\n"
      ]
     },
     "metadata": {},
     "output_type": "display_data"
    },
    {
     "data": {
      "text/plain": []
     },
     "execution_count": 45,
     "metadata": {},
     "output_type": "execute_result"
    }
   ],
   "source": [
    "models[5]"
   ]
  },
  {
   "cell_type": "code",
   "execution_count": 46,
   "metadata": {},
   "outputs": [
    {
     "data": {
      "text/html": [
       "<pre style=\"white-space:pre;overflow-x:auto;line-height:normal;font-family:Menlo,'DejaVu Sans Mono',consolas,'Courier New',monospace\">SCVI Model with the following params: \n",
       "n_hidden: <span style=\"color: #008080; text-decoration-color: #008080; font-weight: bold\">128</span>, n_latent: <span style=\"color: #008080; text-decoration-color: #008080; font-weight: bold\">10</span>, n_layers: <span style=\"color: #008080; text-decoration-color: #008080; font-weight: bold\">1</span>, dropout_rate: <span style=\"color: #008080; text-decoration-color: #008080; font-weight: bold\">0.1</span>, dispersion: gene, \n",
       "gene_likelihood: zinb, latent_distribution: normal\n",
       "Training status: Not Trained\n",
       "</pre>\n"
      ],
      "text/plain": [
       "SCVI Model with the following params: \n",
       "n_hidden: \u001b[1;36m128\u001b[0m, n_latent: \u001b[1;36m10\u001b[0m, n_layers: \u001b[1;36m1\u001b[0m, dropout_rate: \u001b[1;36m0.1\u001b[0m, dispersion: gene, \n",
       "gene_likelihood: zinb, latent_distribution: normal\n",
       "Training status: Not Trained\n"
      ]
     },
     "metadata": {},
     "output_type": "display_data"
    },
    {
     "data": {
      "text/html": [
       "<pre style=\"white-space:pre;overflow-x:auto;line-height:normal;font-family:Menlo,'DejaVu Sans Mono',consolas,'Courier New',monospace\">\n",
       "\n",
       "To print summary of associated AnnData, use: <span style=\"color: #af00d7; text-decoration-color: #af00d7\">scvi.data.view_anndata_setup(model.adata)</span>\n",
       "</pre>\n"
      ],
      "text/plain": [
       "\n",
       "\n",
       "To print summary of associated AnnData, use: \u001b[38;5;128mscvi.data.view_anndata_setup(model.adata)\u001b[0m\n"
      ]
     },
     "metadata": {},
     "output_type": "display_data"
    },
    {
     "data": {
      "text/plain": []
     },
     "execution_count": 46,
     "metadata": {},
     "output_type": "execute_result"
    }
   ],
   "source": [
    "models[10]"
   ]
  },
  {
   "cell_type": "code",
   "execution_count": 47,
   "metadata": {},
   "outputs": [
    {
     "data": {
      "text/html": [
       "<pre style=\"white-space:pre;overflow-x:auto;line-height:normal;font-family:Menlo,'DejaVu Sans Mono',consolas,'Courier New',monospace\">SCVI Model with the following params: \n",
       "n_hidden: <span style=\"color: #008080; text-decoration-color: #008080; font-weight: bold\">128</span>, n_latent: <span style=\"color: #008080; text-decoration-color: #008080; font-weight: bold\">15</span>, n_layers: <span style=\"color: #008080; text-decoration-color: #008080; font-weight: bold\">1</span>, dropout_rate: <span style=\"color: #008080; text-decoration-color: #008080; font-weight: bold\">0.1</span>, dispersion: gene, \n",
       "gene_likelihood: zinb, latent_distribution: normal\n",
       "Training status: Not Trained\n",
       "</pre>\n"
      ],
      "text/plain": [
       "SCVI Model with the following params: \n",
       "n_hidden: \u001b[1;36m128\u001b[0m, n_latent: \u001b[1;36m15\u001b[0m, n_layers: \u001b[1;36m1\u001b[0m, dropout_rate: \u001b[1;36m0.1\u001b[0m, dispersion: gene, \n",
       "gene_likelihood: zinb, latent_distribution: normal\n",
       "Training status: Not Trained\n"
      ]
     },
     "metadata": {},
     "output_type": "display_data"
    },
    {
     "data": {
      "text/html": [
       "<pre style=\"white-space:pre;overflow-x:auto;line-height:normal;font-family:Menlo,'DejaVu Sans Mono',consolas,'Courier New',monospace\">\n",
       "\n",
       "To print summary of associated AnnData, use: <span style=\"color: #af00d7; text-decoration-color: #af00d7\">scvi.data.view_anndata_setup(model.adata)</span>\n",
       "</pre>\n"
      ],
      "text/plain": [
       "\n",
       "\n",
       "To print summary of associated AnnData, use: \u001b[38;5;128mscvi.data.view_anndata_setup(model.adata)\u001b[0m\n"
      ]
     },
     "metadata": {},
     "output_type": "display_data"
    },
    {
     "data": {
      "text/plain": []
     },
     "execution_count": 47,
     "metadata": {},
     "output_type": "execute_result"
    }
   ],
   "source": [
    "models[15]"
   ]
  },
  {
   "cell_type": "code",
   "execution_count": 48,
   "metadata": {},
   "outputs": [
    {
     "data": {
      "text/html": [
       "<pre style=\"white-space:pre;overflow-x:auto;line-height:normal;font-family:Menlo,'DejaVu Sans Mono',consolas,'Courier New',monospace\">SCVI Model with the following params: \n",
       "n_hidden: <span style=\"color: #008080; text-decoration-color: #008080; font-weight: bold\">128</span>, n_latent: <span style=\"color: #008080; text-decoration-color: #008080; font-weight: bold\">20</span>, n_layers: <span style=\"color: #008080; text-decoration-color: #008080; font-weight: bold\">1</span>, dropout_rate: <span style=\"color: #008080; text-decoration-color: #008080; font-weight: bold\">0.1</span>, dispersion: gene, \n",
       "gene_likelihood: zinb, latent_distribution: normal\n",
       "Training status: Not Trained\n",
       "</pre>\n"
      ],
      "text/plain": [
       "SCVI Model with the following params: \n",
       "n_hidden: \u001b[1;36m128\u001b[0m, n_latent: \u001b[1;36m20\u001b[0m, n_layers: \u001b[1;36m1\u001b[0m, dropout_rate: \u001b[1;36m0.1\u001b[0m, dispersion: gene, \n",
       "gene_likelihood: zinb, latent_distribution: normal\n",
       "Training status: Not Trained\n"
      ]
     },
     "metadata": {},
     "output_type": "display_data"
    },
    {
     "data": {
      "text/html": [
       "<pre style=\"white-space:pre;overflow-x:auto;line-height:normal;font-family:Menlo,'DejaVu Sans Mono',consolas,'Courier New',monospace\">\n",
       "\n",
       "To print summary of associated AnnData, use: <span style=\"color: #af00d7; text-decoration-color: #af00d7\">scvi.data.view_anndata_setup(model.adata)</span>\n",
       "</pre>\n"
      ],
      "text/plain": [
       "\n",
       "\n",
       "To print summary of associated AnnData, use: \u001b[38;5;128mscvi.data.view_anndata_setup(model.adata)\u001b[0m\n"
      ]
     },
     "metadata": {},
     "output_type": "display_data"
    },
    {
     "data": {
      "text/plain": []
     },
     "execution_count": 48,
     "metadata": {},
     "output_type": "execute_result"
    }
   ],
   "source": [
    "models[20]"
   ]
  },
  {
   "cell_type": "code",
   "execution_count": 49,
   "metadata": {},
   "outputs": [
    {
     "data": {
      "text/html": [
       "<pre style=\"white-space:pre;overflow-x:auto;line-height:normal;font-family:Menlo,'DejaVu Sans Mono',consolas,'Courier New',monospace\">SCVI Model with the following params: \n",
       "n_hidden: <span style=\"color: #008080; text-decoration-color: #008080; font-weight: bold\">128</span>, n_latent: <span style=\"color: #008080; text-decoration-color: #008080; font-weight: bold\">30</span>, n_layers: <span style=\"color: #008080; text-decoration-color: #008080; font-weight: bold\">1</span>, dropout_rate: <span style=\"color: #008080; text-decoration-color: #008080; font-weight: bold\">0.1</span>, dispersion: gene, \n",
       "gene_likelihood: zinb, latent_distribution: normal\n",
       "Training status: Not Trained\n",
       "</pre>\n"
      ],
      "text/plain": [
       "SCVI Model with the following params: \n",
       "n_hidden: \u001b[1;36m128\u001b[0m, n_latent: \u001b[1;36m30\u001b[0m, n_layers: \u001b[1;36m1\u001b[0m, dropout_rate: \u001b[1;36m0.1\u001b[0m, dispersion: gene, \n",
       "gene_likelihood: zinb, latent_distribution: normal\n",
       "Training status: Not Trained\n"
      ]
     },
     "metadata": {},
     "output_type": "display_data"
    },
    {
     "data": {
      "text/html": [
       "<pre style=\"white-space:pre;overflow-x:auto;line-height:normal;font-family:Menlo,'DejaVu Sans Mono',consolas,'Courier New',monospace\">\n",
       "\n",
       "To print summary of associated AnnData, use: <span style=\"color: #af00d7; text-decoration-color: #af00d7\">scvi.data.view_anndata_setup(model.adata)</span>\n",
       "</pre>\n"
      ],
      "text/plain": [
       "\n",
       "\n",
       "To print summary of associated AnnData, use: \u001b[38;5;128mscvi.data.view_anndata_setup(model.adata)\u001b[0m\n"
      ]
     },
     "metadata": {},
     "output_type": "display_data"
    },
    {
     "data": {
      "text/plain": []
     },
     "execution_count": 49,
     "metadata": {},
     "output_type": "execute_result"
    }
   ],
   "source": [
    "models[30]"
   ]
  },
  {
   "cell_type": "code",
   "execution_count": 50,
   "metadata": {},
   "outputs": [
    {
     "data": {
      "text/html": [
       "<pre style=\"white-space:pre;overflow-x:auto;line-height:normal;font-family:Menlo,'DejaVu Sans Mono',consolas,'Courier New',monospace\">SCVI Model with the following params: \n",
       "n_hidden: <span style=\"color: #008080; text-decoration-color: #008080; font-weight: bold\">128</span>, n_latent: <span style=\"color: #008080; text-decoration-color: #008080; font-weight: bold\">40</span>, n_layers: <span style=\"color: #008080; text-decoration-color: #008080; font-weight: bold\">1</span>, dropout_rate: <span style=\"color: #008080; text-decoration-color: #008080; font-weight: bold\">0.1</span>, dispersion: gene, \n",
       "gene_likelihood: zinb, latent_distribution: normal\n",
       "Training status: Not Trained\n",
       "</pre>\n"
      ],
      "text/plain": [
       "SCVI Model with the following params: \n",
       "n_hidden: \u001b[1;36m128\u001b[0m, n_latent: \u001b[1;36m40\u001b[0m, n_layers: \u001b[1;36m1\u001b[0m, dropout_rate: \u001b[1;36m0.1\u001b[0m, dispersion: gene, \n",
       "gene_likelihood: zinb, latent_distribution: normal\n",
       "Training status: Not Trained\n"
      ]
     },
     "metadata": {},
     "output_type": "display_data"
    },
    {
     "data": {
      "text/html": [
       "<pre style=\"white-space:pre;overflow-x:auto;line-height:normal;font-family:Menlo,'DejaVu Sans Mono',consolas,'Courier New',monospace\">\n",
       "\n",
       "To print summary of associated AnnData, use: <span style=\"color: #af00d7; text-decoration-color: #af00d7\">scvi.data.view_anndata_setup(model.adata)</span>\n",
       "</pre>\n"
      ],
      "text/plain": [
       "\n",
       "\n",
       "To print summary of associated AnnData, use: \u001b[38;5;128mscvi.data.view_anndata_setup(model.adata)\u001b[0m\n"
      ]
     },
     "metadata": {},
     "output_type": "display_data"
    },
    {
     "data": {
      "text/plain": []
     },
     "execution_count": 50,
     "metadata": {},
     "output_type": "execute_result"
    }
   ],
   "source": [
    "models[40]"
   ]
  },
  {
   "cell_type": "code",
   "execution_count": 51,
   "metadata": {
    "scrolled": true
   },
   "outputs": [
    {
     "name": "stderr",
     "output_type": "stream",
     "text": [
      "GPU available: True, used: True\n",
      "TPU available: False, using: 0 TPU cores\n",
      "LOCAL_RANK: 0 - CUDA_VISIBLE_DEVICES: [0]\n"
     ]
    },
    {
     "name": "stdout",
     "output_type": "stream",
     "text": [
      "training model for n_latent_value: 5\n",
      "Epoch 259/259: 100%|█████████████████████████████████████████████████████████████████████████████████████████████████████████████████████████████████| 259/259 [07:03<00:00,  1.63s/it, loss=996, v_num=1]\n"
     ]
    },
    {
     "name": "stderr",
     "output_type": "stream",
     "text": [
      "GPU available: True, used: True\n",
      "TPU available: False, using: 0 TPU cores\n",
      "LOCAL_RANK: 0 - CUDA_VISIBLE_DEVICES: [0]\n"
     ]
    },
    {
     "name": "stdout",
     "output_type": "stream",
     "text": [
      "training model for n_latent_value: 10\n",
      "Epoch 259/259: 100%|█████████████████████████████████████████████████████████████████████████████████████████████████████████████████████████████████| 259/259 [07:03<00:00,  1.64s/it, loss=986, v_num=1]\n"
     ]
    },
    {
     "name": "stderr",
     "output_type": "stream",
     "text": [
      "GPU available: True, used: True\n",
      "TPU available: False, using: 0 TPU cores\n",
      "LOCAL_RANK: 0 - CUDA_VISIBLE_DEVICES: [0]\n"
     ]
    },
    {
     "name": "stdout",
     "output_type": "stream",
     "text": [
      "training model for n_latent_value: 15\n",
      "Epoch 259/259: 100%|█████████████████████████████████████████████████████████████████████████████████████████████████████████████████████████████████| 259/259 [07:05<00:00,  1.64s/it, loss=976, v_num=1]\n"
     ]
    },
    {
     "name": "stderr",
     "output_type": "stream",
     "text": [
      "GPU available: True, used: True\n",
      "TPU available: False, using: 0 TPU cores\n",
      "LOCAL_RANK: 0 - CUDA_VISIBLE_DEVICES: [0]\n"
     ]
    },
    {
     "name": "stdout",
     "output_type": "stream",
     "text": [
      "training model for n_latent_value: 20\n",
      "Epoch 259/259: 100%|█████████████████████████████████████████████████████████████████████████████████████████████████████████████████████████████████| 259/259 [07:04<00:00,  1.64s/it, loss=985, v_num=1]\n"
     ]
    },
    {
     "name": "stderr",
     "output_type": "stream",
     "text": [
      "GPU available: True, used: True\n",
      "TPU available: False, using: 0 TPU cores\n",
      "LOCAL_RANK: 0 - CUDA_VISIBLE_DEVICES: [0]\n"
     ]
    },
    {
     "name": "stdout",
     "output_type": "stream",
     "text": [
      "training model for n_latent_value: 30\n",
      "Epoch 259/259: 100%|█████████████████████████████████████████████████████████████████████████████████████████████████████████████████████████████████| 259/259 [07:03<00:00,  1.64s/it, loss=965, v_num=1]\n"
     ]
    },
    {
     "name": "stderr",
     "output_type": "stream",
     "text": [
      "GPU available: True, used: True\n",
      "TPU available: False, using: 0 TPU cores\n",
      "LOCAL_RANK: 0 - CUDA_VISIBLE_DEVICES: [0]\n"
     ]
    },
    {
     "name": "stdout",
     "output_type": "stream",
     "text": [
      "training model for n_latent_value: 40\n",
      "Epoch 259/259: 100%|█████████████████████████████████████████████████████████████████████████████████████████████████████████████████████████████████| 259/259 [07:03<00:00,  1.64s/it, loss=991, v_num=1]\n"
     ]
    }
   ],
   "source": [
    "latent_representations = {}\n",
    "\n",
    "for n_latent_value in n_latent_values:\n",
    "    print('training model for n_latent_value:', n_latent_value)\n",
    "    models[n_latent_value].train()\n",
    "    \n",
    "    # get latent representation as a dataframe\n",
    "    latent_representations[n_latent_value] = models[n_latent_value].get_latent_representation()\n",
    "    \n",
    "    # add it to the adata object\n",
    "    adata.obsm[\"X_scVI_n_latent_\" + str(n_latent_value)] = latent_representations[n_latent_value]\n",
    "    curr_df = pd.DataFrame(adata.obsm[\"X_scVI_n_latent_\" + str(n_latent_value)])\n",
    "    \n",
    "    # save the latent representation\n",
    "    curr_df.to_csv('./20210820_obsm_with_scVI_latent_representation_n_' + str(n_latent_value) + '_NO_CYTONIKE_after_CCG_removal_and_all_doublet_exclusion_with_LF_gene_filter_only_VCT_EVT_branch_proper_no_SCT_contaminants.csv')\n",
    "    "
   ]
  },
  {
   "cell_type": "code",
   "execution_count": null,
   "metadata": {},
   "outputs": [],
   "source": []
  },
  {
   "cell_type": "code",
   "execution_count": null,
   "metadata": {},
   "outputs": [],
   "source": []
  },
  {
   "cell_type": "code",
   "execution_count": null,
   "metadata": {},
   "outputs": [],
   "source": []
  },
  {
   "cell_type": "code",
   "execution_count": null,
   "metadata": {},
   "outputs": [],
   "source": []
  },
  {
   "cell_type": "markdown",
   "metadata": {},
   "source": [
    "### 01.08.2021, running scVI after excluding soupy genes based on sample 30 and only for VCT -> EVT branch populations (acc to annotation done in notebook S7)"
   ]
  },
  {
   "cell_type": "code",
   "execution_count": 58,
   "metadata": {},
   "outputs": [
    {
     "name": "stdout",
     "output_type": "stream",
     "text": [
      "n_latent_value 5\n",
      "n_latent_value 10\n",
      "n_latent_value 15\n",
      "n_latent_value 20\n",
      "n_latent_value 30\n",
      "n_latent_value 40\n"
     ]
    }
   ],
   "source": [
    "models = {}\n",
    "\n",
    "# Valentina said n_latent = 10 worked for her well, let's try a few values\n",
    "n_latent_values = [5, 10, 15, 20, 30, 40]\n",
    "\n",
    "for n_latent_value in n_latent_values:\n",
    "    print('n_latent_value', n_latent_value)\n",
    "    models[n_latent_value] = scvi.model.SCVI(adata, n_latent = n_latent_value)"
   ]
  },
  {
   "cell_type": "code",
   "execution_count": 59,
   "metadata": {
    "scrolled": true
   },
   "outputs": [
    {
     "data": {
      "text/html": [
       "<pre style=\"white-space:pre;overflow-x:auto;line-height:normal;font-family:Menlo,'DejaVu Sans Mono',consolas,'Courier New',monospace\">SCVI Model with the following params: \n",
       "n_hidden: <span style=\"color: #008080; text-decoration-color: #008080; font-weight: bold\">128</span>, n_latent: <span style=\"color: #008080; text-decoration-color: #008080; font-weight: bold\">5</span>, n_layers: <span style=\"color: #008080; text-decoration-color: #008080; font-weight: bold\">1</span>, dropout_rate: <span style=\"color: #008080; text-decoration-color: #008080; font-weight: bold\">0.1</span>, dispersion: gene, \n",
       "gene_likelihood: zinb, latent_distribution: normal\n",
       "Training status: Not Trained\n",
       "</pre>\n"
      ],
      "text/plain": [
       "SCVI Model with the following params: \n",
       "n_hidden: \u001b[1;36m128\u001b[0m, n_latent: \u001b[1;36m5\u001b[0m, n_layers: \u001b[1;36m1\u001b[0m, dropout_rate: \u001b[1;36m0.1\u001b[0m, dispersion: gene, \n",
       "gene_likelihood: zinb, latent_distribution: normal\n",
       "Training status: Not Trained\n"
      ]
     },
     "metadata": {},
     "output_type": "display_data"
    },
    {
     "data": {
      "text/html": [
       "<pre style=\"white-space:pre;overflow-x:auto;line-height:normal;font-family:Menlo,'DejaVu Sans Mono',consolas,'Courier New',monospace\">\n",
       "\n",
       "To print summary of associated AnnData, use: <span style=\"color: #af00d7; text-decoration-color: #af00d7\">scvi.data.view_anndata_setup(model.adata)</span>\n",
       "</pre>\n"
      ],
      "text/plain": [
       "\n",
       "\n",
       "To print summary of associated AnnData, use: \u001b[38;5;128mscvi.data.view_anndata_setup(model.adata)\u001b[0m\n"
      ]
     },
     "metadata": {},
     "output_type": "display_data"
    },
    {
     "data": {
      "text/plain": []
     },
     "execution_count": 59,
     "metadata": {},
     "output_type": "execute_result"
    }
   ],
   "source": [
    "models[5]"
   ]
  },
  {
   "cell_type": "code",
   "execution_count": 60,
   "metadata": {},
   "outputs": [
    {
     "data": {
      "text/html": [
       "<pre style=\"white-space:pre;overflow-x:auto;line-height:normal;font-family:Menlo,'DejaVu Sans Mono',consolas,'Courier New',monospace\">SCVI Model with the following params: \n",
       "n_hidden: <span style=\"color: #008080; text-decoration-color: #008080; font-weight: bold\">128</span>, n_latent: <span style=\"color: #008080; text-decoration-color: #008080; font-weight: bold\">10</span>, n_layers: <span style=\"color: #008080; text-decoration-color: #008080; font-weight: bold\">1</span>, dropout_rate: <span style=\"color: #008080; text-decoration-color: #008080; font-weight: bold\">0.1</span>, dispersion: gene, \n",
       "gene_likelihood: zinb, latent_distribution: normal\n",
       "Training status: Not Trained\n",
       "</pre>\n"
      ],
      "text/plain": [
       "SCVI Model with the following params: \n",
       "n_hidden: \u001b[1;36m128\u001b[0m, n_latent: \u001b[1;36m10\u001b[0m, n_layers: \u001b[1;36m1\u001b[0m, dropout_rate: \u001b[1;36m0.1\u001b[0m, dispersion: gene, \n",
       "gene_likelihood: zinb, latent_distribution: normal\n",
       "Training status: Not Trained\n"
      ]
     },
     "metadata": {},
     "output_type": "display_data"
    },
    {
     "data": {
      "text/html": [
       "<pre style=\"white-space:pre;overflow-x:auto;line-height:normal;font-family:Menlo,'DejaVu Sans Mono',consolas,'Courier New',monospace\">\n",
       "\n",
       "To print summary of associated AnnData, use: <span style=\"color: #af00d7; text-decoration-color: #af00d7\">scvi.data.view_anndata_setup(model.adata)</span>\n",
       "</pre>\n"
      ],
      "text/plain": [
       "\n",
       "\n",
       "To print summary of associated AnnData, use: \u001b[38;5;128mscvi.data.view_anndata_setup(model.adata)\u001b[0m\n"
      ]
     },
     "metadata": {},
     "output_type": "display_data"
    },
    {
     "data": {
      "text/plain": []
     },
     "execution_count": 60,
     "metadata": {},
     "output_type": "execute_result"
    }
   ],
   "source": [
    "models[10]"
   ]
  },
  {
   "cell_type": "code",
   "execution_count": 61,
   "metadata": {},
   "outputs": [
    {
     "data": {
      "text/html": [
       "<pre style=\"white-space:pre;overflow-x:auto;line-height:normal;font-family:Menlo,'DejaVu Sans Mono',consolas,'Courier New',monospace\">SCVI Model with the following params: \n",
       "n_hidden: <span style=\"color: #008080; text-decoration-color: #008080; font-weight: bold\">128</span>, n_latent: <span style=\"color: #008080; text-decoration-color: #008080; font-weight: bold\">15</span>, n_layers: <span style=\"color: #008080; text-decoration-color: #008080; font-weight: bold\">1</span>, dropout_rate: <span style=\"color: #008080; text-decoration-color: #008080; font-weight: bold\">0.1</span>, dispersion: gene, \n",
       "gene_likelihood: zinb, latent_distribution: normal\n",
       "Training status: Not Trained\n",
       "</pre>\n"
      ],
      "text/plain": [
       "SCVI Model with the following params: \n",
       "n_hidden: \u001b[1;36m128\u001b[0m, n_latent: \u001b[1;36m15\u001b[0m, n_layers: \u001b[1;36m1\u001b[0m, dropout_rate: \u001b[1;36m0.1\u001b[0m, dispersion: gene, \n",
       "gene_likelihood: zinb, latent_distribution: normal\n",
       "Training status: Not Trained\n"
      ]
     },
     "metadata": {},
     "output_type": "display_data"
    },
    {
     "data": {
      "text/html": [
       "<pre style=\"white-space:pre;overflow-x:auto;line-height:normal;font-family:Menlo,'DejaVu Sans Mono',consolas,'Courier New',monospace\">\n",
       "\n",
       "To print summary of associated AnnData, use: <span style=\"color: #af00d7; text-decoration-color: #af00d7\">scvi.data.view_anndata_setup(model.adata)</span>\n",
       "</pre>\n"
      ],
      "text/plain": [
       "\n",
       "\n",
       "To print summary of associated AnnData, use: \u001b[38;5;128mscvi.data.view_anndata_setup(model.adata)\u001b[0m\n"
      ]
     },
     "metadata": {},
     "output_type": "display_data"
    },
    {
     "data": {
      "text/plain": []
     },
     "execution_count": 61,
     "metadata": {},
     "output_type": "execute_result"
    }
   ],
   "source": [
    "models[15]"
   ]
  },
  {
   "cell_type": "code",
   "execution_count": 62,
   "metadata": {},
   "outputs": [
    {
     "data": {
      "text/html": [
       "<pre style=\"white-space:pre;overflow-x:auto;line-height:normal;font-family:Menlo,'DejaVu Sans Mono',consolas,'Courier New',monospace\">SCVI Model with the following params: \n",
       "n_hidden: <span style=\"color: #008080; text-decoration-color: #008080; font-weight: bold\">128</span>, n_latent: <span style=\"color: #008080; text-decoration-color: #008080; font-weight: bold\">20</span>, n_layers: <span style=\"color: #008080; text-decoration-color: #008080; font-weight: bold\">1</span>, dropout_rate: <span style=\"color: #008080; text-decoration-color: #008080; font-weight: bold\">0.1</span>, dispersion: gene, \n",
       "gene_likelihood: zinb, latent_distribution: normal\n",
       "Training status: Not Trained\n",
       "</pre>\n"
      ],
      "text/plain": [
       "SCVI Model with the following params: \n",
       "n_hidden: \u001b[1;36m128\u001b[0m, n_latent: \u001b[1;36m20\u001b[0m, n_layers: \u001b[1;36m1\u001b[0m, dropout_rate: \u001b[1;36m0.1\u001b[0m, dispersion: gene, \n",
       "gene_likelihood: zinb, latent_distribution: normal\n",
       "Training status: Not Trained\n"
      ]
     },
     "metadata": {},
     "output_type": "display_data"
    },
    {
     "data": {
      "text/html": [
       "<pre style=\"white-space:pre;overflow-x:auto;line-height:normal;font-family:Menlo,'DejaVu Sans Mono',consolas,'Courier New',monospace\">\n",
       "\n",
       "To print summary of associated AnnData, use: <span style=\"color: #af00d7; text-decoration-color: #af00d7\">scvi.data.view_anndata_setup(model.adata)</span>\n",
       "</pre>\n"
      ],
      "text/plain": [
       "\n",
       "\n",
       "To print summary of associated AnnData, use: \u001b[38;5;128mscvi.data.view_anndata_setup(model.adata)\u001b[0m\n"
      ]
     },
     "metadata": {},
     "output_type": "display_data"
    },
    {
     "data": {
      "text/plain": []
     },
     "execution_count": 62,
     "metadata": {},
     "output_type": "execute_result"
    }
   ],
   "source": [
    "models[20]"
   ]
  },
  {
   "cell_type": "code",
   "execution_count": 63,
   "metadata": {},
   "outputs": [
    {
     "data": {
      "text/html": [
       "<pre style=\"white-space:pre;overflow-x:auto;line-height:normal;font-family:Menlo,'DejaVu Sans Mono',consolas,'Courier New',monospace\">SCVI Model with the following params: \n",
       "n_hidden: <span style=\"color: #008080; text-decoration-color: #008080; font-weight: bold\">128</span>, n_latent: <span style=\"color: #008080; text-decoration-color: #008080; font-weight: bold\">30</span>, n_layers: <span style=\"color: #008080; text-decoration-color: #008080; font-weight: bold\">1</span>, dropout_rate: <span style=\"color: #008080; text-decoration-color: #008080; font-weight: bold\">0.1</span>, dispersion: gene, \n",
       "gene_likelihood: zinb, latent_distribution: normal\n",
       "Training status: Not Trained\n",
       "</pre>\n"
      ],
      "text/plain": [
       "SCVI Model with the following params: \n",
       "n_hidden: \u001b[1;36m128\u001b[0m, n_latent: \u001b[1;36m30\u001b[0m, n_layers: \u001b[1;36m1\u001b[0m, dropout_rate: \u001b[1;36m0.1\u001b[0m, dispersion: gene, \n",
       "gene_likelihood: zinb, latent_distribution: normal\n",
       "Training status: Not Trained\n"
      ]
     },
     "metadata": {},
     "output_type": "display_data"
    },
    {
     "data": {
      "text/html": [
       "<pre style=\"white-space:pre;overflow-x:auto;line-height:normal;font-family:Menlo,'DejaVu Sans Mono',consolas,'Courier New',monospace\">\n",
       "\n",
       "To print summary of associated AnnData, use: <span style=\"color: #af00d7; text-decoration-color: #af00d7\">scvi.data.view_anndata_setup(model.adata)</span>\n",
       "</pre>\n"
      ],
      "text/plain": [
       "\n",
       "\n",
       "To print summary of associated AnnData, use: \u001b[38;5;128mscvi.data.view_anndata_setup(model.adata)\u001b[0m\n"
      ]
     },
     "metadata": {},
     "output_type": "display_data"
    },
    {
     "data": {
      "text/plain": []
     },
     "execution_count": 63,
     "metadata": {},
     "output_type": "execute_result"
    }
   ],
   "source": [
    "models[30]"
   ]
  },
  {
   "cell_type": "code",
   "execution_count": 64,
   "metadata": {},
   "outputs": [
    {
     "data": {
      "text/html": [
       "<pre style=\"white-space:pre;overflow-x:auto;line-height:normal;font-family:Menlo,'DejaVu Sans Mono',consolas,'Courier New',monospace\">SCVI Model with the following params: \n",
       "n_hidden: <span style=\"color: #008080; text-decoration-color: #008080; font-weight: bold\">128</span>, n_latent: <span style=\"color: #008080; text-decoration-color: #008080; font-weight: bold\">40</span>, n_layers: <span style=\"color: #008080; text-decoration-color: #008080; font-weight: bold\">1</span>, dropout_rate: <span style=\"color: #008080; text-decoration-color: #008080; font-weight: bold\">0.1</span>, dispersion: gene, \n",
       "gene_likelihood: zinb, latent_distribution: normal\n",
       "Training status: Not Trained\n",
       "</pre>\n"
      ],
      "text/plain": [
       "SCVI Model with the following params: \n",
       "n_hidden: \u001b[1;36m128\u001b[0m, n_latent: \u001b[1;36m40\u001b[0m, n_layers: \u001b[1;36m1\u001b[0m, dropout_rate: \u001b[1;36m0.1\u001b[0m, dispersion: gene, \n",
       "gene_likelihood: zinb, latent_distribution: normal\n",
       "Training status: Not Trained\n"
      ]
     },
     "metadata": {},
     "output_type": "display_data"
    },
    {
     "data": {
      "text/html": [
       "<pre style=\"white-space:pre;overflow-x:auto;line-height:normal;font-family:Menlo,'DejaVu Sans Mono',consolas,'Courier New',monospace\">\n",
       "\n",
       "To print summary of associated AnnData, use: <span style=\"color: #af00d7; text-decoration-color: #af00d7\">scvi.data.view_anndata_setup(model.adata)</span>\n",
       "</pre>\n"
      ],
      "text/plain": [
       "\n",
       "\n",
       "To print summary of associated AnnData, use: \u001b[38;5;128mscvi.data.view_anndata_setup(model.adata)\u001b[0m\n"
      ]
     },
     "metadata": {},
     "output_type": "display_data"
    },
    {
     "data": {
      "text/plain": []
     },
     "execution_count": 64,
     "metadata": {},
     "output_type": "execute_result"
    }
   ],
   "source": [
    "models[40]"
   ]
  },
  {
   "cell_type": "code",
   "execution_count": 65,
   "metadata": {
    "scrolled": true
   },
   "outputs": [
    {
     "name": "stderr",
     "output_type": "stream",
     "text": [
      "GPU available: True, used: True\n",
      "TPU available: False, using: 0 TPU cores\n",
      "LOCAL_RANK: 0 - CUDA_VISIBLE_DEVICES: [0]\n"
     ]
    },
    {
     "name": "stdout",
     "output_type": "stream",
     "text": [
      "training model for n_latent_value: 5\n",
      "Epoch 256/256: 100%|██████████████████████████████████████████████████████████| 256/256 [07:03<00:00,  1.65s/it, loss=994, v_num=1]\n"
     ]
    },
    {
     "name": "stderr",
     "output_type": "stream",
     "text": [
      "GPU available: True, used: True\n",
      "TPU available: False, using: 0 TPU cores\n",
      "LOCAL_RANK: 0 - CUDA_VISIBLE_DEVICES: [0]\n"
     ]
    },
    {
     "name": "stdout",
     "output_type": "stream",
     "text": [
      "training model for n_latent_value: 10\n",
      "Epoch 256/256: 100%|██████████████████████████████████████████████████████████| 256/256 [07:03<00:00,  1.65s/it, loss=976, v_num=1]\n"
     ]
    },
    {
     "name": "stderr",
     "output_type": "stream",
     "text": [
      "GPU available: True, used: True\n",
      "TPU available: False, using: 0 TPU cores\n",
      "LOCAL_RANK: 0 - CUDA_VISIBLE_DEVICES: [0]\n"
     ]
    },
    {
     "name": "stdout",
     "output_type": "stream",
     "text": [
      "training model for n_latent_value: 15\n",
      "Epoch 256/256: 100%|██████████████████████████████████████████████████████████| 256/256 [07:05<00:00,  1.66s/it, loss=981, v_num=1]\n"
     ]
    },
    {
     "name": "stderr",
     "output_type": "stream",
     "text": [
      "GPU available: True, used: True\n",
      "TPU available: False, using: 0 TPU cores\n",
      "LOCAL_RANK: 0 - CUDA_VISIBLE_DEVICES: [0]\n"
     ]
    },
    {
     "name": "stdout",
     "output_type": "stream",
     "text": [
      "training model for n_latent_value: 20\n",
      "Epoch 256/256: 100%|██████████████████████████████████████████████████████████| 256/256 [07:04<00:00,  1.66s/it, loss=980, v_num=1]\n"
     ]
    },
    {
     "name": "stderr",
     "output_type": "stream",
     "text": [
      "GPU available: True, used: True\n",
      "TPU available: False, using: 0 TPU cores\n",
      "LOCAL_RANK: 0 - CUDA_VISIBLE_DEVICES: [0]\n"
     ]
    },
    {
     "name": "stdout",
     "output_type": "stream",
     "text": [
      "training model for n_latent_value: 30\n",
      "Epoch 256/256: 100%|██████████████████████████████████████████████████████████| 256/256 [07:04<00:00,  1.66s/it, loss=992, v_num=1]\n"
     ]
    },
    {
     "name": "stderr",
     "output_type": "stream",
     "text": [
      "GPU available: True, used: True\n",
      "TPU available: False, using: 0 TPU cores\n",
      "LOCAL_RANK: 0 - CUDA_VISIBLE_DEVICES: [0]\n"
     ]
    },
    {
     "name": "stdout",
     "output_type": "stream",
     "text": [
      "training model for n_latent_value: 40\n",
      "Epoch 256/256: 100%|██████████████████████████████████████████████████████████| 256/256 [07:04<00:00,  1.66s/it, loss=978, v_num=1]\n"
     ]
    }
   ],
   "source": [
    "latent_representations = {}\n",
    "\n",
    "for n_latent_value in n_latent_values:\n",
    "    print('training model for n_latent_value:', n_latent_value)\n",
    "    models[n_latent_value].train()\n",
    "    \n",
    "    # get latent representation as a dataframe\n",
    "    latent_representations[n_latent_value] = models[n_latent_value].get_latent_representation()\n",
    "    \n",
    "    # add it to the adata object\n",
    "    adata.obsm[\"X_scVI_n_latent_\" + str(n_latent_value)] = latent_representations[n_latent_value]\n",
    "    curr_df = pd.DataFrame(adata.obsm[\"X_scVI_n_latent_\" + str(n_latent_value)])\n",
    "    \n",
    "    # save the latent representation\n",
    "    curr_df.to_csv('./20210801_obsm_with_scVI_latent_representation_n_' + str(n_latent_value) + '_NO_CYTONIKE_after_CCG_removal_and_all_doublet_exclusion_with_LF_gene_filter_only_VCT_EVT_branch_proper.csv')\n",
    "    "
   ]
  },
  {
   "cell_type": "code",
   "execution_count": null,
   "metadata": {},
   "outputs": [],
   "source": []
  },
  {
   "cell_type": "code",
   "execution_count": null,
   "metadata": {},
   "outputs": [],
   "source": []
  },
  {
   "cell_type": "code",
   "execution_count": null,
   "metadata": {},
   "outputs": [],
   "source": []
  },
  {
   "cell_type": "code",
   "execution_count": null,
   "metadata": {},
   "outputs": [],
   "source": []
  },
  {
   "cell_type": "code",
   "execution_count": null,
   "metadata": {},
   "outputs": [],
   "source": []
  },
  {
   "cell_type": "code",
   "execution_count": null,
   "metadata": {},
   "outputs": [],
   "source": []
  },
  {
   "cell_type": "code",
   "execution_count": null,
   "metadata": {},
   "outputs": [],
   "source": []
  },
  {
   "cell_type": "code",
   "execution_count": null,
   "metadata": {},
   "outputs": [],
   "source": []
  },
  {
   "cell_type": "code",
   "execution_count": null,
   "metadata": {},
   "outputs": [],
   "source": []
  },
  {
   "cell_type": "code",
   "execution_count": null,
   "metadata": {},
   "outputs": [],
   "source": []
  },
  {
   "cell_type": "code",
   "execution_count": null,
   "metadata": {},
   "outputs": [],
   "source": []
  },
  {
   "cell_type": "code",
   "execution_count": 30,
   "metadata": {},
   "outputs": [],
   "source": [
    "# 01.08.2021: 1) calculating scVI embedding without mix population (acc to prelim_annot_v2 done in S4 notebook)\n",
    "# 2) calculating scVI embedding for only VCT --> EVT branch for later use in trajectories\n",
    "\n",
    "# reading the prelim_annot_v2 table\n",
    "prelim_annot_v2 = pd.read_csv('/lustre/scratch117/cellgen/team292/aa22/adata_objects/202105_troph_organoids_exp_1_2/no_cytokine_analysis_prelim_annot_v2_20210727.csv',\n",
    "                              index_col=0)\n",
    "\n",
    "\n",
    "adata.obs['prelim_annot_v2'] = prelim_annot_v2.loc[adata.obs_names,'prelim_annot_v2']"
   ]
  },
  {
   "cell_type": "code",
   "execution_count": 32,
   "metadata": {},
   "outputs": [
    {
     "data": {
      "text/plain": [
       "EVT           12017\n",
       "mix           11196\n",
       "VCT            7060\n",
       "EVT_1          5692\n",
       "SCT            5401\n",
       "VCT_CCC        3081\n",
       "VCT_p          2736\n",
       "eEVT?          1012\n",
       "VCT_fusing      481\n",
       "Name: prelim_annot_v2, dtype: int64"
      ]
     },
     "execution_count": 32,
     "metadata": {},
     "output_type": "execute_result"
    }
   ],
   "source": [
    "adata.obs['prelim_annot_v2'].value_counts()"
   ]
  },
  {
   "cell_type": "code",
   "execution_count": 33,
   "metadata": {},
   "outputs": [],
   "source": [
    "adata_no_mix = adata[adata.obs['prelim_annot_v2'] != 'mix'].copy()\n",
    "adata_VCT_EVT_branch = adata[adata.obs['prelim_annot_v2'].isin(['EVT','VCT','EVT_1','VCT_CCC',\n",
    "                                                                'VCT_p','eEVT?'])].copy()"
   ]
  },
  {
   "cell_type": "code",
   "execution_count": 34,
   "metadata": {},
   "outputs": [
    {
     "data": {
      "text/plain": [
       "EVT           12017\n",
       "VCT            7060\n",
       "EVT_1          5692\n",
       "SCT            5401\n",
       "VCT_CCC        3081\n",
       "VCT_p          2736\n",
       "eEVT?          1012\n",
       "VCT_fusing      481\n",
       "Name: prelim_annot_v2, dtype: int64"
      ]
     },
     "execution_count": 34,
     "metadata": {},
     "output_type": "execute_result"
    }
   ],
   "source": [
    "# checking\n",
    "adata_no_mix.obs['prelim_annot_v2'].value_counts()"
   ]
  },
  {
   "cell_type": "code",
   "execution_count": 35,
   "metadata": {},
   "outputs": [
    {
     "data": {
      "text/plain": [
       "EVT        12017\n",
       "VCT         7060\n",
       "EVT_1       5692\n",
       "VCT_CCC     3081\n",
       "VCT_p       2736\n",
       "eEVT?       1012\n",
       "Name: prelim_annot_v2, dtype: int64"
      ]
     },
     "execution_count": 35,
     "metadata": {},
     "output_type": "execute_result"
    }
   ],
   "source": [
    "# checking\n",
    "adata_VCT_EVT_branch.obs['prelim_annot_v2'].value_counts()"
   ]
  },
  {
   "cell_type": "code",
   "execution_count": 51,
   "metadata": {},
   "outputs": [],
   "source": [
    "# currently running for adata_no_mix3\n",
    "#adata = adata_no_mix.copy()"
   ]
  },
  {
   "cell_type": "code",
   "execution_count": 52,
   "metadata": {},
   "outputs": [],
   "source": [
    "# currently running for adata_VCT_EVT_branch\n",
    "adata = adata_VCT_EVT_branch.copy()"
   ]
  },
  {
   "cell_type": "code",
   "execution_count": 53,
   "metadata": {},
   "outputs": [],
   "source": [
    "# do some basic preprocessing\n",
    "adata.layers[\"raw_counts\"] = adata.X.copy() # preserve counts\n",
    "sc.pp.normalize_total(adata, target_sum=1e4)\n",
    "sc.pp.log1p(adata)\n",
    "adata.raw = adata.copy()"
   ]
  },
  {
   "cell_type": "code",
   "execution_count": 54,
   "metadata": {},
   "outputs": [],
   "source": [
    "# creating a joint donor + sample key for the most correct HVG calculation in case of donor + sample correction\n",
    "adata.obs['donor_sample'] = [i + '_' + j for i,j in zip(adata.obs['donor'], adata.obs['sample'])]"
   ]
  },
  {
   "cell_type": "code",
   "execution_count": 55,
   "metadata": {},
   "outputs": [
    {
     "name": "stderr",
     "output_type": "stream",
     "text": [
      "... storing 'prelim_annot_v2' as categorical\n",
      "... storing 'donor_sample' as categorical\n",
      "/opt/conda/envs/scvi-singularity/lib/python3.8/site-packages/pandas/core/indexing.py:1637: SettingWithCopyWarning: \n",
      "A value is trying to be set on a copy of a slice from a DataFrame\n",
      "\n",
      "See the caveats in the documentation: https://pandas.pydata.org/pandas-docs/stable/user_guide/indexing.html#returning-a-view-versus-a-copy\n",
      "  self._setitem_single_block(indexer, value, name)\n"
     ]
    }
   ],
   "source": [
    "# here we subset to HVGs, accounting for donor batch\n",
    "sc.pp.highly_variable_genes(\n",
    "    adata,\n",
    "    n_top_genes=2000,\n",
    "    subset=True,\n",
    "    #layer=\"raw_counts\",\n",
    "    flavor=\"seurat\",\n",
    "    batch_key=\"donor_sample\"\n",
    ")"
   ]
  },
  {
   "cell_type": "code",
   "execution_count": 56,
   "metadata": {
    "scrolled": false
   },
   "outputs": [
    {
     "data": {
      "text/plain": [
       "AnnData object with n_obs × n_vars = 31598 × 2000\n",
       "    obs: 'n_genes', 'time_point', 'activation_status', 'media', 'sample', 'percent_mito', 'n_counts', 'dataset', 'technique', 'scrublet_score', 'scrublet_cluster_score', 'bh_pval', 'batch', 'is_doublet', 'experiment', 'barcode', 'souporcell_assignment', 'inter_ind_doublet', 'donor', 'prelim_annot_v2', 'donor_sample'\n",
       "    var: 'gene_ids-0', 'feature_types-0', 'genome-0', 'n_cells-0', 'gene_ids-1', 'feature_types-1', 'genome-1', 'n_cells-1', 'gene_ids-10', 'feature_types-10', 'genome-10', 'n_cells-10', 'gene_ids-11', 'feature_types-11', 'genome-11', 'n_cells-11', 'gene_ids-12', 'feature_types-12', 'genome-12', 'n_cells-12', 'gene_ids-13', 'feature_types-13', 'genome-13', 'n_cells-13', 'gene_ids-2', 'feature_types-2', 'genome-2', 'n_cells-2', 'gene_ids-3', 'feature_types-3', 'genome-3', 'n_cells-3', 'gene_ids-4', 'feature_types-4', 'genome-4', 'n_cells-4', 'gene_ids-5', 'feature_types-5', 'genome-5', 'n_cells-5', 'gene_ids-6', 'feature_types-6', 'genome-6', 'n_cells-6', 'gene_ids-7', 'feature_types-7', 'genome-7', 'n_cells-7', 'gene_ids-8', 'feature_types-8', 'genome-8', 'n_cells-8', 'gene_ids-9', 'feature_types-9', 'genome-9', 'n_cells-9', 'highly_variable', 'means', 'dispersions', 'dispersions_norm', 'highly_variable_nbatches', 'highly_variable_intersection'\n",
       "    uns: 'log1p', 'hvg'\n",
       "    layers: 'raw_counts'"
      ]
     },
     "execution_count": 56,
     "metadata": {},
     "output_type": "execute_result"
    }
   ],
   "source": [
    "adata"
   ]
  },
  {
   "cell_type": "markdown",
   "metadata": {},
   "source": [
    "#### Here you can specify your covariates you want to correct for (categorical or continuous)"
   ]
  },
  {
   "cell_type": "code",
   "execution_count": 57,
   "metadata": {
    "scrolled": true
   },
   "outputs": [
    {
     "name": "stdout",
     "output_type": "stream",
     "text": [
      "\u001b[34mINFO    \u001b[0m No batch_key inputted, assuming all cells are same batch                            \n",
      "\u001b[34mINFO    \u001b[0m No label_key inputted, assuming all cells have same label                           \n",
      "\u001b[34mINFO    \u001b[0m Using data from adata.layers\u001b[1m[\u001b[0m\u001b[32m\"raw_counts\"\u001b[0m\u001b[1m]\u001b[0m                                          \n",
      "\u001b[34mINFO    \u001b[0m Computing library size prior per batch                                              \n",
      "\u001b[34mINFO    \u001b[0m Successfully registered anndata object containing \u001b[1;36m31598\u001b[0m cells, \u001b[1;36m2000\u001b[0m vars, \u001b[1;36m1\u001b[0m batches,\n",
      "         \u001b[1;36m1\u001b[0m labels, and \u001b[1;36m0\u001b[0m proteins. Also registered \u001b[1;36m2\u001b[0m extra categorical covariates and \u001b[1;36m0\u001b[0m extra\n",
      "         continuous covariates.                                                              \n",
      "\u001b[34mINFO    \u001b[0m Please do not further modify adata until model is trained.                          \n"
     ]
    }
   ],
   "source": [
    "scvi.data.setup_anndata(\n",
    "    adata,\n",
    "    layer=\"raw_counts\",\n",
    "    categorical_covariate_keys=[\"donor\",\"sample\"],\n",
    "    #continuous_covariate_keys=[\"\"] # could try and regress n_genes in the future? not for now\n",
    ")"
   ]
  },
  {
   "cell_type": "markdown",
   "metadata": {},
   "source": [
    "### 01.08.2021, running scVI after excluding soupy genes based on sample 30 and only for VCT -> EVT branch populations (acc to annotation done in notebook S4)"
   ]
  },
  {
   "cell_type": "code",
   "execution_count": 58,
   "metadata": {},
   "outputs": [
    {
     "name": "stdout",
     "output_type": "stream",
     "text": [
      "n_latent_value 5\n",
      "n_latent_value 10\n",
      "n_latent_value 15\n",
      "n_latent_value 20\n",
      "n_latent_value 30\n",
      "n_latent_value 40\n"
     ]
    }
   ],
   "source": [
    "models = {}\n",
    "\n",
    "# Valentina said n_latent = 10 worked for her well, let's try a few values\n",
    "n_latent_values = [5, 10, 15, 20, 30, 40]\n",
    "\n",
    "for n_latent_value in n_latent_values:\n",
    "    print('n_latent_value', n_latent_value)\n",
    "    models[n_latent_value] = scvi.model.SCVI(adata, n_latent = n_latent_value)"
   ]
  },
  {
   "cell_type": "code",
   "execution_count": 59,
   "metadata": {
    "scrolled": true
   },
   "outputs": [
    {
     "data": {
      "text/html": [
       "<pre style=\"white-space:pre;overflow-x:auto;line-height:normal;font-family:Menlo,'DejaVu Sans Mono',consolas,'Courier New',monospace\">SCVI Model with the following params: \n",
       "n_hidden: <span style=\"color: #008080; text-decoration-color: #008080; font-weight: bold\">128</span>, n_latent: <span style=\"color: #008080; text-decoration-color: #008080; font-weight: bold\">5</span>, n_layers: <span style=\"color: #008080; text-decoration-color: #008080; font-weight: bold\">1</span>, dropout_rate: <span style=\"color: #008080; text-decoration-color: #008080; font-weight: bold\">0.1</span>, dispersion: gene, \n",
       "gene_likelihood: zinb, latent_distribution: normal\n",
       "Training status: Not Trained\n",
       "</pre>\n"
      ],
      "text/plain": [
       "SCVI Model with the following params: \n",
       "n_hidden: \u001b[1;36m128\u001b[0m, n_latent: \u001b[1;36m5\u001b[0m, n_layers: \u001b[1;36m1\u001b[0m, dropout_rate: \u001b[1;36m0.1\u001b[0m, dispersion: gene, \n",
       "gene_likelihood: zinb, latent_distribution: normal\n",
       "Training status: Not Trained\n"
      ]
     },
     "metadata": {},
     "output_type": "display_data"
    },
    {
     "data": {
      "text/html": [
       "<pre style=\"white-space:pre;overflow-x:auto;line-height:normal;font-family:Menlo,'DejaVu Sans Mono',consolas,'Courier New',monospace\">\n",
       "\n",
       "To print summary of associated AnnData, use: <span style=\"color: #af00d7; text-decoration-color: #af00d7\">scvi.data.view_anndata_setup(model.adata)</span>\n",
       "</pre>\n"
      ],
      "text/plain": [
       "\n",
       "\n",
       "To print summary of associated AnnData, use: \u001b[38;5;128mscvi.data.view_anndata_setup(model.adata)\u001b[0m\n"
      ]
     },
     "metadata": {},
     "output_type": "display_data"
    },
    {
     "data": {
      "text/plain": []
     },
     "execution_count": 59,
     "metadata": {},
     "output_type": "execute_result"
    }
   ],
   "source": [
    "models[5]"
   ]
  },
  {
   "cell_type": "code",
   "execution_count": 60,
   "metadata": {},
   "outputs": [
    {
     "data": {
      "text/html": [
       "<pre style=\"white-space:pre;overflow-x:auto;line-height:normal;font-family:Menlo,'DejaVu Sans Mono',consolas,'Courier New',monospace\">SCVI Model with the following params: \n",
       "n_hidden: <span style=\"color: #008080; text-decoration-color: #008080; font-weight: bold\">128</span>, n_latent: <span style=\"color: #008080; text-decoration-color: #008080; font-weight: bold\">10</span>, n_layers: <span style=\"color: #008080; text-decoration-color: #008080; font-weight: bold\">1</span>, dropout_rate: <span style=\"color: #008080; text-decoration-color: #008080; font-weight: bold\">0.1</span>, dispersion: gene, \n",
       "gene_likelihood: zinb, latent_distribution: normal\n",
       "Training status: Not Trained\n",
       "</pre>\n"
      ],
      "text/plain": [
       "SCVI Model with the following params: \n",
       "n_hidden: \u001b[1;36m128\u001b[0m, n_latent: \u001b[1;36m10\u001b[0m, n_layers: \u001b[1;36m1\u001b[0m, dropout_rate: \u001b[1;36m0.1\u001b[0m, dispersion: gene, \n",
       "gene_likelihood: zinb, latent_distribution: normal\n",
       "Training status: Not Trained\n"
      ]
     },
     "metadata": {},
     "output_type": "display_data"
    },
    {
     "data": {
      "text/html": [
       "<pre style=\"white-space:pre;overflow-x:auto;line-height:normal;font-family:Menlo,'DejaVu Sans Mono',consolas,'Courier New',monospace\">\n",
       "\n",
       "To print summary of associated AnnData, use: <span style=\"color: #af00d7; text-decoration-color: #af00d7\">scvi.data.view_anndata_setup(model.adata)</span>\n",
       "</pre>\n"
      ],
      "text/plain": [
       "\n",
       "\n",
       "To print summary of associated AnnData, use: \u001b[38;5;128mscvi.data.view_anndata_setup(model.adata)\u001b[0m\n"
      ]
     },
     "metadata": {},
     "output_type": "display_data"
    },
    {
     "data": {
      "text/plain": []
     },
     "execution_count": 60,
     "metadata": {},
     "output_type": "execute_result"
    }
   ],
   "source": [
    "models[10]"
   ]
  },
  {
   "cell_type": "code",
   "execution_count": 61,
   "metadata": {},
   "outputs": [
    {
     "data": {
      "text/html": [
       "<pre style=\"white-space:pre;overflow-x:auto;line-height:normal;font-family:Menlo,'DejaVu Sans Mono',consolas,'Courier New',monospace\">SCVI Model with the following params: \n",
       "n_hidden: <span style=\"color: #008080; text-decoration-color: #008080; font-weight: bold\">128</span>, n_latent: <span style=\"color: #008080; text-decoration-color: #008080; font-weight: bold\">15</span>, n_layers: <span style=\"color: #008080; text-decoration-color: #008080; font-weight: bold\">1</span>, dropout_rate: <span style=\"color: #008080; text-decoration-color: #008080; font-weight: bold\">0.1</span>, dispersion: gene, \n",
       "gene_likelihood: zinb, latent_distribution: normal\n",
       "Training status: Not Trained\n",
       "</pre>\n"
      ],
      "text/plain": [
       "SCVI Model with the following params: \n",
       "n_hidden: \u001b[1;36m128\u001b[0m, n_latent: \u001b[1;36m15\u001b[0m, n_layers: \u001b[1;36m1\u001b[0m, dropout_rate: \u001b[1;36m0.1\u001b[0m, dispersion: gene, \n",
       "gene_likelihood: zinb, latent_distribution: normal\n",
       "Training status: Not Trained\n"
      ]
     },
     "metadata": {},
     "output_type": "display_data"
    },
    {
     "data": {
      "text/html": [
       "<pre style=\"white-space:pre;overflow-x:auto;line-height:normal;font-family:Menlo,'DejaVu Sans Mono',consolas,'Courier New',monospace\">\n",
       "\n",
       "To print summary of associated AnnData, use: <span style=\"color: #af00d7; text-decoration-color: #af00d7\">scvi.data.view_anndata_setup(model.adata)</span>\n",
       "</pre>\n"
      ],
      "text/plain": [
       "\n",
       "\n",
       "To print summary of associated AnnData, use: \u001b[38;5;128mscvi.data.view_anndata_setup(model.adata)\u001b[0m\n"
      ]
     },
     "metadata": {},
     "output_type": "display_data"
    },
    {
     "data": {
      "text/plain": []
     },
     "execution_count": 61,
     "metadata": {},
     "output_type": "execute_result"
    }
   ],
   "source": [
    "models[15]"
   ]
  },
  {
   "cell_type": "code",
   "execution_count": 62,
   "metadata": {},
   "outputs": [
    {
     "data": {
      "text/html": [
       "<pre style=\"white-space:pre;overflow-x:auto;line-height:normal;font-family:Menlo,'DejaVu Sans Mono',consolas,'Courier New',monospace\">SCVI Model with the following params: \n",
       "n_hidden: <span style=\"color: #008080; text-decoration-color: #008080; font-weight: bold\">128</span>, n_latent: <span style=\"color: #008080; text-decoration-color: #008080; font-weight: bold\">20</span>, n_layers: <span style=\"color: #008080; text-decoration-color: #008080; font-weight: bold\">1</span>, dropout_rate: <span style=\"color: #008080; text-decoration-color: #008080; font-weight: bold\">0.1</span>, dispersion: gene, \n",
       "gene_likelihood: zinb, latent_distribution: normal\n",
       "Training status: Not Trained\n",
       "</pre>\n"
      ],
      "text/plain": [
       "SCVI Model with the following params: \n",
       "n_hidden: \u001b[1;36m128\u001b[0m, n_latent: \u001b[1;36m20\u001b[0m, n_layers: \u001b[1;36m1\u001b[0m, dropout_rate: \u001b[1;36m0.1\u001b[0m, dispersion: gene, \n",
       "gene_likelihood: zinb, latent_distribution: normal\n",
       "Training status: Not Trained\n"
      ]
     },
     "metadata": {},
     "output_type": "display_data"
    },
    {
     "data": {
      "text/html": [
       "<pre style=\"white-space:pre;overflow-x:auto;line-height:normal;font-family:Menlo,'DejaVu Sans Mono',consolas,'Courier New',monospace\">\n",
       "\n",
       "To print summary of associated AnnData, use: <span style=\"color: #af00d7; text-decoration-color: #af00d7\">scvi.data.view_anndata_setup(model.adata)</span>\n",
       "</pre>\n"
      ],
      "text/plain": [
       "\n",
       "\n",
       "To print summary of associated AnnData, use: \u001b[38;5;128mscvi.data.view_anndata_setup(model.adata)\u001b[0m\n"
      ]
     },
     "metadata": {},
     "output_type": "display_data"
    },
    {
     "data": {
      "text/plain": []
     },
     "execution_count": 62,
     "metadata": {},
     "output_type": "execute_result"
    }
   ],
   "source": [
    "models[20]"
   ]
  },
  {
   "cell_type": "code",
   "execution_count": 63,
   "metadata": {},
   "outputs": [
    {
     "data": {
      "text/html": [
       "<pre style=\"white-space:pre;overflow-x:auto;line-height:normal;font-family:Menlo,'DejaVu Sans Mono',consolas,'Courier New',monospace\">SCVI Model with the following params: \n",
       "n_hidden: <span style=\"color: #008080; text-decoration-color: #008080; font-weight: bold\">128</span>, n_latent: <span style=\"color: #008080; text-decoration-color: #008080; font-weight: bold\">30</span>, n_layers: <span style=\"color: #008080; text-decoration-color: #008080; font-weight: bold\">1</span>, dropout_rate: <span style=\"color: #008080; text-decoration-color: #008080; font-weight: bold\">0.1</span>, dispersion: gene, \n",
       "gene_likelihood: zinb, latent_distribution: normal\n",
       "Training status: Not Trained\n",
       "</pre>\n"
      ],
      "text/plain": [
       "SCVI Model with the following params: \n",
       "n_hidden: \u001b[1;36m128\u001b[0m, n_latent: \u001b[1;36m30\u001b[0m, n_layers: \u001b[1;36m1\u001b[0m, dropout_rate: \u001b[1;36m0.1\u001b[0m, dispersion: gene, \n",
       "gene_likelihood: zinb, latent_distribution: normal\n",
       "Training status: Not Trained\n"
      ]
     },
     "metadata": {},
     "output_type": "display_data"
    },
    {
     "data": {
      "text/html": [
       "<pre style=\"white-space:pre;overflow-x:auto;line-height:normal;font-family:Menlo,'DejaVu Sans Mono',consolas,'Courier New',monospace\">\n",
       "\n",
       "To print summary of associated AnnData, use: <span style=\"color: #af00d7; text-decoration-color: #af00d7\">scvi.data.view_anndata_setup(model.adata)</span>\n",
       "</pre>\n"
      ],
      "text/plain": [
       "\n",
       "\n",
       "To print summary of associated AnnData, use: \u001b[38;5;128mscvi.data.view_anndata_setup(model.adata)\u001b[0m\n"
      ]
     },
     "metadata": {},
     "output_type": "display_data"
    },
    {
     "data": {
      "text/plain": []
     },
     "execution_count": 63,
     "metadata": {},
     "output_type": "execute_result"
    }
   ],
   "source": [
    "models[30]"
   ]
  },
  {
   "cell_type": "code",
   "execution_count": 64,
   "metadata": {},
   "outputs": [
    {
     "data": {
      "text/html": [
       "<pre style=\"white-space:pre;overflow-x:auto;line-height:normal;font-family:Menlo,'DejaVu Sans Mono',consolas,'Courier New',monospace\">SCVI Model with the following params: \n",
       "n_hidden: <span style=\"color: #008080; text-decoration-color: #008080; font-weight: bold\">128</span>, n_latent: <span style=\"color: #008080; text-decoration-color: #008080; font-weight: bold\">40</span>, n_layers: <span style=\"color: #008080; text-decoration-color: #008080; font-weight: bold\">1</span>, dropout_rate: <span style=\"color: #008080; text-decoration-color: #008080; font-weight: bold\">0.1</span>, dispersion: gene, \n",
       "gene_likelihood: zinb, latent_distribution: normal\n",
       "Training status: Not Trained\n",
       "</pre>\n"
      ],
      "text/plain": [
       "SCVI Model with the following params: \n",
       "n_hidden: \u001b[1;36m128\u001b[0m, n_latent: \u001b[1;36m40\u001b[0m, n_layers: \u001b[1;36m1\u001b[0m, dropout_rate: \u001b[1;36m0.1\u001b[0m, dispersion: gene, \n",
       "gene_likelihood: zinb, latent_distribution: normal\n",
       "Training status: Not Trained\n"
      ]
     },
     "metadata": {},
     "output_type": "display_data"
    },
    {
     "data": {
      "text/html": [
       "<pre style=\"white-space:pre;overflow-x:auto;line-height:normal;font-family:Menlo,'DejaVu Sans Mono',consolas,'Courier New',monospace\">\n",
       "\n",
       "To print summary of associated AnnData, use: <span style=\"color: #af00d7; text-decoration-color: #af00d7\">scvi.data.view_anndata_setup(model.adata)</span>\n",
       "</pre>\n"
      ],
      "text/plain": [
       "\n",
       "\n",
       "To print summary of associated AnnData, use: \u001b[38;5;128mscvi.data.view_anndata_setup(model.adata)\u001b[0m\n"
      ]
     },
     "metadata": {},
     "output_type": "display_data"
    },
    {
     "data": {
      "text/plain": []
     },
     "execution_count": 64,
     "metadata": {},
     "output_type": "execute_result"
    }
   ],
   "source": [
    "models[40]"
   ]
  },
  {
   "cell_type": "code",
   "execution_count": 65,
   "metadata": {
    "scrolled": true
   },
   "outputs": [
    {
     "name": "stderr",
     "output_type": "stream",
     "text": [
      "GPU available: True, used: True\n",
      "TPU available: False, using: 0 TPU cores\n",
      "LOCAL_RANK: 0 - CUDA_VISIBLE_DEVICES: [0]\n"
     ]
    },
    {
     "name": "stdout",
     "output_type": "stream",
     "text": [
      "training model for n_latent_value: 5\n",
      "Epoch 253/253: 100%|██████████████████████████████████████████████████████████████████████| 253/253 [07:03<00:00,  1.67s/it, loss=994, v_num=1]\n"
     ]
    },
    {
     "name": "stderr",
     "output_type": "stream",
     "text": [
      "GPU available: True, used: True\n",
      "TPU available: False, using: 0 TPU cores\n",
      "LOCAL_RANK: 0 - CUDA_VISIBLE_DEVICES: [0]\n"
     ]
    },
    {
     "name": "stdout",
     "output_type": "stream",
     "text": [
      "training model for n_latent_value: 10\n",
      "Epoch 253/253: 100%|██████████████████████████████████████████████████████████████████████| 253/253 [07:04<00:00,  1.68s/it, loss=988, v_num=1]\n"
     ]
    },
    {
     "name": "stderr",
     "output_type": "stream",
     "text": [
      "GPU available: True, used: True\n",
      "TPU available: False, using: 0 TPU cores\n",
      "LOCAL_RANK: 0 - CUDA_VISIBLE_DEVICES: [0]\n"
     ]
    },
    {
     "name": "stdout",
     "output_type": "stream",
     "text": [
      "training model for n_latent_value: 15\n",
      "Epoch 253/253: 100%|████████████████████████████████████████████████████████████████████| 253/253 [07:05<00:00,  1.68s/it, loss=1e+03, v_num=1]\n"
     ]
    },
    {
     "name": "stderr",
     "output_type": "stream",
     "text": [
      "GPU available: True, used: True\n",
      "TPU available: False, using: 0 TPU cores\n",
      "LOCAL_RANK: 0 - CUDA_VISIBLE_DEVICES: [0]\n"
     ]
    },
    {
     "name": "stdout",
     "output_type": "stream",
     "text": [
      "training model for n_latent_value: 20\n",
      "Epoch 253/253: 100%|██████████████████████████████████████████████████████████████████████| 253/253 [07:04<00:00,  1.68s/it, loss=970, v_num=1]\n"
     ]
    },
    {
     "name": "stderr",
     "output_type": "stream",
     "text": [
      "GPU available: True, used: True\n",
      "TPU available: False, using: 0 TPU cores\n",
      "LOCAL_RANK: 0 - CUDA_VISIBLE_DEVICES: [0]\n"
     ]
    },
    {
     "name": "stdout",
     "output_type": "stream",
     "text": [
      "training model for n_latent_value: 30\n",
      "Epoch 253/253: 100%|██████████████████████████████████████████████████████████████████████| 253/253 [07:05<00:00,  1.68s/it, loss=980, v_num=1]\n"
     ]
    },
    {
     "name": "stderr",
     "output_type": "stream",
     "text": [
      "GPU available: True, used: True\n",
      "TPU available: False, using: 0 TPU cores\n",
      "LOCAL_RANK: 0 - CUDA_VISIBLE_DEVICES: [0]\n"
     ]
    },
    {
     "name": "stdout",
     "output_type": "stream",
     "text": [
      "training model for n_latent_value: 40\n",
      "Epoch 253/253: 100%|██████████████████████████████████████████████████████████████████████| 253/253 [07:05<00:00,  1.68s/it, loss=972, v_num=1]\n"
     ]
    }
   ],
   "source": [
    "latent_representations = {}\n",
    "\n",
    "for n_latent_value in n_latent_values:\n",
    "    print('training model for n_latent_value:', n_latent_value)\n",
    "    models[n_latent_value].train()\n",
    "    \n",
    "    # get latent representation as a dataframe\n",
    "    latent_representations[n_latent_value] = models[n_latent_value].get_latent_representation()\n",
    "    \n",
    "    # add it to the adata object\n",
    "    adata.obsm[\"X_scVI_n_latent_\" + str(n_latent_value)] = latent_representations[n_latent_value]\n",
    "    curr_df = pd.DataFrame(adata.obsm[\"X_scVI_n_latent_\" + str(n_latent_value)])\n",
    "    \n",
    "    # save the latent representation\n",
    "    curr_df.to_csv('./20210801_obsm_with_scVI_latent_representation_n_' + str(n_latent_value) + '_NO_CYTONIKE_after_CCG_removal_and_all_doublet_exclusion_with_LF_gene_filter_only_VCT_EVT_branch.csv')\n",
    "    "
   ]
  },
  {
   "cell_type": "code",
   "execution_count": null,
   "metadata": {},
   "outputs": [],
   "source": []
  },
  {
   "cell_type": "code",
   "execution_count": null,
   "metadata": {},
   "outputs": [],
   "source": []
  },
  {
   "cell_type": "code",
   "execution_count": null,
   "metadata": {},
   "outputs": [],
   "source": []
  },
  {
   "cell_type": "code",
   "execution_count": null,
   "metadata": {},
   "outputs": [],
   "source": []
  },
  {
   "cell_type": "markdown",
   "metadata": {},
   "source": [
    "### 01.08.2021, running scVI after excluding soupy genes based on sample 30 and excluding cluster `mix` (acc to annotation done in notebook S4)"
   ]
  },
  {
   "cell_type": "code",
   "execution_count": 42,
   "metadata": {},
   "outputs": [
    {
     "name": "stdout",
     "output_type": "stream",
     "text": [
      "n_latent_value 5\n",
      "n_latent_value 10\n",
      "n_latent_value 15\n",
      "n_latent_value 20\n",
      "n_latent_value 30\n",
      "n_latent_value 40\n"
     ]
    }
   ],
   "source": [
    "models = {}\n",
    "\n",
    "# Valentina said n_latent = 10 worked for her well, let's try a few values\n",
    "n_latent_values = [5, 10, 15, 20, 30, 40]\n",
    "\n",
    "for n_latent_value in n_latent_values:\n",
    "    print('n_latent_value', n_latent_value)\n",
    "    models[n_latent_value] = scvi.model.SCVI(adata, n_latent = n_latent_value)"
   ]
  },
  {
   "cell_type": "code",
   "execution_count": 43,
   "metadata": {
    "scrolled": true
   },
   "outputs": [
    {
     "data": {
      "text/html": [
       "<pre style=\"white-space:pre;overflow-x:auto;line-height:normal;font-family:Menlo,'DejaVu Sans Mono',consolas,'Courier New',monospace\">SCVI Model with the following params: \n",
       "n_hidden: <span style=\"color: #008080; text-decoration-color: #008080; font-weight: bold\">128</span>, n_latent: <span style=\"color: #008080; text-decoration-color: #008080; font-weight: bold\">5</span>, n_layers: <span style=\"color: #008080; text-decoration-color: #008080; font-weight: bold\">1</span>, dropout_rate: <span style=\"color: #008080; text-decoration-color: #008080; font-weight: bold\">0.1</span>, dispersion: gene, \n",
       "gene_likelihood: zinb, latent_distribution: normal\n",
       "Training status: Not Trained\n",
       "</pre>\n"
      ],
      "text/plain": [
       "SCVI Model with the following params: \n",
       "n_hidden: \u001b[1;36m128\u001b[0m, n_latent: \u001b[1;36m5\u001b[0m, n_layers: \u001b[1;36m1\u001b[0m, dropout_rate: \u001b[1;36m0.1\u001b[0m, dispersion: gene, \n",
       "gene_likelihood: zinb, latent_distribution: normal\n",
       "Training status: Not Trained\n"
      ]
     },
     "metadata": {},
     "output_type": "display_data"
    },
    {
     "data": {
      "text/html": [
       "<pre style=\"white-space:pre;overflow-x:auto;line-height:normal;font-family:Menlo,'DejaVu Sans Mono',consolas,'Courier New',monospace\">\n",
       "\n",
       "To print summary of associated AnnData, use: <span style=\"color: #af00d7; text-decoration-color: #af00d7\">scvi.data.view_anndata_setup(model.adata)</span>\n",
       "</pre>\n"
      ],
      "text/plain": [
       "\n",
       "\n",
       "To print summary of associated AnnData, use: \u001b[38;5;128mscvi.data.view_anndata_setup(model.adata)\u001b[0m\n"
      ]
     },
     "metadata": {},
     "output_type": "display_data"
    },
    {
     "data": {
      "text/plain": []
     },
     "execution_count": 43,
     "metadata": {},
     "output_type": "execute_result"
    }
   ],
   "source": [
    "models[5]"
   ]
  },
  {
   "cell_type": "code",
   "execution_count": 44,
   "metadata": {},
   "outputs": [
    {
     "data": {
      "text/html": [
       "<pre style=\"white-space:pre;overflow-x:auto;line-height:normal;font-family:Menlo,'DejaVu Sans Mono',consolas,'Courier New',monospace\">SCVI Model with the following params: \n",
       "n_hidden: <span style=\"color: #008080; text-decoration-color: #008080; font-weight: bold\">128</span>, n_latent: <span style=\"color: #008080; text-decoration-color: #008080; font-weight: bold\">10</span>, n_layers: <span style=\"color: #008080; text-decoration-color: #008080; font-weight: bold\">1</span>, dropout_rate: <span style=\"color: #008080; text-decoration-color: #008080; font-weight: bold\">0.1</span>, dispersion: gene, \n",
       "gene_likelihood: zinb, latent_distribution: normal\n",
       "Training status: Not Trained\n",
       "</pre>\n"
      ],
      "text/plain": [
       "SCVI Model with the following params: \n",
       "n_hidden: \u001b[1;36m128\u001b[0m, n_latent: \u001b[1;36m10\u001b[0m, n_layers: \u001b[1;36m1\u001b[0m, dropout_rate: \u001b[1;36m0.1\u001b[0m, dispersion: gene, \n",
       "gene_likelihood: zinb, latent_distribution: normal\n",
       "Training status: Not Trained\n"
      ]
     },
     "metadata": {},
     "output_type": "display_data"
    },
    {
     "data": {
      "text/html": [
       "<pre style=\"white-space:pre;overflow-x:auto;line-height:normal;font-family:Menlo,'DejaVu Sans Mono',consolas,'Courier New',monospace\">\n",
       "\n",
       "To print summary of associated AnnData, use: <span style=\"color: #af00d7; text-decoration-color: #af00d7\">scvi.data.view_anndata_setup(model.adata)</span>\n",
       "</pre>\n"
      ],
      "text/plain": [
       "\n",
       "\n",
       "To print summary of associated AnnData, use: \u001b[38;5;128mscvi.data.view_anndata_setup(model.adata)\u001b[0m\n"
      ]
     },
     "metadata": {},
     "output_type": "display_data"
    },
    {
     "data": {
      "text/plain": []
     },
     "execution_count": 44,
     "metadata": {},
     "output_type": "execute_result"
    }
   ],
   "source": [
    "models[10]"
   ]
  },
  {
   "cell_type": "code",
   "execution_count": 45,
   "metadata": {},
   "outputs": [
    {
     "data": {
      "text/html": [
       "<pre style=\"white-space:pre;overflow-x:auto;line-height:normal;font-family:Menlo,'DejaVu Sans Mono',consolas,'Courier New',monospace\">SCVI Model with the following params: \n",
       "n_hidden: <span style=\"color: #008080; text-decoration-color: #008080; font-weight: bold\">128</span>, n_latent: <span style=\"color: #008080; text-decoration-color: #008080; font-weight: bold\">15</span>, n_layers: <span style=\"color: #008080; text-decoration-color: #008080; font-weight: bold\">1</span>, dropout_rate: <span style=\"color: #008080; text-decoration-color: #008080; font-weight: bold\">0.1</span>, dispersion: gene, \n",
       "gene_likelihood: zinb, latent_distribution: normal\n",
       "Training status: Not Trained\n",
       "</pre>\n"
      ],
      "text/plain": [
       "SCVI Model with the following params: \n",
       "n_hidden: \u001b[1;36m128\u001b[0m, n_latent: \u001b[1;36m15\u001b[0m, n_layers: \u001b[1;36m1\u001b[0m, dropout_rate: \u001b[1;36m0.1\u001b[0m, dispersion: gene, \n",
       "gene_likelihood: zinb, latent_distribution: normal\n",
       "Training status: Not Trained\n"
      ]
     },
     "metadata": {},
     "output_type": "display_data"
    },
    {
     "data": {
      "text/html": [
       "<pre style=\"white-space:pre;overflow-x:auto;line-height:normal;font-family:Menlo,'DejaVu Sans Mono',consolas,'Courier New',monospace\">\n",
       "\n",
       "To print summary of associated AnnData, use: <span style=\"color: #af00d7; text-decoration-color: #af00d7\">scvi.data.view_anndata_setup(model.adata)</span>\n",
       "</pre>\n"
      ],
      "text/plain": [
       "\n",
       "\n",
       "To print summary of associated AnnData, use: \u001b[38;5;128mscvi.data.view_anndata_setup(model.adata)\u001b[0m\n"
      ]
     },
     "metadata": {},
     "output_type": "display_data"
    },
    {
     "data": {
      "text/plain": []
     },
     "execution_count": 45,
     "metadata": {},
     "output_type": "execute_result"
    }
   ],
   "source": [
    "models[15]"
   ]
  },
  {
   "cell_type": "code",
   "execution_count": 46,
   "metadata": {},
   "outputs": [
    {
     "data": {
      "text/html": [
       "<pre style=\"white-space:pre;overflow-x:auto;line-height:normal;font-family:Menlo,'DejaVu Sans Mono',consolas,'Courier New',monospace\">SCVI Model with the following params: \n",
       "n_hidden: <span style=\"color: #008080; text-decoration-color: #008080; font-weight: bold\">128</span>, n_latent: <span style=\"color: #008080; text-decoration-color: #008080; font-weight: bold\">20</span>, n_layers: <span style=\"color: #008080; text-decoration-color: #008080; font-weight: bold\">1</span>, dropout_rate: <span style=\"color: #008080; text-decoration-color: #008080; font-weight: bold\">0.1</span>, dispersion: gene, \n",
       "gene_likelihood: zinb, latent_distribution: normal\n",
       "Training status: Not Trained\n",
       "</pre>\n"
      ],
      "text/plain": [
       "SCVI Model with the following params: \n",
       "n_hidden: \u001b[1;36m128\u001b[0m, n_latent: \u001b[1;36m20\u001b[0m, n_layers: \u001b[1;36m1\u001b[0m, dropout_rate: \u001b[1;36m0.1\u001b[0m, dispersion: gene, \n",
       "gene_likelihood: zinb, latent_distribution: normal\n",
       "Training status: Not Trained\n"
      ]
     },
     "metadata": {},
     "output_type": "display_data"
    },
    {
     "data": {
      "text/html": [
       "<pre style=\"white-space:pre;overflow-x:auto;line-height:normal;font-family:Menlo,'DejaVu Sans Mono',consolas,'Courier New',monospace\">\n",
       "\n",
       "To print summary of associated AnnData, use: <span style=\"color: #af00d7; text-decoration-color: #af00d7\">scvi.data.view_anndata_setup(model.adata)</span>\n",
       "</pre>\n"
      ],
      "text/plain": [
       "\n",
       "\n",
       "To print summary of associated AnnData, use: \u001b[38;5;128mscvi.data.view_anndata_setup(model.adata)\u001b[0m\n"
      ]
     },
     "metadata": {},
     "output_type": "display_data"
    },
    {
     "data": {
      "text/plain": []
     },
     "execution_count": 46,
     "metadata": {},
     "output_type": "execute_result"
    }
   ],
   "source": [
    "models[20]"
   ]
  },
  {
   "cell_type": "code",
   "execution_count": 47,
   "metadata": {},
   "outputs": [
    {
     "data": {
      "text/html": [
       "<pre style=\"white-space:pre;overflow-x:auto;line-height:normal;font-family:Menlo,'DejaVu Sans Mono',consolas,'Courier New',monospace\">SCVI Model with the following params: \n",
       "n_hidden: <span style=\"color: #008080; text-decoration-color: #008080; font-weight: bold\">128</span>, n_latent: <span style=\"color: #008080; text-decoration-color: #008080; font-weight: bold\">30</span>, n_layers: <span style=\"color: #008080; text-decoration-color: #008080; font-weight: bold\">1</span>, dropout_rate: <span style=\"color: #008080; text-decoration-color: #008080; font-weight: bold\">0.1</span>, dispersion: gene, \n",
       "gene_likelihood: zinb, latent_distribution: normal\n",
       "Training status: Not Trained\n",
       "</pre>\n"
      ],
      "text/plain": [
       "SCVI Model with the following params: \n",
       "n_hidden: \u001b[1;36m128\u001b[0m, n_latent: \u001b[1;36m30\u001b[0m, n_layers: \u001b[1;36m1\u001b[0m, dropout_rate: \u001b[1;36m0.1\u001b[0m, dispersion: gene, \n",
       "gene_likelihood: zinb, latent_distribution: normal\n",
       "Training status: Not Trained\n"
      ]
     },
     "metadata": {},
     "output_type": "display_data"
    },
    {
     "data": {
      "text/html": [
       "<pre style=\"white-space:pre;overflow-x:auto;line-height:normal;font-family:Menlo,'DejaVu Sans Mono',consolas,'Courier New',monospace\">\n",
       "\n",
       "To print summary of associated AnnData, use: <span style=\"color: #af00d7; text-decoration-color: #af00d7\">scvi.data.view_anndata_setup(model.adata)</span>\n",
       "</pre>\n"
      ],
      "text/plain": [
       "\n",
       "\n",
       "To print summary of associated AnnData, use: \u001b[38;5;128mscvi.data.view_anndata_setup(model.adata)\u001b[0m\n"
      ]
     },
     "metadata": {},
     "output_type": "display_data"
    },
    {
     "data": {
      "text/plain": []
     },
     "execution_count": 47,
     "metadata": {},
     "output_type": "execute_result"
    }
   ],
   "source": [
    "models[30]"
   ]
  },
  {
   "cell_type": "code",
   "execution_count": 48,
   "metadata": {},
   "outputs": [
    {
     "data": {
      "text/html": [
       "<pre style=\"white-space:pre;overflow-x:auto;line-height:normal;font-family:Menlo,'DejaVu Sans Mono',consolas,'Courier New',monospace\">SCVI Model with the following params: \n",
       "n_hidden: <span style=\"color: #008080; text-decoration-color: #008080; font-weight: bold\">128</span>, n_latent: <span style=\"color: #008080; text-decoration-color: #008080; font-weight: bold\">40</span>, n_layers: <span style=\"color: #008080; text-decoration-color: #008080; font-weight: bold\">1</span>, dropout_rate: <span style=\"color: #008080; text-decoration-color: #008080; font-weight: bold\">0.1</span>, dispersion: gene, \n",
       "gene_likelihood: zinb, latent_distribution: normal\n",
       "Training status: Not Trained\n",
       "</pre>\n"
      ],
      "text/plain": [
       "SCVI Model with the following params: \n",
       "n_hidden: \u001b[1;36m128\u001b[0m, n_latent: \u001b[1;36m40\u001b[0m, n_layers: \u001b[1;36m1\u001b[0m, dropout_rate: \u001b[1;36m0.1\u001b[0m, dispersion: gene, \n",
       "gene_likelihood: zinb, latent_distribution: normal\n",
       "Training status: Not Trained\n"
      ]
     },
     "metadata": {},
     "output_type": "display_data"
    },
    {
     "data": {
      "text/html": [
       "<pre style=\"white-space:pre;overflow-x:auto;line-height:normal;font-family:Menlo,'DejaVu Sans Mono',consolas,'Courier New',monospace\">\n",
       "\n",
       "To print summary of associated AnnData, use: <span style=\"color: #af00d7; text-decoration-color: #af00d7\">scvi.data.view_anndata_setup(model.adata)</span>\n",
       "</pre>\n"
      ],
      "text/plain": [
       "\n",
       "\n",
       "To print summary of associated AnnData, use: \u001b[38;5;128mscvi.data.view_anndata_setup(model.adata)\u001b[0m\n"
      ]
     },
     "metadata": {},
     "output_type": "display_data"
    },
    {
     "data": {
      "text/plain": []
     },
     "execution_count": 48,
     "metadata": {},
     "output_type": "execute_result"
    }
   ],
   "source": [
    "models[40]"
   ]
  },
  {
   "cell_type": "code",
   "execution_count": 49,
   "metadata": {
    "scrolled": true
   },
   "outputs": [
    {
     "name": "stderr",
     "output_type": "stream",
     "text": [
      "GPU available: True, used: True\n",
      "TPU available: False, using: 0 TPU cores\n",
      "LOCAL_RANK: 0 - CUDA_VISIBLE_DEVICES: [0]\n"
     ]
    },
    {
     "name": "stdout",
     "output_type": "stream",
     "text": [
      "training model for n_latent_value: 5\n",
      "Epoch 213/213: 100%|██████████████████████████████████████████████████████████████████████| 213/213 [07:01<00:00,  1.98s/it, loss=909, v_num=1]\n"
     ]
    },
    {
     "name": "stderr",
     "output_type": "stream",
     "text": [
      "GPU available: True, used: True\n",
      "TPU available: False, using: 0 TPU cores\n",
      "LOCAL_RANK: 0 - CUDA_VISIBLE_DEVICES: [0]\n"
     ]
    },
    {
     "name": "stdout",
     "output_type": "stream",
     "text": [
      "training model for n_latent_value: 10\n",
      "Epoch 213/213: 100%|██████████████████████████████████████████████████████████████████████| 213/213 [07:02<00:00,  1.98s/it, loss=906, v_num=1]\n"
     ]
    },
    {
     "name": "stderr",
     "output_type": "stream",
     "text": [
      "GPU available: True, used: True\n",
      "TPU available: False, using: 0 TPU cores\n",
      "LOCAL_RANK: 0 - CUDA_VISIBLE_DEVICES: [0]\n"
     ]
    },
    {
     "name": "stdout",
     "output_type": "stream",
     "text": [
      "training model for n_latent_value: 15\n",
      "Epoch 213/213: 100%|██████████████████████████████████████████████████████████████████████| 213/213 [07:02<00:00,  1.98s/it, loss=899, v_num=1]\n"
     ]
    },
    {
     "name": "stderr",
     "output_type": "stream",
     "text": [
      "GPU available: True, used: True\n",
      "TPU available: False, using: 0 TPU cores\n",
      "LOCAL_RANK: 0 - CUDA_VISIBLE_DEVICES: [0]\n"
     ]
    },
    {
     "name": "stdout",
     "output_type": "stream",
     "text": [
      "training model for n_latent_value: 20\n",
      "Epoch 213/213: 100%|██████████████████████████████████████████████████████████████████████| 213/213 [07:02<00:00,  1.98s/it, loss=915, v_num=1]\n"
     ]
    },
    {
     "name": "stderr",
     "output_type": "stream",
     "text": [
      "GPU available: True, used: True\n",
      "TPU available: False, using: 0 TPU cores\n",
      "LOCAL_RANK: 0 - CUDA_VISIBLE_DEVICES: [0]\n"
     ]
    },
    {
     "name": "stdout",
     "output_type": "stream",
     "text": [
      "training model for n_latent_value: 30\n",
      "Epoch 213/213: 100%|██████████████████████████████████████████████████████████████████████| 213/213 [07:02<00:00,  1.98s/it, loss=914, v_num=1]\n"
     ]
    },
    {
     "name": "stderr",
     "output_type": "stream",
     "text": [
      "GPU available: True, used: True\n",
      "TPU available: False, using: 0 TPU cores\n",
      "LOCAL_RANK: 0 - CUDA_VISIBLE_DEVICES: [0]\n"
     ]
    },
    {
     "name": "stdout",
     "output_type": "stream",
     "text": [
      "training model for n_latent_value: 40\n",
      "Epoch 213/213: 100%|██████████████████████████████████████████████████████████████████████| 213/213 [07:02<00:00,  1.98s/it, loss=920, v_num=1]\n"
     ]
    }
   ],
   "source": [
    "latent_representations = {}\n",
    "\n",
    "for n_latent_value in n_latent_values:\n",
    "    print('training model for n_latent_value:', n_latent_value)\n",
    "    models[n_latent_value].train()\n",
    "    \n",
    "    # get latent representation as a dataframe\n",
    "    latent_representations[n_latent_value] = models[n_latent_value].get_latent_representation()\n",
    "    \n",
    "    # add it to the adata object\n",
    "    adata.obsm[\"X_scVI_n_latent_\" + str(n_latent_value)] = latent_representations[n_latent_value]\n",
    "    curr_df = pd.DataFrame(adata.obsm[\"X_scVI_n_latent_\" + str(n_latent_value)])\n",
    "    \n",
    "    # save the latent representation\n",
    "    curr_df.to_csv('./20210801_obsm_with_scVI_latent_representation_n_' + str(n_latent_value) + '_NO_CYTONIKE_after_CCG_removal_and_all_doublet_exclusion_with_LF_gene_filter_and_excluding_mix_cluster.csv')"
   ]
  },
  {
   "cell_type": "code",
   "execution_count": null,
   "metadata": {},
   "outputs": [],
   "source": []
  },
  {
   "cell_type": "code",
   "execution_count": null,
   "metadata": {},
   "outputs": [],
   "source": []
  },
  {
   "cell_type": "code",
   "execution_count": null,
   "metadata": {},
   "outputs": [],
   "source": []
  },
  {
   "cell_type": "code",
   "execution_count": null,
   "metadata": {},
   "outputs": [],
   "source": []
  },
  {
   "cell_type": "code",
   "execution_count": null,
   "metadata": {},
   "outputs": [],
   "source": []
  },
  {
   "cell_type": "code",
   "execution_count": null,
   "metadata": {},
   "outputs": [],
   "source": []
  },
  {
   "cell_type": "code",
   "execution_count": null,
   "metadata": {},
   "outputs": [],
   "source": []
  },
  {
   "cell_type": "code",
   "execution_count": null,
   "metadata": {},
   "outputs": [],
   "source": []
  },
  {
   "cell_type": "code",
   "execution_count": null,
   "metadata": {},
   "outputs": [],
   "source": []
  },
  {
   "cell_type": "code",
   "execution_count": null,
   "metadata": {},
   "outputs": [],
   "source": []
  },
  {
   "cell_type": "markdown",
   "metadata": {},
   "source": [
    "### 29.07.2021, running scVI after excluding soupy genes based on sample 30 AND genes common b/w mix population and empty droplets (for more detail see notebooks S4 and S5)"
   ]
  },
  {
   "cell_type": "code",
   "execution_count": 33,
   "metadata": {},
   "outputs": [
    {
     "name": "stdout",
     "output_type": "stream",
     "text": [
      "n_latent_value 5\n",
      "n_latent_value 10\n",
      "n_latent_value 15\n",
      "n_latent_value 20\n",
      "n_latent_value 30\n",
      "n_latent_value 40\n"
     ]
    }
   ],
   "source": [
    "models = {}\n",
    "\n",
    "# Valentina said n_latent = 10 worked for her well, let's try a few values\n",
    "n_latent_values = [5, 10, 15, 20, 30, 40]\n",
    "\n",
    "for n_latent_value in n_latent_values:\n",
    "    print('n_latent_value', n_latent_value)\n",
    "    models[n_latent_value] = scvi.model.SCVI(adata, n_latent = n_latent_value)"
   ]
  },
  {
   "cell_type": "code",
   "execution_count": 34,
   "metadata": {
    "scrolled": true
   },
   "outputs": [
    {
     "data": {
      "text/html": [
       "<pre style=\"white-space:pre;overflow-x:auto;line-height:normal;font-family:Menlo,'DejaVu Sans Mono',consolas,'Courier New',monospace\">SCVI Model with the following params: \n",
       "n_hidden: <span style=\"color: #008080; text-decoration-color: #008080; font-weight: bold\">128</span>, n_latent: <span style=\"color: #008080; text-decoration-color: #008080; font-weight: bold\">5</span>, n_layers: <span style=\"color: #008080; text-decoration-color: #008080; font-weight: bold\">1</span>, dropout_rate: <span style=\"color: #008080; text-decoration-color: #008080; font-weight: bold\">0.1</span>, dispersion: gene, \n",
       "gene_likelihood: zinb, latent_distribution: normal\n",
       "Training status: Not Trained\n",
       "</pre>\n"
      ],
      "text/plain": [
       "SCVI Model with the following params: \n",
       "n_hidden: \u001b[1;36m128\u001b[0m, n_latent: \u001b[1;36m5\u001b[0m, n_layers: \u001b[1;36m1\u001b[0m, dropout_rate: \u001b[1;36m0.1\u001b[0m, dispersion: gene, \n",
       "gene_likelihood: zinb, latent_distribution: normal\n",
       "Training status: Not Trained\n"
      ]
     },
     "metadata": {},
     "output_type": "display_data"
    },
    {
     "data": {
      "text/html": [
       "<pre style=\"white-space:pre;overflow-x:auto;line-height:normal;font-family:Menlo,'DejaVu Sans Mono',consolas,'Courier New',monospace\">\n",
       "\n",
       "To print summary of associated AnnData, use: <span style=\"color: #af00d7; text-decoration-color: #af00d7\">scvi.data.view_anndata_setup(model.adata)</span>\n",
       "</pre>\n"
      ],
      "text/plain": [
       "\n",
       "\n",
       "To print summary of associated AnnData, use: \u001b[38;5;128mscvi.data.view_anndata_setup(model.adata)\u001b[0m\n"
      ]
     },
     "metadata": {},
     "output_type": "display_data"
    },
    {
     "data": {
      "text/plain": []
     },
     "execution_count": 34,
     "metadata": {},
     "output_type": "execute_result"
    }
   ],
   "source": [
    "models[5]"
   ]
  },
  {
   "cell_type": "code",
   "execution_count": 35,
   "metadata": {},
   "outputs": [
    {
     "data": {
      "text/html": [
       "<pre style=\"white-space:pre;overflow-x:auto;line-height:normal;font-family:Menlo,'DejaVu Sans Mono',consolas,'Courier New',monospace\">SCVI Model with the following params: \n",
       "n_hidden: <span style=\"color: #008080; text-decoration-color: #008080; font-weight: bold\">128</span>, n_latent: <span style=\"color: #008080; text-decoration-color: #008080; font-weight: bold\">10</span>, n_layers: <span style=\"color: #008080; text-decoration-color: #008080; font-weight: bold\">1</span>, dropout_rate: <span style=\"color: #008080; text-decoration-color: #008080; font-weight: bold\">0.1</span>, dispersion: gene, \n",
       "gene_likelihood: zinb, latent_distribution: normal\n",
       "Training status: Not Trained\n",
       "</pre>\n"
      ],
      "text/plain": [
       "SCVI Model with the following params: \n",
       "n_hidden: \u001b[1;36m128\u001b[0m, n_latent: \u001b[1;36m10\u001b[0m, n_layers: \u001b[1;36m1\u001b[0m, dropout_rate: \u001b[1;36m0.1\u001b[0m, dispersion: gene, \n",
       "gene_likelihood: zinb, latent_distribution: normal\n",
       "Training status: Not Trained\n"
      ]
     },
     "metadata": {},
     "output_type": "display_data"
    },
    {
     "data": {
      "text/html": [
       "<pre style=\"white-space:pre;overflow-x:auto;line-height:normal;font-family:Menlo,'DejaVu Sans Mono',consolas,'Courier New',monospace\">\n",
       "\n",
       "To print summary of associated AnnData, use: <span style=\"color: #af00d7; text-decoration-color: #af00d7\">scvi.data.view_anndata_setup(model.adata)</span>\n",
       "</pre>\n"
      ],
      "text/plain": [
       "\n",
       "\n",
       "To print summary of associated AnnData, use: \u001b[38;5;128mscvi.data.view_anndata_setup(model.adata)\u001b[0m\n"
      ]
     },
     "metadata": {},
     "output_type": "display_data"
    },
    {
     "data": {
      "text/plain": []
     },
     "execution_count": 35,
     "metadata": {},
     "output_type": "execute_result"
    }
   ],
   "source": [
    "models[10]"
   ]
  },
  {
   "cell_type": "code",
   "execution_count": 36,
   "metadata": {},
   "outputs": [
    {
     "data": {
      "text/html": [
       "<pre style=\"white-space:pre;overflow-x:auto;line-height:normal;font-family:Menlo,'DejaVu Sans Mono',consolas,'Courier New',monospace\">SCVI Model with the following params: \n",
       "n_hidden: <span style=\"color: #008080; text-decoration-color: #008080; font-weight: bold\">128</span>, n_latent: <span style=\"color: #008080; text-decoration-color: #008080; font-weight: bold\">15</span>, n_layers: <span style=\"color: #008080; text-decoration-color: #008080; font-weight: bold\">1</span>, dropout_rate: <span style=\"color: #008080; text-decoration-color: #008080; font-weight: bold\">0.1</span>, dispersion: gene, \n",
       "gene_likelihood: zinb, latent_distribution: normal\n",
       "Training status: Not Trained\n",
       "</pre>\n"
      ],
      "text/plain": [
       "SCVI Model with the following params: \n",
       "n_hidden: \u001b[1;36m128\u001b[0m, n_latent: \u001b[1;36m15\u001b[0m, n_layers: \u001b[1;36m1\u001b[0m, dropout_rate: \u001b[1;36m0.1\u001b[0m, dispersion: gene, \n",
       "gene_likelihood: zinb, latent_distribution: normal\n",
       "Training status: Not Trained\n"
      ]
     },
     "metadata": {},
     "output_type": "display_data"
    },
    {
     "data": {
      "text/html": [
       "<pre style=\"white-space:pre;overflow-x:auto;line-height:normal;font-family:Menlo,'DejaVu Sans Mono',consolas,'Courier New',monospace\">\n",
       "\n",
       "To print summary of associated AnnData, use: <span style=\"color: #af00d7; text-decoration-color: #af00d7\">scvi.data.view_anndata_setup(model.adata)</span>\n",
       "</pre>\n"
      ],
      "text/plain": [
       "\n",
       "\n",
       "To print summary of associated AnnData, use: \u001b[38;5;128mscvi.data.view_anndata_setup(model.adata)\u001b[0m\n"
      ]
     },
     "metadata": {},
     "output_type": "display_data"
    },
    {
     "data": {
      "text/plain": []
     },
     "execution_count": 36,
     "metadata": {},
     "output_type": "execute_result"
    }
   ],
   "source": [
    "models[15]"
   ]
  },
  {
   "cell_type": "code",
   "execution_count": 37,
   "metadata": {},
   "outputs": [
    {
     "data": {
      "text/html": [
       "<pre style=\"white-space:pre;overflow-x:auto;line-height:normal;font-family:Menlo,'DejaVu Sans Mono',consolas,'Courier New',monospace\">SCVI Model with the following params: \n",
       "n_hidden: <span style=\"color: #008080; text-decoration-color: #008080; font-weight: bold\">128</span>, n_latent: <span style=\"color: #008080; text-decoration-color: #008080; font-weight: bold\">20</span>, n_layers: <span style=\"color: #008080; text-decoration-color: #008080; font-weight: bold\">1</span>, dropout_rate: <span style=\"color: #008080; text-decoration-color: #008080; font-weight: bold\">0.1</span>, dispersion: gene, \n",
       "gene_likelihood: zinb, latent_distribution: normal\n",
       "Training status: Not Trained\n",
       "</pre>\n"
      ],
      "text/plain": [
       "SCVI Model with the following params: \n",
       "n_hidden: \u001b[1;36m128\u001b[0m, n_latent: \u001b[1;36m20\u001b[0m, n_layers: \u001b[1;36m1\u001b[0m, dropout_rate: \u001b[1;36m0.1\u001b[0m, dispersion: gene, \n",
       "gene_likelihood: zinb, latent_distribution: normal\n",
       "Training status: Not Trained\n"
      ]
     },
     "metadata": {},
     "output_type": "display_data"
    },
    {
     "data": {
      "text/html": [
       "<pre style=\"white-space:pre;overflow-x:auto;line-height:normal;font-family:Menlo,'DejaVu Sans Mono',consolas,'Courier New',monospace\">\n",
       "\n",
       "To print summary of associated AnnData, use: <span style=\"color: #af00d7; text-decoration-color: #af00d7\">scvi.data.view_anndata_setup(model.adata)</span>\n",
       "</pre>\n"
      ],
      "text/plain": [
       "\n",
       "\n",
       "To print summary of associated AnnData, use: \u001b[38;5;128mscvi.data.view_anndata_setup(model.adata)\u001b[0m\n"
      ]
     },
     "metadata": {},
     "output_type": "display_data"
    },
    {
     "data": {
      "text/plain": []
     },
     "execution_count": 37,
     "metadata": {},
     "output_type": "execute_result"
    }
   ],
   "source": [
    "models[20]"
   ]
  },
  {
   "cell_type": "code",
   "execution_count": 38,
   "metadata": {},
   "outputs": [
    {
     "data": {
      "text/html": [
       "<pre style=\"white-space:pre;overflow-x:auto;line-height:normal;font-family:Menlo,'DejaVu Sans Mono',consolas,'Courier New',monospace\">SCVI Model with the following params: \n",
       "n_hidden: <span style=\"color: #008080; text-decoration-color: #008080; font-weight: bold\">128</span>, n_latent: <span style=\"color: #008080; text-decoration-color: #008080; font-weight: bold\">30</span>, n_layers: <span style=\"color: #008080; text-decoration-color: #008080; font-weight: bold\">1</span>, dropout_rate: <span style=\"color: #008080; text-decoration-color: #008080; font-weight: bold\">0.1</span>, dispersion: gene, \n",
       "gene_likelihood: zinb, latent_distribution: normal\n",
       "Training status: Not Trained\n",
       "</pre>\n"
      ],
      "text/plain": [
       "SCVI Model with the following params: \n",
       "n_hidden: \u001b[1;36m128\u001b[0m, n_latent: \u001b[1;36m30\u001b[0m, n_layers: \u001b[1;36m1\u001b[0m, dropout_rate: \u001b[1;36m0.1\u001b[0m, dispersion: gene, \n",
       "gene_likelihood: zinb, latent_distribution: normal\n",
       "Training status: Not Trained\n"
      ]
     },
     "metadata": {},
     "output_type": "display_data"
    },
    {
     "data": {
      "text/html": [
       "<pre style=\"white-space:pre;overflow-x:auto;line-height:normal;font-family:Menlo,'DejaVu Sans Mono',consolas,'Courier New',monospace\">\n",
       "\n",
       "To print summary of associated AnnData, use: <span style=\"color: #af00d7; text-decoration-color: #af00d7\">scvi.data.view_anndata_setup(model.adata)</span>\n",
       "</pre>\n"
      ],
      "text/plain": [
       "\n",
       "\n",
       "To print summary of associated AnnData, use: \u001b[38;5;128mscvi.data.view_anndata_setup(model.adata)\u001b[0m\n"
      ]
     },
     "metadata": {},
     "output_type": "display_data"
    },
    {
     "data": {
      "text/plain": []
     },
     "execution_count": 38,
     "metadata": {},
     "output_type": "execute_result"
    }
   ],
   "source": [
    "models[30]"
   ]
  },
  {
   "cell_type": "code",
   "execution_count": 39,
   "metadata": {},
   "outputs": [
    {
     "data": {
      "text/html": [
       "<pre style=\"white-space:pre;overflow-x:auto;line-height:normal;font-family:Menlo,'DejaVu Sans Mono',consolas,'Courier New',monospace\">SCVI Model with the following params: \n",
       "n_hidden: <span style=\"color: #008080; text-decoration-color: #008080; font-weight: bold\">128</span>, n_latent: <span style=\"color: #008080; text-decoration-color: #008080; font-weight: bold\">40</span>, n_layers: <span style=\"color: #008080; text-decoration-color: #008080; font-weight: bold\">1</span>, dropout_rate: <span style=\"color: #008080; text-decoration-color: #008080; font-weight: bold\">0.1</span>, dispersion: gene, \n",
       "gene_likelihood: zinb, latent_distribution: normal\n",
       "Training status: Not Trained\n",
       "</pre>\n"
      ],
      "text/plain": [
       "SCVI Model with the following params: \n",
       "n_hidden: \u001b[1;36m128\u001b[0m, n_latent: \u001b[1;36m40\u001b[0m, n_layers: \u001b[1;36m1\u001b[0m, dropout_rate: \u001b[1;36m0.1\u001b[0m, dispersion: gene, \n",
       "gene_likelihood: zinb, latent_distribution: normal\n",
       "Training status: Not Trained\n"
      ]
     },
     "metadata": {},
     "output_type": "display_data"
    },
    {
     "data": {
      "text/html": [
       "<pre style=\"white-space:pre;overflow-x:auto;line-height:normal;font-family:Menlo,'DejaVu Sans Mono',consolas,'Courier New',monospace\">\n",
       "\n",
       "To print summary of associated AnnData, use: <span style=\"color: #af00d7; text-decoration-color: #af00d7\">scvi.data.view_anndata_setup(model.adata)</span>\n",
       "</pre>\n"
      ],
      "text/plain": [
       "\n",
       "\n",
       "To print summary of associated AnnData, use: \u001b[38;5;128mscvi.data.view_anndata_setup(model.adata)\u001b[0m\n"
      ]
     },
     "metadata": {},
     "output_type": "display_data"
    },
    {
     "data": {
      "text/plain": []
     },
     "execution_count": 39,
     "metadata": {},
     "output_type": "execute_result"
    }
   ],
   "source": [
    "models[40]"
   ]
  },
  {
   "cell_type": "code",
   "execution_count": 40,
   "metadata": {
    "scrolled": true
   },
   "outputs": [
    {
     "name": "stderr",
     "output_type": "stream",
     "text": [
      "GPU available: True, used: True\n",
      "TPU available: False, using: 0 TPU cores\n",
      "LOCAL_RANK: 0 - CUDA_VISIBLE_DEVICES: [0]\n"
     ]
    },
    {
     "name": "stdout",
     "output_type": "stream",
     "text": [
      "training model for n_latent_value: 5\n",
      "Epoch 164/164: 100%|██████████████████████████████████████████████████████████████████████| 164/164 [07:05<00:00,  2.60s/it, loss=634, v_num=1]\n"
     ]
    },
    {
     "name": "stderr",
     "output_type": "stream",
     "text": [
      "GPU available: True, used: True\n",
      "TPU available: False, using: 0 TPU cores\n",
      "LOCAL_RANK: 0 - CUDA_VISIBLE_DEVICES: [0]\n"
     ]
    },
    {
     "name": "stdout",
     "output_type": "stream",
     "text": [
      "training model for n_latent_value: 10\n",
      "Epoch 164/164: 100%|██████████████████████████████████████████████████████████████████████| 164/164 [07:05<00:00,  2.59s/it, loss=601, v_num=1]\n"
     ]
    },
    {
     "name": "stderr",
     "output_type": "stream",
     "text": [
      "GPU available: True, used: True\n",
      "TPU available: False, using: 0 TPU cores\n",
      "LOCAL_RANK: 0 - CUDA_VISIBLE_DEVICES: [0]\n"
     ]
    },
    {
     "name": "stdout",
     "output_type": "stream",
     "text": [
      "training model for n_latent_value: 15\n",
      "Epoch 164/164: 100%|██████████████████████████████████████████████████████████████████████| 164/164 [07:05<00:00,  2.60s/it, loss=612, v_num=1]\n"
     ]
    },
    {
     "name": "stderr",
     "output_type": "stream",
     "text": [
      "GPU available: True, used: True\n",
      "TPU available: False, using: 0 TPU cores\n",
      "LOCAL_RANK: 0 - CUDA_VISIBLE_DEVICES: [0]\n"
     ]
    },
    {
     "name": "stdout",
     "output_type": "stream",
     "text": [
      "training model for n_latent_value: 20\n",
      "Epoch 164/164: 100%|██████████████████████████████████████████████████████████████████████| 164/164 [07:06<00:00,  2.60s/it, loss=611, v_num=1]\n"
     ]
    },
    {
     "name": "stderr",
     "output_type": "stream",
     "text": [
      "GPU available: True, used: True\n",
      "TPU available: False, using: 0 TPU cores\n",
      "LOCAL_RANK: 0 - CUDA_VISIBLE_DEVICES: [0]\n"
     ]
    },
    {
     "name": "stdout",
     "output_type": "stream",
     "text": [
      "training model for n_latent_value: 30\n",
      "Epoch 164/164: 100%|██████████████████████████████████████████████████████████████████████| 164/164 [07:06<00:00,  2.60s/it, loss=607, v_num=1]\n"
     ]
    },
    {
     "name": "stderr",
     "output_type": "stream",
     "text": [
      "GPU available: True, used: True\n",
      "TPU available: False, using: 0 TPU cores\n",
      "LOCAL_RANK: 0 - CUDA_VISIBLE_DEVICES: [0]\n"
     ]
    },
    {
     "name": "stdout",
     "output_type": "stream",
     "text": [
      "training model for n_latent_value: 40\n",
      "Epoch 164/164: 100%|██████████████████████████████████████████████████████████████████████| 164/164 [07:05<00:00,  2.60s/it, loss=599, v_num=1]\n"
     ]
    }
   ],
   "source": [
    "latent_representations = {}\n",
    "\n",
    "for n_latent_value in n_latent_values:\n",
    "    print('training model for n_latent_value:', n_latent_value)\n",
    "    models[n_latent_value].train()\n",
    "    \n",
    "    # get latent representation as a dataframe\n",
    "    latent_representations[n_latent_value] = models[n_latent_value].get_latent_representation()\n",
    "    \n",
    "    # add it to the adata object\n",
    "    adata.obsm[\"X_scVI_n_latent_\" + str(n_latent_value)] = latent_representations[n_latent_value]\n",
    "    curr_df = pd.DataFrame(adata.obsm[\"X_scVI_n_latent_\" + str(n_latent_value)])\n",
    "    \n",
    "    # save the latent representation\n",
    "    curr_df.to_csv('./20210729_obsm_with_scVI_latent_representation_n_' + str(n_latent_value) + '_NO_CYTONIKE_after_CCG_removal_and_all_doublet_exclusion_with_LF_gene_filter_and_excluding_genes_common_bw_mix_population_and_empty_droplets.csv')"
   ]
  },
  {
   "cell_type": "code",
   "execution_count": null,
   "metadata": {},
   "outputs": [],
   "source": []
  },
  {
   "cell_type": "code",
   "execution_count": null,
   "metadata": {},
   "outputs": [],
   "source": []
  },
  {
   "cell_type": "code",
   "execution_count": null,
   "metadata": {},
   "outputs": [],
   "source": []
  },
  {
   "cell_type": "code",
   "execution_count": null,
   "metadata": {},
   "outputs": [],
   "source": []
  },
  {
   "cell_type": "code",
   "execution_count": null,
   "metadata": {},
   "outputs": [],
   "source": []
  },
  {
   "cell_type": "code",
   "execution_count": null,
   "metadata": {},
   "outputs": [],
   "source": []
  },
  {
   "cell_type": "code",
   "execution_count": null,
   "metadata": {},
   "outputs": [],
   "source": []
  },
  {
   "cell_type": "code",
   "execution_count": null,
   "metadata": {},
   "outputs": [],
   "source": []
  },
  {
   "cell_type": "code",
   "execution_count": null,
   "metadata": {},
   "outputs": [],
   "source": []
  },
  {
   "cell_type": "markdown",
   "metadata": {},
   "source": [
    "#### Here you can specify your covariates you want to correct for (categorical or continuous)"
   ]
  },
  {
   "cell_type": "code",
   "execution_count": 28,
   "metadata": {
    "scrolled": true
   },
   "outputs": [
    {
     "name": "stdout",
     "output_type": "stream",
     "text": [
      "\u001b[34mINFO    \u001b[0m No batch_key inputted, assuming all cells are same batch                            \n",
      "\u001b[34mINFO    \u001b[0m No label_key inputted, assuming all cells have same label                           \n",
      "\u001b[34mINFO    \u001b[0m Using data from adata.layers\u001b[1m[\u001b[0m\u001b[32m\"raw_counts\"\u001b[0m\u001b[1m]\u001b[0m                                          \n",
      "\u001b[34mINFO    \u001b[0m Computing library size prior per batch                                              \n",
      "\u001b[34mINFO    \u001b[0m Successfully registered anndata object containing \u001b[1;36m48676\u001b[0m cells, \u001b[1;36m2000\u001b[0m vars, \u001b[1;36m1\u001b[0m batches,\n",
      "         \u001b[1;36m1\u001b[0m labels, and \u001b[1;36m0\u001b[0m proteins. Also registered \u001b[1;36m2\u001b[0m extra categorical covariates and \u001b[1;36m0\u001b[0m extra\n",
      "         continuous covariates.                                                              \n",
      "\u001b[34mINFO    \u001b[0m Please do not further modify adata until model is trained.                          \n"
     ]
    }
   ],
   "source": [
    "scvi.data.setup_anndata(\n",
    "    adata,\n",
    "    layer=\"raw_counts\",\n",
    "    categorical_covariate_keys=[\"donor\",\"sample\"],\n",
    "    #continuous_covariate_keys=[\"\"] # could try and regress n_genes in the future? not for now\n",
    ")"
   ]
  },
  {
   "cell_type": "markdown",
   "metadata": {},
   "source": [
    "### 23.07.2021, running scVI after excluding soupy genes based on sample 30"
   ]
  },
  {
   "cell_type": "code",
   "execution_count": 29,
   "metadata": {},
   "outputs": [
    {
     "name": "stdout",
     "output_type": "stream",
     "text": [
      "n_latent_value 5\n",
      "n_latent_value 10\n",
      "n_latent_value 15\n",
      "n_latent_value 20\n",
      "n_latent_value 30\n",
      "n_latent_value 40\n"
     ]
    }
   ],
   "source": [
    "models = {}\n",
    "\n",
    "# Valentina said n_latent = 10 worked for her well, let's try a few values\n",
    "n_latent_values = [5, 10, 15, 20, 30, 40]\n",
    "\n",
    "for n_latent_value in n_latent_values:\n",
    "    print('n_latent_value', n_latent_value)\n",
    "    models[n_latent_value] = scvi.model.SCVI(adata, n_latent = n_latent_value)"
   ]
  },
  {
   "cell_type": "code",
   "execution_count": 30,
   "metadata": {
    "scrolled": true
   },
   "outputs": [
    {
     "data": {
      "text/html": [
       "<pre style=\"white-space:pre;overflow-x:auto;line-height:normal;font-family:Menlo,'DejaVu Sans Mono',consolas,'Courier New',monospace\">SCVI Model with the following params: \n",
       "n_hidden: <span style=\"color: #008080; text-decoration-color: #008080; font-weight: bold\">128</span>, n_latent: <span style=\"color: #008080; text-decoration-color: #008080; font-weight: bold\">5</span>, n_layers: <span style=\"color: #008080; text-decoration-color: #008080; font-weight: bold\">1</span>, dropout_rate: <span style=\"color: #008080; text-decoration-color: #008080; font-weight: bold\">0.1</span>, dispersion: gene, \n",
       "gene_likelihood: zinb, latent_distribution: normal\n",
       "Training status: Not Trained\n",
       "</pre>\n"
      ],
      "text/plain": [
       "SCVI Model with the following params: \n",
       "n_hidden: \u001b[1;36m128\u001b[0m, n_latent: \u001b[1;36m5\u001b[0m, n_layers: \u001b[1;36m1\u001b[0m, dropout_rate: \u001b[1;36m0.1\u001b[0m, dispersion: gene, \n",
       "gene_likelihood: zinb, latent_distribution: normal\n",
       "Training status: Not Trained\n"
      ]
     },
     "metadata": {},
     "output_type": "display_data"
    },
    {
     "data": {
      "text/html": [
       "<pre style=\"white-space:pre;overflow-x:auto;line-height:normal;font-family:Menlo,'DejaVu Sans Mono',consolas,'Courier New',monospace\">\n",
       "\n",
       "To print summary of associated AnnData, use: <span style=\"color: #af00d7; text-decoration-color: #af00d7\">scvi.data.view_anndata_setup(model.adata)</span>\n",
       "</pre>\n"
      ],
      "text/plain": [
       "\n",
       "\n",
       "To print summary of associated AnnData, use: \u001b[38;5;128mscvi.data.view_anndata_setup(model.adata)\u001b[0m\n"
      ]
     },
     "metadata": {},
     "output_type": "display_data"
    },
    {
     "data": {
      "text/plain": []
     },
     "execution_count": 30,
     "metadata": {},
     "output_type": "execute_result"
    }
   ],
   "source": [
    "models[5]"
   ]
  },
  {
   "cell_type": "code",
   "execution_count": 31,
   "metadata": {},
   "outputs": [
    {
     "data": {
      "text/html": [
       "<pre style=\"white-space:pre;overflow-x:auto;line-height:normal;font-family:Menlo,'DejaVu Sans Mono',consolas,'Courier New',monospace\">SCVI Model with the following params: \n",
       "n_hidden: <span style=\"color: #008080; text-decoration-color: #008080; font-weight: bold\">128</span>, n_latent: <span style=\"color: #008080; text-decoration-color: #008080; font-weight: bold\">10</span>, n_layers: <span style=\"color: #008080; text-decoration-color: #008080; font-weight: bold\">1</span>, dropout_rate: <span style=\"color: #008080; text-decoration-color: #008080; font-weight: bold\">0.1</span>, dispersion: gene, \n",
       "gene_likelihood: zinb, latent_distribution: normal\n",
       "Training status: Not Trained\n",
       "</pre>\n"
      ],
      "text/plain": [
       "SCVI Model with the following params: \n",
       "n_hidden: \u001b[1;36m128\u001b[0m, n_latent: \u001b[1;36m10\u001b[0m, n_layers: \u001b[1;36m1\u001b[0m, dropout_rate: \u001b[1;36m0.1\u001b[0m, dispersion: gene, \n",
       "gene_likelihood: zinb, latent_distribution: normal\n",
       "Training status: Not Trained\n"
      ]
     },
     "metadata": {},
     "output_type": "display_data"
    },
    {
     "data": {
      "text/html": [
       "<pre style=\"white-space:pre;overflow-x:auto;line-height:normal;font-family:Menlo,'DejaVu Sans Mono',consolas,'Courier New',monospace\">\n",
       "\n",
       "To print summary of associated AnnData, use: <span style=\"color: #af00d7; text-decoration-color: #af00d7\">scvi.data.view_anndata_setup(model.adata)</span>\n",
       "</pre>\n"
      ],
      "text/plain": [
       "\n",
       "\n",
       "To print summary of associated AnnData, use: \u001b[38;5;128mscvi.data.view_anndata_setup(model.adata)\u001b[0m\n"
      ]
     },
     "metadata": {},
     "output_type": "display_data"
    },
    {
     "data": {
      "text/plain": []
     },
     "execution_count": 31,
     "metadata": {},
     "output_type": "execute_result"
    }
   ],
   "source": [
    "models[10]"
   ]
  },
  {
   "cell_type": "code",
   "execution_count": 32,
   "metadata": {},
   "outputs": [
    {
     "data": {
      "text/html": [
       "<pre style=\"white-space:pre;overflow-x:auto;line-height:normal;font-family:Menlo,'DejaVu Sans Mono',consolas,'Courier New',monospace\">SCVI Model with the following params: \n",
       "n_hidden: <span style=\"color: #008080; text-decoration-color: #008080; font-weight: bold\">128</span>, n_latent: <span style=\"color: #008080; text-decoration-color: #008080; font-weight: bold\">15</span>, n_layers: <span style=\"color: #008080; text-decoration-color: #008080; font-weight: bold\">1</span>, dropout_rate: <span style=\"color: #008080; text-decoration-color: #008080; font-weight: bold\">0.1</span>, dispersion: gene, \n",
       "gene_likelihood: zinb, latent_distribution: normal\n",
       "Training status: Not Trained\n",
       "</pre>\n"
      ],
      "text/plain": [
       "SCVI Model with the following params: \n",
       "n_hidden: \u001b[1;36m128\u001b[0m, n_latent: \u001b[1;36m15\u001b[0m, n_layers: \u001b[1;36m1\u001b[0m, dropout_rate: \u001b[1;36m0.1\u001b[0m, dispersion: gene, \n",
       "gene_likelihood: zinb, latent_distribution: normal\n",
       "Training status: Not Trained\n"
      ]
     },
     "metadata": {},
     "output_type": "display_data"
    },
    {
     "data": {
      "text/html": [
       "<pre style=\"white-space:pre;overflow-x:auto;line-height:normal;font-family:Menlo,'DejaVu Sans Mono',consolas,'Courier New',monospace\">\n",
       "\n",
       "To print summary of associated AnnData, use: <span style=\"color: #af00d7; text-decoration-color: #af00d7\">scvi.data.view_anndata_setup(model.adata)</span>\n",
       "</pre>\n"
      ],
      "text/plain": [
       "\n",
       "\n",
       "To print summary of associated AnnData, use: \u001b[38;5;128mscvi.data.view_anndata_setup(model.adata)\u001b[0m\n"
      ]
     },
     "metadata": {},
     "output_type": "display_data"
    },
    {
     "data": {
      "text/plain": []
     },
     "execution_count": 32,
     "metadata": {},
     "output_type": "execute_result"
    }
   ],
   "source": [
    "models[15]"
   ]
  },
  {
   "cell_type": "code",
   "execution_count": 33,
   "metadata": {},
   "outputs": [
    {
     "data": {
      "text/html": [
       "<pre style=\"white-space:pre;overflow-x:auto;line-height:normal;font-family:Menlo,'DejaVu Sans Mono',consolas,'Courier New',monospace\">SCVI Model with the following params: \n",
       "n_hidden: <span style=\"color: #008080; text-decoration-color: #008080; font-weight: bold\">128</span>, n_latent: <span style=\"color: #008080; text-decoration-color: #008080; font-weight: bold\">20</span>, n_layers: <span style=\"color: #008080; text-decoration-color: #008080; font-weight: bold\">1</span>, dropout_rate: <span style=\"color: #008080; text-decoration-color: #008080; font-weight: bold\">0.1</span>, dispersion: gene, \n",
       "gene_likelihood: zinb, latent_distribution: normal\n",
       "Training status: Not Trained\n",
       "</pre>\n"
      ],
      "text/plain": [
       "SCVI Model with the following params: \n",
       "n_hidden: \u001b[1;36m128\u001b[0m, n_latent: \u001b[1;36m20\u001b[0m, n_layers: \u001b[1;36m1\u001b[0m, dropout_rate: \u001b[1;36m0.1\u001b[0m, dispersion: gene, \n",
       "gene_likelihood: zinb, latent_distribution: normal\n",
       "Training status: Not Trained\n"
      ]
     },
     "metadata": {},
     "output_type": "display_data"
    },
    {
     "data": {
      "text/html": [
       "<pre style=\"white-space:pre;overflow-x:auto;line-height:normal;font-family:Menlo,'DejaVu Sans Mono',consolas,'Courier New',monospace\">\n",
       "\n",
       "To print summary of associated AnnData, use: <span style=\"color: #af00d7; text-decoration-color: #af00d7\">scvi.data.view_anndata_setup(model.adata)</span>\n",
       "</pre>\n"
      ],
      "text/plain": [
       "\n",
       "\n",
       "To print summary of associated AnnData, use: \u001b[38;5;128mscvi.data.view_anndata_setup(model.adata)\u001b[0m\n"
      ]
     },
     "metadata": {},
     "output_type": "display_data"
    },
    {
     "data": {
      "text/plain": []
     },
     "execution_count": 33,
     "metadata": {},
     "output_type": "execute_result"
    }
   ],
   "source": [
    "models[20]"
   ]
  },
  {
   "cell_type": "code",
   "execution_count": 34,
   "metadata": {},
   "outputs": [
    {
     "data": {
      "text/html": [
       "<pre style=\"white-space:pre;overflow-x:auto;line-height:normal;font-family:Menlo,'DejaVu Sans Mono',consolas,'Courier New',monospace\">SCVI Model with the following params: \n",
       "n_hidden: <span style=\"color: #008080; text-decoration-color: #008080; font-weight: bold\">128</span>, n_latent: <span style=\"color: #008080; text-decoration-color: #008080; font-weight: bold\">30</span>, n_layers: <span style=\"color: #008080; text-decoration-color: #008080; font-weight: bold\">1</span>, dropout_rate: <span style=\"color: #008080; text-decoration-color: #008080; font-weight: bold\">0.1</span>, dispersion: gene, \n",
       "gene_likelihood: zinb, latent_distribution: normal\n",
       "Training status: Not Trained\n",
       "</pre>\n"
      ],
      "text/plain": [
       "SCVI Model with the following params: \n",
       "n_hidden: \u001b[1;36m128\u001b[0m, n_latent: \u001b[1;36m30\u001b[0m, n_layers: \u001b[1;36m1\u001b[0m, dropout_rate: \u001b[1;36m0.1\u001b[0m, dispersion: gene, \n",
       "gene_likelihood: zinb, latent_distribution: normal\n",
       "Training status: Not Trained\n"
      ]
     },
     "metadata": {},
     "output_type": "display_data"
    },
    {
     "data": {
      "text/html": [
       "<pre style=\"white-space:pre;overflow-x:auto;line-height:normal;font-family:Menlo,'DejaVu Sans Mono',consolas,'Courier New',monospace\">\n",
       "\n",
       "To print summary of associated AnnData, use: <span style=\"color: #af00d7; text-decoration-color: #af00d7\">scvi.data.view_anndata_setup(model.adata)</span>\n",
       "</pre>\n"
      ],
      "text/plain": [
       "\n",
       "\n",
       "To print summary of associated AnnData, use: \u001b[38;5;128mscvi.data.view_anndata_setup(model.adata)\u001b[0m\n"
      ]
     },
     "metadata": {},
     "output_type": "display_data"
    },
    {
     "data": {
      "text/plain": []
     },
     "execution_count": 34,
     "metadata": {},
     "output_type": "execute_result"
    }
   ],
   "source": [
    "models[30]"
   ]
  },
  {
   "cell_type": "code",
   "execution_count": 35,
   "metadata": {},
   "outputs": [
    {
     "data": {
      "text/html": [
       "<pre style=\"white-space:pre;overflow-x:auto;line-height:normal;font-family:Menlo,'DejaVu Sans Mono',consolas,'Courier New',monospace\">SCVI Model with the following params: \n",
       "n_hidden: <span style=\"color: #008080; text-decoration-color: #008080; font-weight: bold\">128</span>, n_latent: <span style=\"color: #008080; text-decoration-color: #008080; font-weight: bold\">40</span>, n_layers: <span style=\"color: #008080; text-decoration-color: #008080; font-weight: bold\">1</span>, dropout_rate: <span style=\"color: #008080; text-decoration-color: #008080; font-weight: bold\">0.1</span>, dispersion: gene, \n",
       "gene_likelihood: zinb, latent_distribution: normal\n",
       "Training status: Not Trained\n",
       "</pre>\n"
      ],
      "text/plain": [
       "SCVI Model with the following params: \n",
       "n_hidden: \u001b[1;36m128\u001b[0m, n_latent: \u001b[1;36m40\u001b[0m, n_layers: \u001b[1;36m1\u001b[0m, dropout_rate: \u001b[1;36m0.1\u001b[0m, dispersion: gene, \n",
       "gene_likelihood: zinb, latent_distribution: normal\n",
       "Training status: Not Trained\n"
      ]
     },
     "metadata": {},
     "output_type": "display_data"
    },
    {
     "data": {
      "text/html": [
       "<pre style=\"white-space:pre;overflow-x:auto;line-height:normal;font-family:Menlo,'DejaVu Sans Mono',consolas,'Courier New',monospace\">\n",
       "\n",
       "To print summary of associated AnnData, use: <span style=\"color: #af00d7; text-decoration-color: #af00d7\">scvi.data.view_anndata_setup(model.adata)</span>\n",
       "</pre>\n"
      ],
      "text/plain": [
       "\n",
       "\n",
       "To print summary of associated AnnData, use: \u001b[38;5;128mscvi.data.view_anndata_setup(model.adata)\u001b[0m\n"
      ]
     },
     "metadata": {},
     "output_type": "display_data"
    },
    {
     "data": {
      "text/plain": []
     },
     "execution_count": 35,
     "metadata": {},
     "output_type": "execute_result"
    }
   ],
   "source": [
    "models[40]"
   ]
  },
  {
   "cell_type": "code",
   "execution_count": 36,
   "metadata": {
    "scrolled": true
   },
   "outputs": [
    {
     "name": "stderr",
     "output_type": "stream",
     "text": [
      "GPU available: True, used: True\n",
      "TPU available: False, using: 0 TPU cores\n",
      "LOCAL_RANK: 0 - CUDA_VISIBLE_DEVICES: [0,1]\n"
     ]
    },
    {
     "name": "stdout",
     "output_type": "stream",
     "text": [
      "training model for n_latent_value: 5\n",
      "Epoch 164/164: 100%|███████████████████████████████████████████████████████████████| 164/164 [08:59<00:00,  3.29s/it, loss=699, v_num=1]\n"
     ]
    },
    {
     "name": "stderr",
     "output_type": "stream",
     "text": [
      "GPU available: True, used: True\n",
      "TPU available: False, using: 0 TPU cores\n",
      "LOCAL_RANK: 0 - CUDA_VISIBLE_DEVICES: [0,1]\n"
     ]
    },
    {
     "name": "stdout",
     "output_type": "stream",
     "text": [
      "training model for n_latent_value: 10\n",
      "Epoch 164/164: 100%|███████████████████████████████████████████████████████████████| 164/164 [09:01<00:00,  3.30s/it, loss=663, v_num=1]\n"
     ]
    },
    {
     "name": "stderr",
     "output_type": "stream",
     "text": [
      "GPU available: True, used: True\n",
      "TPU available: False, using: 0 TPU cores\n",
      "LOCAL_RANK: 0 - CUDA_VISIBLE_DEVICES: [0,1]\n"
     ]
    },
    {
     "name": "stdout",
     "output_type": "stream",
     "text": [
      "training model for n_latent_value: 15\n",
      "Epoch 164/164: 100%|███████████████████████████████████████████████████████████████| 164/164 [09:02<00:00,  3.31s/it, loss=675, v_num=1]\n"
     ]
    },
    {
     "name": "stderr",
     "output_type": "stream",
     "text": [
      "GPU available: True, used: True\n",
      "TPU available: False, using: 0 TPU cores\n",
      "LOCAL_RANK: 0 - CUDA_VISIBLE_DEVICES: [0,1]\n"
     ]
    },
    {
     "name": "stdout",
     "output_type": "stream",
     "text": [
      "training model for n_latent_value: 20\n",
      "Epoch 164/164: 100%|███████████████████████████████████████████████████████████████| 164/164 [09:01<00:00,  3.30s/it, loss=674, v_num=1]\n"
     ]
    },
    {
     "name": "stderr",
     "output_type": "stream",
     "text": [
      "GPU available: True, used: True\n",
      "TPU available: False, using: 0 TPU cores\n",
      "LOCAL_RANK: 0 - CUDA_VISIBLE_DEVICES: [0,1]\n"
     ]
    },
    {
     "name": "stdout",
     "output_type": "stream",
     "text": [
      "training model for n_latent_value: 30\n",
      "Epoch 164/164: 100%|███████████████████████████████████████████████████████████████| 164/164 [09:00<00:00,  3.30s/it, loss=669, v_num=1]\n"
     ]
    },
    {
     "name": "stderr",
     "output_type": "stream",
     "text": [
      "GPU available: True, used: True\n",
      "TPU available: False, using: 0 TPU cores\n",
      "LOCAL_RANK: 0 - CUDA_VISIBLE_DEVICES: [0,1]\n"
     ]
    },
    {
     "name": "stdout",
     "output_type": "stream",
     "text": [
      "training model for n_latent_value: 40\n",
      "Epoch 164/164: 100%|███████████████████████████████████████████████████████████████| 164/164 [09:02<00:00,  3.31s/it, loss=660, v_num=1]\n"
     ]
    }
   ],
   "source": [
    "latent_representations = {}\n",
    "\n",
    "for n_latent_value in n_latent_values:\n",
    "    print('training model for n_latent_value:', n_latent_value)\n",
    "    models[n_latent_value].train()\n",
    "    \n",
    "    # get latent representation as a dataframe\n",
    "    latent_representations[n_latent_value] = models[n_latent_value].get_latent_representation()\n",
    "    \n",
    "    # add it to the adata object\n",
    "    adata.obsm[\"X_scVI_n_latent_\" + str(n_latent_value)] = latent_representations[n_latent_value]\n",
    "    curr_df = pd.DataFrame(adata.obsm[\"X_scVI_n_latent_\" + str(n_latent_value)])\n",
    "    \n",
    "    # save the latent representation\n",
    "    curr_df.to_csv('./20210723_obsm_with_scVI_latent_representation_n_' + str(n_latent_value) + '_NO_CYTONIKE_after_CCG_removal_and_all_doublet_exclusion_with_LF_gene_filter.csv')"
   ]
  },
  {
   "cell_type": "code",
   "execution_count": null,
   "metadata": {},
   "outputs": [],
   "source": []
  },
  {
   "cell_type": "code",
   "execution_count": null,
   "metadata": {},
   "outputs": [],
   "source": []
  },
  {
   "cell_type": "code",
   "execution_count": null,
   "metadata": {},
   "outputs": [],
   "source": []
  },
  {
   "cell_type": "code",
   "execution_count": null,
   "metadata": {},
   "outputs": [],
   "source": []
  },
  {
   "cell_type": "code",
   "execution_count": null,
   "metadata": {},
   "outputs": [],
   "source": []
  },
  {
   "cell_type": "code",
   "execution_count": null,
   "metadata": {},
   "outputs": [],
   "source": []
  },
  {
   "cell_type": "code",
   "execution_count": null,
   "metadata": {},
   "outputs": [],
   "source": []
  },
  {
   "cell_type": "code",
   "execution_count": null,
   "metadata": {},
   "outputs": [],
   "source": []
  },
  {
   "cell_type": "code",
   "execution_count": null,
   "metadata": {},
   "outputs": [],
   "source": []
  },
  {
   "cell_type": "code",
   "execution_count": null,
   "metadata": {},
   "outputs": [],
   "source": []
  },
  {
   "cell_type": "code",
   "execution_count": null,
   "metadata": {},
   "outputs": [],
   "source": []
  },
  {
   "cell_type": "code",
   "execution_count": null,
   "metadata": {},
   "outputs": [],
   "source": []
  },
  {
   "cell_type": "code",
   "execution_count": null,
   "metadata": {},
   "outputs": [],
   "source": []
  },
  {
   "cell_type": "code",
   "execution_count": 15,
   "metadata": {},
   "outputs": [],
   "source": [
    "# 23.07.2021 addition - excluding some low QC cluster 'mix' and cluster 'SCT_donor_5' (this one coz it's ~80% from donor 5 only)\n",
    "# to calculate a cleaned up manifold\n",
    "\n",
    "# reading in adata with prelim annotation\n",
    "adata_prelim_annot = sc.read(path + 'adata_scVI_analysed_no_cytokines.h5ad')\n"
   ]
  },
  {
   "cell_type": "code",
   "execution_count": 16,
   "metadata": {},
   "outputs": [
    {
     "data": {
      "text/plain": [
       "(array(['EVT', 'SCT', 'SCT_RP_high', 'SCT_donor_5', 'VCT', 'VCT_CCC',\n",
       "        'VCT_IFIT', 'VCT_TOM_like', 'VCT_fusing', 'VCT_p', 'eEVT?', 'mix'],\n",
       "       dtype=object),\n",
       " array([10026,  4997,  1709,  2054,  8020,  2037,    35,  7795,   845,\n",
       "         1508,   171,  9479]))"
      ]
     },
     "execution_count": 16,
     "metadata": {},
     "output_type": "execute_result"
    }
   ],
   "source": [
    "np.unique(adata_prelim_annot.obs['prelim_annot'], return_counts=True)"
   ]
  },
  {
   "cell_type": "code",
   "execution_count": 17,
   "metadata": {
    "scrolled": true
   },
   "outputs": [
    {
     "data": {
      "text/html": [
       "<div>\n",
       "<style scoped>\n",
       "    .dataframe tbody tr th:only-of-type {\n",
       "        vertical-align: middle;\n",
       "    }\n",
       "\n",
       "    .dataframe tbody tr th {\n",
       "        vertical-align: top;\n",
       "    }\n",
       "\n",
       "    .dataframe thead th {\n",
       "        text-align: right;\n",
       "    }\n",
       "</style>\n",
       "<table border=\"1\" class=\"dataframe\">\n",
       "  <thead>\n",
       "    <tr style=\"text-align: right;\">\n",
       "      <th></th>\n",
       "      <th>n_genes</th>\n",
       "      <th>time_point</th>\n",
       "      <th>activation_status</th>\n",
       "      <th>media</th>\n",
       "      <th>sample</th>\n",
       "      <th>percent_mito</th>\n",
       "      <th>n_counts</th>\n",
       "      <th>dataset</th>\n",
       "      <th>technique</th>\n",
       "      <th>scrublet_score</th>\n",
       "      <th>...</th>\n",
       "      <th>G2M_score</th>\n",
       "      <th>phase</th>\n",
       "      <th>celltype_predictions_P13</th>\n",
       "      <th>probabilities_P13</th>\n",
       "      <th>celltype_predictions_Roser</th>\n",
       "      <th>probabilities_Roser</th>\n",
       "      <th>louvain</th>\n",
       "      <th>louvain_R</th>\n",
       "      <th>barcode_sample_copy</th>\n",
       "      <th>prelim_annot</th>\n",
       "    </tr>\n",
       "    <tr>\n",
       "      <th>barcode_sample</th>\n",
       "      <th></th>\n",
       "      <th></th>\n",
       "      <th></th>\n",
       "      <th></th>\n",
       "      <th></th>\n",
       "      <th></th>\n",
       "      <th></th>\n",
       "      <th></th>\n",
       "      <th></th>\n",
       "      <th></th>\n",
       "      <th></th>\n",
       "      <th></th>\n",
       "      <th></th>\n",
       "      <th></th>\n",
       "      <th></th>\n",
       "      <th></th>\n",
       "      <th></th>\n",
       "      <th></th>\n",
       "      <th></th>\n",
       "      <th></th>\n",
       "      <th></th>\n",
       "    </tr>\n",
       "  </thead>\n",
       "  <tbody>\n",
       "    <tr>\n",
       "      <th>AAACCCAAGCTAGTTC-1_6044STDY8640561</th>\n",
       "      <td>715</td>\n",
       "      <td>3H</td>\n",
       "      <td>no_cytokines</td>\n",
       "      <td>EVTM</td>\n",
       "      <td>6044STDY8640561</td>\n",
       "      <td>0.016393</td>\n",
       "      <td>1220.0</td>\n",
       "      <td>scRNA-seq</td>\n",
       "      <td>10X</td>\n",
       "      <td>0.025670</td>\n",
       "      <td>...</td>\n",
       "      <td>-0.052240</td>\n",
       "      <td>G1</td>\n",
       "      <td>SCT</td>\n",
       "      <td>0.636900</td>\n",
       "      <td>VCT_CCC</td>\n",
       "      <td>0.960739</td>\n",
       "      <td>5</td>\n",
       "      <td>5</td>\n",
       "      <td>AAACCCAAGCTAGTTC-1_6044STDY8640561</td>\n",
       "      <td>mix</td>\n",
       "    </tr>\n",
       "    <tr>\n",
       "      <th>AAACCCACAAAGTGTA-1_6044STDY8640561</th>\n",
       "      <td>3765</td>\n",
       "      <td>3H</td>\n",
       "      <td>no_cytokines</td>\n",
       "      <td>EVTM</td>\n",
       "      <td>6044STDY8640561</td>\n",
       "      <td>0.067086</td>\n",
       "      <td>18931.0</td>\n",
       "      <td>scRNA-seq</td>\n",
       "      <td>10X</td>\n",
       "      <td>0.173047</td>\n",
       "      <td>...</td>\n",
       "      <td>-0.183358</td>\n",
       "      <td>G1</td>\n",
       "      <td>SCT</td>\n",
       "      <td>0.940563</td>\n",
       "      <td>EVT_1</td>\n",
       "      <td>0.947113</td>\n",
       "      <td>4</td>\n",
       "      <td>4,0</td>\n",
       "      <td>AAACCCACAAAGTGTA-1_6044STDY8640561</td>\n",
       "      <td>SCT</td>\n",
       "    </tr>\n",
       "    <tr>\n",
       "      <th>AAACCCAGTGCACGCT-1_6044STDY8640561</th>\n",
       "      <td>2116</td>\n",
       "      <td>3H</td>\n",
       "      <td>no_cytokines</td>\n",
       "      <td>EVTM</td>\n",
       "      <td>6044STDY8640561</td>\n",
       "      <td>0.005407</td>\n",
       "      <td>6288.0</td>\n",
       "      <td>scRNA-seq</td>\n",
       "      <td>10X</td>\n",
       "      <td>0.056231</td>\n",
       "      <td>...</td>\n",
       "      <td>-0.143884</td>\n",
       "      <td>G1</td>\n",
       "      <td>SCT</td>\n",
       "      <td>0.815997</td>\n",
       "      <td>EVT_1</td>\n",
       "      <td>0.667089</td>\n",
       "      <td>8</td>\n",
       "      <td>8</td>\n",
       "      <td>AAACCCAGTGCACGCT-1_6044STDY8640561</td>\n",
       "      <td>EVT</td>\n",
       "    </tr>\n",
       "    <tr>\n",
       "      <th>AAACCCAGTTGGCCTG-1_6044STDY8640561</th>\n",
       "      <td>2672</td>\n",
       "      <td>3H</td>\n",
       "      <td>no_cytokines</td>\n",
       "      <td>EVTM</td>\n",
       "      <td>6044STDY8640561</td>\n",
       "      <td>0.111556</td>\n",
       "      <td>10999.0</td>\n",
       "      <td>scRNA-seq</td>\n",
       "      <td>10X</td>\n",
       "      <td>0.054764</td>\n",
       "      <td>...</td>\n",
       "      <td>0.101151</td>\n",
       "      <td>S</td>\n",
       "      <td>VCT_CCC</td>\n",
       "      <td>0.866917</td>\n",
       "      <td>VCT</td>\n",
       "      <td>0.995907</td>\n",
       "      <td>11</td>\n",
       "      <td>11</td>\n",
       "      <td>AAACCCAGTTGGCCTG-1_6044STDY8640561</td>\n",
       "      <td>VCT_p</td>\n",
       "    </tr>\n",
       "    <tr>\n",
       "      <th>AAACGAAAGCTCCACG-1_6044STDY8640561</th>\n",
       "      <td>1820</td>\n",
       "      <td>3H</td>\n",
       "      <td>no_cytokines</td>\n",
       "      <td>EVTM</td>\n",
       "      <td>6044STDY8640561</td>\n",
       "      <td>0.109140</td>\n",
       "      <td>6652.0</td>\n",
       "      <td>scRNA-seq</td>\n",
       "      <td>10X</td>\n",
       "      <td>0.044248</td>\n",
       "      <td>...</td>\n",
       "      <td>-0.135884</td>\n",
       "      <td>G1</td>\n",
       "      <td>VCT_CCC</td>\n",
       "      <td>0.920668</td>\n",
       "      <td>VCT</td>\n",
       "      <td>0.994888</td>\n",
       "      <td>1</td>\n",
       "      <td>1</td>\n",
       "      <td>AAACGAAAGCTCCACG-1_6044STDY8640561</td>\n",
       "      <td>VCT</td>\n",
       "    </tr>\n",
       "    <tr>\n",
       "      <th>...</th>\n",
       "      <td>...</td>\n",
       "      <td>...</td>\n",
       "      <td>...</td>\n",
       "      <td>...</td>\n",
       "      <td>...</td>\n",
       "      <td>...</td>\n",
       "      <td>...</td>\n",
       "      <td>...</td>\n",
       "      <td>...</td>\n",
       "      <td>...</td>\n",
       "      <td>...</td>\n",
       "      <td>...</td>\n",
       "      <td>...</td>\n",
       "      <td>...</td>\n",
       "      <td>...</td>\n",
       "      <td>...</td>\n",
       "      <td>...</td>\n",
       "      <td>...</td>\n",
       "      <td>...</td>\n",
       "      <td>...</td>\n",
       "      <td>...</td>\n",
       "    </tr>\n",
       "    <tr>\n",
       "      <th>TTTGTTGGTATCGGTT-1_Pla_Camb10123934</th>\n",
       "      <td>3899</td>\n",
       "      <td>96H</td>\n",
       "      <td>no_cytokines</td>\n",
       "      <td>TOM</td>\n",
       "      <td>Pla_Camb10123934</td>\n",
       "      <td>0.098137</td>\n",
       "      <td>15509.0</td>\n",
       "      <td>scRNA-seq</td>\n",
       "      <td>10X</td>\n",
       "      <td>0.207339</td>\n",
       "      <td>...</td>\n",
       "      <td>-0.069770</td>\n",
       "      <td>G1</td>\n",
       "      <td>VCT_p</td>\n",
       "      <td>0.999891</td>\n",
       "      <td>VCT</td>\n",
       "      <td>0.999992</td>\n",
       "      <td>2</td>\n",
       "      <td>2</td>\n",
       "      <td>TTTGTTGGTATCGGTT-1_Pla_Camb10123934</td>\n",
       "      <td>VCT_TOM_like</td>\n",
       "    </tr>\n",
       "    <tr>\n",
       "      <th>TTTGTTGGTTGTGGCC-1_Pla_Camb10123934</th>\n",
       "      <td>3576</td>\n",
       "      <td>96H</td>\n",
       "      <td>no_cytokines</td>\n",
       "      <td>TOM</td>\n",
       "      <td>Pla_Camb10123934</td>\n",
       "      <td>0.086538</td>\n",
       "      <td>17680.0</td>\n",
       "      <td>scRNA-seq</td>\n",
       "      <td>10X</td>\n",
       "      <td>0.159639</td>\n",
       "      <td>...</td>\n",
       "      <td>-0.143474</td>\n",
       "      <td>G1</td>\n",
       "      <td>VCT_fusing</td>\n",
       "      <td>0.852114</td>\n",
       "      <td>SCT</td>\n",
       "      <td>0.623202</td>\n",
       "      <td>4</td>\n",
       "      <td>4,1</td>\n",
       "      <td>TTTGTTGGTTGTGGCC-1_Pla_Camb10123934</td>\n",
       "      <td>VCT_fusing</td>\n",
       "    </tr>\n",
       "    <tr>\n",
       "      <th>TTTGTTGTCAAGAGTA-1_Pla_Camb10123934</th>\n",
       "      <td>416</td>\n",
       "      <td>96H</td>\n",
       "      <td>no_cytokines</td>\n",
       "      <td>TOM</td>\n",
       "      <td>Pla_Camb10123934</td>\n",
       "      <td>0.001206</td>\n",
       "      <td>829.0</td>\n",
       "      <td>scRNA-seq</td>\n",
       "      <td>10X</td>\n",
       "      <td>0.105085</td>\n",
       "      <td>...</td>\n",
       "      <td>-0.113720</td>\n",
       "      <td>G1</td>\n",
       "      <td>SCT</td>\n",
       "      <td>0.903973</td>\n",
       "      <td>VCT</td>\n",
       "      <td>0.991487</td>\n",
       "      <td>6</td>\n",
       "      <td>6</td>\n",
       "      <td>TTTGTTGTCAAGAGTA-1_Pla_Camb10123934</td>\n",
       "      <td>SCT</td>\n",
       "    </tr>\n",
       "    <tr>\n",
       "      <th>TTTGTTGTCCAATCTT-1_Pla_Camb10123934</th>\n",
       "      <td>1562</td>\n",
       "      <td>96H</td>\n",
       "      <td>no_cytokines</td>\n",
       "      <td>TOM</td>\n",
       "      <td>Pla_Camb10123934</td>\n",
       "      <td>0.063601</td>\n",
       "      <td>4937.0</td>\n",
       "      <td>scRNA-seq</td>\n",
       "      <td>10X</td>\n",
       "      <td>0.070347</td>\n",
       "      <td>...</td>\n",
       "      <td>-0.151458</td>\n",
       "      <td>G1</td>\n",
       "      <td>SCT</td>\n",
       "      <td>0.909222</td>\n",
       "      <td>VCT_CCC</td>\n",
       "      <td>0.980226</td>\n",
       "      <td>4</td>\n",
       "      <td>4,1</td>\n",
       "      <td>TTTGTTGTCCAATCTT-1_Pla_Camb10123934</td>\n",
       "      <td>VCT_fusing</td>\n",
       "    </tr>\n",
       "    <tr>\n",
       "      <th>TTTGTTGTCGCATTAG-1_Pla_Camb10123934</th>\n",
       "      <td>4073</td>\n",
       "      <td>96H</td>\n",
       "      <td>no_cytokines</td>\n",
       "      <td>TOM</td>\n",
       "      <td>Pla_Camb10123934</td>\n",
       "      <td>0.110344</td>\n",
       "      <td>17391.0</td>\n",
       "      <td>scRNA-seq</td>\n",
       "      <td>10X</td>\n",
       "      <td>0.171429</td>\n",
       "      <td>...</td>\n",
       "      <td>-0.153149</td>\n",
       "      <td>S</td>\n",
       "      <td>VCT_p</td>\n",
       "      <td>0.993534</td>\n",
       "      <td>VCT</td>\n",
       "      <td>0.999994</td>\n",
       "      <td>2</td>\n",
       "      <td>2</td>\n",
       "      <td>TTTGTTGTCGCATTAG-1_Pla_Camb10123934</td>\n",
       "      <td>VCT_TOM_like</td>\n",
       "    </tr>\n",
       "  </tbody>\n",
       "</table>\n",
       "<p>48676 rows × 30 columns</p>\n",
       "</div>"
      ],
      "text/plain": [
       "                                     n_genes time_point activation_status  \\\n",
       "barcode_sample                                                              \n",
       "AAACCCAAGCTAGTTC-1_6044STDY8640561       715         3H      no_cytokines   \n",
       "AAACCCACAAAGTGTA-1_6044STDY8640561      3765         3H      no_cytokines   \n",
       "AAACCCAGTGCACGCT-1_6044STDY8640561      2116         3H      no_cytokines   \n",
       "AAACCCAGTTGGCCTG-1_6044STDY8640561      2672         3H      no_cytokines   \n",
       "AAACGAAAGCTCCACG-1_6044STDY8640561      1820         3H      no_cytokines   \n",
       "...                                      ...        ...               ...   \n",
       "TTTGTTGGTATCGGTT-1_Pla_Camb10123934     3899        96H      no_cytokines   \n",
       "TTTGTTGGTTGTGGCC-1_Pla_Camb10123934     3576        96H      no_cytokines   \n",
       "TTTGTTGTCAAGAGTA-1_Pla_Camb10123934      416        96H      no_cytokines   \n",
       "TTTGTTGTCCAATCTT-1_Pla_Camb10123934     1562        96H      no_cytokines   \n",
       "TTTGTTGTCGCATTAG-1_Pla_Camb10123934     4073        96H      no_cytokines   \n",
       "\n",
       "                                    media            sample  percent_mito  \\\n",
       "barcode_sample                                                              \n",
       "AAACCCAAGCTAGTTC-1_6044STDY8640561   EVTM   6044STDY8640561      0.016393   \n",
       "AAACCCACAAAGTGTA-1_6044STDY8640561   EVTM   6044STDY8640561      0.067086   \n",
       "AAACCCAGTGCACGCT-1_6044STDY8640561   EVTM   6044STDY8640561      0.005407   \n",
       "AAACCCAGTTGGCCTG-1_6044STDY8640561   EVTM   6044STDY8640561      0.111556   \n",
       "AAACGAAAGCTCCACG-1_6044STDY8640561   EVTM   6044STDY8640561      0.109140   \n",
       "...                                   ...               ...           ...   \n",
       "TTTGTTGGTATCGGTT-1_Pla_Camb10123934   TOM  Pla_Camb10123934      0.098137   \n",
       "TTTGTTGGTTGTGGCC-1_Pla_Camb10123934   TOM  Pla_Camb10123934      0.086538   \n",
       "TTTGTTGTCAAGAGTA-1_Pla_Camb10123934   TOM  Pla_Camb10123934      0.001206   \n",
       "TTTGTTGTCCAATCTT-1_Pla_Camb10123934   TOM  Pla_Camb10123934      0.063601   \n",
       "TTTGTTGTCGCATTAG-1_Pla_Camb10123934   TOM  Pla_Camb10123934      0.110344   \n",
       "\n",
       "                                     n_counts    dataset technique  \\\n",
       "barcode_sample                                                       \n",
       "AAACCCAAGCTAGTTC-1_6044STDY8640561     1220.0  scRNA-seq       10X   \n",
       "AAACCCACAAAGTGTA-1_6044STDY8640561    18931.0  scRNA-seq       10X   \n",
       "AAACCCAGTGCACGCT-1_6044STDY8640561     6288.0  scRNA-seq       10X   \n",
       "AAACCCAGTTGGCCTG-1_6044STDY8640561    10999.0  scRNA-seq       10X   \n",
       "AAACGAAAGCTCCACG-1_6044STDY8640561     6652.0  scRNA-seq       10X   \n",
       "...                                       ...        ...       ...   \n",
       "TTTGTTGGTATCGGTT-1_Pla_Camb10123934   15509.0  scRNA-seq       10X   \n",
       "TTTGTTGGTTGTGGCC-1_Pla_Camb10123934   17680.0  scRNA-seq       10X   \n",
       "TTTGTTGTCAAGAGTA-1_Pla_Camb10123934     829.0  scRNA-seq       10X   \n",
       "TTTGTTGTCCAATCTT-1_Pla_Camb10123934    4937.0  scRNA-seq       10X   \n",
       "TTTGTTGTCGCATTAG-1_Pla_Camb10123934   17391.0  scRNA-seq       10X   \n",
       "\n",
       "                                     scrublet_score  ...  G2M_score  phase  \\\n",
       "barcode_sample                                       ...                     \n",
       "AAACCCAAGCTAGTTC-1_6044STDY8640561         0.025670  ...  -0.052240     G1   \n",
       "AAACCCACAAAGTGTA-1_6044STDY8640561         0.173047  ...  -0.183358     G1   \n",
       "AAACCCAGTGCACGCT-1_6044STDY8640561         0.056231  ...  -0.143884     G1   \n",
       "AAACCCAGTTGGCCTG-1_6044STDY8640561         0.054764  ...   0.101151      S   \n",
       "AAACGAAAGCTCCACG-1_6044STDY8640561         0.044248  ...  -0.135884     G1   \n",
       "...                                             ...  ...        ...    ...   \n",
       "TTTGTTGGTATCGGTT-1_Pla_Camb10123934        0.207339  ...  -0.069770     G1   \n",
       "TTTGTTGGTTGTGGCC-1_Pla_Camb10123934        0.159639  ...  -0.143474     G1   \n",
       "TTTGTTGTCAAGAGTA-1_Pla_Camb10123934        0.105085  ...  -0.113720     G1   \n",
       "TTTGTTGTCCAATCTT-1_Pla_Camb10123934        0.070347  ...  -0.151458     G1   \n",
       "TTTGTTGTCGCATTAG-1_Pla_Camb10123934        0.171429  ...  -0.153149      S   \n",
       "\n",
       "                                    celltype_predictions_P13  \\\n",
       "barcode_sample                                                 \n",
       "AAACCCAAGCTAGTTC-1_6044STDY8640561                       SCT   \n",
       "AAACCCACAAAGTGTA-1_6044STDY8640561                       SCT   \n",
       "AAACCCAGTGCACGCT-1_6044STDY8640561                       SCT   \n",
       "AAACCCAGTTGGCCTG-1_6044STDY8640561                   VCT_CCC   \n",
       "AAACGAAAGCTCCACG-1_6044STDY8640561                   VCT_CCC   \n",
       "...                                                      ...   \n",
       "TTTGTTGGTATCGGTT-1_Pla_Camb10123934                    VCT_p   \n",
       "TTTGTTGGTTGTGGCC-1_Pla_Camb10123934               VCT_fusing   \n",
       "TTTGTTGTCAAGAGTA-1_Pla_Camb10123934                      SCT   \n",
       "TTTGTTGTCCAATCTT-1_Pla_Camb10123934                      SCT   \n",
       "TTTGTTGTCGCATTAG-1_Pla_Camb10123934                    VCT_p   \n",
       "\n",
       "                                     probabilities_P13  \\\n",
       "barcode_sample                                           \n",
       "AAACCCAAGCTAGTTC-1_6044STDY8640561            0.636900   \n",
       "AAACCCACAAAGTGTA-1_6044STDY8640561            0.940563   \n",
       "AAACCCAGTGCACGCT-1_6044STDY8640561            0.815997   \n",
       "AAACCCAGTTGGCCTG-1_6044STDY8640561            0.866917   \n",
       "AAACGAAAGCTCCACG-1_6044STDY8640561            0.920668   \n",
       "...                                                ...   \n",
       "TTTGTTGGTATCGGTT-1_Pla_Camb10123934           0.999891   \n",
       "TTTGTTGGTTGTGGCC-1_Pla_Camb10123934           0.852114   \n",
       "TTTGTTGTCAAGAGTA-1_Pla_Camb10123934           0.903973   \n",
       "TTTGTTGTCCAATCTT-1_Pla_Camb10123934           0.909222   \n",
       "TTTGTTGTCGCATTAG-1_Pla_Camb10123934           0.993534   \n",
       "\n",
       "                                    celltype_predictions_Roser  \\\n",
       "barcode_sample                                                   \n",
       "AAACCCAAGCTAGTTC-1_6044STDY8640561                     VCT_CCC   \n",
       "AAACCCACAAAGTGTA-1_6044STDY8640561                       EVT_1   \n",
       "AAACCCAGTGCACGCT-1_6044STDY8640561                       EVT_1   \n",
       "AAACCCAGTTGGCCTG-1_6044STDY8640561                         VCT   \n",
       "AAACGAAAGCTCCACG-1_6044STDY8640561                         VCT   \n",
       "...                                                        ...   \n",
       "TTTGTTGGTATCGGTT-1_Pla_Camb10123934                        VCT   \n",
       "TTTGTTGGTTGTGGCC-1_Pla_Camb10123934                        SCT   \n",
       "TTTGTTGTCAAGAGTA-1_Pla_Camb10123934                        VCT   \n",
       "TTTGTTGTCCAATCTT-1_Pla_Camb10123934                    VCT_CCC   \n",
       "TTTGTTGTCGCATTAG-1_Pla_Camb10123934                        VCT   \n",
       "\n",
       "                                    probabilities_Roser louvain  louvain_R  \\\n",
       "barcode_sample                                                               \n",
       "AAACCCAAGCTAGTTC-1_6044STDY8640561             0.960739       5          5   \n",
       "AAACCCACAAAGTGTA-1_6044STDY8640561             0.947113       4        4,0   \n",
       "AAACCCAGTGCACGCT-1_6044STDY8640561             0.667089       8          8   \n",
       "AAACCCAGTTGGCCTG-1_6044STDY8640561             0.995907      11         11   \n",
       "AAACGAAAGCTCCACG-1_6044STDY8640561             0.994888       1          1   \n",
       "...                                                 ...     ...        ...   \n",
       "TTTGTTGGTATCGGTT-1_Pla_Camb10123934            0.999992       2          2   \n",
       "TTTGTTGGTTGTGGCC-1_Pla_Camb10123934            0.623202       4        4,1   \n",
       "TTTGTTGTCAAGAGTA-1_Pla_Camb10123934            0.991487       6          6   \n",
       "TTTGTTGTCCAATCTT-1_Pla_Camb10123934            0.980226       4        4,1   \n",
       "TTTGTTGTCGCATTAG-1_Pla_Camb10123934            0.999994       2          2   \n",
       "\n",
       "                                                     barcode_sample_copy  \\\n",
       "barcode_sample                                                             \n",
       "AAACCCAAGCTAGTTC-1_6044STDY8640561    AAACCCAAGCTAGTTC-1_6044STDY8640561   \n",
       "AAACCCACAAAGTGTA-1_6044STDY8640561    AAACCCACAAAGTGTA-1_6044STDY8640561   \n",
       "AAACCCAGTGCACGCT-1_6044STDY8640561    AAACCCAGTGCACGCT-1_6044STDY8640561   \n",
       "AAACCCAGTTGGCCTG-1_6044STDY8640561    AAACCCAGTTGGCCTG-1_6044STDY8640561   \n",
       "AAACGAAAGCTCCACG-1_6044STDY8640561    AAACGAAAGCTCCACG-1_6044STDY8640561   \n",
       "...                                                                  ...   \n",
       "TTTGTTGGTATCGGTT-1_Pla_Camb10123934  TTTGTTGGTATCGGTT-1_Pla_Camb10123934   \n",
       "TTTGTTGGTTGTGGCC-1_Pla_Camb10123934  TTTGTTGGTTGTGGCC-1_Pla_Camb10123934   \n",
       "TTTGTTGTCAAGAGTA-1_Pla_Camb10123934  TTTGTTGTCAAGAGTA-1_Pla_Camb10123934   \n",
       "TTTGTTGTCCAATCTT-1_Pla_Camb10123934  TTTGTTGTCCAATCTT-1_Pla_Camb10123934   \n",
       "TTTGTTGTCGCATTAG-1_Pla_Camb10123934  TTTGTTGTCGCATTAG-1_Pla_Camb10123934   \n",
       "\n",
       "                                     prelim_annot  \n",
       "barcode_sample                                     \n",
       "AAACCCAAGCTAGTTC-1_6044STDY8640561            mix  \n",
       "AAACCCACAAAGTGTA-1_6044STDY8640561            SCT  \n",
       "AAACCCAGTGCACGCT-1_6044STDY8640561            EVT  \n",
       "AAACCCAGTTGGCCTG-1_6044STDY8640561          VCT_p  \n",
       "AAACGAAAGCTCCACG-1_6044STDY8640561            VCT  \n",
       "...                                           ...  \n",
       "TTTGTTGGTATCGGTT-1_Pla_Camb10123934  VCT_TOM_like  \n",
       "TTTGTTGGTTGTGGCC-1_Pla_Camb10123934    VCT_fusing  \n",
       "TTTGTTGTCAAGAGTA-1_Pla_Camb10123934           SCT  \n",
       "TTTGTTGTCCAATCTT-1_Pla_Camb10123934    VCT_fusing  \n",
       "TTTGTTGTCGCATTAG-1_Pla_Camb10123934  VCT_TOM_like  \n",
       "\n",
       "[48676 rows x 30 columns]"
      ]
     },
     "execution_count": 17,
     "metadata": {},
     "output_type": "execute_result"
    }
   ],
   "source": [
    "adata_prelim_annot.obs"
   ]
  },
  {
   "cell_type": "code",
   "execution_count": 20,
   "metadata": {},
   "outputs": [
    {
     "data": {
      "text/plain": [
       "AnnData object with n_obs × n_vars = 37143 × 23015\n",
       "    obs: 'n_genes', 'time_point', 'activation_status', 'media', 'sample', 'percent_mito', 'n_counts', 'dataset', 'technique', 'scrublet_score', 'scrublet_cluster_score', 'bh_pval', 'batch', 'is_doublet', 'experiment', 'barcode', 'souporcell_assignment', 'inter_ind_doublet', 'donor', 'prelim_annot'\n",
       "    var: 'gene_ids-0', 'feature_types-0', 'genome-0', 'n_cells-0', 'gene_ids-1', 'feature_types-1', 'genome-1', 'n_cells-1', 'gene_ids-10', 'feature_types-10', 'genome-10', 'n_cells-10', 'gene_ids-11', 'feature_types-11', 'genome-11', 'n_cells-11', 'gene_ids-12', 'feature_types-12', 'genome-12', 'n_cells-12', 'gene_ids-13', 'feature_types-13', 'genome-13', 'n_cells-13', 'gene_ids-2', 'feature_types-2', 'genome-2', 'n_cells-2', 'gene_ids-3', 'feature_types-3', 'genome-3', 'n_cells-3', 'gene_ids-4', 'feature_types-4', 'genome-4', 'n_cells-4', 'gene_ids-5', 'feature_types-5', 'genome-5', 'n_cells-5', 'gene_ids-6', 'feature_types-6', 'genome-6', 'n_cells-6', 'gene_ids-7', 'feature_types-7', 'genome-7', 'n_cells-7', 'gene_ids-8', 'feature_types-8', 'genome-8', 'n_cells-8', 'gene_ids-9', 'feature_types-9', 'genome-9', 'n_cells-9'"
      ]
     },
     "execution_count": 20,
     "metadata": {},
     "output_type": "execute_result"
    }
   ],
   "source": [
    "# adding prelim_annot to object here\n",
    "adata.obs['prelim_annot'] = adata_prelim_annot.obs.loc[adata.obs_names,'prelim_annot']\n",
    "\n",
    "# excluding 'mix' and 'SCT_donor_5'\n",
    "adata = adata[(adata.obs['prelim_annot'] != 'mix') & (adata.obs['prelim_annot'] != 'SCT_donor_5')].copy()\n",
    "adata"
   ]
  },
  {
   "cell_type": "code",
   "execution_count": 21,
   "metadata": {},
   "outputs": [],
   "source": [
    "# do some basic preprocessing\n",
    "adata.layers[\"raw_counts\"] = adata.X.copy() # preserve counts\n",
    "sc.pp.normalize_total(adata, target_sum=1e4)\n",
    "sc.pp.log1p(adata)\n",
    "adata.raw = adata.copy()"
   ]
  },
  {
   "cell_type": "code",
   "execution_count": 22,
   "metadata": {},
   "outputs": [],
   "source": [
    "# creating a joint donor + sample key for the most correct HVG calculation in case of donor + sample correction\n",
    "adata.obs['donor_sample'] = [i + '_' + j for i,j in zip(adata.obs['donor'], adata.obs['sample'])]"
   ]
  },
  {
   "cell_type": "code",
   "execution_count": 23,
   "metadata": {},
   "outputs": [
    {
     "name": "stderr",
     "output_type": "stream",
     "text": [
      "... storing 'donor_sample' as categorical\n",
      "/opt/conda/envs/scvi-singularity/lib/python3.8/site-packages/pandas/core/indexing.py:1637: SettingWithCopyWarning: \n",
      "A value is trying to be set on a copy of a slice from a DataFrame\n",
      "\n",
      "See the caveats in the documentation: https://pandas.pydata.org/pandas-docs/stable/user_guide/indexing.html#returning-a-view-versus-a-copy\n",
      "  self._setitem_single_block(indexer, value, name)\n"
     ]
    }
   ],
   "source": [
    "# here we subset to HVGs, accounting for donor batch\n",
    "sc.pp.highly_variable_genes(\n",
    "    adata,\n",
    "    n_top_genes=2000,\n",
    "    subset=True,\n",
    "    #layer=\"raw_counts\",\n",
    "    flavor=\"seurat\",\n",
    "    batch_key=\"donor_sample\"\n",
    ")"
   ]
  },
  {
   "cell_type": "code",
   "execution_count": 24,
   "metadata": {
    "scrolled": true
   },
   "outputs": [
    {
     "data": {
      "text/plain": [
       "AnnData object with n_obs × n_vars = 37143 × 2000\n",
       "    obs: 'n_genes', 'time_point', 'activation_status', 'media', 'sample', 'percent_mito', 'n_counts', 'dataset', 'technique', 'scrublet_score', 'scrublet_cluster_score', 'bh_pval', 'batch', 'is_doublet', 'experiment', 'barcode', 'souporcell_assignment', 'inter_ind_doublet', 'donor', 'prelim_annot', 'donor_sample'\n",
       "    var: 'gene_ids-0', 'feature_types-0', 'genome-0', 'n_cells-0', 'gene_ids-1', 'feature_types-1', 'genome-1', 'n_cells-1', 'gene_ids-10', 'feature_types-10', 'genome-10', 'n_cells-10', 'gene_ids-11', 'feature_types-11', 'genome-11', 'n_cells-11', 'gene_ids-12', 'feature_types-12', 'genome-12', 'n_cells-12', 'gene_ids-13', 'feature_types-13', 'genome-13', 'n_cells-13', 'gene_ids-2', 'feature_types-2', 'genome-2', 'n_cells-2', 'gene_ids-3', 'feature_types-3', 'genome-3', 'n_cells-3', 'gene_ids-4', 'feature_types-4', 'genome-4', 'n_cells-4', 'gene_ids-5', 'feature_types-5', 'genome-5', 'n_cells-5', 'gene_ids-6', 'feature_types-6', 'genome-6', 'n_cells-6', 'gene_ids-7', 'feature_types-7', 'genome-7', 'n_cells-7', 'gene_ids-8', 'feature_types-8', 'genome-8', 'n_cells-8', 'gene_ids-9', 'feature_types-9', 'genome-9', 'n_cells-9', 'highly_variable', 'means', 'dispersions', 'dispersions_norm', 'highly_variable_nbatches', 'highly_variable_intersection'\n",
       "    uns: 'log1p', 'hvg'\n",
       "    layers: 'raw_counts'"
      ]
     },
     "execution_count": 24,
     "metadata": {},
     "output_type": "execute_result"
    }
   ],
   "source": [
    "adata"
   ]
  },
  {
   "cell_type": "markdown",
   "metadata": {},
   "source": [
    "#### Here you can specify your covariates you want to correct for (categorical or continuous)"
   ]
  },
  {
   "cell_type": "code",
   "execution_count": 25,
   "metadata": {
    "scrolled": true
   },
   "outputs": [
    {
     "name": "stdout",
     "output_type": "stream",
     "text": [
      "\u001b[34mINFO    \u001b[0m No batch_key inputted, assuming all cells are same batch                            \n",
      "\u001b[34mINFO    \u001b[0m No label_key inputted, assuming all cells have same label                           \n",
      "\u001b[34mINFO    \u001b[0m Using data from adata.layers\u001b[1m[\u001b[0m\u001b[32m\"raw_counts\"\u001b[0m\u001b[1m]\u001b[0m                                          \n",
      "\u001b[34mINFO    \u001b[0m Computing library size prior per batch                                              \n",
      "\u001b[34mINFO    \u001b[0m Successfully registered anndata object containing \u001b[1;36m37143\u001b[0m cells, \u001b[1;36m2000\u001b[0m vars, \u001b[1;36m1\u001b[0m batches,\n",
      "         \u001b[1;36m1\u001b[0m labels, and \u001b[1;36m0\u001b[0m proteins. Also registered \u001b[1;36m2\u001b[0m extra categorical covariates and \u001b[1;36m0\u001b[0m extra\n",
      "         continuous covariates.                                                              \n",
      "\u001b[34mINFO    \u001b[0m Please do not further modify adata until model is trained.                          \n"
     ]
    }
   ],
   "source": [
    "scvi.data.setup_anndata(\n",
    "    adata,\n",
    "    layer=\"raw_counts\",\n",
    "    categorical_covariate_keys=[\"donor\",\"sample\"],\n",
    "    #continuous_covariate_keys=[\"\"] # could try and regress n_genes in the future? not for now\n",
    ")"
   ]
  },
  {
   "cell_type": "markdown",
   "metadata": {},
   "source": [
    "### 23.07.2021, running scVI after excluding `mix` and `SCT_donor_5` clusters (code name \"cleanup_1\")"
   ]
  },
  {
   "cell_type": "code",
   "execution_count": 26,
   "metadata": {},
   "outputs": [
    {
     "name": "stdout",
     "output_type": "stream",
     "text": [
      "n_latent_value 5\n",
      "n_latent_value 10\n",
      "n_latent_value 15\n",
      "n_latent_value 20\n",
      "n_latent_value 30\n",
      "n_latent_value 40\n"
     ]
    }
   ],
   "source": [
    "models = {}\n",
    "\n",
    "# Valentina said n_latent = 10 worked for her well, let's try a few values\n",
    "n_latent_values = [5, 10, 15, 20, 30, 40]\n",
    "\n",
    "for n_latent_value in n_latent_values:\n",
    "    print('n_latent_value', n_latent_value)\n",
    "    models[n_latent_value] = scvi.model.SCVI(adata, n_latent = n_latent_value)"
   ]
  },
  {
   "cell_type": "code",
   "execution_count": 27,
   "metadata": {
    "scrolled": true
   },
   "outputs": [
    {
     "data": {
      "text/html": [
       "<pre style=\"white-space:pre;overflow-x:auto;line-height:normal;font-family:Menlo,'DejaVu Sans Mono',consolas,'Courier New',monospace\">SCVI Model with the following params: \n",
       "n_hidden: <span style=\"color: #008080; text-decoration-color: #008080; font-weight: bold\">128</span>, n_latent: <span style=\"color: #008080; text-decoration-color: #008080; font-weight: bold\">5</span>, n_layers: <span style=\"color: #008080; text-decoration-color: #008080; font-weight: bold\">1</span>, dropout_rate: <span style=\"color: #008080; text-decoration-color: #008080; font-weight: bold\">0.1</span>, dispersion: gene, \n",
       "gene_likelihood: zinb, latent_distribution: normal\n",
       "Training status: Not Trained\n",
       "</pre>\n"
      ],
      "text/plain": [
       "SCVI Model with the following params: \n",
       "n_hidden: \u001b[1;36m128\u001b[0m, n_latent: \u001b[1;36m5\u001b[0m, n_layers: \u001b[1;36m1\u001b[0m, dropout_rate: \u001b[1;36m0.1\u001b[0m, dispersion: gene, \n",
       "gene_likelihood: zinb, latent_distribution: normal\n",
       "Training status: Not Trained\n"
      ]
     },
     "metadata": {},
     "output_type": "display_data"
    },
    {
     "data": {
      "text/html": [
       "<pre style=\"white-space:pre;overflow-x:auto;line-height:normal;font-family:Menlo,'DejaVu Sans Mono',consolas,'Courier New',monospace\">\n",
       "\n",
       "To print summary of associated AnnData, use: <span style=\"color: #af00d7; text-decoration-color: #af00d7\">scvi.data.view_anndata_setup(model.adata)</span>\n",
       "</pre>\n"
      ],
      "text/plain": [
       "\n",
       "\n",
       "To print summary of associated AnnData, use: \u001b[38;5;128mscvi.data.view_anndata_setup(model.adata)\u001b[0m\n"
      ]
     },
     "metadata": {},
     "output_type": "display_data"
    },
    {
     "data": {
      "text/plain": []
     },
     "execution_count": 27,
     "metadata": {},
     "output_type": "execute_result"
    }
   ],
   "source": [
    "models[5]"
   ]
  },
  {
   "cell_type": "code",
   "execution_count": 28,
   "metadata": {},
   "outputs": [
    {
     "data": {
      "text/html": [
       "<pre style=\"white-space:pre;overflow-x:auto;line-height:normal;font-family:Menlo,'DejaVu Sans Mono',consolas,'Courier New',monospace\">SCVI Model with the following params: \n",
       "n_hidden: <span style=\"color: #008080; text-decoration-color: #008080; font-weight: bold\">128</span>, n_latent: <span style=\"color: #008080; text-decoration-color: #008080; font-weight: bold\">10</span>, n_layers: <span style=\"color: #008080; text-decoration-color: #008080; font-weight: bold\">1</span>, dropout_rate: <span style=\"color: #008080; text-decoration-color: #008080; font-weight: bold\">0.1</span>, dispersion: gene, \n",
       "gene_likelihood: zinb, latent_distribution: normal\n",
       "Training status: Not Trained\n",
       "</pre>\n"
      ],
      "text/plain": [
       "SCVI Model with the following params: \n",
       "n_hidden: \u001b[1;36m128\u001b[0m, n_latent: \u001b[1;36m10\u001b[0m, n_layers: \u001b[1;36m1\u001b[0m, dropout_rate: \u001b[1;36m0.1\u001b[0m, dispersion: gene, \n",
       "gene_likelihood: zinb, latent_distribution: normal\n",
       "Training status: Not Trained\n"
      ]
     },
     "metadata": {},
     "output_type": "display_data"
    },
    {
     "data": {
      "text/html": [
       "<pre style=\"white-space:pre;overflow-x:auto;line-height:normal;font-family:Menlo,'DejaVu Sans Mono',consolas,'Courier New',monospace\">\n",
       "\n",
       "To print summary of associated AnnData, use: <span style=\"color: #af00d7; text-decoration-color: #af00d7\">scvi.data.view_anndata_setup(model.adata)</span>\n",
       "</pre>\n"
      ],
      "text/plain": [
       "\n",
       "\n",
       "To print summary of associated AnnData, use: \u001b[38;5;128mscvi.data.view_anndata_setup(model.adata)\u001b[0m\n"
      ]
     },
     "metadata": {},
     "output_type": "display_data"
    },
    {
     "data": {
      "text/plain": []
     },
     "execution_count": 28,
     "metadata": {},
     "output_type": "execute_result"
    }
   ],
   "source": [
    "models[10]"
   ]
  },
  {
   "cell_type": "code",
   "execution_count": 29,
   "metadata": {},
   "outputs": [
    {
     "data": {
      "text/html": [
       "<pre style=\"white-space:pre;overflow-x:auto;line-height:normal;font-family:Menlo,'DejaVu Sans Mono',consolas,'Courier New',monospace\">SCVI Model with the following params: \n",
       "n_hidden: <span style=\"color: #008080; text-decoration-color: #008080; font-weight: bold\">128</span>, n_latent: <span style=\"color: #008080; text-decoration-color: #008080; font-weight: bold\">15</span>, n_layers: <span style=\"color: #008080; text-decoration-color: #008080; font-weight: bold\">1</span>, dropout_rate: <span style=\"color: #008080; text-decoration-color: #008080; font-weight: bold\">0.1</span>, dispersion: gene, \n",
       "gene_likelihood: zinb, latent_distribution: normal\n",
       "Training status: Not Trained\n",
       "</pre>\n"
      ],
      "text/plain": [
       "SCVI Model with the following params: \n",
       "n_hidden: \u001b[1;36m128\u001b[0m, n_latent: \u001b[1;36m15\u001b[0m, n_layers: \u001b[1;36m1\u001b[0m, dropout_rate: \u001b[1;36m0.1\u001b[0m, dispersion: gene, \n",
       "gene_likelihood: zinb, latent_distribution: normal\n",
       "Training status: Not Trained\n"
      ]
     },
     "metadata": {},
     "output_type": "display_data"
    },
    {
     "data": {
      "text/html": [
       "<pre style=\"white-space:pre;overflow-x:auto;line-height:normal;font-family:Menlo,'DejaVu Sans Mono',consolas,'Courier New',monospace\">\n",
       "\n",
       "To print summary of associated AnnData, use: <span style=\"color: #af00d7; text-decoration-color: #af00d7\">scvi.data.view_anndata_setup(model.adata)</span>\n",
       "</pre>\n"
      ],
      "text/plain": [
       "\n",
       "\n",
       "To print summary of associated AnnData, use: \u001b[38;5;128mscvi.data.view_anndata_setup(model.adata)\u001b[0m\n"
      ]
     },
     "metadata": {},
     "output_type": "display_data"
    },
    {
     "data": {
      "text/plain": []
     },
     "execution_count": 29,
     "metadata": {},
     "output_type": "execute_result"
    }
   ],
   "source": [
    "models[15]"
   ]
  },
  {
   "cell_type": "code",
   "execution_count": 30,
   "metadata": {},
   "outputs": [
    {
     "data": {
      "text/html": [
       "<pre style=\"white-space:pre;overflow-x:auto;line-height:normal;font-family:Menlo,'DejaVu Sans Mono',consolas,'Courier New',monospace\">SCVI Model with the following params: \n",
       "n_hidden: <span style=\"color: #008080; text-decoration-color: #008080; font-weight: bold\">128</span>, n_latent: <span style=\"color: #008080; text-decoration-color: #008080; font-weight: bold\">20</span>, n_layers: <span style=\"color: #008080; text-decoration-color: #008080; font-weight: bold\">1</span>, dropout_rate: <span style=\"color: #008080; text-decoration-color: #008080; font-weight: bold\">0.1</span>, dispersion: gene, \n",
       "gene_likelihood: zinb, latent_distribution: normal\n",
       "Training status: Not Trained\n",
       "</pre>\n"
      ],
      "text/plain": [
       "SCVI Model with the following params: \n",
       "n_hidden: \u001b[1;36m128\u001b[0m, n_latent: \u001b[1;36m20\u001b[0m, n_layers: \u001b[1;36m1\u001b[0m, dropout_rate: \u001b[1;36m0.1\u001b[0m, dispersion: gene, \n",
       "gene_likelihood: zinb, latent_distribution: normal\n",
       "Training status: Not Trained\n"
      ]
     },
     "metadata": {},
     "output_type": "display_data"
    },
    {
     "data": {
      "text/html": [
       "<pre style=\"white-space:pre;overflow-x:auto;line-height:normal;font-family:Menlo,'DejaVu Sans Mono',consolas,'Courier New',monospace\">\n",
       "\n",
       "To print summary of associated AnnData, use: <span style=\"color: #af00d7; text-decoration-color: #af00d7\">scvi.data.view_anndata_setup(model.adata)</span>\n",
       "</pre>\n"
      ],
      "text/plain": [
       "\n",
       "\n",
       "To print summary of associated AnnData, use: \u001b[38;5;128mscvi.data.view_anndata_setup(model.adata)\u001b[0m\n"
      ]
     },
     "metadata": {},
     "output_type": "display_data"
    },
    {
     "data": {
      "text/plain": []
     },
     "execution_count": 30,
     "metadata": {},
     "output_type": "execute_result"
    }
   ],
   "source": [
    "models[20]"
   ]
  },
  {
   "cell_type": "code",
   "execution_count": 31,
   "metadata": {},
   "outputs": [
    {
     "data": {
      "text/html": [
       "<pre style=\"white-space:pre;overflow-x:auto;line-height:normal;font-family:Menlo,'DejaVu Sans Mono',consolas,'Courier New',monospace\">SCVI Model with the following params: \n",
       "n_hidden: <span style=\"color: #008080; text-decoration-color: #008080; font-weight: bold\">128</span>, n_latent: <span style=\"color: #008080; text-decoration-color: #008080; font-weight: bold\">30</span>, n_layers: <span style=\"color: #008080; text-decoration-color: #008080; font-weight: bold\">1</span>, dropout_rate: <span style=\"color: #008080; text-decoration-color: #008080; font-weight: bold\">0.1</span>, dispersion: gene, \n",
       "gene_likelihood: zinb, latent_distribution: normal\n",
       "Training status: Not Trained\n",
       "</pre>\n"
      ],
      "text/plain": [
       "SCVI Model with the following params: \n",
       "n_hidden: \u001b[1;36m128\u001b[0m, n_latent: \u001b[1;36m30\u001b[0m, n_layers: \u001b[1;36m1\u001b[0m, dropout_rate: \u001b[1;36m0.1\u001b[0m, dispersion: gene, \n",
       "gene_likelihood: zinb, latent_distribution: normal\n",
       "Training status: Not Trained\n"
      ]
     },
     "metadata": {},
     "output_type": "display_data"
    },
    {
     "data": {
      "text/html": [
       "<pre style=\"white-space:pre;overflow-x:auto;line-height:normal;font-family:Menlo,'DejaVu Sans Mono',consolas,'Courier New',monospace\">\n",
       "\n",
       "To print summary of associated AnnData, use: <span style=\"color: #af00d7; text-decoration-color: #af00d7\">scvi.data.view_anndata_setup(model.adata)</span>\n",
       "</pre>\n"
      ],
      "text/plain": [
       "\n",
       "\n",
       "To print summary of associated AnnData, use: \u001b[38;5;128mscvi.data.view_anndata_setup(model.adata)\u001b[0m\n"
      ]
     },
     "metadata": {},
     "output_type": "display_data"
    },
    {
     "data": {
      "text/plain": []
     },
     "execution_count": 31,
     "metadata": {},
     "output_type": "execute_result"
    }
   ],
   "source": [
    "models[30]"
   ]
  },
  {
   "cell_type": "code",
   "execution_count": 32,
   "metadata": {},
   "outputs": [
    {
     "data": {
      "text/html": [
       "<pre style=\"white-space:pre;overflow-x:auto;line-height:normal;font-family:Menlo,'DejaVu Sans Mono',consolas,'Courier New',monospace\">SCVI Model with the following params: \n",
       "n_hidden: <span style=\"color: #008080; text-decoration-color: #008080; font-weight: bold\">128</span>, n_latent: <span style=\"color: #008080; text-decoration-color: #008080; font-weight: bold\">40</span>, n_layers: <span style=\"color: #008080; text-decoration-color: #008080; font-weight: bold\">1</span>, dropout_rate: <span style=\"color: #008080; text-decoration-color: #008080; font-weight: bold\">0.1</span>, dispersion: gene, \n",
       "gene_likelihood: zinb, latent_distribution: normal\n",
       "Training status: Not Trained\n",
       "</pre>\n"
      ],
      "text/plain": [
       "SCVI Model with the following params: \n",
       "n_hidden: \u001b[1;36m128\u001b[0m, n_latent: \u001b[1;36m40\u001b[0m, n_layers: \u001b[1;36m1\u001b[0m, dropout_rate: \u001b[1;36m0.1\u001b[0m, dispersion: gene, \n",
       "gene_likelihood: zinb, latent_distribution: normal\n",
       "Training status: Not Trained\n"
      ]
     },
     "metadata": {},
     "output_type": "display_data"
    },
    {
     "data": {
      "text/html": [
       "<pre style=\"white-space:pre;overflow-x:auto;line-height:normal;font-family:Menlo,'DejaVu Sans Mono',consolas,'Courier New',monospace\">\n",
       "\n",
       "To print summary of associated AnnData, use: <span style=\"color: #af00d7; text-decoration-color: #af00d7\">scvi.data.view_anndata_setup(model.adata)</span>\n",
       "</pre>\n"
      ],
      "text/plain": [
       "\n",
       "\n",
       "To print summary of associated AnnData, use: \u001b[38;5;128mscvi.data.view_anndata_setup(model.adata)\u001b[0m\n"
      ]
     },
     "metadata": {},
     "output_type": "display_data"
    },
    {
     "data": {
      "text/plain": []
     },
     "execution_count": 32,
     "metadata": {},
     "output_type": "execute_result"
    }
   ],
   "source": [
    "models[40]"
   ]
  },
  {
   "cell_type": "code",
   "execution_count": 33,
   "metadata": {
    "scrolled": true
   },
   "outputs": [
    {
     "name": "stderr",
     "output_type": "stream",
     "text": [
      "GPU available: True, used: True\n",
      "TPU available: False, using: 0 TPU cores\n",
      "LOCAL_RANK: 0 - CUDA_VISIBLE_DEVICES: [0,1,2,3,4,5,6,7]\n"
     ]
    },
    {
     "name": "stdout",
     "output_type": "stream",
     "text": [
      "training model for n_latent_value: 5\n",
      "Epoch 215/215: 100%|██████████████████████████████████████████████████████████████████| 215/215 [17:01<00:00,  4.75s/it, loss=1.1e+03, v_num=1]\n"
     ]
    },
    {
     "name": "stderr",
     "output_type": "stream",
     "text": [
      "GPU available: True, used: True\n",
      "TPU available: False, using: 0 TPU cores\n",
      "LOCAL_RANK: 0 - CUDA_VISIBLE_DEVICES: [0,1,2,3,4,5,6,7]\n"
     ]
    },
    {
     "name": "stdout",
     "output_type": "stream",
     "text": [
      "training model for n_latent_value: 10\n",
      "Epoch 215/215: 100%|█████████████████████████████████████████████████████████████████| 215/215 [17:40<00:00,  4.93s/it, loss=1.09e+03, v_num=1]\n"
     ]
    },
    {
     "name": "stderr",
     "output_type": "stream",
     "text": [
      "GPU available: True, used: True\n",
      "TPU available: False, using: 0 TPU cores\n",
      "LOCAL_RANK: 0 - CUDA_VISIBLE_DEVICES: [0,1,2,3,4,5,6,7]\n"
     ]
    },
    {
     "name": "stdout",
     "output_type": "stream",
     "text": [
      "training model for n_latent_value: 15\n",
      "Epoch 215/215: 100%|██████████████████████████████████████████████████████████████████| 215/215 [21:52<00:00,  6.10s/it, loss=1.1e+03, v_num=1]\n"
     ]
    },
    {
     "name": "stderr",
     "output_type": "stream",
     "text": [
      "GPU available: True, used: True\n",
      "TPU available: False, using: 0 TPU cores\n",
      "LOCAL_RANK: 0 - CUDA_VISIBLE_DEVICES: [0,1,2,3,4,5,6,7]\n"
     ]
    },
    {
     "name": "stdout",
     "output_type": "stream",
     "text": [
      "training model for n_latent_value: 20\n",
      "Epoch 215/215: 100%|█████████████████████████████████████████████████████████████████| 215/215 [16:17<00:00,  4.55s/it, loss=1.08e+03, v_num=1]\n"
     ]
    },
    {
     "name": "stderr",
     "output_type": "stream",
     "text": [
      "GPU available: True, used: True\n",
      "TPU available: False, using: 0 TPU cores\n",
      "LOCAL_RANK: 0 - CUDA_VISIBLE_DEVICES: [0,1,2,3,4,5,6,7]\n"
     ]
    },
    {
     "name": "stdout",
     "output_type": "stream",
     "text": [
      "training model for n_latent_value: 30\n",
      "Epoch 215/215: 100%|█████████████████████████████████████████████████████████████████| 215/215 [23:11<00:00,  6.47s/it, loss=1.11e+03, v_num=1]\n"
     ]
    },
    {
     "name": "stderr",
     "output_type": "stream",
     "text": [
      "GPU available: True, used: True\n",
      "TPU available: False, using: 0 TPU cores\n",
      "LOCAL_RANK: 0 - CUDA_VISIBLE_DEVICES: [0,1,2,3,4,5,6,7]\n"
     ]
    },
    {
     "name": "stdout",
     "output_type": "stream",
     "text": [
      "training model for n_latent_value: 40\n",
      "Epoch 215/215: 100%|██████████████████████████████████████████████████████████████████| 215/215 [19:26<00:00,  5.42s/it, loss=1.1e+03, v_num=1]\n"
     ]
    }
   ],
   "source": [
    "latent_representations = {}\n",
    "\n",
    "for n_latent_value in n_latent_values:\n",
    "    print('training model for n_latent_value:', n_latent_value)\n",
    "    models[n_latent_value].train()\n",
    "    \n",
    "    # get latent representation as a dataframe\n",
    "    latent_representations[n_latent_value] = models[n_latent_value].get_latent_representation()\n",
    "    \n",
    "    # add it to the adata object\n",
    "    adata.obsm[\"X_scVI_n_latent_\" + str(n_latent_value)] = latent_representations[n_latent_value]\n",
    "    curr_df = pd.DataFrame(adata.obsm[\"X_scVI_n_latent_\" + str(n_latent_value)])\n",
    "    \n",
    "    # save the latent representation\n",
    "    curr_df.to_csv('./20210723_obsm_with_scVI_latent_representation_n_' + str(n_latent_value) + '_NO_CYTONIKE_after_CCG_removal_and_all_doublet_exclusion_cleanup_1.csv')"
   ]
  },
  {
   "cell_type": "code",
   "execution_count": null,
   "metadata": {},
   "outputs": [],
   "source": []
  },
  {
   "cell_type": "code",
   "execution_count": null,
   "metadata": {},
   "outputs": [],
   "source": []
  },
  {
   "cell_type": "code",
   "execution_count": null,
   "metadata": {},
   "outputs": [],
   "source": []
  },
  {
   "cell_type": "code",
   "execution_count": null,
   "metadata": {},
   "outputs": [],
   "source": []
  },
  {
   "cell_type": "code",
   "execution_count": null,
   "metadata": {},
   "outputs": [],
   "source": []
  },
  {
   "cell_type": "code",
   "execution_count": null,
   "metadata": {},
   "outputs": [],
   "source": []
  },
  {
   "cell_type": "code",
   "execution_count": null,
   "metadata": {},
   "outputs": [],
   "source": []
  },
  {
   "cell_type": "code",
   "execution_count": null,
   "metadata": {},
   "outputs": [],
   "source": []
  },
  {
   "cell_type": "code",
   "execution_count": null,
   "metadata": {},
   "outputs": [],
   "source": []
  },
  {
   "cell_type": "markdown",
   "metadata": {},
   "source": [
    "### Running scVI after removing cell cycle-associated genes (calculated in M2 notebook) and exclusion of all doublets including those by GEX (marked in M3 notebook)"
   ]
  },
  {
   "cell_type": "code",
   "execution_count": 32,
   "metadata": {},
   "outputs": [
    {
     "name": "stdout",
     "output_type": "stream",
     "text": [
      "n_latent_value 5\n",
      "n_latent_value 10\n",
      "n_latent_value 15\n",
      "n_latent_value 20\n",
      "n_latent_value 30\n",
      "n_latent_value 40\n"
     ]
    }
   ],
   "source": [
    "models = {}\n",
    "\n",
    "# Valentina said n_latent = 10 worked for her well, let's try a few values\n",
    "n_latent_values = [5, 10, 15, 20, 30, 40]\n",
    "\n",
    "for n_latent_value in n_latent_values:\n",
    "    print('n_latent_value', n_latent_value)\n",
    "    models[n_latent_value] = scvi.model.SCVI(adata, n_latent = n_latent_value)"
   ]
  },
  {
   "cell_type": "code",
   "execution_count": 36,
   "metadata": {
    "scrolled": true
   },
   "outputs": [
    {
     "data": {
      "text/html": [
       "<pre style=\"white-space:pre;overflow-x:auto;line-height:normal;font-family:Menlo,'DejaVu Sans Mono',consolas,'Courier New',monospace\">SCVI Model with the following params: \n",
       "n_hidden: <span style=\"color: #008080; text-decoration-color: #008080; font-weight: bold\">128</span>, n_latent: <span style=\"color: #008080; text-decoration-color: #008080; font-weight: bold\">5</span>, n_layers: <span style=\"color: #008080; text-decoration-color: #008080; font-weight: bold\">1</span>, dropout_rate: <span style=\"color: #008080; text-decoration-color: #008080; font-weight: bold\">0.1</span>, dispersion: gene, \n",
       "gene_likelihood: zinb, latent_distribution: normal\n",
       "Training status: Not Trained\n",
       "</pre>\n"
      ],
      "text/plain": [
       "SCVI Model with the following params: \n",
       "n_hidden: \u001b[1;36m128\u001b[0m, n_latent: \u001b[1;36m5\u001b[0m, n_layers: \u001b[1;36m1\u001b[0m, dropout_rate: \u001b[1;36m0.1\u001b[0m, dispersion: gene, \n",
       "gene_likelihood: zinb, latent_distribution: normal\n",
       "Training status: Not Trained\n"
      ]
     },
     "metadata": {},
     "output_type": "display_data"
    },
    {
     "data": {
      "text/html": [
       "<pre style=\"white-space:pre;overflow-x:auto;line-height:normal;font-family:Menlo,'DejaVu Sans Mono',consolas,'Courier New',monospace\">\n",
       "\n",
       "To print summary of associated AnnData, use: <span style=\"color: #af00d7; text-decoration-color: #af00d7\">scvi.data.view_anndata_setup(model.adata)</span>\n",
       "</pre>\n"
      ],
      "text/plain": [
       "\n",
       "\n",
       "To print summary of associated AnnData, use: \u001b[38;5;128mscvi.data.view_anndata_setup(model.adata)\u001b[0m\n"
      ]
     },
     "metadata": {},
     "output_type": "display_data"
    },
    {
     "data": {
      "text/plain": []
     },
     "execution_count": 36,
     "metadata": {},
     "output_type": "execute_result"
    }
   ],
   "source": [
    "models[5]"
   ]
  },
  {
   "cell_type": "code",
   "execution_count": 37,
   "metadata": {},
   "outputs": [
    {
     "data": {
      "text/html": [
       "<pre style=\"white-space:pre;overflow-x:auto;line-height:normal;font-family:Menlo,'DejaVu Sans Mono',consolas,'Courier New',monospace\">SCVI Model with the following params: \n",
       "n_hidden: <span style=\"color: #008080; text-decoration-color: #008080; font-weight: bold\">128</span>, n_latent: <span style=\"color: #008080; text-decoration-color: #008080; font-weight: bold\">10</span>, n_layers: <span style=\"color: #008080; text-decoration-color: #008080; font-weight: bold\">1</span>, dropout_rate: <span style=\"color: #008080; text-decoration-color: #008080; font-weight: bold\">0.1</span>, dispersion: gene, \n",
       "gene_likelihood: zinb, latent_distribution: normal\n",
       "Training status: Not Trained\n",
       "</pre>\n"
      ],
      "text/plain": [
       "SCVI Model with the following params: \n",
       "n_hidden: \u001b[1;36m128\u001b[0m, n_latent: \u001b[1;36m10\u001b[0m, n_layers: \u001b[1;36m1\u001b[0m, dropout_rate: \u001b[1;36m0.1\u001b[0m, dispersion: gene, \n",
       "gene_likelihood: zinb, latent_distribution: normal\n",
       "Training status: Not Trained\n"
      ]
     },
     "metadata": {},
     "output_type": "display_data"
    },
    {
     "data": {
      "text/html": [
       "<pre style=\"white-space:pre;overflow-x:auto;line-height:normal;font-family:Menlo,'DejaVu Sans Mono',consolas,'Courier New',monospace\">\n",
       "\n",
       "To print summary of associated AnnData, use: <span style=\"color: #af00d7; text-decoration-color: #af00d7\">scvi.data.view_anndata_setup(model.adata)</span>\n",
       "</pre>\n"
      ],
      "text/plain": [
       "\n",
       "\n",
       "To print summary of associated AnnData, use: \u001b[38;5;128mscvi.data.view_anndata_setup(model.adata)\u001b[0m\n"
      ]
     },
     "metadata": {},
     "output_type": "display_data"
    },
    {
     "data": {
      "text/plain": []
     },
     "execution_count": 37,
     "metadata": {},
     "output_type": "execute_result"
    }
   ],
   "source": [
    "models[10]"
   ]
  },
  {
   "cell_type": "code",
   "execution_count": 38,
   "metadata": {},
   "outputs": [
    {
     "data": {
      "text/html": [
       "<pre style=\"white-space:pre;overflow-x:auto;line-height:normal;font-family:Menlo,'DejaVu Sans Mono',consolas,'Courier New',monospace\">SCVI Model with the following params: \n",
       "n_hidden: <span style=\"color: #008080; text-decoration-color: #008080; font-weight: bold\">128</span>, n_latent: <span style=\"color: #008080; text-decoration-color: #008080; font-weight: bold\">15</span>, n_layers: <span style=\"color: #008080; text-decoration-color: #008080; font-weight: bold\">1</span>, dropout_rate: <span style=\"color: #008080; text-decoration-color: #008080; font-weight: bold\">0.1</span>, dispersion: gene, \n",
       "gene_likelihood: zinb, latent_distribution: normal\n",
       "Training status: Not Trained\n",
       "</pre>\n"
      ],
      "text/plain": [
       "SCVI Model with the following params: \n",
       "n_hidden: \u001b[1;36m128\u001b[0m, n_latent: \u001b[1;36m15\u001b[0m, n_layers: \u001b[1;36m1\u001b[0m, dropout_rate: \u001b[1;36m0.1\u001b[0m, dispersion: gene, \n",
       "gene_likelihood: zinb, latent_distribution: normal\n",
       "Training status: Not Trained\n"
      ]
     },
     "metadata": {},
     "output_type": "display_data"
    },
    {
     "data": {
      "text/html": [
       "<pre style=\"white-space:pre;overflow-x:auto;line-height:normal;font-family:Menlo,'DejaVu Sans Mono',consolas,'Courier New',monospace\">\n",
       "\n",
       "To print summary of associated AnnData, use: <span style=\"color: #af00d7; text-decoration-color: #af00d7\">scvi.data.view_anndata_setup(model.adata)</span>\n",
       "</pre>\n"
      ],
      "text/plain": [
       "\n",
       "\n",
       "To print summary of associated AnnData, use: \u001b[38;5;128mscvi.data.view_anndata_setup(model.adata)\u001b[0m\n"
      ]
     },
     "metadata": {},
     "output_type": "display_data"
    },
    {
     "data": {
      "text/plain": []
     },
     "execution_count": 38,
     "metadata": {},
     "output_type": "execute_result"
    }
   ],
   "source": [
    "models[15]"
   ]
  },
  {
   "cell_type": "code",
   "execution_count": 39,
   "metadata": {},
   "outputs": [
    {
     "data": {
      "text/html": [
       "<pre style=\"white-space:pre;overflow-x:auto;line-height:normal;font-family:Menlo,'DejaVu Sans Mono',consolas,'Courier New',monospace\">SCVI Model with the following params: \n",
       "n_hidden: <span style=\"color: #008080; text-decoration-color: #008080; font-weight: bold\">128</span>, n_latent: <span style=\"color: #008080; text-decoration-color: #008080; font-weight: bold\">20</span>, n_layers: <span style=\"color: #008080; text-decoration-color: #008080; font-weight: bold\">1</span>, dropout_rate: <span style=\"color: #008080; text-decoration-color: #008080; font-weight: bold\">0.1</span>, dispersion: gene, \n",
       "gene_likelihood: zinb, latent_distribution: normal\n",
       "Training status: Not Trained\n",
       "</pre>\n"
      ],
      "text/plain": [
       "SCVI Model with the following params: \n",
       "n_hidden: \u001b[1;36m128\u001b[0m, n_latent: \u001b[1;36m20\u001b[0m, n_layers: \u001b[1;36m1\u001b[0m, dropout_rate: \u001b[1;36m0.1\u001b[0m, dispersion: gene, \n",
       "gene_likelihood: zinb, latent_distribution: normal\n",
       "Training status: Not Trained\n"
      ]
     },
     "metadata": {},
     "output_type": "display_data"
    },
    {
     "data": {
      "text/html": [
       "<pre style=\"white-space:pre;overflow-x:auto;line-height:normal;font-family:Menlo,'DejaVu Sans Mono',consolas,'Courier New',monospace\">\n",
       "\n",
       "To print summary of associated AnnData, use: <span style=\"color: #af00d7; text-decoration-color: #af00d7\">scvi.data.view_anndata_setup(model.adata)</span>\n",
       "</pre>\n"
      ],
      "text/plain": [
       "\n",
       "\n",
       "To print summary of associated AnnData, use: \u001b[38;5;128mscvi.data.view_anndata_setup(model.adata)\u001b[0m\n"
      ]
     },
     "metadata": {},
     "output_type": "display_data"
    },
    {
     "data": {
      "text/plain": []
     },
     "execution_count": 39,
     "metadata": {},
     "output_type": "execute_result"
    }
   ],
   "source": [
    "models[20]"
   ]
  },
  {
   "cell_type": "code",
   "execution_count": 40,
   "metadata": {},
   "outputs": [
    {
     "data": {
      "text/html": [
       "<pre style=\"white-space:pre;overflow-x:auto;line-height:normal;font-family:Menlo,'DejaVu Sans Mono',consolas,'Courier New',monospace\">SCVI Model with the following params: \n",
       "n_hidden: <span style=\"color: #008080; text-decoration-color: #008080; font-weight: bold\">128</span>, n_latent: <span style=\"color: #008080; text-decoration-color: #008080; font-weight: bold\">30</span>, n_layers: <span style=\"color: #008080; text-decoration-color: #008080; font-weight: bold\">1</span>, dropout_rate: <span style=\"color: #008080; text-decoration-color: #008080; font-weight: bold\">0.1</span>, dispersion: gene, \n",
       "gene_likelihood: zinb, latent_distribution: normal\n",
       "Training status: Not Trained\n",
       "</pre>\n"
      ],
      "text/plain": [
       "SCVI Model with the following params: \n",
       "n_hidden: \u001b[1;36m128\u001b[0m, n_latent: \u001b[1;36m30\u001b[0m, n_layers: \u001b[1;36m1\u001b[0m, dropout_rate: \u001b[1;36m0.1\u001b[0m, dispersion: gene, \n",
       "gene_likelihood: zinb, latent_distribution: normal\n",
       "Training status: Not Trained\n"
      ]
     },
     "metadata": {},
     "output_type": "display_data"
    },
    {
     "data": {
      "text/html": [
       "<pre style=\"white-space:pre;overflow-x:auto;line-height:normal;font-family:Menlo,'DejaVu Sans Mono',consolas,'Courier New',monospace\">\n",
       "\n",
       "To print summary of associated AnnData, use: <span style=\"color: #af00d7; text-decoration-color: #af00d7\">scvi.data.view_anndata_setup(model.adata)</span>\n",
       "</pre>\n"
      ],
      "text/plain": [
       "\n",
       "\n",
       "To print summary of associated AnnData, use: \u001b[38;5;128mscvi.data.view_anndata_setup(model.adata)\u001b[0m\n"
      ]
     },
     "metadata": {},
     "output_type": "display_data"
    },
    {
     "data": {
      "text/plain": []
     },
     "execution_count": 40,
     "metadata": {},
     "output_type": "execute_result"
    }
   ],
   "source": [
    "models[30]"
   ]
  },
  {
   "cell_type": "code",
   "execution_count": 41,
   "metadata": {},
   "outputs": [
    {
     "data": {
      "text/html": [
       "<pre style=\"white-space:pre;overflow-x:auto;line-height:normal;font-family:Menlo,'DejaVu Sans Mono',consolas,'Courier New',monospace\">SCVI Model with the following params: \n",
       "n_hidden: <span style=\"color: #008080; text-decoration-color: #008080; font-weight: bold\">128</span>, n_latent: <span style=\"color: #008080; text-decoration-color: #008080; font-weight: bold\">40</span>, n_layers: <span style=\"color: #008080; text-decoration-color: #008080; font-weight: bold\">1</span>, dropout_rate: <span style=\"color: #008080; text-decoration-color: #008080; font-weight: bold\">0.1</span>, dispersion: gene, \n",
       "gene_likelihood: zinb, latent_distribution: normal\n",
       "Training status: Not Trained\n",
       "</pre>\n"
      ],
      "text/plain": [
       "SCVI Model with the following params: \n",
       "n_hidden: \u001b[1;36m128\u001b[0m, n_latent: \u001b[1;36m40\u001b[0m, n_layers: \u001b[1;36m1\u001b[0m, dropout_rate: \u001b[1;36m0.1\u001b[0m, dispersion: gene, \n",
       "gene_likelihood: zinb, latent_distribution: normal\n",
       "Training status: Not Trained\n"
      ]
     },
     "metadata": {},
     "output_type": "display_data"
    },
    {
     "data": {
      "text/html": [
       "<pre style=\"white-space:pre;overflow-x:auto;line-height:normal;font-family:Menlo,'DejaVu Sans Mono',consolas,'Courier New',monospace\">\n",
       "\n",
       "To print summary of associated AnnData, use: <span style=\"color: #af00d7; text-decoration-color: #af00d7\">scvi.data.view_anndata_setup(model.adata)</span>\n",
       "</pre>\n"
      ],
      "text/plain": [
       "\n",
       "\n",
       "To print summary of associated AnnData, use: \u001b[38;5;128mscvi.data.view_anndata_setup(model.adata)\u001b[0m\n"
      ]
     },
     "metadata": {},
     "output_type": "display_data"
    },
    {
     "data": {
      "text/plain": []
     },
     "execution_count": 41,
     "metadata": {},
     "output_type": "execute_result"
    }
   ],
   "source": [
    "models[40]"
   ]
  },
  {
   "cell_type": "code",
   "execution_count": 42,
   "metadata": {
    "scrolled": true
   },
   "outputs": [
    {
     "name": "stderr",
     "output_type": "stream",
     "text": [
      "GPU available: True, used: True\n",
      "TPU available: False, using: 0 TPU cores\n",
      "LOCAL_RANK: 0 - CUDA_VISIBLE_DEVICES: [0]\n"
     ]
    },
    {
     "name": "stdout",
     "output_type": "stream",
     "text": [
      "training model for n_latent_value: 5\n",
      "Epoch 164/164: 100%|██████████████████████████████████████████████████████████████████████| 164/164 [09:12<00:00,  3.37s/it, loss=782, v_num=1]\n"
     ]
    },
    {
     "name": "stderr",
     "output_type": "stream",
     "text": [
      "GPU available: True, used: True\n",
      "TPU available: False, using: 0 TPU cores\n",
      "LOCAL_RANK: 0 - CUDA_VISIBLE_DEVICES: [0]\n"
     ]
    },
    {
     "name": "stdout",
     "output_type": "stream",
     "text": [
      "training model for n_latent_value: 10\n",
      "Epoch 164/164: 100%|██████████████████████████████████████████████████████████████████████| 164/164 [09:13<00:00,  3.37s/it, loss=786, v_num=1]\n"
     ]
    },
    {
     "name": "stderr",
     "output_type": "stream",
     "text": [
      "GPU available: True, used: True\n",
      "TPU available: False, using: 0 TPU cores\n",
      "LOCAL_RANK: 0 - CUDA_VISIBLE_DEVICES: [0]\n"
     ]
    },
    {
     "name": "stdout",
     "output_type": "stream",
     "text": [
      "training model for n_latent_value: 15\n",
      "Epoch 164/164: 100%|██████████████████████████████████████████████████████████████████████| 164/164 [09:13<00:00,  3.37s/it, loss=771, v_num=1]\n"
     ]
    },
    {
     "name": "stderr",
     "output_type": "stream",
     "text": [
      "GPU available: True, used: True\n",
      "TPU available: False, using: 0 TPU cores\n",
      "LOCAL_RANK: 0 - CUDA_VISIBLE_DEVICES: [0]\n"
     ]
    },
    {
     "name": "stdout",
     "output_type": "stream",
     "text": [
      "training model for n_latent_value: 20\n",
      "Epoch 164/164: 100%|██████████████████████████████████████████████████████████████████████| 164/164 [09:13<00:00,  3.38s/it, loss=771, v_num=1]\n"
     ]
    },
    {
     "name": "stderr",
     "output_type": "stream",
     "text": [
      "GPU available: True, used: True\n",
      "TPU available: False, using: 0 TPU cores\n",
      "LOCAL_RANK: 0 - CUDA_VISIBLE_DEVICES: [0]\n"
     ]
    },
    {
     "name": "stdout",
     "output_type": "stream",
     "text": [
      "training model for n_latent_value: 30\n",
      "Epoch 164/164: 100%|██████████████████████████████████████████████████████████████████████| 164/164 [09:14<00:00,  3.38s/it, loss=781, v_num=1]\n"
     ]
    },
    {
     "name": "stderr",
     "output_type": "stream",
     "text": [
      "GPU available: True, used: True\n",
      "TPU available: False, using: 0 TPU cores\n",
      "LOCAL_RANK: 0 - CUDA_VISIBLE_DEVICES: [0]\n"
     ]
    },
    {
     "name": "stdout",
     "output_type": "stream",
     "text": [
      "training model for n_latent_value: 40\n",
      "Epoch 164/164: 100%|██████████████████████████████████████████████████████████████████████| 164/164 [09:14<00:00,  3.38s/it, loss=766, v_num=1]\n"
     ]
    }
   ],
   "source": [
    "latent_representations = {}\n",
    "\n",
    "for n_latent_value in n_latent_values:\n",
    "    print('training model for n_latent_value:', n_latent_value)\n",
    "    models[n_latent_value].train()\n",
    "    \n",
    "    # get latent representation as a dataframe\n",
    "    latent_representations[n_latent_value] = models[n_latent_value].get_latent_representation()\n",
    "    \n",
    "    # add it to the adata object\n",
    "    adata.obsm[\"X_scVI_n_latent_\" + str(n_latent_value)] = latent_representations[n_latent_value]\n",
    "    curr_df = pd.DataFrame(adata.obsm[\"X_scVI_n_latent_\" + str(n_latent_value)])\n",
    "    \n",
    "    # save the latent representation\n",
    "    curr_df.to_csv('./20210720_obsm_with_scVI_latent_representation_n_' + str(n_latent_value) + '_NO_CYTONIKE_after_CCG_removal_and_all_doublet_exclusion.csv')"
   ]
  },
  {
   "cell_type": "code",
   "execution_count": null,
   "metadata": {},
   "outputs": [],
   "source": []
  },
  {
   "cell_type": "code",
   "execution_count": null,
   "metadata": {},
   "outputs": [],
   "source": []
  },
  {
   "cell_type": "code",
   "execution_count": null,
   "metadata": {},
   "outputs": [],
   "source": []
  },
  {
   "cell_type": "markdown",
   "metadata": {},
   "source": [
    "## Running scVI also for `donor` + `sample` batch correction"
   ]
  },
  {
   "cell_type": "markdown",
   "metadata": {},
   "source": [
    "#### Here you can specify your covariates you want to correct for (categorical or continuous)"
   ]
  },
  {
   "cell_type": "code",
   "execution_count": 20,
   "metadata": {
    "scrolled": true
   },
   "outputs": [
    {
     "name": "stdout",
     "output_type": "stream",
     "text": [
      "\u001b[34mINFO    \u001b[0m No batch_key inputted, assuming all cells are same batch                            \n",
      "\u001b[34mINFO    \u001b[0m No label_key inputted, assuming all cells have same label                           \n",
      "\u001b[34mINFO    \u001b[0m Using data from adata.layers\u001b[1m[\u001b[0m\u001b[32m\"raw_counts\"\u001b[0m\u001b[1m]\u001b[0m                                          \n",
      "\u001b[34mINFO    \u001b[0m Computing library size prior per batch                                              \n",
      "\u001b[34mINFO    \u001b[0m Successfully registered anndata object containing \u001b[1;36m48676\u001b[0m cells, \u001b[1;36m2000\u001b[0m vars, \u001b[1;36m1\u001b[0m batches,\n",
      "         \u001b[1;36m1\u001b[0m labels, and \u001b[1;36m0\u001b[0m proteins. Also registered \u001b[1;36m2\u001b[0m extra categorical covariates and \u001b[1;36m0\u001b[0m extra\n",
      "         continuous covariates.                                                              \n",
      "\u001b[34mINFO    \u001b[0m Please do not further modify adata until model is trained.                          \n"
     ]
    }
   ],
   "source": [
    "scvi.data.setup_anndata(\n",
    "    adata,\n",
    "    layer=\"raw_counts\",\n",
    "    categorical_covariate_keys=[\"donor\",\"sample\"],\n",
    "    #continuous_covariate_keys=[\"\"] # could try and regress n_genes in the future? not for now\n",
    ")"
   ]
  },
  {
   "cell_type": "markdown",
   "metadata": {},
   "source": [
    "### Running scVI after removing cell cycle-associated genes (calculated in M2 notebook) and exclusion of all doublets including those by GEX (marked in M3 notebook)"
   ]
  },
  {
   "cell_type": "code",
   "execution_count": 21,
   "metadata": {},
   "outputs": [
    {
     "name": "stdout",
     "output_type": "stream",
     "text": [
      "n_latent_value 5\n",
      "n_latent_value 10\n",
      "n_latent_value 15\n",
      "n_latent_value 20\n",
      "n_latent_value 30\n",
      "n_latent_value 40\n"
     ]
    }
   ],
   "source": [
    "models = {}\n",
    "\n",
    "# Valentina said n_latent = 10 worked for her well, let's try a few values\n",
    "n_latent_values = [5, 10, 15, 20, 30, 40]\n",
    "\n",
    "for n_latent_value in n_latent_values:\n",
    "    print('n_latent_value', n_latent_value)\n",
    "    models[n_latent_value] = scvi.model.SCVI(adata, n_latent = n_latent_value)"
   ]
  },
  {
   "cell_type": "code",
   "execution_count": 22,
   "metadata": {},
   "outputs": [
    {
     "data": {
      "text/html": [
       "<pre style=\"white-space:pre;overflow-x:auto;line-height:normal;font-family:Menlo,'DejaVu Sans Mono',consolas,'Courier New',monospace\">SCVI Model with the following params: \n",
       "n_hidden: <span style=\"color: #008080; text-decoration-color: #008080; font-weight: bold\">128</span>, n_latent: <span style=\"color: #008080; text-decoration-color: #008080; font-weight: bold\">5</span>, n_layers: <span style=\"color: #008080; text-decoration-color: #008080; font-weight: bold\">1</span>, dropout_rate: <span style=\"color: #008080; text-decoration-color: #008080; font-weight: bold\">0.1</span>, dispersion: gene, \n",
       "gene_likelihood: zinb, latent_distribution: normal\n",
       "Training status: Not Trained\n",
       "</pre>\n"
      ],
      "text/plain": [
       "SCVI Model with the following params: \n",
       "n_hidden: \u001b[1;36m128\u001b[0m, n_latent: \u001b[1;36m5\u001b[0m, n_layers: \u001b[1;36m1\u001b[0m, dropout_rate: \u001b[1;36m0.1\u001b[0m, dispersion: gene, \n",
       "gene_likelihood: zinb, latent_distribution: normal\n",
       "Training status: Not Trained\n"
      ]
     },
     "metadata": {},
     "output_type": "display_data"
    },
    {
     "data": {
      "text/html": [
       "<pre style=\"white-space:pre;overflow-x:auto;line-height:normal;font-family:Menlo,'DejaVu Sans Mono',consolas,'Courier New',monospace\">\n",
       "\n",
       "To print summary of associated AnnData, use: <span style=\"color: #af00d7; text-decoration-color: #af00d7\">scvi.data.view_anndata_setup(model.adata)</span>\n",
       "</pre>\n"
      ],
      "text/plain": [
       "\n",
       "\n",
       "To print summary of associated AnnData, use: \u001b[38;5;128mscvi.data.view_anndata_setup(model.adata)\u001b[0m\n"
      ]
     },
     "metadata": {},
     "output_type": "display_data"
    },
    {
     "data": {
      "text/plain": []
     },
     "execution_count": 22,
     "metadata": {},
     "output_type": "execute_result"
    }
   ],
   "source": [
    "models[5]"
   ]
  },
  {
   "cell_type": "code",
   "execution_count": 23,
   "metadata": {},
   "outputs": [
    {
     "data": {
      "text/html": [
       "<pre style=\"white-space:pre;overflow-x:auto;line-height:normal;font-family:Menlo,'DejaVu Sans Mono',consolas,'Courier New',monospace\">SCVI Model with the following params: \n",
       "n_hidden: <span style=\"color: #008080; text-decoration-color: #008080; font-weight: bold\">128</span>, n_latent: <span style=\"color: #008080; text-decoration-color: #008080; font-weight: bold\">10</span>, n_layers: <span style=\"color: #008080; text-decoration-color: #008080; font-weight: bold\">1</span>, dropout_rate: <span style=\"color: #008080; text-decoration-color: #008080; font-weight: bold\">0.1</span>, dispersion: gene, \n",
       "gene_likelihood: zinb, latent_distribution: normal\n",
       "Training status: Not Trained\n",
       "</pre>\n"
      ],
      "text/plain": [
       "SCVI Model with the following params: \n",
       "n_hidden: \u001b[1;36m128\u001b[0m, n_latent: \u001b[1;36m10\u001b[0m, n_layers: \u001b[1;36m1\u001b[0m, dropout_rate: \u001b[1;36m0.1\u001b[0m, dispersion: gene, \n",
       "gene_likelihood: zinb, latent_distribution: normal\n",
       "Training status: Not Trained\n"
      ]
     },
     "metadata": {},
     "output_type": "display_data"
    },
    {
     "data": {
      "text/html": [
       "<pre style=\"white-space:pre;overflow-x:auto;line-height:normal;font-family:Menlo,'DejaVu Sans Mono',consolas,'Courier New',monospace\">\n",
       "\n",
       "To print summary of associated AnnData, use: <span style=\"color: #af00d7; text-decoration-color: #af00d7\">scvi.data.view_anndata_setup(model.adata)</span>\n",
       "</pre>\n"
      ],
      "text/plain": [
       "\n",
       "\n",
       "To print summary of associated AnnData, use: \u001b[38;5;128mscvi.data.view_anndata_setup(model.adata)\u001b[0m\n"
      ]
     },
     "metadata": {},
     "output_type": "display_data"
    },
    {
     "data": {
      "text/plain": []
     },
     "execution_count": 23,
     "metadata": {},
     "output_type": "execute_result"
    }
   ],
   "source": [
    "models[10]"
   ]
  },
  {
   "cell_type": "code",
   "execution_count": 24,
   "metadata": {},
   "outputs": [
    {
     "data": {
      "text/html": [
       "<pre style=\"white-space:pre;overflow-x:auto;line-height:normal;font-family:Menlo,'DejaVu Sans Mono',consolas,'Courier New',monospace\">SCVI Model with the following params: \n",
       "n_hidden: <span style=\"color: #008080; text-decoration-color: #008080; font-weight: bold\">128</span>, n_latent: <span style=\"color: #008080; text-decoration-color: #008080; font-weight: bold\">15</span>, n_layers: <span style=\"color: #008080; text-decoration-color: #008080; font-weight: bold\">1</span>, dropout_rate: <span style=\"color: #008080; text-decoration-color: #008080; font-weight: bold\">0.1</span>, dispersion: gene, \n",
       "gene_likelihood: zinb, latent_distribution: normal\n",
       "Training status: Not Trained\n",
       "</pre>\n"
      ],
      "text/plain": [
       "SCVI Model with the following params: \n",
       "n_hidden: \u001b[1;36m128\u001b[0m, n_latent: \u001b[1;36m15\u001b[0m, n_layers: \u001b[1;36m1\u001b[0m, dropout_rate: \u001b[1;36m0.1\u001b[0m, dispersion: gene, \n",
       "gene_likelihood: zinb, latent_distribution: normal\n",
       "Training status: Not Trained\n"
      ]
     },
     "metadata": {},
     "output_type": "display_data"
    },
    {
     "data": {
      "text/html": [
       "<pre style=\"white-space:pre;overflow-x:auto;line-height:normal;font-family:Menlo,'DejaVu Sans Mono',consolas,'Courier New',monospace\">\n",
       "\n",
       "To print summary of associated AnnData, use: <span style=\"color: #af00d7; text-decoration-color: #af00d7\">scvi.data.view_anndata_setup(model.adata)</span>\n",
       "</pre>\n"
      ],
      "text/plain": [
       "\n",
       "\n",
       "To print summary of associated AnnData, use: \u001b[38;5;128mscvi.data.view_anndata_setup(model.adata)\u001b[0m\n"
      ]
     },
     "metadata": {},
     "output_type": "display_data"
    },
    {
     "data": {
      "text/plain": []
     },
     "execution_count": 24,
     "metadata": {},
     "output_type": "execute_result"
    }
   ],
   "source": [
    "models[15]"
   ]
  },
  {
   "cell_type": "code",
   "execution_count": 25,
   "metadata": {},
   "outputs": [
    {
     "data": {
      "text/html": [
       "<pre style=\"white-space:pre;overflow-x:auto;line-height:normal;font-family:Menlo,'DejaVu Sans Mono',consolas,'Courier New',monospace\">SCVI Model with the following params: \n",
       "n_hidden: <span style=\"color: #008080; text-decoration-color: #008080; font-weight: bold\">128</span>, n_latent: <span style=\"color: #008080; text-decoration-color: #008080; font-weight: bold\">20</span>, n_layers: <span style=\"color: #008080; text-decoration-color: #008080; font-weight: bold\">1</span>, dropout_rate: <span style=\"color: #008080; text-decoration-color: #008080; font-weight: bold\">0.1</span>, dispersion: gene, \n",
       "gene_likelihood: zinb, latent_distribution: normal\n",
       "Training status: Not Trained\n",
       "</pre>\n"
      ],
      "text/plain": [
       "SCVI Model with the following params: \n",
       "n_hidden: \u001b[1;36m128\u001b[0m, n_latent: \u001b[1;36m20\u001b[0m, n_layers: \u001b[1;36m1\u001b[0m, dropout_rate: \u001b[1;36m0.1\u001b[0m, dispersion: gene, \n",
       "gene_likelihood: zinb, latent_distribution: normal\n",
       "Training status: Not Trained\n"
      ]
     },
     "metadata": {},
     "output_type": "display_data"
    },
    {
     "data": {
      "text/html": [
       "<pre style=\"white-space:pre;overflow-x:auto;line-height:normal;font-family:Menlo,'DejaVu Sans Mono',consolas,'Courier New',monospace\">\n",
       "\n",
       "To print summary of associated AnnData, use: <span style=\"color: #af00d7; text-decoration-color: #af00d7\">scvi.data.view_anndata_setup(model.adata)</span>\n",
       "</pre>\n"
      ],
      "text/plain": [
       "\n",
       "\n",
       "To print summary of associated AnnData, use: \u001b[38;5;128mscvi.data.view_anndata_setup(model.adata)\u001b[0m\n"
      ]
     },
     "metadata": {},
     "output_type": "display_data"
    },
    {
     "data": {
      "text/plain": []
     },
     "execution_count": 25,
     "metadata": {},
     "output_type": "execute_result"
    }
   ],
   "source": [
    "models[20]"
   ]
  },
  {
   "cell_type": "code",
   "execution_count": 26,
   "metadata": {},
   "outputs": [
    {
     "data": {
      "text/html": [
       "<pre style=\"white-space:pre;overflow-x:auto;line-height:normal;font-family:Menlo,'DejaVu Sans Mono',consolas,'Courier New',monospace\">SCVI Model with the following params: \n",
       "n_hidden: <span style=\"color: #008080; text-decoration-color: #008080; font-weight: bold\">128</span>, n_latent: <span style=\"color: #008080; text-decoration-color: #008080; font-weight: bold\">30</span>, n_layers: <span style=\"color: #008080; text-decoration-color: #008080; font-weight: bold\">1</span>, dropout_rate: <span style=\"color: #008080; text-decoration-color: #008080; font-weight: bold\">0.1</span>, dispersion: gene, \n",
       "gene_likelihood: zinb, latent_distribution: normal\n",
       "Training status: Not Trained\n",
       "</pre>\n"
      ],
      "text/plain": [
       "SCVI Model with the following params: \n",
       "n_hidden: \u001b[1;36m128\u001b[0m, n_latent: \u001b[1;36m30\u001b[0m, n_layers: \u001b[1;36m1\u001b[0m, dropout_rate: \u001b[1;36m0.1\u001b[0m, dispersion: gene, \n",
       "gene_likelihood: zinb, latent_distribution: normal\n",
       "Training status: Not Trained\n"
      ]
     },
     "metadata": {},
     "output_type": "display_data"
    },
    {
     "data": {
      "text/html": [
       "<pre style=\"white-space:pre;overflow-x:auto;line-height:normal;font-family:Menlo,'DejaVu Sans Mono',consolas,'Courier New',monospace\">\n",
       "\n",
       "To print summary of associated AnnData, use: <span style=\"color: #af00d7; text-decoration-color: #af00d7\">scvi.data.view_anndata_setup(model.adata)</span>\n",
       "</pre>\n"
      ],
      "text/plain": [
       "\n",
       "\n",
       "To print summary of associated AnnData, use: \u001b[38;5;128mscvi.data.view_anndata_setup(model.adata)\u001b[0m\n"
      ]
     },
     "metadata": {},
     "output_type": "display_data"
    },
    {
     "data": {
      "text/plain": []
     },
     "execution_count": 26,
     "metadata": {},
     "output_type": "execute_result"
    }
   ],
   "source": [
    "models[30]"
   ]
  },
  {
   "cell_type": "code",
   "execution_count": 27,
   "metadata": {},
   "outputs": [
    {
     "data": {
      "text/html": [
       "<pre style=\"white-space:pre;overflow-x:auto;line-height:normal;font-family:Menlo,'DejaVu Sans Mono',consolas,'Courier New',monospace\">SCVI Model with the following params: \n",
       "n_hidden: <span style=\"color: #008080; text-decoration-color: #008080; font-weight: bold\">128</span>, n_latent: <span style=\"color: #008080; text-decoration-color: #008080; font-weight: bold\">40</span>, n_layers: <span style=\"color: #008080; text-decoration-color: #008080; font-weight: bold\">1</span>, dropout_rate: <span style=\"color: #008080; text-decoration-color: #008080; font-weight: bold\">0.1</span>, dispersion: gene, \n",
       "gene_likelihood: zinb, latent_distribution: normal\n",
       "Training status: Not Trained\n",
       "</pre>\n"
      ],
      "text/plain": [
       "SCVI Model with the following params: \n",
       "n_hidden: \u001b[1;36m128\u001b[0m, n_latent: \u001b[1;36m40\u001b[0m, n_layers: \u001b[1;36m1\u001b[0m, dropout_rate: \u001b[1;36m0.1\u001b[0m, dispersion: gene, \n",
       "gene_likelihood: zinb, latent_distribution: normal\n",
       "Training status: Not Trained\n"
      ]
     },
     "metadata": {},
     "output_type": "display_data"
    },
    {
     "data": {
      "text/html": [
       "<pre style=\"white-space:pre;overflow-x:auto;line-height:normal;font-family:Menlo,'DejaVu Sans Mono',consolas,'Courier New',monospace\">\n",
       "\n",
       "To print summary of associated AnnData, use: <span style=\"color: #af00d7; text-decoration-color: #af00d7\">scvi.data.view_anndata_setup(model.adata)</span>\n",
       "</pre>\n"
      ],
      "text/plain": [
       "\n",
       "\n",
       "To print summary of associated AnnData, use: \u001b[38;5;128mscvi.data.view_anndata_setup(model.adata)\u001b[0m\n"
      ]
     },
     "metadata": {},
     "output_type": "display_data"
    },
    {
     "data": {
      "text/plain": []
     },
     "execution_count": 27,
     "metadata": {},
     "output_type": "execute_result"
    }
   ],
   "source": [
    "models[40]"
   ]
  },
  {
   "cell_type": "code",
   "execution_count": 28,
   "metadata": {},
   "outputs": [
    {
     "data": {
      "text/plain": [
       "barcode_sample\n",
       "AAACCCAAGCTAGTTC-1_6044STDY8640561     0\n",
       "AAACCCACAAAGTGTA-1_6044STDY8640561     0\n",
       "AAACCCAGTGCACGCT-1_6044STDY8640561     0\n",
       "AAACCCAGTTGGCCTG-1_6044STDY8640561     0\n",
       "AAACGAAAGCTCCACG-1_6044STDY8640561     0\n",
       "                                      ..\n",
       "TTTGTTGGTATCGGTT-1_Pla_Camb10123934    0\n",
       "TTTGTTGGTTGTGGCC-1_Pla_Camb10123934    0\n",
       "TTTGTTGTCAAGAGTA-1_Pla_Camb10123934    0\n",
       "TTTGTTGTCCAATCTT-1_Pla_Camb10123934    0\n",
       "TTTGTTGTCGCATTAG-1_Pla_Camb10123934    0\n",
       "Name: _scvi_batch, Length: 48676, dtype: int8"
      ]
     },
     "execution_count": 28,
     "metadata": {},
     "output_type": "execute_result"
    }
   ],
   "source": [
    "adata.obs['_scvi_batch']"
   ]
  },
  {
   "cell_type": "code",
   "execution_count": 29,
   "metadata": {
    "scrolled": true
   },
   "outputs": [
    {
     "name": "stderr",
     "output_type": "stream",
     "text": [
      "GPU available: True, used: True\n",
      "TPU available: False, using: 0 TPU cores\n",
      "LOCAL_RANK: 0 - CUDA_VISIBLE_DEVICES: [0]\n"
     ]
    },
    {
     "name": "stdout",
     "output_type": "stream",
     "text": [
      "training model for n_latent_value: 5\n",
      "Epoch 164/164: 100%|██████████████████████████████████████████████████████████████████████| 164/164 [16:36<00:00,  6.08s/it, loss=957, v_num=1]\n"
     ]
    },
    {
     "name": "stderr",
     "output_type": "stream",
     "text": [
      "GPU available: True, used: True\n",
      "TPU available: False, using: 0 TPU cores\n",
      "LOCAL_RANK: 0 - CUDA_VISIBLE_DEVICES: [0]\n"
     ]
    },
    {
     "name": "stdout",
     "output_type": "stream",
     "text": [
      "training model for n_latent_value: 10\n",
      "Epoch 164/164: 100%|██████████████████████████████████████████████████████████| 164/164 [18:56<00:00,  6.93s/it, loss=906, v_num=1]\n"
     ]
    },
    {
     "name": "stderr",
     "output_type": "stream",
     "text": [
      "GPU available: True, used: True\n",
      "TPU available: False, using: 0 TPU cores\n",
      "LOCAL_RANK: 0 - CUDA_VISIBLE_DEVICES: [0]\n"
     ]
    },
    {
     "name": "stdout",
     "output_type": "stream",
     "text": [
      "training model for n_latent_value: 15\n",
      "Epoch 164/164: 100%|██████████████████████████████████████████████████████████| 164/164 [18:48<00:00,  6.88s/it, loss=921, v_num=1]\n"
     ]
    },
    {
     "name": "stderr",
     "output_type": "stream",
     "text": [
      "GPU available: True, used: True\n",
      "TPU available: False, using: 0 TPU cores\n",
      "LOCAL_RANK: 0 - CUDA_VISIBLE_DEVICES: [0]\n"
     ]
    },
    {
     "name": "stdout",
     "output_type": "stream",
     "text": [
      "training model for n_latent_value: 20\n",
      "Epoch 164/164: 100%|██████████████████████████████████████████████████████████| 164/164 [18:48<00:00,  6.88s/it, loss=912, v_num=1]\n"
     ]
    },
    {
     "name": "stderr",
     "output_type": "stream",
     "text": [
      "GPU available: True, used: True\n",
      "TPU available: False, using: 0 TPU cores\n",
      "LOCAL_RANK: 0 - CUDA_VISIBLE_DEVICES: [0]\n"
     ]
    },
    {
     "name": "stdout",
     "output_type": "stream",
     "text": [
      "training model for n_latent_value: 30\n",
      "Epoch 164/164: 100%|██████████████████████████████████████████████████████████| 164/164 [18:48<00:00,  6.88s/it, loss=912, v_num=1]\n"
     ]
    },
    {
     "name": "stderr",
     "output_type": "stream",
     "text": [
      "GPU available: True, used: True\n",
      "TPU available: False, using: 0 TPU cores\n",
      "LOCAL_RANK: 0 - CUDA_VISIBLE_DEVICES: [0]\n"
     ]
    },
    {
     "name": "stdout",
     "output_type": "stream",
     "text": [
      "training model for n_latent_value: 40\n",
      "Epoch 164/164: 100%|██████████████████████████████████████████████████████████| 164/164 [18:49<00:00,  6.89s/it, loss=896, v_num=1]\n"
     ]
    }
   ],
   "source": [
    "latent_representations = {}\n",
    "\n",
    "for n_latent_value in n_latent_values:\n",
    "    print('training model for n_latent_value:', n_latent_value)\n",
    "    models[n_latent_value].train()\n",
    "    \n",
    "    # get latent representation as a dataframe\n",
    "    latent_representations[n_latent_value] = models[n_latent_value].get_latent_representation()\n",
    "    \n",
    "    # add it to the adata object\n",
    "    adata.obsm[\"X_scVI_n_latent_\" + str(n_latent_value)] = latent_representations[n_latent_value]\n",
    "    curr_df = pd.DataFrame(adata.obsm[\"X_scVI_n_latent_\" + str(n_latent_value)])\n",
    "    \n",
    "    # save the latent representation\n",
    "    curr_df.to_csv('./20210720_obsm_with_scVI_latent_representation_n_' + str(n_latent_value) + '_NO_CYTONIKE_after_CCG_removal_and_all_doublet_exclusion_by_donor_sample.csv')"
   ]
  },
  {
   "cell_type": "code",
   "execution_count": null,
   "metadata": {},
   "outputs": [],
   "source": []
  },
  {
   "cell_type": "code",
   "execution_count": null,
   "metadata": {},
   "outputs": [],
   "source": []
  },
  {
   "cell_type": "code",
   "execution_count": null,
   "metadata": {},
   "outputs": [],
   "source": []
  },
  {
   "cell_type": "code",
   "execution_count": null,
   "metadata": {},
   "outputs": [],
   "source": []
  },
  {
   "cell_type": "code",
   "execution_count": null,
   "metadata": {},
   "outputs": [],
   "source": []
  },
  {
   "cell_type": "code",
   "execution_count": null,
   "metadata": {},
   "outputs": [],
   "source": []
  },
  {
   "cell_type": "code",
   "execution_count": null,
   "metadata": {},
   "outputs": [],
   "source": []
  },
  {
   "cell_type": "code",
   "execution_count": null,
   "metadata": {},
   "outputs": [],
   "source": []
  },
  {
   "cell_type": "code",
   "execution_count": null,
   "metadata": {},
   "outputs": [],
   "source": []
  },
  {
   "cell_type": "code",
   "execution_count": null,
   "metadata": {},
   "outputs": [],
   "source": []
  },
  {
   "cell_type": "code",
   "execution_count": null,
   "metadata": {},
   "outputs": [],
   "source": []
  },
  {
   "cell_type": "code",
   "execution_count": null,
   "metadata": {},
   "outputs": [],
   "source": []
  }
 ],
 "metadata": {
  "kernelspec": {
   "display_name": "Python 3 (ipykernel)",
   "language": "python",
   "name": "python3"
  },
  "language_info": {
   "codemirror_mode": {
    "name": "ipython",
    "version": 3
   },
   "file_extension": ".py",
   "mimetype": "text/x-python",
   "name": "python",
   "nbconvert_exporter": "python",
   "pygments_lexer": "ipython3",
   "version": "3.8.0"
  }
 },
 "nbformat": 4,
 "nbformat_minor": 4
}
